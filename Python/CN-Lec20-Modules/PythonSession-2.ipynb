{
 "cells": [
  {
   "cell_type": "markdown",
   "id": "37127eac-2612-40c3-9130-20e79fbf4b28",
   "metadata": {},
   "source": [
    "# Lambda Function : \n",
    "##### A lambda is a short, one-line anonymous function used for small operations without using def.\n",
    "\n",
    "### Syntax : \n",
    "- `lambda arguments: expression`"
   ]
  },
  {
   "cell_type": "code",
   "execution_count": 1,
   "id": "6119d0e6-633f-4354-830e-eabba02bb71e",
   "metadata": {},
   "outputs": [
    {
     "name": "stdout",
     "output_type": "stream",
     "text": [
      "121\n"
     ]
    }
   ],
   "source": [
    "square = lambda val : val ** 2\n",
    "print(square(11))"
   ]
  },
  {
   "cell_type": "code",
   "execution_count": 2,
   "id": "1a275686-af99-46d8-9c72-03c8eceda472",
   "metadata": {},
   "outputs": [
    {
     "data": {
      "text/plain": [
       "441"
      ]
     },
     "execution_count": 2,
     "metadata": {},
     "output_type": "execute_result"
    }
   ],
   "source": [
    "square(21)"
   ]
  },
  {
   "cell_type": "code",
   "execution_count": 3,
   "id": "19f8362a-9d16-40a3-b503-ad85d5a5338a",
   "metadata": {},
   "outputs": [
    {
     "data": {
      "text/plain": [
       "5.0"
      ]
     },
     "execution_count": 3,
     "metadata": {},
     "output_type": "execute_result"
    }
   ],
   "source": [
    "division = lambda a,b : a/b\n",
    "division(10,2)"
   ]
  },
  {
   "cell_type": "code",
   "execution_count": 4,
   "id": "19ded667-193b-4823-9bf0-ef7bc3ea460d",
   "metadata": {},
   "outputs": [
    {
     "data": {
      "text/plain": [
       "3.5"
      ]
     },
     "execution_count": 4,
     "metadata": {},
     "output_type": "execute_result"
    }
   ],
   "source": [
    "division(7,2)"
   ]
  },
  {
   "cell_type": "code",
   "execution_count": 6,
   "id": "1715a492-8d4d-497c-9438-8d8ad84f079a",
   "metadata": {},
   "outputs": [
    {
     "name": "stdout",
     "output_type": "stream",
     "text": [
      "2\n"
     ]
    }
   ],
   "source": [
    "remainder = lambda p,q : p % q\n",
    "result = remainder(17,3)\n",
    "print(result)"
   ]
  },
  {
   "cell_type": "code",
   "execution_count": 7,
   "id": "961e7d58-2ac8-49da-ae4a-ca804a4446ee",
   "metadata": {},
   "outputs": [
    {
     "data": {
      "text/plain": [
       "111"
      ]
     },
     "execution_count": 7,
     "metadata": {},
     "output_type": "execute_result"
    }
   ],
   "source": [
    "add_10 = lambda z : z + 10\n",
    "add_10(101)"
   ]
  },
  {
   "cell_type": "code",
   "execution_count": 8,
   "id": "4e95b015-876f-44e9-9a8b-ee92323df585",
   "metadata": {},
   "outputs": [
    {
     "data": {
      "text/plain": [
       "30"
      ]
     },
     "execution_count": 8,
     "metadata": {},
     "output_type": "execute_result"
    }
   ],
   "source": [
    "# Lambda with Higher Order Functions\n",
    "def multiplier_factory(factor):\n",
    "    return lambda val : val * factor\n",
    "\n",
    "triple_value = multiplier_factory(3) # lambda val : val * factor\n",
    "triple_value(10) # 30"
   ]
  },
  {
   "cell_type": "code",
   "execution_count": 9,
   "id": "9c9aed48-eb08-492c-b1db-5dac87383345",
   "metadata": {},
   "outputs": [
    {
     "data": {
      "text/plain": [
       "22"
      ]
     },
     "execution_count": 9,
     "metadata": {},
     "output_type": "execute_result"
    }
   ],
   "source": [
    "double_value = multiplier_factory(2) # factor = 2 \n",
    "# return lambda val : val * 2\n",
    "double_value(11)"
   ]
  },
  {
   "cell_type": "raw",
   "id": "37168485-2521-499a-bcd2-7ff7290b9785",
   "metadata": {},
   "source": [
    "try:\n",
    "    pass\n",
    "except <ErrorName> :\n",
    "    pass"
   ]
  },
  {
   "cell_type": "code",
   "execution_count": 10,
   "id": "6b276588-f7bc-48fb-8910-b4d29c67ae74",
   "metadata": {},
   "outputs": [
    {
     "name": "stdin",
     "output_type": "stream",
     "text": [
      "Please enter a Divisor:  10\n"
     ]
    },
    {
     "name": "stdout",
     "output_type": "stream",
     "text": [
      "The Calculated Value is 10.0.\n"
     ]
    }
   ],
   "source": [
    "try : \n",
    "    num = int(input(\"Please enter a Divisor: \"))\n",
    "    result = 100 / num\n",
    "    print(f\"The Calculated Value is {result}.\")\n",
    "except SyntaxError:\n",
    "    print(\"Fix the System\")"
   ]
  },
  {
   "cell_type": "code",
   "execution_count": 14,
   "id": "aa024ac4-deeb-4ac5-b2a9-2b6fcb4576d2",
   "metadata": {},
   "outputs": [
    {
     "name": "stdin",
     "output_type": "stream",
     "text": [
      "Please enter the Divisor: a\n"
     ]
    },
    {
     "name": "stdout",
     "output_type": "stream",
     "text": [
      "This is not a Valid Number, Please Enter the Digit Only...\n"
     ]
    }
   ],
   "source": [
    "try:\n",
    "    num = int(input(\"Please enter the Divisor:\"))\n",
    "    result = 100/num\n",
    "    print(f'The Calculated Values is {result}')\n",
    "except ValueError:\n",
    "    print(\"This is not a Valid Number, Please Enter the Digit Only...\")"
   ]
  },
  {
   "cell_type": "code",
   "execution_count": 17,
   "id": "8e1e990f-3aa6-4a0d-95fb-fe6819992cd2",
   "metadata": {},
   "outputs": [
    {
     "name": "stdin",
     "output_type": "stream",
     "text": [
      "Please enter the Divisor: 0\n"
     ]
    },
    {
     "name": "stdout",
     "output_type": "stream",
     "text": [
      "Division By Zero is not allowed...\n"
     ]
    }
   ],
   "source": [
    "try:\n",
    "    num = int(input(\"Please enter the Divisor:\"))\n",
    "    result = 100/num\n",
    "    print(f'The Calculated Values is {result}')\n",
    "except ValueError:\n",
    "    print(\"This is not a Valid Number, Please Enter the Digit Only...\")\n",
    "except ZeroDivisionError:\n",
    "    print(\"Division By Zero is not allowed...\")"
   ]
  },
  {
   "cell_type": "code",
   "execution_count": 18,
   "id": "4bd8661f-574f-4118-ab4d-4de239ca22f8",
   "metadata": {},
   "outputs": [
    {
     "name": "stdin",
     "output_type": "stream",
     "text": [
      "Please enter the Divisor: a\n"
     ]
    },
    {
     "name": "stdout",
     "output_type": "stream",
     "text": [
      "Please Enter A Valid Number and Avoid Dividing by Zero...\n"
     ]
    }
   ],
   "source": [
    "# Multiple Exception in one Block:\n",
    "try:\n",
    "    num = int(input(\"Please enter the Divisor:\"))\n",
    "    result = 100/num\n",
    "    print(f'The Calculated Values is {result}')\n",
    "except (ValueError, ZeroDivisionError):\n",
    "    print(\"Please Enter A Valid Number and Avoid Dividing by Zero...\")"
   ]
  },
  {
   "cell_type": "code",
   "execution_count": 19,
   "id": "fcbc67b9-8c18-4075-8639-32895e263fb7",
   "metadata": {},
   "outputs": [
    {
     "name": "stdin",
     "output_type": "stream",
     "text": [
      "Please enter the Divisor: 0\n"
     ]
    },
    {
     "name": "stdout",
     "output_type": "stream",
     "text": [
      "Please Enter A Valid Number and Avoid Dividing by Zero...\n"
     ]
    }
   ],
   "source": [
    "# Multiple Exception in one Block:\n",
    "try:\n",
    "    num = int(input(\"Please enter the Divisor:\"))\n",
    "    result = 100/num\n",
    "    print(f'The Calculated Values is {result}')\n",
    "except (ValueError, ZeroDivisionError):\n",
    "    print(\"Please Enter A Valid Number and Avoid Dividing by Zero...\")"
   ]
  },
  {
   "cell_type": "code",
   "execution_count": 28,
   "id": "cb8304b9-32e4-48e3-93e7-887d3229ea0f",
   "metadata": {},
   "outputs": [
    {
     "name": "stdin",
     "output_type": "stream",
     "text": [
      "Enter a Divisor: 0\n"
     ]
    },
    {
     "name": "stdout",
     "output_type": "stream",
     "text": [
      "Division By Zero is not allowed...\n"
     ]
    }
   ],
   "source": [
    "# Nested -> Try : Except:\n",
    "try:\n",
    "    val = int(input(\"Enter a Divisor:\"))\n",
    "    try:\n",
    "        ans = 50 / val\n",
    "        print(f\"Calculated Result : {ans}\")    \n",
    "    except ZeroDivisionError:\n",
    "        print(\"Division By Zero is not allowed...\") \n",
    "except ValueError :\n",
    "    print(\"This is not a Valid Number, Please Enter the Digit Only...\")\n",
    "except SyntaxError:\n",
    "    pass"
   ]
  },
  {
   "cell_type": "code",
   "execution_count": 31,
   "id": "74697015-3464-4b24-abf2-29a954eba470",
   "metadata": {},
   "outputs": [
    {
     "name": "stdin",
     "output_type": "stream",
     "text": [
      "Please enter the Divisor: 3\n"
     ]
    },
    {
     "name": "stdout",
     "output_type": "stream",
     "text": [
      "The Calculated Values is 33.333333333333336\n"
     ]
    }
   ],
   "source": [
    "# Avoiding error type is not recommended. Use Specific Exception names for clarity and debugging. \n",
    "try:\n",
    "    num = int(input(\"Please enter the Divisor:\"))\n",
    "    result = 100/num\n",
    "    print(f'The Calculated Values is {result}')\n",
    "except:\n",
    "    print(\"Please Enter A Valid Number and Avoid Dividing by Zero...\")"
   ]
  },
  {
   "cell_type": "code",
   "execution_count": 32,
   "id": "c70a8c6b-87dc-4abb-930e-b22ab197b433",
   "metadata": {},
   "outputs": [
    {
     "name": "stdin",
     "output_type": "stream",
     "text": [
      "Please enter the Divisor: 10\n"
     ]
    },
    {
     "name": "stdout",
     "output_type": "stream",
     "text": [
      "The Calculated Values is 10.0\n",
      "Operations Completed Successfully! The result is 10.0\n"
     ]
    }
   ],
   "source": [
    "try:\n",
    "    num = int(input(\"Please enter the Divisor:\"))\n",
    "    result = 100/num\n",
    "    print(f'The Calculated Values is {result}')\n",
    "except ValueError:\n",
    "    print(\"This is not a Valid Number, Please Enter the Digit Only...\")\n",
    "except ZeroDivisionError:\n",
    "    print(\"Division By Zero is not allowed...\")\n",
    "else:\n",
    "    print(f\"Operations Completed Successfully! The result is {result}\")"
   ]
  },
  {
   "cell_type": "code",
   "execution_count": 33,
   "id": "75371374-532d-4f91-b4ff-81288ef6f8bf",
   "metadata": {},
   "outputs": [
    {
     "name": "stdin",
     "output_type": "stream",
     "text": [
      "Please enter the Divisor: z\n"
     ]
    },
    {
     "name": "stdout",
     "output_type": "stream",
     "text": [
      "This is not a Valid Number, Please Enter the Digit Only...\n"
     ]
    }
   ],
   "source": [
    "try:\n",
    "    num = int(input(\"Please enter the Divisor:\"))\n",
    "    result = 100/num\n",
    "    print(f'The Calculated Values is {result}')\n",
    "except ValueError:\n",
    "    print(\"This is not a Valid Number, Please Enter the Digit Only...\")\n",
    "except ZeroDivisionError:\n",
    "    print(\"Division By Zero is not allowed...\")\n",
    "else:\n",
    "    print(f\"Operations Completed Successfully! The result is {result}\")"
   ]
  },
  {
   "cell_type": "code",
   "execution_count": 34,
   "id": "93fa33f8-4cdd-45aa-92df-3a92aaf15966",
   "metadata": {},
   "outputs": [
    {
     "name": "stdin",
     "output_type": "stream",
     "text": [
      "Enter a valid index:  7\n"
     ]
    },
    {
     "name": "stdout",
     "output_type": "stream",
     "text": [
      "IndexError: The Position you are trying to access doesn't exist....\n"
     ]
    }
   ],
   "source": [
    "# IndexError\n",
    "car_list = ['Taigun','Creta','Safari','Innova','Thar']\n",
    "try:\n",
    "    val = int(input(\"Enter a valid index: \"))\n",
    "    print(car_list[val]) # Index Error\n",
    "except IndexError:\n",
    "    print(\"IndexError: The Position you are trying to access doesn't exist....\")\n",
    "else:\n",
    "    print(\"Code Run Successfully....\")"
   ]
  },
  {
   "cell_type": "code",
   "execution_count": 35,
   "id": "a48b963b-28d1-4653-b618-461db94f5c4f",
   "metadata": {},
   "outputs": [
    {
     "name": "stdin",
     "output_type": "stream",
     "text": [
      "Enter a valid index:  -1\n"
     ]
    },
    {
     "name": "stdout",
     "output_type": "stream",
     "text": [
      "Thar\n",
      "Code Run Successfully....\n"
     ]
    }
   ],
   "source": [
    "# IndexError\n",
    "car_list = ['Taigun','Creta','Safari','Innova','Thar']\n",
    "try:\n",
    "    val = int(input(\"Enter a valid index: \"))\n",
    "    print(car_list[val]) # Index Error\n",
    "except IndexError:\n",
    "    print(\"IndexError: The Position you are trying to access doesn't exist....\")\n",
    "else:\n",
    "    print(\"Code Run Successfully....\")"
   ]
  },
  {
   "cell_type": "code",
   "execution_count": 37,
   "id": "bce4e91d-ccb3-477f-906e-4d061c9a0937",
   "metadata": {},
   "outputs": [
    {
     "name": "stdout",
     "output_type": "stream",
     "text": [
      "Attribute Error: 'dict' object has no method '.add' \n"
     ]
    }
   ],
   "source": [
    "# Attribute Error:\n",
    "person = {\n",
    "    'first_name' : 'Abhishek',\n",
    "    'age' : 29,\n",
    "    'city' : 'Kolkata'\n",
    "}\n",
    "try :\n",
    "     person.add('Country','India') # Attribute Error   \n",
    "except AttributeError:\n",
    "    print(\"Attribute Error: 'dict' object has no method '.add' \")\n",
    "else:\n",
    "    print('No Attribute Error Occurred, Your Try block Successfully run!')"
   ]
  },
  {
   "cell_type": "code",
   "execution_count": 38,
   "id": "49ec9f0f-7180-40bc-aa43-e8a6f4b754a2",
   "metadata": {},
   "outputs": [
    {
     "name": "stdout",
     "output_type": "stream",
     "text": [
      "{'first_name': 'Abhishek', 'age': 29, 'city': 'Kolkata', 'Country': 'India'}\n",
      "Key-Value Pair Added Successfully\n",
      "No Attribute Error Occurred, Your Try block Successfully run!\n"
     ]
    }
   ],
   "source": [
    "# Attribute Error:\n",
    "person = {\n",
    "    'first_name' : 'Abhishek',\n",
    "    'age' : 29,\n",
    "    'city' : 'Kolkata'\n",
    "}\n",
    "try :\n",
    "    person['Country'] = 'India' # Add Key Value Pair  \n",
    "    print(person)\n",
    "    print(\"Key-Value Pair Added Successfully\")\n",
    "except AttributeError:\n",
    "    print(\"Attribute Error: 'dict' object has no method '.add' \")\n",
    "else:\n",
    "    print('No Attribute Error Occurred, Your Try block Successfully run!')"
   ]
  },
  {
   "cell_type": "code",
   "execution_count": 44,
   "id": "fb30c47f-6620-45a0-b882-5071d4744f5e",
   "metadata": {},
   "outputs": [
    {
     "name": "stdout",
     "output_type": "stream",
     "text": [
      "The variable you are calling doesn't exist.\n"
     ]
    }
   ],
   "source": [
    "# NameError :\n",
    "person = {\n",
    "    'first_name' : 'Abhishek',\n",
    "    'age' : 29,\n",
    "    'city' : 'Kolkata'\n",
    "}\n",
    "try :\n",
    "    person['Country'] = 'India' # Add Key Value Pair  \n",
    "    print(Person)\n",
    "    print(\"Key-Value Pair Added Successfully\")\n",
    "except AttributeError:\n",
    "    print(\"Attribute Error: 'dict' object has no method '.add' \")\n",
    "except NameError:\n",
    "    print(\"The variable you are calling doesn't exist.\")\n",
    "else:\n",
    "    print('No Attribute Error Occurred, Your Try block Successfully run!')"
   ]
  },
  {
   "cell_type": "code",
   "execution_count": 45,
   "id": "000801cc-827f-4942-87d1-c55374b391ab",
   "metadata": {},
   "outputs": [
    {
     "name": "stdout",
     "output_type": "stream",
     "text": [
      "The Key, you are looking for, doesn't exist in the person dictionary!\n"
     ]
    }
   ],
   "source": [
    "# KeyError:\n",
    "person = {\n",
    "    'first_name' : 'Abhishek',\n",
    "    'age' : 29,\n",
    "    'city' : 'Kolkata'\n",
    "}\n",
    "try :\n",
    "    person['Country'] = 'India' # Add Key Value Pair  \n",
    "    print(person['City'])\n",
    "    print(\"Key-Value Pair Added Successfully\")\n",
    "except AttributeError:\n",
    "    print(\"Attribute Error: 'dict' object has no method '.add' \")\n",
    "except NameError:\n",
    "    print(\"The variable you are calling doesn't exist.\")\n",
    "except KeyError:\n",
    "    print(\"The Key, you are looking for, doesn't exist in the person dictionary!\")\n",
    "else:\n",
    "    print('No Attribute Error Occurred, Your Try block Successfully run!')"
   ]
  },
  {
   "cell_type": "code",
   "execution_count": 53,
   "id": "a0d3c721-ab61-4628-a8d9-5eb643f1c750",
   "metadata": {},
   "outputs": [
    {
     "name": "stdout",
     "output_type": "stream",
     "text": [
      "Taigun\n",
      "Creta\n",
      "Safari\n",
      "Innova\n",
      "Thar\n",
      "Code Run Successfully ✅\n"
     ]
    }
   ],
   "source": [
    "# Indentation Error:\n",
    "car_list = ['Taigun','Creta','Safari','Innova','Thar']\n",
    "try:\n",
    "    for car in car_list:\n",
    "        print(car)\n",
    "except:\n",
    "    print(\"A Regular Except Block....\")\n",
    "else:\n",
    "    print(\"Code Run Successfully ✅\")\n",
    "# except IndentationError: # Avoid \n",
    "  #  print(\"expected an indented block after 'for' statement\")"
   ]
  },
  {
   "cell_type": "code",
   "execution_count": 56,
   "id": "7121b460-cbac-4d5b-919a-993c8a97e942",
   "metadata": {},
   "outputs": [
    {
     "name": "stdout",
     "output_type": "stream",
     "text": [
      "Type Error\n"
     ]
    }
   ],
   "source": [
    "# Type Error\n",
    "try:\n",
    "    x = '5'\n",
    "    y = 3\n",
    "    print(x + y)\n",
    "except TypeError:\n",
    "    print(\"Type Error\")"
   ]
  },
  {
   "cell_type": "code",
   "execution_count": 57,
   "id": "9a2fc009-4683-4ffc-ae47-04884d5b81f2",
   "metadata": {},
   "outputs": [
    {
     "name": "stdout",
     "output_type": "stream",
     "text": [
      "{'first_name': 'Abhishek', 'age': 29, 'city': 'Kolkata', 'Country': 'India'}\n",
      "Key-Value Pair Added Successfully\n",
      "No Attribute Error Occurred, Your Try block Successfully run!\n",
      "Finally will always run... No Matter What? 😎 \n"
     ]
    }
   ],
   "source": [
    "# Try-Except-Else-Finally\n",
    "# KeyError:\n",
    "person = {\n",
    "    'first_name' : 'Abhishek',\n",
    "    'age' : 29,\n",
    "    'city' : 'Kolkata'\n",
    "}\n",
    "try :\n",
    "    person['Country'] = 'India' # Add Key Value Pair  \n",
    "    print(person)\n",
    "    print(\"Key-Value Pair Added Successfully\")\n",
    "except AttributeError:\n",
    "    print(\"Attribute Error: 'dict' object has no method '.add' \")\n",
    "except NameError:\n",
    "    print(\"The variable you are calling doesn't exist.\")\n",
    "except KeyError:\n",
    "    print(\"The Key, you are looking for, doesn't exist in the person dictionary!\")\n",
    "else:\n",
    "    print('No Attribute Error Occurred, Your Try block Successfully run!')\n",
    "finally:\n",
    "    print(\"Finally will always run... No Matter What? 😎 \")"
   ]
  },
  {
   "cell_type": "code",
   "execution_count": 58,
   "id": "af579c77-e9b8-4aaa-803f-1616ac691d62",
   "metadata": {},
   "outputs": [
    {
     "name": "stdout",
     "output_type": "stream",
     "text": [
      "Attribute Error: 'dict' object has no method '.add' \n",
      "Finally will always run... No Matter What? 😎 \n"
     ]
    }
   ],
   "source": [
    "# Try-Except-Else-Finally\n",
    "# KeyError:\n",
    "person = {\n",
    "    'first_name' : 'Abhishek',\n",
    "    'age' : 29,\n",
    "    'city' : 'Kolkata'\n",
    "}\n",
    "try :\n",
    "    person.add('Country' , 'India') # Attribute Error \n",
    "    print(person)\n",
    "    print(\"Key-Value Pair Added Successfully\")\n",
    "except AttributeError:\n",
    "    print(\"Attribute Error: 'dict' object has no method '.add' \")\n",
    "except NameError:\n",
    "    print(\"The variable you are calling doesn't exist.\")\n",
    "except KeyError:\n",
    "    print(\"The Key, you are looking for, doesn't exist in the person dictionary!\")\n",
    "else:\n",
    "    print('No Attribute Error Occurred, Your Try block Successfully run!')\n",
    "finally:\n",
    "    print(\"Finally will always run... No Matter What? 😎 \")"
   ]
  },
  {
   "cell_type": "code",
   "execution_count": 59,
   "id": "c670019c-ccc9-4f26-aab2-3b1366c8e8b0",
   "metadata": {},
   "outputs": [
    {
     "name": "stdin",
     "output_type": "stream",
     "text": [
      "Enter the valid marks :  -15\n"
     ]
    },
    {
     "ename": "ValueError",
     "evalue": "Marks Can't be negative.",
     "output_type": "error",
     "traceback": [
      "\u001b[1;31m---------------------------------------------------------------------------\u001b[0m",
      "\u001b[1;31mValueError\u001b[0m                                Traceback (most recent call last)",
      "Cell \u001b[1;32mIn[59], line 4\u001b[0m\n\u001b[0;32m      2\u001b[0m marks \u001b[38;5;241m=\u001b[39m \u001b[38;5;28mint\u001b[39m(\u001b[38;5;28minput\u001b[39m(\u001b[38;5;124m\"\u001b[39m\u001b[38;5;124mEnter the valid marks : \u001b[39m\u001b[38;5;124m\"\u001b[39m))\n\u001b[0;32m      3\u001b[0m \u001b[38;5;28;01mif\u001b[39;00m marks \u001b[38;5;241m<\u001b[39m \u001b[38;5;241m0\u001b[39m:\n\u001b[1;32m----> 4\u001b[0m     \u001b[38;5;28;01mraise\u001b[39;00m \u001b[38;5;167;01mValueError\u001b[39;00m(\u001b[38;5;124m\"\u001b[39m\u001b[38;5;124mMarks Can\u001b[39m\u001b[38;5;124m'\u001b[39m\u001b[38;5;124mt be negative.\u001b[39m\u001b[38;5;124m\"\u001b[39m)\n",
      "\u001b[1;31mValueError\u001b[0m: Marks Can't be negative."
     ]
    }
   ],
   "source": [
    "# Raise :\n",
    "marks = int(input(\"Enter the valid marks : \"))\n",
    "if marks < 0:\n",
    "    raise ValueError(\"Marks Can't be negative.\")"
   ]
  },
  {
   "cell_type": "code",
   "execution_count": 60,
   "id": "2ab54dc2-84b9-4875-b093-12b86a82d635",
   "metadata": {},
   "outputs": [
    {
     "name": "stdin",
     "output_type": "stream",
     "text": [
      "Enter the valid marks :  111\n"
     ]
    },
    {
     "ename": "ValueError",
     "evalue": "Score Exceeds the allowed Limit....",
     "output_type": "error",
     "traceback": [
      "\u001b[1;31m---------------------------------------------------------------------------\u001b[0m",
      "\u001b[1;31mValueError\u001b[0m                                Traceback (most recent call last)",
      "Cell \u001b[1;32mIn[60], line 3\u001b[0m\n\u001b[0;32m      1\u001b[0m marks \u001b[38;5;241m=\u001b[39m \u001b[38;5;28mint\u001b[39m(\u001b[38;5;28minput\u001b[39m(\u001b[38;5;124m\"\u001b[39m\u001b[38;5;124mEnter the valid marks : \u001b[39m\u001b[38;5;124m\"\u001b[39m))\n\u001b[0;32m      2\u001b[0m \u001b[38;5;28;01mif\u001b[39;00m marks \u001b[38;5;241m>\u001b[39m \u001b[38;5;241m100\u001b[39m:\n\u001b[1;32m----> 3\u001b[0m     \u001b[38;5;28;01mraise\u001b[39;00m \u001b[38;5;167;01mValueError\u001b[39;00m(\u001b[38;5;124m\"\u001b[39m\u001b[38;5;124mScore Exceeds the allowed Limit....\u001b[39m\u001b[38;5;124m\"\u001b[39m)\n",
      "\u001b[1;31mValueError\u001b[0m: Score Exceeds the allowed Limit...."
     ]
    }
   ],
   "source": [
    "marks = int(input(\"Enter the valid marks : \"))\n",
    "if marks > 100:\n",
    "    raise ValueError(\"Score Exceeds the allowed Limit....\")"
   ]
  },
  {
   "cell_type": "code",
   "execution_count": 61,
   "id": "6c2a28be-bd82-4d24-a406-98137cb2b22f",
   "metadata": {},
   "outputs": [
    {
     "name": "stdin",
     "output_type": "stream",
     "text": [
      "Enter the valid marks :  91\n"
     ]
    }
   ],
   "source": [
    "marks = int(input(\"Enter the valid marks : \"))\n",
    "if marks > 100:\n",
    "    raise ValueError(\"Score Exceeds the allowed Limit....\")"
   ]
  },
  {
   "cell_type": "code",
   "execution_count": 63,
   "id": "0865f90b-875f-4027-a6f9-0886accbb64c",
   "metadata": {},
   "outputs": [
    {
     "name": "stdin",
     "output_type": "stream",
     "text": [
      "Enter the Outside Temperature in degree celcius: 50\n"
     ]
    },
    {
     "ename": "ValueError",
     "evalue": "Temperature is above the safety threshold!",
     "output_type": "error",
     "traceback": [
      "\u001b[1;31m---------------------------------------------------------------------------\u001b[0m",
      "\u001b[1;31mValueError\u001b[0m                                Traceback (most recent call last)",
      "Cell \u001b[1;32mIn[63], line 3\u001b[0m\n\u001b[0;32m      1\u001b[0m temperature \u001b[38;5;241m=\u001b[39m \u001b[38;5;28mint\u001b[39m(\u001b[38;5;28minput\u001b[39m(\u001b[38;5;124m\"\u001b[39m\u001b[38;5;124mEnter the Outside Temperature in degree celcius:\u001b[39m\u001b[38;5;124m\"\u001b[39m))\n\u001b[0;32m      2\u001b[0m \u001b[38;5;28;01mif\u001b[39;00m temperature \u001b[38;5;241m>\u001b[39m \u001b[38;5;241m40\u001b[39m:\n\u001b[1;32m----> 3\u001b[0m     \u001b[38;5;28;01mraise\u001b[39;00m \u001b[38;5;167;01mValueError\u001b[39;00m(\u001b[38;5;124m\"\u001b[39m\u001b[38;5;124mTemperature is above the safety threshold!\u001b[39m\u001b[38;5;124m\"\u001b[39m)\n",
      "\u001b[1;31mValueError\u001b[0m: Temperature is above the safety threshold!"
     ]
    }
   ],
   "source": [
    "temperature = int(input(\"Enter the Outside Temperature in degree celcius:\"))\n",
    "if temperature > 40:\n",
    "    raise ValueError(\"Temperature is above the safety threshold!\")"
   ]
  },
  {
   "cell_type": "code",
   "execution_count": 64,
   "id": "f1acc602-7048-4570-b80e-7c88323839fc",
   "metadata": {},
   "outputs": [
    {
     "name": "stdin",
     "output_type": "stream",
     "text": [
      "Enter the Outside Temperature in degree celcius: 33\n"
     ]
    },
    {
     "name": "stdout",
     "output_type": "stream",
     "text": [
      "Temperature is below the safety threshold, no need to panic!\n"
     ]
    }
   ],
   "source": [
    "temperature = int(input(\"Enter the Outside Temperature in degree celcius:\"))\n",
    "if temperature < 40:\n",
    "    print(\"Temperature is below the safety threshold, no need to panic!\")\n",
    "else:\n",
    "    raise ValueError(\"Temperature is above the safety threshold!\")"
   ]
  },
  {
   "cell_type": "code",
   "execution_count": 65,
   "id": "7844ddee-015e-4d69-82cc-6e69836c35dd",
   "metadata": {},
   "outputs": [
    {
     "name": "stdin",
     "output_type": "stream",
     "text": [
      "Enter your current Age: 33\n"
     ]
    },
    {
     "ename": "ValueError",
     "evalue": "You are not eligible to apply for the exam",
     "output_type": "error",
     "traceback": [
      "\u001b[1;31m---------------------------------------------------------------------------\u001b[0m",
      "\u001b[1;31mValueError\u001b[0m                                Traceback (most recent call last)",
      "Cell \u001b[1;32mIn[65], line 4\u001b[0m\n\u001b[0;32m      2\u001b[0m age \u001b[38;5;241m=\u001b[39m \u001b[38;5;28mint\u001b[39m(\u001b[38;5;28minput\u001b[39m(\u001b[38;5;124m\"\u001b[39m\u001b[38;5;124mEnter your current Age:\u001b[39m\u001b[38;5;124m\"\u001b[39m))\n\u001b[0;32m      3\u001b[0m \u001b[38;5;28;01mif\u001b[39;00m age \u001b[38;5;241m>\u001b[39m \u001b[38;5;241m32\u001b[39m:\n\u001b[1;32m----> 4\u001b[0m     \u001b[38;5;28;01mraise\u001b[39;00m \u001b[38;5;167;01mValueError\u001b[39;00m(\u001b[38;5;124m\"\u001b[39m\u001b[38;5;124mYou are not eligible to apply for the exam\u001b[39m\u001b[38;5;124m\"\u001b[39m)\n\u001b[0;32m      5\u001b[0m \u001b[38;5;28;01melse\u001b[39;00m:\n\u001b[0;32m      6\u001b[0m     \u001b[38;5;28mprint\u001b[39m(\u001b[38;5;124m\"\u001b[39m\u001b[38;5;124mYou are perfectly Eligible......\u001b[39m\u001b[38;5;124m\"\u001b[39m)\n",
      "\u001b[1;31mValueError\u001b[0m: You are not eligible to apply for the exam"
     ]
    }
   ],
   "source": [
    "# Government Exam:\n",
    "age = int(input(\"Enter your current Age:\"))\n",
    "if age > 32:\n",
    "    raise ValueError(\"You are not eligible to apply for the exam\")\n",
    "else:\n",
    "    print(\"You are perfectly Eligible......\")"
   ]
  },
  {
   "cell_type": "code",
   "execution_count": 66,
   "id": "7895b909-2040-4bf5-b744-d64237de20fe",
   "metadata": {},
   "outputs": [
    {
     "name": "stdin",
     "output_type": "stream",
     "text": [
      "Enter your current Age: 25\n"
     ]
    },
    {
     "name": "stdout",
     "output_type": "stream",
     "text": [
      "You are perfectly Eligible......\n"
     ]
    }
   ],
   "source": [
    "# Government Exam:\n",
    "age = int(input(\"Enter your current Age:\"))\n",
    "if age > 32:\n",
    "    raise ValueError(\"You are not eligible to apply for the exam\")\n",
    "else:\n",
    "    print(\"You are perfectly Eligible......\")"
   ]
  },
  {
   "cell_type": "markdown",
   "id": "cad8ffc4-9116-417c-8139-2b76e779f239",
   "metadata": {},
   "source": [
    "# What is a Module?\n",
    "#### A module is just a .py file that contains reusable Python code—like functions, variables, or classes.\n",
    "\n",
    "### Why use Modules?\n",
    "-  Avoid writing the same code again and again.\n",
    "\n",
    "- Break large programs into smaller, manageable pieces.\n",
    "\n",
    "- Share functionality across different files\n",
    "\n",
    "- Make code cleaner, organized, and reusable\n",
    "\n",
    "## Analogy :\n",
    "- Module - A single Chapter in a book\n",
    "- Package - A book made of multiple Chapters\n",
    "- Library - A bookshelf containing multiple books on a subject.\n",
    "- Framework - A whole Library Building with a set of rules for how books are organized and used."
   ]
  },
  {
   "cell_type": "code",
   "execution_count": 1,
   "id": "f72eafcb-e0d5-48a9-b57f-b17f3027d8f8",
   "metadata": {},
   "outputs": [
    {
     "name": "stdout",
     "output_type": "stream",
     "text": [
      "Welcome Onboard! Aditya Verma!\n"
     ]
    }
   ],
   "source": [
    "import python_module\n",
    "python_module.greet(\"Aditya Verma!\")"
   ]
  },
  {
   "cell_type": "code",
   "execution_count": 2,
   "id": "44d17ff2-41cd-4469-a834-d25bec3e5c36",
   "metadata": {},
   "outputs": [
    {
     "name": "stdout",
     "output_type": "stream",
     "text": [
      "Welcome Onboard! Nihal Mehra\n"
     ]
    }
   ],
   "source": [
    "python_module.greet(\"Nihal Mehra\")"
   ]
  },
  {
   "cell_type": "code",
   "execution_count": 3,
   "id": "b79c56cc-56ee-412c-ba48-98e26e54a2c2",
   "metadata": {},
   "outputs": [
    {
     "name": "stdout",
     "output_type": "stream",
     "text": [
      "Welcome Onboard! Arpit Gupta\n"
     ]
    }
   ],
   "source": [
    "python_module.greet(\"Arpit Gupta\")"
   ]
  },
  {
   "cell_type": "code",
   "execution_count": 4,
   "id": "43e05028-6763-428e-90b3-64149d1ec1c9",
   "metadata": {},
   "outputs": [
    {
     "name": "stdout",
     "output_type": "stream",
     "text": [
      "21\n"
     ]
    }
   ],
   "source": [
    "import math_utils # Importing .py file\n",
    "result = math_utils.add(10,11)\n",
    "print(result)"
   ]
  },
  {
   "cell_type": "code",
   "execution_count": 5,
   "id": "a2780896-1c2c-4f02-8df4-9b50179cd744",
   "metadata": {},
   "outputs": [
    {
     "name": "stdout",
     "output_type": "stream",
     "text": [
      "10\n"
     ]
    }
   ],
   "source": [
    "result = math_utils.sub(21,11)\n",
    "print(result)"
   ]
  },
  {
   "cell_type": "code",
   "execution_count": 6,
   "id": "23dde9e9-1a8a-4f15-bdbd-270de319d09f",
   "metadata": {},
   "outputs": [
    {
     "name": "stdout",
     "output_type": "stream",
     "text": [
      "110\n"
     ]
    }
   ],
   "source": [
    "result = math_utils.multiply(10,11)\n",
    "print(result)"
   ]
  },
  {
   "cell_type": "code",
   "execution_count": 7,
   "id": "da49a237-3dd8-4ad1-9529-c1306b404239",
   "metadata": {},
   "outputs": [
    {
     "name": "stdout",
     "output_type": "stream",
     "text": [
      "1.1\n"
     ]
    }
   ],
   "source": [
    "result = math_utils.divide(11,10)\n",
    "print(result)"
   ]
  },
  {
   "cell_type": "code",
   "execution_count": 8,
   "id": "868ef342-6aba-421c-b6c7-555bac2a0656",
   "metadata": {},
   "outputs": [
    {
     "name": "stdout",
     "output_type": "stream",
     "text": [
      "1331\n"
     ]
    }
   ],
   "source": [
    "result = math_utils.cube(11)\n",
    "print(result)"
   ]
  },
  {
   "cell_type": "code",
   "execution_count": 9,
   "id": "402a7270-096b-4b62-8d33-988138c44122",
   "metadata": {},
   "outputs": [
    {
     "name": "stdout",
     "output_type": "stream",
     "text": [
      "121\n"
     ]
    }
   ],
   "source": [
    "result = math_utils.square(11)\n",
    "print(result)"
   ]
  },
  {
   "cell_type": "code",
   "execution_count": 10,
   "id": "ba56b220-b0ed-4ce8-9d86-488e3cd82c78",
   "metadata": {},
   "outputs": [
    {
     "ename": "ValueError",
     "evalue": "n in factorical can't be negative",
     "output_type": "error",
     "traceback": [
      "\u001b[1;31m---------------------------------------------------------------------------\u001b[0m",
      "\u001b[1;31mValueError\u001b[0m                                Traceback (most recent call last)",
      "Cell \u001b[1;32mIn[10], line 1\u001b[0m\n\u001b[1;32m----> 1\u001b[0m result \u001b[38;5;241m=\u001b[39m math_utils\u001b[38;5;241m.\u001b[39mfact(\u001b[38;5;241m-\u001b[39m\u001b[38;5;241m11\u001b[39m)\n\u001b[0;32m      2\u001b[0m \u001b[38;5;28mprint\u001b[39m(result)\n",
      "File \u001b[1;32m~\\anaconda_projects\\CN-Python-TTS\\math_utils.py:21\u001b[0m, in \u001b[0;36mfact\u001b[1;34m(n)\u001b[0m\n\u001b[0;32m     19\u001b[0m \u001b[38;5;28;01mdef\u001b[39;00m \u001b[38;5;21mfact\u001b[39m(n):\n\u001b[0;32m     20\u001b[0m     \u001b[38;5;28;01mif\u001b[39;00m n \u001b[38;5;241m<\u001b[39m \u001b[38;5;241m0\u001b[39m:\n\u001b[1;32m---> 21\u001b[0m         \u001b[38;5;28;01mraise\u001b[39;00m \u001b[38;5;167;01mValueError\u001b[39;00m(\u001b[38;5;124m\"\u001b[39m\u001b[38;5;124mn in factorical can\u001b[39m\u001b[38;5;124m'\u001b[39m\u001b[38;5;124mt be negative\u001b[39m\u001b[38;5;124m\"\u001b[39m)\n\u001b[0;32m     22\u001b[0m     \u001b[38;5;28;01melif\u001b[39;00m n \u001b[38;5;241m==\u001b[39m \u001b[38;5;241m1\u001b[39m:\n\u001b[0;32m     23\u001b[0m         \u001b[38;5;28;01mreturn\u001b[39;00m \u001b[38;5;241m1\u001b[39m\n",
      "\u001b[1;31mValueError\u001b[0m: n in factorical can't be negative"
     ]
    }
   ],
   "source": [
    "result = math_utils.fact(-11)\n",
    "print(result)"
   ]
  },
  {
   "cell_type": "code",
   "execution_count": 11,
   "id": "329e99b4-82f6-4353-8597-1ee0f76d35fc",
   "metadata": {},
   "outputs": [
    {
     "name": "stdout",
     "output_type": "stream",
     "text": [
      "39916800\n"
     ]
    }
   ],
   "source": [
    "result = math_utils.fact(11)\n",
    "print(result)"
   ]
  },
  {
   "cell_type": "code",
   "execution_count": 13,
   "id": "a1d02b66-1935-4690-8121-6fa392a83644",
   "metadata": {},
   "outputs": [
    {
     "data": {
      "text/plain": [
       "'racecar'"
      ]
     },
     "execution_count": 13,
     "metadata": {},
     "output_type": "execute_result"
    }
   ],
   "source": [
    "import string_utils\n",
    "rev_str = string_utils.reverse_string(\"racecar\")\n",
    "rev_str"
   ]
  },
  {
   "cell_type": "code",
   "execution_count": 14,
   "id": "444165ac-7b6f-46d5-9a84-93353cd5d217",
   "metadata": {},
   "outputs": [
    {
     "data": {
      "text/plain": [
       "'ajnin'"
      ]
     },
     "execution_count": 14,
     "metadata": {},
     "output_type": "execute_result"
    }
   ],
   "source": [
    "rev_str = string_utils.reverse_string(\"ninja\")\n",
    "rev_str"
   ]
  },
  {
   "cell_type": "code",
   "execution_count": 15,
   "id": "61321aa2-8840-4ba3-8a66-dae358f7c28d",
   "metadata": {},
   "outputs": [
    {
     "data": {
      "text/plain": [
       "'olleh'"
      ]
     },
     "execution_count": 15,
     "metadata": {},
     "output_type": "execute_result"
    }
   ],
   "source": [
    "rev_str = string_utils.reverse_string(\"hello\")\n",
    "rev_str"
   ]
  },
  {
   "cell_type": "code",
   "execution_count": 18,
   "id": "d9c9cf81-7c36-499f-a883-14467e607a8d",
   "metadata": {},
   "outputs": [
    {
     "data": {
      "text/plain": [
       "4"
      ]
     },
     "execution_count": 18,
     "metadata": {},
     "output_type": "execute_result"
    }
   ],
   "source": [
    "count_vowels = string_utils.counts_vowels(\"Coding Ninjas\")\n",
    "count_vowels"
   ]
  },
  {
   "cell_type": "code",
   "execution_count": 19,
   "id": "70eed195-1e6a-4e97-b13e-5fb259b03cdd",
   "metadata": {},
   "outputs": [
    {
     "data": {
      "text/plain": [
       "4"
      ]
     },
     "execution_count": 19,
     "metadata": {},
     "output_type": "execute_result"
    }
   ],
   "source": [
    "count_vowels = string_utils.counts_vowels(\"Python Programmings\")\n",
    "count_vowels"
   ]
  },
  {
   "cell_type": "code",
   "execution_count": 20,
   "id": "88ac8e0d-c463-485c-bded-6af44506d8c6",
   "metadata": {},
   "outputs": [
    {
     "data": {
      "text/plain": [
       "10"
      ]
     },
     "execution_count": 20,
     "metadata": {},
     "output_type": "execute_result"
    }
   ],
   "source": [
    "count_vowels = string_utils.counts_vowels(\"Today is a very Awesome day!\")\n",
    "count_vowels"
   ]
  },
  {
   "cell_type": "code",
   "execution_count": 22,
   "id": "594992ee-1a7f-4d0f-b789-47f4b1d530d8",
   "metadata": {},
   "outputs": [
    {
     "data": {
      "text/plain": [
       "'nohtyP'"
      ]
     },
     "execution_count": 22,
     "metadata": {},
     "output_type": "execute_result"
    }
   ],
   "source": [
    "from string_utils import reverse_string , counts_vowels\n",
    "rev_str = reverse_string(\"Python\")\n",
    "rev_str"
   ]
  },
  {
   "cell_type": "code",
   "execution_count": 23,
   "id": "9e280211-a441-4084-b299-4d02c40f6677",
   "metadata": {},
   "outputs": [
    {
     "data": {
      "text/plain": [
       "5"
      ]
     },
     "execution_count": 23,
     "metadata": {},
     "output_type": "execute_result"
    }
   ],
   "source": [
    "vowels_count = counts_vowels(\"Aditya Verma\")\n",
    "vowels_count"
   ]
  },
  {
   "cell_type": "code",
   "execution_count": 26,
   "id": "d6cb6d58-f01d-485b-99c8-498f926c1ac9",
   "metadata": {},
   "outputs": [
    {
     "name": "stdout",
     "output_type": "stream",
     "text": [
      "71\n"
     ]
    }
   ],
   "source": [
    "from math_utils import *\n",
    "_sum = add(20,51)\n",
    "print(_sum)"
   ]
  },
  {
   "cell_type": "code",
   "execution_count": 27,
   "id": "7a81ec5c-a8b4-4188-96d4-aa98339e0307",
   "metadata": {},
   "outputs": [
    {
     "name": "stdout",
     "output_type": "stream",
     "text": [
      "50\n"
     ]
    }
   ],
   "source": [
    "_mul = multiply(10,5)\n",
    "print(_mul)"
   ]
  },
  {
   "cell_type": "raw",
   "id": "b6a0dba7-c1e1-450d-be13-91de7a065647",
   "metadata": {},
   "source": [
    "# Aliases 'AS'\n",
    "import numpy as np\n",
    "import pandas as pd\n",
    "import matplotlib.pyplot as plt"
   ]
  },
  {
   "cell_type": "code",
   "execution_count": 30,
   "id": "19443e1d-439a-4854-b3df-218019a1ab52",
   "metadata": {},
   "outputs": [
    {
     "data": {
      "text/plain": [
       "21"
      ]
     },
     "execution_count": 30,
     "metadata": {},
     "output_type": "execute_result"
    }
   ],
   "source": [
    "# Aliases 'as'\n",
    "import math_utils as math\n",
    "math.add(10,11)"
   ]
  },
  {
   "cell_type": "code",
   "execution_count": 31,
   "id": "5d5ed15e-b585-483e-bbdd-27e9fadfc130",
   "metadata": {},
   "outputs": [
    {
     "data": {
      "text/plain": [
       "100"
      ]
     },
     "execution_count": 31,
     "metadata": {},
     "output_type": "execute_result"
    }
   ],
   "source": [
    "math.square(10)"
   ]
  },
  {
   "cell_type": "code",
   "execution_count": 32,
   "id": "d23f1f91-e665-4ef7-84c0-eafa292de499",
   "metadata": {},
   "outputs": [
    {
     "data": {
      "text/plain": [
       "729"
      ]
     },
     "execution_count": 32,
     "metadata": {},
     "output_type": "execute_result"
    }
   ],
   "source": [
    "math.cube(9)"
   ]
  },
  {
   "cell_type": "code",
   "execution_count": 39,
   "id": "c0d86c91-37f7-4453-8fa4-2727e7412a9c",
   "metadata": {},
   "outputs": [
    {
     "data": {
      "text/plain": [
       "['_Processor',\n",
       " '_WIN32_CLIENT_RELEASES',\n",
       " '_WIN32_SERVER_RELEASES',\n",
       " '__builtins__',\n",
       " '__cached__',\n",
       " '__copyright__',\n",
       " '__doc__',\n",
       " '__file__',\n",
       " '__loader__',\n",
       " '__name__',\n",
       " '__package__',\n",
       " '__spec__',\n",
       " '__version__',\n",
       " '_comparable_version',\n",
       " '_default_architecture',\n",
       " '_follow_symlinks',\n",
       " '_get_machine_win32',\n",
       " '_java_getprop',\n",
       " '_mac_ver_xml',\n",
       " '_node',\n",
       " '_norm_version',\n",
       " '_os_release_cache',\n",
       " '_os_release_candidates',\n",
       " '_parse_os_release',\n",
       " '_platform',\n",
       " '_platform_cache',\n",
       " '_sys_version',\n",
       " '_sys_version_cache',\n",
       " '_syscmd_file',\n",
       " '_syscmd_ver',\n",
       " '_uname_cache',\n",
       " '_unknown_as_blank',\n",
       " '_ver_stages',\n",
       " '_win32_ver',\n",
       " '_wmi',\n",
       " '_wmi_query',\n",
       " 'architecture',\n",
       " 'collections',\n",
       " 'freedesktop_os_release',\n",
       " 'functools',\n",
       " 'itertools',\n",
       " 'java_ver',\n",
       " 'libc_ver',\n",
       " 'mac_ver',\n",
       " 'machine',\n",
       " 'node',\n",
       " 'os',\n",
       " 'platform',\n",
       " 'processor',\n",
       " 'python_branch',\n",
       " 'python_build',\n",
       " 'python_compiler',\n",
       " 'python_implementation',\n",
       " 'python_revision',\n",
       " 'python_version',\n",
       " 'python_version_tuple',\n",
       " 're',\n",
       " 'release',\n",
       " 'sys',\n",
       " 'system',\n",
       " 'system_alias',\n",
       " 'uname',\n",
       " 'uname_result',\n",
       " 'version',\n",
       " 'win32_edition',\n",
       " 'win32_is_iot',\n",
       " 'win32_ver']"
      ]
     },
     "execution_count": 39,
     "metadata": {},
     "output_type": "execute_result"
    }
   ],
   "source": [
    "import platform as p\n",
    "dir(platform)"
   ]
  },
  {
   "cell_type": "code",
   "execution_count": 41,
   "id": "567aba4d-a152-4a76-91fa-0dfd0d4dc84a",
   "metadata": {},
   "outputs": [
    {
     "data": {
      "text/plain": [
       "'Windows'"
      ]
     },
     "execution_count": 41,
     "metadata": {},
     "output_type": "execute_result"
    }
   ],
   "source": [
    "p.system()"
   ]
  },
  {
   "cell_type": "code",
   "execution_count": 42,
   "id": "97e75075-1494-44bb-ae20-8864ed2e9f8f",
   "metadata": {},
   "outputs": [
    {
     "data": {
      "text/plain": [
       "'10.0.26100'"
      ]
     },
     "execution_count": 42,
     "metadata": {},
     "output_type": "execute_result"
    }
   ],
   "source": [
    "p.version()"
   ]
  },
  {
   "cell_type": "code",
   "execution_count": 43,
   "id": "837751fe-8613-4aa7-abb8-485ca17f28a8",
   "metadata": {},
   "outputs": [
    {
     "data": {
      "text/plain": [
       "'11'"
      ]
     },
     "execution_count": 43,
     "metadata": {},
     "output_type": "execute_result"
    }
   ],
   "source": [
    "p.release()"
   ]
  },
  {
   "cell_type": "code",
   "execution_count": 44,
   "id": "91b76f2f-d379-49ef-8a4a-e41cd4e4d940",
   "metadata": {},
   "outputs": [
    {
     "data": {
      "text/plain": [
       "'AMD64'"
      ]
     },
     "execution_count": 44,
     "metadata": {},
     "output_type": "execute_result"
    }
   ],
   "source": [
    "p.machine()"
   ]
  },
  {
   "cell_type": "code",
   "execution_count": 45,
   "id": "9a435da2-1b25-4a61-a34e-842fc85c5247",
   "metadata": {},
   "outputs": [
    {
     "data": {
      "text/plain": [
       "('64bit', 'WindowsPE')"
      ]
     },
     "execution_count": 45,
     "metadata": {},
     "output_type": "execute_result"
    }
   ],
   "source": [
    "p.architecture()"
   ]
  },
  {
   "cell_type": "code",
   "execution_count": 46,
   "id": "072d2f3a-c6c0-429e-a11e-0e5ca4ee6794",
   "metadata": {},
   "outputs": [
    {
     "data": {
      "text/plain": [
       "'Windows-11-10.0.26100-SP0'"
      ]
     },
     "execution_count": 46,
     "metadata": {},
     "output_type": "execute_result"
    }
   ],
   "source": [
    "p.platform()"
   ]
  },
  {
   "cell_type": "code",
   "execution_count": 47,
   "id": "b0e0ae02-4bfd-481d-9d6b-e5e6a7ce9bf2",
   "metadata": {},
   "outputs": [
    {
     "data": {
      "text/plain": [
       "'Intel64 Family 6 Model 186 Stepping 3, GenuineIntel'"
      ]
     },
     "execution_count": 47,
     "metadata": {},
     "output_type": "execute_result"
    }
   ],
   "source": [
    "p.processor()"
   ]
  },
  {
   "cell_type": "code",
   "execution_count": 48,
   "id": "3bb009bb-c10a-47c5-a3b0-4b0b3daecfca",
   "metadata": {},
   "outputs": [
    {
     "data": {
      "text/plain": [
       "uname_result(system='Windows', node='Priya', release='11', version='10.0.26100', machine='AMD64')"
      ]
     },
     "execution_count": 48,
     "metadata": {},
     "output_type": "execute_result"
    }
   ],
   "source": [
    "p.uname()"
   ]
  },
  {
   "cell_type": "code",
   "execution_count": 49,
   "id": "e8c57dd7-1ce3-4d8c-ac16-60fad2d64fac",
   "metadata": {},
   "outputs": [
    {
     "data": {
      "text/plain": [
       "'3.12.7'"
      ]
     },
     "execution_count": 49,
     "metadata": {},
     "output_type": "execute_result"
    }
   ],
   "source": [
    "p.python_version()    "
   ]
  },
  {
   "cell_type": "code",
   "execution_count": 51,
   "id": "5d69d16d-a813-428a-9143-f2f9ca38cb84",
   "metadata": {},
   "outputs": [
    {
     "data": {
      "text/plain": [
       "'MSC v.1929 64 bit (AMD64)'"
      ]
     },
     "execution_count": 51,
     "metadata": {},
     "output_type": "execute_result"
    }
   ],
   "source": [
    "p.python_compiler()"
   ]
  },
  {
   "cell_type": "code",
   "execution_count": 52,
   "id": "97563f32-136c-441c-bc49-9bd5783c86de",
   "metadata": {},
   "outputs": [
    {
     "data": {
      "text/plain": [
       "'CPython'"
      ]
     },
     "execution_count": 52,
     "metadata": {},
     "output_type": "execute_result"
    }
   ],
   "source": [
    "p.python_implementation()"
   ]
  },
  {
   "cell_type": "code",
   "execution_count": 53,
   "id": "b1199b9c-7fd7-4369-8b1a-377e240d1fdd",
   "metadata": {},
   "outputs": [
    {
     "data": {
      "text/plain": [
       "('', ('', '', ''), '')"
      ]
     },
     "execution_count": 53,
     "metadata": {},
     "output_type": "execute_result"
    }
   ],
   "source": [
    "p.mac_ver()"
   ]
  },
  {
   "cell_type": "code",
   "execution_count": 68,
   "id": "931c03c4-5572-4ea0-9765-fcd7c1f1ad0b",
   "metadata": {},
   "outputs": [
    {
     "data": {
      "text/plain": [
       "['__doc__',\n",
       " '__loader__',\n",
       " '__name__',\n",
       " '__package__',\n",
       " '__spec__',\n",
       " 'acos',\n",
       " 'acosh',\n",
       " 'asin',\n",
       " 'asinh',\n",
       " 'atan',\n",
       " 'atan2',\n",
       " 'atanh',\n",
       " 'cbrt',\n",
       " 'ceil',\n",
       " 'comb',\n",
       " 'copysign',\n",
       " 'cos',\n",
       " 'cosh',\n",
       " 'degrees',\n",
       " 'dist',\n",
       " 'e',\n",
       " 'erf',\n",
       " 'erfc',\n",
       " 'exp',\n",
       " 'exp2',\n",
       " 'expm1',\n",
       " 'fabs',\n",
       " 'factorial',\n",
       " 'floor',\n",
       " 'fmod',\n",
       " 'frexp',\n",
       " 'fsum',\n",
       " 'gamma',\n",
       " 'gcd',\n",
       " 'hypot',\n",
       " 'inf',\n",
       " 'isclose',\n",
       " 'isfinite',\n",
       " 'isinf',\n",
       " 'isnan',\n",
       " 'isqrt',\n",
       " 'lcm',\n",
       " 'ldexp',\n",
       " 'lgamma',\n",
       " 'log',\n",
       " 'log10',\n",
       " 'log1p',\n",
       " 'log2',\n",
       " 'modf',\n",
       " 'nan',\n",
       " 'nextafter',\n",
       " 'perm',\n",
       " 'pi',\n",
       " 'pow',\n",
       " 'prod',\n",
       " 'radians',\n",
       " 'remainder',\n",
       " 'sin',\n",
       " 'sinh',\n",
       " 'sqrt',\n",
       " 'sumprod',\n",
       " 'tan',\n",
       " 'tanh',\n",
       " 'tau',\n",
       " 'trunc',\n",
       " 'ulp']"
      ]
     },
     "execution_count": 68,
     "metadata": {},
     "output_type": "execute_result"
    }
   ],
   "source": [
    "import math\n",
    "dir(math) # provide an info all the existing functions"
   ]
  },
  {
   "cell_type": "code",
   "execution_count": 56,
   "id": "51c75dd7-74d0-444a-9c83-254521e7d439",
   "metadata": {},
   "outputs": [
    {
     "data": {
      "text/plain": [
       "200"
      ]
     },
     "execution_count": 56,
     "metadata": {},
     "output_type": "execute_result"
    }
   ],
   "source": [
    "math.ceil(199.79) # Rounding Up"
   ]
  },
  {
   "cell_type": "code",
   "execution_count": 57,
   "id": "b07e58a9-5473-46d6-b20f-4fdea4f84616",
   "metadata": {},
   "outputs": [
    {
     "data": {
      "text/plain": [
       "199"
      ]
     },
     "execution_count": 57,
     "metadata": {},
     "output_type": "execute_result"
    }
   ],
   "source": [
    "math.floor(199.65) # Rounding Down"
   ]
  },
  {
   "cell_type": "code",
   "execution_count": 59,
   "id": "bc52b96c-a00b-4beb-9984-8e38fac7dd19",
   "metadata": {},
   "outputs": [
    {
     "data": {
      "text/plain": [
       "199.99"
      ]
     },
     "execution_count": 59,
     "metadata": {},
     "output_type": "execute_result"
    }
   ],
   "source": [
    "math.fabs(-199.99) # Return float with abs"
   ]
  },
  {
   "cell_type": "code",
   "execution_count": 60,
   "id": "61d60b72-1296-4a7b-892e-28bb38731b79",
   "metadata": {},
   "outputs": [
    {
     "data": {
      "text/plain": [
       "120"
      ]
     },
     "execution_count": 60,
     "metadata": {},
     "output_type": "execute_result"
    }
   ],
   "source": [
    "math.factorial(5)"
   ]
  },
  {
   "cell_type": "code",
   "execution_count": 61,
   "id": "41b21a33-b876-492e-8bb1-3cd10681c1ed",
   "metadata": {},
   "outputs": [
    {
     "data": {
      "text/plain": [
       "9.0"
      ]
     },
     "execution_count": 61,
     "metadata": {},
     "output_type": "execute_result"
    }
   ],
   "source": [
    "math.sqrt(81) # 9"
   ]
  },
  {
   "cell_type": "code",
   "execution_count": 62,
   "id": "911769f0-4126-4afc-9849-f3b371520f52",
   "metadata": {},
   "outputs": [
    {
     "data": {
      "text/plain": [
       "11.0"
      ]
     },
     "execution_count": 62,
     "metadata": {},
     "output_type": "execute_result"
    }
   ],
   "source": [
    "math.sqrt(121) # 11"
   ]
  },
  {
   "cell_type": "code",
   "execution_count": 66,
   "id": "9fc443c8-7d93-4c3c-9af2-390495d42801",
   "metadata": {},
   "outputs": [
    {
     "data": {
      "text/plain": [
       "3"
      ]
     },
     "execution_count": 66,
     "metadata": {},
     "output_type": "execute_result"
    }
   ],
   "source": [
    "math.gcd(15,36)"
   ]
  },
  {
   "cell_type": "code",
   "execution_count": 67,
   "id": "8ec7a38d-500a-4a0f-84c7-ea7f09585513",
   "metadata": {},
   "outputs": [
    {
     "data": {
      "text/plain": [
       "75"
      ]
     },
     "execution_count": 67,
     "metadata": {},
     "output_type": "execute_result"
    }
   ],
   "source": [
    "math.lcm(15,25)"
   ]
  },
  {
   "cell_type": "code",
   "execution_count": 71,
   "id": "761524eb-62fc-4ccc-99bb-5812f428b4b5",
   "metadata": {},
   "outputs": [
    {
     "data": {
      "text/plain": [
       "3.141592653589793"
      ]
     },
     "execution_count": 71,
     "metadata": {},
     "output_type": "execute_result"
    }
   ],
   "source": [
    "math.pi"
   ]
  },
  {
   "cell_type": "code",
   "execution_count": 72,
   "id": "ec4f9aa2-3d3f-4f70-95dd-fccb93360f53",
   "metadata": {},
   "outputs": [
    {
     "name": "stdin",
     "output_type": "stream",
     "text": [
      "Enter the value of radius:  11\n"
     ]
    },
    {
     "name": "stdout",
     "output_type": "stream",
     "text": [
      "380.132711084365\n"
     ]
    }
   ],
   "source": [
    "# Area of a Circle = pi * r^2\n",
    "pi = math.pi\n",
    "radius = int(input(\"Enter the value of radius: \"))\n",
    "area_of_circle = math.pi * math.pow(radius , 2)\n",
    "print(area_of_circle)"
   ]
  },
  {
   "cell_type": "code",
   "execution_count": 73,
   "id": "b927dbf0-0a27-4950-a9b5-4eb4f88c561a",
   "metadata": {},
   "outputs": [
    {
     "data": {
      "text/plain": [
       "180.0"
      ]
     },
     "execution_count": 73,
     "metadata": {},
     "output_type": "execute_result"
    }
   ],
   "source": [
    "# pi ~ 180 degree\n",
    "math.degrees(math.pi)"
   ]
  },
  {
   "cell_type": "code",
   "execution_count": 74,
   "id": "2f8fce71-a21c-449a-953d-50b74555b82f",
   "metadata": {},
   "outputs": [
    {
     "data": {
      "text/plain": [
       "3.141592653589793"
      ]
     },
     "execution_count": 74,
     "metadata": {},
     "output_type": "execute_result"
    }
   ],
   "source": [
    "math.radians(180)"
   ]
  },
  {
   "cell_type": "code",
   "execution_count": 75,
   "id": "30581b70-081d-4917-9ead-8016ac5be9fd",
   "metadata": {},
   "outputs": [
    {
     "data": {
      "text/plain": [
       "1.0"
      ]
     },
     "execution_count": 75,
     "metadata": {},
     "output_type": "execute_result"
    }
   ],
   "source": [
    "math.sin(math.pi/2)"
   ]
  },
  {
   "cell_type": "code",
   "execution_count": 76,
   "id": "d6f8df34-271c-4176-9dc6-bdd178770c09",
   "metadata": {},
   "outputs": [
    {
     "data": {
      "text/plain": [
       "0.9999999999999999"
      ]
     },
     "execution_count": 76,
     "metadata": {},
     "output_type": "execute_result"
    }
   ],
   "source": [
    "math.tan(math.pi/4)"
   ]
  },
  {
   "cell_type": "code",
   "execution_count": 78,
   "id": "ea199087-340c-48e1-92e5-aa2145528f53",
   "metadata": {},
   "outputs": [
    {
     "data": {
      "text/plain": [
       "1"
      ]
     },
     "execution_count": 78,
     "metadata": {},
     "output_type": "execute_result"
    }
   ],
   "source": [
    "math.ceil(math.tan(math.pi/4))"
   ]
  },
  {
   "cell_type": "code",
   "execution_count": 79,
   "id": "b11166d9-bce5-4ee6-8e6e-702bedf1ea24",
   "metadata": {},
   "outputs": [
    {
     "data": {
      "text/plain": [
       "2.0"
      ]
     },
     "execution_count": 79,
     "metadata": {},
     "output_type": "execute_result"
    }
   ],
   "source": [
    "math.log(100,10)"
   ]
  },
  {
   "cell_type": "code",
   "execution_count": 80,
   "id": "703a72eb-9910-42d9-b41f-689f7e31918e",
   "metadata": {},
   "outputs": [
    {
     "data": {
      "text/plain": [
       "5.0"
      ]
     },
     "execution_count": 80,
     "metadata": {},
     "output_type": "execute_result"
    }
   ],
   "source": [
    "math.log10(100000) # 10^5"
   ]
  },
  {
   "cell_type": "code",
   "execution_count": 88,
   "id": "f5f20720-2900-4c2b-9198-fc212de27d71",
   "metadata": {},
   "outputs": [
    {
     "data": {
      "text/plain": [
       "['MAXYEAR',\n",
       " 'MINYEAR',\n",
       " 'UTC',\n",
       " '__all__',\n",
       " '__builtins__',\n",
       " '__cached__',\n",
       " '__doc__',\n",
       " '__file__',\n",
       " '__loader__',\n",
       " '__name__',\n",
       " '__package__',\n",
       " '__spec__',\n",
       " 'date',\n",
       " 'datetime',\n",
       " 'datetime_CAPI',\n",
       " 'time',\n",
       " 'timedelta',\n",
       " 'timezone',\n",
       " 'tzinfo']"
      ]
     },
     "execution_count": 88,
     "metadata": {},
     "output_type": "execute_result"
    }
   ],
   "source": [
    "import datetime\n",
    "dir(datetime)"
   ]
  },
  {
   "cell_type": "code",
   "execution_count": 82,
   "id": "b4d8ad13-57e8-4af3-b9d3-f4c53a9934fa",
   "metadata": {},
   "outputs": [
    {
     "data": {
      "text/plain": [
       "9999"
      ]
     },
     "execution_count": 82,
     "metadata": {},
     "output_type": "execute_result"
    }
   ],
   "source": [
    "datetime.MAXYEAR"
   ]
  },
  {
   "cell_type": "code",
   "execution_count": 83,
   "id": "94e956e4-823b-41cb-91a3-90d11bf78ddf",
   "metadata": {},
   "outputs": [
    {
     "data": {
      "text/plain": [
       "1"
      ]
     },
     "execution_count": 83,
     "metadata": {},
     "output_type": "execute_result"
    }
   ],
   "source": [
    "datetime.MINYEAR"
   ]
  },
  {
   "cell_type": "code",
   "execution_count": 91,
   "id": "73734a38-0976-4159-81a8-33a136f9979d",
   "metadata": {},
   "outputs": [
    {
     "data": {
      "text/plain": [
       "datetime.datetime(2025, 9, 23, 23, 1, 7, 29845)"
      ]
     },
     "execution_count": 91,
     "metadata": {},
     "output_type": "execute_result"
    }
   ],
   "source": [
    "now = datetime.datetime.now()\n",
    "now"
   ]
  },
  {
   "cell_type": "code",
   "execution_count": 92,
   "id": "76b98df4-1f8a-444a-9603-5f7aea502473",
   "metadata": {},
   "outputs": [
    {
     "name": "stdout",
     "output_type": "stream",
     "text": [
      "2025-09-23 23:01:07.029845\n"
     ]
    }
   ],
   "source": [
    "print(now)"
   ]
  },
  {
   "cell_type": "code",
   "execution_count": 93,
   "id": "dd8de4f5-211a-4b7c-8439-d692d191d944",
   "metadata": {},
   "outputs": [
    {
     "data": {
      "text/plain": [
       "datetime.datetime(2025, 9, 23, 23, 1, 35, 186374)"
      ]
     },
     "execution_count": 93,
     "metadata": {},
     "output_type": "execute_result"
    }
   ],
   "source": [
    "today = datetime.datetime.today()\n",
    "today"
   ]
  },
  {
   "cell_type": "code",
   "execution_count": 94,
   "id": "4bc2e5eb-d44d-4d0d-bb85-255ef7655dd0",
   "metadata": {},
   "outputs": [
    {
     "name": "stdout",
     "output_type": "stream",
     "text": [
      "2025-09-23 23:01:35.186374\n"
     ]
    }
   ],
   "source": [
    "print(today)"
   ]
  },
  {
   "cell_type": "code",
   "execution_count": null,
   "id": "9c8abeae-e6b9-4377-b08e-f4533fc54143",
   "metadata": {},
   "outputs": [],
   "source": []
  },
  {
   "cell_type": "code",
   "execution_count": null,
   "id": "f0a36d3e-ef1d-4072-941f-a5312d604a64",
   "metadata": {},
   "outputs": [],
   "source": []
  }
 ],
 "metadata": {
  "kernelspec": {
   "display_name": "Python [conda env:new.anaconda]",
   "language": "python",
   "name": "conda-env-new.anaconda-py"
  },
  "language_info": {
   "codemirror_mode": {
    "name": "ipython",
    "version": 3
   },
   "file_extension": ".py",
   "mimetype": "text/x-python",
   "name": "python",
   "nbconvert_exporter": "python",
   "pygments_lexer": "ipython3",
   "version": "3.12.7"
  }
 },
 "nbformat": 4,
 "nbformat_minor": 5
}
