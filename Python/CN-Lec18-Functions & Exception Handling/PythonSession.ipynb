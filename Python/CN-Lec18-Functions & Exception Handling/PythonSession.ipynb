{
 "cells": [
  {
   "cell_type": "code",
   "execution_count": 2,
   "id": "b5bc67ed-6670-4655-881a-d6bbe029118f",
   "metadata": {},
   "outputs": [
    {
     "name": "stdout",
     "output_type": "stream",
     "text": [
      "Hello EveryOne!\n"
     ]
    }
   ],
   "source": [
    "print(\"Hello EveryOne!\")"
   ]
  },
  {
   "cell_type": "raw",
   "id": "e1044fd6-2a48-4c29-adfc-4ab126aced36",
   "metadata": {},
   "source": [
    "Welcome To the Python Course!"
   ]
  },
  {
   "cell_type": "markdown",
   "id": "ef34e1aa-e63b-4a0e-ae20-15538e29fd3c",
   "metadata": {},
   "source": [
    "# Python Programming\n",
    "#### Let's Learn Together , Grow Together!!\n",
    "1. Learn Faster!\n",
    "2. Grow Faster\n",
    "- It is a programming Language.\n",
    "    - It's a high level language.\n",
    "        - Easy To understand. (Human Readable)\n",
    "- Handles Large Dataset.\n",
    "- Python is a case-sensitive language\n",
    "- It's an interpreter language\n",
    "- Rich in Libraries\n",
    "- Amazing Support from the community\n",
    "- Its an platform independent. -> .py"
   ]
  },
  {
   "cell_type": "raw",
   "id": "65a2d3e1-80b8-4d32-a359-5c8655261918",
   "metadata": {},
   "source": [
    "# Java\n",
    "int x = 10\n",
    "System.out.println(x)"
   ]
  },
  {
   "cell_type": "code",
   "execution_count": 15,
   "id": "57e879bc-cc34-487f-a93d-e41e684a1d0c",
   "metadata": {},
   "outputs": [
    {
     "name": "stdout",
     "output_type": "stream",
     "text": [
      "10\n",
      "<class 'int'>\n"
     ]
    }
   ],
   "source": [
    "# Python\n",
    "x = 10\n",
    "print(x)\n",
    "print(type(x))"
   ]
  },
  {
   "cell_type": "code",
   "execution_count": 16,
   "id": "2b36b7a4-7db7-4500-be66-550d57c8d27e",
   "metadata": {},
   "outputs": [
    {
     "name": "stdout",
     "output_type": "stream",
     "text": [
      "Coding Ninja\n",
      "<class 'str'>\n"
     ]
    }
   ],
   "source": [
    "x = \"Coding Ninja\"\n",
    "print(x)\n",
    "print(type(x))"
   ]
  },
  {
   "cell_type": "code",
   "execution_count": 17,
   "id": "a1b1814b-91a8-43a7-8cae-4b274e5d9e11",
   "metadata": {},
   "outputs": [
    {
     "name": "stdout",
     "output_type": "stream",
     "text": [
      "k\n",
      "<class 'str'>\n"
     ]
    }
   ],
   "source": [
    "x = 'k'\n",
    "print(x)\n",
    "print(type(x))"
   ]
  },
  {
   "cell_type": "code",
   "execution_count": 18,
   "id": "f11ad21d-91db-40e9-bbd1-71d5ea7f843a",
   "metadata": {},
   "outputs": [
    {
     "name": "stdout",
     "output_type": "stream",
     "text": [
      "11\n",
      "<class 'int'>\n"
     ]
    }
   ],
   "source": [
    "x = int('10') + 1\n",
    "print(x)\n",
    "print(type(x))"
   ]
  },
  {
   "cell_type": "code",
   "execution_count": 19,
   "id": "941a5f9a-6151-4aa0-8a55-34c6a2df4c54",
   "metadata": {},
   "outputs": [
    {
     "name": "stdout",
     "output_type": "stream",
     "text": [
      "10.5\n",
      "<class 'float'>\n"
     ]
    }
   ],
   "source": [
    "x = 10.5\n",
    "print(x)\n",
    "print(type(x))"
   ]
  },
  {
   "cell_type": "code",
   "execution_count": 20,
   "id": "8e102e96-17bd-4b74-a804-4a2bf40ec573",
   "metadata": {},
   "outputs": [
    {
     "name": "stdout",
     "output_type": "stream",
     "text": [
      "(9+6j)\n",
      "<class 'complex'>\n"
     ]
    }
   ],
   "source": [
    "x = 9 + 6j\n",
    "print(x)\n",
    "print(type(x))"
   ]
  },
  {
   "cell_type": "code",
   "execution_count": 22,
   "id": "91992d59-b1e7-4a64-80dc-485f6c09614f",
   "metadata": {},
   "outputs": [
    {
     "name": "stdout",
     "output_type": "stream",
     "text": [
      "Python\n",
      "Programming\n"
     ]
    }
   ],
   "source": [
    "# parameters \"\\n\" by default\n",
    "print(\"Python\")\n",
    "print(\"Programming\")"
   ]
  },
  {
   "cell_type": "code",
   "execution_count": 24,
   "id": "c70ed5dd-6446-429b-a80c-b502abfdf0c3",
   "metadata": {},
   "outputs": [
    {
     "name": "stdout",
     "output_type": "stream",
     "text": [
      "Python Programming\n",
      "Coding is Awesome 🔥\n"
     ]
    }
   ],
   "source": [
    "print(\"Python\" , end = \" \")\n",
    "print(\"Programming\")\n",
    "print(\"Coding is Awesome 🔥\")"
   ]
  },
  {
   "cell_type": "code",
   "execution_count": 25,
   "id": "571bdc48-38a1-435b-8b94-60563f38bd26",
   "metadata": {},
   "outputs": [
    {
     "name": "stdout",
     "output_type": "stream",
     "text": [
      "Mon Tues Weds Thurs Fri\n"
     ]
    }
   ],
   "source": [
    "# seperator -> concat_ws\n",
    "print(\"Mon\",\"Tues\",\"Weds\",\"Thurs\",\"Fri\")"
   ]
  },
  {
   "cell_type": "code",
   "execution_count": 26,
   "id": "4202277b-f456-46ad-b58d-61cda1627451",
   "metadata": {},
   "outputs": [
    {
     "name": "stdout",
     "output_type": "stream",
     "text": [
      "Mon - Tues - Weds - Thurs - Fri\n"
     ]
    }
   ],
   "source": [
    "print(\"Mon\",\"Tues\",\"Weds\",\"Thurs\",\"Fri\" , sep = \" - \")"
   ]
  },
  {
   "cell_type": "markdown",
   "id": "ea33dbb8-e1ed-491e-955a-07bdf528faaa",
   "metadata": {},
   "source": [
    "#### Input() \n",
    "- Used to accept user input from the keyboard as a string, which can be further type cast as per the requirement."
   ]
  },
  {
   "cell_type": "code",
   "execution_count": 2,
   "id": "301afc90-ea99-4802-9be2-b6e7cdb25a13",
   "metadata": {},
   "outputs": [
    {
     "name": "stdin",
     "output_type": "stream",
     "text": [
      "Enter the user_name:  Venom\n"
     ]
    },
    {
     "name": "stdout",
     "output_type": "stream",
     "text": [
      "Venom\n"
     ]
    }
   ],
   "source": [
    "user_input = input(\"Enter the user_name: \")\n",
    "print(user_input)"
   ]
  },
  {
   "cell_type": "code",
   "execution_count": 3,
   "id": "20923c54-43b0-4bc3-b803-3c96cab5ac36",
   "metadata": {},
   "outputs": [
    {
     "name": "stdin",
     "output_type": "stream",
     "text": [
      "Enter the gaming_name:  DaddyDamage\n"
     ]
    },
    {
     "name": "stdout",
     "output_type": "stream",
     "text": [
      "DaddyDamage\n"
     ]
    }
   ],
   "source": [
    "user_input = input(\"Enter the gaming_name: \")\n",
    "print(user_input)"
   ]
  },
  {
   "cell_type": "code",
   "execution_count": 5,
   "id": "1bdf835a-532a-4ae7-8b22-f50c5b04ffcf",
   "metadata": {},
   "outputs": [
    {
     "name": "stdin",
     "output_type": "stream",
     "text": [
      "Enter the value:  10\n"
     ]
    },
    {
     "name": "stdout",
     "output_type": "stream",
     "text": [
      "10\n",
      "<class 'str'>\n"
     ]
    }
   ],
   "source": [
    "val = input(\"Enter the value: \")\n",
    "print(val)\n",
    "print(type(val))"
   ]
  },
  {
   "cell_type": "code",
   "execution_count": 6,
   "id": "50addf20-2658-4084-a4d9-5cb8d9dbbee7",
   "metadata": {},
   "outputs": [
    {
     "name": "stdin",
     "output_type": "stream",
     "text": [
      "Enter the value:  11\n"
     ]
    },
    {
     "name": "stdout",
     "output_type": "stream",
     "text": [
      "11\n",
      "<class 'int'>\n"
     ]
    }
   ],
   "source": [
    "val = int(input(\"Enter the value: \"))\n",
    "print(val)\n",
    "print(type(val))"
   ]
  },
  {
   "cell_type": "code",
   "execution_count": 7,
   "id": "8f44281c-0f46-4ebc-be56-447c15369e9d",
   "metadata": {},
   "outputs": [
    {
     "name": "stdout",
     "output_type": "stream",
     "text": [
      "55\n"
     ]
    }
   ],
   "source": [
    "print(val * 5)"
   ]
  },
  {
   "cell_type": "code",
   "execution_count": 10,
   "id": "173897c8-02b6-40b0-b2be-6bb5ce5df881",
   "metadata": {},
   "outputs": [
    {
     "name": "stdin",
     "output_type": "stream",
     "text": [
      "Enter the value between 1-100 :  75\n"
     ]
    },
    {
     "name": "stdout",
     "output_type": "stream",
     "text": [
      "85\n"
     ]
    }
   ],
   "source": [
    "x = int(input(\"Enter the value between 1-100 : \"))\n",
    "x = x + 10\n",
    "print(x)"
   ]
  },
  {
   "cell_type": "code",
   "execution_count": 25,
   "id": "08728498-fa86-45aa-abf1-473770652f43",
   "metadata": {},
   "outputs": [
    {
     "name": "stdin",
     "output_type": "stream",
     "text": [
      "Enter the value between 1-100 :  66\n"
     ]
    },
    {
     "name": "stdout",
     "output_type": "stream",
     "text": [
      "76\n"
     ]
    }
   ],
   "source": [
    "x = int(input(\"Enter the value between 1-100 : \"))\n",
    "x = x + 10 # '75' + 10 - TypeError: can only concatenate str (not \"int\") to str\n",
    "print(x)"
   ]
  },
  {
   "cell_type": "code",
   "execution_count": 29,
   "id": "58efb9fe-e279-4f7f-87c5-0116a479e14a",
   "metadata": {},
   "outputs": [
    {
     "name": "stdout",
     "output_type": "stream",
     "text": [
      "76\n",
      "<class 'str'>\n"
     ]
    }
   ],
   "source": [
    "x = str(x)\n",
    "print(x)\n",
    "print(type(x))"
   ]
  },
  {
   "cell_type": "code",
   "execution_count": 30,
   "id": "bae5274b-8cf9-4bbe-aa35-e3e92ca28776",
   "metadata": {},
   "outputs": [
    {
     "name": "stdin",
     "output_type": "stream",
     "text": [
      "Enter the username:  utkarshdev\n",
      "Enter your personal mail:  utkarssh@gmail.com\n"
     ]
    },
    {
     "name": "stdout",
     "output_type": "stream",
     "text": [
      "Hey utkarshdev Welcome to the Python Course, You being registered with utkarssh@gmail.com :)\n"
     ]
    }
   ],
   "source": [
    "# String Pattern\n",
    "user_name = input(\"Enter the username: \")\n",
    "email = input(\"Enter your personal mail: \")\n",
    "print(\"Hey \" + user_name + \" Welcome to the Python Course, You being registered with \" + email + \" :)\")"
   ]
  },
  {
   "cell_type": "code",
   "execution_count": 31,
   "id": "b5260a51-06d0-4b52-905c-99a468f94af7",
   "metadata": {},
   "outputs": [
    {
     "name": "stdin",
     "output_type": "stream",
     "text": [
      "Enter the username:  iaarifpathan\n",
      "Enter your personal mail:  iaarifpathan@gmail.com\n"
     ]
    },
    {
     "name": "stdout",
     "output_type": "stream",
     "text": [
      "Hey iaarifpathan Welcome to the Python Course, You being registered with iaarifpathan@gmail.com :)\n"
     ]
    }
   ],
   "source": [
    "# String Pattern\n",
    "user_name = input(\"Enter the username: \")\n",
    "email = input(\"Enter your personal mail: \")\n",
    "print(f\"Hey {user_name} Welcome to the Python Course, You being registered with {email} :)\")"
   ]
  },
  {
   "cell_type": "markdown",
   "id": "3bc7622f-bffb-4222-9039-0bf66d3f5f01",
   "metadata": {},
   "source": [
    "- Single Line Comments - #\n",
    "- Multi Line Comments - '''"
   ]
  },
  {
   "cell_type": "code",
   "execution_count": 32,
   "id": "f4daecc0-cd14-47b4-86a4-09aefdd0f862",
   "metadata": {},
   "outputs": [
    {
     "name": "stdout",
     "output_type": "stream",
     "text": [
      "Python Programming\n"
     ]
    }
   ],
   "source": [
    "# This is a single line comment\n",
    "print(\"Python Programming\")"
   ]
  },
  {
   "cell_type": "code",
   "execution_count": 36,
   "id": "63f4f9f6-4ca6-43f9-975c-3ea820e7a44f",
   "metadata": {},
   "outputs": [
    {
     "name": "stdin",
     "output_type": "stream",
     "text": [
      "Enter the first value:  10\n",
      "Enter the second value:  5\n"
     ]
    },
    {
     "name": "stdout",
     "output_type": "stream",
     "text": [
      "The final result is  50\n",
      "The final result is 60\n"
     ]
    }
   ],
   "source": [
    "'''\n",
    "    This is a multiline comments....\n",
    "    Put some important stuff here relevant to \n",
    "    your python program\n",
    "'''\n",
    "num1 = int(input(\"Enter the first value: \"))\n",
    "num2 = int(input(\"Enter the second value: \"))\n",
    "result = num1 * num2\n",
    "print(\"The final result is \" , result)\n",
    "print(f\"The final result is {result + 10}\")"
   ]
  },
  {
   "cell_type": "code",
   "execution_count": 37,
   "id": "0404bfb9-a612-427a-8634-6de9b116d18a",
   "metadata": {},
   "outputs": [
    {
     "name": "stdin",
     "output_type": "stream",
     "text": [
      "Enter your Dream Car:  Defender\n"
     ]
    },
    {
     "name": "stdout",
     "output_type": "stream",
     "text": [
      "My Dream Car is : Defender\n"
     ]
    }
   ],
   "source": [
    "fav_car = input(\"Enter your Dream Car: \")\n",
    "print(\"My Dream Car is : \" + fav_car)"
   ]
  },
  {
   "cell_type": "code",
   "execution_count": 38,
   "id": "3b3b4b3f-bd1f-4e9b-9443-ea27b84b1e12",
   "metadata": {},
   "outputs": [
    {
     "name": "stdout",
     "output_type": "stream",
     "text": [
      "z is greater than 10\n",
      "Outside the if statement\n"
     ]
    }
   ],
   "source": [
    "# Indentation:\n",
    "z = 15\n",
    "if z > 10: # Boolean Value[True/False]\n",
    "    print(\"z is greater than 10\")\n",
    "print(\"Outside the if statement\")"
   ]
  },
  {
   "cell_type": "code",
   "execution_count": 39,
   "id": "481a0b7d-fd2f-4932-8b11-5fc3b4516320",
   "metadata": {},
   "outputs": [
    {
     "name": "stdout",
     "output_type": "stream",
     "text": [
      "Outside the if statement\n"
     ]
    }
   ],
   "source": [
    "# Indentation:\n",
    "z = 15\n",
    "if z > 20: # Boolean Value[True/False]\n",
    "    print(\"z is greater than 10\")\n",
    "print(\"Outside the if statement\")"
   ]
  },
  {
   "cell_type": "markdown",
   "id": "f3e472b9-4b5b-4d83-9a27-f8a6d3e7b526",
   "metadata": {},
   "source": [
    "# Variables : What & Why?\n",
    "#### Variables acts as an container for storing data, They help with:\n",
    "- Storing Data\n",
    "- Manipulating Values\n",
    "- Reusability\n",
    "- Improving the Readibility \n",
    "    -  total_sum >> ts\n",
    "    -  compound_interest >> c_i\n",
    "    -  age\n",
    "    -  finding_prod_sum >> finding_the_product_and_sum >> p_s"
   ]
  },
  {
   "cell_type": "code",
   "execution_count": 40,
   "id": "333f44b2-58a0-4f11-8f3c-72a54a05986f",
   "metadata": {},
   "outputs": [
    {
     "name": "stdout",
     "output_type": "stream",
     "text": [
      "99\n",
      "UltimateForce\n"
     ]
    }
   ],
   "source": [
    "# Declaring and assigning variables:\n",
    "val = 99\n",
    "user_name = \"UltimateForce\"\n",
    "print(val)\n",
    "print(user_name)"
   ]
  },
  {
   "cell_type": "code",
   "execution_count": 43,
   "id": "b9841998-7695-43cf-bb3c-dee54b1c69ef",
   "metadata": {},
   "outputs": [
    {
     "name": "stdout",
     "output_type": "stream",
     "text": [
      "10\n",
      "20\n",
      "30\n"
     ]
    }
   ],
   "source": [
    "a,b,c = 10,20,30\n",
    "print(a)\n",
    "print(b)\n",
    "print(c)"
   ]
  },
  {
   "cell_type": "code",
   "execution_count": 48,
   "id": "716bf769-cccc-4951-b287-80abb595355c",
   "metadata": {},
   "outputs": [
    {
     "name": "stdout",
     "output_type": "stream",
     "text": [
      "10\n",
      "<class 'int'>\n",
      "20\n",
      "<class 'int'>\n",
      "[30, 40, 50]\n",
      "<class 'list'>\n"
     ]
    }
   ],
   "source": [
    "a,b,*c = 10,20,30,40,50\n",
    "print(a)\n",
    "print(type(a))\n",
    "print(b)\n",
    "print(type(b))\n",
    "print(c)\n",
    "print(type(c))"
   ]
  },
  {
   "cell_type": "code",
   "execution_count": 56,
   "id": "ffedd269-f5da-4ba7-8f88-f0ed7d6a36d1",
   "metadata": {},
   "outputs": [
    {
     "name": "stdout",
     "output_type": "stream",
     "text": [
      "10\n",
      "<class 'int'>\n",
      "[20, 30, 40]\n",
      "<class 'list'>\n",
      "50\n",
      "<class 'int'>\n"
     ]
    }
   ],
   "source": [
    "a,*b,c = 10,20,30,40,50\n",
    "print(a)\n",
    "print(type(a))\n",
    "print(b)\n",
    "print(type(b))\n",
    "print(c)\n",
    "print(type(c))"
   ]
  },
  {
   "cell_type": "code",
   "execution_count": 57,
   "id": "deaa2f03-3e42-4f80-a36e-50898d020e63",
   "metadata": {},
   "outputs": [
    {
     "name": "stdout",
     "output_type": "stream",
     "text": [
      "10\n",
      "<class 'int'>\n",
      "[20, 30, 'a', 'b', 40]\n",
      "<class 'list'>\n",
      "50\n",
      "<class 'int'>\n"
     ]
    }
   ],
   "source": [
    "a,*b,c = 10,20,30,'a','b',40,50\n",
    "print(a)\n",
    "print(type(a))\n",
    "print(b)\n",
    "print(type(b))\n",
    "print(c)\n",
    "print(type(c))"
   ]
  },
  {
   "cell_type": "code",
   "execution_count": 58,
   "id": "8d4b3729-2ed3-41e1-aff9-c7baa726a5b8",
   "metadata": {},
   "outputs": [
    {
     "name": "stdout",
     "output_type": "stream",
     "text": [
      "Ninjas\n",
      "Ninjas\n",
      "Ninjas\n",
      "Ninjas\n"
     ]
    }
   ],
   "source": [
    "p=q=r=s= \"Ninjas\"\n",
    "print(p)\n",
    "print(q)\n",
    "print(r)\n",
    "print(s)"
   ]
  },
  {
   "cell_type": "markdown",
   "id": "56ce3e2e-895d-4dfa-b8f3-e3ff9587960f",
   "metadata": {},
   "source": [
    "## Rules for naming a \"Variables\"\n",
    "- Can include letters, digits and underscore\n",
    "- Must start with a letter or underscore\n",
    "- case-sensitive\n",
    "    - val != Val\n",
    "    - num != nuM\n",
    "    - digit != Digit\n",
    "- Can't use Python Keywords\n",
    "    - for, input, while, print, if, elif, tuple, list, set, dict, true, false\n",
    "- Can't have spaces or special characters (except _)\n",
    "- Variable name can't start with numbers."
   ]
  },
  {
   "cell_type": "code",
   "execution_count": 3,
   "id": "c6ba7aa5-02ed-41ea-a412-54e8e71307ce",
   "metadata": {},
   "outputs": [
    {
     "name": "stdout",
     "output_type": "stream",
     "text": [
      "Python\n"
     ]
    }
   ],
   "source": [
    "my_first_variable = \"Python\"\n",
    "print(my_first_variable)"
   ]
  },
  {
   "cell_type": "code",
   "execution_count": 2,
   "id": "7af1f0c8-3391-46b1-890b-77a3ed5e1533",
   "metadata": {},
   "outputs": [
    {
     "name": "stdout",
     "output_type": "stream",
     "text": [
      "Coding\n"
     ]
    }
   ],
   "source": [
    "_var = \"Coding\"\n",
    "print(_var)"
   ]
  },
  {
   "cell_type": "code",
   "execution_count": 6,
   "id": "ff968614-74e7-4ed7-aed7-432a0d55e2ff",
   "metadata": {},
   "outputs": [
    {
     "name": "stdout",
     "output_type": "stream",
     "text": [
      "Hi, I'm good, What about you?\n",
      "Hi, I'm good, What about you?\n"
     ]
    }
   ],
   "source": [
    "# String -> Escape Character\n",
    "print(\"Hi, I'm good, What about you?\")\n",
    "print('Hi, I\\'m good, What about you?')"
   ]
  },
  {
   "cell_type": "code",
   "execution_count": 7,
   "id": "b94a1029-34b5-4db6-b024-be0d3feed92a",
   "metadata": {},
   "outputs": [
    {
     "name": "stdout",
     "output_type": "stream",
     "text": [
      "an \"apple\" a day keeps a doctor away\n"
     ]
    }
   ],
   "source": [
    "print(\"an \\\"apple\\\" a day keeps a doctor away\")"
   ]
  },
  {
   "cell_type": "code",
   "execution_count": 12,
   "id": "206839b7-a9b1-4c15-aa21-333256eb71cd",
   "metadata": {},
   "outputs": [
    {
     "name": "stdout",
     "output_type": "stream",
     "text": [
      "Hi Everyone! Welcome to the course\n"
     ]
    }
   ],
   "source": [
    "print(\"Hi Everyone! Welcome to the course\")"
   ]
  },
  {
   "cell_type": "code",
   "execution_count": 15,
   "id": "45cef1fe-4848-4265-b8ec-0a58f07c6de4",
   "metadata": {},
   "outputs": [
    {
     "name": "stdout",
     "output_type": "stream",
     "text": [
      "\n",
      "    Tu Paas Hai Mere Paas Hai Aise\n",
      "    Mera Koi Ehsaas Hai Jaise\n",
      "    Tu Paas Hai Mere Paas Hai Aise\n",
      "    Mera Koi Ehsaas Hai Jaise\n",
      "    \n",
      "    Haye Main Mar Hi Jaaun\n",
      "    Jo Tujhko Na Paaun\n",
      "    Baaton Mein Teri Main\n",
      "    Raatein Bitaun\n",
      "\n",
      "\n"
     ]
    }
   ],
   "source": [
    "# Multiline String -> <pre> tag in HTML [Markup Language]\n",
    "print(\"\"\"\n",
    "    Tu Paas Hai Mere Paas Hai Aise\n",
    "    Mera Koi Ehsaas Hai Jaise\n",
    "    Tu Paas Hai Mere Paas Hai Aise\n",
    "    Mera Koi Ehsaas Hai Jaise\n",
    "    \n",
    "    Haye Main Mar Hi Jaaun\n",
    "    Jo Tujhko Na Paaun\n",
    "    Baaton Mein Teri Main\n",
    "    Raatein Bitaun\n",
    "\n",
    "\"\"\")"
   ]
  },
  {
   "cell_type": "code",
   "execution_count": 20,
   "id": "93a533de-2c93-4cfc-9076-81560de205f5",
   "metadata": {},
   "outputs": [
    {
     "name": "stdout",
     "output_type": "stream",
     "text": [
      "Hey: What's your name: \t 'Aditya Verma'\n",
      "Hello\n",
      "World\n",
      "x y z\n",
      "Welcome Back!\n"
     ]
    }
   ],
   "source": [
    "# Escape characters \"\\n\"[Next line] & \"\\t\"[tab space]\n",
    "print(\"Hey: What's your name: \\t 'Aditya Verma'\")\n",
    "print(\"Hello\\nWorld\")\n",
    "print(\"x\", end=\" \")\n",
    "print(\"y\", end=\" \")\n",
    "print(\"z\", end=\"\\n\")\n",
    "print(\"Welcome Back!\")"
   ]
  },
  {
   "cell_type": "code",
   "execution_count": 21,
   "id": "478c40d7-8a2c-4d31-be0e-232b694ba282",
   "metadata": {},
   "outputs": [
    {
     "name": "stdout",
     "output_type": "stream",
     "text": [
      "<class 'float'>\n"
     ]
    }
   ],
   "source": [
    "# type -> conversion()\n",
    "x = 10.0\n",
    "print(type(x))"
   ]
  },
  {
   "cell_type": "code",
   "execution_count": 22,
   "id": "11b4ed87-0f05-4415-8d1b-aeb04f3bf3ef",
   "metadata": {},
   "outputs": [
    {
     "name": "stdout",
     "output_type": "stream",
     "text": [
      "99\n"
     ]
    }
   ],
   "source": [
    "num1 = 99.99\n",
    "print(int(num1))"
   ]
  },
  {
   "cell_type": "code",
   "execution_count": 23,
   "id": "0e917e85-82c1-480a-8759-e218844425aa",
   "metadata": {},
   "outputs": [
    {
     "name": "stdout",
     "output_type": "stream",
     "text": [
      "55\n",
      "<class 'str'>\n"
     ]
    }
   ],
   "source": [
    "x = 55\n",
    "y = str(x)\n",
    "print(y)\n",
    "print(type(y))"
   ]
  },
  {
   "cell_type": "code",
   "execution_count": 24,
   "id": "b4d61066-b517-4725-bddc-47babd8be82d",
   "metadata": {},
   "outputs": [
    {
     "name": "stdout",
     "output_type": "stream",
     "text": [
      "1\n",
      "<class 'bool'>\n",
      "<class 'int'>\n"
     ]
    }
   ],
   "source": [
    "_bool = True\n",
    "int_bool = int(_bool)\n",
    "print(int_bool)\n",
    "print(type(_bool))\n",
    "print(type(int_bool))"
   ]
  },
  {
   "cell_type": "code",
   "execution_count": 25,
   "id": "3b7ea16a-ba5c-45cb-9446-046c69a7209d",
   "metadata": {},
   "outputs": [
    {
     "name": "stdout",
     "output_type": "stream",
     "text": [
      "0\n",
      "<class 'bool'>\n",
      "<class 'int'>\n"
     ]
    }
   ],
   "source": [
    "_bool = False\n",
    "int_bool = int(_bool)\n",
    "print(int_bool)\n",
    "print(type(_bool))\n",
    "print(type(int_bool))"
   ]
  },
  {
   "cell_type": "markdown",
   "id": "6a62b27c-e048-4fd5-9cfc-58a809e78a84",
   "metadata": {},
   "source": [
    "# What are Operators?\n",
    "#### Operators are tools in programming used to perform actions like arithmetic, comparisons, assignments, logical evaluations, etc.\n",
    "\n",
    "### Types of Operators in Python:\n",
    "1. Arithmetic Operators\n",
    "\n",
    "2. Comparison Operators\n",
    "\n",
    "3. Logical Operators\n",
    "\n",
    "4. Bitwise Operators\n",
    "\n",
    "5. Assignment Operators\n",
    "\n",
    "6. Membership Operators\n",
    "\n",
    "7. Identity Operators\n"
   ]
  },
  {
   "cell_type": "markdown",
   "id": "90969ad9-d4c8-4d5f-ad2a-3950fa757355",
   "metadata": {},
   "source": [
    "### Arithmetic Operators:\n",
    "- '+' Addition\n",
    "- '-' Subtraction\n",
    "- '*' Multiplication\n",
    "- '/' Division (floating)\n",
    "- '%' Modulus (remainder)\n",
    "- '**' Exponentiation\n",
    "- '//' Floor Division"
   ]
  },
  {
   "cell_type": "code",
   "execution_count": 1,
   "id": "23e70fb0-b234-4a65-938a-d8089ab97352",
   "metadata": {},
   "outputs": [
    {
     "name": "stdout",
     "output_type": "stream",
     "text": [
      "18\n",
      "4\n",
      "77\n",
      "1.5714285714285714\n",
      "4\n",
      "1\n",
      "4\n",
      "121\n",
      "5\n"
     ]
    }
   ],
   "source": [
    "x = 11\n",
    "y = 7\n",
    "z = 15\n",
    "print(x+y) # 18 'One 8' [Virat Kohli]\n",
    "print(x-y) # 4\n",
    "print(x*y) # 77 ['Shubman Gill']\n",
    "print(x/y) # 1.57....\n",
    "print(x%y) # 4\n",
    "print(z%y) # 1\n",
    "print(z%x) # 4\n",
    "print(x ** 2) # 121\n",
    "print(x // 2) # 5"
   ]
  },
  {
   "cell_type": "code",
   "execution_count": 2,
   "id": "98fc6542-b81f-45ca-98fe-c3cd9862fed5",
   "metadata": {},
   "outputs": [
    {
     "name": "stdout",
     "output_type": "stream",
     "text": [
      "19487171\n"
     ]
    }
   ],
   "source": [
    "print(x ** y)"
   ]
  },
  {
   "cell_type": "raw",
   "id": "2b107354-29e0-408d-9a0b-5294d02bc508",
   "metadata": {},
   "source": [
    "# You can't do addition with 2 different data type\n",
    "x = '10' + 11 # TypeError: can only concatenate str (not \"int\") to str\n",
    "print(x)"
   ]
  },
  {
   "cell_type": "markdown",
   "id": "8f4b94e9-df31-4def-ba21-1d1dbaed4656",
   "metadata": {},
   "source": [
    "### Comparison Operators (Return Boolean Result):\n",
    "- '==' Equal to\n",
    "- '!=' Not Equal to\n",
    "- '>' Greater Than\n",
    "- '>=' Greater Than or  Equal to\n",
    "- '<' Less Than\n",
    "- '<=' Less Than or Equal to"
   ]
  },
  {
   "cell_type": "code",
   "execution_count": 5,
   "id": "2d46bef7-29a9-4b84-aa07-5e3b6f49c4ff",
   "metadata": {},
   "outputs": [
    {
     "name": "stdout",
     "output_type": "stream",
     "text": [
      "False\n",
      "True\n",
      "True\n",
      "False\n",
      "True\n",
      "True\n",
      "False\n",
      "False\n",
      "True\n",
      "True\n"
     ]
    }
   ],
   "source": [
    "x = 11\n",
    "y = 7\n",
    "z = 15\n",
    "print(x==y) # False\n",
    "print(x!=y) # True\n",
    "print(z!=y) # True\n",
    "print(z!=15) # False\n",
    "print(x>y) # True\n",
    "print(x>=y) # True\n",
    "print(z<=y) # False\n",
    "print(z<x)  # False\n",
    "print(x != 2) # True\n",
    "print(x >= 2) # True"
   ]
  },
  {
   "cell_type": "markdown",
   "id": "a421db65-2a60-4291-9c42-c34e6471e7a7",
   "metadata": {},
   "source": [
    "#### Logical Operators:\n",
    "- and : 'Return True' if both the conditions are True\n",
    "- or : 'Return False' if both the conditions are False\n",
    "- not : Return the opposite."
   ]
  },
  {
   "cell_type": "code",
   "execution_count": 6,
   "id": "e341e508-61b6-4ae1-8294-a19c44a488cb",
   "metadata": {},
   "outputs": [
    {
     "name": "stdout",
     "output_type": "stream",
     "text": [
      "False\n",
      "True\n",
      "False\n",
      "True\n",
      "False\n"
     ]
    }
   ],
   "source": [
    "x = 11\n",
    "y = 7\n",
    "z = 15\n",
    "print((x==y)and(z!=y)or(y>x)) # False\n",
    "print((x!=y)or(z!=y)or(y>x)) # True\n",
    "print((x>=y)and(z==y)and(z>x)) # False\n",
    "print(not(z!=15)) # True\n",
    "print(not((x<=y)and(z>=y)or(y!=x))) # False"
   ]
  },
  {
   "cell_type": "code",
   "execution_count": 7,
   "id": "f3cdb086-741c-4b52-b168-015bb150b453",
   "metadata": {},
   "outputs": [
    {
     "name": "stdout",
     "output_type": "stream",
     "text": [
      "True\n"
     ]
    }
   ],
   "source": [
    "print(not(x<=y)and(z>=y)or(y!=x)) # True"
   ]
  },
  {
   "cell_type": "code",
   "execution_count": 8,
   "id": "ad6ae039-5561-485e-885a-755da471edc6",
   "metadata": {},
   "outputs": [
    {
     "name": "stdout",
     "output_type": "stream",
     "text": [
      "True\n"
     ]
    }
   ],
   "source": [
    "print(not(x<=y)or(z<=y)and(y!=x)) # (T or F and T) # (T or F) # T"
   ]
  },
  {
   "cell_type": "markdown",
   "id": "fe727a4c-e052-40d8-9582-fdf3621a35de",
   "metadata": {},
   "source": [
    "### Bitwise Operators:\n",
    "- 'AND' = '&' -> 'Both bit with value 1 return 1 else 0'\n",
    "- 'OR' = '|' -> 'Any bit with value 1 return 1 else 0'\n",
    "- 'XOR' = '^' -> 'Alternative Bits return 1 else same bits returns 0'\n",
    "- 'NOT' = '~' -> '2s Complement to check the sign and evaluate'\n",
    "- 'Left Shift' = '<<' -> 'Shift bits to the left'\n",
    "- 'Right Shift' = '>>' -> 'Shift bits to the right'"
   ]
  },
  {
   "cell_type": "code",
   "execution_count": 9,
   "id": "91ba1d60-9c58-4964-a53e-b03690a69422",
   "metadata": {},
   "outputs": [
    {
     "name": "stdout",
     "output_type": "stream",
     "text": [
      "2\n"
     ]
    }
   ],
   "source": [
    "x = 10\n",
    "y = 6\n",
    "print(x & y) # 2"
   ]
  },
  {
   "cell_type": "code",
   "execution_count": 10,
   "id": "5fd89f2b-427a-41f0-934e-843f357f43c5",
   "metadata": {},
   "outputs": [
    {
     "name": "stdout",
     "output_type": "stream",
     "text": [
      "14\n"
     ]
    }
   ],
   "source": [
    "x = 10\n",
    "y = 6\n",
    "print(x | y) # 14"
   ]
  },
  {
   "cell_type": "code",
   "execution_count": 12,
   "id": "a4157c80-1093-4e1d-8712-2b227b578af3",
   "metadata": {},
   "outputs": [
    {
     "name": "stdout",
     "output_type": "stream",
     "text": [
      "12\n"
     ]
    }
   ],
   "source": [
    "x = 10\n",
    "y = 6\n",
    "print(x ^ y) # 12"
   ]
  },
  {
   "cell_type": "code",
   "execution_count": 13,
   "id": "d9bc1dac-91bd-4a99-9a19-8785769052bc",
   "metadata": {},
   "outputs": [
    {
     "name": "stdout",
     "output_type": "stream",
     "text": [
      "-11\n"
     ]
    }
   ],
   "source": [
    "x = 10 \n",
    "print(~x)"
   ]
  },
  {
   "cell_type": "code",
   "execution_count": 14,
   "id": "3553e7aa-895d-4c2d-9352-ba6dd2d2a897",
   "metadata": {},
   "outputs": [
    {
     "name": "stdout",
     "output_type": "stream",
     "text": [
      "-8\n"
     ]
    }
   ],
   "source": [
    "x = 7 \n",
    "print(~x)"
   ]
  },
  {
   "cell_type": "code",
   "execution_count": 16,
   "id": "6d662d61-ddad-492c-8e09-a30c0b1a97aa",
   "metadata": {},
   "outputs": [
    {
     "name": "stdout",
     "output_type": "stream",
     "text": [
      "16\n"
     ]
    }
   ],
   "source": [
    "x = -17 \n",
    "print(~x)"
   ]
  },
  {
   "cell_type": "code",
   "execution_count": 17,
   "id": "3782354a-854a-4502-a24c-2246d3236936",
   "metadata": {},
   "outputs": [
    {
     "name": "stdout",
     "output_type": "stream",
     "text": [
      "40\n"
     ]
    }
   ],
   "source": [
    "x = 10\n",
    "print(x<<2)"
   ]
  },
  {
   "cell_type": "code",
   "execution_count": 18,
   "id": "54164e03-ce4e-4912-b0a2-913ab6d8bc25",
   "metadata": {},
   "outputs": [
    {
     "name": "stdout",
     "output_type": "stream",
     "text": [
      "2\n"
     ]
    }
   ],
   "source": [
    "x = 10\n",
    "print(x>>2)"
   ]
  },
  {
   "cell_type": "markdown",
   "id": "f911f3bb-38ee-454d-b68c-2a9bc6c83224",
   "metadata": {},
   "source": [
    "#### Assignment Operators : \n",
    "- '=' -> (x = 5)\n",
    "- '+=' -> x+=5 -> x = x + 5\n",
    "- '-=' -> x-=5 -> x = x - 5\n",
    "- '*=' -> x *=5 -> x = x * 5\n",
    "- '/=' -> x/=5 -> x = x / 5\n",
    "- '%=' -> x%=5 -> x = x % 5\n",
    "- '//=' -> x//=5 -> x = x // 5\n",
    "- '**=' -> x **=5 -> x = x ** 5\n"
   ]
  },
  {
   "cell_type": "code",
   "execution_count": 4,
   "id": "5a1a68fd-7588-4e6b-a9a7-ebb96a5435ef",
   "metadata": {},
   "outputs": [
    {
     "name": "stdout",
     "output_type": "stream",
     "text": [
      "21\n",
      "14\n",
      "7.0\n"
     ]
    }
   ],
   "source": [
    "x = 10\n",
    "y = 11\n",
    "z = 7\n",
    "x += y\n",
    "print(x) # x = x+y => 10+11 => x = 21\n",
    "x -= z\n",
    "print(x) # x = x-z => 21-7 => x = 14\n",
    "x /= 2\n",
    "print(x) # x = 14/2 = 7.0"
   ]
  },
  {
   "cell_type": "code",
   "execution_count": 5,
   "id": "ddb8b746-3d71-469a-aea6-5fc8d58ab6f1",
   "metadata": {},
   "outputs": [
    {
     "name": "stdout",
     "output_type": "stream",
     "text": [
      "49.0\n"
     ]
    }
   ],
   "source": [
    "x *= x\n",
    "print(x)"
   ]
  },
  {
   "cell_type": "code",
   "execution_count": 6,
   "id": "08a1d8b4-d448-46a4-bf9d-5c6207b712ea",
   "metadata": {},
   "outputs": [
    {
     "name": "stdout",
     "output_type": "stream",
     "text": [
      "5.0\n"
     ]
    }
   ],
   "source": [
    "x %= y # x = 49 % 11 = 5\n",
    "print(x)"
   ]
  },
  {
   "cell_type": "code",
   "execution_count": 7,
   "id": "97f63677-53eb-4ef5-925b-6a407eae0990",
   "metadata": {},
   "outputs": [
    {
     "name": "stdout",
     "output_type": "stream",
     "text": [
      "0.0\n"
     ]
    }
   ],
   "source": [
    "x //= z\n",
    "print(x) # x = 5.0 // 7 => 0"
   ]
  },
  {
   "cell_type": "code",
   "execution_count": 8,
   "id": "e29cbce0-5056-4e70-98bb-dfe5584391ae",
   "metadata": {},
   "outputs": [
    {
     "name": "stdout",
     "output_type": "stream",
     "text": [
      "1.0\n"
     ]
    }
   ],
   "source": [
    "y **= x # y = 11 ** 0 => 1\n",
    "print(y)"
   ]
  },
  {
   "cell_type": "code",
   "execution_count": 9,
   "id": "c7b5d5f8-3d7c-4c83-8d76-e8df651f629f",
   "metadata": {},
   "outputs": [
    {
     "name": "stdout",
     "output_type": "stream",
     "text": [
      "8.0\n"
     ]
    }
   ],
   "source": [
    "z += y # 7 + 1.0 => 8.0\n",
    "print(z) # 8.0"
   ]
  },
  {
   "cell_type": "markdown",
   "id": "2d303df7-515b-4566-8c56-b3ace25c856c",
   "metadata": {},
   "source": [
    "#### Membership Operators:\n",
    "- Its Returns Boolean Value\n",
    "- 'in' -> True if the value is in the sequences\n",
    "- 'not  in' -> True if the value is not in the sequence"
   ]
  },
  {
   "cell_type": "code",
   "execution_count": 10,
   "id": "607ef44f-d5b6-46e3-96a5-de0c4a413a28",
   "metadata": {},
   "outputs": [
    {
     "name": "stdout",
     "output_type": "stream",
     "text": [
      "True\n",
      "True\n"
     ]
    }
   ],
   "source": [
    "print('hello' in 'hello world')\n",
    "print('hello' not in 'hellz world')"
   ]
  },
  {
   "cell_type": "code",
   "execution_count": 11,
   "id": "c79b2d8a-508a-4aa2-99a1-8cc3ae85b232",
   "metadata": {},
   "outputs": [
    {
     "name": "stdout",
     "output_type": "stream",
     "text": [
      "True\n",
      "True\n"
     ]
    }
   ],
   "source": [
    "print('I' in 'India')\n",
    "print('I' not in 'America')"
   ]
  },
  {
   "cell_type": "code",
   "execution_count": 12,
   "id": "b54b051d-c31d-4090-869a-5ca0fa3d88b5",
   "metadata": {},
   "outputs": [
    {
     "name": "stdout",
     "output_type": "stream",
     "text": [
      "False\n",
      "True\n"
     ]
    }
   ],
   "source": [
    "print('mon' in ['Mon','Tue','Wed','Thurs','Fri','Sat','Sun'])\n",
    "print('mon' not in ['Mon','Tue','Wed','Thurs','Fri','Sat','Sun'])"
   ]
  },
  {
   "cell_type": "code",
   "execution_count": 14,
   "id": "756af13a-480a-422a-a0f9-c318780e11f2",
   "metadata": {},
   "outputs": [
    {
     "name": "stdout",
     "output_type": "stream",
     "text": [
      "True\n",
      "False\n"
     ]
    }
   ],
   "source": [
    "print('mon' in {'mon' : 'Mon', 'tue':'Tues'})\n",
    "print('Mon' in {'mon' : 'Mon', 'tue':'Tues'})"
   ]
  },
  {
   "cell_type": "code",
   "execution_count": 15,
   "id": "a3664ba9-5891-46b6-b614-eb6279284796",
   "metadata": {},
   "outputs": [
    {
     "name": "stdout",
     "output_type": "stream",
     "text": [
      "1\n"
     ]
    }
   ],
   "source": [
    "x = int(True)\n",
    "print(x)"
   ]
  },
  {
   "cell_type": "code",
   "execution_count": 16,
   "id": "6e3fd8ef-40b0-4184-b52e-643be172645d",
   "metadata": {},
   "outputs": [
    {
     "name": "stdout",
     "output_type": "stream",
     "text": [
      "0\n"
     ]
    }
   ],
   "source": [
    "y = int(False)\n",
    "print(y)"
   ]
  },
  {
   "cell_type": "markdown",
   "id": "85579378-8028-4494-b33b-0d5a80717f6c",
   "metadata": {},
   "source": [
    "#### Identity Operators\n",
    "- 'is' -> Returns True if both the variables refers to the same object (having same memory address)\n",
    "- 'is not' -> Returns True if both the variables refers to the different objects (different memory address) "
   ]
  },
  {
   "cell_type": "code",
   "execution_count": 17,
   "id": "2f507db0-28c7-4b51-bb98-260691b7b186",
   "metadata": {},
   "outputs": [
    {
     "name": "stdout",
     "output_type": "stream",
     "text": [
      "True\n",
      "True\n",
      "True\n",
      "False\n"
     ]
    }
   ],
   "source": [
    "# '==' comparison operator (data equality)\n",
    "# 'is' compares the identities (object equality)\n",
    "a = [1,2,3]\n",
    "b = a\n",
    "c = [1,2,3]\n",
    "print(a == b) # True (same content)\n",
    "print(a is b) # True (same object in memory)\n",
    "\n",
    "print(a == c) # True (same content)\n",
    "print(a is c) # False (different objects in memory)"
   ]
  },
  {
   "cell_type": "code",
   "execution_count": 18,
   "id": "7d63f869-5f57-46eb-923c-dbc20006a34a",
   "metadata": {},
   "outputs": [
    {
     "name": "stdout",
     "output_type": "stream",
     "text": [
      "True\n"
     ]
    }
   ],
   "source": [
    "print(a is not c)"
   ]
  },
  {
   "cell_type": "code",
   "execution_count": 19,
   "id": "777d3c9a-d108-4caa-a074-626411c1844e",
   "metadata": {},
   "outputs": [
    {
     "name": "stdout",
     "output_type": "stream",
     "text": [
      "True\n",
      "True\n",
      "False\n",
      "False\n"
     ]
    }
   ],
   "source": [
    "# '==' comparison operator (data equality)\n",
    "# 'is' compares the identities (object equality)\n",
    "a = [1,2,3]\n",
    "b = a\n",
    "c = ['a',2,3]\n",
    "print(a == b) # True (same content)\n",
    "print(b is a) # True (same object in memory)\n",
    "\n",
    "print(a == c) # False (same content)\n",
    "print(a is c) # False (different objects in memory)"
   ]
  },
  {
   "cell_type": "code",
   "execution_count": 20,
   "id": "5af880f8-447a-41d2-814c-a8a625c87717",
   "metadata": {},
   "outputs": [
    {
     "name": "stdout",
     "output_type": "stream",
     "text": [
      "2375515348800\n",
      "2375515348800\n",
      "2375515347072\n"
     ]
    }
   ],
   "source": [
    "print(id(a))\n",
    "print(id(b))\n",
    "print(id(c))"
   ]
  },
  {
   "cell_type": "markdown",
   "id": "776afa9c-55e6-4af7-83b9-caba8702d704",
   "metadata": {},
   "source": [
    "## Order of Operations (PEMDAS / BODMAS):\n",
    "1. () Parentheses\n",
    "2. ** Exponent\n",
    "3. '*' '/' '//' '%' Mulitplication, Division\n",
    "4. '+' '-' Addition, Subtraction\n",
    "5. Bitwise Operations\n",
    "6. Comparisons\n",
    "7. Identity / Membership\n",
    "8. not > and > or (Logical Operators)"
   ]
  },
  {
   "cell_type": "code",
   "execution_count": 23,
   "id": "4f88bbef-ec24-4954-896a-12cd5f23c672",
   "metadata": {},
   "outputs": [
    {
     "name": "stdout",
     "output_type": "stream",
     "text": [
      "110\n",
      "-50\n",
      "True\n"
     ]
    }
   ],
   "source": [
    "cond1 = (10*3)+((10<<3)*(10%3)) # 30 + (80 * 1) = 110\n",
    "cond2 = (5**2)*((3//2)-(10%7)) # (25) * (1 - 3) => 25 * -2 = -50\n",
    "_bool = cond1 > cond2 # 110 > -50.0 # True\n",
    "print(cond1)\n",
    "print(cond2)\n",
    "print(_bool)"
   ]
  },
  {
   "cell_type": "code",
   "execution_count": 24,
   "id": "b1f45bc4-93d4-497a-b150-85733259782d",
   "metadata": {},
   "outputs": [
    {
     "name": "stdout",
     "output_type": "stream",
     "text": [
      "False\n",
      "True\n",
      "140710664419160\n",
      "2375497281584\n"
     ]
    }
   ],
   "source": [
    "print(cond1 is cond2) # False\n",
    "print(cond1 is not cond2) # True\n",
    "print(id(cond1)) # Memory Address\n",
    "print(id(cond2)) # Memory Address"
   ]
  },
  {
   "cell_type": "code",
   "execution_count": 25,
   "id": "38d04ba0-17b9-4958-a37b-d02d568eff9a",
   "metadata": {},
   "outputs": [
    {
     "name": "stdout",
     "output_type": "stream",
     "text": [
      "False\n"
     ]
    }
   ],
   "source": [
    "print(((5 + 3 * 2) * 2 // 5 % 4 << 1 | 3) & 15 > 10 and not (8 >> 2 == 2) or (7 ^ 3 != 4))"
   ]
  },
  {
   "cell_type": "code",
   "execution_count": 28,
   "id": "eb8ae78f-f4d7-4925-82ad-5dfc1fd2399a",
   "metadata": {},
   "outputs": [
    {
     "name": "stdout",
     "output_type": "stream",
     "text": [
      "(3, 4)\n"
     ]
    }
   ],
   "source": [
    "# Built in Functions\n",
    "result = divmod(19,5)\n",
    "print(result) # tuple(q,r) -> 'q' means quotient & 'r' means remainder"
   ]
  },
  {
   "cell_type": "code",
   "execution_count": 32,
   "id": "cc642ec3-ffb0-4ea0-8a90-1da81edba84c",
   "metadata": {},
   "outputs": [
    {
     "name": "stdout",
     "output_type": "stream",
     "text": [
      "19.46\n"
     ]
    }
   ],
   "source": [
    "print(round(19.4562,2))"
   ]
  },
  {
   "cell_type": "code",
   "execution_count": 34,
   "id": "0bb42c38-5b7e-4ebf-963e-cd98f498f1d3",
   "metadata": {},
   "outputs": [],
   "source": [
    "# Strings :\n",
    "# Indexing & Slicings\n",
    "# In Python Indexing starts from zero '0'\n",
    "# slicings [start : stop : step]"
   ]
  },
  {
   "cell_type": "code",
   "execution_count": 35,
   "id": "c9e94c78-c4e2-4104-887b-abd406f9bfcf",
   "metadata": {},
   "outputs": [
    {
     "name": "stdout",
     "output_type": "stream",
     "text": [
      "C\n",
      "g\n",
      " \n",
      "a\n",
      "N\n"
     ]
    }
   ],
   "source": [
    "# Indexing [position] -> positive 'l to r' / negative 'r to l'\n",
    "_str = \"Coding Ninja\"\n",
    "print(_str[0]) # 'C'\n",
    "print(_str[5]) # 'g'\n",
    "print(_str[6]) # ' '\n",
    "print(_str[-1]) # 'a'\n",
    "print(_str[-5]) # 'N'"
   ]
  },
  {
   "cell_type": "code",
   "execution_count": 36,
   "id": "7c0e42a2-3ea0-4fe6-ae0b-2b95b752756e",
   "metadata": {},
   "outputs": [
    {
     "name": "stdout",
     "output_type": "stream",
     "text": [
      "n\n",
      "o\n"
     ]
    }
   ],
   "source": [
    "print(_str[9]) # 'n'\n",
    "print(_str[-11]) # '0'"
   ]
  },
  {
   "cell_type": "raw",
   "id": "06041093-c4c8-42ef-b420-590a20989025",
   "metadata": {},
   "source": [
    "print(_str[15]) # IndexError: string index out of range"
   ]
  },
  {
   "cell_type": "code",
   "execution_count": 42,
   "id": "72bec0fc-848c-43f6-b34b-ecff9da6a364",
   "metadata": {},
   "outputs": [
    {
     "name": "stdout",
     "output_type": "stream",
     "text": [
      "Coding\n",
      "Ninja\n",
      "Cdn ij\n",
      "Ci n\n",
      "Coding Ninja\n"
     ]
    }
   ],
   "source": [
    "# Slicing [start [0] : stop [last char] , step [1]]\n",
    "_str = \"Coding Ninja\"\n",
    "print(_str[:6]) # 'Coding'\n",
    "print(_str[7:]) # 'Ninja'\n",
    "print(_str[0:12:2]) # 'Cdn ij'\n",
    "print(_str[0:12:3]) # 'Ci n'\n",
    "print(_str[:]) # 'Coding Ninja'"
   ]
  },
  {
   "cell_type": "code",
   "execution_count": 46,
   "id": "c855b52b-df07-44c4-9510-cc0c789354c9",
   "metadata": {},
   "outputs": [
    {
     "name": "stdout",
     "output_type": "stream",
     "text": [
      "a\n",
      "Cdn ij\n",
      "Coding Ninja\n"
     ]
    }
   ],
   "source": [
    "print(_str[11]) # 'a'\n",
    "print(_str[0:15:2]) # 'Cdn ij'\n",
    "print(_str[0:20]) # 'Coding Ninja'"
   ]
  },
  {
   "cell_type": "code",
   "execution_count": 47,
   "id": "6cf3dc02-7cf9-49ed-8368-bc763c8c9ab7",
   "metadata": {},
   "outputs": [
    {
     "name": "stdout",
     "output_type": "stream",
     "text": [
      "Ninja\n",
      "ajniN gnidoC\n"
     ]
    }
   ],
   "source": [
    "print(_str[-5:]) # 'Ninja'\n",
    "print(_str[::-1]) #reverse the string"
   ]
  },
  {
   "cell_type": "code",
   "execution_count": 48,
   "id": "d9208b66-c4f3-4013-99d7-278b283b4fbf",
   "metadata": {},
   "outputs": [
    {
     "name": "stdout",
     "output_type": "stream",
     "text": [
      "\n"
     ]
    }
   ],
   "source": [
    "print(_str[-3:0]) # ''"
   ]
  },
  {
   "cell_type": "code",
   "execution_count": 49,
   "id": "925bccfa-daeb-4a38-a166-0a6ca70cf46f",
   "metadata": {},
   "outputs": [
    {
     "name": "stdout",
     "output_type": "stream",
     "text": [
      "\n"
     ]
    }
   ],
   "source": [
    "print(_str[0:0]) # ''"
   ]
  },
  {
   "cell_type": "code",
   "execution_count": 50,
   "id": "51964cc2-8244-4d19-9636-daa33e6d401f",
   "metadata": {},
   "outputs": [
    {
     "name": "stdout",
     "output_type": "stream",
     "text": [
      "niN gnido\n"
     ]
    }
   ],
   "source": [
    "print(_str[-3:0:-1]) # 'niN gnido'"
   ]
  },
  {
   "cell_type": "code",
   "execution_count": 2,
   "id": "05614697-d0ce-4317-b1ec-92c803b14f0a",
   "metadata": {},
   "outputs": [
    {
     "name": "stdout",
     "output_type": "stream",
     "text": [
      "19\n"
     ]
    }
   ],
   "source": [
    "# String Case Methods\n",
    "_str = 'Python is Awesome 🔥'\n",
    "print(len(_str))"
   ]
  },
  {
   "cell_type": "code",
   "execution_count": 3,
   "id": "45d1507d-e18b-43e0-9454-55d6b1c59df7",
   "metadata": {},
   "outputs": [
    {
     "name": "stdout",
     "output_type": "stream",
     "text": [
      "PYTHON IS AWESOME 🔥\n"
     ]
    }
   ],
   "source": [
    "print(_str.upper())"
   ]
  },
  {
   "cell_type": "code",
   "execution_count": 4,
   "id": "e957e56c-eb83-4aa9-9afe-51b9f44bc4a1",
   "metadata": {},
   "outputs": [
    {
     "name": "stdout",
     "output_type": "stream",
     "text": [
      "python is awesome 🔥\n"
     ]
    }
   ],
   "source": [
    "print(_str.lower())"
   ]
  },
  {
   "cell_type": "code",
   "execution_count": 8,
   "id": "1de0174e-cbbb-4f98-bc8b-4918cf384f54",
   "metadata": {},
   "outputs": [
    {
     "name": "stdout",
     "output_type": "stream",
     "text": [
      "Python Is Awesome 🔥\n"
     ]
    }
   ],
   "source": [
    "print(_str.title()) # Convert the first letter of each word to uppercase and the rest to lowercase"
   ]
  },
  {
   "cell_type": "code",
   "execution_count": 9,
   "id": "07a3d288-82d0-4bd3-bab0-413cc33c64da",
   "metadata": {},
   "outputs": [
    {
     "name": "stdout",
     "output_type": "stream",
     "text": [
      "Python is awesome 🔥\n"
     ]
    }
   ],
   "source": [
    "print(_str.capitalize()) # Convert the first letter of whole sentence to uppercase and rest to lower"
   ]
  },
  {
   "cell_type": "code",
   "execution_count": 11,
   "id": "6fd3ba82-ed75-45b4-a066-51586f5c6eeb",
   "metadata": {},
   "outputs": [
    {
     "name": "stdout",
     "output_type": "stream",
     "text": [
      "Coding Ninjas\n"
     ]
    }
   ],
   "source": [
    "# String Operations\n",
    "str1 = 'Coding'\n",
    "str2 = 'Ninjas'\n",
    "new_string = str1 + ' ' + str2 # Concatenation\n",
    "print(new_string)"
   ]
  },
  {
   "cell_type": "code",
   "execution_count": 12,
   "id": "7dfcde08-c19f-44b5-962e-45812028a10a",
   "metadata": {},
   "outputs": [
    {
     "name": "stdout",
     "output_type": "stream",
     "text": [
      "Hi, Aditya, You are 29 year old.\n"
     ]
    }
   ],
   "source": [
    "name = 'Aditya'\n",
    "age = 29\n",
    "print(f'Hi, {name}, You are {age} year old.')"
   ]
  },
  {
   "cell_type": "code",
   "execution_count": 15,
   "id": "98348aa8-84cd-49a5-9350-74913b6ca39f",
   "metadata": {},
   "outputs": [
    {
     "name": "stdout",
     "output_type": "stream",
     "text": [
      "HiAditya, You are 29 year old.\n"
     ]
    }
   ],
   "source": [
    "# TypeError: can only concatenate str (not \"int\") to str\n",
    "name = 'Aditya'\n",
    "age = 29\n",
    "print('Hi' + name + ', You are ' + str(age) + ' year old.')"
   ]
  },
  {
   "cell_type": "code",
   "execution_count": 16,
   "id": "0103682d-39ff-4cd6-90e5-d960a9af01d6",
   "metadata": {},
   "outputs": [
    {
     "name": "stdout",
     "output_type": "stream",
     "text": [
      "<class 'int'>\n"
     ]
    }
   ],
   "source": [
    "print(type(age))"
   ]
  },
  {
   "cell_type": "code",
   "execution_count": 19,
   "id": "b8f1e2ee-d923-4192-89be-7472a259fdca",
   "metadata": {},
   "outputs": [
    {
     "name": "stdout",
     "output_type": "stream",
     "text": [
      "Ninjas\n",
      "Ninjas\n",
      "Ninjas\n",
      "\n"
     ]
    }
   ],
   "source": [
    "# Repeat (*)\n",
    "_echo = 'Ninjas\\n'\n",
    "print(_echo * 3)"
   ]
  },
  {
   "cell_type": "code",
   "execution_count": 20,
   "id": "1c769a50-8185-46bb-a847-ad1efc9b92e0",
   "metadata": {},
   "outputs": [
    {
     "name": "stdout",
     "output_type": "stream",
     "text": [
      "False\n",
      "True\n",
      "True\n",
      "False\n"
     ]
    }
   ],
   "source": [
    "# String Comparison\n",
    "_str1 = 'Python'\n",
    "_str2 = 'Java'\n",
    "print(_str1 == _str2) # False\n",
    "print(_str1 != _str2) # True\n",
    "print(_str1 >= _str2) # True\n",
    "print(_str1 <= _str2) # False"
   ]
  },
  {
   "cell_type": "code",
   "execution_count": 22,
   "id": "3dcf4082-a23d-4528-826a-5a5b3225a588",
   "metadata": {},
   "outputs": [
    {
     "name": "stdout",
     "output_type": "stream",
     "text": [
      "False\n",
      "True\n",
      "False\n",
      "True\n"
     ]
    }
   ],
   "source": [
    "_str1 = 'Swim'\n",
    "_str2 = 'Swimming'\n",
    "print(_str1 == _str2) # False\n",
    "print(_str1 != _str2) # True\n",
    "print(_str1 >= _str2) # False\n",
    "print(_str1 <= _str2) # True"
   ]
  },
  {
   "cell_type": "code",
   "execution_count": 23,
   "id": "5641cfb5-5437-45fc-a55e-c68e6cc4af37",
   "metadata": {},
   "outputs": [
    {
     "name": "stdout",
     "output_type": "stream",
     "text": [
      "False\n",
      "True\n",
      "True\n",
      "False\n"
     ]
    }
   ],
   "source": [
    "_str1 = 'coding'\n",
    "_str2 = 'Coding'\n",
    "print(_str1 == _str2) # False\n",
    "print(_str1 != _str2) # True\n",
    "print(_str1 >= _str2) # True\n",
    "print(_str1 <= _str2) # False"
   ]
  },
  {
   "cell_type": "code",
   "execution_count": 24,
   "id": "0546bd84-72ce-4207-90ac-836ea3affe0f",
   "metadata": {},
   "outputs": [
    {
     "name": "stdout",
     "output_type": "stream",
     "text": [
      "False\n",
      "True\n",
      "True\n",
      "False\n"
     ]
    }
   ],
   "source": [
    "_str1 = 'coding'\n",
    "_str2 = 'Zodiac'\n",
    "print(_str1 == _str2) # False\n",
    "print(_str1 != _str2) # True\n",
    "print(_str1 >= _str2) # True\n",
    "print(_str1 <= _str2) # False"
   ]
  },
  {
   "cell_type": "code",
   "execution_count": 25,
   "id": "a1cee084-ce8f-47a4-b695-bc4ace5773ae",
   "metadata": {},
   "outputs": [
    {
     "name": "stdout",
     "output_type": "stream",
     "text": [
      "False\n",
      "True\n",
      "True\n",
      "False\n"
     ]
    }
   ],
   "source": [
    "_str1 = 'cODING'\n",
    "_str2 = 'Coding'\n",
    "print(_str1 == _str2) # False\n",
    "print(_str1 != _str2) # True\n",
    "print(_str1 >= _str2) # True\n",
    "print(_str1 <= _str2) # False"
   ]
  },
  {
   "cell_type": "code",
   "execution_count": 26,
   "id": "0d55f110-12bf-41a5-bc64-beb963f66883",
   "metadata": {},
   "outputs": [
    {
     "name": "stdout",
     "output_type": "stream",
     "text": [
      "False\n",
      "True\n",
      "True\n",
      "False\n"
     ]
    }
   ],
   "source": [
    "_str1 = 'swim'\n",
    "_str2 = 'Swimming'\n",
    "print(_str1 == _str2) # False\n",
    "print(_str1 != _str2) # True\n",
    "print(_str1 >= _str2) # True\n",
    "print(_str1 <= _str2) # False"
   ]
  },
  {
   "cell_type": "raw",
   "id": "c74c0c85-3158-487f-8a2f-2723ccbef51c",
   "metadata": {},
   "source": [
    "'s' > 'S' [small character having greater ASCII Values > 'S' having low ASCII Value]\n",
    "length also plays an important role if the previous characters going to tie."
   ]
  },
  {
   "cell_type": "code",
   "execution_count": 27,
   "id": "8dfc5a71-5f64-4e84-9355-80eb7c9dea64",
   "metadata": {},
   "outputs": [
    {
     "name": "stdout",
     "output_type": "stream",
     "text": [
      "Python is Fantastic!\n"
     ]
    }
   ],
   "source": [
    "# Common String Methods\n",
    "# replace\n",
    "_str = 'Python is Awesome!'\n",
    "new_str = _str.replace('Awesome', 'Fantastic')\n",
    "print(new_str)"
   ]
  },
  {
   "cell_type": "code",
   "execution_count": 28,
   "id": "e0f659bb-f106-4641-85ab-055c1db1ee46",
   "metadata": {},
   "outputs": [
    {
     "name": "stdout",
     "output_type": "stream",
     "text": [
      "Python is Awesome!\n"
     ]
    }
   ],
   "source": [
    "print(_str)"
   ]
  },
  {
   "cell_type": "code",
   "execution_count": 29,
   "id": "27ce704c-b967-40ca-ac08-ae31bf6415a8",
   "metadata": {},
   "outputs": [
    {
     "name": "stdout",
     "output_type": "stream",
     "text": [
      "PythOn is AwesOme!\n"
     ]
    }
   ],
   "source": [
    "_str = 'Python is Awesome!'\n",
    "new_str = _str.replace('o','O')\n",
    "print(new_str)"
   ]
  },
  {
   "cell_type": "code",
   "execution_count": 30,
   "id": "720af06d-b3a7-425e-8a11-1704e0eb1cd6",
   "metadata": {},
   "outputs": [
    {
     "name": "stdout",
     "output_type": "stream",
     "text": [
      "['Indore', 'MadhyaPradesh', 'India']\n"
     ]
    }
   ],
   "source": [
    "# split()\n",
    "_text = 'Indore@MadhyaPradesh@India'\n",
    "print(_text.split('@'))"
   ]
  },
  {
   "cell_type": "code",
   "execution_count": 32,
   "id": "4b469b18-ea05-4263-bdf9-995effbff686",
   "metadata": {},
   "outputs": [
    {
     "name": "stdout",
     "output_type": "stream",
     "text": [
      "['SQL', 'Python', 'Excel', 'PowerBI']\n"
     ]
    }
   ],
   "source": [
    "topics = 'SQL*Python*Excel*PowerBI'\n",
    "topic_list = topics.split('*')\n",
    "print(topic_list)"
   ]
  },
  {
   "cell_type": "code",
   "execution_count": 41,
   "id": "73b115af-6166-477d-a826-6db5c0370f73",
   "metadata": {},
   "outputs": [
    {
     "data": {
      "text/plain": [
       "'Python'"
      ]
     },
     "execution_count": 41,
     "metadata": {},
     "output_type": "execute_result"
    }
   ],
   "source": [
    "topic_list[1]"
   ]
  },
  {
   "cell_type": "code",
   "execution_count": 44,
   "id": "6b38f5e9-f6a6-4c0e-bef6-62e0fd5cbad8",
   "metadata": {},
   "outputs": [
    {
     "name": "stdout",
     "output_type": "stream",
     "text": [
      "['ViratKohli', 'MSD', 'RohitSharma', 'Sachin']\n"
     ]
    }
   ],
   "source": [
    "split_str = \"ViratKohli MSD RohitSharma Sachin\"\n",
    "print(split_str.split())"
   ]
  },
  {
   "cell_type": "code",
   "execution_count": 45,
   "id": "05a34cd8-270a-4b22-a453-fcdb8d2b69b0",
   "metadata": {},
   "outputs": [
    {
     "name": "stdout",
     "output_type": "stream",
     "text": [
      "['http:', '', 'localhost:8889', 'notebooks', 'anaconda_projects', 'CN-Python-TTS', 'PythonSession.ipynb?']\n"
     ]
    }
   ],
   "source": [
    "file_path = \"http://localhost:8889/notebooks/anaconda_projects/CN-Python-TTS/PythonSession.ipynb?\"\n",
    "path_list = file_path.split('/')\n",
    "print(path_list)"
   ]
  },
  {
   "cell_type": "code",
   "execution_count": 49,
   "id": "e6aae3b0-748b-41d2-ae82-0d5bf9653afc",
   "metadata": {},
   "outputs": [
    {
     "name": "stdout",
     "output_type": "stream",
     "text": [
      "Hi, Jasaswini.... You are 27 years old. Congratulation! You are Female!\n"
     ]
    }
   ],
   "source": [
    "# String Format -> .format() / f-string\n",
    "name = 'Jasaswini'\n",
    "age = 27\n",
    "gender = 'Female'\n",
    "print('Hi, {}.... You are {} years old. Congratulation! You are {}!'.format(name,age,gender))"
   ]
  },
  {
   "cell_type": "code",
   "execution_count": 50,
   "id": "03bb85a0-dab8-4d08-a5df-712fc96dcfb1",
   "metadata": {},
   "outputs": [
    {
     "name": "stdout",
     "output_type": "stream",
     "text": [
      "Hi, Jasaswini.... You are 27 years old. Congratulation! You are Female!\n"
     ]
    }
   ],
   "source": [
    "# String Format -> .format() / f-string\n",
    "name = 'Jasaswini'\n",
    "age = 27\n",
    "gender = 'Female'\n",
    "print(f'Hi, {name}.... You are {age} years old. Congratulation! You are {gender}!')"
   ]
  },
  {
   "cell_type": "code",
   "execution_count": 51,
   "id": "f46fc7e4-ef39-44b4-a5f0-811bba5ce42b",
   "metadata": {},
   "outputs": [
    {
     "name": "stdout",
     "output_type": "stream",
     "text": [
      "Python Programming\n"
     ]
    }
   ],
   "source": [
    "# Strip() -> same like trim \n",
    "print('    Python Programming      '.strip())"
   ]
  },
  {
   "cell_type": "code",
   "execution_count": 52,
   "id": "c81380c2-cc03-4174-bc5a-72d4705dd332",
   "metadata": {},
   "outputs": [
    {
     "name": "stdout",
     "output_type": "stream",
     "text": [
      "Python Programming\n"
     ]
    }
   ],
   "source": [
    "# Strip() -> same like trim \n",
    "print('******Python Programming*******'.strip('*'))"
   ]
  },
  {
   "cell_type": "code",
   "execution_count": 53,
   "id": "f8519426-c584-4b2c-b803-cb36af647516",
   "metadata": {},
   "outputs": [
    {
     "name": "stdout",
     "output_type": "stream",
     "text": [
      "Python Programming\n"
     ]
    }
   ],
   "source": [
    "# Strip() -> same like trim \n",
    "print('******Python Programming'.strip('*'))"
   ]
  },
  {
   "cell_type": "code",
   "execution_count": 54,
   "id": "6ca4937f-99a1-4730-9bbd-d65b67da2ac5",
   "metadata": {},
   "outputs": [
    {
     "name": "stdout",
     "output_type": "stream",
     "text": [
      "Python Programming\n"
     ]
    }
   ],
   "source": [
    "# Strip() -> same like trim \n",
    "print('Python Programming********'.strip('*'))"
   ]
  },
  {
   "cell_type": "code",
   "execution_count": 55,
   "id": "3616f921-8f70-4d2a-bbbf-cae8ab04fa42",
   "metadata": {},
   "outputs": [
    {
     "name": "stdout",
     "output_type": "stream",
     "text": [
      "Python Programming\n"
     ]
    }
   ],
   "source": [
    "# Strip() -> same like trim \n",
    "print('$$$$$$$Python Programming********'.strip('*').strip('$'))"
   ]
  },
  {
   "cell_type": "code",
   "execution_count": 59,
   "id": "0644a45a-c251-4c3c-b809-306b4405c3f2",
   "metadata": {},
   "outputs": [
    {
     "name": "stdout",
     "output_type": "stream",
     "text": [
      "Python Programming\n"
     ]
    }
   ],
   "source": [
    "# Strip() -> same like trim \n",
    "print('$$$$$$$Python Programming********'.strip('*$'))"
   ]
  },
  {
   "cell_type": "code",
   "execution_count": 56,
   "id": "1f33e054-b4d4-45b2-a7ae-fb58b58bd6e9",
   "metadata": {},
   "outputs": [
    {
     "name": "stdout",
     "output_type": "stream",
     "text": [
      "2\n"
     ]
    }
   ],
   "source": [
    "# index() -> position \n",
    "_str = \"This is a Python Course!\"\n",
    "print(_str.index('is'))"
   ]
  },
  {
   "cell_type": "code",
   "execution_count": 62,
   "id": "9768b4be-0dac-4d1e-a02d-8c333490ee17",
   "metadata": {},
   "outputs": [
    {
     "name": "stdout",
     "output_type": "stream",
     "text": [
      "10\n"
     ]
    }
   ],
   "source": [
    "# index() -> position \n",
    "_str = \"This is a Python Course!\"\n",
    "# print(_str.index('python')) # ValueError: substring not found\n",
    "print(_str.index('Python')) "
   ]
  },
  {
   "cell_type": "code",
   "execution_count": 63,
   "id": "b8a7ae8e-25da-41e7-9b1b-f035febb7c2a",
   "metadata": {},
   "outputs": [
    {
     "name": "stdout",
     "output_type": "stream",
     "text": [
      "5\n",
      "5\n"
     ]
    }
   ],
   "source": [
    "# index() -> position \n",
    "_str = \"This is a Python Course!\"\n",
    "print(_str.index('is',3,10)) # index(substr,start,stop)\n",
    "print(_str.index('is',3)) # index(substr,start,stop)"
   ]
  },
  {
   "cell_type": "raw",
   "id": "cb3e1926-5b3c-47cf-a965-53874fb94bdd",
   "metadata": {},
   "source": [
    "index(substr, start = 0, stop = 'len(text)')"
   ]
  },
  {
   "cell_type": "code",
   "execution_count": 64,
   "id": "ab78413c-ad47-4307-bf53-562a9bbc6790",
   "metadata": {},
   "outputs": [
    {
     "name": "stdout",
     "output_type": "stream",
     "text": [
      "True\n",
      "False\n",
      "True\n",
      "False\n",
      "True\n",
      "True\n",
      "True\n",
      "False\n",
      "False\n",
      "mENTORSHIP pROGRAM!77\n"
     ]
    }
   ],
   "source": [
    "# String Checks() -> Returns Boolean Result\n",
    "print(\"CodingNinjas\".isalpha()) # True\n",
    "print(\"Ninja99\".isalpha()) # False\n",
    "print(\"Ninja99\".isalnum()) # True\n",
    "print(\"CodingNinja\".isupper()) # False\n",
    "print(\"CODING\".isupper()) # True\n",
    "print(\"coding\".islower()) # True\n",
    "print(\"123456789\".isnumeric()) # True\n",
    "print(\"coding123\".isnumeric()) # False\n",
    "print(\"coding123\".isnumeric()) # False\n",
    "print('Mentorship Program!77'.swapcase()) # lower -> upper & upper -> lower "
   ]
  },
  {
   "cell_type": "code",
   "execution_count": 65,
   "id": "4b3219c1-b4fe-489d-867d-6859e7380e9e",
   "metadata": {},
   "outputs": [
    {
     "name": "stdout",
     "output_type": "stream",
     "text": [
      "False\n",
      "True\n",
      "False\n",
      "False\n",
      "True\n",
      "True\n"
     ]
    }
   ],
   "source": [
    "# startswith (Boolean Return)\n",
    "_str = 'Hey, Welcome to the World of Programming!'\n",
    "print(_str.startswith('hey')) # False\n",
    "print(_str.startswith('Hey')) # True\n",
    "print(_str.startswith('Hello')) # False\n",
    "print(_str.startswith('Hi')) # False\n",
    "print(_str.startswith('H')) # True\n",
    "print(_str.startswith('Welcome',5)) # True"
   ]
  },
  {
   "cell_type": "code",
   "execution_count": 68,
   "id": "9c0d2c8c-8e06-4bca-a28d-b590c5e91532",
   "metadata": {},
   "outputs": [
    {
     "name": "stdout",
     "output_type": "stream",
     "text": [
      "False\n",
      "False\n",
      "True\n",
      "True\n",
      "True\n",
      "True\n",
      "True\n",
      "False\n"
     ]
    }
   ],
   "source": [
    "# endswith (Boolean Return)\n",
    "_str = 'Hey, Welcome to the World of Programming!'\n",
    "print(_str.endswith('hey')) # False\n",
    "print(_str.endswith('Program')) # False\n",
    "print(_str.endswith('Programming!')) # True\n",
    "print(_str.endswith('!')) # True\n",
    "print(_str.endswith('g!')) # True\n",
    "print(_str.endswith('ing!',-4)) # True\n",
    "print(_str.endswith('ing!')) # True\n",
    "print(_str.endswith('ing!',-3)) # False"
   ]
  },
  {
   "cell_type": "code",
   "execution_count": 69,
   "id": "8cbfcab2-5af8-4678-875f-31fd340cad01",
   "metadata": {},
   "outputs": [
    {
     "name": "stdout",
     "output_type": "stream",
     "text": [
      "2\n"
     ]
    }
   ],
   "source": [
    "# .count() -> 'substring' -> count the substring\n",
    "_str = \"This is a Python Course!\"\n",
    "print(_str.count('is'))"
   ]
  },
  {
   "cell_type": "code",
   "execution_count": 70,
   "id": "eaf4707a-e94a-4a60-b12a-0a37c87b6bcb",
   "metadata": {},
   "outputs": [
    {
     "name": "stdout",
     "output_type": "stream",
     "text": [
      "True\n"
     ]
    }
   ],
   "source": [
    "print('is' in _str)"
   ]
  },
  {
   "cell_type": "markdown",
   "id": "aef0f5c8-1a13-45da-aeff-858ab1dd2ef7",
   "metadata": {},
   "source": [
    "# What is a Data Structure?\n",
    "#### A data structure is simply a way to organize and store data in memory, so that we can use it efficiently.\n",
    "\n",
    "## Why do we need to use them?\n",
    "1. Organizations : Keep the data neat and easy to find.\n",
    "2. Efficiency - Helps to perform operations (insert, delete, search) quickly.\n",
    "3. Memory Management - Savas space, avoid waste.\n",
    "4. Flexibility - Can store all sorts of data (number, text, etc.)\n",
    "5. Abstraction - Hides the complex details, we just call simple operations\n",
    "6. Scalability - Good Data Structure lets our program handle more data without slowing down."
   ]
  },
  {
   "cell_type": "markdown",
   "id": "88e8e4a1-8ca6-4b71-82ae-05b2bddaab36",
   "metadata": {},
   "source": [
    "# Lists in Python:\n",
    "#### A List is :\n",
    "1. An ordered collection (items have a fixed position).\n",
    "2. mutable (can be changed after creation).\n",
    "3. Allows Duplicates.\n",
    "4. Lists are also flexible -> they can store different data types together like integers, string, booleans, etc.\n",
    "\n",
    "## Why use lists?\n",
    "- To keep a group of related items togethers in a specific order.\n",
    "- To easily add, remove, change, or access the elements.\n",
    "- To perform the task like sorting, or summing values."
   ]
  },
  {
   "cell_type": "code",
   "execution_count": 2,
   "id": "aab171b0-c53f-4406-b4fd-76541ed5e8b0",
   "metadata": {},
   "outputs": [
    {
     "name": "stdout",
     "output_type": "stream",
     "text": [
      "[]\n",
      "<class 'list'>\n"
     ]
    }
   ],
   "source": [
    "_list = []\n",
    "print(_list)\n",
    "print(type(_list))"
   ]
  },
  {
   "cell_type": "code",
   "execution_count": 3,
   "id": "71891a06-cff5-4893-997d-9eaf9fd589fc",
   "metadata": {},
   "outputs": [
    {
     "name": "stdout",
     "output_type": "stream",
     "text": [
      "[1, 2, 3, 4, 5]\n"
     ]
    }
   ],
   "source": [
    "_list = [1,2,3,4,5] # integer _list\n",
    "print(_list)"
   ]
  },
  {
   "cell_type": "code",
   "execution_count": 4,
   "id": "9cc8188b-9cd2-46a2-8724-819ae5f0b3c1",
   "metadata": {},
   "outputs": [
    {
     "name": "stdout",
     "output_type": "stream",
     "text": [
      "[1, 2.9, False, 'coding', 'k']\n"
     ]
    }
   ],
   "source": [
    "_list = [1,2.9,False,'coding','k'] # mixed _list\n",
    "print(_list)"
   ]
  },
  {
   "cell_type": "code",
   "execution_count": 8,
   "id": "8e1630a8-faa0-429b-9f57-a484f6888d26",
   "metadata": {},
   "outputs": [
    {
     "name": "stdout",
     "output_type": "stream",
     "text": [
      "['India', 'America', 'Russia', 'China', 'Canada', 'Japan', 'Vietnam', 'Sri-Lanka', 'Japan', 'France', 'India', 'Singapore', 'Australia', 'China', 'New Zealand', 'Finland']\n",
      "<class 'list'>\n"
     ]
    }
   ],
   "source": [
    "# Duplicate elements are allowed in List\n",
    "country_list = ['India','America','Russia','China','Canada','Japan','Vietnam',\n",
    "                'Sri-Lanka','Japan','France','India','Singapore','Australia',\n",
    "                'China','New Zealand','Finland']\n",
    "print(country_list)\n",
    "print(type(country_list))"
   ]
  },
  {
   "cell_type": "code",
   "execution_count": 10,
   "id": "bb80b59d-54af-4423-91be-cbadfa6c172a",
   "metadata": {},
   "outputs": [
    {
     "name": "stdout",
     "output_type": "stream",
     "text": [
      "['India', 'America', 'Russia', 'China', 'Canada', 'Japan', 'Vietnam', 'Sri-Lanka', 'Japan', 'France', 'India', 'Singapore', 'Australia', 'China', 'New Zealand', 'Finland']\n",
      "<class 'list'>\n"
     ]
    }
   ],
   "source": [
    "# list() constructor\n",
    "country_list = list(('India','America','Russia','China','Canada','Japan','Vietnam','Sri-Lanka',\n",
    "                     'Japan','France','India','Singapore','Australia','China','New Zealand','Finland'))\n",
    "print(country_list)\n",
    "print(type(country_list))"
   ]
  },
  {
   "cell_type": "code",
   "execution_count": 15,
   "id": "1c826c76-6312-490a-a3c3-535fb0ce4a41",
   "metadata": {},
   "outputs": [
    {
     "name": "stdout",
     "output_type": "stream",
     "text": [
      "['C', 'o', 'd', 'i', 'n', 'g']\n",
      "<class 'list'>\n"
     ]
    }
   ],
   "source": [
    "_list = list(\"Coding\")\n",
    "print(_list)\n",
    "print(type(_list))"
   ]
  },
  {
   "cell_type": "code",
   "execution_count": 16,
   "id": "1c127521-3ee8-4a1a-bb39-5231c051e222",
   "metadata": {},
   "outputs": [
    {
     "name": "stdout",
     "output_type": "stream",
     "text": [
      "['Coding']\n",
      "<class 'list'>\n"
     ]
    }
   ],
   "source": [
    "_list = list((\"Coding\",))\n",
    "print(_list)\n",
    "print(type(_list))"
   ]
  },
  {
   "cell_type": "code",
   "execution_count": 19,
   "id": "923802bd-09ff-4c3f-85a2-0fa9a63d1a1a",
   "metadata": {},
   "outputs": [
    {
     "name": "stdout",
     "output_type": "stream",
     "text": [
      "['Coding']\n",
      "<class 'list'>\n"
     ]
    }
   ],
   "source": [
    "_list = list([\"Coding\"])\n",
    "print(_list)\n",
    "print(type(_list))"
   ]
  },
  {
   "cell_type": "code",
   "execution_count": 17,
   "id": "00d60d72-64f6-4f44-8c0d-74e83749a1cc",
   "metadata": {},
   "outputs": [
    {
     "name": "stdout",
     "output_type": "stream",
     "text": [
      "<class 'str'>\n"
     ]
    }
   ],
   "source": [
    "val = ('Python')\n",
    "print(type(val))"
   ]
  },
  {
   "cell_type": "code",
   "execution_count": 18,
   "id": "4e7f9065-853d-4651-bfa8-16fa52fb03ce",
   "metadata": {},
   "outputs": [
    {
     "name": "stdout",
     "output_type": "stream",
     "text": [
      "<class 'tuple'>\n"
     ]
    }
   ],
   "source": [
    "val = ('Python',)\n",
    "print(type(val))"
   ]
  },
  {
   "cell_type": "code",
   "execution_count": 22,
   "id": "f38a7e53-ac85-46f9-9bb1-658128dfbce6",
   "metadata": {},
   "outputs": [
    {
     "name": "stdout",
     "output_type": "stream",
     "text": [
      "[111, 'Coding', [11, 22, 33, 44, 55], 'Python', ['a', 'b', 'c', 'd', 'e'], True]\n",
      "111\n",
      "[11, 22, 33, 44, 55]\n",
      "22\n",
      "e\n"
     ]
    }
   ],
   "source": [
    "# Nested List -> A List inside a List\n",
    "nested_list = [\n",
    "    111,\n",
    "    'Coding',\n",
    "    [11,22,33,44,55],\n",
    "    'Python',\n",
    "    ['a','b','c','d','e'],\n",
    "    True\n",
    "]\n",
    "print(nested_list)\n",
    "print(nested_list[0]) # 111\n",
    "print(nested_list[2]) # [11,22,33,44,55]\n",
    "print(nested_list[2][1]) # 22\n",
    "print(nested_list[4][-1]) # 'e'"
   ]
  },
  {
   "cell_type": "code",
   "execution_count": 24,
   "id": "2deae4ed-6bd0-4f35-bc1a-7392accc33e1",
   "metadata": {},
   "outputs": [
    {
     "name": "stdout",
     "output_type": "stream",
     "text": [
      "India\n",
      "Japan\n",
      "Australia\n",
      "Finland\n",
      "Finland\n",
      "France\n"
     ]
    }
   ],
   "source": [
    "# Indexing & Slicing \n",
    "country_list = list(('India','America','Russia','China','Canada','Japan','Vietnam','Sri-Lanka','Japan',\n",
    "                     'France','India','Singapore','Australia','China','New Zealand','Finland'))\n",
    "print(country_list[0]) # 'India'\n",
    "print(country_list[5]) # 'Japan'\n",
    "print(country_list[-4]) # 'Australia'\n",
    "print(country_list[15]) # 'Finland'\n",
    "print(country_list[-1]) # 'Finland'\n",
    "print(country_list[-7]) # 'France'\n",
    "# print(country_list[-17]) # IndexError: list index out of range\n",
    "# print(country_list[17]) # 'Index Error'"
   ]
  },
  {
   "cell_type": "raw",
   "id": "c0e363a3-ec4d-44ef-8b8e-9ef0e09ef768",
   "metadata": {},
   "source": [
    "# Slicing if applied on a string means taking the substring of a string \n",
    "# Slicing on List means cutting down the list to sublist.\n",
    "# Slicing [start:0, stop: length of a list [exclude], step = 1]"
   ]
  },
  {
   "cell_type": "code",
   "execution_count": 25,
   "id": "d782d3d2-5238-484b-8ff3-98e093d341ca",
   "metadata": {},
   "outputs": [
    {
     "name": "stdout",
     "output_type": "stream",
     "text": [
      "['India', 'America', 'Russia', 'China', 'Canada', 'Japan', 'Vietnam', 'Sri-Lanka', 'Japan', 'France', 'India', 'Singapore', 'Australia', 'China', 'New Zealand', 'Finland']\n",
      "['Russia', 'China', 'Canada']\n",
      "['France', 'India', 'Singapore', 'Australia', 'China', 'New Zealand', 'Finland']\n",
      "['Singapore', 'Australia', 'China', 'New Zealand', 'Finland']\n",
      "[]\n",
      "['Sri-Lanka', 'Vietnam', 'Japan', 'Canada', 'China']\n",
      "['Australia', 'China']\n"
     ]
    }
   ],
   "source": [
    "country_list = list(('India','America','Russia','China','Canada','Japan','Vietnam','Sri-Lanka','Japan',\n",
    "                     'France','India','Singapore','Australia','China','New Zealand','Finland'))\n",
    "print(country_list[::]) # [Full List]\n",
    "print(country_list[2:5]) # ['Russia','China','Canada']\n",
    "print(country_list[9:]) # ['France','India','Singapore','Australia','China','New Zealand','Finland']\n",
    "print(country_list[-5:]) #  ['Singapore','Australia','China','New Zealand','Finland']\n",
    "print(country_list[-9:2]) #  []\n",
    "print(country_list[-9:2:-1]) #  ['Sri-Lanka','Vietnam','Japan','Canada','China']\n",
    "print(country_list[-4:-2]) #  ['Australia','China']"
   ]
  },
  {
   "cell_type": "code",
   "execution_count": 28,
   "id": "d0292184-8eb1-4728-8516-a0cb7b168828",
   "metadata": {},
   "outputs": [
    {
     "name": "stdout",
     "output_type": "stream",
     "text": [
      "['Sri-Lanka', 'Japan', 'China']\n",
      "['Sri-Lanka', 'Canada']\n",
      "['Sri-Lanka', 'China']\n",
      "['Sri-Lanka', 'Japan', 'France', 'India', 'Singapore', 'Australia', 'China']\n"
     ]
    }
   ],
   "source": [
    "country_list = list(('India','America','Russia','China','Canada','Japan','Vietnam','Sri-Lanka','Japan',\n",
    "                     'France','India','Singapore','Australia','China','New Zealand','Finland'))\n",
    "print(country_list[-9:2:-2]) # ['Sri-Lanka','Japan','China']\n",
    "print(country_list[-9:2:-3]) # ['Sri-Lanka','Canada']\n",
    "print(country_list[-9:2:-4]) # ['Sri-Lanka','China']\n",
    "print(country_list[-9:-2]) # ['Sri-Lanka','Japan','France','India','Singapore','Australia','China','New Zealand']"
   ]
  },
  {
   "cell_type": "code",
   "execution_count": 29,
   "id": "6147eca1-d772-4443-9d14-9e9edf3e8197",
   "metadata": {},
   "outputs": [
    {
     "name": "stdout",
     "output_type": "stream",
     "text": [
      "['Sri-Lanka', 'Japan', 'France', 'India', 'Singapore']\n"
     ]
    }
   ],
   "source": [
    "print(country_list[-9:12]) #  ['Sri-Lanka','Japan','France','India','Singapore']"
   ]
  },
  {
   "cell_type": "code",
   "execution_count": 32,
   "id": "f9a23dc5-69e1-486b-ac36-e0c96bbe7186",
   "metadata": {},
   "outputs": [
    {
     "name": "stdout",
     "output_type": "stream",
     "text": [
      "['Sri-Lanka', 'Vietnam', 'Japan', 'Canada', 'China']\n",
      "['Sri-Lanka', 'France']\n"
     ]
    }
   ],
   "source": [
    "print(country_list[-9:2:-1])\n",
    "print(country_list[-9:-5:2])"
   ]
  },
  {
   "cell_type": "code",
   "execution_count": 33,
   "id": "52acf2b5-3a2b-4d99-ab82-072ed5331402",
   "metadata": {},
   "outputs": [
    {
     "name": "stdout",
     "output_type": "stream",
     "text": [
      "16\n"
     ]
    }
   ],
   "source": [
    "# Basic List Operations: \n",
    "# len() -> returning the length of a list or number of elements present in a list\n",
    "print(len(country_list))"
   ]
  },
  {
   "cell_type": "code",
   "execution_count": 40,
   "id": "45fafad8-34f0-4dbe-ad1f-e6d410671660",
   "metadata": {},
   "outputs": [
    {
     "name": "stdout",
     "output_type": "stream",
     "text": [
      "10\n",
      "11\n",
      "110\n",
      "605\n"
     ]
    }
   ],
   "source": [
    "# min(),max(),sum()\n",
    "_num_list = [11,22,33,44,55,66,77,88,99,110]\n",
    "print(len(_num_list)) # 10\n",
    "print(min(_num_list)) # 11\n",
    "print(max(_num_list)) # 110\n",
    "print(sum(_num_list)) # sum of all elements"
   ]
  },
  {
   "cell_type": "code",
   "execution_count": 41,
   "id": "bee980bb-51b2-4c46-8453-89322bb9e9fa",
   "metadata": {},
   "outputs": [
    {
     "name": "stdout",
     "output_type": "stream",
     "text": [
      "12\n",
      "False\n",
      "110\n",
      "606\n"
     ]
    }
   ],
   "source": [
    "_num_list = [11,22,33,44,55,66,77,88,99,110,False,True] # False -> 0 , True = 1\n",
    "print(len(_num_list)) # 12\n",
    "print(min(_num_list)) # 0 [False]\n",
    "print(max(_num_list)) # 110 \n",
    "print(sum(_num_list)) # sum of all elements + 1 [True] [605 + 1] = 606"
   ]
  },
  {
   "cell_type": "code",
   "execution_count": 36,
   "id": "220ece98-5e03-46d6-b3b3-f6e0ca859678",
   "metadata": {},
   "outputs": [
    {
     "name": "stdout",
     "output_type": "stream",
     "text": [
      "0\n"
     ]
    }
   ],
   "source": [
    "print(int(False))"
   ]
  },
  {
   "cell_type": "code",
   "execution_count": 37,
   "id": "94ab29b3-5686-4195-9859-f0561acfa9a0",
   "metadata": {},
   "outputs": [
    {
     "name": "stdout",
     "output_type": "stream",
     "text": [
      "1\n"
     ]
    }
   ],
   "source": [
    "print(int(True))"
   ]
  },
  {
   "cell_type": "code",
   "execution_count": 39,
   "id": "f5334efe-9061-4b8d-bd97-b30ff8ebbd37",
   "metadata": {},
   "outputs": [
    {
     "name": "stdout",
     "output_type": "stream",
     "text": [
      "America\n",
      "Vietnam\n"
     ]
    }
   ],
   "source": [
    "country_list = list(('India','America','Russia','China','Canada','Japan','Vietnam','Sri-Lanka','Japan',\n",
    "                     'France','India','Singapore','Australia','China','New Zealand','Finland'))\n",
    "print(min(country_list)) # 'America'\n",
    "print(max(country_list)) # 'Vietnam'\n",
    "# print(sum(country_list)) # TypeError: unsupported operand type(s) for +: 'int' and 'str'"
   ]
  },
  {
   "cell_type": "code",
   "execution_count": 42,
   "id": "f46543ab-6747-4155-b073-2fec31af15bc",
   "metadata": {},
   "outputs": [
    {
     "name": "stdout",
     "output_type": "stream",
     "text": [
      "America\n",
      "india\n"
     ]
    }
   ],
   "source": [
    "# ASCII plays an important role in finding the min and max respect to characters\n",
    "country_list = list(('india','America','Russia','China','Canada','Japan','Vietnam','Sri-Lanka','Japan',\n",
    "                     'France','India','Singapore','Australia','China','New Zealand','Finland'))\n",
    "print(min(country_list)) # 'America'\n",
    "print(max(country_list)) # 'india'"
   ]
  },
  {
   "cell_type": "code",
   "execution_count": 46,
   "id": "658eadfe-c43d-481f-8973-fbd0daa4932b",
   "metadata": {},
   "outputs": [
    {
     "name": "stdout",
     "output_type": "stream",
     "text": [
      "['India', 'America', 'Russia', 'China', 'Canada', 'Japan', 'Vietnam', 'Sri-Lanka', 'Japan', 'France', 'India', 'Singapore', 'Australia', 'Spain', 'New Zealand', 'Finland']\n"
     ]
    }
   ],
   "source": [
    "# List are mutables [means we can change the list content]\n",
    "country_list = list(('India','America','Russia','China','Canada','Japan','Vietnam','Sri-Lanka','Japan',\n",
    "                     'France','India','Singapore','Australia','China','New Zealand','Finland'))\n",
    "country_list[-3] = 'Spain' # 'china' -> 'Spain'\n",
    "print(country_list)"
   ]
  },
  {
   "cell_type": "code",
   "execution_count": 47,
   "id": "65208c7d-9188-4ece-b52e-f345164b467f",
   "metadata": {},
   "outputs": [
    {
     "name": "stdout",
     "output_type": "stream",
     "text": [
      "['India', 'America', 'Russia', 'China', 'Canada', 'Japan', 'Vietnam', 'Sri-Lanka', 'France', 'Singapore', 'Australia', 'Spain', 'New Zealand', 'Finland']\n"
     ]
    }
   ],
   "source": [
    "country_list[8:11] = ['France'] # ['Japan','France','India'] -> ['France']\n",
    "print(country_list)"
   ]
  },
  {
   "cell_type": "raw",
   "id": "768a134a-8d01-4e7c-ae16-5288d055991c",
   "metadata": {},
   "source": [
    "('France') # String\n",
    "('France',) # tuple\n",
    "['France'] # list"
   ]
  },
  {
   "cell_type": "code",
   "execution_count": 50,
   "id": "56b99075-00cf-4afd-af02-2e3215b8fe16",
   "metadata": {},
   "outputs": [
    {
     "name": "stdout",
     "output_type": "stream",
     "text": [
      "['a', 'b', 'c', 'd', False, 'a', 'b', 'c', 'd', False, 'a', 'b', 'c', 'd', False]\n",
      "15\n"
     ]
    }
   ],
   "source": [
    "# Repeating a content of a list -> '*'\n",
    "char_list = ['a','b','c','d',False]\n",
    "print(char_list * 3)\n",
    "print(len(char_list * 3))"
   ]
  },
  {
   "cell_type": "markdown",
   "id": "f86014c9-e54a-44c6-ae8a-12b417b3d59f",
   "metadata": {},
   "source": [
    "#### Adding items in a List:\n",
    "1. .append() -> Add one item at the end\n",
    "2. .extend() -> Adds all items from another lists\n",
    "3. .insert() -> Insert an item at specific index"
   ]
  },
  {
   "cell_type": "code",
   "execution_count": 56,
   "id": "dc68020f-d757-48df-85c5-2b239c4b5ef8",
   "metadata": {},
   "outputs": [
    {
     "name": "stdout",
     "output_type": "stream",
     "text": [
      "['India', 'America', 'Russia', 'China', 'Canada', 'Japan', 'Vietnam', 'Sri-Lanka', 'France', 'Singapore', 'Australia', 'Spain', 'New Zealand', 'Finland', 'Nepal']\n"
     ]
    }
   ],
   "source": [
    "country_list = ['India', 'America', 'Russia', 'China', 'Canada', 'Japan', \n",
    "                'Vietnam', 'Sri-Lanka', 'France', 'Singapore', 'Australia', \n",
    "                'Spain', 'New Zealand', 'Finland']\n",
    "country_list.append('Nepal')\n",
    "print(country_list)"
   ]
  },
  {
   "cell_type": "code",
   "execution_count": 57,
   "id": "35d65784-70fc-4bff-9fe1-8a72fc903128",
   "metadata": {},
   "outputs": [
    {
     "name": "stdout",
     "output_type": "stream",
     "text": [
      "['India', 'America', 'Russia', 'China', 'Canada', 'Japan', 'Vietnam', 'Sri-Lanka', 'France', 'Singapore', 'Australia', 'Spain', 'New Zealand', 'Finland', 'Nepal', 'South Africa', 'UAE', 'Iran', 'Thailand', 'Afghanistan', 'Myanmar', 'Maldives']\n"
     ]
    }
   ],
   "source": [
    "new_country_list = ['South Africa', 'UAE', 'Iran', 'Thailand', 'Afghanistan', 'Myanmar', 'Maldives']\n",
    "country_list.extend(new_country_list)\n",
    "print(country_list)"
   ]
  },
  {
   "cell_type": "code",
   "execution_count": 58,
   "id": "07762bb9-da0f-4965-b5b1-0eb801efab66",
   "metadata": {},
   "outputs": [
    {
     "name": "stdout",
     "output_type": "stream",
     "text": [
      "['India', 'America', 'Russia', 'Qatar', 'China', 'Canada', 'Japan', 'Vietnam', 'Sri-Lanka', 'France', 'Singapore', 'Australia', 'Spain', 'New Zealand', 'Finland', 'Nepal', 'South Africa', 'UAE', 'Iran', 'Thailand', 'Afghanistan', 'Myanmar', 'Maldives']\n"
     ]
    }
   ],
   "source": [
    "country_list.insert(3,'Qatar') # insert(pos,val)\n",
    "print(country_list)"
   ]
  },
  {
   "cell_type": "code",
   "execution_count": 59,
   "id": "e2f7fd1d-f5d7-45ba-bb7e-bbc979efdc78",
   "metadata": {},
   "outputs": [
    {
     "name": "stdout",
     "output_type": "stream",
     "text": [
      "['India', 'America', 'Russia', ['Bangladesh', 'Turkey'], 'Qatar', 'China', 'Canada', 'Japan', 'Vietnam', 'Sri-Lanka', 'France', 'Singapore', 'Australia', 'Spain', 'New Zealand', 'Finland', 'Nepal', 'South Africa', 'UAE', 'Iran', 'Thailand', 'Afghanistan', 'Myanmar', 'Maldives']\n"
     ]
    }
   ],
   "source": [
    "country_list.insert(3,['Bangladesh','Turkey']) # insert(pos,val)\n",
    "print(country_list)"
   ]
  },
  {
   "cell_type": "code",
   "execution_count": 61,
   "id": "f1573a37-65cf-4014-9713-053b666615db",
   "metadata": {},
   "outputs": [
    {
     "name": "stdout",
     "output_type": "stream",
     "text": [
      "['Mon', 'Tue', 'Wed', 'Thurs', 'Fri', 'Sat', 'Sun']\n",
      "<class 'list'>\n"
     ]
    }
   ],
   "source": [
    "# Adding a list using '+' operator [Concatenation]\n",
    "weekday_list = ['Mon','Tue','Wed','Thurs','Fri']\n",
    "weekend_list = ['Sat','Sun']\n",
    "week_list = weekday_list + weekend_list\n",
    "print(week_list)\n",
    "print(type(week_list))"
   ]
  },
  {
   "cell_type": "code",
   "execution_count": 66,
   "id": "8bc5dc6d-2e65-4ab0-97ef-b2a0a634ad65",
   "metadata": {},
   "outputs": [
    {
     "name": "stdout",
     "output_type": "stream",
     "text": [
      "2\n",
      "9\n",
      "5\n",
      "1\n",
      "1\n"
     ]
    }
   ],
   "source": [
    "# Indexing in nested_list\n",
    "nested_list = [\n",
    "        [1,2,3,4,5],\n",
    "        [2,4,6,8,10],\n",
    "        [1,3,5,7,9]\n",
    "    ]\n",
    "print(nested_list[0][1]) #2\n",
    "print(nested_list[-1][-1]) # 9\n",
    "print(nested_list[2][-3]) # 5\n",
    "print(nested_list[-1][-5]) # 1\n",
    "print(nested_list[2][-5]) # 1"
   ]
  },
  {
   "cell_type": "code",
   "execution_count": 75,
   "id": "5191883d-646c-40de-bac1-1ab02405a50b",
   "metadata": {},
   "outputs": [
    {
     "name": "stdout",
     "output_type": "stream",
     "text": [
      "[[1, 2, 3, 4, 5], [2, 4, 6, 8, 10]]\n"
     ]
    }
   ],
   "source": [
    "nested_list = [\n",
    "        [1,2,3,4,5],\n",
    "        [2,4,6,8,10],\n",
    "        [1,3,5,7,9]\n",
    "    ]\n",
    "print(nested_list[0:2]) # 1st 2 list"
   ]
  },
  {
   "cell_type": "code",
   "execution_count": 76,
   "id": "af8e62ca-17c5-4116-a7f0-16015837debe",
   "metadata": {},
   "outputs": [
    {
     "name": "stdout",
     "output_type": "stream",
     "text": [
      "[[1, 3, 5, 7, 9], [2, 4, 6, 8, 10], [1, 2, 3, 4, 5]]\n"
     ]
    }
   ],
   "source": [
    "print(nested_list[::-1]) # rows reversed"
   ]
  },
  {
   "cell_type": "code",
   "execution_count": 81,
   "id": "09822ba0-90b8-4170-b0f1-d39cb5aa721e",
   "metadata": {},
   "outputs": [
    {
     "name": "stdout",
     "output_type": "stream",
     "text": [
      "[[1, 3, 5, 7, 9], [2, 4, 6, 8, 10]]\n"
     ]
    }
   ],
   "source": [
    "print(nested_list[::-1][0:2]) # 1st 2 rows of above cell [reversed rows]"
   ]
  },
  {
   "cell_type": "code",
   "execution_count": 82,
   "id": "4c64bc8a-a77d-4805-b223-849290f58942",
   "metadata": {},
   "outputs": [
    {
     "name": "stdout",
     "output_type": "stream",
     "text": [
      "[3, 5, 7]\n"
     ]
    }
   ],
   "source": [
    "print(nested_list[-1][1:4])"
   ]
  },
  {
   "cell_type": "code",
   "execution_count": 2,
   "id": "a13f9fb9-7d02-43f8-b12a-15fa01f3e4d3",
   "metadata": {},
   "outputs": [
    {
     "name": "stdout",
     "output_type": "stream",
     "text": [
      "False\n"
     ]
    }
   ],
   "source": [
    "# Comparison List \n",
    "_list1 = [1,2,3,4,5]\n",
    "_list2 = [1,2,3]\n",
    "result = (_list1 == _list2)\n",
    "print(result) # False"
   ]
  },
  {
   "cell_type": "code",
   "execution_count": 4,
   "id": "398fa634-f796-42b3-a751-4aed3d090070",
   "metadata": {},
   "outputs": [
    {
     "name": "stdout",
     "output_type": "stream",
     "text": [
      "True\n"
     ]
    }
   ],
   "source": [
    "_list1 = [1,2,3,4,5]\n",
    "_list2 = [1,2,3,4,5]\n",
    "result = (_list1 == _list2)\n",
    "print(result) # True"
   ]
  },
  {
   "cell_type": "code",
   "execution_count": 5,
   "id": "c8855969-12da-4670-b3bd-9c0e45e53d6c",
   "metadata": {},
   "outputs": [
    {
     "name": "stdout",
     "output_type": "stream",
     "text": [
      "True\n"
     ]
    }
   ],
   "source": [
    "_list1 = [1,2,3,4,5,6,7]\n",
    "_list2 = [1,2,3,4,5]\n",
    "result = (_list1 != _list2)\n",
    "print(result) # True"
   ]
  },
  {
   "cell_type": "code",
   "execution_count": 6,
   "id": "8610d2e2-987f-4b59-bcc4-da880e7b9c0c",
   "metadata": {},
   "outputs": [
    {
     "name": "stdout",
     "output_type": "stream",
     "text": [
      "True\n"
     ]
    }
   ],
   "source": [
    "_list1 = [1,2,3,4,5,6,7]\n",
    "_list2 = [1,2,3,4,5]\n",
    "result = (_list1 >= _list2)\n",
    "print(result) # True"
   ]
  },
  {
   "cell_type": "code",
   "execution_count": 7,
   "id": "cd9f300c-3606-4ab0-838e-542ce5811087",
   "metadata": {},
   "outputs": [
    {
     "name": "stdout",
     "output_type": "stream",
     "text": [
      "False\n"
     ]
    }
   ],
   "source": [
    "_list1 = [1,2,3,4,5,6,7]\n",
    "_list2 = [1,2,3,4,5]\n",
    "result = (_list1 <= _list2)\n",
    "print(result) # False"
   ]
  },
  {
   "cell_type": "code",
   "execution_count": 8,
   "id": "97e46d97-b427-4206-933d-cf4748b376ec",
   "metadata": {},
   "outputs": [
    {
     "name": "stdout",
     "output_type": "stream",
     "text": [
      "True\n"
     ]
    }
   ],
   "source": [
    "_list1 = [1,2,3,4,5]\n",
    "_list2 = ['1','2','3','4','5']\n",
    "result = (_list1 != _list2)\n",
    "print(result) # True"
   ]
  },
  {
   "cell_type": "raw",
   "id": "501154a5-38cb-4d8c-a83f-327206d378d9",
   "metadata": {},
   "source": [
    "_list1 = [1,2,3,4,5]\n",
    "_list2 = ['1','2','3','4','5']\n",
    "result = (_list1 <= _list2)\n",
    "print(result) # TypeError: '<=' not supported between instances of 'int' and 'str'"
   ]
  },
  {
   "cell_type": "code",
   "execution_count": 11,
   "id": "cc02ba25-2548-44af-a3c3-efa608afed66",
   "metadata": {},
   "outputs": [
    {
     "name": "stdout",
     "output_type": "stream",
     "text": [
      "True\n"
     ]
    }
   ],
   "source": [
    "_list1 = ['a','b','c']\n",
    "_list2 = ['1','2','3','4','5']\n",
    "result = (_list1 >= _list2) \n",
    "print(result) # True"
   ]
  },
  {
   "cell_type": "markdown",
   "id": "b34eb5bd-951e-4047-b1e0-9c952efef47e",
   "metadata": {},
   "source": [
    "## Removing items from list:\n",
    "1. remove -> Remove the first occurrence of a element\n",
    "2. pop -> Removes by index, returns value can be stored in a new variable\n",
    "3. del -> delete by index or slicing\n",
    "4. clear -> Empties the list"
   ]
  },
  {
   "cell_type": "code",
   "execution_count": 12,
   "id": "6f9e3909-9e83-4320-aa1c-55710b7229a1",
   "metadata": {},
   "outputs": [
    {
     "name": "stdout",
     "output_type": "stream",
     "text": [
      "['India', 'America', 'Russia', 'China', 'Canada', 'Japan', 'Vietnam', 'Sri-Lanka', 'France', 'Singapore', 'Australia', 'New Zealand', 'Finland']\n"
     ]
    }
   ],
   "source": [
    "country_list = ['India', 'America', 'Russia', 'China', 'Canada', 'Japan', \n",
    "                'Vietnam', 'Sri-Lanka', 'France', 'Singapore', 'Australia', \n",
    "                'Spain', 'New Zealand', 'Finland']\n",
    "country_list.remove('Spain')\n",
    "print(country_list)"
   ]
  },
  {
   "cell_type": "code",
   "execution_count": 13,
   "id": "99d4eb0b-b8da-4d35-9ad0-bc897fed9739",
   "metadata": {},
   "outputs": [
    {
     "name": "stdout",
     "output_type": "stream",
     "text": [
      "['India', 'America', 'Russia', 'China', 'Canada', 'Japan', 'Vietnam', 'Sri-Lanka', 'France', 'Singapore', 'Australia', 'New Zealand']\n"
     ]
    }
   ],
   "source": [
    "country_list.remove('Finland')\n",
    "print(country_list)"
   ]
  },
  {
   "cell_type": "raw",
   "id": "f6a0a69d-996f-4504-80fb-38be69b32859",
   "metadata": {},
   "source": [
    "country_list.remove('UAE') # country_list.remove('Finland')\n",
    "print(country_list)"
   ]
  },
  {
   "cell_type": "code",
   "execution_count": 14,
   "id": "a7f9eca8-c940-40f7-840c-d000b82f8fbc",
   "metadata": {},
   "outputs": [
    {
     "name": "stdout",
     "output_type": "stream",
     "text": [
      "['India', 'America', 'Russia', 'China', 'Canada', 'Japan', 'Vietnam', 'Sri-Lanka', 'France', 'Singapore', 'Australia', 'New Zealand', 'Spain']\n"
     ]
    }
   ],
   "source": [
    "country_list.append('Spain')\n",
    "print(country_list)"
   ]
  },
  {
   "cell_type": "code",
   "execution_count": 15,
   "id": "29f3f5b1-fcd7-4a23-883a-f8f7d9311127",
   "metadata": {},
   "outputs": [
    {
     "name": "stdout",
     "output_type": "stream",
     "text": [
      "Spain\n",
      "['India', 'America', 'Russia', 'China', 'Canada', 'Japan', 'Vietnam', 'Sri-Lanka', 'France', 'Singapore', 'Australia', 'New Zealand']\n"
     ]
    }
   ],
   "source": [
    "# While applying pop(idx), we can store the popped element in new_variable, which we can use it if required\n",
    "pop_country = country_list.pop(-1) # 'Spain'\n",
    "print(pop_country) # 'Spain'\n",
    "print(country_list)"
   ]
  },
  {
   "cell_type": "code",
   "execution_count": 16,
   "id": "eeeba1ed-5e27-4ef8-9110-2580fe3b7347",
   "metadata": {},
   "outputs": [
    {
     "name": "stdout",
     "output_type": "stream",
     "text": [
      "['India', 'America', 'Russia', 'Canada', 'Japan', 'Vietnam', 'Sri-Lanka', 'France', 'Singapore', 'Australia', 'New Zealand']\n"
     ]
    }
   ],
   "source": [
    "# del required a call of a list with specific index or slicing to delete an element or a list of elements\n",
    "del country_list[3] # 'China'\n",
    "print(country_list)"
   ]
  },
  {
   "cell_type": "code",
   "execution_count": 17,
   "id": "7799f5cc-8220-4efa-a34a-b407d74693d2",
   "metadata": {},
   "outputs": [
    {
     "name": "stdout",
     "output_type": "stream",
     "text": [
      "['India', 'America', 'Russia', 'Sri-Lanka', 'France', 'Singapore', 'Australia', 'New Zealand']\n"
     ]
    }
   ],
   "source": [
    "del country_list[3:6] # ['Canada','Japan','Vietnam']\n",
    "print(country_list)"
   ]
  },
  {
   "cell_type": "code",
   "execution_count": 19,
   "id": "b6989e25-7022-4394-8ae8-170a99bec41e",
   "metadata": {},
   "outputs": [
    {
     "name": "stdout",
     "output_type": "stream",
     "text": [
      "[]\n"
     ]
    }
   ],
   "source": [
    "# .clear() -> It will empty the original Lists\n",
    "country_list.clear()\n",
    "print(country_list)"
   ]
  },
  {
   "cell_type": "raw",
   "id": "e2ed6bfa-6053-4ab3-8935-038fa224dd63",
   "metadata": {},
   "source": [
    "country_list = ['India', 'America', 'Russia', 'China', 'Canada', 'Japan', \n",
    "                'Vietnam', 'Sri-Lanka', 'France', 'Singapore', 'Australia', \n",
    "                'Spain', 'New Zealand', 'Finland']\n",
    "del country_list -> Removes the complete list\n",
    "print(country_list) # NameError: name 'country_list' is not defined"
   ]
  },
  {
   "cell_type": "code",
   "execution_count": 23,
   "id": "8509bca8-4211-4404-bc09-378639a769cf",
   "metadata": {},
   "outputs": [],
   "source": [
    "# Sorting [Ascending] & Reverse() [::-1]\n",
    "country_list = ['India', 'America', 'Russia', 'China', 'Canada', 'Japan', \n",
    "                'Vietnam', 'Sri-Lanka', 'france', 'singapore', 'australia', \n",
    "                'Spain', 'New Zealand', 'Finland']\n",
    "country_list.sort()"
   ]
  },
  {
   "cell_type": "code",
   "execution_count": 24,
   "id": "18d8a660-ca6e-4cb1-a96c-7e3228bf405c",
   "metadata": {},
   "outputs": [
    {
     "name": "stdout",
     "output_type": "stream",
     "text": [
      "['America', 'Canada', 'China', 'Finland', 'India', 'Japan', 'New Zealand', 'Russia', 'Spain', 'Sri-Lanka', 'Vietnam', 'australia', 'france', 'singapore']\n"
     ]
    }
   ],
   "source": [
    "print(country_list)"
   ]
  },
  {
   "cell_type": "code",
   "execution_count": 39,
   "id": "db180392-4787-4956-8d21-c99d61c0aa1b",
   "metadata": {},
   "outputs": [
    {
     "name": "stdout",
     "output_type": "stream",
     "text": [
      "['singapore', 'france', 'australia', 'Vietnam', 'Sri-Lanka', 'Spain', 'Russia', 'New Zealand', 'Japan', 'India', 'Finland', 'China', 'Canada', 'America']\n"
     ]
    }
   ],
   "source": [
    "country_list = ['India', 'America', 'Russia', 'China', 'Canada', 'Japan', \n",
    "                'Vietnam', 'Sri-Lanka', 'france', 'singapore', 'australia', \n",
    "                'Spain', 'New Zealand', 'Finland']\n",
    "country_list.sort()\n",
    "print(country_list[::-1])"
   ]
  },
  {
   "cell_type": "code",
   "execution_count": 40,
   "id": "bc8dea36-6d0f-477a-a93b-f2d94b1543e7",
   "metadata": {},
   "outputs": [
    {
     "name": "stdout",
     "output_type": "stream",
     "text": [
      "['singapore', 'france', 'australia', 'Vietnam', 'Sri-Lanka', 'Spain', 'Russia', 'New Zealand', 'Japan', 'India', 'Finland', 'China', 'Canada', 'America']\n"
     ]
    }
   ],
   "source": [
    "country_list = ['India', 'America', 'Russia', 'China', 'Canada', 'Japan', \n",
    "                'Vietnam', 'Sri-Lanka', 'france', 'singapore', 'australia', \n",
    "                'Spain', 'New Zealand', 'Finland']\n",
    "country_list.sort(reverse = True)\n",
    "print(country_list)"
   ]
  },
  {
   "cell_type": "code",
   "execution_count": 31,
   "id": "02d213e9-af96-466c-ac18-e915bc25d4d2",
   "metadata": {},
   "outputs": [
    {
     "name": "stdout",
     "output_type": "stream",
     "text": [
      "['America', 'australia', 'Canada', 'China', 'Finland', 'france', 'India', 'Japan', 'New Zealand', 'Russia', 'singapore', 'Spain', 'Sri-Lanka', 'Vietnam']\n"
     ]
    }
   ],
   "source": [
    "country_list = ['India', 'America', 'Russia', 'China', 'Canada', 'Japan', \n",
    "                'Vietnam', 'Sri-Lanka', 'france', 'singapore', 'australia', \n",
    "                'Spain', 'New Zealand', 'Finland']\n",
    "country_list.sort(key = str.lower)\n",
    "print(country_list)"
   ]
  },
  {
   "cell_type": "code",
   "execution_count": 35,
   "id": "0346b82c-5dd1-44ae-a865-3183e48a161d",
   "metadata": {},
   "outputs": [
    {
     "name": "stdout",
     "output_type": "stream",
     "text": [
      "['America', 'america', 'australia', 'Canada', 'China', 'Finland', 'france', 'India', 'Japan', 'New Zealand', 'Russia', 'singapore', 'Spain', 'Sri-Lanka', 'Vietnam']\n"
     ]
    }
   ],
   "source": [
    "# If 'America' and 'america' then which one will come first?using str.lower\n",
    "country_list = ['India', 'America', 'Russia', 'China', 'Canada', 'Japan', \n",
    "                'Vietnam', 'Sri-Lanka', 'france', 'singapore', 'australia', \n",
    "                'Spain', 'New Zealand', 'Finland' , 'america']\n",
    "country_list.sort(key = str.lower)\n",
    "print(country_list)"
   ]
  },
  {
   "cell_type": "code",
   "execution_count": 27,
   "id": "da42879a-9a36-4743-973c-bc29ac08dbcb",
   "metadata": {},
   "outputs": [
    {
     "name": "stdout",
     "output_type": "stream",
     "text": [
      "['America', 'america', 'australia', 'Canada', 'China', 'Finland', 'france', 'India', 'Japan', 'New Zealand', 'Russia', 'singapore', 'Spain', 'Sri-Lanka', 'Vietnam']\n"
     ]
    }
   ],
   "source": [
    "# If 'America' and 'america' then which one will come first?using str.lower\n",
    "country_list = ['India', 'America', 'Russia', 'China', 'Canada', 'Japan', \n",
    "                'Vietnam', 'Sri-Lanka', 'france', 'singapore', 'australia', \n",
    "                'Spain', 'New Zealand', 'Finland' , 'america']\n",
    "country_list.sort(key = str.upper)\n",
    "print(country_list)"
   ]
  },
  {
   "cell_type": "code",
   "execution_count": 37,
   "id": "23fea681-07ce-4a0e-bfe8-5ef977030193",
   "metadata": {},
   "outputs": [
    {
     "name": "stdout",
     "output_type": "stream",
     "text": [
      "['Finland', 'New Zealand', 'Spain', 'australia', 'singapore', 'france', 'Sri-Lanka', 'Vietnam', 'Japan', 'Canada', 'China', 'Russia', 'America', 'India']\n"
     ]
    }
   ],
   "source": [
    "# .reverse() -> the original List\n",
    "country_list = ['India', 'America', 'Russia', 'China', 'Canada', 'Japan', \n",
    "                'Vietnam', 'Sri-Lanka', 'france', 'singapore', 'australia', \n",
    "                'Spain', 'New Zealand', 'Finland']\n",
    "country_list.reverse()\n",
    "print(country_list)"
   ]
  },
  {
   "cell_type": "code",
   "execution_count": 41,
   "id": "3ae01aee-4370-4f62-9b2e-ed2e3793ebe6",
   "metadata": {},
   "outputs": [
    {
     "name": "stdout",
     "output_type": "stream",
     "text": [
      "Python is an awesome programming language\n"
     ]
    }
   ],
   "source": [
    "# 'Joining' strings from a list\n",
    "word_list = ['Python', 'is', 'an' , 'awesome', 'programming', 'language']\n",
    "final_statement = ' '.join(word_list)\n",
    "print(final_statement)"
   ]
  },
  {
   "cell_type": "code",
   "execution_count": 42,
   "id": "93bf2dce-8d66-4183-ba74-5fcf06156dd8",
   "metadata": {},
   "outputs": [
    {
     "name": "stdout",
     "output_type": "stream",
     "text": [
      "Python Programming!\n"
     ]
    }
   ],
   "source": [
    "char_list = ['P','y','t','h','o','n',' ','P','r','o','g','r','a','m','m','i','n','g!']\n",
    "result = ''.join(char_list)\n",
    "print(result)"
   ]
  },
  {
   "cell_type": "code",
   "execution_count": 43,
   "id": "d04c1ac8-cda3-4018-aa98-8194387fb8f0",
   "metadata": {},
   "outputs": [
    {
     "name": "stdout",
     "output_type": "stream",
     "text": [
      "2\n"
     ]
    }
   ],
   "source": [
    "# Count() -> Calculating the occurrence of element in a list\n",
    "country_list = ['India', 'America', 'Russia', 'China', 'Canada', 'Japan', \n",
    "                'Vietnam', 'Sri-Lanka', 'france', 'singapore', 'australia', \n",
    "                'Spain', 'New Zealand', 'Finland' , 'India', 'Japan', 'America']\n",
    "count_india = country_list.count('India')\n",
    "print(count_india)"
   ]
  },
  {
   "cell_type": "code",
   "execution_count": 45,
   "id": "ec8001eb-0ca6-4e03-9192-d9aed3f82bc1",
   "metadata": {},
   "outputs": [
    {
     "name": "stdout",
     "output_type": "stream",
     "text": [
      "10\n",
      "7\n"
     ]
    }
   ],
   "source": [
    "num_list = [1,2,1,2,1,2,1,2,1,2,1,2,21,2,121,121,1,2,2,2,12,22,22]\n",
    "print(num_list.count(2))\n",
    "print(num_list.count(1))"
   ]
  },
  {
   "cell_type": "code",
   "execution_count": 46,
   "id": "0a5a51db-0e30-4bd6-99f0-4eaef2cec26c",
   "metadata": {},
   "outputs": [
    {
     "name": "stdout",
     "output_type": "stream",
     "text": [
      "2063808540032\n",
      "2063808535040\n"
     ]
    }
   ],
   "source": [
    "# Deep Copy [Same Memory] Vs Shallow Copy[Independent Memory]\n",
    "# .copy [Shallow Copy]\n",
    "country_list = ['India', 'America', 'Russia', 'China', 'Canada', 'Japan', \n",
    "                'Vietnam', 'Sri-Lanka', 'france', 'singapore', 'australia', \n",
    "                'Spain', 'New Zealand', 'Finland' , 'India', 'Japan', 'America']\n",
    "new_country_list = country_list.copy()\n",
    "print(id(country_list))\n",
    "print(id(new_country_list))"
   ]
  },
  {
   "cell_type": "code",
   "execution_count": 47,
   "id": "d57c84de-3c44-4f18-9d45-c908b07042e7",
   "metadata": {},
   "outputs": [
    {
     "name": "stdout",
     "output_type": "stream",
     "text": [
      "Country List :  ['India', 'America', 'Russia', 'China', 'Canada', 'Japan', 'Vietnam', 'Sri-Lanka', 'france', 'singapore', 'australia', 'Spain', 'New Zealand', 'Finland', 'India', 'Japan', 'America']\n",
      "New Country List :  ['India', 'America', 'Russia', 'China', 'Canada', 'Japan', 'Vietnam', 'Sri-Lanka', 'france', 'singapore', 'australia', 'Spain', 'New Zealand', 'Finland']\n"
     ]
    }
   ],
   "source": [
    "del new_country_list[-3:]\n",
    "print(\"Country List : \" , country_list)\n",
    "print(\"New Country List : \" , new_country_list)"
   ]
  },
  {
   "cell_type": "code",
   "execution_count": 48,
   "id": "fb63132e-80ff-4efb-a542-dc3f2eee5ef1",
   "metadata": {},
   "outputs": [
    {
     "name": "stdout",
     "output_type": "stream",
     "text": [
      "2063808535808\n",
      "2063808535808\n"
     ]
    }
   ],
   "source": [
    "# deep copy \n",
    "weekday_list = ['Mon','Tue','Wed','Thurs','Fri']\n",
    "weekend_list = ['Sat','Sun']\n",
    "week_list = weekday_list + weekend_list\n",
    "new_week_list = week_list # deep copy\n",
    "print(id(week_list))\n",
    "print(id(new_week_list))"
   ]
  },
  {
   "cell_type": "code",
   "execution_count": 49,
   "id": "e82219c4-65ef-4f24-b07c-931beb89a458",
   "metadata": {},
   "outputs": [
    {
     "name": "stdout",
     "output_type": "stream",
     "text": [
      "['Mon', 'Tue', 'Wed', 'Thurs', 'Fri', 'Sat', 'Sun']\n",
      "['Mon', 'Tue', 'Wed', 'Thurs', 'Fri', 'Sat', 'Sun']\n"
     ]
    }
   ],
   "source": [
    "# Before\n",
    "print(week_list)\n",
    "print(new_week_list)"
   ]
  },
  {
   "cell_type": "code",
   "execution_count": 50,
   "id": "34cf44d4-58b8-415d-b685-a528e2dbc3e4",
   "metadata": {},
   "outputs": [
    {
     "name": "stdout",
     "output_type": "stream",
     "text": [
      "['Mon', 'Tue', 'Wed', 'Thurs']\n",
      "['Mon', 'Tue', 'Wed', 'Thurs']\n"
     ]
    }
   ],
   "source": [
    "# After\n",
    "del new_week_list[-3:] # removing 'Fri','Sat','Sun'\n",
    "print(week_list)\n",
    "print(new_week_list)"
   ]
  },
  {
   "cell_type": "code",
   "execution_count": 51,
   "id": "aa4d9c3c-a3aa-445f-ac63-61ec972b8f3d",
   "metadata": {},
   "outputs": [
    {
     "name": "stdout",
     "output_type": "stream",
     "text": [
      "2063808426816\n",
      "2063808425984\n"
     ]
    }
   ],
   "source": [
    "# Using slicing [:] (Shallow Copy)\n",
    "country_list = ['India', 'America', 'Russia', 'China', 'Canada', 'Japan', \n",
    "                'Vietnam', 'Sri-Lanka', 'france', 'singapore', 'australia', \n",
    "                'Spain', 'New Zealand', 'Finland' , 'India', 'Japan', 'America']\n",
    "new_country_list = country_list[:]\n",
    "print(id(country_list))\n",
    "print(id(new_country_list))"
   ]
  },
  {
   "cell_type": "code",
   "execution_count": 52,
   "id": "b7cdf45a-85d9-4a68-9438-d6e9572cd80e",
   "metadata": {},
   "outputs": [
    {
     "name": "stdout",
     "output_type": "stream",
     "text": [
      "2063808542400\n",
      "2063808438912\n"
     ]
    }
   ],
   "source": [
    "# Using list() constructor (Shallow Copy)\n",
    "country_list = ['India', 'America', 'Russia', 'China', 'Canada', 'Japan', \n",
    "                'Vietnam', 'Sri-Lanka', 'france', 'singapore', 'australia', \n",
    "                'Spain', 'New Zealand', 'Finland' , 'India', 'Japan', 'America']\n",
    "new_country_list = list(country_list)\n",
    "print(id(country_list))\n",
    "print(id(new_country_list))"
   ]
  },
  {
   "cell_type": "code",
   "execution_count": 57,
   "id": "e7a5734d-9894-46fc-a465-ead87c092179",
   "metadata": {},
   "outputs": [
    {
     "name": "stdout",
     "output_type": "stream",
     "text": [
      "0\n",
      "5\n",
      "1\n",
      "14\n",
      "15\n",
      "16\n"
     ]
    }
   ],
   "source": [
    "# Index() -> Its a method to find the position of a first occurrence of a specified value in a list.\n",
    "country_list = ['India', 'America', 'Russia', 'China', 'Canada', 'Japan', \n",
    "                'Vietnam', 'Sri-Lanka', 'france', 'singapore', 'australia', \n",
    "                'Spain', 'New Zealand', 'Finland' , 'India', 'Japan', 'America']\n",
    "print(country_list.index('India'))\n",
    "print(country_list.index('Japan'))\n",
    "print(country_list.index('America'))\n",
    "print(country_list.index('India',1)) # Provide the 2nd occurrence\n",
    "print(country_list.index('Japan',7))\n",
    "print(country_list.index('America',3))\n",
    "# print(country_list.index('North Korea')) # ValueError: 'North Korea' is not in list"
   ]
  },
  {
   "cell_type": "code",
   "execution_count": 59,
   "id": "e19ee900-3cc2-4c89-93c2-0f526b315b78",
   "metadata": {},
   "outputs": [
    {
     "name": "stdout",
     "output_type": "stream",
     "text": [
      "[1, 4, 9, 16, 25]\n"
     ]
    }
   ],
   "source": [
    "# List Comprehensions\n",
    "squared = [i**2 for i in range(1,6)] # for i in range(1,6) -> [1,2,3,4,5]\n",
    "print(squared)"
   ]
  },
  {
   "cell_type": "markdown",
   "id": "1dcbdf33-5b66-419a-81ba-e652f2550ccf",
   "metadata": {},
   "source": [
    "# What exactly is a Tuple?\n",
    "- Ordered Collection (items maintains its positions)\n",
    "- It can store different data types togethers\n",
    "- But the only Big Difference here is : Immutability (Once Created, their elements can't be changed , added to, or removed.)"
   ]
  },
  {
   "cell_type": "code",
   "execution_count": 60,
   "id": "d8a54291-be2f-46e5-b932-dd89ebc284ae",
   "metadata": {},
   "outputs": [
    {
     "name": "stdout",
     "output_type": "stream",
     "text": [
      "<class 'tuple'>\n"
     ]
    }
   ],
   "source": [
    "_tuple = ()\n",
    "print(type(_tuple))"
   ]
  },
  {
   "cell_type": "code",
   "execution_count": 61,
   "id": "1c1c7b31-df5b-449e-894a-5a5ea4ae2fcd",
   "metadata": {},
   "outputs": [
    {
     "name": "stdout",
     "output_type": "stream",
     "text": [
      "(1, 2, '3', '4', False, True, 29.99, 'k')\n"
     ]
    }
   ],
   "source": [
    "_tuple = (1,2,'3','4',False,True,29.99,'k')\n",
    "print(_tuple)"
   ]
  },
  {
   "cell_type": "code",
   "execution_count": 62,
   "id": "ded7432a-6ca5-4841-bdab-8049d1bc0aae",
   "metadata": {},
   "outputs": [
    {
     "name": "stdout",
     "output_type": "stream",
     "text": [
      "(1, 2, 3, 4, 5)\n",
      "<class 'tuple'>\n"
     ]
    }
   ],
   "source": [
    "_tuple = 1,2,3,4,5\n",
    "print(_tuple)\n",
    "print(type(_tuple))"
   ]
  },
  {
   "cell_type": "code",
   "execution_count": 63,
   "id": "93644a4c-b0b7-402a-9735-5e560db23866",
   "metadata": {},
   "outputs": [
    {
     "name": "stdout",
     "output_type": "stream",
     "text": [
      "('India', 'America', 'Russia', 'China', 'Canada', 'Japan', 'Vietnam', 'Sri-Lanka', 'france', 'singapore', 'australia', 'Spain', 'New Zealand', 'Finland', 'India', 'Japan', 'America')\n",
      "<class 'tuple'>\n"
     ]
    }
   ],
   "source": [
    "# tuple() constructor\n",
    "country_list = ['India', 'America', 'Russia', 'China', 'Canada', 'Japan', \n",
    "                'Vietnam', 'Sri-Lanka', 'france', 'singapore', 'australia', \n",
    "                'Spain', 'New Zealand', 'Finland' , 'India', 'Japan', 'America']\n",
    "country_tuple = tuple(country_list)\n",
    "print(country_tuple)\n",
    "print(type(country_tuple))"
   ]
  },
  {
   "cell_type": "code",
   "execution_count": 64,
   "id": "2fa2dfe5-0425-4ade-8052-47da0c9c2656",
   "metadata": {},
   "outputs": [
    {
     "name": "stdout",
     "output_type": "stream",
     "text": [
      "('P', 'y', 't', 'h', 'o', 'n')\n"
     ]
    }
   ],
   "source": [
    "char_tuple = tuple('Python')\n",
    "print(char_tuple)"
   ]
  },
  {
   "cell_type": "code",
   "execution_count": 65,
   "id": "37812d30-6558-4e48-bf91-1e44c6ef69b4",
   "metadata": {},
   "outputs": [
    {
     "name": "stdout",
     "output_type": "stream",
     "text": [
      "('Python',)\n"
     ]
    }
   ],
   "source": [
    "_tuple = tuple(('Python',))\n",
    "print(_tuple)"
   ]
  },
  {
   "cell_type": "code",
   "execution_count": 72,
   "id": "670bad42-e83c-4267-b8b1-3d334bbb6797",
   "metadata": {},
   "outputs": [
    {
     "name": "stdout",
     "output_type": "stream",
     "text": [
      "([1, 2, 3, 4, 5], [2, 4, 6, 8, 10], [1, 3, 5, 7, 9])\n",
      "([1, 2, 3, 4, 5, 6], [2, 4, 6, 8, 10], [1, 3, 5, 7, 9])\n"
     ]
    }
   ],
   "source": [
    "nested_list = [\n",
    "        [1,2,3,4,5],\n",
    "        [2,4,6,8,10],\n",
    "        [1,3,5,7,9]\n",
    "]\n",
    "nested_tuple = tuple(nested_list)\n",
    "print(nested_tuple) # ([1, 2, 3, 4, 5], [2, 4, 6, 8, 10], [1, 3, 5, 7, 9])\n",
    "# List as an element in a tuple is mutable\n",
    "nested_tuple[0].append(6) \n",
    "print(nested_tuple) # ([1, 2, 3, 4, 5, 6], [2, 4, 6, 8, 10], [1, 3, 5, 7, 9])"
   ]
  },
  {
   "cell_type": "code",
   "execution_count": 74,
   "id": "8a68a69c-b7f9-45bf-9e9b-bd2abc5956af",
   "metadata": {},
   "outputs": [
    {
     "name": "stdout",
     "output_type": "stream",
     "text": [
      "(('Mon', 'Tue', 'Wed'), ('Thurs', 'Fri', 'Sat', 'Sun'))\n",
      "<class 'tuple'>\n"
     ]
    }
   ],
   "source": [
    "nested_tuple = (('Mon','Tue','Wed'),('Thurs','Fri','Sat','Sun'))\n",
    "print(nested_tuple)\n",
    "print(type(nested_tuple))\n",
    "# nested_tuple[0].append('Mon') # AttributeError: 'tuple' object has no attribute 'append'"
   ]
  },
  {
   "cell_type": "code",
   "execution_count": 75,
   "id": "110d71af-decf-4cec-b58c-216ca0d43f27",
   "metadata": {},
   "outputs": [
    {
     "name": "stdout",
     "output_type": "stream",
     "text": [
      "America\n",
      "New Zealand\n",
      "('Canada', 'Japan', 'Vietnam')\n",
      "('Canada', 'Vietnam')\n",
      "('America', 'India', 'New Zealand', 'australia', 'france', 'Vietnam', 'Canada', 'Russia', 'India')\n"
     ]
    }
   ],
   "source": [
    "# Indexing & Slicing\n",
    "country_list = ['India', 'America', 'Russia', 'China', 'Canada', 'Japan', \n",
    "                'Vietnam', 'Sri-Lanka', 'france', 'singapore', 'australia', \n",
    "                'Spain', 'New Zealand', 'Finland' , 'India', 'Japan', 'America']\n",
    "country_tuple = tuple(country_list)\n",
    "print(country_tuple[-1]) # 'America'\n",
    "print(country_tuple[-5]) # 'New Zealand'\n",
    "print(country_tuple[4:7]) # ('Canada','Japan','Vietnam')\n",
    "print(country_tuple[4:7:2]) # ('Canada','Vietnam')\n",
    "print(country_tuple[::-2]) # reverse the tuple with alterative elements"
   ]
  },
  {
   "cell_type": "code",
   "execution_count": 77,
   "id": "e80a2473-3ce3-4085-9941-486f95c0c819",
   "metadata": {},
   "outputs": [
    {
     "name": "stdout",
     "output_type": "stream",
     "text": [
      "17\n"
     ]
    }
   ],
   "source": [
    "# Finding the tuple Length\n",
    "country_list = ['India', 'America', 'Russia', 'China', 'Canada', 'Japan', \n",
    "                'Vietnam', 'Sri-Lanka', 'france', 'singapore', 'australia', \n",
    "                'Spain', 'New Zealand', 'Finland' , 'India', 'Japan', 'America']\n",
    "country_tuple = tuple(country_list)\n",
    "print(len(country_tuple)) # 17"
   ]
  },
  {
   "cell_type": "code",
   "execution_count": 78,
   "id": "a5c1e9fc-6349-42e9-b34b-09f3edebb41d",
   "metadata": {},
   "outputs": [
    {
     "name": "stdout",
     "output_type": "stream",
     "text": [
      "12\n",
      "False\n",
      "110\n",
      "606\n"
     ]
    }
   ],
   "source": [
    "num_list = [11,22,33,44,55,66,77,88,99,110,False,True] # False -> 0 , True = 1\n",
    "num_tuple = tuple(num_list)\n",
    "print(len(num_tuple)) # 12\n",
    "print(min(num_tuple)) # 0 [False]\n",
    "print(max(num_tuple)) # 110 \n",
    "print(sum(num_tuple)) # sum of all elements + 1 [True] [605 + 1] = 606"
   ]
  },
  {
   "cell_type": "code",
   "execution_count": 1,
   "id": "0383c07e-b7c7-4be7-a1ae-0144b218a499",
   "metadata": {},
   "outputs": [
    {
     "name": "stdout",
     "output_type": "stream",
     "text": [
      "<class 'list'>\n",
      "['India', 'America', 'Russia', 'China', 'Canada', 'Japan', 'Vietnam', 'Sri-Lanka', 'France', 'Singapore', 'Australia', 'Spain', 'New Zealand', 'Finland', 'Germany']\n",
      "('India', 'America', 'Russia', 'China', 'Canada', 'Japan', 'Vietnam', 'Sri-Lanka', 'France', 'Singapore', 'Australia', 'Spain', 'New Zealand', 'Finland', 'Germany')\n",
      "<class 'tuple'>\n"
     ]
    }
   ],
   "source": [
    "# Immutability of a Tuple\n",
    "# We Can't change or add any elements directly\n",
    "# Tuples don't have : - append, extend , remove, insert\n",
    "# But we can do it indirectly by modifying it into list \n",
    "country_tuple = ('India', 'America', 'Russia', 'China', 'Canada', 'Japan', \n",
    "                'Vietnam', 'Sri-Lanka', 'France', 'Singapore', 'Australia', \n",
    "                'Spain', 'New Zealand', 'Finland')\n",
    "conv_tuple_to_list = list(country_tuple)\n",
    "print(type(conv_tuple_to_list)) # <class List>\n",
    "conv_tuple_to_list.append('Germany')\n",
    "print(conv_tuple_to_list)\n",
    "country_tuple = tuple(conv_tuple_to_list)\n",
    "print(country_tuple)\n",
    "print(type(country_tuple))"
   ]
  },
  {
   "cell_type": "code",
   "execution_count": 2,
   "id": "904e599a-be46-4404-ad62-39ad42d1f4de",
   "metadata": {},
   "outputs": [],
   "source": [
    "country_tuple = ('India', 'America', 'Russia', 'China', 'Canada', 'Japan', \n",
    "                'Vietnam', 'Sri-Lanka', 'France', 'Singapore', 'Australia', \n",
    "                'Spain', 'New Zealand', 'Finland')\n",
    "country_tuple = ('India', 'America', 'Russia', 'China', 'Canada', 'Japan', \n",
    "                'Vietnam', 'Sri-Lanka', 'France', 'Singapore', 'Australia', \n",
    "                'Spain', 'New Zealand', 'Finland' , 'Germany')"
   ]
  },
  {
   "cell_type": "code",
   "execution_count": 3,
   "id": "e1f976ee-a6ba-45e4-806d-799fcc80a71c",
   "metadata": {},
   "outputs": [
    {
     "data": {
      "text/plain": [
       "('India',\n",
       " 'America',\n",
       " 'Russia',\n",
       " 'China',\n",
       " 'Canada',\n",
       " 'Japan',\n",
       " 'Vietnam',\n",
       " 'Sri-Lanka',\n",
       " 'France',\n",
       " 'Singapore',\n",
       " 'Australia',\n",
       " 'Spain',\n",
       " 'New Zealand',\n",
       " 'Finland',\n",
       " 'Germany')"
      ]
     },
     "execution_count": 3,
     "metadata": {},
     "output_type": "execute_result"
    }
   ],
   "source": [
    "country_tuple"
   ]
  },
  {
   "cell_type": "code",
   "execution_count": 5,
   "id": "b20c149d-3bb5-425b-a664-746594246a7c",
   "metadata": {},
   "outputs": [
    {
     "name": "stdout",
     "output_type": "stream",
     "text": [
      "('Mon', 'Tues', 'Wed', 'Thurs', 'Fri', 'Sat', 'Sun')\n"
     ]
    }
   ],
   "source": [
    "# Concatenating A tuples\n",
    "weekday_tuple = ('Mon','Tues','Wed','Thurs','Fri')\n",
    "weekend_tuple = ('Sat','Sun')\n",
    "week_tuple = weekday_tuple + weekend_tuple\n",
    "print(week_tuple)"
   ]
  },
  {
   "cell_type": "code",
   "execution_count": 7,
   "id": "5773f3f7-e907-4bfb-b9a4-56d9c2d75b52",
   "metadata": {},
   "outputs": [
    {
     "name": "stdout",
     "output_type": "stream",
     "text": [
      "(['Mon', 'Tues'], 'Sat', 'Sun')\n"
     ]
    }
   ],
   "source": [
    "weekday_tuple = (['Mon', 'Tues'],)\n",
    "weekend_tuple = ('Sat','Sun')\n",
    "week_tuple = weekday_tuple + weekend_tuple\n",
    "print(week_tuple)"
   ]
  },
  {
   "cell_type": "code",
   "execution_count": 8,
   "id": "80e0b8a7-f104-4f7c-b1b3-b287e40e70e7",
   "metadata": {},
   "outputs": [
    {
     "name": "stdout",
     "output_type": "stream",
     "text": [
      "(['Mon', 'Tues', 'Wed', 'Thurs', 'Fri'], 'Sat', 'Sun')\n"
     ]
    }
   ],
   "source": [
    "# week_tuple[0] ~ ['Mon', 'Tues']\n",
    "week_tuple[0].extend(['Wed','Thurs','Fri']) \n",
    "print(week_tuple)"
   ]
  },
  {
   "cell_type": "code",
   "execution_count": 9,
   "id": "629d212c-0e1f-4251-aa26-2032cb8522ae",
   "metadata": {},
   "outputs": [
    {
     "name": "stdout",
     "output_type": "stream",
     "text": [
      "('Mon', 'Tues', 'Wed', 'Sat', 'Sun')\n"
     ]
    }
   ],
   "source": [
    "weekday_tuple = ('Mon','Tues','Wed','Thurs','Fri')\n",
    "weekend_tuple = ('Sat','Sun')\n",
    "week_tuple = weekday_tuple[:3] + weekend_tuple\n",
    "print(week_tuple)"
   ]
  },
  {
   "cell_type": "raw",
   "id": "ee137454-fb4e-43b9-bdeb-b1d50a1b47e1",
   "metadata": {},
   "source": [
    "week_tuple[2] = 'Wednesday' # TypeError: 'tuple' object does not support item assignment"
   ]
  },
  {
   "cell_type": "code",
   "execution_count": 12,
   "id": "2402a5ea-524c-4f5e-ba71-5b67f6407f47",
   "metadata": {},
   "outputs": [
    {
     "name": "stdout",
     "output_type": "stream",
     "text": [
      "['India', 'America', 'Russia', 'China', 'Canada', 'Japan', 'Vietnam', 'Sri-Lanka', 'france', 'singapore', 'australia', 'Spain', 'Germany']\n"
     ]
    }
   ],
   "source": [
    "country_list = ['India', 'America', 'Russia', 'China', 'Canada', 'Japan', \n",
    "                'Vietnam', 'Sri-Lanka', 'france', 'singapore', 'australia', \n",
    "                'Spain', 'New Zealand', 'Finland' , 'India', 'Japan', 'America']\n",
    "country_list[-5:] = ['Germany']\n",
    "print(country_list)"
   ]
  },
  {
   "cell_type": "code",
   "execution_count": 16,
   "id": "4d74571d-7054-423c-8f56-67bfeb3e1d26",
   "metadata": {},
   "outputs": [
    {
     "name": "stdout",
     "output_type": "stream",
     "text": [
      "('Mon', 'Tues', 'Wed', 'Thurs', 'Fri')\n",
      "<class 'tuple'>\n"
     ]
    }
   ],
   "source": [
    "# Deleting Element in Tuple Vs Deleting a Tuple\n",
    "# You can't delete individual items in a tuple with 'del'\n",
    "# But you can delete the entire tuple object.\n",
    "weekday_tuple = ('Mon','Tues','Wed','Thurs','Fri')\n",
    "print(weekday_tuple)\n",
    "print(type(weekday_tuple))\n",
    "# del weekday_tuple[3] # 'Thurs' # TypeError: 'tuple' object doesn't support item deletion\n",
    "del weekday_tuple\n",
    "# print(weekday_tuple) # NameError: name 'weekday_tuple' is not defined"
   ]
  },
  {
   "cell_type": "code",
   "execution_count": 17,
   "id": "61e94c4f-fb36-432a-ada6-b4266fb717e0",
   "metadata": {},
   "outputs": [
    {
     "name": "stdout",
     "output_type": "stream",
     "text": [
      "1\n",
      "2\n",
      "3\n"
     ]
    }
   ],
   "source": [
    "# Unpacking a Tuple \n",
    "a,b,c = (1,2,3)\n",
    "print(a)\n",
    "print(b)\n",
    "print(c)"
   ]
  },
  {
   "cell_type": "code",
   "execution_count": 23,
   "id": "254692a9-d5d1-4682-a19f-71ae8a2691a8",
   "metadata": {},
   "outputs": [
    {
     "name": "stdout",
     "output_type": "stream",
     "text": [
      "1\n",
      "[2, 3, 4, 5, 6, 7, 8]\n",
      "9\n"
     ]
    }
   ],
   "source": [
    "a,*b,c = (1,2,3,4,5,6,7,8,9)\n",
    "print(a)\n",
    "print(b)\n",
    "print(c)"
   ]
  },
  {
   "cell_type": "raw",
   "id": "bb8f55e2-5ffd-4022-8130-eb47bb0f3aa0",
   "metadata": {},
   "source": [
    "a,*b,*c = (1,2,3,4,5,6,7,8,9) # SyntaxError: multiple starred expressions in assignment\n",
    "print(a)\n",
    "print(b)\n",
    "print(c)"
   ]
  },
  {
   "cell_type": "code",
   "execution_count": 24,
   "id": "3ca27bd0-e513-4bb5-8859-c7d7c4b1e5f4",
   "metadata": {},
   "outputs": [
    {
     "name": "stdout",
     "output_type": "stream",
     "text": [
      "(1, 2, 3, 4, 5, 6, 7)\n",
      "8\n",
      "9\n"
     ]
    }
   ],
   "source": [
    "*a,b,c = (1,2,3,4,5,6,7,8,9)\n",
    "print(tuple(a))\n",
    "print(b) # 8\n",
    "print(c) # 9"
   ]
  },
  {
   "cell_type": "raw",
   "id": "4fc38cb3-b193-4e1e-bfc7-1b7f92fe8177",
   "metadata": {},
   "source": [
    "a,b,c = (1,2,3,4,5,6,7,8,9) # ValueError: too many values to unpack (expected 3)\n",
    "print(a)\n",
    "print(b) \n",
    "print(c) "
   ]
  },
  {
   "cell_type": "code",
   "execution_count": 27,
   "id": "81744709-6044-4b9a-a78c-854b823e7ce6",
   "metadata": {},
   "outputs": [
    {
     "name": "stdout",
     "output_type": "stream",
     "text": [
      "('a', 'b', 'c', 'd', 'e', 'a', 'b', 'c', 'd', 'e', 'a', 'b', 'c', 'd', 'e')\n"
     ]
    }
   ],
   "source": [
    "# Repeating tuples\n",
    "_tuple = ('a','b','c','d','e')\n",
    "print(_tuple * 3)"
   ]
  },
  {
   "cell_type": "code",
   "execution_count": 29,
   "id": "2a264f8a-554a-441a-92e5-452bcebe5e1b",
   "metadata": {},
   "outputs": [
    {
     "name": "stdout",
     "output_type": "stream",
     "text": [
      "(1, 2, 3, 4, 5, False, True, 19.99, 'Coding', 'a', 'b', 'c')\n"
     ]
    }
   ],
   "source": [
    "# Combining a Tuple \n",
    "_tuple1 = (1,2,3,4,5)\n",
    "_tuple2 = (False, True, 19.99, 'Coding','a','b','c')\n",
    "new_tuple = _tuple1 + _tuple2\n",
    "print(new_tuple)"
   ]
  },
  {
   "cell_type": "code",
   "execution_count": 30,
   "id": "20ac1065-3989-4eca-a6f7-d772093f0073",
   "metadata": {},
   "outputs": [
    {
     "data": {
      "text/plain": [
       "2"
      ]
     },
     "execution_count": 30,
     "metadata": {},
     "output_type": "execute_result"
    }
   ],
   "source": [
    "# .count()\n",
    "country_tuple = ('India', 'America', 'Russia', 'China', 'Canada', 'Japan', \n",
    "                'Vietnam', 'Sri-Lanka', 'France', 'Singapore', 'Australia', \n",
    "                'Spain', 'New Zealand', 'Finland' , 'Germany', 'india', 'India')\n",
    "country_tuple.count('India')"
   ]
  },
  {
   "cell_type": "code",
   "execution_count": 32,
   "id": "3366e3da-023b-4b5c-b99a-3145362de4a0",
   "metadata": {},
   "outputs": [
    {
     "data": {
      "text/plain": [
       "5"
      ]
     },
     "execution_count": 32,
     "metadata": {},
     "output_type": "execute_result"
    }
   ],
   "source": [
    "# .index()\n",
    "country_tuple.index('Japan')"
   ]
  },
  {
   "cell_type": "raw",
   "id": "6bc81edb-90af-4b1a-8b85-7035edc87ee9",
   "metadata": {},
   "source": [
    "country_tuple.index('Norway') # ValueError: tuple.index(x): x not in tuple"
   ]
  },
  {
   "cell_type": "markdown",
   "id": "67b7ebb8-94c0-4b6e-a430-1a2c19dc35e2",
   "metadata": {},
   "source": [
    "# Using map() in Python\n",
    "### What is map()?\n",
    "\n",
    "#### Syntax : map(function, iterable) where function uses (lambda function internally)\n",
    "\n",
    "##### The map() function is a very handy tool in Python that let's you:\n",
    "- Apply a Function to each item in a list , tuple or any other iterable\n",
    "- Return a map object"
   ]
  },
  {
   "cell_type": "code",
   "execution_count": 34,
   "id": "e0b770a6-f6b1-4de2-85cb-50d3c24e0445",
   "metadata": {},
   "outputs": [
    {
     "name": "stdout",
     "output_type": "stream",
     "text": [
      "<map object at 0x0000025074C07040>\n",
      "(1, 4, 9, 16, 25, 36, 49)\n",
      "[]\n"
     ]
    }
   ],
   "source": [
    "# Square each elements\n",
    "num_list = [1,2,3,4,5,6,7]\n",
    "# map(function, iterable)\n",
    "squared = map(lambda x : x ** 2 , num_list)\n",
    "print(squared)\n",
    "print(tuple(squared)) # (1,4,9,16,25,36,49)\n",
    "print(list(squared)) # []"
   ]
  },
  {
   "cell_type": "code",
   "execution_count": 36,
   "id": "ed8fe92a-747d-4c71-a8ed-0ad3e211e4a5",
   "metadata": {},
   "outputs": [
    {
     "name": "stdout",
     "output_type": "stream",
     "text": [
      "<map object at 0x0000025074B321A0>\n",
      "[11, 12, 13, 14, 15, 16, 17]\n",
      "()\n"
     ]
    }
   ],
   "source": [
    "# Adding 10 in an element\n",
    "num_list = [1,2,3,4,5,6,7]\n",
    "# map(function, iterable)\n",
    "add_10 = map(lambda x : x + 10 , num_list)\n",
    "print(add_10)\n",
    "print(list(add_10)) # [11,12,13,14,15,16,17]\n",
    "print(tuple(add_10)) # ()"
   ]
  },
  {
   "cell_type": "code",
   "execution_count": 37,
   "id": "1f6e5827-8ef8-41b8-9708-f52ac11ec5bf",
   "metadata": {},
   "outputs": [
    {
     "name": "stdin",
     "output_type": "stream",
     "text": [
      "Enter the multiple numbers :  10 20 30 40 50 60 70\n"
     ]
    },
    {
     "name": "stdout",
     "output_type": "stream",
     "text": [
      "[10, 20, 30, 40, 50, 60, 70]\n"
     ]
    }
   ],
   "source": [
    "# Taking input from the user -> \n",
    "numbers = list(map(int, input(\"Enter the multiple numbers : \").split()))\n",
    "print(numbers)"
   ]
  },
  {
   "cell_type": "code",
   "execution_count": 38,
   "id": "a6986093-96b9-436c-a59a-d32df85fcffd",
   "metadata": {},
   "outputs": [
    {
     "name": "stdin",
     "output_type": "stream",
     "text": [
      "Enter the multiple string :  coding ninja python programming\n"
     ]
    },
    {
     "name": "stdout",
     "output_type": "stream",
     "text": [
      "['coding', 'ninja', 'python', 'programming']\n"
     ]
    }
   ],
   "source": [
    "# Taking input from the user -> \n",
    "string = list(map(str, input(\"Enter the multiple string : \").split()))\n",
    "print(string)"
   ]
  },
  {
   "cell_type": "markdown",
   "id": "e7b2ee8c-7d9c-4b8e-b406-d3b6a3e57df7",
   "metadata": {},
   "source": [
    "# What are Sets?\n",
    "#### A Set in Python is:\n",
    "- Unordered : No guaranteed order of elements\n",
    "- Changeable (mutable): You can add or remove elements\n",
    "- Unindexed : No way to access items by position\n",
    "- Unique Items only : Automatically removes Duplicates\n",
    "\n",
    "##### They can hold different data types together, like numbers, strings or boolean"
   ]
  },
  {
   "cell_type": "code",
   "execution_count": 42,
   "id": "0a53a793-8351-4d03-a324-c6fb941cd2c3",
   "metadata": {},
   "outputs": [
    {
     "name": "stdout",
     "output_type": "stream",
     "text": [
      "<class 'dict'>\n",
      "<class 'set'>\n"
     ]
    }
   ],
   "source": [
    "_dict = {} # dictionary\n",
    "# You can't assign {} to a set as by default empty curly braces represent dictionary {}\n",
    "_set = set()\n",
    "print(type(_dict))\n",
    "print(type(_set))"
   ]
  },
  {
   "cell_type": "code",
   "execution_count": 43,
   "id": "9934761f-1c90-4312-a405-9195ccff8658",
   "metadata": {},
   "outputs": [
    {
     "name": "stdout",
     "output_type": "stream",
     "text": [
      "<class 'set'>\n"
     ]
    }
   ],
   "source": [
    "_set = {1}\n",
    "print(type(_set))"
   ]
  },
  {
   "cell_type": "code",
   "execution_count": 50,
   "id": "ce5ab526-6535-4d90-ad4d-1fcafde3a273",
   "metadata": {},
   "outputs": [
    {
     "name": "stdout",
     "output_type": "stream",
     "text": [
      "{False, 1, 2, 3, 9.99, 'a', 'coding', 'b', 'c'}\n",
      "<class 'set'>\n"
     ]
    }
   ],
   "source": [
    "_set = {1,2,3,'a','b','c',False,True,9.99,\"coding\"}\n",
    "print(_set)\n",
    "print(type(_set))"
   ]
  },
  {
   "cell_type": "code",
   "execution_count": 52,
   "id": "1f64e0dc-8fc9-4eb9-8a35-8dc38898bcb4",
   "metadata": {},
   "outputs": [
    {
     "name": "stdout",
     "output_type": "stream",
     "text": [
      "{False, 1, 2, 3, 9.99, 'programming', 'a', 'coding', 'b', 'c', 'Python'}\n"
     ]
    }
   ],
   "source": [
    "_set = {1,2,3,'a','b','c',False,True,9.99,\"coding\",\"Python\",\"programming\"}\n",
    "print(_set)"
   ]
  },
  {
   "cell_type": "code",
   "execution_count": 53,
   "id": "61cae4ed-d708-47d1-a167-1abc50129966",
   "metadata": {},
   "outputs": [
    {
     "name": "stdout",
     "output_type": "stream",
     "text": [
      "{1, 2}\n"
     ]
    }
   ],
   "source": [
    "_duplicate_set = {1,2,1,2,1,1,1,2,2,2,1,2}\n",
    "print(_duplicate_set) # only store unique elements"
   ]
  },
  {
   "cell_type": "code",
   "execution_count": 54,
   "id": "be23cfc1-aa71-403b-a4ee-8cc7d2d31548",
   "metadata": {},
   "outputs": [
    {
     "name": "stdout",
     "output_type": "stream",
     "text": [
      "{0, 1, 2}\n"
     ]
    }
   ],
   "source": [
    "_duplicate_set = {0,1,0,0,1,2,1,2,1,1,1,2,2,2,1,2,False,True}\n",
    "print(_duplicate_set) # only store unique elements"
   ]
  },
  {
   "cell_type": "code",
   "execution_count": 55,
   "id": "50e578a3-0671-4581-b9bd-62e1b35a4e05",
   "metadata": {},
   "outputs": [
    {
     "name": "stdout",
     "output_type": "stream",
     "text": [
      "{False, True, 2}\n"
     ]
    }
   ],
   "source": [
    "_duplicate_set = {False,True,0,1,0,0,1,2,1,2,1,1,1,2,2,2,1,2,False,True}\n",
    "print(_duplicate_set) # only store unique elements"
   ]
  },
  {
   "cell_type": "code",
   "execution_count": 57,
   "id": "b45b7e47-6865-417d-9f6e-907fc938cba4",
   "metadata": {},
   "outputs": [
    {
     "name": "stdout",
     "output_type": "stream",
     "text": [
      "{'India', 'Singapore', 'Australia', 'Germany', 'France', 'Canada', 'Finland', 'Sri-Lanka', 'Japan', 'Spain', 'Vietnam', 'China', 'Russia', 'New Zealand', 'india', 'America'}\n",
      "{False, True, 2, 3, 4, 5, 'a', 'b', 19.99, 'Coding', 'c'}\n"
     ]
    }
   ],
   "source": [
    "# set() constructor to do the typecasting\n",
    "_list = ['India', 'America', 'Russia', 'China', 'Canada', 'Japan', \n",
    "        'Vietnam', 'Sri-Lanka', 'France', 'Singapore', 'Australia', \n",
    "        'Vietnam', 'Sri-Lanka', 'France', 'Singapore', 'Australia', \n",
    "        'Spain', 'New Zealand', 'Finland' , 'Germany', 'india', 'India']\n",
    "_tuple = (False, True, 19.99, 'Coding','a','b','c',0,1,2,3,4,5)\n",
    "print(set(_list))\n",
    "print(set(_tuple))"
   ]
  },
  {
   "cell_type": "code",
   "execution_count": 67,
   "id": "c94bb336-0888-4e57-86de-cba4ee9f067e",
   "metadata": {},
   "outputs": [
    {
     "data": {
      "text/plain": [
       "{('a', 'b', 'c', 'd'), ('coding',), (True, False), 99, 'coding'}"
      ]
     },
     "execution_count": 67,
     "metadata": {},
     "output_type": "execute_result"
    }
   ],
   "source": [
    "# Immutable elements are allowed in sets\n",
    "nested_set = {\n",
    "    'coding',\n",
    "    99,\n",
    "    ('a','b','c','d'),\n",
    "    ('coding',),\n",
    "    ('coding'), # skip\n",
    "    (True,False)\n",
    "}\n",
    "nested_set"
   ]
  },
  {
   "cell_type": "markdown",
   "id": "4fcda50a-82d1-4edd-971e-1d264c0855cc",
   "metadata": {},
   "source": [
    "# Key Takeways for Sets:\n",
    "1. Unordered : You can't access elements by index.\n",
    "2. Unique : Removes Duplicates Automatically.\n",
    "3. Mutable Container : Can add or remove items.\n",
    "4. Immutable items: Elements must be hashable & immutable (like numbers, strings , tuples)"
   ]
  },
  {
   "cell_type": "code",
   "execution_count": 1,
   "id": "8eb644a7-294c-4c90-9889-07d81b2637dc",
   "metadata": {},
   "outputs": [
    {
     "name": "stdout",
     "output_type": "stream",
     "text": [
      "False\n",
      "True\n",
      "False\n",
      "True\n"
     ]
    }
   ],
   "source": [
    "# Understanding Common Methods and operation associated with Sets\n",
    "# Accessing an item [❌ No Indexing]\n",
    "# membership operators # [Boolean Return]\n",
    "car_set = {'Taigun','Creta','Thar','Kylaq','Camry','Virtus','Nexon','Rolls Royce','Verna'}\n",
    "print('Slavia' in car_set) # False\n",
    "print('Thar' in car_set) # True\n",
    "print('Kylaq' not in car_set) # False\n",
    "print('ScorpioN' not in car_set) # True"
   ]
  },
  {
   "cell_type": "code",
   "execution_count": 3,
   "id": "4ceec650-917d-41c5-b6f8-4e79678d57e1",
   "metadata": {},
   "outputs": [
    {
     "name": "stdout",
     "output_type": "stream",
     "text": [
      "9\n"
     ]
    }
   ],
   "source": [
    "# Length of a set -> len() to count the number of elements.\n",
    "car_set = {'Taigun','Creta','Thar','Kylaq','Camry','Virtus','Nexon','Rolls Royce','Verna'}\n",
    "print(len(car_set))"
   ]
  },
  {
   "cell_type": "code",
   "execution_count": 5,
   "id": "6708b7bd-1b5c-4081-a7a7-e914aa0cafd0",
   "metadata": {},
   "outputs": [
    {
     "name": "stdout",
     "output_type": "stream",
     "text": [
      "0\n",
      "55\n",
      "180\n"
     ]
    }
   ],
   "source": [
    "# min() , max() and the sum() \n",
    "quick_set = {0,1,2,3,4,5,11,22,33,44,55,False,True} # False[0] , True[1] {Duplicate}\n",
    "print(min(quick_set)) # 0\n",
    "print(max(quick_set)) # 55\n",
    "print(sum(quick_set)) # sum"
   ]
  },
  {
   "cell_type": "code",
   "execution_count": 7,
   "id": "c618f4da-a087-486e-8dc6-6c72714790c0",
   "metadata": {},
   "outputs": [
    {
     "name": "stdout",
     "output_type": "stream",
     "text": [
      "{False, True, 2, 3, 4, 5, 33, 11, 44, 22, 55}\n",
      "False\n",
      "55\n",
      "180\n"
     ]
    }
   ],
   "source": [
    "# min() , max() and the sum() \n",
    "quick_set = {False,True,2,3,4,5,11,22,33,44,55,0,1} # False[0] , True[1] {Duplicate}\n",
    "print(quick_set)\n",
    "print(min(quick_set)) # False\n",
    "print(max(quick_set)) # 55\n",
    "print(sum(quick_set)) # sum"
   ]
  },
  {
   "cell_type": "code",
   "execution_count": 10,
   "id": "db40398f-9a24-49f4-9d5c-b9b3ebf1d13c",
   "metadata": {},
   "outputs": [
    {
     "name": "stdout",
     "output_type": "stream",
     "text": [
      "{False, True, 2, 3, 4, 5, 33, 11, 44, 77, 22, 55}\n"
     ]
    }
   ],
   "source": [
    "# Adding Items to a set()\n",
    "# .add() -> Adds a single elements\n",
    "quick_set = {False,True,2,3,4,5,11,22,33,44,55,0,1}\n",
    "quick_set.add(77)\n",
    "print(quick_set)"
   ]
  },
  {
   "cell_type": "code",
   "execution_count": 11,
   "id": "19301d78-8273-48c8-9a20-975302091571",
   "metadata": {},
   "outputs": [
    {
     "name": "stdout",
     "output_type": "stream",
     "text": [
      "{False, True, 2, 3, 4, 5, 33, 99, 11, 44, 77, 22, 55}\n"
     ]
    }
   ],
   "source": [
    "quick_set.add(99)\n",
    "print(quick_set)"
   ]
  },
  {
   "cell_type": "code",
   "execution_count": 13,
   "id": "ba0eb846-7e8a-4340-965e-907cdebe8d48",
   "metadata": {},
   "outputs": [
    {
     "name": "stdout",
     "output_type": "stream",
     "text": [
      "{False, True, 2, 3, 4, 5, 33, 99, 11, 44, 77, 22, 55, 'b', 'c', 'a'}\n"
     ]
    }
   ],
   "source": [
    "# .update(<iterables>) -> Adds a multiple elements -> iterables as argument\n",
    "quick_set.update(['a','b','c'])\n",
    "print(quick_set)"
   ]
  },
  {
   "cell_type": "code",
   "execution_count": 14,
   "id": "b147ffa1-9336-47e9-8640-0ae925a60966",
   "metadata": {},
   "outputs": [
    {
     "name": "stdout",
     "output_type": "stream",
     "text": [
      "{False, True, 2, 3, 4, 5, 'C', 11, 'd', 22, 'n', 33, 44, 'o', 55, 'b', 'c', 77, 99, 'i', 'g', 'a'}\n"
     ]
    }
   ],
   "source": [
    "quick_set.update('Coding')\n",
    "print(quick_set)"
   ]
  },
  {
   "cell_type": "code",
   "execution_count": 15,
   "id": "7ef565a9-2a43-4d15-91a9-4d84133d4d28",
   "metadata": {},
   "outputs": [
    {
     "name": "stdout",
     "output_type": "stream",
     "text": [
      "{False, True, 2, 3, 4, 5, 'C', 11, 'd', 22, 'n', 33, 'Coding', 44, 'o', 55, 'b', 'c', 77, 99, 'i', 'g', 'a'}\n"
     ]
    }
   ],
   "source": [
    "quick_set.update(('Coding',))\n",
    "print(quick_set)"
   ]
  },
  {
   "cell_type": "code",
   "execution_count": 16,
   "id": "f1bc2b29-fcb3-4b16-9a8a-1059a17927f8",
   "metadata": {},
   "outputs": [
    {
     "name": "stdout",
     "output_type": "stream",
     "text": [
      "{True, 2, 3, 4, 5, 'C', 11, 'd', 22, 'n', 33, 'Coding', 44, 'o', 55, 'b', 'c', 77, 99, 'i', 'g', 'a'}\n"
     ]
    }
   ],
   "source": [
    "# Removing items from a set()\n",
    "# remove() -> throws an errors if item doesn't exist\n",
    "# discard() -> No error if item doesn't exist\n",
    "quick_set.remove(False)\n",
    "print(quick_set)"
   ]
  },
  {
   "cell_type": "code",
   "execution_count": 17,
   "id": "99d8596f-6bf9-47e7-bd7f-1750e0196d2a",
   "metadata": {},
   "outputs": [
    {
     "name": "stdout",
     "output_type": "stream",
     "text": [
      "{2, 3, 4, 5, 'C', 11, 'd', 22, 'n', 33, 'Coding', 44, 'o', 55, 'b', 'c', 77, 99, 'i', 'g', 'a'}\n"
     ]
    }
   ],
   "source": [
    "quick_set.remove(True)\n",
    "print(quick_set)"
   ]
  },
  {
   "cell_type": "raw",
   "id": "2fdabe88-0cc8-4c1f-be41-8602af806814",
   "metadata": {},
   "source": [
    "quick_set.remove('True') # doesn't exist , it throws error\n",
    "print(quick_set)"
   ]
  },
  {
   "cell_type": "code",
   "execution_count": 24,
   "id": "466d20de-e8bf-4561-b59c-3639edb89d37",
   "metadata": {},
   "outputs": [
    {
     "name": "stdout",
     "output_type": "stream",
     "text": [
      "{2, 3, 4, 5, 'C', 11, 'd', 22, 'n', 33, 'Coding', 44, 'o', 55, 77, 99, 'i', 'g'}\n"
     ]
    }
   ],
   "source": [
    "quick_set.discard(('a','b','c')) # doesn't exist still won't throw an error\n",
    "print(quick_set)"
   ]
  },
  {
   "cell_type": "code",
   "execution_count": 25,
   "id": "d9312f9f-3634-4737-b55c-1c92939a56fc",
   "metadata": {},
   "outputs": [
    {
     "name": "stdout",
     "output_type": "stream",
     "text": [
      "{2, 3, 4, 5, 'C', 11, 'd', 22, 'n', 33, 'Coding', 44, 'o', 55, 77, 99, 'i', 'g'}\n"
     ]
    }
   ],
   "source": [
    "quick_set.discard('a')\n",
    "quick_set.discard('b')\n",
    "quick_set.discard('c')\n",
    "print(quick_set)"
   ]
  },
  {
   "cell_type": "code",
   "execution_count": 26,
   "id": "9cd28331-bc60-49a0-8b74-7b5eaf40536d",
   "metadata": {},
   "outputs": [
    {
     "name": "stdout",
     "output_type": "stream",
     "text": [
      "{2, 3, 4, 5, 'C', ('x', 'y', 'z'), 11, 'd', 22, 'n', 33, 'Coding', 44, 'o', 55, 77, 99, 'i', 'g'}\n"
     ]
    }
   ],
   "source": [
    "quick_set.add(('x','y','z'))\n",
    "print(quick_set)"
   ]
  },
  {
   "cell_type": "code",
   "execution_count": 27,
   "id": "bb8170bb-dd38-4dc0-b3ae-1b31f8286cae",
   "metadata": {},
   "outputs": [
    {
     "name": "stdout",
     "output_type": "stream",
     "text": [
      "{2, 3, 4, 5, 'C', 11, 'd', 22, 'n', 33, 'Coding', 44, 'o', 55, 77, 99, 'i', 'g'}\n"
     ]
    }
   ],
   "source": [
    "quick_set.discard(('x','y','z')) # remove the element as it exist\n",
    "print(quick_set)"
   ]
  },
  {
   "cell_type": "code",
   "execution_count": 28,
   "id": "58b40c22-04b8-4333-942d-eed0eaac2024",
   "metadata": {},
   "outputs": [
    {
     "name": "stdout",
     "output_type": "stream",
     "text": [
      "2\n",
      "{3, 4, 5, 'C', 11, 'd', 22, 'n', 33, 'Coding', 44, 'o', 55, 77, 99, 'i', 'g'}\n"
     ]
    }
   ],
   "source": [
    "# pop() -> Removes and returns an arbitary elements. Since sets are unordered, \n",
    "# you don't which item will be removed\n",
    "popped_item = quick_set.pop()\n",
    "print(popped_item)\n",
    "print(quick_set)"
   ]
  },
  {
   "cell_type": "code",
   "execution_count": 29,
   "id": "49cc959f-fe93-41b0-a54e-bb77b2d22045",
   "metadata": {},
   "outputs": [
    {
     "name": "stdout",
     "output_type": "stream",
     "text": [
      "3\n",
      "{4, 5, 'C', 11, 'd', 22, 'n', 33, 'Coding', 44, 'o', 55, 77, 99, 'i', 'g'}\n"
     ]
    }
   ],
   "source": [
    "popped_item = quick_set.pop()\n",
    "print(popped_item)\n",
    "print(quick_set)"
   ]
  },
  {
   "cell_type": "code",
   "execution_count": 30,
   "id": "ebc784aa-af86-4148-9f02-d72acbc42df7",
   "metadata": {},
   "outputs": [
    {
     "name": "stdout",
     "output_type": "stream",
     "text": [
      "4\n",
      "{5, 'C', 11, 'd', 22, 'n', 33, 'Coding', 44, 'o', 55, 77, 99, 'i', 'g'}\n"
     ]
    }
   ],
   "source": [
    "popped_item = quick_set.pop()\n",
    "print(popped_item)\n",
    "print(quick_set)"
   ]
  },
  {
   "cell_type": "code",
   "execution_count": 31,
   "id": "ddd3b7aa-8add-4183-951f-671949ae4807",
   "metadata": {},
   "outputs": [
    {
     "name": "stdout",
     "output_type": "stream",
     "text": [
      "5\n",
      "{'C', 11, 'd', 22, 'n', 33, 'Coding', 44, 'o', 55, 77, 99, 'i', 'g'}\n"
     ]
    }
   ],
   "source": [
    "popped_item = quick_set.pop()\n",
    "print(popped_item)\n",
    "print(quick_set)"
   ]
  },
  {
   "cell_type": "code",
   "execution_count": 32,
   "id": "7c18d9b6-e3b2-405d-b97a-89b01fff7b9d",
   "metadata": {},
   "outputs": [
    {
     "name": "stdout",
     "output_type": "stream",
     "text": [
      "C\n",
      "{11, 'd', 22, 'n', 33, 'Coding', 44, 'o', 55, 77, 99, 'i', 'g'}\n"
     ]
    }
   ],
   "source": [
    "popped_item = quick_set.pop()\n",
    "print(popped_item)\n",
    "print(quick_set)"
   ]
  },
  {
   "cell_type": "code",
   "execution_count": 33,
   "id": "f732c953-6483-4930-9e45-38112bef9f55",
   "metadata": {},
   "outputs": [
    {
     "name": "stdout",
     "output_type": "stream",
     "text": [
      "11\n",
      "{'d', 22, 'n', 33, 'Coding', 44, 'o', 55, 77, 99, 'i', 'g'}\n"
     ]
    }
   ],
   "source": [
    "popped_item = quick_set.pop()\n",
    "print(popped_item)\n",
    "print(quick_set)"
   ]
  },
  {
   "cell_type": "code",
   "execution_count": 34,
   "id": "14248d6e-fd9c-44ab-9d2f-22fc5e36b135",
   "metadata": {},
   "outputs": [
    {
     "name": "stdout",
     "output_type": "stream",
     "text": [
      "d\n",
      "{22, 'n', 33, 'Coding', 44, 'o', 55, 77, 99, 'i', 'g'}\n"
     ]
    }
   ],
   "source": [
    "popped_item = quick_set.pop()\n",
    "print(popped_item)\n",
    "print(quick_set)"
   ]
  },
  {
   "cell_type": "code",
   "execution_count": 35,
   "id": "d8240bb6-fc24-490e-a707-e5733dc4f62a",
   "metadata": {},
   "outputs": [
    {
     "name": "stdout",
     "output_type": "stream",
     "text": [
      "22\n",
      "{'n', 33, 'Coding', 44, 'o', 55, 77, 99, 'i', 'g'}\n"
     ]
    }
   ],
   "source": [
    "popped_item = quick_set.pop()\n",
    "print(popped_item)\n",
    "print(quick_set)"
   ]
  },
  {
   "cell_type": "code",
   "execution_count": 36,
   "id": "fe2289f2-ee9a-4fa2-b424-3f8ee884d884",
   "metadata": {},
   "outputs": [
    {
     "name": "stdout",
     "output_type": "stream",
     "text": [
      "n\n",
      "{33, 'Coding', 44, 'o', 55, 77, 99, 'i', 'g'}\n"
     ]
    }
   ],
   "source": [
    "popped_item = quick_set.pop()\n",
    "print(popped_item)\n",
    "print(quick_set)"
   ]
  },
  {
   "cell_type": "code",
   "execution_count": 37,
   "id": "07af776c-7f51-4880-870d-b04dbf1f6d5b",
   "metadata": {},
   "outputs": [
    {
     "name": "stdout",
     "output_type": "stream",
     "text": [
      "33\n",
      "{'Coding', 44, 'o', 55, 77, 99, 'i', 'g'}\n"
     ]
    }
   ],
   "source": [
    "popped_item = quick_set.pop()\n",
    "print(popped_item)\n",
    "print(quick_set)"
   ]
  },
  {
   "cell_type": "code",
   "execution_count": 38,
   "id": "c268cf3d-01d4-4a29-8605-24dc907087a9",
   "metadata": {},
   "outputs": [
    {
     "name": "stdout",
     "output_type": "stream",
     "text": [
      "Coding\n",
      "{44, 'o', 55, 77, 99, 'i', 'g'}\n"
     ]
    }
   ],
   "source": [
    "popped_item = quick_set.pop()\n",
    "print(popped_item)\n",
    "print(quick_set)"
   ]
  },
  {
   "cell_type": "code",
   "execution_count": 42,
   "id": "e2e0905f-b89a-4e1c-be85-58980ce126b5",
   "metadata": {},
   "outputs": [
    {
     "name": "stdout",
     "output_type": "stream",
     "text": [
      "Wed\n"
     ]
    }
   ],
   "source": [
    "day_set = {'Mon','Wed','Thurs','Sat','Tues','Fri','Sun'}\n",
    "pop_item = day_set.pop()\n",
    "print(pop_item)"
   ]
  },
  {
   "cell_type": "code",
   "execution_count": 47,
   "id": "caa189db-9223-4f49-95f4-520948e900fe",
   "metadata": {},
   "outputs": [
    {
     "name": "stdout",
     "output_type": "stream",
     "text": [
      "{'Tues', 'Thurs', 'Sun', 'Mon', 'Sat', 'Fri'}\n"
     ]
    }
   ],
   "source": [
    "print(day_set)"
   ]
  },
  {
   "cell_type": "code",
   "execution_count": 48,
   "id": "bbdf6678-3885-4c3e-baa8-bcd7d9f9caee",
   "metadata": {},
   "outputs": [
    {
     "name": "stdout",
     "output_type": "stream",
     "text": [
      "Tues\n",
      "{'Thurs', 'Sun', 'Mon', 'Sat', 'Fri'}\n"
     ]
    }
   ],
   "source": [
    "pop_item = day_set.pop()\n",
    "print(pop_item)\n",
    "print(day_set)"
   ]
  },
  {
   "cell_type": "code",
   "execution_count": 49,
   "id": "c2fc2856-d3e7-4d4b-be36-c0095d0f463c",
   "metadata": {},
   "outputs": [
    {
     "name": "stdout",
     "output_type": "stream",
     "text": [
      "{'Jan', 'Thurs', 'Sun', 'Mon', 'Sat', 'Fri'}\n"
     ]
    }
   ],
   "source": [
    "day_set.add('Jan')\n",
    "print(day_set)"
   ]
  },
  {
   "cell_type": "code",
   "execution_count": 50,
   "id": "9c730f7d-8237-47c3-b762-885ee5461812",
   "metadata": {},
   "outputs": [
    {
     "name": "stdout",
     "output_type": "stream",
     "text": [
      "{'Thurs', 'Sun', 'Feb', 'Jan', 'Mon', 'Sat', 'Fri'}\n"
     ]
    }
   ],
   "source": [
    "day_set.add('Feb')\n",
    "print(day_set)"
   ]
  },
  {
   "cell_type": "code",
   "execution_count": 51,
   "id": "ee0e2505-ee0b-4f8d-9743-37096826c45e",
   "metadata": {},
   "outputs": [
    {
     "name": "stdout",
     "output_type": "stream",
     "text": [
      "set()\n"
     ]
    }
   ],
   "source": [
    "# clear\n",
    "day_set.clear()\n",
    "print(day_set) # {}"
   ]
  },
  {
   "cell_type": "raw",
   "id": "4e6893fa-193d-4ed0-9c97-56fd18687234",
   "metadata": {},
   "source": [
    "# del -> We can delete the entire set object\n",
    "del day_set\n",
    "print(day_set) # NameError: name 'day_set' is not defined"
   ]
  },
  {
   "cell_type": "code",
   "execution_count": 54,
   "id": "43f43deb-3a80-478f-82ee-e37aa828aba6",
   "metadata": {},
   "outputs": [
    {
     "name": "stdout",
     "output_type": "stream",
     "text": [
      "{1, 2, 3, 4, 5, 6, 7, 8, 9}\n"
     ]
    }
   ],
   "source": [
    "# Union (| or .union())\n",
    "setA = {1,2,3,4,5,5,6,6,8,8,8,8} # {1,2,3,4,5,6,8}\n",
    "setB = {3,5,7,7,7,7,7,9,9} # {3,5,7,9}\n",
    "union_set = setA | setB # (AUB)\n",
    "print(union_set) # {1...9}"
   ]
  },
  {
   "cell_type": "code",
   "execution_count": 55,
   "id": "2f21ae8c-9791-4f61-8cb9-90937a9ecd64",
   "metadata": {},
   "outputs": [
    {
     "name": "stdout",
     "output_type": "stream",
     "text": [
      "{1, 2, 3, 4, 5, 6, 7, 8, 9}\n"
     ]
    }
   ],
   "source": [
    "result = setA.union(setB)\n",
    "print(result)"
   ]
  },
  {
   "cell_type": "code",
   "execution_count": 56,
   "id": "ab7c6f7c-2348-407f-9879-9ab661c4a3ab",
   "metadata": {},
   "outputs": [
    {
     "name": "stdout",
     "output_type": "stream",
     "text": [
      "{'q', 'y', 'p', 'e', 'd', 'z', 'r', 'x', 'b', 's', 'c', 'a'}\n",
      "{'q', 'y', 'p', 'e', 'd', 'z', 'r', 'x', 'b', 's', 'c', 'a'}\n"
     ]
    }
   ],
   "source": [
    "# Advance union concepts\n",
    "setA = {'a','b','c','d','e'}\n",
    "setB = {'p','q','r','s','a','b','c'}\n",
    "setC = {'x','y','r','s','a','c','z'}\n",
    "print(setA | setB | setC)\n",
    "print(setA.union(setB).union(setC))"
   ]
  },
  {
   "cell_type": "code",
   "execution_count": 58,
   "id": "8544cd80-9c26-4b10-899f-a695fc0bee78",
   "metadata": {},
   "outputs": [
    {
     "name": "stdout",
     "output_type": "stream",
     "text": [
      "{'b', 'c', 'a'}\n",
      "{'c', 'a'}\n",
      "{'c', 'a'}\n"
     ]
    }
   ],
   "source": [
    "# Intersection (& or intersection())\n",
    "setA = {'a','b','c','d','e'}\n",
    "setB = {'p','q','r','s','a','b','c'}\n",
    "setC = {'x','y','r','s','a','c','z'}\n",
    "print(setA & setB) # {a,b,c}\n",
    "print(setA.intersection(setB).intersection(setC)) # {'a','c'}\n",
    "print(setA & setB & setC) # {'a','c'}"
   ]
  },
  {
   "cell_type": "code",
   "execution_count": 59,
   "id": "00f20f2b-036d-49fa-9af6-dbbd65ce7102",
   "metadata": {},
   "outputs": [
    {
     "name": "stdout",
     "output_type": "stream",
     "text": [
      "{'d', 'e'}\n",
      "{'d', 'e'}\n"
     ]
    }
   ],
   "source": [
    "# difference (- or .difference()) # Elements in A but not in B\n",
    "setA = {'a','b','c','d','e'}\n",
    "setB = {'p','q','r','s','a','b','c'}\n",
    "setC = {'x','y','r','s','a','c','z'}\n",
    "print(setA - setB) # {'d','e'}\n",
    "print(setA.difference(setB)) # {'d','e'}"
   ]
  },
  {
   "cell_type": "code",
   "execution_count": 60,
   "id": "c5d69677-a842-4280-9822-e96c246bbb4d",
   "metadata": {},
   "outputs": [
    {
     "name": "stdout",
     "output_type": "stream",
     "text": [
      "{'p', 's', 'r', 'q'}\n",
      "{'p', 's', 'r', 'q'}\n"
     ]
    }
   ],
   "source": [
    "print(setB - setA) # {'p','q','r','s'}\n",
    "print(setB.difference(setA)) # {'p','q','r','s'}"
   ]
  },
  {
   "cell_type": "code",
   "execution_count": 62,
   "id": "d1d31c82-92a0-44ed-b2ac-9e976bb40f96",
   "metadata": {},
   "outputs": [
    {
     "name": "stdout",
     "output_type": "stream",
     "text": [
      "{'p', 'q'}\n",
      "{'p', 'q'}\n"
     ]
    }
   ],
   "source": [
    "setA = {'a','b','c','d','e'}\n",
    "setB = {'p','q','r','s','a','b','c'}\n",
    "setC = {'x','y','r','s','a','c','z'}\n",
    "print(setB - setA - setC) # {'p','q'}\n",
    "print(setB.difference(setA).difference(setC))"
   ]
  },
  {
   "cell_type": "code",
   "execution_count": 63,
   "id": "ee2c80f9-9f05-426a-a7c8-9e89341659d9",
   "metadata": {},
   "outputs": [
    {
     "name": "stdout",
     "output_type": "stream",
     "text": [
      "{'q', 'p', 'e', 'd', 'r', 's'}\n",
      "{'q', 'p', 'e', 'd', 'r', 's'}\n"
     ]
    }
   ],
   "source": [
    "# Symmetric Difference (^ or .symmetric_difference())\n",
    "# Elements in either SetA or SetB , but not in both\n",
    "setA = {'a','b','c','d','e'}\n",
    "setB = {'p','q','r','s','a','b','c'}\n",
    "setC = {'x','y','r','s','a','c','z'}\n",
    "print(setA ^ setB) # {'d','e','p','q','r','s'}\n",
    "print(setA.symmetric_difference(setB)) # {'d','e','p','q','r','s'}"
   ]
  },
  {
   "cell_type": "code",
   "execution_count": 65,
   "id": "8e0a9338-31ae-4114-b5fd-02e058a463ec",
   "metadata": {},
   "outputs": [
    {
     "name": "stdout",
     "output_type": "stream",
     "text": [
      "{'q', 'd', 'x', 'y', 'e', 'z', 'p', 'c', 'a'}\n",
      "{'q', 'd', 'x', 'y', 'e', 'z', 'p', 'c', 'a'}\n"
     ]
    }
   ],
   "source": [
    "setA = {'a','b','c','d','e'}\n",
    "setB = {'p','q','r','s','a','b','c'}\n",
    "setC = {'x','y','r','s','a','c','z'}\n",
    "print(setA ^ setB ^ setC) # {'d','e','p','q','r','s'} ^ {'x','y','r','s','a','c','z'}\n",
    "# {'d','e','p','q','x','y','a','c','z'}\n",
    "print(setA.symmetric_difference(setB).symmetric_difference(setC)) # {'d','e','p','q','x','y','a','c','z'}"
   ]
  },
  {
   "cell_type": "code",
   "execution_count": 76,
   "id": "b5a8525f-d6ea-4db2-8510-f03c0b57f2d4",
   "metadata": {},
   "outputs": [
    {
     "name": "stdout",
     "output_type": "stream",
     "text": [
      "{'d', 'e'}\n"
     ]
    }
   ],
   "source": [
    "# difference_update()\n",
    "# shortcut : a -= b|c\n",
    "setA = {'a','b','c','d','e'}\n",
    "setB = {'p','q','r','s','a','b','c'}\n",
    "setC = {'x','y','r','s','a','c','z'}\n",
    "# setB | setC => {'a','b','c','p','q','r','s','x','y','z'}\n",
    "# setA - = (setB | setC) => {'d','e'}\n",
    "# setA.difference_update(setB,setC)\n",
    "setA = setA - (setB | setC)\n",
    "print(setA)"
   ]
  },
  {
   "cell_type": "code",
   "execution_count": 77,
   "id": "3274c01a-81f4-46f6-8dc7-8f8e6a1e95da",
   "metadata": {},
   "outputs": [
    {
     "name": "stdout",
     "output_type": "stream",
     "text": [
      "{'d', 'e'}\n"
     ]
    }
   ],
   "source": [
    "setA.difference_update(setB,setC)\n",
    "print(setA)"
   ]
  },
  {
   "cell_type": "raw",
   "id": "21569fdd-734a-45c2-8edf-090487df2ff7",
   "metadata": {},
   "source": [
    "difference_update() → changes original set, returns None."
   ]
  },
  {
   "cell_type": "code",
   "execution_count": 82,
   "id": "c6356d77-c8aa-4250-aec5-a9fc261c2acf",
   "metadata": {},
   "outputs": [
    {
     "name": "stdout",
     "output_type": "stream",
     "text": [
      "{'b', 'c', 'a'}\n"
     ]
    }
   ],
   "source": [
    "# intersection_update()\n",
    "# shortcut : a &= b -> a = a&b\n",
    "setA = {'a','b','c','d','e'}\n",
    "setB = {'p','q','r','s','a','b','c'}\n",
    "setC = {'x','y','r','s','a','c','z'}\n",
    "setA.intersection_update(setB)\n",
    "print(setA)"
   ]
  },
  {
   "cell_type": "code",
   "execution_count": 83,
   "id": "4fd89eb1-3f4f-4c5d-9a21-e53cd988100f",
   "metadata": {},
   "outputs": [
    {
     "name": "stdout",
     "output_type": "stream",
     "text": [
      "{'b', 'c', 'a'}\n"
     ]
    }
   ],
   "source": [
    "setA = setA & setB\n",
    "print(setA)"
   ]
  },
  {
   "cell_type": "code",
   "execution_count": 85,
   "id": "482e06f3-0d31-42d2-8865-8147e02bbd09",
   "metadata": {},
   "outputs": [
    {
     "name": "stdout",
     "output_type": "stream",
     "text": [
      "{'c', 'a'}\n"
     ]
    }
   ],
   "source": [
    "setA = {'a','b','c','d','e'}\n",
    "setB = {'p','q','r','s','a','b','c'}\n",
    "setC = {'x','y','r','s','a','c','z'}\n",
    "# setA.intersection_update(setB,setC) {'c', 'a'}\n",
    "setA = setA & (setB & setC)\n",
    "# {'a','b','c','d','e'} & ({'a','c'})\n",
    "print(setA)"
   ]
  },
  {
   "cell_type": "code",
   "execution_count": 86,
   "id": "08a91d87-fb03-40ae-b7e4-f856ea9cb763",
   "metadata": {},
   "outputs": [
    {
     "name": "stdout",
     "output_type": "stream",
     "text": [
      "False\n",
      "True\n"
     ]
    }
   ],
   "source": [
    "# isdisjoint \n",
    "setA = {'a','b','c','d','e'}\n",
    "setB = {'p','q','r','s','a','b','c'}\n",
    "setC = {'x','y','r','s','a','c','z'}\n",
    "setD = {'k','m'}\n",
    "print(setA.isdisjoint(setB)) # False\n",
    "print(setA.isdisjoint(setD)) # True"
   ]
  },
  {
   "cell_type": "code",
   "execution_count": 88,
   "id": "49526441-f4c0-42db-b983-4efc6f70854e",
   "metadata": {},
   "outputs": [
    {
     "name": "stdout",
     "output_type": "stream",
     "text": [
      "True\n",
      "True\n"
     ]
    }
   ],
   "source": [
    "# issubset() & issuperset()\n",
    "set1 = {1,2,3,4,5}\n",
    "set2 = {1,2,3,4,5,6,7,8,9}\n",
    "print(set1.issubset(set2)) # True as set1 is subset of set2\n",
    "print(set2.issuperset(set1)) # True as set2 is superset of set1"
   ]
  },
  {
   "cell_type": "code",
   "execution_count": 96,
   "id": "b6a83ccb-8559-4166-ae9f-b598a35efa61",
   "metadata": {},
   "outputs": [
    {
     "name": "stdout",
     "output_type": "stream",
     "text": [
      "{'d', 'r', 'q', 's', 'p', 'e'}\n"
     ]
    }
   ],
   "source": [
    "# symmetric_difference_update()\n",
    "# shortcut a ^= b\n",
    "setA = {'a','b','c','d','e'}\n",
    "setB = {'p','q','r','s','a','b','c'}\n",
    "setC = {'x','y','r','s','a','c','z'}\n",
    "setA.symmetric_difference_update(setB)\n",
    "print(setA)"
   ]
  },
  {
   "cell_type": "code",
   "execution_count": 97,
   "id": "186bfed7-cfad-44e7-bdb1-1695c85838a8",
   "metadata": {},
   "outputs": [
    {
     "name": "stdout",
     "output_type": "stream",
     "text": [
      "{'q', 'p', 'e', 'd', 'r', 's'}\n"
     ]
    }
   ],
   "source": [
    "setA = {'a','b','c','d','e'}\n",
    "setB = {'p','q','r','s','a','b','c'}\n",
    "setC = {'x','y','r','s','a','c','z'}\n",
    "setA = setA ^ setB\n",
    "print(setA)"
   ]
  },
  {
   "cell_type": "code",
   "execution_count": 98,
   "id": "e024e386-2c49-45b3-8a6b-524a4bb55aaf",
   "metadata": {
    "scrolled": true
   },
   "outputs": [
    {
     "name": "stdout",
     "output_type": "stream",
     "text": [
      "{'d', 'x', 'y', 'p', 'e', 'z', 'q', 'c', 'a'}\n"
     ]
    }
   ],
   "source": [
    "# (setB,setC) -> {'p','q','r','s','a','b','c'} ^ {'x','y','r','s','a','c','z'}\n",
    "# -> {'p','q','b','x','y','z'}\n",
    "# setA ^ {'p','q','b','x','y','z'} -> {'a','c','d','e','p','q','x','y','z'}\n",
    "setA = {'a','b','c','d','e'}\n",
    "setB = {'p','q','r','s','a','b','c'}\n",
    "setC = {'x','y','r','s','a','c','z'}\n",
    "setA = setA ^ (setB ^ setC)\n",
    "print(setA)"
   ]
  },
  {
   "cell_type": "code",
   "execution_count": 101,
   "id": "094e483e-246f-4d4d-b2af-cf8fd1dd4d3f",
   "metadata": {},
   "outputs": [
    {
     "name": "stdout",
     "output_type": "stream",
     "text": [
      "{'q', 'y', 'p', 'e', 'd', 'z', 'r', 'x', 'b', 's', 'c', 'a'}\n"
     ]
    }
   ],
   "source": [
    "# update() |\n",
    "# shortcut a |= b|c\n",
    "setA = {'a','b','c','d','e'}\n",
    "setB = {'p','q','r','s','a','b','c'}\n",
    "setC = {'x','y','r','s','a','c','z'}\n",
    "setA.update(setB,setC)\n",
    "print(setA)"
   ]
  },
  {
   "cell_type": "code",
   "execution_count": 102,
   "id": "3db22b02-0a6b-417c-878f-693fd8fd9484",
   "metadata": {},
   "outputs": [
    {
     "name": "stdout",
     "output_type": "stream",
     "text": [
      "{'q', 'y', 'p', 'e', 'd', 'z', 'r', 'x', 'b', 's', 'c', 'a'}\n"
     ]
    }
   ],
   "source": [
    "setA = {'a','b','c','d','e'}\n",
    "setB = {'p','q','r','s','a','b','c'}\n",
    "setC = {'x','y','r','s','a','c','z'}\n",
    "setA = setA | setB | setC\n",
    "print(setA)"
   ]
  },
  {
   "cell_type": "code",
   "execution_count": 1,
   "id": "a7fd55ba-897b-4370-a70a-bbc42b5eb3d6",
   "metadata": {},
   "outputs": [
    {
     "name": "stdout",
     "output_type": "stream",
     "text": [
      "2373566918080\n",
      "2373566917856\n",
      "{'Sun', 'Fri', 'Thurs', 'Sat', 'Jan', 'Tues', 'Wed', 'Mon'}\n",
      "{'Sun', 'Fri', 'Thurs', 'Sat', 'Tues', 'Wed', 'Mon'}\n"
     ]
    }
   ],
   "source": [
    "# Copying the set [Shallow Copy]\n",
    "day_set = {'Mon','Wed','Thurs','Sat','Tues','Fri','Sun'}\n",
    "copy_day_set = day_set.copy()\n",
    "print(id(day_set))\n",
    "print(id(copy_day_set))\n",
    "copy_day_set.add('Jan')\n",
    "print(copy_day_set)\n",
    "print(day_set)"
   ]
  },
  {
   "cell_type": "code",
   "execution_count": 2,
   "id": "a3985349-a471-44cd-825e-3f21529980a8",
   "metadata": {},
   "outputs": [
    {
     "name": "stdout",
     "output_type": "stream",
     "text": [
      "2373566917856\n",
      "2373593430304\n",
      "{'Sun', 'Fri', 'Thurs', 'Sat', 'Jan', 'Tues', 'Wed', 'Mon'}\n",
      "{'Fri', 'Sat', 'Wed', 'Mon', 'Thurs', 'Sun', 'Tues'}\n"
     ]
    }
   ],
   "source": [
    "# Copying the set (using set() constructor)\n",
    "another_day_set = set(copy_day_set)\n",
    "print(id(copy_day_set)) # 2373566917856\n",
    "print(id(another_day_set)) # another location in memory\n",
    "another_day_set.discard('Jan')\n",
    "print(copy_day_set) # {'Sun', 'Fri', 'Thurs', 'Sat', 'Jan', 'Tues', 'Wed', 'Mon'}\n",
    "print(another_day_set) # above set without 'Jan'"
   ]
  },
  {
   "cell_type": "markdown",
   "id": "0dbfacf2-f363-454d-bdb2-38b8ca492510",
   "metadata": {},
   "source": [
    "# What is Dictionary in Python?\n",
    "#### A dictionary is :\n",
    "1. Ordered : Items have guaranteed sequence.\n",
    "3. Mutable : You can change, add or remove items\n",
    "4. Collection of Key-Value Pair : Each Key is Unique and maps to a values\n",
    "\n",
    "#### This makes Dictionaries perfect for representing data as attributes (like a record for a person, settings, or products)"
   ]
  },
  {
   "cell_type": "code",
   "execution_count": 3,
   "id": "7fc61da7-ced4-4289-8d49-cbcded3dd698",
   "metadata": {},
   "outputs": [
    {
     "name": "stdout",
     "output_type": "stream",
     "text": [
      "<class 'dict'>\n"
     ]
    }
   ],
   "source": [
    "_dict = {} # dictionary type\n",
    "print(type(_dict))"
   ]
  },
  {
   "cell_type": "code",
   "execution_count": 7,
   "id": "a2215ed5-a376-455c-9959-6f2b3fee3748",
   "metadata": {},
   "outputs": [
    {
     "data": {
      "text/plain": [
       "{'name': 'Prabhakar Shah',\n",
       " 'age': 28,\n",
       " 'gender': 'Male',\n",
       " 'city': 'Indore',\n",
       " 'State': 'Madhya Pradesh',\n",
       " 'country': 'India',\n",
       " 'course': 'Data Science',\n",
       " 'skills': ['Excel', 'Power BI', 'Sql', 'Python']}"
      ]
     },
     "execution_count": 7,
     "metadata": {},
     "output_type": "execute_result"
    }
   ],
   "source": [
    "# Dictionary # When defining duplicate keys, only the last occurrence is kept. \n",
    "student_details = {\n",
    "    'name' : 'Prabhakar Shah',\n",
    "    'age' : 28,\n",
    "    'gender' : 'Male',\n",
    "    'city' : 'Indore',\n",
    "    'State' : 'Madhya Pradesh',\n",
    "    'country' : 'India',\n",
    "    'course' : 'Data Analytics',\n",
    "    'skills' : ['Excel','Power BI','Sql','Python'],\n",
    "    'course' : 'Data Science'\n",
    "}\n",
    "student_details"
   ]
  },
  {
   "cell_type": "code",
   "execution_count": 8,
   "id": "71d4e224-a7fd-4868-9459-2b7b1d0ef629",
   "metadata": {},
   "outputs": [
    {
     "data": {
      "text/plain": [
       "{('stud1', 'stud2'): 98,\n",
       " ('stud3', 'stud4'): 92,\n",
       " ('stud5', 'stud6'): 77,\n",
       " ('stud7', 'stud8'): 99}"
      ]
     },
     "execution_count": 8,
     "metadata": {},
     "output_type": "execute_result"
    }
   ],
   "source": [
    "# Using Tuples as dictionary Key\n",
    "_dict = {\n",
    "    ('stud1','stud2') : 98,\n",
    "    ('stud3','stud4') : 92,\n",
    "    ('stud5','stud6') : 77,\n",
    "    ('stud7','stud8') : 99    \n",
    "}\n",
    "_dict"
   ]
  },
  {
   "cell_type": "code",
   "execution_count": 9,
   "id": "db6e8c62-048b-4a23-943c-375926e37e62",
   "metadata": {},
   "outputs": [
    {
     "data": {
      "text/plain": [
       "{'name': 'Utkarsh', 'age': 29, 'gender': 'Male', 'Country': 'India'}"
      ]
     },
     "execution_count": 9,
     "metadata": {},
     "output_type": "execute_result"
    }
   ],
   "source": [
    "# dict() constructor\n",
    "_dict = dict(name = \"Utkarsh\",age = 29, gender = \"Male\", Country = \"India\")\n",
    "_dict"
   ]
  },
  {
   "cell_type": "code",
   "execution_count": 11,
   "id": "ebf5a81a-15aa-4157-bedd-8e0979e7cf9d",
   "metadata": {},
   "outputs": [
    {
     "data": {
      "text/plain": [
       "{'name': 'Ali',\n",
       " 'age': 27,\n",
       " 'gender': 'Male',\n",
       " 'city': 'Ghaziabad',\n",
       " 'state': 'UP',\n",
       " 'country': 'India'}"
      ]
     },
     "execution_count": 11,
     "metadata": {},
     "output_type": "execute_result"
    }
   ],
   "source": [
    "# With a List of List or tuples\n",
    "list_of_lists = [\n",
    "    ['name','Ali'],\n",
    "    ['age',27],\n",
    "    ['gender','Male'],\n",
    "    ['city','Ghaziabad'],\n",
    "    ['state','UP'],\n",
    "    ['country','India']\n",
    "]\n",
    "_dict = dict(list_of_lists)\n",
    "_dict"
   ]
  },
  {
   "cell_type": "code",
   "execution_count": 12,
   "id": "e074186b-4741-4992-975f-ab3b03c813b8",
   "metadata": {},
   "outputs": [
    {
     "data": {
      "text/plain": [
       "{'name': 'Ali',\n",
       " 'age': 27,\n",
       " 'gender': 'Male',\n",
       " 'city': 'Ghaziabad',\n",
       " 'state': 'UP',\n",
       " 'country': 'India'}"
      ]
     },
     "execution_count": 12,
     "metadata": {},
     "output_type": "execute_result"
    }
   ],
   "source": [
    "list_of_tuples = [\n",
    "    ('name','Ali'),\n",
    "    ('age',27),\n",
    "    ('gender','Male'),\n",
    "    ('city','Ghaziabad'),\n",
    "    ('state','UP'),\n",
    "    ('country','India')\n",
    "]\n",
    "_dict = dict(list_of_tuples)\n",
    "_dict"
   ]
  },
  {
   "cell_type": "code",
   "execution_count": 16,
   "id": "dabf5dae-6cc8-429d-8f7f-02276664b6e7",
   "metadata": {},
   "outputs": [
    {
     "data": {
      "text/plain": [
       "{11: 'rupees'}"
      ]
     },
     "execution_count": 16,
     "metadata": {},
     "output_type": "execute_result"
    }
   ],
   "source": [
    "_list = [[11,'rupees']]\n",
    "_dict = dict(_list)\n",
    "_dict"
   ]
  },
  {
   "cell_type": "code",
   "execution_count": 18,
   "id": "72e8ab34-20ed-491e-8fc4-66877326544d",
   "metadata": {},
   "outputs": [
    {
     "data": {
      "text/plain": [
       "{'name': 'Ali',\n",
       " 'age': 27,\n",
       " 'gender': 'Male',\n",
       " 'city': 'Ghaziabad',\n",
       " 'state': 'UP',\n",
       " 'country': 'India'}"
      ]
     },
     "execution_count": 18,
     "metadata": {},
     "output_type": "execute_result"
    }
   ],
   "source": [
    "tuples_of_tuples = (\n",
    "    ('name','Ali'),\n",
    "    ('age',27),\n",
    "    ('gender','Male'),\n",
    "    ('city','Ghaziabad'),\n",
    "    ('state','UP'),\n",
    "    ('country','India')\n",
    ")\n",
    "_dict = dict(tuples_of_tuples)\n",
    "_dict"
   ]
  },
  {
   "cell_type": "code",
   "execution_count": 20,
   "id": "aecaa3ef-ec6c-48a1-b8f6-7240045e2c62",
   "metadata": {},
   "outputs": [
    {
     "data": {
      "text/plain": [
       "{'name': 'Prabhakar Shah',\n",
       " 'another_name': 'Prabhakar Shah',\n",
       " 'age': 28,\n",
       " 'gender': 'Male',\n",
       " 'city': 'Indore',\n",
       " 'State': 'Madhya Pradesh',\n",
       " 'country': 'India',\n",
       " 'course': 'Data Science',\n",
       " 'skills': {'Excel', 'Power BI', 'Python', 'Sql'}}"
      ]
     },
     "execution_count": 20,
     "metadata": {},
     "output_type": "execute_result"
    }
   ],
   "source": [
    "student_details = {\n",
    "    'name' : 'Prabhakar Shah',\n",
    "    'another_name' : 'Prabhakar Shah',\n",
    "    'age' : 28,\n",
    "    'gender' : 'Male',\n",
    "    'city' : 'Indore',\n",
    "    'State' : 'Madhya Pradesh',\n",
    "    'country' : 'India',\n",
    "    'course' : 'Data Analytics',\n",
    "    'skills' : {'Excel','Power BI','Sql','Python'},\n",
    "    'course' : 'Data Science'\n",
    "}\n",
    "student_details"
   ]
  },
  {
   "cell_type": "code",
   "execution_count": 23,
   "id": "c1bfa9dc-8ce8-4567-af17-927edfd81bd8",
   "metadata": {},
   "outputs": [
    {
     "data": {
      "text/plain": [
       "{'Student1': {'name': 'Prabhakar Shah',\n",
       "  'age': 28,\n",
       "  'gender': 'Male',\n",
       "  'city': 'Indore',\n",
       "  'State': 'Madhya Pradesh',\n",
       "  'country': 'India',\n",
       "  'course': 'Data Analytics',\n",
       "  'skills': {'Excel', 'Power BI', 'Python', 'Sql'}},\n",
       " 'Student2': {'name': 'shalu Kumari',\n",
       "  'age': 27,\n",
       "  'gender': 'Female',\n",
       "  'city': 'Newtown',\n",
       "  'State': 'Kolkata',\n",
       "  'country': 'India',\n",
       "  'course': 'Data Analytics',\n",
       "  'skills': {'Excel', 'Power BI', 'Python', 'Sql'}}}"
      ]
     },
     "execution_count": 23,
     "metadata": {},
     "output_type": "execute_result"
    }
   ],
   "source": [
    "# Nested Dictionaries : \n",
    "student_record = {\n",
    "    \"Student1\" : {\n",
    "        'name' : 'Prabhakar Shah',\n",
    "        'age' : 28,\n",
    "        'gender' : 'Male',\n",
    "        'city' : 'Indore',\n",
    "        'State' : 'Madhya Pradesh',\n",
    "        'country' : 'India',\n",
    "        'course' : 'Data Analytics',\n",
    "        'skills' : {'Excel','Power BI','Sql','Python'}\n",
    "    },\n",
    "    \"Student2\" : {\n",
    "        'name' : 'shalu Kumari',\n",
    "        'age' : 27,\n",
    "        'gender' : 'Female',\n",
    "        'city' : 'Newtown',\n",
    "        'State' : 'Kolkata',\n",
    "        'country' : 'India',\n",
    "        'course' : 'Data Analytics',\n",
    "        'skills' : {'Excel','Power BI','Sql','Python'}\n",
    "    }\n",
    "}\n",
    "student_record"
   ]
  },
  {
   "cell_type": "raw",
   "id": "ddc144a4-502c-4f72-8179-76d6305970a7",
   "metadata": {},
   "source": [
    "Common Methods and operations Associated with Dictionaries"
   ]
  },
  {
   "cell_type": "code",
   "execution_count": 24,
   "id": "25eaa48d-d7ce-47b8-a4a5-0cf4d13f1d55",
   "metadata": {},
   "outputs": [
    {
     "name": "stdout",
     "output_type": "stream",
     "text": [
      "9\n"
     ]
    }
   ],
   "source": [
    "# Length() -> Use len() to find how many key-value pairs are in dictionary\n",
    "print(len(student_details))"
   ]
  },
  {
   "cell_type": "code",
   "execution_count": 27,
   "id": "4c40f340-14c4-4e63-8abc-9e86cdb0a5f8",
   "metadata": {},
   "outputs": [
    {
     "name": "stdout",
     "output_type": "stream",
     "text": [
      "2\n"
     ]
    }
   ],
   "source": [
    "print(len(student_record))"
   ]
  },
  {
   "cell_type": "code",
   "execution_count": 30,
   "id": "cd734584-1033-4ce1-95ff-78fb83ecb0ad",
   "metadata": {},
   "outputs": [
    {
     "name": "stdout",
     "output_type": "stream",
     "text": [
      "8\n"
     ]
    }
   ],
   "source": [
    "print(len(student_record['Student1']))"
   ]
  },
  {
   "cell_type": "code",
   "execution_count": 31,
   "id": "6e98dc8e-39bc-4956-b0b4-cd13a6c81579",
   "metadata": {},
   "outputs": [
    {
     "data": {
      "text/plain": [
       "{'Excel', 'Power BI', 'Python', 'Sql'}"
      ]
     },
     "execution_count": 31,
     "metadata": {},
     "output_type": "execute_result"
    }
   ],
   "source": [
    "# Accessing Elements\n",
    "# Use Square Bracket TableName['key']\n",
    "student_details = {\n",
    "    'name' : 'Prabhakar Shah',\n",
    "    'another_name' : 'Prabhakar Shah',\n",
    "    'age' : 28,\n",
    "    'gender' : 'Male',\n",
    "    'city' : 'Indore',\n",
    "    'State' : 'Madhya Pradesh',\n",
    "    'country' : 'India',\n",
    "    'course' : 'Data Analytics',\n",
    "    'skills' : {'Excel','Power BI','Sql','Python'},\n",
    "    'course' : 'Data Science'\n",
    "}\n",
    "student_details['skills']"
   ]
  },
  {
   "cell_type": "code",
   "execution_count": 32,
   "id": "e2e116b3-314d-4c56-ad8b-a1365dbabf66",
   "metadata": {},
   "outputs": [
    {
     "data": {
      "text/plain": [
       "'Data Science'"
      ]
     },
     "execution_count": 32,
     "metadata": {},
     "output_type": "execute_result"
    }
   ],
   "source": [
    "student_details['course']"
   ]
  },
  {
   "cell_type": "code",
   "execution_count": 36,
   "id": "285d4622-72af-4e24-b765-11861d392877",
   "metadata": {},
   "outputs": [
    {
     "data": {
      "text/plain": [
       "'Shalu Kumari'"
      ]
     },
     "execution_count": 36,
     "metadata": {},
     "output_type": "execute_result"
    }
   ],
   "source": [
    "student_record = {\n",
    "    \"Student1\" : {\n",
    "        'name' : 'Prabhakar Shah',\n",
    "        'age' : 28,\n",
    "        'gender' : 'Male',\n",
    "        'city' : 'Indore',\n",
    "        'State' : 'Madhya Pradesh',\n",
    "        'country' : 'India',\n",
    "        'course' : 'Data Analytics',\n",
    "        'skills' : {'Excel','Power BI','Sql','Python'}\n",
    "    },\n",
    "    \"Student2\" : {\n",
    "        'name' : 'Shalu Kumari',\n",
    "        'age' : 27,\n",
    "        'gender' : 'Female',\n",
    "        'city' : 'Newtown',\n",
    "        'State' : 'Kolkata',\n",
    "        'country' : 'India',\n",
    "        'course' : 'Data Analytics',\n",
    "        'skills' : ['Excel','Power BI','Sql','Python']\n",
    "    }\n",
    "}\n",
    "student_record['Student2']['name']"
   ]
  },
  {
   "cell_type": "code",
   "execution_count": 37,
   "id": "3afd00ea-7bda-4644-ba03-9fad9c6f9afd",
   "metadata": {},
   "outputs": [
    {
     "data": {
      "text/plain": [
       "['Excel', 'Power BI', 'Sql', 'Python']"
      ]
     },
     "execution_count": 37,
     "metadata": {},
     "output_type": "execute_result"
    }
   ],
   "source": [
    "student_record['Student2']['skills']"
   ]
  },
  {
   "cell_type": "code",
   "execution_count": 38,
   "id": "e26507a4-5656-4ca2-b317-fa53fbcd3713",
   "metadata": {},
   "outputs": [
    {
     "data": {
      "text/plain": [
       "'Python'"
      ]
     },
     "execution_count": 38,
     "metadata": {},
     "output_type": "execute_result"
    }
   ],
   "source": [
    "student_record['Student2']['skills'][-1]"
   ]
  },
  {
   "cell_type": "code",
   "execution_count": 39,
   "id": "0ff89d92-34d2-4a88-95b7-f873bc99a64f",
   "metadata": {},
   "outputs": [
    {
     "data": {
      "text/plain": [
       "['Excel', 'Power BI']"
      ]
     },
     "execution_count": 39,
     "metadata": {},
     "output_type": "execute_result"
    }
   ],
   "source": [
    "student_record['Student2']['skills'][0:2] # ['Excel','PowerBI']"
   ]
  },
  {
   "cell_type": "code",
   "execution_count": 40,
   "id": "dad93d33-d3c8-4ed8-a80c-c80556b7bc9c",
   "metadata": {},
   "outputs": [
    {
     "data": {
      "text/plain": [
       "77"
      ]
     },
     "execution_count": 40,
     "metadata": {},
     "output_type": "execute_result"
    }
   ],
   "source": [
    "_dict = {\n",
    "    ('stud1','stud2') : 98,\n",
    "    ('stud3','stud4') : 92,\n",
    "    ('stud5','stud6') : 77,\n",
    "    ('stud7','stud8') : 99    \n",
    "}\n",
    "_dict[('stud5','stud6')]"
   ]
  },
  {
   "cell_type": "code",
   "execution_count": 41,
   "id": "f956fbed-5ff9-487a-9020-69db807ac042",
   "metadata": {},
   "outputs": [
    {
     "data": {
      "text/plain": [
       "'Data Analytics'"
      ]
     },
     "execution_count": 41,
     "metadata": {},
     "output_type": "execute_result"
    }
   ],
   "source": [
    "# .get(key,default) -> It will safely retrieve the value; returns None or a default if key not found.\n",
    "student_details = {\n",
    "    'name' : 'Prabhakar Shah',\n",
    "    'age' : 28,\n",
    "    'gender' : 'Male',\n",
    "    'city' : 'Indore',\n",
    "    'State' : 'Madhya Pradesh',\n",
    "    'country' : 'India',\n",
    "    'course' : 'Data Analytics',\n",
    "    'skills' : ['Excel','Power BI','Sql','Python']\n",
    "}\n",
    "student_details.get('course','Data Science')"
   ]
  },
  {
   "cell_type": "code",
   "execution_count": 42,
   "id": "528a3c1f-301d-4a09-a37b-46e0d43147c5",
   "metadata": {},
   "outputs": [
    {
     "data": {
      "text/plain": [
       "'xyz@gmail.com'"
      ]
     },
     "execution_count": 42,
     "metadata": {},
     "output_type": "execute_result"
    }
   ],
   "source": [
    "student_details.get('email','xyz@gmail.com')"
   ]
  },
  {
   "cell_type": "code",
   "execution_count": 44,
   "id": "6b2ec2b7-79a6-4627-b884-ab8d577508a1",
   "metadata": {},
   "outputs": [
    {
     "data": {
      "text/plain": [
       "['Excel', 'Power BI', 'Sql', 'Python']"
      ]
     },
     "execution_count": 44,
     "metadata": {},
     "output_type": "execute_result"
    }
   ],
   "source": [
    "student_details.get('skills')"
   ]
  },
  {
   "cell_type": "code",
   "execution_count": 46,
   "id": "2ed55c4f-0fd9-4266-913c-8248ce3f9aed",
   "metadata": {},
   "outputs": [],
   "source": [
    "student_details.get('country_code') # Won't throw an error"
   ]
  },
  {
   "cell_type": "code",
   "execution_count": 47,
   "id": "f7bdf5b6-5d12-4e29-8c6a-e50f99074f49",
   "metadata": {},
   "outputs": [
    {
     "data": {
      "text/plain": [
       "'Shalu Kumari'"
      ]
     },
     "execution_count": 47,
     "metadata": {},
     "output_type": "execute_result"
    }
   ],
   "source": [
    "student_record = {\n",
    "    \"Student1\" : {\n",
    "        'name' : 'Prabhakar Shah',\n",
    "        'age' : 28,\n",
    "        'gender' : 'Male',\n",
    "        'city' : 'Indore',\n",
    "        'State' : 'Madhya Pradesh',\n",
    "        'country' : 'India',\n",
    "        'course' : 'Data Analytics',\n",
    "        'skills' : {'Excel','Power BI','Sql','Python'}\n",
    "    },\n",
    "    \"Student2\" : {\n",
    "        'name' : 'Shalu Kumari',\n",
    "        'age' : 27,\n",
    "        'gender' : 'Female',\n",
    "        'city' : 'Newtown',\n",
    "        'State' : 'Kolkata',\n",
    "        'country' : 'India',\n",
    "        'course' : 'Data Analytics',\n",
    "        'skills' : ['Excel','Power BI','Sql','Python']\n",
    "    }\n",
    "}\n",
    "student_record.get(\"Student2\", {}).get('name','Unknown')"
   ]
  },
  {
   "cell_type": "code",
   "execution_count": 48,
   "id": "d1b38f52-e5d3-4395-abd9-0b74f42b7332",
   "metadata": {},
   "outputs": [
    {
     "data": {
      "text/plain": [
       "'Unknown'"
      ]
     },
     "execution_count": 48,
     "metadata": {},
     "output_type": "execute_result"
    }
   ],
   "source": [
    "student_record.get(\"Student7\", {}).get('name','Unknown')"
   ]
  },
  {
   "cell_type": "code",
   "execution_count": 60,
   "id": "c9b08ebc-b49f-4535-a632-6996a5f0d0b8",
   "metadata": {},
   "outputs": [
    {
     "data": {
      "text/plain": [
       "{'Student1': {'name': 'Prabhakar Shah',\n",
       "  'age': 28,\n",
       "  'gender': 'Male',\n",
       "  'city': 'Indore',\n",
       "  'State': 'Madhya Pradesh',\n",
       "  'country': 'India',\n",
       "  'course': 'Data Analytics',\n",
       "  'skills': {'Excel', 'Power BI', 'Python', 'Sql'}},\n",
       " 'Student2': {'name': 'Shalu Kumari',\n",
       "  'age': 27,\n",
       "  'gender': 'Female',\n",
       "  'city': 'Newtown',\n",
       "  'State': 'Kolkata',\n",
       "  'country': 'India',\n",
       "  'course': 'Data Analytics',\n",
       "  'skills': ['Excel', 'Power BI', 'Sql', 'Python']}}"
      ]
     },
     "execution_count": 60,
     "metadata": {},
     "output_type": "execute_result"
    }
   ],
   "source": [
    "student_record"
   ]
  },
  {
   "cell_type": "code",
   "execution_count": 49,
   "id": "852cdc31-e4ba-484f-91ad-55a73caf74e5",
   "metadata": {},
   "outputs": [
    {
     "data": {
      "text/plain": [
       "dict_keys(['name', 'age', 'gender', 'city', 'State', 'country', 'course', 'skills'])"
      ]
     },
     "execution_count": 49,
     "metadata": {},
     "output_type": "execute_result"
    }
   ],
   "source": [
    "# .keys() -> Returns all the keys from student_details\n",
    "# .values() -> Returns all the values from student_details\n",
    "# .items() -> Returns all the (key,value) from student_details\n",
    "student_details.keys()"
   ]
  },
  {
   "cell_type": "code",
   "execution_count": 50,
   "id": "1f020f07-1f73-44a4-9886-81581048ed2f",
   "metadata": {},
   "outputs": [
    {
     "data": {
      "text/plain": [
       "dict_values(['Prabhakar Shah', 28, 'Male', 'Indore', 'Madhya Pradesh', 'India', 'Data Analytics', ['Excel', 'Power BI', 'Sql', 'Python']])"
      ]
     },
     "execution_count": 50,
     "metadata": {},
     "output_type": "execute_result"
    }
   ],
   "source": [
    "student_details.values()"
   ]
  },
  {
   "cell_type": "code",
   "execution_count": 51,
   "id": "19a2bfd3-9264-4ba5-b3f8-acae70668ad3",
   "metadata": {},
   "outputs": [
    {
     "data": {
      "text/plain": [
       "dict_items([('name', 'Prabhakar Shah'), ('age', 28), ('gender', 'Male'), ('city', 'Indore'), ('State', 'Madhya Pradesh'), ('country', 'India'), ('course', 'Data Analytics'), ('skills', ['Excel', 'Power BI', 'Sql', 'Python'])])"
      ]
     },
     "execution_count": 51,
     "metadata": {},
     "output_type": "execute_result"
    }
   ],
   "source": [
    "student_details.items()"
   ]
  },
  {
   "cell_type": "code",
   "execution_count": 54,
   "id": "a80b4d0b-2a9b-49e2-ab5e-5b339ae5a28b",
   "metadata": {},
   "outputs": [
    {
     "data": {
      "text/plain": [
       "'Data Analytics'"
      ]
     },
     "execution_count": 54,
     "metadata": {},
     "output_type": "execute_result"
    }
   ],
   "source": [
    "# setdefault() -> Retrieves the value if the key exist , else insert key with default\n",
    "# if no default provided , inserts None\n",
    "student_details = {\n",
    "    'name' : 'Prabhakar Shah',\n",
    "    'age' : 28,\n",
    "    'gender' : 'Male',\n",
    "    'city' : 'Indore',\n",
    "    'State' : 'Madhya Pradesh',\n",
    "    'country' : 'India',\n",
    "    'course' : 'Data Analytics',\n",
    "    'skills' : ['Excel','Power BI','Sql','Python']\n",
    "}\n",
    "student_details.setdefault('course')"
   ]
  },
  {
   "cell_type": "code",
   "execution_count": 55,
   "id": "9e4a093e-9364-4e5f-b95e-7c99c5323a31",
   "metadata": {},
   "outputs": [
    {
     "data": {
      "text/plain": [
       "'Data Analytics'"
      ]
     },
     "execution_count": 55,
     "metadata": {},
     "output_type": "execute_result"
    }
   ],
   "source": [
    "student_details.setdefault('course','Data Science')"
   ]
  },
  {
   "cell_type": "code",
   "execution_count": 56,
   "id": "a9e48735-748f-480d-b2d1-55d442a1f0d1",
   "metadata": {},
   "outputs": [
    {
     "data": {
      "text/plain": [
       "'xyz@gmail.com'"
      ]
     },
     "execution_count": 56,
     "metadata": {},
     "output_type": "execute_result"
    }
   ],
   "source": [
    "student_details.setdefault('email','xyz@gmail.com')"
   ]
  },
  {
   "cell_type": "code",
   "execution_count": 57,
   "id": "d98f3a73-d64b-4041-a36e-333f551e3a4c",
   "metadata": {},
   "outputs": [
    {
     "data": {
      "text/plain": [
       "{'name': 'Prabhakar Shah',\n",
       " 'age': 28,\n",
       " 'gender': 'Male',\n",
       " 'city': 'Indore',\n",
       " 'State': 'Madhya Pradesh',\n",
       " 'country': 'India',\n",
       " 'course': 'Data Analytics',\n",
       " 'skills': ['Excel', 'Power BI', 'Sql', 'Python'],\n",
       " 'email': 'xyz@gmail.com'}"
      ]
     },
     "execution_count": 57,
     "metadata": {},
     "output_type": "execute_result"
    }
   ],
   "source": [
    "student_details"
   ]
  },
  {
   "cell_type": "code",
   "execution_count": 58,
   "id": "171d5366-268b-41c9-b8fa-71ef00fb65bb",
   "metadata": {},
   "outputs": [],
   "source": [
    "student_details.setdefault('phone_number') # None [Values]"
   ]
  },
  {
   "cell_type": "code",
   "execution_count": 59,
   "id": "87eef124-53a7-461f-86fd-d6f3a7dc896b",
   "metadata": {},
   "outputs": [
    {
     "data": {
      "text/plain": [
       "{'name': 'Prabhakar Shah',\n",
       " 'age': 28,\n",
       " 'gender': 'Male',\n",
       " 'city': 'Indore',\n",
       " 'State': 'Madhya Pradesh',\n",
       " 'country': 'India',\n",
       " 'course': 'Data Analytics',\n",
       " 'skills': ['Excel', 'Power BI', 'Sql', 'Python'],\n",
       " 'email': 'xyz@gmail.com',\n",
       " 'phone_number': None}"
      ]
     },
     "execution_count": 59,
     "metadata": {},
     "output_type": "execute_result"
    }
   ],
   "source": [
    "student_details"
   ]
  },
  {
   "cell_type": "code",
   "execution_count": 61,
   "id": "dcc9d3d0-901a-41bd-b536-2e3f35192b9f",
   "metadata": {},
   "outputs": [
    {
     "data": {
      "text/plain": [
       "77"
      ]
     },
     "execution_count": 61,
     "metadata": {},
     "output_type": "execute_result"
    }
   ],
   "source": [
    "# .min() , max() , sum()\n",
    "_dict = {\n",
    "    ('stud1','stud2') : 98,\n",
    "    ('stud3','stud4') : 92,\n",
    "    ('stud5','stud6') : 77,\n",
    "    ('stud7','stud8') : 99    \n",
    "}\n",
    "min(_dict.values()) # 77 [98,92,77,99]"
   ]
  },
  {
   "cell_type": "code",
   "execution_count": 62,
   "id": "748eae08-622d-4464-9741-473dbeba28ea",
   "metadata": {},
   "outputs": [
    {
     "data": {
      "text/plain": [
       "99"
      ]
     },
     "execution_count": 62,
     "metadata": {},
     "output_type": "execute_result"
    }
   ],
   "source": [
    "max(_dict.values()) # 99 [98,92,77,99]"
   ]
  },
  {
   "cell_type": "code",
   "execution_count": 64,
   "id": "718ac596-e921-4b04-98d7-7e84978e5708",
   "metadata": {},
   "outputs": [
    {
     "data": {
      "text/plain": [
       "366"
      ]
     },
     "execution_count": 64,
     "metadata": {},
     "output_type": "execute_result"
    }
   ],
   "source": [
    "sum(_dict.values()) # 366  [98,92,77,99]"
   ]
  },
  {
   "cell_type": "code",
   "execution_count": 65,
   "id": "62786854-407e-446b-95cc-c8a6a54f9116",
   "metadata": {},
   "outputs": [
    {
     "data": {
      "text/plain": [
       "('stud1', 'stud2')"
      ]
     },
     "execution_count": 65,
     "metadata": {},
     "output_type": "execute_result"
    }
   ],
   "source": [
    "min(_dict.keys())"
   ]
  },
  {
   "cell_type": "code",
   "execution_count": 66,
   "id": "d3ad79f8-8663-47e5-94b7-8ff5a5f6860c",
   "metadata": {},
   "outputs": [
    {
     "data": {
      "text/plain": [
       "('stud7', 'stud8')"
      ]
     },
     "execution_count": 66,
     "metadata": {},
     "output_type": "execute_result"
    }
   ],
   "source": [
    "max(_dict.keys())"
   ]
  },
  {
   "cell_type": "code",
   "execution_count": 71,
   "id": "1693af9f-dd68-4fc0-ae6e-6d9480322e42",
   "metadata": {},
   "outputs": [
    {
     "data": {
      "text/plain": [
       "77"
      ]
     },
     "execution_count": 71,
     "metadata": {},
     "output_type": "execute_result"
    }
   ],
   "source": [
    "_dict = {\n",
    "    77 : ['stud1','stud2'],\n",
    "    92 : ['stud3','stud4'],\n",
    "    99 : ['stud5','stud6'],\n",
    "    98 : ['stud7','stud8']   \n",
    "}\n",
    "min(_dict.keys())"
   ]
  },
  {
   "cell_type": "code",
   "execution_count": 72,
   "id": "36010aef-31cf-48e1-b33e-7015690a33c4",
   "metadata": {},
   "outputs": [
    {
     "data": {
      "text/plain": [
       "99"
      ]
     },
     "execution_count": 72,
     "metadata": {},
     "output_type": "execute_result"
    }
   ],
   "source": [
    "max(_dict.keys())"
   ]
  },
  {
   "cell_type": "code",
   "execution_count": 73,
   "id": "0c125118-d4f0-4235-8c91-f8a157a6acb7",
   "metadata": {},
   "outputs": [
    {
     "data": {
      "text/plain": [
       "366"
      ]
     },
     "execution_count": 73,
     "metadata": {},
     "output_type": "execute_result"
    }
   ],
   "source": [
    "sum(_dict.keys())"
   ]
  },
  {
   "cell_type": "code",
   "execution_count": 76,
   "id": "ad542e95-0284-4dab-8725-74c90c146b2b",
   "metadata": {},
   "outputs": [],
   "source": [
    "# Changing or Adding a Dictionary Items\n",
    "student_details = {\n",
    "    'name' : 'Prabhakar Shah',\n",
    "    'age' : 28,\n",
    "    'gender' : 'Male',\n",
    "    'city' : 'Indore',\n",
    "    'State' : 'Madhya Pradesh',\n",
    "    'country' : 'India',\n",
    "    'course' : 'Data Analytics',\n",
    "    'skills' : ['Excel','Power BI','Sql','Python']\n",
    "}\n",
    "student_details['city'] = 'Lucknow'"
   ]
  },
  {
   "cell_type": "code",
   "execution_count": 77,
   "id": "997fd41b-2a97-4829-8ccb-7cf5d65c7843",
   "metadata": {},
   "outputs": [
    {
     "data": {
      "text/plain": [
       "{'name': 'Prabhakar Shah',\n",
       " 'age': 28,\n",
       " 'gender': 'Male',\n",
       " 'city': 'Lucknow',\n",
       " 'State': 'Madhya Pradesh',\n",
       " 'country': 'India',\n",
       " 'course': 'Data Analytics',\n",
       " 'skills': ['Excel', 'Power BI', 'Sql', 'Python']}"
      ]
     },
     "execution_count": 77,
     "metadata": {},
     "output_type": "execute_result"
    }
   ],
   "source": [
    "student_details"
   ]
  },
  {
   "cell_type": "code",
   "execution_count": 78,
   "id": "0f7842f7-1e84-409c-b862-5ed4c2acd350",
   "metadata": {},
   "outputs": [
    {
     "data": {
      "text/plain": [
       "{'name': 'Prabhakar Shah',\n",
       " 'age': 28,\n",
       " 'gender': 'Male',\n",
       " 'city': 'Lucknow',\n",
       " 'State': 'Madhya Pradesh',\n",
       " 'country': 'India',\n",
       " 'course': 'Data Analytics',\n",
       " 'skills': ['Excel', 'Power BI', 'Sql', 'Python'],\n",
       " 'email': 'prabhakar.shah123@gmail.com'}"
      ]
     },
     "execution_count": 78,
     "metadata": {},
     "output_type": "execute_result"
    }
   ],
   "source": [
    "student_details['email'] = 'prabhakar.shah123@gmail.com'\n",
    "student_details"
   ]
  },
  {
   "cell_type": "code",
   "execution_count": 81,
   "id": "faa24577-a613-4fac-aa61-377d98377720",
   "metadata": {},
   "outputs": [
    {
     "data": {
      "text/plain": [
       "{'name': 'Bhupinder Jogi',\n",
       " 'age': 33,\n",
       " 'gender': 'Male',\n",
       " 'city': 'Lucknow',\n",
       " 'State': 'UP',\n",
       " 'country': 'India',\n",
       " 'course': 'Data Analytics',\n",
       " 'skills': ['Excel', 'Power BI', 'Sql', 'Python'],\n",
       " 'email': 'prabhakar.shah123@gmail.com',\n",
       " 'RollNo.': '123'}"
      ]
     },
     "execution_count": 81,
     "metadata": {},
     "output_type": "execute_result"
    }
   ],
   "source": [
    "# update()\n",
    "stud_info = {'name' : 'Bhupinder Jogi', 'age' : 33, 'State' : 'UP', 'RollNo.' : '123'}\n",
    "student_details.update(stud_info)\n",
    "student_details"
   ]
  },
  {
   "cell_type": "code",
   "execution_count": 86,
   "id": "354af632-e6ae-4784-b83b-66b4435d6948",
   "metadata": {},
   "outputs": [
    {
     "data": {
      "text/plain": [
       "{'name': 'Utkarsh',\n",
       " 'age': 29,\n",
       " 'city': 'Delhi',\n",
       " 'gender': 'Male',\n",
       " 'Country': 'India'}"
      ]
     },
     "execution_count": 86,
     "metadata": {},
     "output_type": "execute_result"
    }
   ],
   "source": [
    "# Zip -> Combine 2 iterables into key-value pairs\n",
    "key = ['name','age','city','gender','Country']\n",
    "value = ('Utkarsh',29,'Delhi','Male','India')\n",
    "zip_dict = dict(zip(key,value))\n",
    "zip_dict"
   ]
  },
  {
   "cell_type": "code",
   "execution_count": 87,
   "id": "5c636233-a40c-4995-baeb-75343c3ade40",
   "metadata": {},
   "outputs": [
    {
     "data": {
      "text/plain": [
       "{'name': 'Prabhakar Shah',\n",
       " 'age': 28,\n",
       " 'gender': 'Male',\n",
       " 'State': 'Madhya Pradesh',\n",
       " 'country': 'India',\n",
       " 'course': 'Data Analytics',\n",
       " 'skills': ['Excel', 'Power BI', 'Sql', 'Python']}"
      ]
     },
     "execution_count": 87,
     "metadata": {},
     "output_type": "execute_result"
    }
   ],
   "source": [
    "# Removing a Dictionary items\n",
    "student_details = {\n",
    "    'name' : 'Prabhakar Shah',\n",
    "    'age' : 28,\n",
    "    'gender' : 'Male',\n",
    "    'city' : 'Indore',\n",
    "    'State' : 'Madhya Pradesh',\n",
    "    'country' : 'India',\n",
    "    'course' : 'Data Analytics',\n",
    "    'skills' : ['Excel','Power BI','Sql','Python']\n",
    "}\n",
    "del student_details['city']\n",
    "student_details"
   ]
  },
  {
   "cell_type": "code",
   "execution_count": 88,
   "id": "be93f18a-602b-4360-8c56-4590e59d1af8",
   "metadata": {},
   "outputs": [],
   "source": [
    "student_details = {\n",
    "    'name' : 'Prabhakar Shah',\n",
    "    'age' : 28,\n",
    "    'gender' : 'Male',\n",
    "    'city' : 'Indore',\n",
    "    'State' : 'Madhya Pradesh',\n",
    "    'country' : 'India',\n",
    "    'course' : 'Data Analytics',\n",
    "    'skills' : ['Excel','Power BI','Sql','Python']\n",
    "}\n",
    "del student_details # delete the entire dictionary"
   ]
  },
  {
   "cell_type": "raw",
   "id": "f6c1a33c-bc14-4812-a3a0-a823c4cfe2b2",
   "metadata": {},
   "source": [
    "student_details # NameError: name 'student_details' is not defined"
   ]
  },
  {
   "cell_type": "code",
   "execution_count": 90,
   "id": "5003b31a-8f49-4c56-9545-326dd72b73fc",
   "metadata": {},
   "outputs": [
    {
     "data": {
      "text/plain": [
       "{'name': 'Prabhakar Shah',\n",
       " 'age': 28,\n",
       " 'gender': 'Male',\n",
       " 'city': 'Indore',\n",
       " 'State': 'Madhya Pradesh',\n",
       " 'country': 'India',\n",
       " 'course': 'Data Analytics',\n",
       " 'skills': ['Power BI', 'Sql', 'Python']}"
      ]
     },
     "execution_count": 90,
     "metadata": {},
     "output_type": "execute_result"
    }
   ],
   "source": [
    "student_details = {\n",
    "    'name' : 'Prabhakar Shah',\n",
    "    'age' : 28,\n",
    "    'gender' : 'Male',\n",
    "    'city' : 'Indore',\n",
    "    'State' : 'Madhya Pradesh',\n",
    "    'country' : 'India',\n",
    "    'course' : 'Data Analytics',\n",
    "    'skills' : ['Excel','Power BI','Sql','Python']\n",
    "}\n",
    "del student_details['skills'][0]\n",
    "student_details"
   ]
  },
  {
   "cell_type": "code",
   "execution_count": 91,
   "id": "33e7b6b9-7423-415d-be1d-8bc5158c5d46",
   "metadata": {},
   "outputs": [
    {
     "name": "stdout",
     "output_type": "stream",
     "text": [
      "['Excel', 'Power BI', 'Sql', 'Python']\n"
     ]
    }
   ],
   "source": [
    "# pop() -> Removes a specific key and returns its value\n",
    "student_details = {\n",
    "    'name' : 'Prabhakar Shah',\n",
    "    'age' : 28,\n",
    "    'gender' : 'Male',\n",
    "    'city' : 'Indore',\n",
    "    'State' : 'Madhya Pradesh',\n",
    "    'country' : 'India',\n",
    "    'course' : 'Data Analytics',\n",
    "    'skills' : ['Excel','Power BI','Sql','Python']\n",
    "}\n",
    "skills_info = student_details.pop('skills')\n",
    "print(skills_info)"
   ]
  },
  {
   "cell_type": "code",
   "execution_count": 92,
   "id": "a7dacd8e-5097-49b6-8f22-0506a023ca6c",
   "metadata": {},
   "outputs": [
    {
     "data": {
      "text/plain": [
       "{'name': 'Prabhakar Shah',\n",
       " 'age': 28,\n",
       " 'gender': 'Male',\n",
       " 'city': 'Indore',\n",
       " 'State': 'Madhya Pradesh',\n",
       " 'country': 'India',\n",
       " 'course': 'Data Analytics'}"
      ]
     },
     "execution_count": 92,
     "metadata": {},
     "output_type": "execute_result"
    }
   ],
   "source": [
    "student_details"
   ]
  },
  {
   "cell_type": "code",
   "execution_count": 93,
   "id": "f6dbc334-3600-430c-96fe-162bef668636",
   "metadata": {},
   "outputs": [
    {
     "name": "stdout",
     "output_type": "stream",
     "text": [
      "('course', 'Data Analytics')\n"
     ]
    }
   ],
   "source": [
    "# popitem() -> Removes last inserted values\n",
    "course_detail = student_details.popitem()\n",
    "print(course_detail)"
   ]
  },
  {
   "cell_type": "code",
   "execution_count": 94,
   "id": "4e4539b0-ead2-4ad0-96b9-b957bf24c393",
   "metadata": {},
   "outputs": [
    {
     "data": {
      "text/plain": [
       "{'name': 'Prabhakar Shah',\n",
       " 'age': 28,\n",
       " 'gender': 'Male',\n",
       " 'city': 'Indore',\n",
       " 'State': 'Madhya Pradesh',\n",
       " 'country': 'India'}"
      ]
     },
     "execution_count": 94,
     "metadata": {},
     "output_type": "execute_result"
    }
   ],
   "source": [
    "student_details"
   ]
  },
  {
   "cell_type": "code",
   "execution_count": 95,
   "id": "ad9d9d9a-9d94-4abd-80c7-ec047d5fb4ef",
   "metadata": {},
   "outputs": [
    {
     "name": "stdout",
     "output_type": "stream",
     "text": [
      "('country', 'India')\n"
     ]
    }
   ],
   "source": [
    "country_detail = student_details.popitem()\n",
    "print(country_detail)"
   ]
  },
  {
   "cell_type": "code",
   "execution_count": 96,
   "id": "496e15d3-a58e-4bf6-8691-a6f0e99751f4",
   "metadata": {},
   "outputs": [
    {
     "data": {
      "text/plain": [
       "{'name': 'Prabhakar Shah',\n",
       " 'age': 28,\n",
       " 'gender': 'Male',\n",
       " 'city': 'Indore',\n",
       " 'State': 'Madhya Pradesh'}"
      ]
     },
     "execution_count": 96,
     "metadata": {},
     "output_type": "execute_result"
    }
   ],
   "source": [
    "student_details"
   ]
  },
  {
   "cell_type": "code",
   "execution_count": 97,
   "id": "878e33fa-a344-4921-8c44-0251ab71284f",
   "metadata": {},
   "outputs": [
    {
     "data": {
      "text/plain": [
       "{}"
      ]
     },
     "execution_count": 97,
     "metadata": {},
     "output_type": "execute_result"
    }
   ],
   "source": [
    "# clear -> empty the dictionary\n",
    "student_details.clear()\n",
    "student_details"
   ]
  },
  {
   "cell_type": "code",
   "execution_count": 98,
   "id": "8532b076-d003-414a-ba8e-d6818c1991e8",
   "metadata": {},
   "outputs": [
    {
     "name": "stdout",
     "output_type": "stream",
     "text": [
      "2373625930176\n",
      "2373625928064\n"
     ]
    }
   ],
   "source": [
    "student_details = {\n",
    "    'name' : 'Prabhakar Shah',\n",
    "    'age' : 28,\n",
    "    'gender' : 'Male',\n",
    "    'city' : 'Indore',\n",
    "    'State' : 'Madhya Pradesh',\n",
    "    'country' : 'India',\n",
    "    'course' : 'Data Analytics',\n",
    "    'skills' : ['Excel','Power BI','Sql','Python']\n",
    "}\n",
    "stud_details = student_details.copy() # shallow copy\n",
    "print(id(student_details))\n",
    "print(id(stud_details))"
   ]
  },
  {
   "cell_type": "code",
   "execution_count": 99,
   "id": "5861b08b-62a5-400b-9399-492b4343e37c",
   "metadata": {},
   "outputs": [
    {
     "name": "stdout",
     "output_type": "stream",
     "text": [
      "2373625928064\n",
      "2373625712960\n"
     ]
    }
   ],
   "source": [
    "# shallow copy -> using dict() constructor \n",
    "shallow_dict = dict(stud_details)\n",
    "print(id(stud_details))\n",
    "print(id(shallow_dict))"
   ]
  },
  {
   "cell_type": "raw",
   "id": "d4c3b25b-9d49-46e4-ada6-748f62a11ba9",
   "metadata": {},
   "source": [
    "if condition:\n",
    "    # code block"
   ]
  },
  {
   "cell_type": "code",
   "execution_count": 1,
   "id": "d71be64b-4a9d-40c2-8be7-41b7eda44559",
   "metadata": {},
   "outputs": [
    {
     "name": "stdin",
     "output_type": "stream",
     "text": [
      "Enter the value:  11\n"
     ]
    },
    {
     "name": "stdout",
     "output_type": "stream",
     "text": [
      "Outside the if conditions, Always work!\n"
     ]
    }
   ],
   "source": [
    "val = int(input(\"Enter the value: \"))\n",
    "if val > 100:\n",
    "    print(f'{val} is greater than 100')\n",
    "print(\"Outside the if conditions, Always work!\")"
   ]
  },
  {
   "cell_type": "code",
   "execution_count": 2,
   "id": "e554e96c-8f00-4bad-9513-ce4cf22fbcaf",
   "metadata": {},
   "outputs": [
    {
     "name": "stdin",
     "output_type": "stream",
     "text": [
      "Enter the value:  111\n"
     ]
    },
    {
     "name": "stdout",
     "output_type": "stream",
     "text": [
      "111 is greater than 100\n",
      "Outside the if conditions, Always work!\n"
     ]
    }
   ],
   "source": [
    "val = int(input(\"Enter the value: \"))\n",
    "if val > 100:\n",
    "    print(f'{val} is greater than 100')\n",
    "print(\"Outside the if conditions, Always work!\")"
   ]
  },
  {
   "cell_type": "code",
   "execution_count": 3,
   "id": "cd054e53-7caa-485e-af41-30a9203bf614",
   "metadata": {},
   "outputs": [
    {
     "name": "stdin",
     "output_type": "stream",
     "text": [
      "Enter the value:  -1\n"
     ]
    },
    {
     "name": "stdout",
     "output_type": "stream",
     "text": [
      "Outside the if conditions, Always work!\n"
     ]
    }
   ],
   "source": [
    "val = int(input(\"Enter the value: \"))\n",
    "if val > 100:\n",
    "    print(f'{val} is greater than 100')\n",
    "print(\"Outside the if conditions, Always work!\")"
   ]
  },
  {
   "cell_type": "code",
   "execution_count": 5,
   "id": "4a732d55-c175-443f-a8cf-26b922d3b815",
   "metadata": {},
   "outputs": [
    {
     "name": "stdin",
     "output_type": "stream",
     "text": [
      "Enter the num1:  -99\n",
      "Enter the num2:  54\n"
     ]
    },
    {
     "name": "stdout",
     "output_type": "stream",
     "text": [
      "54 is greater than -99\n",
      "-99 is not equal to 54\n"
     ]
    }
   ],
   "source": [
    "num1 = int(input(\"Enter the num1: \"))\n",
    "num2 = int(input(\"Enter the num2: \"))\n",
    "if num1 > num2:\n",
    "    print(f\"{num1} is greater than {num2}\")\n",
    "if num2 > num1:\n",
    "    print(f\"{num2} is greater than {num1}\")\n",
    "if num1 == num2:\n",
    "    print(f\"{num1} is equal to {num2}\")\n",
    "if num1 != num2:\n",
    "    print(f\"{num1} is not equal to {num2}\")"
   ]
  },
  {
   "cell_type": "code",
   "execution_count": 6,
   "id": "5a80d099-58ff-4cf2-be7d-f36016f55191",
   "metadata": {},
   "outputs": [
    {
     "data": {
      "text/plain": [
       "1"
      ]
     },
     "execution_count": 6,
     "metadata": {},
     "output_type": "execute_result"
    }
   ],
   "source": [
    "_bool = True\n",
    "int(_bool) # 1"
   ]
  },
  {
   "cell_type": "code",
   "execution_count": 7,
   "id": "19f0262d-1035-4d1d-9b85-02f9f21968ce",
   "metadata": {},
   "outputs": [
    {
     "data": {
      "text/plain": [
       "0"
      ]
     },
     "execution_count": 7,
     "metadata": {},
     "output_type": "execute_result"
    }
   ],
   "source": [
    "_bool = False\n",
    "int(_bool) # 0"
   ]
  },
  {
   "cell_type": "code",
   "execution_count": 8,
   "id": "39aefbfb-8e8f-4786-a7ba-8cafefcf6816",
   "metadata": {},
   "outputs": [],
   "source": [
    "# If you find any number either positive or negative -> True\n",
    "# Except 0 : False Other examples can be -> [],(),\"\",{},set()"
   ]
  },
  {
   "cell_type": "code",
   "execution_count": 9,
   "id": "277b2b56-db37-4af0-a43e-b06df579949d",
   "metadata": {},
   "outputs": [
    {
     "name": "stdin",
     "output_type": "stream",
     "text": [
      "Enter the value:  11\n"
     ]
    },
    {
     "name": "stdout",
     "output_type": "stream",
     "text": [
      "11 is less than or equal to 100.\n"
     ]
    }
   ],
   "source": [
    "val = int(input(\"Enter the value: \"))\n",
    "if val > 100:\n",
    "    print(f\"{val} is greater than 100.\")\n",
    "else:\n",
    "    print(f\"{val} is less than or equal to 100.\")"
   ]
  },
  {
   "cell_type": "code",
   "execution_count": 10,
   "id": "1c8a99df-8cb1-4bd8-85f8-3fdb397f1694",
   "metadata": {},
   "outputs": [
    {
     "name": "stdin",
     "output_type": "stream",
     "text": [
      "Enter the value:  111\n"
     ]
    },
    {
     "name": "stdout",
     "output_type": "stream",
     "text": [
      "111 is greater than 100.\n"
     ]
    }
   ],
   "source": [
    "val = int(input(\"Enter the value: \"))\n",
    "if val > 100:\n",
    "    print(f\"{val} is greater than 100.\")\n",
    "else:\n",
    "    print(f\"{val} is less than or equal to 100.\")"
   ]
  },
  {
   "cell_type": "code",
   "execution_count": 11,
   "id": "36f9e9ae-d8a4-4ca1-8e97-7dba81d597f0",
   "metadata": {},
   "outputs": [
    {
     "name": "stdin",
     "output_type": "stream",
     "text": [
      "Enter the value:  -999\n"
     ]
    },
    {
     "name": "stdout",
     "output_type": "stream",
     "text": [
      "-999 is less than or equal to 100.\n"
     ]
    }
   ],
   "source": [
    "val = int(input(\"Enter the value: \"))\n",
    "if val > 100:\n",
    "    print(f\"{val} is greater than 100.\")\n",
    "else:\n",
    "    print(f\"{val} is less than or equal to 100.\")"
   ]
  },
  {
   "cell_type": "code",
   "execution_count": 12,
   "id": "b6ec9365-40af-4300-8f58-c4e5fb07a53b",
   "metadata": {},
   "outputs": [
    {
     "name": "stdin",
     "output_type": "stream",
     "text": [
      "Enter the value:  a\n"
     ]
    },
    {
     "ename": "ValueError",
     "evalue": "invalid literal for int() with base 10: 'a'",
     "output_type": "error",
     "traceback": [
      "\u001b[1;31m---------------------------------------------------------------------------\u001b[0m",
      "\u001b[1;31mValueError\u001b[0m                                Traceback (most recent call last)",
      "Cell \u001b[1;32mIn[12], line 1\u001b[0m\n\u001b[1;32m----> 1\u001b[0m val \u001b[38;5;241m=\u001b[39m \u001b[38;5;28mint\u001b[39m(\u001b[38;5;28minput\u001b[39m(\u001b[38;5;124m\"\u001b[39m\u001b[38;5;124mEnter the value: \u001b[39m\u001b[38;5;124m\"\u001b[39m))\n\u001b[0;32m      2\u001b[0m \u001b[38;5;28;01mif\u001b[39;00m val \u001b[38;5;241m>\u001b[39m \u001b[38;5;241m100\u001b[39m:\n\u001b[0;32m      3\u001b[0m     \u001b[38;5;28mprint\u001b[39m(\u001b[38;5;124mf\u001b[39m\u001b[38;5;124m\"\u001b[39m\u001b[38;5;132;01m{\u001b[39;00mval\u001b[38;5;132;01m}\u001b[39;00m\u001b[38;5;124m is greater than 100.\u001b[39m\u001b[38;5;124m\"\u001b[39m)\n",
      "\u001b[1;31mValueError\u001b[0m: invalid literal for int() with base 10: 'a'"
     ]
    }
   ],
   "source": [
    "val = int(input(\"Enter the value: \"))\n",
    "if val > 100:\n",
    "    print(f\"{val} is greater than 100.\")\n",
    "else:\n",
    "    print(f\"{val} is less than or equal to 100.\")"
   ]
  },
  {
   "cell_type": "code",
   "execution_count": 13,
   "id": "8bd1a28d-6d1a-42e4-98dc-00daef80242f",
   "metadata": {},
   "outputs": [
    {
     "name": "stdin",
     "output_type": "stream",
     "text": [
      "Enter the value:  1200\n"
     ]
    },
    {
     "name": "stdout",
     "output_type": "stream",
     "text": [
      "1200 is factor of 10\n"
     ]
    }
   ],
   "source": [
    "# Checking for a multiple of 10\n",
    "val = int(input(\"Enter the value: \"))\n",
    "if val % 10 == 0:\n",
    "    print(f\"{val} is factor of 10\")\n",
    "else:\n",
    "    print(f\"{val} is not a factor of 10\")"
   ]
  },
  {
   "cell_type": "code",
   "execution_count": 14,
   "id": "ac63c599-6b55-4611-9137-967b7d7c24a9",
   "metadata": {},
   "outputs": [
    {
     "name": "stdin",
     "output_type": "stream",
     "text": [
      "Enter the value:  111\n"
     ]
    },
    {
     "name": "stdout",
     "output_type": "stream",
     "text": [
      "111 is not a factor of 10\n"
     ]
    }
   ],
   "source": [
    "# Checking for a multiple of 10\n",
    "val = int(input(\"Enter the value: \"))\n",
    "if val % 10 == 0:\n",
    "    print(f\"{val} is factor of 10\")\n",
    "else:\n",
    "    print(f\"{val} is not a factor of 10\")"
   ]
  },
  {
   "cell_type": "code",
   "execution_count": 16,
   "id": "fb6e375d-1d39-4372-80d2-0fc76908d5c1",
   "metadata": {},
   "outputs": [
    {
     "name": "stdout",
     "output_type": "stream",
     "text": [
      "<class 'str'>\n",
      "Please fix the data type of the input, as its not a numeric type!\n"
     ]
    }
   ],
   "source": [
    "# Checking the type of an input\n",
    "val = \"11\"\n",
    "print(type(val))\n",
    "if val == 11: # False\n",
    "    print(f\"{val} is a numeric value\")\n",
    "else:\n",
    "    print(\"Please fix the data type of the input, as its not a numeric type!\")"
   ]
  },
  {
   "cell_type": "code",
   "execution_count": 21,
   "id": "4832c563-de5c-401c-b3c0-c066667c7746",
   "metadata": {},
   "outputs": [
    {
     "name": "stdout",
     "output_type": "stream",
     "text": [
      "11.1 is a float value\n"
     ]
    }
   ],
   "source": [
    "# Checking the type of an input\n",
    "val = 11.1\n",
    "if type(val) is float: \n",
    "    print(f\"{val} is a float value\")\n",
    "else:\n",
    "    print(\"Please fix the data type of the input, as its not a numeric type!\")"
   ]
  },
  {
   "cell_type": "code",
   "execution_count": 22,
   "id": "7ba5f8fa-2891-4452-8e07-38a05c246e81",
   "metadata": {},
   "outputs": [
    {
     "name": "stdout",
     "output_type": "stream",
     "text": [
      "Please fix the data type of the input, as its not a float type!\n"
     ]
    }
   ],
   "source": [
    "# Checking the type of an input\n",
    "val = \"11\"\n",
    "if type(val) is float: \n",
    "    print(f\"{val} is a float value\")\n",
    "else:\n",
    "    print(\"Please fix the data type of the input, as its not a float type!\")"
   ]
  },
  {
   "cell_type": "code",
   "execution_count": 23,
   "id": "ddf3b977-d397-499d-a6fe-9f44c7786f6a",
   "metadata": {},
   "outputs": [
    {
     "name": "stdout",
     "output_type": "stream",
     "text": [
      "val is an integer\n"
     ]
    }
   ],
   "source": [
    "val = 10\n",
    "if type(val) is int:\n",
    "    print(\"val is an integer\")"
   ]
  },
  {
   "cell_type": "code",
   "execution_count": 25,
   "id": "96d3433d-8c9e-4683-88b4-dbc62661f583",
   "metadata": {},
   "outputs": [
    {
     "name": "stdout",
     "output_type": "stream",
     "text": [
      "val is a number\n"
     ]
    }
   ],
   "source": [
    "val = 3.14\n",
    "if isinstance(val, (int, float, complex, str)):\n",
    "    print(\"val is a number\")\n",
    "else:\n",
    "    print(\"Hello World!\")"
   ]
  },
  {
   "cell_type": "code",
   "execution_count": 26,
   "id": "7fe13f91-b726-466f-95ab-dff50f05dbc2",
   "metadata": {},
   "outputs": [
    {
     "name": "stdout",
     "output_type": "stream",
     "text": [
      "Hello World!\n"
     ]
    }
   ],
   "source": [
    "val = \"11\"\n",
    "if isinstance(val, (int, float, complex)):\n",
    "    print(\"val is a number\")\n",
    "else:\n",
    "    print(\"Hello World!\")"
   ]
  },
  {
   "cell_type": "code",
   "execution_count": 27,
   "id": "006494af-72be-4c84-be87-9a77a3c083ba",
   "metadata": {},
   "outputs": [
    {
     "name": "stdout",
     "output_type": "stream",
     "text": [
      "Thar is available in car_list\n"
     ]
    }
   ],
   "source": [
    "# 'in'/'not in' operator -> membership operator [Returning True or False]\n",
    "car_list = ['Taigun','Creta','Slavia','Virtus','Thar','ScorpioN','i10','Verna','Jeep','Lord Alto']\n",
    "fav_car = 'Thar'\n",
    "if fav_car in car_list:\n",
    "    print(f\"{fav_car} is available in car_list\")\n",
    "else:\n",
    "    print(f\"Sorry! We will add it soon....\")"
   ]
  },
  {
   "cell_type": "code",
   "execution_count": 28,
   "id": "c3621664-f0f8-4292-af63-86e8262cf08f",
   "metadata": {},
   "outputs": [
    {
     "name": "stdout",
     "output_type": "stream",
     "text": [
      "Sorry! We will add it soon....\n"
     ]
    }
   ],
   "source": [
    "# 'in'/'not in' operator -> membership operator [Returning True or False]\n",
    "car_list = ['Taigun','Creta','Slavia','Virtus','Thar','ScorpioN','i10','Verna','Jeep','Lord Alto']\n",
    "fav_car = 'GWagon'\n",
    "if fav_car in car_list:\n",
    "    print(f\"{fav_car} is available in car_list\")\n",
    "else:\n",
    "    print(f\"Sorry! We will add it soon....\")"
   ]
  },
  {
   "cell_type": "code",
   "execution_count": 29,
   "id": "e021c9cb-3188-4469-8f2f-fc35ef6149de",
   "metadata": {},
   "outputs": [
    {
     "name": "stdout",
     "output_type": "stream",
     "text": [
      "Sorry! We will add it soon....\n"
     ]
    }
   ],
   "source": [
    "# 'in'/'not in' operator -> membership operator [Returning True or False]\n",
    "car_list = ['Taigun','Creta','Slavia','Virtus','Thar','ScorpioN','i10','Verna','Jeep','Lord Alto']\n",
    "fav_car = ['GWagon','Creta']\n",
    "if fav_car in car_list:\n",
    "    print(f\"{fav_car} is available in car_list\")\n",
    "else:\n",
    "    print(f\"Sorry! We will add it soon....\")"
   ]
  },
  {
   "cell_type": "code",
   "execution_count": 30,
   "id": "4cd36329-8dbb-4781-9645-51d87eb4435c",
   "metadata": {},
   "outputs": [
    {
     "name": "stdout",
     "output_type": "stream",
     "text": [
      "We are checking Nested Conditions : \n",
      "Creta is available in car_list\n"
     ]
    }
   ],
   "source": [
    "car_list = ['Taigun','Creta','Slavia','Virtus','Thar','ScorpioN','i10','Verna','Jeep','Lord Alto']\n",
    "fav_car1 = 'GWagon'\n",
    "fav_car2 = 'Creta'\n",
    "if fav_car1 in car_list or fav_car2 in car_list: # True\n",
    "    print(\"We are checking Nested Conditions : \")\n",
    "    if fav_car1 in car_list: # False\n",
    "        print(f\"{fav_car1} is available in car_list\")\n",
    "    elif fav_car2 in car_list: # True\n",
    "        print(f\"{fav_car2} is available in car_list\")\n",
    "else:\n",
    "    print(f\"Sorry! We will add it soon....\")"
   ]
  },
  {
   "cell_type": "code",
   "execution_count": 32,
   "id": "a8405d8f-125d-4649-8085-4d7048ce1456",
   "metadata": {},
   "outputs": [
    {
     "name": "stdout",
     "output_type": "stream",
     "text": [
      "We are checking Nested Conditions : \n",
      "Creta is available in car_list\n"
     ]
    }
   ],
   "source": [
    "car_list = ['Taigun','Creta','Slavia','Virtus','Thar','ScorpioN','i10','Verna','Jeep','Lord Alto']\n",
    "fav_car1 = 'GWagon'\n",
    "fav_car2 = 'Creta'\n",
    "if fav_car1 in car_list or fav_car2 in car_list: # True\n",
    "    print(\"We are checking Nested Conditions : \")\n",
    "    if fav_car1 in car_list: # False\n",
    "        print(f\"{fav_car1} is available in car_list\")\n",
    "    else: # True ['Creta']\n",
    "        print(f\"{fav_car2} is available in car_list\")\n",
    "else:\n",
    "    print(f\"Sorry! We will add it soon....\")"
   ]
  },
  {
   "cell_type": "code",
   "execution_count": 33,
   "id": "8e927443-3075-4f0a-8dcd-750ab1b2a903",
   "metadata": {},
   "outputs": [
    {
     "name": "stdout",
     "output_type": "stream",
     "text": [
      "We are checking Nested Conditions : \n",
      "Virtus & Creta is available in car_list\n"
     ]
    }
   ],
   "source": [
    "car_list = ['Taigun','Creta','Slavia','Virtus','Thar','ScorpioN','i10','Verna','Jeep','Lord Alto']\n",
    "fav_car1 = 'Virtus' # True\n",
    "fav_car2 = 'Creta' # True\n",
    "if fav_car1 in car_list or fav_car2 in car_list: # True\n",
    "    print(\"We are checking Nested Conditions : \")\n",
    "    if fav_car1 in car_list and fav_car2 in car_list: \n",
    "        print(f\"{fav_car1} & {fav_car2} is available in car_list\")\n",
    "    elif fav_car1 in car_list :\n",
    "        print(f\"{fav_car1} is available in car_list\")\n",
    "    elif fav_car2 in car_list :\n",
    "        print(f\"{fav_car2} is available in car_list\")\n",
    "else:\n",
    "    print(f\"Sorry! We will add it soon....\")"
   ]
  },
  {
   "cell_type": "code",
   "execution_count": 34,
   "id": "cc475261-7228-4cb1-ae0c-99d4f75bc828",
   "metadata": {},
   "outputs": [
    {
     "name": "stdout",
     "output_type": "stream",
     "text": [
      "We are checking Nested Conditions : \n",
      "Virtus is available in car_list\n"
     ]
    }
   ],
   "source": [
    "car_list = ['Taigun','Creta','Slavia','Virtus','Thar','ScorpioN','i10','Verna','Jeep','Lord Alto']\n",
    "fav_car1 = 'Virtus' # True\n",
    "fav_car2 = 'Bolero' # False\n",
    "if fav_car1 in car_list or fav_car2 in car_list: # True\n",
    "    print(\"We are checking Nested Conditions : \")\n",
    "    if fav_car1 in car_list and fav_car2 in car_list: \n",
    "        print(f\"{fav_car1} & {fav_car2} is available in car_list\")\n",
    "    elif fav_car1 in car_list :\n",
    "        print(f\"{fav_car1} is available in car_list\")\n",
    "    elif fav_car2 in car_list :\n",
    "        print(f\"{fav_car2} is available in car_list\")\n",
    "else:\n",
    "    print(f\"Sorry! We will add it soon....\")"
   ]
  },
  {
   "cell_type": "code",
   "execution_count": 35,
   "id": "7004905b-dd8d-4759-b6ff-8db1a01e83f8",
   "metadata": {},
   "outputs": [
    {
     "name": "stdout",
     "output_type": "stream",
     "text": [
      "We are checking Nested Conditions : \n",
      "Verna is available in car_list\n"
     ]
    }
   ],
   "source": [
    "car_list = ['Taigun','Creta','Slavia','Virtus','Thar','ScorpioN','i10','Verna','Jeep','Lord Alto']\n",
    "fav_car1 = 'BE6' # False\n",
    "fav_car2 = 'Verna' # True\n",
    "if fav_car1 in car_list or fav_car2 in car_list: # True\n",
    "    print(\"We are checking Nested Conditions : \")\n",
    "    if fav_car1 in car_list and fav_car2 in car_list: \n",
    "        print(f\"{fav_car1} & {fav_car2} is available in car_list\")\n",
    "    elif fav_car1 in car_list :\n",
    "        print(f\"{fav_car1} is available in car_list\")\n",
    "    elif fav_car2 in car_list :\n",
    "        print(f\"{fav_car2} is available in car_list\")\n",
    "else:\n",
    "    print(f\"Sorry! We will add it soon....\")"
   ]
  },
  {
   "cell_type": "code",
   "execution_count": 36,
   "id": "948f8a76-ebd9-4e4a-a9b6-a2750d42eee4",
   "metadata": {},
   "outputs": [
    {
     "name": "stdout",
     "output_type": "stream",
     "text": [
      "Sorry! We will add it soon....\n"
     ]
    }
   ],
   "source": [
    "car_list = ['Taigun','Creta','Slavia','Virtus','Thar','ScorpioN','i10','Verna','Jeep','Lord Alto']\n",
    "fav_car1 = 'BE6' # False\n",
    "fav_car2 = 'Harrier' # False\n",
    "if fav_car1 in car_list or fav_car2 in car_list: # True\n",
    "    print(\"We are checking Nested Conditions : \")\n",
    "    if fav_car1 in car_list and fav_car2 in car_list: \n",
    "        print(f\"{fav_car1} & {fav_car2} is available in car_list\")\n",
    "    elif fav_car1 in car_list :\n",
    "        print(f\"{fav_car1} is available in car_list\")\n",
    "    elif fav_car2 in car_list :\n",
    "        print(f\"{fav_car2} is available in car_list\")\n",
    "else:\n",
    "    print(f\"Sorry! We will add it soon....\")"
   ]
  },
  {
   "cell_type": "code",
   "execution_count": 39,
   "id": "22243ad0-e394-481c-83a6-ef38e259c507",
   "metadata": {},
   "outputs": [
    {
     "name": "stdout",
     "output_type": "stream",
     "text": [
      "You are searching :  Data Analytics\n"
     ]
    }
   ],
   "source": [
    "student_details = {\n",
    "    'name' : 'Prabhakar Shah',\n",
    "    'age' : 28,\n",
    "    'gender' : 'Male',\n",
    "    'city' : 'Indore',\n",
    "    'State' : 'Madhya Pradesh',\n",
    "    'country' : 'India',\n",
    "    'course' : 'Data Analytics',\n",
    "    'skills' : ['Excel','Power BI','Sql','Python']\n",
    "}\n",
    "key_evaluate = 'course'\n",
    "if key_evaluate in student_details:\n",
    "    print(\"You are searching : \" , student_details[key_evaluate]) \n",
    "else:\n",
    "    print(\"No such key exist!\")"
   ]
  },
  {
   "cell_type": "code",
   "execution_count": 40,
   "id": "0df56779-e362-4e4a-bdbc-e2b082df6453",
   "metadata": {},
   "outputs": [
    {
     "name": "stdout",
     "output_type": "stream",
     "text": [
      "You are searching :  ['Excel', 'Power BI', 'Sql', 'Python']\n"
     ]
    }
   ],
   "source": [
    "student_details = {\n",
    "    'name' : 'Prabhakar Shah',\n",
    "    'age' : 28,\n",
    "    'gender' : 'Male',\n",
    "    'city' : 'Indore',\n",
    "    'State' : 'Madhya Pradesh',\n",
    "    'country' : 'India',\n",
    "    'course' : 'Data Analytics',\n",
    "    'skills' : ['Excel','Power BI','Sql','Python']\n",
    "}\n",
    "key_evaluate = 'skills'\n",
    "if key_evaluate in student_details:\n",
    "    print(\"You are searching : \" , student_details[key_evaluate]) \n",
    "else:\n",
    "    print(\"No such key exist!\")"
   ]
  },
  {
   "cell_type": "code",
   "execution_count": 42,
   "id": "d5512ba2-1054-4fe1-b55b-e8278690f5a8",
   "metadata": {},
   "outputs": [
    {
     "name": "stdout",
     "output_type": "stream",
     "text": [
      "Above code never run as condition {} is False\n"
     ]
    }
   ],
   "source": [
    "if {}: # False\n",
    "    print(\"Hello World\")\n",
    "else:\n",
    "    print(\"Above code never run as condition {} is False\")"
   ]
  },
  {
   "cell_type": "code",
   "execution_count": 44,
   "id": "8c551779-14fd-4131-9d99-c0c3a961d293",
   "metadata": {},
   "outputs": [],
   "source": [
    "student_details = {\n",
    "    'name' : 'Prabhakar Shah',\n",
    "    'age' : 28,\n",
    "    'gender' : 'Male',\n",
    "    'city' : 'Indore',\n",
    "    'State' : 'Madhya Pradesh',\n",
    "    'country' : 'India',\n",
    "    'course' : 'Data Analytics',\n",
    "    'skills' : ['Excel','Power BI','Sql','Python']\n",
    "}\n",
    "student_details['city'] = \"Gwalior\""
   ]
  },
  {
   "cell_type": "code",
   "execution_count": 45,
   "id": "bf0639f7-d5bd-4e26-98de-f4c1b322304b",
   "metadata": {},
   "outputs": [
    {
     "data": {
      "text/plain": [
       "{'name': 'Prabhakar Shah',\n",
       " 'age': 28,\n",
       " 'gender': 'Male',\n",
       " 'city': 'Gwalior',\n",
       " 'State': 'Madhya Pradesh',\n",
       " 'country': 'India',\n",
       " 'course': 'Data Analytics',\n",
       " 'skills': ['Excel', 'Power BI', 'Sql', 'Python']}"
      ]
     },
     "execution_count": 45,
     "metadata": {},
     "output_type": "execute_result"
    }
   ],
   "source": [
    "student_details"
   ]
  },
  {
   "cell_type": "code",
   "execution_count": 46,
   "id": "cb8588ed-b33a-49f1-94f9-261c9eaf2655",
   "metadata": {},
   "outputs": [
    {
     "name": "stdout",
     "output_type": "stream",
     "text": [
      "Above code never run as condition set() is empty representing False\n"
     ]
    }
   ],
   "source": [
    "if set(): # False () , [] , \"\"\n",
    "    print(\"Hello World\")\n",
    "else:\n",
    "    print(\"Above code never run as condition set() is empty representing False\")"
   ]
  },
  {
   "cell_type": "code",
   "execution_count": 47,
   "id": "9b890bd1-67a0-456e-8140-5e54a7a775d2",
   "metadata": {},
   "outputs": [
    {
     "name": "stdout",
     "output_type": "stream",
     "text": [
      "Above code never run as condition 0 is  representing False\n"
     ]
    }
   ],
   "source": [
    "if 0: # False () , [] , \"\"\n",
    "    print(\"Hello World\")\n",
    "else:\n",
    "    print(\"Above code never run as condition 0 is  representing False\")"
   ]
  },
  {
   "cell_type": "code",
   "execution_count": 48,
   "id": "b0f7654a-3def-4a82-a338-270c5c2f476e",
   "metadata": {},
   "outputs": [
    {
     "name": "stdout",
     "output_type": "stream",
     "text": [
      "Any number either positive or negative except 0 is True\n"
     ]
    }
   ],
   "source": [
    "if -3000: # True\n",
    "    print(\"Any number either positive or negative except 0 is True\")\n",
    "else:\n",
    "    print(\"Else won't get executed \")"
   ]
  },
  {
   "cell_type": "code",
   "execution_count": 52,
   "id": "ae2b19d5-fe00-4fb3-bcc2-e3ebfb56ed7c",
   "metadata": {},
   "outputs": [
    {
     "name": "stdout",
     "output_type": "stream",
     "text": [
      "num is greater than 700\n"
     ]
    }
   ],
   "source": [
    "num = 900\n",
    "if num == 1000:\n",
    "    print(\"num is equal to 1000\")\n",
    "elif num >= 700:\n",
    "    print(\"num is greater than 700\")\n",
    "elif num >=500:\n",
    "    print(\"num is greater than 500\")\n",
    "else:\n",
    "    print(\"num is less than 500\")"
   ]
  },
  {
   "cell_type": "code",
   "execution_count": 53,
   "id": "45083a65-988b-4363-8936-ff7564636b32",
   "metadata": {},
   "outputs": [
    {
     "name": "stdin",
     "output_type": "stream",
     "text": [
      "Enter your marks1 :  90\n",
      "Enter your marks2 :  77\n",
      "Enter your marks3 :  99\n"
     ]
    },
    {
     "name": "stdout",
     "output_type": "stream",
     "text": [
      "99 is greater than 90 & 77.\n"
     ]
    }
   ],
   "source": [
    "# Find the max marks by comparing\n",
    "marks1 = int(input(\"Enter your marks1 : \"))\n",
    "marks2 = int(input(\"Enter your marks2 : \"))\n",
    "marks3 = int(input(\"Enter your marks3 : \"))\n",
    "\n",
    "if marks1 > marks2 and marks1 > marks3: # 'marks1' is a winner\n",
    "    print(f\"{marks1} is greater than {marks2} & {marks3}.\")\n",
    "elif marks2 > marks1 and marks2 > marks3: # 'marks2' is a winner\n",
    "    print(f\"{marks2} is greater than {marks1} & {marks3}.\")\n",
    "else: # 'marks3' is a winner\n",
    "    print(f\"{marks3} is greater than {marks1} & {marks2}.\")"
   ]
  },
  {
   "cell_type": "code",
   "execution_count": 54,
   "id": "922ebfec-99e0-4f4c-bc02-08b69ebb7137",
   "metadata": {},
   "outputs": [
    {
     "name": "stdin",
     "output_type": "stream",
     "text": [
      "Enter your marks1 :  95\n",
      "Enter your marks2 :  85\n",
      "Enter your marks3 :  99\n"
     ]
    },
    {
     "name": "stdout",
     "output_type": "stream",
     "text": [
      "85 is lesser than 95 & 99.\n"
     ]
    }
   ],
   "source": [
    "# Find the min marks by comparing\n",
    "marks1 = int(input(\"Enter your marks1 : \"))\n",
    "marks2 = int(input(\"Enter your marks2 : \"))\n",
    "marks3 = int(input(\"Enter your marks3 : \"))\n",
    "\n",
    "if marks1 < marks2 and marks1 < marks3: # 'marks1' is a winner\n",
    "    print(f\"{marks1} is lesser than {marks2} & {marks3}.\")\n",
    "elif marks2 < marks1 and marks2 < marks3: # 'marks2' is a winner\n",
    "    print(f\"{marks2} is lesser than {marks1} & {marks3}.\")\n",
    "else: # 'marks3' is a winner\n",
    "    print(f\"{marks3} is lesser than {marks1} & {marks2}.\")"
   ]
  },
  {
   "cell_type": "code",
   "execution_count": 57,
   "id": "6f9586cb-b958-4ed4-b2eb-552d1e696024",
   "metadata": {},
   "outputs": [
    {
     "name": "stdout",
     "output_type": "stream",
     "text": [
      "Single\n"
     ]
    }
   ],
   "source": [
    "employee_details = {\n",
    "    'name' : 'Bhupinder Jogi',\n",
    "    'age' : 28, # [<=30,>30-45,>45-60,>60]\n",
    "    'gender': 'Male',\n",
    "    'email' : 'bhupinder@yahoo.com',\n",
    "    'experience' : 'Fresher',\n",
    "    'designation' : 'Deputy Manager',\n",
    "    'salary' : 900000, # [<50K, <1L, >1L]\n",
    "    'state': 'Florida',\n",
    "    'country' : 'USA',\n",
    "    'total children' : 4, #\n",
    "    'home_owner' : 'Y', #\n",
    "    'marital_status' : 'Single' # ['Single', 'Married' , 'Divorce']\n",
    "}\n",
    "# We are here to sell a Life Insurance as per the person details\n",
    "premium_amount = 0\n",
    "if employee_details['home_owner'] == 'Y':\n",
    "    if employee_details['marital_status'] == 'Married' and employee_details['total children'] >= 2:\n",
    "        print(\"Married and having children greater or equal to 2\")\n",
    "        if employee_details['age'] >30 and employee_details['age'] <=45 and employee_details['salary'] <= 50000:\n",
    "            # age [>30-45] and salary <=50k\n",
    "        elif employee_details['age'] >30 and employee_details['age'] <=45 and employee_details['salary'] <= 100000:\n",
    "            # age [>30-45] and salary <=1L\n",
    "        elif employee_details['age'] >30 and employee_details['age'] <=45 and employee_details['salary'] > 100000:\n",
    "            # age [>30-45] and salary >1L\n",
    "    elif employee_details['marital_status'] == 'Married' and employee_details['total children'] == 1:\n",
    "        print(\"Married and having children equal to 1\")\n",
    "    elif employee_details['marital_status'] == 'Married' and employee_details['total children'] == 0:\n",
    "        print(\"Married but no children yet\")\n",
    "    elif employee_details['marital_status'] == 'Single':\n",
    "        if employee_details['age'] <=30 and employee_details['salary'] <= 50000:\n",
    "            # age <= 30 and salary <=50k \n",
    "        elif employee_details['age'] <=30 and employee_details['salary'] <= 100000:\n",
    "            # age <= 30 and salary <= 1L **[Bhupinder Jogi]**\n",
    "        elif employee_details['age'] <=30 and employee_details['salary'] > 100000:\n",
    "            # age <= 30 and salary > 1L\n",
    "        print(\"Single\")\n",
    "    else:\n",
    "        print(\"Divorce\")\n",
    "        \n",
    "else : # home_owner == 'N'\n",
    "    print(\"He is Living in a Rental House\")\n",
    "    if employee_details['marital_status'] == 'Married':\n",
    "        print(\"Married\")\n",
    "    elif employee_details['marital_status'] == 'Single':\n",
    "        print(\"Single\")\n",
    "    else:\n",
    "        print(\"Divorce\")"
   ]
  },
  {
   "cell_type": "markdown",
   "id": "cc30e28d-0c71-4831-8add-e688f01d6c4f",
   "metadata": {},
   "source": [
    "#### Shorthand Conditional Statements : \n",
    "- if -> if condition: statement\n",
    "- if-else -> result = value1 if condition else value2\n",
    "- if-elif-else -> result = (value1 if condition1 else value2) if condition2 else value3"
   ]
  },
  {
   "cell_type": "code",
   "execution_count": 1,
   "id": "a2c58741-41d0-434b-840d-4bbf335af720",
   "metadata": {},
   "outputs": [
    {
     "name": "stdin",
     "output_type": "stream",
     "text": [
      "Enter a valid marks :  77\n"
     ]
    }
   ],
   "source": [
    "marks = int(input(\"Enter a valid marks : \"))\n",
    "if marks >=90 : print(\"Excellent\")"
   ]
  },
  {
   "cell_type": "code",
   "execution_count": 2,
   "id": "1b038f4a-5081-4287-ba68-aaebd36eb6c1",
   "metadata": {},
   "outputs": [
    {
     "name": "stdin",
     "output_type": "stream",
     "text": [
      "Enter a valid marks :  97\n"
     ]
    },
    {
     "name": "stdout",
     "output_type": "stream",
     "text": [
      "Excellent\n"
     ]
    }
   ],
   "source": [
    "marks = int(input(\"Enter a valid marks : \"))\n",
    "if marks >=90 : print(\"Excellent\")"
   ]
  },
  {
   "cell_type": "code",
   "execution_count": 3,
   "id": "bf051e44-7adf-4a36-9a66-31c3e5fe00e2",
   "metadata": {},
   "outputs": [
    {
     "name": "stdin",
     "output_type": "stream",
     "text": [
      "Enter a valid marks :  29\n"
     ]
    },
    {
     "name": "stdout",
     "output_type": "stream",
     "text": [
      "Not Passed\n"
     ]
    }
   ],
   "source": [
    "# if-else -> result = value1 if condition else value2\n",
    "marks = int(input(\"Enter a valid marks : \"))\n",
    "print(\"Not Passed\") if marks <=33 else print(\"Passed\")"
   ]
  },
  {
   "cell_type": "code",
   "execution_count": 4,
   "id": "4c374a44-b799-4d32-b23f-9dbc428217ba",
   "metadata": {},
   "outputs": [
    {
     "name": "stdin",
     "output_type": "stream",
     "text": [
      "Enter a valid marks :  77\n"
     ]
    },
    {
     "name": "stdout",
     "output_type": "stream",
     "text": [
      "Passed\n"
     ]
    }
   ],
   "source": [
    "marks = int(input(\"Enter a valid marks : \"))\n",
    "print(\"Not Passed\") if marks <=33 else print(\"Passed\")"
   ]
  },
  {
   "cell_type": "code",
   "execution_count": 5,
   "id": "a5e86172-f925-4977-bdc7-c657bf2615d7",
   "metadata": {},
   "outputs": [
    {
     "name": "stdin",
     "output_type": "stream",
     "text": [
      "Enter a valid marks :  55\n"
     ]
    },
    {
     "name": "stdout",
     "output_type": "stream",
     "text": [
      "Passed\n"
     ]
    }
   ],
   "source": [
    "# if-else -> result = value1 if condition else value2\n",
    "marks = int(input(\"Enter a valid marks : \"))\n",
    "result = \"Not Passed\" if marks <=33 else \"Passed\"\n",
    "print(result)"
   ]
  },
  {
   "cell_type": "code",
   "execution_count": 6,
   "id": "60f21efa-3702-4c1d-92c7-d5ff6ef2149c",
   "metadata": {},
   "outputs": [
    {
     "name": "stdout",
     "output_type": "stream",
     "text": [
      "apple\n"
     ]
    }
   ],
   "source": [
    "# Compare the value\n",
    "val1 = 'Apple'\n",
    "val2 = 'apple' # [ASCII]\n",
    "result = val1 if val1 > val2 else val2\n",
    "print(result) # val2 ['apple']"
   ]
  },
  {
   "cell_type": "code",
   "execution_count": 7,
   "id": "33066771-c01c-45e3-8f27-efc1313c280f",
   "metadata": {},
   "outputs": [
    {
     "name": "stdout",
     "output_type": "stream",
     "text": [
      "100\n"
     ]
    }
   ],
   "source": [
    "val1 = 100\n",
    "val2 = 100\n",
    "result = val1 if val1 > val2 else val2\n",
    "print(result) # val2 - 100"
   ]
  },
  {
   "cell_type": "code",
   "execution_count": 8,
   "id": "23b2f5c8-f79a-4af3-a199-bf65b139b221",
   "metadata": {},
   "outputs": [
    {
     "name": "stdout",
     "output_type": "stream",
     "text": [
      "189\n"
     ]
    }
   ],
   "source": [
    "height1 = 170\n",
    "height2 = 189\n",
    "result = height2 if height1 < height2 else height1\n",
    "print(result) # height2 - 189"
   ]
  },
  {
   "cell_type": "code",
   "execution_count": 9,
   "id": "ff13c1a0-af81-45d6-9716-7619783394fc",
   "metadata": {},
   "outputs": [
    {
     "name": "stdin",
     "output_type": "stream",
     "text": [
      "Enter the value:  99\n"
     ]
    },
    {
     "name": "stdout",
     "output_type": "stream",
     "text": [
      "Odd\n"
     ]
    }
   ],
   "source": [
    "# Error -> if you are using if-else shorthand -> else can't be skipped\n",
    "val = int(input(\"Enter the value: \"))\n",
    "result = \"Even\" if val % 2 == 0 else \"Odd\"\n",
    "print(result)"
   ]
  },
  {
   "cell_type": "code",
   "execution_count": 11,
   "id": "40c9f9b1-c016-425c-8a9f-5db712b8d455",
   "metadata": {},
   "outputs": [
    {
     "name": "stdin",
     "output_type": "stream",
     "text": [
      "Enter the value:  10\n"
     ]
    },
    {
     "name": "stdout",
     "output_type": "stream",
     "text": [
      "Even\n"
     ]
    }
   ],
   "source": [
    "val = int(input(\"Enter the value: \"))\n",
    "result = \"Even\" if val % 2 == 0 else \"Odd\"\n",
    "print(result)"
   ]
  },
  {
   "cell_type": "code",
   "execution_count": 12,
   "id": "d581b8bd-a638-4ba1-9611-45bd3fb67f7a",
   "metadata": {},
   "outputs": [
    {
     "name": "stdin",
     "output_type": "stream",
     "text": [
      "Enter the value:  29\n"
     ]
    },
    {
     "name": "stdout",
     "output_type": "stream",
     "text": [
      "Odd\n"
     ]
    }
   ],
   "source": [
    "val = int(input(\"Enter the value: \"))\n",
    "if val % 2 == 0 :\n",
    "    print(\"Even\")\n",
    "else :\n",
    "    print(\"Odd\")"
   ]
  },
  {
   "cell_type": "code",
   "execution_count": 13,
   "id": "e2ddd59d-4fe8-42b6-bee3-8fe244a49c17",
   "metadata": {},
   "outputs": [
    {
     "name": "stdout",
     "output_type": "stream",
     "text": [
      "Python\n"
     ]
    }
   ],
   "source": [
    "# if-elif-else -> result = (value1 if condition1 else value2) if condition2 else value3\n",
    "value1 = \"Python\"\n",
    "value2 = \"Java\"\n",
    "value3 = \"JavaScript\"\n",
    "condition1 = True\n",
    "condition2 = True\n",
    "result = (value1 if condition1 else value2) if condition2 else value3\n",
    "print(result) # 'Python'"
   ]
  },
  {
   "cell_type": "code",
   "execution_count": 14,
   "id": "373715bd-631c-44b3-a5c4-9e0e5ff859d8",
   "metadata": {},
   "outputs": [
    {
     "name": "stdout",
     "output_type": "stream",
     "text": [
      "Java\n"
     ]
    }
   ],
   "source": [
    "value1 = \"Python\"\n",
    "value2 = \"Java\"\n",
    "value3 = \"JavaScript\"\n",
    "condition1 = False\n",
    "condition2 = True\n",
    "result = (value1 if condition1 else value2) if condition2 else value3\n",
    "print(result) # 'Java'"
   ]
  },
  {
   "cell_type": "code",
   "execution_count": 15,
   "id": "3641f3be-9063-4850-bd3e-a577be08d347",
   "metadata": {},
   "outputs": [
    {
     "name": "stdout",
     "output_type": "stream",
     "text": [
      "JavaScript\n"
     ]
    }
   ],
   "source": [
    "value1 = \"Python\"\n",
    "value2 = \"Java\"\n",
    "value3 = \"JavaScript\"\n",
    "condition1 = False\n",
    "condition2 = False\n",
    "result = (value1 if condition1 else value2) if condition2 else value3\n",
    "print(result) # 'JavaScript'"
   ]
  },
  {
   "cell_type": "code",
   "execution_count": 16,
   "id": "3e821df6-8289-4e3c-9b2d-769d86c4fa83",
   "metadata": {},
   "outputs": [
    {
     "name": "stdout",
     "output_type": "stream",
     "text": [
      "C\n"
     ]
    }
   ],
   "source": [
    "# Grading System\n",
    "score = 77\n",
    "grade = 'A' if score >=90 else ('B' if score >=80 else ('C' if score >= 70 else 'D'))\n",
    "print(grade)"
   ]
  },
  {
   "cell_type": "code",
   "execution_count": 17,
   "id": "550a8d67-67e7-41d9-8914-c48969e6c9ed",
   "metadata": {},
   "outputs": [
    {
     "name": "stdin",
     "output_type": "stream",
     "text": [
      "Enter the valid score:  81\n"
     ]
    },
    {
     "name": "stdout",
     "output_type": "stream",
     "text": [
      "B\n"
     ]
    }
   ],
   "source": [
    "score = int(input(\"Enter the valid score: \"))\n",
    "grade = ''\n",
    "if score >= 90:\n",
    "    grade = 'A'\n",
    "elif score >= 80:\n",
    "    grade = 'B'\n",
    "elif score >= 70:\n",
    "    grade = 'C'\n",
    "else:\n",
    "    grade = 'D'\n",
    "\n",
    "print(grade)"
   ]
  },
  {
   "cell_type": "code",
   "execution_count": 18,
   "id": "1180f03c-166a-4aec-9b6b-c0018ff61490",
   "metadata": {},
   "outputs": [
    {
     "name": "stdin",
     "output_type": "stream",
     "text": [
      "Enter the valid score:  33\n"
     ]
    },
    {
     "name": "stdout",
     "output_type": "stream",
     "text": [
      "?\n"
     ]
    }
   ],
   "source": [
    "score = int(input(\"Enter the valid score: \"))\n",
    "grade = '?'\n",
    "if score >= 90:\n",
    "    grade = 'A'\n",
    "elif score >= 80:\n",
    "    grade = 'B'\n",
    "elif score >= 70:\n",
    "    grade = 'C'\n",
    "elif score >= 50:\n",
    "    grade = 'D'\n",
    "else :\n",
    "    grade\n",
    "print(grade)"
   ]
  },
  {
   "cell_type": "code",
   "execution_count": 19,
   "id": "40af357f-fa11-4aaa-9841-27dd83fc1bd3",
   "metadata": {},
   "outputs": [
    {
     "name": "stdout",
     "output_type": "stream",
     "text": [
      "Taigun\n",
      "Slavia\n",
      "Verna\n",
      "Thar\n",
      "Innova\n",
      "Defender\n",
      "Lord Alto\n"
     ]
    }
   ],
   "source": [
    "# Looping Statement\n",
    "car_list = ['Taigun','Slavia','Verna','Thar','Innova','Defender','Lord Alto']\n",
    "print(car_list[0])\n",
    "print(car_list[1])\n",
    "print(car_list[2])\n",
    "print(car_list[3])\n",
    "print(car_list[4])\n",
    "print(car_list[5])\n",
    "print(car_list[6])"
   ]
  },
  {
   "cell_type": "code",
   "execution_count": 20,
   "id": "a223972e-ff64-419c-a824-0436be24b469",
   "metadata": {},
   "outputs": [
    {
     "name": "stdout",
     "output_type": "stream",
     "text": [
      "Taigun\n",
      "Slavia\n",
      "Verna\n",
      "Thar\n",
      "Innova\n",
      "Defender\n",
      "Lord Alto\n"
     ]
    }
   ],
   "source": [
    "for car in car_list:\n",
    "    print(car)"
   ]
  },
  {
   "cell_type": "code",
   "execution_count": 21,
   "id": "5d7607ea-08e1-4683-aaee-acff7890e80e",
   "metadata": {},
   "outputs": [
    {
     "name": "stdout",
     "output_type": "stream",
     "text": [
      "-11 is odd value.\n",
      "10 is even value.\n",
      "5 is odd value.\n",
      "7 is odd value.\n",
      "9 is odd value.\n",
      "100 is even value.\n",
      "21 is odd value.\n",
      "-22 is even value.\n",
      "77 is odd value.\n",
      "99 is odd value.\n",
      "-65 is odd value.\n",
      "91 is odd value.\n",
      "199 is odd value.\n",
      "Loop is Ended\n"
     ]
    }
   ],
   "source": [
    "# Even and Odd Number\n",
    "_list = [-11,10,5,7,9,100,21,-22,77,99,-65,91,199]\n",
    "for val in _list:\n",
    "    if val % 2 == 1: # odd\n",
    "        print(f'{val} is odd value.')\n",
    "    elif val % 2 == 0: # even\n",
    "        print(f'{val} is even value.')\n",
    "\n",
    "print(\"Loop is Ended\")"
   ]
  },
  {
   "cell_type": "code",
   "execution_count": 22,
   "id": "f4cc64c4-9c3a-418c-97e8-97fda363ba5b",
   "metadata": {},
   "outputs": [
    {
     "name": "stdout",
     "output_type": "stream",
     "text": [
      "['Taigun', 'Defender', 'Harrier']\n"
     ]
    }
   ],
   "source": [
    "# Appended to a List\n",
    "car_list = ['Taigun','Slavai','Verna','Thar','Innova','Defender','Lord Alto',\n",
    "            'Safari','Harrier','Bolero','XUV700','Altroz']\n",
    "fav_car = []\n",
    "for car in car_list:\n",
    "    if (car == 'Taigun') or (car == 'Defender') or (car == 'Harrier'):\n",
    "        fav_car.append(car)\n",
    "print(fav_car)"
   ]
  },
  {
   "cell_type": "code",
   "execution_count": 24,
   "id": "19627353-a895-495b-b9f4-452ce473af31",
   "metadata": {},
   "outputs": [
    {
     "name": "stdin",
     "output_type": "stream",
     "text": [
      "Enter your first fav_car Thar\n",
      "Enter your second fav_car Safari\n",
      "Enter your third fav_car Hector\n"
     ]
    },
    {
     "name": "stdout",
     "output_type": "stream",
     "text": [
      "['Thar', 'Safari']\n"
     ]
    }
   ],
   "source": [
    "# Appended to a List\n",
    "car_list = ['Taigun','Slavia','Verna','Thar','Innova','Defender','Lord Alto',\n",
    "            'Safari','Harrier','Bolero','XUV700','Altroz']\n",
    "fav_car_list = []\n",
    "fav_car1 = input(\"Enter your first fav_car\")\n",
    "fav_car2 = input(\"Enter your second fav_car\")\n",
    "fav_car3 = input(\"Enter your third fav_car\")\n",
    "\n",
    "for car in car_list:\n",
    "    if (car == fav_car1) or (car == fav_car2) or (car == fav_car3):\n",
    "        fav_car_list.append(car)\n",
    "print(fav_car_list)"
   ]
  },
  {
   "cell_type": "code",
   "execution_count": 25,
   "id": "79f3d8d6-d803-47d0-9f6b-ed45bdc910a1",
   "metadata": {},
   "outputs": [
    {
     "name": "stdout",
     "output_type": "stream",
     "text": [
      "{'Verna', 'Defender', 'Bolero', 'Slavia', 'Thar', 'Taigun', 'Harrier', 'Innova', 'XUV700', 'Altroz', 'Safari', 'Lord Alto'}\n"
     ]
    }
   ],
   "source": [
    "# appeding to a set -> Mutable Container -> Unordered & Unique Elements\n",
    "car_list = ['Taigun','Slavia','Verna','Thar','Innova','Defender','Lord Alto',\n",
    "            'Safari','Harrier','Bolero','XUV700','Altroz','Innova','Safari',\n",
    "            'Thar','Slavia','Verna','Verna','Slavia','Thar','Thar','Safari'\n",
    "           ]\n",
    "car_set = set() # empty set\n",
    "for car in car_list:\n",
    "    car_set.add(car) # car_set [Unordered , Unique Elements]\n",
    "\n",
    "print(car_set)"
   ]
  },
  {
   "cell_type": "code",
   "execution_count": 26,
   "id": "9fcd74c5-405e-42e2-b47c-43c3d778ef86",
   "metadata": {},
   "outputs": [
    {
     "name": "stdout",
     "output_type": "stream",
     "text": [
      "XUV700\n"
     ]
    }
   ],
   "source": [
    "# min / max -> Loops [alphabetical Order for a string]\n",
    "car_list = ('Taigun','Slavia','Verna','Thar','Innova','Defender','Lord Alto',\n",
    "            'Safari','Harrier','Bolero','XUV700','Altroz')\n",
    "max_element = car_list[0] # 'Taigun'\n",
    "for car in car_list:\n",
    "    if car > max_element:\n",
    "        max_element = car\n",
    "\n",
    "print(max_element) # 'XUV700'"
   ]
  },
  {
   "cell_type": "code",
   "execution_count": 27,
   "id": "0a809f92-54f1-4b4c-812e-5da7f0d1e0c7",
   "metadata": {},
   "outputs": [
    {
     "name": "stdout",
     "output_type": "stream",
     "text": [
      "-77\n"
     ]
    }
   ],
   "source": [
    "# -> min [Numerical _ List]\n",
    "_list = [55,99,121,91,999,-77,False,1221,77,29,100,1,5]\n",
    "min_val = float('inf') # extreme positive else [first_element]\n",
    "for val in _list:\n",
    "    if val < min_val:\n",
    "        min_val = val\n",
    "\n",
    "print(min_val) # -77"
   ]
  },
  {
   "cell_type": "code",
   "execution_count": 28,
   "id": "65cc7031-bca5-48fe-8a9e-47c7b886e419",
   "metadata": {},
   "outputs": [
    {
     "name": "stdout",
     "output_type": "stream",
     "text": [
      "-77\n"
     ]
    }
   ],
   "source": [
    "_list = [55,99,121,91,999,-77,False,1221,77,29,100,1,5]\n",
    "min_val = _list[0]\n",
    "for val in _list:\n",
    "    if val < min_val:\n",
    "        min_val = val\n",
    "\n",
    "print(min_val) # -77"
   ]
  },
  {
   "cell_type": "code",
   "execution_count": 31,
   "id": "2c097a8f-bb11-4d47-9394-18727353db51",
   "metadata": {},
   "outputs": [
    {
     "name": "stdout",
     "output_type": "stream",
     "text": [
      "inf\n",
      "-inf\n"
     ]
    }
   ],
   "source": [
    "print(float('inf'))\n",
    "print(float('-inf'))"
   ]
  },
  {
   "cell_type": "code",
   "execution_count": 32,
   "id": "778e21dc-9bd4-43e4-acd5-f1d5649389da",
   "metadata": {},
   "outputs": [
    {
     "name": "stdout",
     "output_type": "stream",
     "text": [
      "1221\n"
     ]
    }
   ],
   "source": [
    "# max_element\n",
    "_list = [55,99,121,91,999,-77,False,1221,77,29,100,1,5]\n",
    "max_val = float('-inf')\n",
    "for val in _list:\n",
    "    if val > max_val:\n",
    "        max_val = val\n",
    "\n",
    "print(max_val) # 1221"
   ]
  },
  {
   "cell_type": "code",
   "execution_count": 37,
   "id": "ea3c69c8-7e56-4404-b6f5-27525c0dd976",
   "metadata": {},
   "outputs": [
    {
     "name": "stdout",
     "output_type": "stream",
     "text": [
      "C o d i n g   N i n j a "
     ]
    }
   ],
   "source": [
    "# String Iteration -> Characters from it.\n",
    "string  = 'Coding Ninja'\n",
    "for char in string:\n",
    "    print(char , end = ' ')"
   ]
  },
  {
   "cell_type": "code",
   "execution_count": 38,
   "id": "a3e3c189-a044-456f-bb2a-ae83635537d6",
   "metadata": {},
   "outputs": [
    {
     "name": "stdout",
     "output_type": "stream",
     "text": [
      "0 1 2 3 4 5 6 7 8 9 "
     ]
    }
   ],
   "source": [
    "# slicing [start=0:stop=(len of a list)[non-inclusive]:step=1]\n",
    "# range(start,stop,step)\n",
    "for i in range(10): # 10 stop[non-inclusive] -> [0-9]\n",
    "    print(i , end = \" \")"
   ]
  },
  {
   "cell_type": "code",
   "execution_count": 40,
   "id": "2f60bd19-e18d-4aa1-addf-64d3d4433ee6",
   "metadata": {},
   "outputs": [
    {
     "name": "stdout",
     "output_type": "stream",
     "text": [
      "1 2 3 4 5 6 7 8 9 10 "
     ]
    }
   ],
   "source": [
    "for i in range(1, 11): \n",
    "    print(i , end = \" \") # 1 to 10"
   ]
  },
  {
   "cell_type": "code",
   "execution_count": 41,
   "id": "a4843654-6c6c-4d23-ba45-e74e0f256d32",
   "metadata": {},
   "outputs": [
    {
     "name": "stdout",
     "output_type": "stream",
     "text": [
      "1 3 5 7 9 "
     ]
    }
   ],
   "source": [
    "for i in range(1, 11, 2): \n",
    "    print(i , end = \" \") # Odd Elements"
   ]
  },
  {
   "cell_type": "code",
   "execution_count": 42,
   "id": "9aa2baa1-3a58-4ad2-8dba-90ee7cc1d88c",
   "metadata": {},
   "outputs": [
    {
     "name": "stdout",
     "output_type": "stream",
     "text": [
      "0 2 4 6 8 10 "
     ]
    }
   ],
   "source": [
    "for i in range(0, 11, 2): \n",
    "    print(i , end = \" \") # Even Elements"
   ]
  },
  {
   "cell_type": "code",
   "execution_count": 44,
   "id": "466b00bc-3304-4d7e-9846-b1b012eb2a3e",
   "metadata": {},
   "outputs": [
    {
     "name": "stdout",
     "output_type": "stream",
     "text": [
      "Taigun Slavia Verna Thar Innova Defender Lord Alto Safari Harrier Bolero XUV700 Altroz "
     ]
    }
   ],
   "source": [
    "car_tuple = ('Taigun','Slavia','Verna','Thar','Innova','Defender','Lord Alto',\n",
    "            'Safari','Harrier','Bolero','XUV700','Altroz')\n",
    "for car in car_tuple:\n",
    "    print(car , end = ' ')"
   ]
  },
  {
   "cell_type": "code",
   "execution_count": 48,
   "id": "c67d82c4-3fe7-4b47-b767-6ba986cbbb7d",
   "metadata": {},
   "outputs": [
    {
     "name": "stdout",
     "output_type": "stream",
     "text": [
      "12\n",
      "0 Taigun\n",
      "1 Slavia\n",
      "2 Verna\n",
      "3 Thar\n",
      "4 Innova\n",
      "5 Defender\n",
      "6 Lord Alto\n",
      "7 Safari\n",
      "8 Harrier\n",
      "9 Bolero\n",
      "10 XUV700\n",
      "11 Altroz\n"
     ]
    }
   ],
   "source": [
    "car_list = ['Taigun','Slavia','Verna','Thar','Innova','Defender','Lord Alto',\n",
    "            'Safari','Harrier','Bolero','XUV700','Altroz']\n",
    "stop = len(car_list) #\n",
    "print(stop) # 12\n",
    "for car in range(stop):\n",
    "    print(car , end = ' ')\n",
    "    print(car_list[car])"
   ]
  },
  {
   "cell_type": "code",
   "execution_count": 50,
   "id": "d5d6f122-eaa3-42d6-ae09-a83c044bd519",
   "metadata": {},
   "outputs": [
    {
     "name": "stdout",
     "output_type": "stream",
     "text": [
      "12\n",
      "0 1 2 3 4 5 6 7 8 9 10 11 \n",
      "['Taigun', 'Slavia', 'Verna', 'Thar', 'Innova', 'Defender', 'Lord Alto', 'Safari', 'Harrier', 'Bolero', 'XUV700', 'Altroz']\n"
     ]
    }
   ],
   "source": [
    "car_list = ['Taigun','Slavia','Verna','Thar','Innova','Defender','Lord Alto',\n",
    "            'Safari','Harrier','Bolero','XUV700','Altroz']\n",
    "new_car_list = []\n",
    "stop = len(car_list) #\n",
    "print(stop) # 12\n",
    "for car in range(stop):\n",
    "    print(car , end = ' ')\n",
    "    new_car_list.append(car_list[car])\n",
    "\n",
    "print()\n",
    "print(new_car_list)"
   ]
  },
  {
   "cell_type": "code",
   "execution_count": 52,
   "id": "c705b351-241d-48fc-96d2-9cfbc93743f4",
   "metadata": {},
   "outputs": [
    {
     "name": "stdout",
     "output_type": "stream",
     "text": [
      "12\n",
      "0 2 4 6 8 10 \n",
      "['Taigun', 'Verna', 'Innova', 'Lord Alto', 'Harrier', 'XUV700']\n"
     ]
    }
   ],
   "source": [
    "# Filling Alternative Car_list\n",
    "car_list = ['Taigun','Slavia','Verna','Thar','Innova','Defender','Lord Alto',\n",
    "            'Safari','Harrier','Bolero','XUV700','Altroz']\n",
    "alt_car_list = []\n",
    "stop = len(car_list) #\n",
    "print(stop) # 12\n",
    "for car in range(0,stop,2):\n",
    "    print(car , end = ' ')\n",
    "    alt_car_list.append(car_list[car])\n",
    "\n",
    "print()\n",
    "print(alt_car_list)"
   ]
  },
  {
   "cell_type": "code",
   "execution_count": 57,
   "id": "eec9c4f4-9e41-4c26-80b5-ff3f643effc6",
   "metadata": {},
   "outputs": [
    {
     "name": "stdout",
     "output_type": "stream",
     "text": [
      "12\n",
      "11 10 9 8 7 6 5 4 3 2 1 0 \n",
      "['Altroz', 'XUV700', 'Bolero', 'Harrier', 'Safari', 'Lord Alto', 'Defender', 'Innova', 'Thar', 'Verna', 'Slavia', 'Taigun']\n"
     ]
    }
   ],
   "source": [
    "# Filling Car_list in reverse order\n",
    "car_list = ['Taigun','Slavia','Verna','Thar','Innova','Defender','Lord Alto',\n",
    "            'Safari','Harrier','Bolero','XUV700','Altroz']\n",
    "rev_car_list = []\n",
    "stop = len(car_list) #\n",
    "print(stop) # 12\n",
    "for car in range(stop-1,-1,-1):\n",
    "    print(car , end = ' ')\n",
    "    rev_car_list.append(car_list[car])\n",
    "\n",
    "print()\n",
    "print(rev_car_list)"
   ]
  },
  {
   "cell_type": "code",
   "execution_count": 1,
   "id": "c19ce741-5544-4821-8b48-d1db964abb53",
   "metadata": {},
   "outputs": [
    {
     "name": "stdout",
     "output_type": "stream",
     "text": [
      "0 Taigun\n",
      "1 Slavia\n",
      "2 Verna\n",
      "3 Thar\n",
      "4 Innova\n",
      "5 Defender\n",
      "6 Lord Alto\n",
      "7 Safari\n",
      "8 Harrier\n",
      "9 Bolero\n",
      "10 XUV700\n",
      "11 Altroz\n"
     ]
    }
   ],
   "source": [
    "# Looping with Enumerate() -> index[position of an element] , value = enumerate()\n",
    "car_list = ['Taigun','Slavia','Verna','Thar','Innova','Defender','Lord Alto',\n",
    "            'Safari','Harrier','Bolero','XUV700','Altroz']\n",
    "for index , car_name in enumerate(car_list):\n",
    "    print(index, car_name)"
   ]
  },
  {
   "cell_type": "code",
   "execution_count": 12,
   "id": "57a21c08-3073-4bbe-b0c8-62a052612858",
   "metadata": {},
   "outputs": [
    {
     "name": "stdout",
     "output_type": "stream",
     "text": [
      "Taigun Slavia Verna Thar Innova Defender Lord Alto Safari Harrier Bolero XUV700 Altroz "
     ]
    }
   ],
   "source": [
    "car_list = ['Taigun','Slavia','Verna','Thar','Innova','Defender','Lord Alto',\n",
    "            'Safari','Harrier','Bolero','XUV700','Altroz']\n",
    "for index , car_name in enumerate(car_list): # (idx , value)\n",
    "    print(car_list[index], end = \" \")"
   ]
  },
  {
   "cell_type": "code",
   "execution_count": 10,
   "id": "88993b7d-f513-4296-9d7b-29a7f587c2d3",
   "metadata": {},
   "outputs": [
    {
     "name": "stdout",
     "output_type": "stream",
     "text": [
      "Taigun Slavia Verna Thar Innova Defender Lord Alto Safari Harrier Bolero XUV700 Altroz "
     ]
    }
   ],
   "source": [
    "# enumerates provides both the index and the values of an iterable.\n",
    "car_list = ['Taigun','Slavia','Verna','Thar','Innova','Defender','Lord Alto',\n",
    "            'Safari','Harrier','Bolero','XUV700','Altroz']\n",
    "for index , car  in enumerate(car_list):\n",
    "    print(car, end = \" \")"
   ]
  },
  {
   "cell_type": "code",
   "execution_count": 3,
   "id": "d7f1d2ef-3057-4e7c-8a69-5c0819c18ec6",
   "metadata": {},
   "outputs": [
    {
     "data": {
      "text/plain": [
       "dict_keys(['name', 'age', 'gender', 'city', 'Country'])"
      ]
     },
     "execution_count": 3,
     "metadata": {},
     "output_type": "execute_result"
    }
   ],
   "source": [
    "_dict = {\n",
    "    'name' : 'Aman',\n",
    "    'age' : 29,\n",
    "    'gender' : 'M',\n",
    "    'city' : 'Delhi',\n",
    "    'Country' : 'India'\n",
    "}\n",
    "_dict.keys()"
   ]
  },
  {
   "cell_type": "code",
   "execution_count": 4,
   "id": "465482bb-13b7-449e-b301-8709542db86f",
   "metadata": {},
   "outputs": [
    {
     "data": {
      "text/plain": [
       "dict_values(['Aman', 29, 'M', 'Delhi', 'India'])"
      ]
     },
     "execution_count": 4,
     "metadata": {},
     "output_type": "execute_result"
    }
   ],
   "source": [
    "_dict.values()"
   ]
  },
  {
   "cell_type": "code",
   "execution_count": 11,
   "id": "d811be43-8a1e-4f05-8cfe-397ac8db34b2",
   "metadata": {},
   "outputs": [
    {
     "data": {
      "text/plain": [
       "dict_items([('name', 'Aman'), ('age', 29), ('gender', 'M'), ('city', 'Delhi'), ('Country', 'India')])"
      ]
     },
     "execution_count": 11,
     "metadata": {},
     "output_type": "execute_result"
    }
   ],
   "source": [
    "_dict.items() # (key,value)pair"
   ]
  },
  {
   "cell_type": "code",
   "execution_count": 13,
   "id": "6e601f92-b829-46f6-a58d-43918408afce",
   "metadata": {},
   "outputs": [
    {
     "name": "stdout",
     "output_type": "stream",
     "text": [
      "('name', 'Aman')\n",
      "('age', 29)\n",
      "('gender', 'M')\n",
      "('city', 'Delhi')\n",
      "('Country', 'India')\n"
     ]
    }
   ],
   "source": [
    "for key , value in _dict.items() : \n",
    "    print((key,value))"
   ]
  },
  {
   "cell_type": "code",
   "execution_count": 16,
   "id": "c2961643-d77c-48c4-9595-6d45e25f713b",
   "metadata": {},
   "outputs": [
    {
     "name": "stdout",
     "output_type": "stream",
     "text": [
      "1 2 3 4 5 6 7 8 9 10 \n",
      "Loop Ended Successfully!\n"
     ]
    }
   ],
   "source": [
    "# Else in For Loops : \n",
    "for x in range(1,11):\n",
    "    print(x , end = \" \") # [1,2...10]\n",
    "else:\n",
    "    print()\n",
    "    print(\"Loop Ended Successfully!\")"
   ]
  },
  {
   "cell_type": "code",
   "execution_count": 17,
   "id": "3ce64644-e89f-4865-b727-ef8058cf1e2c",
   "metadata": {},
   "outputs": [
    {
     "name": "stdout",
     "output_type": "stream",
     "text": [
      "1 2 3 4 5 6 7 "
     ]
    }
   ],
   "source": [
    "# Break statement -> tries to break the loop abruptly\n",
    "for x in range(1,11):\n",
    "    print(x , end = \" \") # [1,2...10]\n",
    "    if x == 7 :\n",
    "        break\n",
    "else:\n",
    "    print()\n",
    "    print(\"Loop Ended Successfully!\")"
   ]
  },
  {
   "cell_type": "code",
   "execution_count": 19,
   "id": "86b85996-8957-4c60-bac1-f8df46884d6b",
   "metadata": {},
   "outputs": [
    {
     "name": "stdin",
     "output_type": "stream",
     "text": [
      "Enter the value of 'n' to calculate its factors :  12\n"
     ]
    },
    {
     "name": "stdout",
     "output_type": "stream",
     "text": [
      "2 3 4 6 "
     ]
    }
   ],
   "source": [
    "# Print all the factors of 'n':\n",
    "n = int(input(\"Enter the value of 'n' to calculate its factors : \"))\n",
    "for i in range(2,n):\n",
    "    if n % i == 0:\n",
    "        print(i , end = \" \")"
   ]
  },
  {
   "cell_type": "code",
   "execution_count": 20,
   "id": "72c85084-0606-49ad-be6b-19241b9abd9b",
   "metadata": {},
   "outputs": [
    {
     "name": "stdin",
     "output_type": "stream",
     "text": [
      "Enter the value of 'n' to calculate its factors :  87\n"
     ]
    },
    {
     "name": "stdout",
     "output_type": "stream",
     "text": [
      "3 29 "
     ]
    }
   ],
   "source": [
    "# Print all the factors of 'n':\n",
    "n = int(input(\"Enter the value of 'n' to calculate its factors : \"))\n",
    "for i in range(2,n):\n",
    "    if n % i == 0:\n",
    "        print(i , end = \" \")"
   ]
  },
  {
   "cell_type": "code",
   "execution_count": 23,
   "id": "a74d4772-1d8a-4753-b333-f4623892f0f2",
   "metadata": {},
   "outputs": [
    {
     "name": "stdin",
     "output_type": "stream",
     "text": [
      "Enter the value of 'n' to calculate its factors :  -11\n"
     ]
    },
    {
     "name": "stdout",
     "output_type": "stream",
     "text": [
      "-11 -1 "
     ]
    }
   ],
   "source": [
    "# Print all the factors of 'n':\n",
    "n = int(input(\"Enter the value of 'n' to calculate its factors : \"))\n",
    "if(n < 0): # negative\n",
    "    for i in range(n,0):\n",
    "        if n % i == 0:\n",
    "            print(i , end = \" \")\n",
    "else: # positive\n",
    "    for i in range(2,n):\n",
    "        if n % i == 0:\n",
    "            print(i , end = \" \")"
   ]
  },
  {
   "cell_type": "code",
   "execution_count": 24,
   "id": "0a2ff83f-109c-464a-bbb0-3432311d3253",
   "metadata": {},
   "outputs": [
    {
     "name": "stdin",
     "output_type": "stream",
     "text": [
      "Enter the value of 'n' to calculate its factors :  -16\n"
     ]
    },
    {
     "name": "stdout",
     "output_type": "stream",
     "text": [
      "-16 -8 -4 -2 -1 "
     ]
    }
   ],
   "source": [
    "# Print all the factors of 'n':\n",
    "n = int(input(\"Enter the value of 'n' to calculate its factors : \"))\n",
    "if(n < 0): # negative\n",
    "    for i in range(n,0):\n",
    "        if n % i == 0:\n",
    "            print(i , end = \" \")\n",
    "else: # positive\n",
    "    for i in range(2,n):\n",
    "        if n % i == 0:\n",
    "            print(i , end = \" \")"
   ]
  },
  {
   "cell_type": "raw",
   "id": "09c2c6f8-bb33-4bc5-9e12-3910da3f94f2",
   "metadata": {},
   "source": [
    "new_list = [expression for item in iterable (optional condition)]\n",
    "or\n",
    "new_list = [expression1 if condition else expression2 for item in iterable]"
   ]
  },
  {
   "cell_type": "code",
   "execution_count": 25,
   "id": "229bc0b6-af1b-4eb6-b5cf-54b0fae4b15c",
   "metadata": {},
   "outputs": [
    {
     "name": "stdout",
     "output_type": "stream",
     "text": [
      "1221\n"
     ]
    }
   ],
   "source": [
    "_list = [55,99,121,91,999,-77,False,1221,77,29,100,1,5]\n",
    "max_val = float('-inf')\n",
    "for val in _list:\n",
    "    if val > max_val:\n",
    "        max_val = val\n",
    "\n",
    "print(max_val) # 1221"
   ]
  },
  {
   "cell_type": "code",
   "execution_count": 26,
   "id": "e68e9626-d8a3-47d1-911c-ad87e85de790",
   "metadata": {},
   "outputs": [
    {
     "data": {
      "text/plain": [
       "1221"
      ]
     },
     "execution_count": 26,
     "metadata": {},
     "output_type": "execute_result"
    }
   ],
   "source": [
    "# walrus operator = \":=\" [Assigning value]\n",
    "# [expression1 if condition else expression2 for item in iterable]\n",
    "num_list = [55,99,121,91,999,-77,False,1221,77,29,100,1,5]\n",
    "max_number = num_list[0]\n",
    "[max_number := x if x > max_number else max_number for x in num_list]\n",
    "max_number"
   ]
  },
  {
   "cell_type": "code",
   "execution_count": 27,
   "id": "07af7380-e864-428a-9aaa-e1a41d0b5468",
   "metadata": {},
   "outputs": [
    {
     "data": {
      "text/plain": [
       "[3025, 9801, 14641, 8281, 998001, 5929, 0, 1490841, 5929, 841, 10000, 1, 25]"
      ]
     },
     "execution_count": 27,
     "metadata": {},
     "output_type": "execute_result"
    }
   ],
   "source": [
    "# new_list = [expression for item in iterable (optional condition)]\n",
    "num_list = [55,99,121,91,999,-77,False,1221,77,29,100,1,5]\n",
    "squared = [x ** 2 for x in num_list]\n",
    "squared"
   ]
  },
  {
   "cell_type": "code",
   "execution_count": 28,
   "id": "88df3e19-f194-4690-a98a-23eb9d856994",
   "metadata": {},
   "outputs": [
    {
     "data": {
      "text/plain": [
       "[65, 109, 131, 101, 1009, -67, 10, 1231, 87, 39, 110, 11, 15]"
      ]
     },
     "execution_count": 28,
     "metadata": {},
     "output_type": "execute_result"
    }
   ],
   "source": [
    "num_list = [55,99,121,91,999,-77,False,1221,77,29,100,1,5]\n",
    "add_10 = [x + 10 for x in num_list]\n",
    "add_10"
   ]
  },
  {
   "cell_type": "code",
   "execution_count": 30,
   "id": "68236025-da2f-4c47-a29b-76b4bd2408a0",
   "metadata": {},
   "outputs": [
    {
     "data": {
      "text/plain": [
       "[False, 100]"
      ]
     },
     "execution_count": 30,
     "metadata": {},
     "output_type": "execute_result"
    }
   ],
   "source": [
    "# new_list = [expression for item in iterable (optional condition)]\n",
    "num_list = [55,99,121,91,999,-77,False,1221,77,29,100,1,5]\n",
    "even_list = [x for x in num_list if (x % 2 == 0)]\n",
    "even_list"
   ]
  },
  {
   "cell_type": "code",
   "execution_count": 32,
   "id": "846ed5ab-bd9a-4558-ad3f-84b01307d3de",
   "metadata": {},
   "outputs": [
    {
     "data": {
      "text/plain": [
       "[55, 99, 121, 91, 999, -77, 1221, 77, 29, 1, 5]"
      ]
     },
     "execution_count": 32,
     "metadata": {},
     "output_type": "execute_result"
    }
   ],
   "source": [
    "# new_list = [expression for item in iterable (optional condition)]\n",
    "num_list = [55,99,121,91,999,-77,False,1221,77,29,100,1,5]\n",
    "odd_list = [odd for odd in num_list if (odd % 2 == 1)]\n",
    "odd_list"
   ]
  },
  {
   "cell_type": "code",
   "execution_count": 35,
   "id": "3742d1c6-571e-4ff7-bafa-068f69c35001",
   "metadata": {},
   "outputs": [
    {
     "name": "stdout",
     "output_type": "stream",
     "text": [
      "['Taigun', 'Slavia', 'Verna', 'Thar', 'Innova', 'Defender', 'Lord Alto', 'Safari', 'Curvv', 'Bolero', 'XUV700', 'Altroz'] "
     ]
    }
   ],
   "source": [
    "# Replaces the elements conditionally\n",
    "# [expression1 if condition else expression2 for item in iterable]\n",
    "car_list = ['Taigun','Slavia','Verna','Thar','Innova','Defender','Lord Alto',\n",
    "            'Safari','Harrier','Bolero','XUV700','Altroz']\n",
    "new_car_list = [car if car != 'Harrier' else 'Curvv' for car in car_list]\n",
    "print(new_car_list, end = \" \")"
   ]
  },
  {
   "cell_type": "code",
   "execution_count": 38,
   "id": "20ed7faa-3090-48f7-bfea-9c12ad9a9b52",
   "metadata": {},
   "outputs": [
    {
     "name": "stdout",
     "output_type": "stream",
     "text": [
      "['Taigun', 'Slavia', 'Verna', 'Thar', 'Innova', 'Defender', 'Lord Alto', 'Safari', 'Curvv', 'Bolero', 'XUV700', 'Altroz'] "
     ]
    }
   ],
   "source": [
    "car_list = ['Taigun','Slavia','Verna','Thar','Innova','Defender','Lord Alto',\n",
    "            'Safari','Harrier','Bolero','XUV700','Altroz']\n",
    "new_car_list = []\n",
    "for car in car_list:\n",
    "    if car != \"Harrier\":\n",
    "        new_car_list.append(car)\n",
    "    else :\n",
    "        new_car_list.append(\"Curvv\")\n",
    "print(new_car_list, end = \" \")"
   ]
  },
  {
   "cell_type": "code",
   "execution_count": 40,
   "id": "45ab4938-b44f-440b-a146-57481c614208",
   "metadata": {},
   "outputs": [
    {
     "data": {
      "text/plain": [
       "[(0, 0),\n",
       " (0, 1),\n",
       " (0, 2),\n",
       " (0, 3),\n",
       " (1, 0),\n",
       " (1, 1),\n",
       " (1, 2),\n",
       " (1, 3),\n",
       " (2, 0),\n",
       " (2, 1),\n",
       " (2, 2),\n",
       " (2, 3),\n",
       " (3, 0),\n",
       " (3, 1),\n",
       " (3, 2),\n",
       " (3, 3)]"
      ]
     },
     "execution_count": 40,
     "metadata": {},
     "output_type": "execute_result"
    }
   ],
   "source": [
    "# Multiple List in Comprehension:\n",
    "# Syntax : [exp1 for item1 in itr1 for item2 in itr2.... if conditon]\n",
    "[(i,j) for i in range(4) for j in range(4)]"
   ]
  },
  {
   "cell_type": "code",
   "execution_count": 42,
   "id": "6b26a1fb-ef01-4a43-9b08-fd8c9230260e",
   "metadata": {},
   "outputs": [
    {
     "data": {
      "text/plain": [
       "[(0, 0), (1, 1), (2, 2), (3, 3)]"
      ]
     },
     "execution_count": 42,
     "metadata": {},
     "output_type": "execute_result"
    }
   ],
   "source": [
    "[(i,j) for i in range(4) for j in range(4) if i == j]"
   ]
  },
  {
   "cell_type": "code",
   "execution_count": 45,
   "id": "2eb69a60-b3d1-40ec-9f33-844bbae7e921",
   "metadata": {},
   "outputs": [
    {
     "data": {
      "text/plain": [
       "[[0, 0, 0, 0], [0, 1, 2, 3], [0, 2, 4, 6], [0, 3, 6, 9]]"
      ]
     },
     "execution_count": 45,
     "metadata": {},
     "output_type": "execute_result"
    }
   ],
   "source": [
    "nested_list = [[i*j for i in range(4)] for j in range(4)]\n",
    "nested_list"
   ]
  },
  {
   "cell_type": "code",
   "execution_count": 46,
   "id": "d66acb1e-968e-4e51-bfe4-2febe888d8f5",
   "metadata": {},
   "outputs": [
    {
     "name": "stdout",
     "output_type": "stream",
     "text": [
      "<generator object <genexpr> at 0x00000161B3AED7D0>\n"
     ]
    }
   ],
   "source": [
    "# Generator Expression -> () instead []\n",
    "squared_generator = (x ** 2 for x in range(1,6)) # [1,4,9,16,25]\n",
    "print(squared_generator)"
   ]
  },
  {
   "cell_type": "code",
   "execution_count": 47,
   "id": "81391a39-89dc-40ba-81d4-d614fd5cb136",
   "metadata": {},
   "outputs": [
    {
     "data": {
      "text/plain": [
       "(1, 4, 9, 16, 25)"
      ]
     },
     "execution_count": 47,
     "metadata": {},
     "output_type": "execute_result"
    }
   ],
   "source": [
    "tuple(squared_generator)"
   ]
  },
  {
   "cell_type": "code",
   "execution_count": 48,
   "id": "ed5e3dc0-6ff9-4ecd-b04a-78cc83721009",
   "metadata": {},
   "outputs": [
    {
     "data": {
      "text/plain": [
       "[]"
      ]
     },
     "execution_count": 48,
     "metadata": {},
     "output_type": "execute_result"
    }
   ],
   "source": [
    "list(squared_generator)"
   ]
  },
  {
   "cell_type": "code",
   "execution_count": 49,
   "id": "91db662b-6265-4595-afbb-a9ab044f2fd2",
   "metadata": {},
   "outputs": [
    {
     "name": "stdout",
     "output_type": "stream",
     "text": [
      "<generator object <genexpr> at 0x00000161B3AEC380>\n"
     ]
    }
   ],
   "source": [
    "add_10_generator = (x + 10 for x in range(1,6)) # [11,12,13,14,15]\n",
    "print(add_10_generator)"
   ]
  },
  {
   "cell_type": "code",
   "execution_count": 50,
   "id": "e7e07859-e636-43bb-9de8-3f66cdac4d93",
   "metadata": {},
   "outputs": [
    {
     "data": {
      "text/plain": [
       "[11, 12, 13, 14, 15]"
      ]
     },
     "execution_count": 50,
     "metadata": {},
     "output_type": "execute_result"
    }
   ],
   "source": [
    "list(add_10_generator)"
   ]
  },
  {
   "cell_type": "code",
   "execution_count": 51,
   "id": "f3070407-4027-4eb1-9735-1632911441ec",
   "metadata": {},
   "outputs": [
    {
     "data": {
      "text/plain": [
       "()"
      ]
     },
     "execution_count": 51,
     "metadata": {},
     "output_type": "execute_result"
    }
   ],
   "source": [
    "tuple(add_10_generator)"
   ]
  },
  {
   "cell_type": "code",
   "execution_count": 52,
   "id": "95e5dc6a-0c55-460a-b820-d9ece83979e2",
   "metadata": {},
   "outputs": [
    {
     "name": "stdout",
     "output_type": "stream",
     "text": [
      "<generator object <genexpr> at 0x00000161B3AEEE90>\n"
     ]
    }
   ],
   "source": [
    "add_10_generator = ((x,x + 10) for x in range(1,6)) # [11,12,13,14,15]\n",
    "print(add_10_generator)"
   ]
  },
  {
   "cell_type": "code",
   "execution_count": 53,
   "id": "5ec0b717-b453-4baf-ae44-81ecea0c4908",
   "metadata": {},
   "outputs": [
    {
     "data": {
      "text/plain": [
       "{1: 11, 2: 12, 3: 13, 4: 14, 5: 15}"
      ]
     },
     "execution_count": 53,
     "metadata": {},
     "output_type": "execute_result"
    }
   ],
   "source": [
    "dict(add_10_generator)"
   ]
  },
  {
   "cell_type": "code",
   "execution_count": 55,
   "id": "e1dee6ea-299a-4229-bc83-895baffcbc4d",
   "metadata": {},
   "outputs": [
    {
     "data": {
      "text/plain": [
       "{11: 121,\n",
       " 22: 484,\n",
       " 33: 1089,\n",
       " 44: 1936,\n",
       " 55: 3025,\n",
       " 66: 4356,\n",
       " 77: 5929,\n",
       " 88: 7744,\n",
       " 99: 9801}"
      ]
     },
     "execution_count": 55,
     "metadata": {},
     "output_type": "execute_result"
    }
   ],
   "source": [
    "key_generator = (x for x in range (11,100,11))\n",
    "value_generator = (x ** 2 for x in range(11,100,11))\n",
    "dict(zip(key_generator , value_generator))"
   ]
  },
  {
   "cell_type": "raw",
   "id": "ecf2afd7-25e3-44f7-90d4-a89e188cf488",
   "metadata": {},
   "source": [
    "for outer_item in outer_sequence:\n",
    "    # Outer loop Body\n",
    "    for inner_item in inner_sequence:\n",
    "        # Inner loop Body"
   ]
  },
  {
   "cell_type": "code",
   "execution_count": 56,
   "id": "726553bc-f060-407a-942d-f77016befb5c",
   "metadata": {},
   "outputs": [
    {
     "name": "stdout",
     "output_type": "stream",
     "text": [
      "11 X 1 = 11\n",
      "11 X 2 = 22\n",
      "11 X 3 = 33\n",
      "11 X 4 = 44\n",
      "11 X 5 = 55\n",
      "11 X 6 = 66\n",
      "11 X 7 = 77\n",
      "11 X 8 = 88\n",
      "11 X 9 = 99\n",
      "11 X 10 = 110\n"
     ]
    }
   ],
   "source": [
    "for i in range(11,12): # i = [11]\n",
    "    for j in range (1,11): # j = [1,2,3....10]\n",
    "        print(f\"{i} X {j} = {i*j}\")"
   ]
  },
  {
   "cell_type": "code",
   "execution_count": 65,
   "id": "28ae3637-de45-4a28-bfd0-b63ac3565ed2",
   "metadata": {},
   "outputs": [
    {
     "name": "stdout",
     "output_type": "stream",
     "text": [
      "Mutliplication Table for value: 11 -> \n",
      "11 X 1 = 11\n",
      "11 X 2 = 22\n",
      "11 X 3 = 33\n",
      "11 X 4 = 44\n",
      "11 X 5 = 55\n",
      "11 X 6 = 66\n",
      "11 X 7 = 77\n",
      "11 X 8 = 88\n",
      "11 X 9 = 99\n",
      "11 X 10 = 110\n",
      "\n",
      "Mutliplication Table for value: 12 -> \n",
      "12 X 1 = 12\n",
      "12 X 2 = 24\n",
      "12 X 3 = 36\n",
      "12 X 4 = 48\n",
      "12 X 5 = 60\n",
      "12 X 6 = 72\n",
      "12 X 7 = 84\n",
      "12 X 8 = 96\n",
      "12 X 9 = 108\n",
      "12 X 10 = 120\n",
      "\n",
      "Mutliplication Table for value: 13 -> \n",
      "13 X 1 = 13\n",
      "13 X 2 = 26\n",
      "13 X 3 = 39\n",
      "13 X 4 = 52\n",
      "13 X 5 = 65\n",
      "13 X 6 = 78\n",
      "13 X 7 = 91\n",
      "13 X 8 = 104\n",
      "13 X 9 = 117\n",
      "13 X 10 = 130\n",
      "\n",
      "Mutliplication Table for value: 14 -> \n",
      "14 X 1 = 14\n",
      "14 X 2 = 28\n",
      "14 X 3 = 42\n",
      "14 X 4 = 56\n",
      "14 X 5 = 70\n",
      "14 X 6 = 84\n",
      "14 X 7 = 98\n",
      "14 X 8 = 112\n",
      "14 X 9 = 126\n",
      "14 X 10 = 140\n",
      "\n",
      "Mutliplication Table for value: 15 -> \n",
      "15 X 1 = 15\n",
      "15 X 2 = 30\n",
      "15 X 3 = 45\n",
      "15 X 4 = 60\n",
      "15 X 5 = 75\n",
      "15 X 6 = 90\n",
      "15 X 7 = 105\n",
      "15 X 8 = 120\n",
      "15 X 9 = 135\n",
      "15 X 10 = 150\n",
      "\n",
      "Mutliplication Table for value: 16 -> \n",
      "16 X 1 = 16\n",
      "16 X 2 = 32\n",
      "16 X 3 = 48\n",
      "16 X 4 = 64\n",
      "16 X 5 = 80\n",
      "16 X 6 = 96\n",
      "16 X 7 = 112\n",
      "16 X 8 = 128\n",
      "16 X 9 = 144\n",
      "16 X 10 = 160\n",
      "\n",
      "Mutliplication Table for value: 17 -> \n",
      "17 X 1 = 17\n",
      "17 X 2 = 34\n",
      "17 X 3 = 51\n",
      "17 X 4 = 68\n",
      "17 X 5 = 85\n",
      "17 X 6 = 102\n",
      "17 X 7 = 119\n",
      "17 X 8 = 136\n",
      "17 X 9 = 153\n",
      "17 X 10 = 170\n",
      "\n",
      "Mutliplication Table for value: 18 -> \n",
      "18 X 1 = 18\n",
      "18 X 2 = 36\n",
      "18 X 3 = 54\n",
      "18 X 4 = 72\n",
      "18 X 5 = 90\n",
      "18 X 6 = 108\n",
      "18 X 7 = 126\n",
      "18 X 8 = 144\n",
      "18 X 9 = 162\n",
      "18 X 10 = 180\n",
      "\n",
      "Mutliplication Table for value: 19 -> \n",
      "19 X 1 = 19\n",
      "19 X 2 = 38\n",
      "19 X 3 = 57\n",
      "19 X 4 = 76\n",
      "19 X 5 = 95\n",
      "19 X 6 = 114\n",
      "19 X 7 = 133\n",
      "19 X 8 = 152\n",
      "19 X 9 = 171\n",
      "19 X 10 = 190\n",
      "\n",
      "Mutliplication Table for value: 20 -> \n",
      "20 X 1 = 20\n",
      "20 X 2 = 40\n",
      "20 X 3 = 60\n",
      "20 X 4 = 80\n",
      "20 X 5 = 100\n",
      "20 X 6 = 120\n",
      "20 X 7 = 140\n",
      "20 X 8 = 160\n",
      "20 X 9 = 180\n",
      "20 X 10 = 200\n",
      "\n"
     ]
    }
   ],
   "source": [
    "for i in range(11,21): # i = [11,....20]\n",
    "    # Outer Loop [i]\n",
    "    print(f\"Mutliplication Table for value: {i} -> \")\n",
    "    for j in range (1,11): # j = [1,2,3....10]\n",
    "        print(f\"{i} X {j} = {i*j}\" , end = \"\\n\")\n",
    "    print()"
   ]
  },
  {
   "cell_type": "code",
   "execution_count": 60,
   "id": "69498380-f10c-493d-bf24-a945368511fc",
   "metadata": {},
   "outputs": [
    {
     "data": {
      "text/plain": [
       "[(0, 0),\n",
       " (0, 1),\n",
       " (0, 2),\n",
       " (0, 3),\n",
       " (1, 0),\n",
       " (1, 1),\n",
       " (1, 2),\n",
       " (1, 3),\n",
       " (2, 0),\n",
       " (2, 1),\n",
       " (2, 2),\n",
       " (2, 3),\n",
       " (3, 0),\n",
       " (3, 1),\n",
       " (3, 2),\n",
       " (3, 3)]"
      ]
     },
     "execution_count": 60,
     "metadata": {},
     "output_type": "execute_result"
    }
   ],
   "source": [
    "[(i,j) for i in range(4) for j in range(4)]"
   ]
  },
  {
   "cell_type": "code",
   "execution_count": 63,
   "id": "dfe90309-ce94-4b50-87a2-e2787069f9af",
   "metadata": {},
   "outputs": [
    {
     "name": "stdout",
     "output_type": "stream",
     "text": [
      "(0, 0)(0, 1)(0, 2)(0, 3)(1, 0)(1, 1)(1, 2)(1, 3)(2, 0)(2, 1)(2, 2)(2, 3)(3, 0)(3, 1)(3, 2)(3, 3)"
     ]
    }
   ],
   "source": [
    "for i in range(4):\n",
    "    for j in range(4):\n",
    "        print((i,j) , end = \"\")"
   ]
  },
  {
   "cell_type": "code",
   "execution_count": 66,
   "id": "902f6284-c790-48bf-8d48-00e64702f8c1",
   "metadata": {},
   "outputs": [
    {
     "name": "stdout",
     "output_type": "stream",
     "text": [
      "['Taigun', 'Slavia', 'Verna']\n",
      "['Thar', 'Innova', 'Defender']\n",
      "['Lord Alto', 'Safari', 'Harrier']\n",
      "['Bolero', 'XUV700', 'Altroz']\n"
     ]
    }
   ],
   "source": [
    "car_list = [\n",
    "    ['Taigun','Slavia','Verna'],\n",
    "    ['Thar','Innova','Defender'],\n",
    "    ['Lord Alto','Safari','Harrier'],\n",
    "    ['Bolero','XUV700','Altroz']\n",
    "]\n",
    "for row in car_list :\n",
    "    print(row)"
   ]
  },
  {
   "cell_type": "code",
   "execution_count": 72,
   "id": "a4a886e6-9fb0-42f4-9c02-70fc133d52fc",
   "metadata": {},
   "outputs": [
    {
     "name": "stdout",
     "output_type": "stream",
     "text": [
      "Taigun Slavia Verna \n",
      "Thar Innova Defender \n",
      "Lord Alto Safari Harrier \n",
      "Bolero XUV700 Altroz \n"
     ]
    }
   ],
   "source": [
    "car_list = [\n",
    "    ['Taigun','Slavia','Verna'],\n",
    "    ['Thar','Innova','Defender'],\n",
    "    ['Lord Alto','Safari','Harrier'],\n",
    "    ['Bolero','XUV700','Altroz']\n",
    "]\n",
    "for row in car_list :\n",
    "    for car in row:\n",
    "        print(car , end = \" \")\n",
    "    print()"
   ]
  },
  {
   "cell_type": "code",
   "execution_count": 73,
   "id": "8fe77a0c-d689-4760-ab2a-08917a5cc4ac",
   "metadata": {},
   "outputs": [
    {
     "data": {
      "text/plain": [
       "['Taigun',\n",
       " 'Slavia',\n",
       " 'Verna',\n",
       " 'Thar',\n",
       " 'Innova',\n",
       " 'Defender',\n",
       " 'Lord Alto',\n",
       " 'Safari',\n",
       " 'Harrier',\n",
       " 'Bolero',\n",
       " 'XUV700',\n",
       " 'Altroz']"
      ]
     },
     "execution_count": 73,
     "metadata": {},
     "output_type": "execute_result"
    }
   ],
   "source": [
    "car_list = [\n",
    "    ['Taigun','Slavia','Verna'],\n",
    "    ['Thar','Innova','Defender'],\n",
    "    ['Lord Alto','Safari','Harrier'],\n",
    "    ['Bolero','XUV700','Altroz']\n",
    "]\n",
    "flatten_car_list = []\n",
    "for row in car_list :\n",
    "    for car in row:\n",
    "        flatten_car_list.append(car)\n",
    "flatten_car_list"
   ]
  },
  {
   "cell_type": "code",
   "execution_count": 81,
   "id": "671504a8-a17d-4f9d-b7c5-3e6c8e0c1f0d",
   "metadata": {},
   "outputs": [
    {
     "data": {
      "text/plain": [
       "[['Verna', 'Slavia', 'Taigun'],\n",
       " ['Defender', 'Innova', 'Thar'],\n",
       " ['Harrier', 'Safari', 'Lord Alto'],\n",
       " ['Altroz', 'XUV700', 'Bolero']]"
      ]
     },
     "execution_count": 81,
     "metadata": {},
     "output_type": "execute_result"
    }
   ],
   "source": [
    "car_list = [\n",
    "    ['Taigun','Slavia','Verna'],\n",
    "    ['Thar','Innova','Defender'],\n",
    "    ['Lord Alto','Safari','Harrier'],\n",
    "    ['Bolero','XUV700','Altroz']\n",
    "]\n",
    "new_car_list = []\n",
    "for row in car_list :\n",
    "    reversed_row = row[::-1]\n",
    "    new_car_list.append(reversed_row)\n",
    "\n",
    "new_car_list"
   ]
  },
  {
   "cell_type": "code",
   "execution_count": 87,
   "id": "9adbc09e-b8f3-411d-97d1-622137539ece",
   "metadata": {},
   "outputs": [
    {
     "data": {
      "text/plain": [
       "[['Taigun', 'Slavia', 'Verna'],\n",
       " ['Thar', 'Innova', 'Defender'],\n",
       " ['Lord Alto', 'Safari', 'Harrier'],\n",
       " ['Bolero', 'XUV700', 'Altroz']]"
      ]
     },
     "execution_count": 87,
     "metadata": {},
     "output_type": "execute_result"
    }
   ],
   "source": [
    "car_list = [\n",
    "    ['Taigun','Slavia','Verna'],\n",
    "    ['Thar','Innova','Defender'],\n",
    "    ['Lord Alto','Safari','Harrier'],\n",
    "    ['Bolero','XUV700','Altroz']\n",
    "]\n",
    "new_car_list = []\n",
    "for row in car_list :\n",
    "   new_car_list.append(row)\n",
    "new_car_list"
   ]
  },
  {
   "cell_type": "code",
   "execution_count": 86,
   "id": "87fddaf4-ec6a-4e75-8aac-69af6698c103",
   "metadata": {},
   "outputs": [
    {
     "name": "stdout",
     "output_type": "stream",
     "text": [
      "['Altroz', 'XUV700', 'Bolero', 'Harrier', 'Safari', 'Lord Alto', 'Defender', 'Innova', 'Thar', 'Verna', 'Slavia', 'Taigun']\n"
     ]
    }
   ],
   "source": [
    "car_list = [\n",
    "    ['Taigun','Slavia','Verna'],\n",
    "    ['Thar','Innova','Defender'],\n",
    "    ['Lord Alto','Safari','Harrier'],\n",
    "    ['Bolero','XUV700','Altroz']\n",
    "]\n",
    "flatten_car_list = []\n",
    "for row in car_list :\n",
    "    for car in row:\n",
    "        flatten_car_list.append(car)\n",
    "print(flatten_car_list[::-1])"
   ]
  },
  {
   "cell_type": "raw",
   "id": "1c5763cd-4ff4-4505-8438-80a5b89da126",
   "metadata": {},
   "source": [
    "# While Loop\n",
    "while condition:\n",
    "    # Code block to be executed repeatedly...."
   ]
  },
  {
   "cell_type": "code",
   "execution_count": 1,
   "id": "72463d49-682d-480b-9906-f97f091358d2",
   "metadata": {},
   "outputs": [
    {
     "name": "stdout",
     "output_type": "stream",
     "text": [
      " 10 : Hello World!\n",
      " 9 : Hello World!\n",
      " 8 : Hello World!\n",
      " 7 : Hello World!\n",
      " 6 : Hello World!\n",
      " 5 : Hello World!\n",
      " 4 : Hello World!\n",
      " 3 : Hello World!\n",
      " 2 : Hello World!\n",
      " 1 : Hello World!\n"
     ]
    }
   ],
   "source": [
    "val = 10\n",
    "while val >=1: # True -> At val = 0 : condition Break [False]\n",
    "    print(f\" {val} : Hello World!\")\n",
    "    val = val - 1"
   ]
  },
  {
   "cell_type": "code",
   "execution_count": 2,
   "id": "4ac5415a-0a14-499c-a9b2-8ef2248073af",
   "metadata": {},
   "outputs": [
    {
     "data": {
      "text/plain": [
       "12"
      ]
     },
     "execution_count": 2,
     "metadata": {},
     "output_type": "execute_result"
    }
   ],
   "source": [
    "car_list = ['Taigun','Slavia','Verna','Thar','Innova','Defender','Lord Alto',\n",
    "            'Safari','Harrier','Bolero','XUV700','Altroz']\n",
    "len(car_list)"
   ]
  },
  {
   "cell_type": "code",
   "execution_count": 4,
   "id": "3d5dbbb3-ade6-427c-99c6-36a0999d47f4",
   "metadata": {},
   "outputs": [
    {
     "name": "stdout",
     "output_type": "stream",
     "text": [
      "Taigun Slavia Verna Thar Innova Defender Lord Alto Safari Harrier Bolero XUV700 Altroz "
     ]
    }
   ],
   "source": [
    "idx = 0\n",
    "while idx < len(car_list): # 12\n",
    "    print(car_list[idx] , end = \" \")\n",
    "    idx = idx + 1"
   ]
  },
  {
   "cell_type": "code",
   "execution_count": 5,
   "id": "cd6fff2d-3020-4f6a-923e-3eaa6d308cb1",
   "metadata": {},
   "outputs": [
    {
     "name": "stdout",
     "output_type": "stream",
     "text": [
      "Taigun Slavia Verna Thar Innova Defender Lord Alto Safari Harrier Bolero XUV700 Altroz "
     ]
    }
   ],
   "source": [
    "for car in car_list :\n",
    "    print(car , end = \" \")"
   ]
  },
  {
   "cell_type": "code",
   "execution_count": 7,
   "id": "d411cbe9-ee98-49c9-97db-9c0afbbb7bd3",
   "metadata": {},
   "outputs": [
    {
     "name": "stdout",
     "output_type": "stream",
     "text": [
      "Taigun Slavia Verna Thar Innova Defender Lord Alto Safari Harrier Bolero XUV700 Altroz "
     ]
    }
   ],
   "source": [
    "idx = 0\n",
    "while idx < len(car_list): # 12\n",
    "    print(car_list[idx] , end = \" \")\n",
    "    idx+=1"
   ]
  },
  {
   "cell_type": "code",
   "execution_count": 8,
   "id": "6be88996-3a4d-4b36-a4a2-66ce9c2947e4",
   "metadata": {},
   "outputs": [
    {
     "name": "stdin",
     "output_type": "stream",
     "text": [
      "Enter the value :  5\n"
     ]
    },
    {
     "name": "stdout",
     "output_type": "stream",
     "text": [
      "0 is an even value\n",
      "1 is an odd value\n",
      "2 is an even value\n",
      "3 is an odd value\n",
      "4 is an even value\n",
      "5 is an odd value\n"
     ]
    }
   ],
   "source": [
    "# Range -> Even or odd : if-else with Loop [while]\n",
    "val = int(input(\"Enter the value : \"))\n",
    "counter = 0\n",
    "while counter <= val:\n",
    "    if counter % 2 == 0: # Even \n",
    "        print(f\"{counter} is an even value\")\n",
    "    else: # Odd\n",
    "        print(f\"{counter} is an odd value\")\n",
    "    counter+=1   "
   ]
  },
  {
   "cell_type": "code",
   "execution_count": 9,
   "id": "0a071033-080d-42a7-ad81-820f615160ce",
   "metadata": {},
   "outputs": [
    {
     "name": "stdin",
     "output_type": "stream",
     "text": [
      "Enter the value :  7\n"
     ]
    },
    {
     "name": "stdout",
     "output_type": "stream",
     "text": [
      "0 is an even value\n",
      "1 is an odd value\n",
      "2 is an even value\n",
      "3 is an odd value\n",
      "4 is an even value\n",
      "5 is an odd value\n",
      "6 is an even value\n",
      "7 is an odd value\n"
     ]
    }
   ],
   "source": [
    "# Range -> Even or odd : if-else with Loop [while]\n",
    "val = int(input(\"Enter the value : \"))\n",
    "counter = 0\n",
    "while counter <= val:\n",
    "    if counter % 2 == 0: # Even \n",
    "        print(f\"{counter} is an even value\")\n",
    "        counter+=1 \n",
    "    else: # Odd\n",
    "        print(f\"{counter} is an odd value\")\n",
    "        counter+=1 "
   ]
  },
  {
   "cell_type": "raw",
   "id": "14e3f52a-918b-498e-9e08-1fbd8832de8e",
   "metadata": {},
   "source": [
    "# Range -> Even or odd : if-else with Loop [while]\n",
    "val = int(input(\"Enter the value : \"))\n",
    "counter = 0\n",
    "while counter <= val:\n",
    "    if counter % 2 == 0: # Even \n",
    "        print(f\"{counter} is an even value\")\n",
    "    else: # Odd\n",
    "        print(f\"{counter} is an odd value\")\n",
    "counter+=1 # Infinite Loop "
   ]
  },
  {
   "cell_type": "code",
   "execution_count": 12,
   "id": "90bfde87-4231-47dc-ac4b-bdcca376118d",
   "metadata": {},
   "outputs": [
    {
     "name": "stdin",
     "output_type": "stream",
     "text": [
      "Enter the value :  5\n"
     ]
    },
    {
     "name": "stdout",
     "output_type": "stream",
     "text": [
      "120\n"
     ]
    }
   ],
   "source": [
    "val = int(input(\"Enter the value : \"))\n",
    "multiplier = 1\n",
    "counter = 1\n",
    "while counter <= val:\n",
    "    multiplier = multiplier * counter\n",
    "    counter+=1\n",
    "print(multiplier)"
   ]
  },
  {
   "cell_type": "code",
   "execution_count": 13,
   "id": "20c8d564-95fb-4740-a6e7-c921e3386a82",
   "metadata": {},
   "outputs": [
    {
     "name": "stdout",
     "output_type": "stream",
     "text": [
      "10 9 8 7 "
     ]
    }
   ],
   "source": [
    "# While - Else [works if the loop runs successfully]\n",
    "val = 10\n",
    "while True:\n",
    "    if val == 6:\n",
    "        break\n",
    "    print(val , end = \" \")\n",
    "    val = val - 1\n",
    "else:\n",
    "    print(\"Loop Runs Successfully!\") # This line won't run as the loop breaks abruptly."
   ]
  },
  {
   "cell_type": "code",
   "execution_count": 16,
   "id": "fd48647d-a4dc-4b57-a1e4-5235b1b5140e",
   "metadata": {},
   "outputs": [
    {
     "name": "stdout",
     "output_type": "stream",
     "text": [
      "10 9 8 7 6 "
     ]
    }
   ],
   "source": [
    "# While - Else [works if the loop runs successfully]\n",
    "val = 10\n",
    "while val >= 1:\n",
    "    print(val, end = \" \")\n",
    "    if val == 6:\n",
    "        break\n",
    "    val = val - 1\n",
    "else:\n",
    "    print(\"Loop Runs Successfully!\") # This line won't run as the loop breaks abruptly."
   ]
  },
  {
   "cell_type": "code",
   "execution_count": 15,
   "id": "4d8337ee-e23b-4f58-b1ad-46b6a20fc991",
   "metadata": {},
   "outputs": [
    {
     "name": "stdout",
     "output_type": "stream",
     "text": [
      "10 9 8 7 6 5 4 3 2 1 \n",
      "Loop Runs Successfully!\n"
     ]
    }
   ],
   "source": [
    "val = 10\n",
    "while val >= 1:\n",
    "    print(val, end = \" \")\n",
    "    val = val - 1\n",
    "else:\n",
    "    print()\n",
    "    print(\"Loop Runs Successfully!\") # Works"
   ]
  },
  {
   "cell_type": "code",
   "execution_count": 19,
   "id": "29566414-1370-4cd6-960a-14bd3e56bdd6",
   "metadata": {},
   "outputs": [
    {
     "name": "stdout",
     "output_type": "stream",
     "text": [
      "1 3 5 7 9 11 "
     ]
    }
   ],
   "source": [
    "# Shorthand Single Line While\n",
    "val = 1\n",
    "while val <= 11: print(val , end = \" \"); val +=2 # odd value print"
   ]
  },
  {
   "cell_type": "raw",
   "id": "39ae5ddd-1566-4141-a732-a02e56c7d208",
   "metadata": {},
   "source": [
    "Syntax of Nested While loop : \n",
    "while Outer conditions : \n",
    "    # Outer loop Body\n",
    "    while inner conditions : \n",
    "        # Inner Loop Body"
   ]
  },
  {
   "cell_type": "code",
   "execution_count": 23,
   "id": "80debc58-9204-4daa-9560-c725eb4407c3",
   "metadata": {},
   "outputs": [
    {
     "name": "stdout",
     "output_type": "stream",
     "text": [
      "(0, 0)\t(0, 1)\t(0, 2)\t(0, 3)\t(0, 4)\t\n",
      "(1, 0)\t(1, 1)\t(1, 2)\t(1, 3)\t(1, 4)\t\n",
      "(2, 0)\t(2, 1)\t(2, 2)\t(2, 3)\t(2, 4)\t\n",
      "(3, 0)\t(3, 1)\t(3, 2)\t(3, 3)\t(3, 4)\t\n",
      "(4, 0)\t(4, 1)\t(4, 2)\t(4, 3)\t(4, 4)\t\n",
      "5*5 Matrix printted Successfully!\n"
     ]
    }
   ],
   "source": [
    "# 5 X 5  Matrix \n",
    "i = 0\n",
    "while i<5:\n",
    "    j = 0\n",
    "    while j < 5:\n",
    "        print(f\"{i,j}\" , end = \"\\t\")\n",
    "        j = j + 1\n",
    "    print()\n",
    "    i = i + 1\n",
    "print(\"5*5 Matrix printted Successfully!\")"
   ]
  },
  {
   "cell_type": "code",
   "execution_count": 24,
   "id": "5619fdb8-d15a-4cb7-9585-750521d3d845",
   "metadata": {},
   "outputs": [
    {
     "name": "stdout",
     "output_type": "stream",
     "text": [
      "0\t0\t0\t0\t0\t\n",
      "0\t1\t2\t3\t4\t\n",
      "0\t2\t4\t6\t8\t\n",
      "0\t3\t6\t9\t12\t\n",
      "0\t4\t8\t12\t16\t\n",
      "5*5 Matrix printted Successfully!\n"
     ]
    }
   ],
   "source": [
    "# 5 X 5  Matrix \n",
    "i = 0\n",
    "while i<5:\n",
    "    j = 0\n",
    "    while j < 5:\n",
    "        print(f\"{i*j}\" , end = \"\\t\")\n",
    "        j = j + 1\n",
    "    print()\n",
    "    i = i + 1\n",
    "print(\"5*5 Matrix printted Successfully!\")"
   ]
  },
  {
   "cell_type": "raw",
   "id": "d1cbc810-e3f7-4e2a-99b1-8b6da8ed2efd",
   "metadata": {},
   "source": [
    "Syntax : \n",
    "while Loop:\n",
    "    if cond : \n",
    "        break\n",
    "for iterators in iterables : \n",
    "    if cond :\n",
    "        break"
   ]
  },
  {
   "cell_type": "code",
   "execution_count": 25,
   "id": "f943cdee-c63d-4832-b8c1-5ba3877d6c25",
   "metadata": {},
   "outputs": [
    {
     "name": "stdout",
     "output_type": "stream",
     "text": [
      "Taigun Slavia Verna Thar Innova Defender Lord Alto Safari Harrier Bolero "
     ]
    }
   ],
   "source": [
    "car_list = ['Taigun','Slavia','Verna','Thar','Innova','Defender','Lord Alto',\n",
    "            'Safari','Harrier','Bolero','XUV700','Altroz']\n",
    "for car in car_list :\n",
    "    if car == 'XUV700':\n",
    "        break\n",
    "    print(car , end = \" \")\n",
    "else:\n",
    "    print(\"Car iterated Successfully ....\")"
   ]
  },
  {
   "cell_type": "code",
   "execution_count": 33,
   "id": "583aea3f-8c7b-417c-805c-559c4116d165",
   "metadata": {},
   "outputs": [
    {
     "name": "stdout",
     "output_type": "stream",
     "text": [
      "Taigun Slavia Verna Thar \n",
      "Hello Car Lovers :) \n"
     ]
    }
   ],
   "source": [
    "car_list = ['Taigun','Slavia','Verna','Thar','Innova','Defender','Lord Alto',\n",
    "            'Safari','Harrier','Bolero','XUV700','Altroz']\n",
    "for car in car_list :\n",
    "    if car == 'Innova':\n",
    "        break\n",
    "    print(car , end = \" \")\n",
    "else:\n",
    "    print(\"Car iterated Successfully ....\")\n",
    "\n",
    "print()\n",
    "print(\"Hello Car Lovers :) \")"
   ]
  },
  {
   "cell_type": "code",
   "execution_count": 29,
   "id": "74974d96-cbba-4249-bfa9-77d2bc0aad93",
   "metadata": {},
   "outputs": [
    {
     "name": "stdout",
     "output_type": "stream",
     "text": [
      "Taigun Slavia Verna Thar Defender Safari Harrier Bolero XUV700 Altroz \n",
      "Car iterated Successfully ....\n"
     ]
    }
   ],
   "source": [
    "car_list = ['Taigun','Slavia','Verna','Thar','Innova','Defender','Lord Alto',\n",
    "            'Safari','Harrier','Bolero','XUV700','Altroz']\n",
    "for car in car_list :\n",
    "    if (car == 'Innova') or car == ('Lord Alto'):\n",
    "        continue\n",
    "    print(car , end = \" \")\n",
    "else:\n",
    "    print()\n",
    "    print(\"Car iterated Successfully ....\")"
   ]
  },
  {
   "cell_type": "code",
   "execution_count": 35,
   "id": "7ac0b050-2a05-4089-81b8-551bcfa0c469",
   "metadata": {},
   "outputs": [
    {
     "name": "stdout",
     "output_type": "stream",
     "text": [
      "Taigun Slavia Verna Thar Defender Safari Harrier Bolero XUV700 Altroz \n",
      "['Taigun', 'Slavia', 'Verna', 'Thar', 'Defender', 'Safari', 'Harrier', 'Bolero', 'XUV700', 'Altroz'] "
     ]
    }
   ],
   "source": [
    "car_list = ['Taigun','Slavia','Verna','Thar','Innova','Defender','Lord Alto',\n",
    "            'Safari','Harrier','Bolero','XUV700','Altroz']\n",
    "fav_car_list = []\n",
    "for car in car_list :\n",
    "    if (car == 'Innova') or car == ('Lord Alto'):\n",
    "        continue\n",
    "    print(car , end = \" \")\n",
    "else:\n",
    "    for car in car_list:\n",
    "        if (car == 'Innova') or car == ('Lord Alto'):\n",
    "            pass\n",
    "        else:\n",
    "            fav_car_list.append(car)\n",
    "print()\n",
    "print(fav_car_list , end = \" \")"
   ]
  },
  {
   "cell_type": "code",
   "execution_count": 36,
   "id": "178e995e-9682-4f92-8083-100a6794c666",
   "metadata": {},
   "outputs": [
    {
     "name": "stdout",
     "output_type": "stream",
     "text": [
      "Taigun Slavia Verna Thar \n",
      "[] "
     ]
    }
   ],
   "source": [
    "car_list = ['Taigun','Slavia','Verna','Thar','Innova','Defender','Lord Alto',\n",
    "            'Safari','Harrier','Bolero','XUV700','Altroz']\n",
    "fav_car_list = []\n",
    "for car in car_list :\n",
    "    if (car == 'Innova') or car == ('Lord Alto'):\n",
    "        break\n",
    "    print(car , end = \" \")\n",
    "else:\n",
    "    for car in car_list:\n",
    "        if (car == 'Innova') or car == ('Lord Alto'):\n",
    "            pass\n",
    "        else:\n",
    "            fav_car_list.append(car)\n",
    "print()\n",
    "print(fav_car_list , end = \" \")"
   ]
  },
  {
   "cell_type": "code",
   "execution_count": 38,
   "id": "10a5bb0e-957f-4012-9ab4-f59b985f3517",
   "metadata": {},
   "outputs": [
    {
     "name": "stdout",
     "output_type": "stream",
     "text": [
      "1 2 3 4 5 6 7 \n",
      "Hello Guys!, I'm going to terminate... Byeeeee\n"
     ]
    }
   ],
   "source": [
    "for i in range (1,11): # [1,2,3....10]\n",
    "    print(i , end = \" \")\n",
    "    if i == 7:\n",
    "        print()\n",
    "        print(\"Hello Guys!, I'm going to terminate... Byeeeee\")\n",
    "        break\n",
    "else:\n",
    "    print(\"Loop Runs Successfully!\")"
   ]
  },
  {
   "cell_type": "code",
   "execution_count": 39,
   "id": "39321b79-1d3f-4ffd-aa12-6a3b120dcf39",
   "metadata": {},
   "outputs": [
    {
     "name": "stdout",
     "output_type": "stream",
     "text": [
      "1 2 3 4 5 6 7 8 9 10 \n",
      "Loop Runs Successfully!\n"
     ]
    }
   ],
   "source": [
    "for i in range (1,11): # [1,2,3....10]\n",
    "    print(i , end = \" \")\n",
    "    if i == 11:\n",
    "        print()\n",
    "        print(\"Hello Guys!, I'm going to terminate... Byeeeee\")\n",
    "        break\n",
    "else:\n",
    "    print()\n",
    "    print(\"Loop Runs Successfully!\")"
   ]
  },
  {
   "cell_type": "code",
   "execution_count": 41,
   "id": "0415a090-4d38-44a1-8729-36a8c975fd9c",
   "metadata": {},
   "outputs": [
    {
     "name": "stdout",
     "output_type": "stream",
     "text": [
      "1 2 3 4 5 \n",
      "Skipping: 6 \n",
      "7 8 9 10 \n",
      "Loop Runs Successfully!\n"
     ]
    }
   ],
   "source": [
    "for i in range (1,11): # [1,2,3....10]\n",
    "    if i == 6:\n",
    "        print()\n",
    "        print(f\"Skipping: {i} \")\n",
    "        continue\n",
    "    print(i , end = \" \")\n",
    "else:\n",
    "    print()\n",
    "    print(\"Loop Runs Successfully!\")"
   ]
  },
  {
   "cell_type": "code",
   "execution_count": 46,
   "id": "82da0ed1-5572-4cd2-85ea-274ba097419d",
   "metadata": {},
   "outputs": [
    {
     "name": "stdout",
     "output_type": "stream",
     "text": [
      "dict_keys(['0', '1', '2', '3', '4', '5', '6', '7', '8', '9'])\n",
      "dict_values(['exit', 'B2G1 Ajio T-Shirts', 'Swiggy 200 cash', 'Lenskart Gold Membership @49', 'Bombay Shaving B2G1', 'XYZZ@999', 'iXigo Flat 50% off on Hotels', 'Dot & Key Buy 1 Get 1 free', 'Minimalist B1G1', 'Belavitta Perfumes'])\n"
     ]
    }
   ],
   "source": [
    "offer_list = {'0' : 'exit', \n",
    "              '1' : 'B2G1 Ajio T-Shirts', \n",
    "              '2' : 'Swiggy 200 cash', \n",
    "              '3' : 'Lenskart Gold Membership @49',\n",
    "              '4' : 'Bombay Shaving B2G1' , \n",
    "              '5' : 'XYZZ@999' , \n",
    "              '6' : 'iXigo Flat 50% off on Hotels',\n",
    "              '7' : 'Dot & Key Buy 1 Get 1 free' , \n",
    "              '8' : 'Minimalist B1G1' , \n",
    "              '9' : 'Belavitta Perfumes'}\n",
    "offer_keys = offer_list.keys()\n",
    "offer_value = offer_list.values()\n",
    "print(offer_keys)\n",
    "print(offer_value)"
   ]
  },
  {
   "cell_type": "code",
   "execution_count": 48,
   "id": "d03f7245-b32e-4343-bb40-81c96d87d5b7",
   "metadata": {},
   "outputs": [
    {
     "name": "stdin",
     "output_type": "stream",
     "text": [
      "Enter the Lucky Key between 0 to 9 :  1\n",
      "Enter the Lucky Key between 0 to 9 :  7\n",
      "Enter the Lucky Key between 0 to 9 :  9\n"
     ]
    },
    {
     "name": "stdout",
     "output_type": "stream",
     "text": [
      "['B2G1 Ajio T-Shirts', 'Dot & Key Buy 1 Get 1 free', 'Belavitta Perfumes']\n"
     ]
    }
   ],
   "source": [
    "chances = 3\n",
    "reward_list = []\n",
    "while chances > 0:\n",
    "    offer_key = input(\"Enter the Lucky Key between 0 to 9 : \")\n",
    "    if offer_list[offer_key] == 'exit':\n",
    "        break\n",
    "    else :\n",
    "        reward_list.append(offer_list[offer_key])\n",
    "    chances -=1\n",
    "\n",
    "print(reward_list)"
   ]
  },
  {
   "cell_type": "code",
   "execution_count": 51,
   "id": "786cfa54-3943-4af5-8a62-1cc56ddc2fbe",
   "metadata": {},
   "outputs": [
    {
     "name": "stdin",
     "output_type": "stream",
     "text": [
      "Enter the Lucky Key between 0 to 9 :  3\n",
      "Enter the Lucky Key between 0 to 9 :  0\n"
     ]
    },
    {
     "name": "stdout",
     "output_type": "stream",
     "text": [
      "['Lenskart Gold Membership @49']\n"
     ]
    }
   ],
   "source": [
    "chances = 3\n",
    "reward_list = []\n",
    "while chances > 0:\n",
    "    offer_key = input(\"Enter the Lucky Key between 0 to 9 : \")\n",
    "    if offer_list[offer_key] == 'exit':\n",
    "        break\n",
    "    else :\n",
    "        reward_list.append(offer_list[offer_key])\n",
    "    chances -=1\n",
    "\n",
    "print(reward_list)"
   ]
  },
  {
   "cell_type": "code",
   "execution_count": 1,
   "id": "0bd1fc7c-09b5-4acb-869d-fea35c49bc02",
   "metadata": {},
   "outputs": [
    {
     "name": "stdout",
     "output_type": "stream",
     "text": [
      "Taigun Slavia Verna Thar Innova Defender Lord Alto Safari Harrier "
     ]
    }
   ],
   "source": [
    "car_list = ['Taigun','Slavia','Verna','Thar','Innova','Defender','Lord Alto',\n",
    "            'Safari','Harrier','Bolero','XUV700','Altroz']\n",
    "for car in car_list:\n",
    "    if car == 'Bolero': # breaking the loop abruptly\n",
    "        break\n",
    "    else:\n",
    "        print(car , end = \" \")\n",
    "else:\n",
    "    print() # Moving the statement to the next line\n",
    "    print(\"Loop Run Successfully.\")"
   ]
  },
  {
   "cell_type": "code",
   "execution_count": 2,
   "id": "edea416c-2efa-4e39-86f4-d60d8b1ad805",
   "metadata": {},
   "outputs": [
    {
     "name": "stdout",
     "output_type": "stream",
     "text": [
      "Taigun Slavia Verna Thar Innova Defender Lord Alto Safari Harrier Bolero XUV700 Altroz \n",
      "Loop Run Successfully.\n"
     ]
    }
   ],
   "source": [
    "car_list = ['Taigun','Slavia','Verna','Thar','Innova','Defender','Lord Alto',\n",
    "            'Safari','Harrier','Bolero','XUV700','Altroz']\n",
    "for car in car_list:\n",
    "    if car == 'Fronx': # This condition won't hit as this 'Fronx' is not available in the car_list\n",
    "        break\n",
    "    else:\n",
    "        print(car , end = \" \") # print the complete list\n",
    "else:\n",
    "    print() # Moving the statement to the next line\n",
    "    print(\"Loop Run Successfully.\")"
   ]
  },
  {
   "cell_type": "code",
   "execution_count": 3,
   "id": "4454b42b-d4cc-4028-a6a0-bbccf6dbdb70",
   "metadata": {},
   "outputs": [
    {
     "name": "stdout",
     "output_type": "stream",
     "text": [
      "Taigun Slavia Verna Defender Lord Alto Safari Harrier Bolero Altroz \n",
      "Loop Run Successfully.\n"
     ]
    }
   ],
   "source": [
    "car_list = ['Taigun','Slavia','Verna','Thar','Innova','Defender','Lord Alto',\n",
    "            'Safari','Harrier','Bolero','XUV700','Altroz']\n",
    "for car in car_list:\n",
    "    if (car == 'Innova') or (car == 'XUV700') or (car == 'Thar'): # skip the elements\n",
    "        continue \n",
    "    else:\n",
    "        print(car , end = \" \") # print the complete list excluding some cars mention above\n",
    "else:\n",
    "    print() # Moving the statement to the next line\n",
    "    print(\"Loop Run Successfully.\")"
   ]
  },
  {
   "cell_type": "code",
   "execution_count": 4,
   "id": "652b2e11-fb2c-4547-a4e5-79efafbfa44f",
   "metadata": {},
   "outputs": [
    {
     "name": "stdout",
     "output_type": "stream",
     "text": [
      "Taigun Slavia Verna Defender Lord Alto Safari Harrier Bolero Altroz \n",
      "Loop Run Successfully.\n"
     ]
    }
   ],
   "source": [
    "# pass\n",
    "car_list = ['Taigun','Slavia','Verna','Thar','Innova','Defender','Lord Alto',\n",
    "            'Safari','Harrier','Bolero','XUV700','Altroz']\n",
    "for car in car_list:\n",
    "    if (car == 'Innova') or (car == 'XUV700') or (car == 'Thar'): \n",
    "        pass # Logic is missing -> will add it in future \n",
    "    else:\n",
    "        print(car , end = \" \") # print the complete list excluding some cars mention above\n",
    "else:\n",
    "    print() # Moving the statement to the next line\n",
    "    print(\"Loop Run Successfully.\")"
   ]
  },
  {
   "cell_type": "code",
   "execution_count": 9,
   "id": "97300830-420e-4fc4-8a9c-9b37e2a7fc39",
   "metadata": {},
   "outputs": [
    {
     "name": "stdout",
     "output_type": "stream",
     "text": [
      "[]\n"
     ]
    }
   ],
   "source": [
    "# Pass -> Nested List\n",
    "car_list = [\n",
    "    ['Taigun','Slavia','Verna'],\n",
    "    ['Thar','Innova','Defender'],\n",
    "    ['Lord Alto','Safari','Harrier'],\n",
    "    ['Bolero','XUV700','Altroz']\n",
    "]\n",
    "flatten_car_list = []\n",
    "for row in car_list : \n",
    "    for car in row:\n",
    "        # pass is actually a placeholder that can be filled with the logic in future\n",
    "        pass # flatten_car_list.append(car)\n",
    "print(flatten_car_list)"
   ]
  },
  {
   "cell_type": "code",
   "execution_count": 10,
   "id": "1ba062f9-084a-4fd1-b35c-37b5fa03d56f",
   "metadata": {},
   "outputs": [
    {
     "name": "stdout",
     "output_type": "stream",
     "text": [
      "Even List :  [22, 44, 2, 10, 20, 30, 40, 50]\n",
      "Odd List :  [11, 33, 55, 5, 7, 9, 11, 99, 77, 55, 33, 11, 15, 19, 17, 91, 97]\n"
     ]
    }
   ],
   "source": [
    "nested_num_list = [\n",
    "    [11,22,33,44,55],\n",
    "    [2,5,7,9,11],\n",
    "    [99,77,55,33,11],\n",
    "    [10,20,30,40,50],\n",
    "    [15,19,17,91,97]\n",
    "]\n",
    "even_list = []\n",
    "odd_list = []\n",
    "for row in nested_num_list:\n",
    "    for val in row:\n",
    "        if val % 2 == 0: # even\n",
    "            even_list.append(val)\n",
    "        else:\n",
    "            odd_list.append(val)\n",
    "else:\n",
    "    print(\"Even List : \" , even_list)\n",
    "    print(\"Odd List : \" , odd_list)"
   ]
  },
  {
   "cell_type": "code",
   "execution_count": 11,
   "id": "81c6a7f8-e297-4805-99e6-765f163935fb",
   "metadata": {},
   "outputs": [
    {
     "name": "stdout",
     "output_type": "stream",
     "text": [
      "Even List :  [22, 44, 20, 30, 40, 50]\n",
      "Odd List :  [11, 33, 55, 11, 77, 55, 33, 11, 15, 19, 17]\n"
     ]
    }
   ],
   "source": [
    "nested_num_list = [\n",
    "    [11,22,33,44,55],\n",
    "    [2,5,7,9,11],\n",
    "    [99,77,55,33,11],\n",
    "    [10,20,30,40,50],\n",
    "    [15,19,17,91,97]\n",
    "]\n",
    "even_list = []\n",
    "odd_list = []\n",
    "for row in nested_num_list:\n",
    "    for val in row:\n",
    "        if val <=10 or val >= 80:\n",
    "            pass # Placeholder for the logic\n",
    "        elif val % 2 == 0: # even\n",
    "            even_list.append(val)\n",
    "        elif val % 2 == 1: # odd\n",
    "            odd_list.append(val)\n",
    "else:\n",
    "    print(\"Even List : \" , even_list)\n",
    "    print(\"Odd List : \" , odd_list)"
   ]
  },
  {
   "cell_type": "code",
   "execution_count": 13,
   "id": "3a2db520-aa26-49f6-891f-f9bd566befb7",
   "metadata": {},
   "outputs": [
    {
     "name": "stdout",
     "output_type": "stream",
     "text": [
      "Even List :  [22, 44, 20, 30, 40, 50]\n",
      "Odd List :  [11, 33, 55, 11, 77, 55, 33, 11, 15, 19, 17]\n",
      "Another List :  [2, 5, 7, 9, 99, 10, 91, 97]\n"
     ]
    }
   ],
   "source": [
    "nested_num_list = [\n",
    "    [11,22,33,44,55],\n",
    "    [2,5,7,9,11],\n",
    "    [99,77,55,33,11],\n",
    "    [10,20,30,40,50],\n",
    "    [15,19,17,91,97]\n",
    "]\n",
    "even_list = []\n",
    "odd_list = []\n",
    "another_list = []\n",
    "for row in nested_num_list:\n",
    "    for val in row:\n",
    "        if val <=10 or val >= 80:\n",
    "            another_list.append(val) # pass # Placeholder for the logic\n",
    "        elif val % 2 == 0: # even\n",
    "            even_list.append(val)\n",
    "        elif val % 2 == 1: # odd\n",
    "            odd_list.append(val)\n",
    "else:\n",
    "    print(\"Even List : \" , even_list)\n",
    "    print(\"Odd List : \" , odd_list)\n",
    "    print(\"Another List : \" , another_list)"
   ]
  },
  {
   "cell_type": "code",
   "execution_count": 14,
   "id": "6cfecfea-d27f-4516-bf55-22784d7332ee",
   "metadata": {},
   "outputs": [
    {
     "name": "stdin",
     "output_type": "stream",
     "text": [
      "Enter the value to check wether a val is prime or not:  15\n"
     ]
    },
    {
     "name": "stdout",
     "output_type": "stream",
     "text": [
      "15 is not a prime number\n"
     ]
    }
   ],
   "source": [
    "# Prime Number -> Any number either divides by itself or by 1\n",
    "# break \n",
    "val = int(input(\"Enter the value to check wether a val is prime or not: \"))\n",
    "for num in range(2,val):\n",
    "    if val % num == 0:\n",
    "        print(f\"{val} is not a prime number\")\n",
    "        break\n",
    "else:\n",
    "    print(f\"{val} is a prime number\")"
   ]
  },
  {
   "cell_type": "code",
   "execution_count": 15,
   "id": "69a10267-4ed0-4a30-b90a-b4633521ae23",
   "metadata": {},
   "outputs": [
    {
     "name": "stdin",
     "output_type": "stream",
     "text": [
      "Enter the value to check wether a val is prime or not:  17\n"
     ]
    },
    {
     "name": "stdout",
     "output_type": "stream",
     "text": [
      "17 is a prime number\n"
     ]
    }
   ],
   "source": [
    "val = int(input(\"Enter the value to check wether a val is prime or not: \"))\n",
    "for num in range(2,val):\n",
    "    if val % num == 0:\n",
    "        print(f\"{val} is not a prime number\")\n",
    "        break\n",
    "else:\n",
    "    print(f\"{val} is a prime number\")"
   ]
  },
  {
   "cell_type": "code",
   "execution_count": 73,
   "id": "46cf1431-75d6-4916-8d6d-1a5bf0bd5879",
   "metadata": {},
   "outputs": [
    {
     "name": "stdout",
     "output_type": "stream",
     "text": [
      "dict_keys(['stud_1', 'stud_2', 'stud_3', 'stud_4', 'stud_5'])\n"
     ]
    }
   ],
   "source": [
    "_dict = {\n",
    "    \"stud_1\" : {'name' : 'Aman','age' : 29,'gender' : 'M','city' : 'Bhopal', 'Country' : 'India'},\n",
    "    \"stud_2\" : {'name' : 'Sanchita','age' : 27,'gender' : 'F','city' : 'Varansi', 'Country' : 'India'},\n",
    "    \"stud_3\" : {'name' : 'Surya','age' : 33,'gender' : 'M','city' : 'Mumbai', 'Country' : 'India'},\n",
    "    \"stud_4\" : {'name' : 'Nihal','age' : 28,'gender' : 'M','city' : 'Chandigarh', 'Country' : 'India'},\n",
    "    \"stud_5\" : {'name' : 'Lubhani','age' : 26,'gender' : 'F','city' : 'Pune', 'Country' : 'India'}\n",
    "}\n",
    "print(_dict.keys())"
   ]
  },
  {
   "cell_type": "code",
   "execution_count": 74,
   "id": "906e0ab7-794e-4e77-87f0-dfc18ba10941",
   "metadata": {},
   "outputs": [
    {
     "name": "stdout",
     "output_type": "stream",
     "text": [
      "dict_keys(['name', 'age', 'gender', 'city', 'Country'])\n"
     ]
    }
   ],
   "source": [
    "print(_dict['stud_1'].keys())"
   ]
  },
  {
   "cell_type": "code",
   "execution_count": 75,
   "id": "1c9ab8ff-fefa-44fb-ae98-07f65b851790",
   "metadata": {},
   "outputs": [
    {
     "name": "stdout",
     "output_type": "stream",
     "text": [
      "dict_values(['Aman', 29, 'M', 'Bhopal', 'India'])\n"
     ]
    }
   ],
   "source": [
    "print(_dict['stud_1'].values())"
   ]
  },
  {
   "cell_type": "code",
   "execution_count": 76,
   "id": "275bf01c-0a43-4ce8-8d78-27ac1895c474",
   "metadata": {},
   "outputs": [
    {
     "data": {
      "text/plain": [
       "dict_items([('stud_1', {'name': 'Aman', 'age': 29, 'gender': 'M', 'city': 'Bhopal', 'Country': 'India'}), ('stud_2', {'name': 'Sanchita', 'age': 27, 'gender': 'F', 'city': 'Varansi', 'Country': 'India'}), ('stud_3', {'name': 'Surya', 'age': 33, 'gender': 'M', 'city': 'Mumbai', 'Country': 'India'}), ('stud_4', {'name': 'Nihal', 'age': 28, 'gender': 'M', 'city': 'Chandigarh', 'Country': 'India'}), ('stud_5', {'name': 'Lubhani', 'age': 26, 'gender': 'F', 'city': 'Pune', 'Country': 'India'})])"
      ]
     },
     "execution_count": 76,
     "metadata": {},
     "output_type": "execute_result"
    }
   ],
   "source": [
    "_dict.items()"
   ]
  },
  {
   "cell_type": "code",
   "execution_count": 77,
   "id": "ab6c5c79-6681-4cc9-a45b-8dd2e3feba13",
   "metadata": {},
   "outputs": [
    {
     "name": "stdout",
     "output_type": "stream",
     "text": [
      "{'name': 'Aman', 'age': 29, 'gender': 'M', 'city': 'Bhopal', 'Country': 'India'}\n",
      "{'name': 'Sanchita', 'age': 27, 'gender': 'F', 'city': 'Varansi', 'Country': 'India'}\n",
      "{'name': 'Surya', 'age': 33, 'gender': 'M', 'city': 'Mumbai', 'Country': 'India'}\n",
      "{'name': 'Nihal', 'age': 28, 'gender': 'M', 'city': 'Chandigarh', 'Country': 'India'}\n",
      "{'name': 'Lubhani', 'age': 26, 'gender': 'F', 'city': 'Pune', 'Country': 'India'}\n"
     ]
    }
   ],
   "source": [
    "for stud_key in _dict.keys():\n",
    "    print(_dict[stud_key])"
   ]
  },
  {
   "cell_type": "code",
   "execution_count": 78,
   "id": "c7d4ed89-01af-4031-ac53-e27b96a4c5be",
   "metadata": {},
   "outputs": [
    {
     "name": "stdout",
     "output_type": "stream",
     "text": [
      "Bhopal\n",
      "Varansi\n",
      "Mumbai\n",
      "Chandigarh\n",
      "Pune\n"
     ]
    }
   ],
   "source": [
    "for stud_key in _dict.keys():\n",
    "    print(_dict[stud_key]['city'])"
   ]
  },
  {
   "cell_type": "code",
   "execution_count": 79,
   "id": "1ab0e720-1a5c-46c5-869a-8e603d20b4fe",
   "metadata": {},
   "outputs": [
    {
     "name": "stdout",
     "output_type": "stream",
     "text": [
      "('stud_1', {'name': 'Aman', 'age': 29, 'gender': 'M', 'city': 'Bhopal', 'Country': 'India'})\n",
      "('stud_2', {'name': 'Sanchita', 'age': 27, 'gender': 'F', 'city': 'Varansi', 'Country': 'India'})\n",
      "('stud_3', {'name': 'Surya', 'age': 33, 'gender': 'M', 'city': 'Mumbai', 'Country': 'India'})\n",
      "('stud_4', {'name': 'Nihal', 'age': 28, 'gender': 'M', 'city': 'Chandigarh', 'Country': 'India'})\n",
      "('stud_5', {'name': 'Lubhani', 'age': 26, 'gender': 'F', 'city': 'Pune', 'Country': 'India'})\n"
     ]
    }
   ],
   "source": [
    "for student_detail in _dict.items():\n",
    "    print(student_detail) # A complete inner dictionary"
   ]
  },
  {
   "cell_type": "code",
   "execution_count": 80,
   "id": "7a5d61ea-33b8-4c0a-a192-65a0769a5a2b",
   "metadata": {},
   "outputs": [
    {
     "name": "stdout",
     "output_type": "stream",
     "text": [
      "stud_1 :{'name': 'Aman', 'age': 29, 'gender': 'M', 'city': 'Bhopal', 'Country': 'India'}\n",
      "stud_2 :{'name': 'Sanchita', 'age': 27, 'gender': 'F', 'city': 'Varansi', 'Country': 'India'}\n",
      "stud_3 :{'name': 'Surya', 'age': 33, 'gender': 'M', 'city': 'Mumbai', 'Country': 'India'}\n",
      "stud_4 :{'name': 'Nihal', 'age': 28, 'gender': 'M', 'city': 'Chandigarh', 'Country': 'India'}\n",
      "stud_5 :{'name': 'Lubhani', 'age': 26, 'gender': 'F', 'city': 'Pune', 'Country': 'India'}\n"
     ]
    }
   ],
   "source": [
    "for student_code , stud_info in _dict.items():\n",
    "    print(student_code, end = \" :\")\n",
    "    print(stud_info)"
   ]
  },
  {
   "cell_type": "code",
   "execution_count": 81,
   "id": "d82f319a-5ec5-4618-8cec-f573f31d7350",
   "metadata": {},
   "outputs": [
    {
     "name": "stdout",
     "output_type": "stream",
     "text": [
      "stud_1 -> \n",
      "\tname :Aman\n",
      "\n",
      "\tage :29\n",
      "\n",
      "\tgender :M\n",
      "\n",
      "\tcity :Bhopal\n",
      "\n",
      "\tCountry :India\n",
      "stud_2 -> \n",
      "\tname :Sanchita\n",
      "\n",
      "\tage :27\n",
      "\n",
      "\tgender :F\n",
      "\n",
      "\tcity :Varansi\n",
      "\n",
      "\tCountry :India\n",
      "stud_3 -> \n",
      "\tname :Surya\n",
      "\n",
      "\tage :33\n",
      "\n",
      "\tgender :M\n",
      "\n",
      "\tcity :Mumbai\n",
      "\n",
      "\tCountry :India\n",
      "stud_4 -> \n",
      "\tname :Nihal\n",
      "\n",
      "\tage :28\n",
      "\n",
      "\tgender :M\n",
      "\n",
      "\tcity :Chandigarh\n",
      "\n",
      "\tCountry :India\n",
      "stud_5 -> \n",
      "\tname :Lubhani\n",
      "\n",
      "\tage :26\n",
      "\n",
      "\tgender :F\n",
      "\n",
      "\tcity :Pune\n",
      "\n",
      "\tCountry :India\n"
     ]
    }
   ],
   "source": [
    "for student_code , stud_info in _dict.items():\n",
    "    print(student_code , end = \" -> \")\n",
    "    for person_key , person_detail in stud_info.items():\n",
    "        print()\n",
    "        print(end = \"\\t\")\n",
    "        print(person_key , end = \" :\")\n",
    "        print(person_detail)"
   ]
  },
  {
   "cell_type": "code",
   "execution_count": 82,
   "id": "5dbddae9-7100-4790-adfb-e6532516a38d",
   "metadata": {},
   "outputs": [
    {
     "name": "stdout",
     "output_type": "stream",
     "text": [
      "stud_1 -> Bhopal\n",
      "stud_3 -> Mumbai\n",
      "stud_4 -> Chandigarh\n",
      "stud_5 -> Pune\n"
     ]
    }
   ],
   "source": [
    "for student_code , stud_info in _dict.items():\n",
    "    if student_code == 'stud_2':\n",
    "        continue\n",
    "    print(student_code , end = \" -> \")\n",
    "    for person_key , person_detail in stud_info.items():\n",
    "            if person_key == 'city':\n",
    "                print(person_detail)"
   ]
  },
  {
   "cell_type": "code",
   "execution_count": 84,
   "id": "f12bec21-3f67-4c56-bf3f-487cc1e6d06a",
   "metadata": {},
   "outputs": [
    {
     "name": "stdout",
     "output_type": "stream",
     "text": [
      "stud_1 -> stud_3 -> stud_4 -> stud_5 -> "
     ]
    }
   ],
   "source": [
    "for student_code , stud_info in _dict.items():\n",
    "    if student_code == 'stud_2':\n",
    "        continue\n",
    "    print(student_code , end = \" -> \")\n",
    "    for person_key , person_detail in stud_info.items():\n",
    "        if person_key == 'city':\n",
    "            if _dict[student_code][person_key] == 'Bhopal': \n",
    "                _dict[student_code][person_key] = 'Delhi'\n",
    "            elif  _dict[student_code][person_key] == 'Mumbai':\n",
    "                pass\n",
    "            else:\n",
    "                break"
   ]
  },
  {
   "cell_type": "code",
   "execution_count": 85,
   "id": "851e4e99-c35c-4a6a-ae41-4391a26bb74b",
   "metadata": {},
   "outputs": [
    {
     "name": "stdout",
     "output_type": "stream",
     "text": [
      "stud_1 -> \n",
      "\tname :Aman\n",
      "\n",
      "\tage :29\n",
      "\n",
      "\tgender :M\n",
      "\n",
      "\tcity :Delhi\n",
      "\n",
      "\tCountry :India\n",
      "stud_2 -> \n",
      "\tname :Sanchita\n",
      "\n",
      "\tage :27\n",
      "\n",
      "\tgender :F\n",
      "\n",
      "\tcity :Varansi\n",
      "\n",
      "\tCountry :India\n",
      "stud_3 -> \n",
      "\tname :Surya\n",
      "\n",
      "\tage :33\n",
      "\n",
      "\tgender :M\n",
      "\n",
      "\tcity :Mumbai\n",
      "\n",
      "\tCountry :India\n",
      "stud_4 -> \n",
      "\tname :Nihal\n",
      "\n",
      "\tage :28\n",
      "\n",
      "\tgender :M\n",
      "\n",
      "\tcity :Chandigarh\n",
      "\n",
      "\tCountry :India\n",
      "stud_5 -> \n",
      "\tname :Lubhani\n",
      "\n",
      "\tage :26\n",
      "\n",
      "\tgender :F\n",
      "\n",
      "\tcity :Pune\n",
      "\n",
      "\tCountry :India\n"
     ]
    }
   ],
   "source": [
    "for student_code , stud_info in _dict.items():\n",
    "    print(student_code , end = \" -> \")\n",
    "    for person_key , person_detail in stud_info.items():\n",
    "        print()\n",
    "        print(end = \"\\t\")\n",
    "        print(person_key , end = \" :\")\n",
    "        print(person_detail)"
   ]
  },
  {
   "cell_type": "markdown",
   "id": "a8619895-a611-4613-81a8-bb5cb2139e1f",
   "metadata": {},
   "source": [
    "# Functions : \n",
    "#### Functions are reusable block of code that helps you :\n",
    "1. Organize your code.\n",
    "2. Avoid Repoid (DRY): 'Do not Repeat Yourself'\n",
    "3. Makes your program easy to understand and debug."
   ]
  },
  {
   "cell_type": "raw",
   "id": "1dcc0745-8575-42cf-a3fe-d9c2c4818944",
   "metadata": {},
   "source": [
    "Syntax:\n",
    "def function_name : \n",
    "    # Function Logic [Print Vs Return]"
   ]
  },
  {
   "cell_type": "code",
   "execution_count": 87,
   "id": "53966c4d-9339-40e4-baf0-0950837de365",
   "metadata": {},
   "outputs": [
    {
     "name": "stdout",
     "output_type": "stream",
     "text": [
      "Hello World!\n",
      "Hello World!\n",
      "Hello World!\n",
      "Hello World!\n"
     ]
    }
   ],
   "source": [
    "def greet():\n",
    "    print(\"Hello World!\")\n",
    "\n",
    "greet()\n",
    "greet()\n",
    "greet()\n",
    "greet()"
   ]
  },
  {
   "cell_type": "code",
   "execution_count": 89,
   "id": "2c27096b-045d-44cb-840e-c6ecab99f11e",
   "metadata": {},
   "outputs": [
    {
     "name": "stdout",
     "output_type": "stream",
     "text": [
      "100\n",
      "121\n",
      "441\n",
      "1000\n"
     ]
    }
   ],
   "source": [
    "def squared(val):\n",
    "    return val ** 2\n",
    "def cubed(val):\n",
    "    return val ** 3\n",
    "\n",
    "sq1 = squared(10) # 100\n",
    "print(sq1) # 100\n",
    "sq2 = squared(11) # 121\n",
    "print(sq2) # 221\n",
    "sq3 = squared(21) # 441\n",
    "print(sq3) # 441\n",
    "cu1 = cubed(10) # 1000\n",
    "print(cu1)"
   ]
  },
  {
   "cell_type": "markdown",
   "id": "9a85f72b-fc03-47ab-a7b8-fc6146b455f1",
   "metadata": {},
   "source": [
    "# Types of Functions:\n",
    "1. User-define Function:\n",
    "   - Functions that we create with the help of def keyword and perform any custom task\n",
    "2. Pre-Definded Function: (Built-In Function)\n",
    "   - print()\n",
    "   - len()\n",
    "   - min()\n",
    "   - max()\n",
    "   - sum()\n",
    "   - type()\n",
    "   - input()"
   ]
  },
  {
   "cell_type": "code",
   "execution_count": 1,
   "id": "1d23fb1b-d8cc-4cdc-8380-8e291f6e8272",
   "metadata": {},
   "outputs": [
    {
     "name": "stdout",
     "output_type": "stream",
     "text": [
      "Welcome to the Python Course!\n"
     ]
    }
   ],
   "source": [
    "# Non Parameterized Function\n",
    "def greet():\n",
    "    print(\"Welcome to the Python Course!\")\n",
    "\n",
    "greet()"
   ]
  },
  {
   "cell_type": "code",
   "execution_count": 2,
   "id": "0d31d90b-4447-4ffe-a2f3-da4fe16ced3c",
   "metadata": {},
   "outputs": [
    {
     "name": "stdout",
     "output_type": "stream",
     "text": [
      "Welcome to the Team, Amit.....\n",
      "You are working as a Analyst, Please meet with your teammates.\n",
      "Looking  forward to have a good association with you.\n",
      "Thanks...\n",
      "Amazon\n"
     ]
    }
   ],
   "source": [
    "def Onboarding_Mail(name , designation , company = 'Ninjas'):\n",
    "    print(f\"Welcome to the Team, {name}.....\")\n",
    "    print(f\"You are working as a {designation}, Please meet with your teammates.\")\n",
    "    print(\"Looking  forward to have a good association with you.\")\n",
    "    print(f\"Thanks...\")\n",
    "    print(f\"{company}\")\n",
    "\n",
    "Onboarding_Mail('Amit','Analyst','Amazon')"
   ]
  },
  {
   "cell_type": "code",
   "execution_count": 3,
   "id": "b5336b60-698b-475c-83fe-cb0bf65c29df",
   "metadata": {},
   "outputs": [
    {
     "name": "stdout",
     "output_type": "stream",
     "text": [
      "Welcome to the Team, Utkarsh.....\n",
      "You are working as a Senior Analyst, Please meet with your teammates.\n",
      "Looking  forward to have a good association with you.\n",
      "Thanks...\n",
      "American Express\n"
     ]
    }
   ],
   "source": [
    "Onboarding_Mail('Utkarsh','Senior Analyst','American Express')"
   ]
  },
  {
   "cell_type": "code",
   "execution_count": 4,
   "id": "0cefeadd-c484-4abe-af2a-5bb81bb419dc",
   "metadata": {},
   "outputs": [
    {
     "name": "stdout",
     "output_type": "stream",
     "text": [
      "Welcome to the Team, Aditya.....\n",
      "You are working as a Lead Scientist, Please meet with your teammates.\n",
      "Looking  forward to have a good association with you.\n",
      "Thanks...\n",
      "Ninjas\n"
     ]
    }
   ],
   "source": [
    "Onboarding_Mail('Aditya','Lead Scientist')"
   ]
  },
  {
   "cell_type": "code",
   "execution_count": 36,
   "id": "f3595031-815e-465a-9907-db95b7f97d44",
   "metadata": {},
   "outputs": [
    {
     "name": "stdout",
     "output_type": "stream",
     "text": [
      "\n",
      "        Subject: Welcome to the Team!\n",
      "    \n",
      "            Dear Arpit,\n",
      "            \n",
      "            We are excited to welcome you to PhonePe! On behalf of the entire team, \n",
      "            we are thrilled to have you join us as Senior Analyst.\n",
      "            \n",
      "            Your onboarding will begin on 23rd Sept 2025, and we have planned a smooth transition \n",
      "            to help you settle into your new role. Please find the key details below:\n",
      "            \n",
      "            Start Date & Time: 23rd Sept 2025\n",
      "            \n",
      "            Location / Login Details: XYZ Location\n",
      "            \n",
      "            Point of Contact: \"Devi Prashad Sharma\"\n",
      "            \n",
      "            During your first week, you will be introduced to our team, guided through our systems, \n",
      "            and provided with all the resources you need to excel. Our HR team will also walk you \n",
      "            through our policies, benefits, and company culture.\n",
      "            \n",
      "            We believe your skills and experience will make a valuable contribution, and we look \n",
      "            forward to seeing you thrive with us.\n",
      "            \n",
      "            Once again, welcome aboard and best wishes for a successful journey with PhonePe.\n",
      "            \n",
      "            Warm regards,\n",
      "            Bhupinder Jogi\n",
      "            HR Manager\n",
      "            PhonePe\n",
      "    \n"
     ]
    }
   ],
   "source": [
    "def onboarding(employee_name, job_title , start_date, hr_name = \"Bhupinder Jogi\" , \n",
    "               company_name = \"Coding Ninja\" , address = \"XYZ Location\"):\n",
    "    print(f\"\"\"\n",
    "        Subject: Welcome to the Team!\n",
    "    \n",
    "            Dear {employee_name},\n",
    "            \n",
    "            We are excited to welcome you to {company_name}! On behalf of the entire team, \n",
    "            we are thrilled to have you join us as {job_title}.\n",
    "            \n",
    "            Your onboarding will begin on {start_date}, and we have planned a smooth transition \n",
    "            to help you settle into your new role. Please find the key details below:\n",
    "            \n",
    "            Start Date & Time: {start_date}\n",
    "            \n",
    "            Location / Login Details: {address}\n",
    "            \n",
    "            Point of Contact: \"Devi Prashad Sharma\"\n",
    "            \n",
    "            During your first week, you will be introduced to our team, guided through our systems, \n",
    "            and provided with all the resources you need to excel. Our HR team will also walk you \n",
    "            through our policies, benefits, and company culture.\n",
    "            \n",
    "            We believe your skills and experience will make a valuable contribution, and we look \n",
    "            forward to seeing you thrive with us.\n",
    "            \n",
    "            Once again, welcome aboard and best wishes for a successful journey with {company_name}.\n",
    "            \n",
    "            Warm regards,\n",
    "            {hr_name}\n",
    "            HR Manager\n",
    "            {company_name}\n",
    "    \"\"\")\n",
    "onboarding(\"Arpit\",\"Senior Analyst\",\"23rd Sept 2025\" ,company_name = \"PhonePe\" )"
   ]
  },
  {
   "cell_type": "code",
   "execution_count": 23,
   "id": "603dd0f7-f450-47e6-b68a-30cb95ddf609",
   "metadata": {},
   "outputs": [
    {
     "data": {
      "text/plain": [
       "NoneType"
      ]
     },
     "execution_count": 23,
     "metadata": {},
     "output_type": "execute_result"
    }
   ],
   "source": [
    "# Arbitary arguments (*args)\n",
    "employee_list = []\n",
    "def employee_hired(*emp_name):\n",
    "    return employee_list.append(emp_name)\n",
    "\n",
    "emp_details = employee_hired('Shalu','Ali','Utkarsh','Aditya','Nihal','Kabiraj','Jagat')\n",
    "type(emp_details)"
   ]
  },
  {
   "cell_type": "code",
   "execution_count": 24,
   "id": "cb278649-be41-4c2a-a4c7-57e34738235a",
   "metadata": {},
   "outputs": [
    {
     "name": "stdout",
     "output_type": "stream",
     "text": [
      "[('Shalu', 'Ali', 'Utkarsh', 'Aditya', 'Nihal', 'Kabiraj', 'Jagat')]\n"
     ]
    }
   ],
   "source": [
    "print(employee_list)"
   ]
  },
  {
   "cell_type": "code",
   "execution_count": 25,
   "id": "026eed27-7806-46b6-9402-3159cffe8a1b",
   "metadata": {},
   "outputs": [
    {
     "data": {
      "text/plain": [
       "list"
      ]
     },
     "execution_count": 25,
     "metadata": {},
     "output_type": "execute_result"
    }
   ],
   "source": [
    "# Arbitary arguments (*args)\n",
    "employee_list = []\n",
    "def employee_hired(*emp_name):\n",
    "    for emp in emp_name:\n",
    "        employee_list.append(emp)\n",
    "    return employee_list\n",
    "emp_details = employee_hired('Shalu','Ali','Utkarsh','Aditya','Nihal','Kabiraj','Jagat')\n",
    "type(emp_details)"
   ]
  },
  {
   "cell_type": "code",
   "execution_count": 26,
   "id": "f438b1c6-c98b-496d-a05a-a964c2ddc5bf",
   "metadata": {},
   "outputs": [
    {
     "name": "stdout",
     "output_type": "stream",
     "text": [
      "['Shalu', 'Ali', 'Utkarsh', 'Aditya', 'Nihal', 'Kabiraj', 'Jagat']\n"
     ]
    }
   ],
   "source": [
    "print(employee_list)"
   ]
  },
  {
   "cell_type": "code",
   "execution_count": 27,
   "id": "64a08d8b-ea2a-4db3-803c-47c0266582ef",
   "metadata": {},
   "outputs": [
    {
     "name": "stdout",
     "output_type": "stream",
     "text": [
      "1\n",
      "2\n",
      "[3, 4, 5, 6, 7]\n"
     ]
    }
   ],
   "source": [
    "a,b,*c = 1,2,3,4,5,6,7\n",
    "print(a) # 1\n",
    "print(b) # 2\n",
    "print(c) # [3,4,5,6,7]"
   ]
  },
  {
   "cell_type": "code",
   "execution_count": 29,
   "id": "30de94e4-7788-480b-8f4c-858309797b17",
   "metadata": {},
   "outputs": [
    {
     "name": "stdout",
     "output_type": "stream",
     "text": [
      "My Favourite Car is Verna\n"
     ]
    }
   ],
   "source": [
    "def fav_car(car1, car2, car3, *car4): # (positional arg, arbitary argument)\n",
    "    print(f\"My Favourite Car is {car3}\")\n",
    "\n",
    "fav_car('Taigun','Slavia','Verna','Thar','Innova','Defender','Lord Alto',\n",
    "            'Safari','Harrier','Bolero','XUV700','Altroz')"
   ]
  },
  {
   "cell_type": "code",
   "execution_count": 30,
   "id": "5dbb2532-0641-4d3d-b810-7546d649bc20",
   "metadata": {},
   "outputs": [
    {
     "name": "stdout",
     "output_type": "stream",
     "text": [
      "My Favourite Month Dec\n"
     ]
    }
   ],
   "source": [
    "# Keyword Argument\n",
    "def fav_month(month1, month2, month3, month4 , month5):\n",
    "    print(\"My Favourite Month\" , month5)\n",
    "\n",
    "fav_month(month2 = \"Jan\", month3 = \"Oct\", month4 = \"Feb\", month5 = \"Dec\", month1 = \"July\" )"
   ]
  },
  {
   "cell_type": "code",
   "execution_count": 31,
   "id": "6a9ca266-3232-4fa8-a0f4-405834381c83",
   "metadata": {},
   "outputs": [
    {
     "name": "stdout",
     "output_type": "stream",
     "text": [
      "My Favourite Month Jan\n"
     ]
    }
   ],
   "source": [
    "# Positional Argument &  Keyword Argument\n",
    "def fav_month(month1, month2, month3, month4 , month5):\n",
    "    print(\"My Favourite Month\" , month2)\n",
    "\n",
    "fav_month(\"July\",\"Jan\", month3 = \"Oct\", month5 = \"Dec\", month4 = \"Feb\")"
   ]
  },
  {
   "cell_type": "raw",
   "id": "fd237523-5f8d-44b1-beb3-690bbbd6da33",
   "metadata": {},
   "source": [
    "SyntaxError: positional argument follows keyword argument\n",
    "def fav_month(month1, month2, month3, month4 , month5):\n",
    "    print(\"My Favourite Month\" , month2)\n",
    "\n",
    "fav_month(month3 = \"Oct\", month5 = \"Dec\", month4 = \"Feb\", \"July\",\"Jan\")"
   ]
  },
  {
   "cell_type": "code",
   "execution_count": 33,
   "id": "f98616a1-4039-455b-ad02-6390fb25aa19",
   "metadata": {},
   "outputs": [
    {
     "name": "stdout",
     "output_type": "stream",
     "text": [
      "Virtus\n"
     ]
    }
   ],
   "source": [
    "# Default Parameter \n",
    "def fav_car(car_name = \"Safari\"):\n",
    "    print(car_name)\n",
    "\n",
    "fav_car(\"Virtus\")"
   ]
  },
  {
   "cell_type": "code",
   "execution_count": 34,
   "id": "81ecf5ad-78f3-4815-a324-270531b4d522",
   "metadata": {},
   "outputs": [
    {
     "name": "stdout",
     "output_type": "stream",
     "text": [
      "Safari\n"
     ]
    }
   ],
   "source": [
    "def fav_car(car_name = \"Safari\"):\n",
    "    print(car_name)\n",
    "\n",
    "fav_car()"
   ]
  },
  {
   "cell_type": "code",
   "execution_count": 35,
   "id": "ba81ee12-0731-4d38-b2d8-cec476963db4",
   "metadata": {},
   "outputs": [
    {
     "name": "stdout",
     "output_type": "stream",
     "text": [
      "720\n"
     ]
    }
   ],
   "source": [
    "def calculator(a,b,c,d=100,e=15):\n",
    "    print((a*b)+ (c*d) + e)\n",
    "\n",
    "calculator(10,20,c=5,e=20) # 720"
   ]
  },
  {
   "cell_type": "code",
   "execution_count": 39,
   "id": "d08162a0-0351-450f-8086-f59a5b1e14ff",
   "metadata": {},
   "outputs": [
    {
     "name": "stdout",
     "output_type": "stream",
     "text": [
      "Taigun - Slavia - Verna - Thar - Innova - Defender - Lord Alto - Safari - Harrier - Bolero - XUV700 - Altroz - "
     ]
    }
   ],
   "source": [
    "car_list = ['Taigun','Slavia','Verna','Thar','Innova','Defender','Lord Alto',\n",
    "            'Safari','Harrier','Bolero','XUV700','Altroz']\n",
    "def iterative_car(cars):\n",
    "    for car in cars:\n",
    "        print(car , end = \" - \")\n",
    "\n",
    "iterative_car(car_list)"
   ]
  },
  {
   "cell_type": "code",
   "execution_count": 40,
   "id": "d194a61f-c782-4ae8-85fc-95d5cf95edb9",
   "metadata": {},
   "outputs": [
    {
     "name": "stdout",
     "output_type": "stream",
     "text": [
      "1500\n"
     ]
    }
   ],
   "source": [
    "def total_sum(val1, val2, val3, val4, val5):\n",
    "    return val1 + val2 + val3 + val4 + val5\n",
    "\n",
    "total = total_sum(100,200,300,400,500)\n",
    "print(total)"
   ]
  },
  {
   "cell_type": "code",
   "execution_count": 42,
   "id": "b649eb00-f972-42ac-b5f2-c492b516e390",
   "metadata": {},
   "outputs": [
    {
     "name": "stdout",
     "output_type": "stream",
     "text": [
      "1500\n"
     ]
    }
   ],
   "source": [
    "def total_sum(*val):\n",
    "    return sum(val)\n",
    "\n",
    "total = total_sum(100,200,300,400,500)\n",
    "print(total)"
   ]
  },
  {
   "cell_type": "code",
   "execution_count": 43,
   "id": "a0a47098-f712-4122-8704-98be02e9305a",
   "metadata": {},
   "outputs": [
    {
     "name": "stdout",
     "output_type": "stream",
     "text": [
      "111\n"
     ]
    }
   ],
   "source": [
    "def finding_max(*val):\n",
    "    return max(val)\n",
    "\n",
    "max_val = finding_max(11,22,33,44,55,1,2,4,5,7,4,99,111,4,5,9,50,66,81,91)\n",
    "print(max_val)"
   ]
  },
  {
   "cell_type": "code",
   "execution_count": 44,
   "id": "0eaf3fa6-ccbd-4e65-877b-06f51bf81b8b",
   "metadata": {},
   "outputs": [
    {
     "name": "stdout",
     "output_type": "stream",
     "text": [
      "20 is maximum\n"
     ]
    }
   ],
   "source": [
    "# Finding the maximum of 3 numbers\n",
    "def max_three_number(x,y,z):\n",
    "    if x>y and x>z:\n",
    "        print(f\"{x} is maximum\")\n",
    "    elif y>z and y>x:\n",
    "        print(f\"{y} is maximum\")\n",
    "    else:\n",
    "        print(f\"{z} is maximum\")\n",
    "\n",
    "max_three_number(15,20,11)"
   ]
  },
  {
   "cell_type": "code",
   "execution_count": 45,
   "id": "1be36bcc-4b41-425d-a01b-5b984448e4e6",
   "metadata": {},
   "outputs": [
    {
     "name": "stdout",
     "output_type": "stream",
     "text": [
      "22 is the maximum element.\n"
     ]
    }
   ],
   "source": [
    "def max_three_number(x,y,z):\n",
    "    if x>y and x>z:\n",
    "        return x\n",
    "    elif y>z and y>x:\n",
    "        return y\n",
    "    else:\n",
    "        return z\n",
    "\n",
    "max_ele = max_three_number(11,22,7) # 22\n",
    "print(f\"{max_ele} is the maximum element.\")"
   ]
  },
  {
   "cell_type": "code",
   "execution_count": 47,
   "id": "bcd7bdb5-e606-43a7-8de6-529554573520",
   "metadata": {},
   "outputs": [
    {
     "name": "stdout",
     "output_type": "stream",
     "text": [
      "77 is the maximum element.\n"
     ]
    }
   ],
   "source": [
    "def max_three_number(x,y,z):\n",
    "    return max(x,y,z)\n",
    "\n",
    "max_ele = max_three_number(22,77,55) # 77\n",
    "print(f\"{max_ele} is the maximum element.\")"
   ]
  },
  {
   "cell_type": "code",
   "execution_count": 48,
   "id": "a57d2bbb-2088-4d5f-9ea4-d9294e0871e9",
   "metadata": {},
   "outputs": [
    {
     "name": "stdout",
     "output_type": "stream",
     "text": [
      "314.0\n"
     ]
    }
   ],
   "source": [
    "# Calculate the area of a circle\n",
    "pi = 3.14\n",
    "def area_of_circle(radius):\n",
    "    return pi * (radius ** 2)\n",
    "\n",
    "area = area_of_circle(10)\n",
    "print(area)"
   ]
  },
  {
   "cell_type": "code",
   "execution_count": 49,
   "id": "d1e41ae7-3371-4421-afcd-097a8f39d95e",
   "metadata": {},
   "outputs": [
    {
     "name": "stdout",
     "output_type": "stream",
     "text": [
      "200\n"
     ]
    }
   ],
   "source": [
    "# Area of Rectange\n",
    "def area_of_rect(length , width):\n",
    "    return length * width\n",
    "\n",
    "rect_area = area_of_rect(10,20)\n",
    "print(rect_area)"
   ]
  },
  {
   "cell_type": "code",
   "execution_count": 52,
   "id": "f23a4a41-ba09-4023-89ec-eb9c8367aba0",
   "metadata": {},
   "outputs": [
    {
     "data": {
      "text/plain": [
       "30"
      ]
     },
     "execution_count": 52,
     "metadata": {},
     "output_type": "execute_result"
    }
   ],
   "source": [
    "import math\n",
    "dir(math)\n",
    "math.lcm(10,15)"
   ]
  },
  {
   "cell_type": "code",
   "execution_count": 53,
   "id": "68ee8bf7-610b-4ec3-834b-74b52606be09",
   "metadata": {},
   "outputs": [
    {
     "data": {
      "text/plain": [
       "180"
      ]
     },
     "execution_count": 53,
     "metadata": {},
     "output_type": "execute_result"
    }
   ],
   "source": [
    "math.lcm(12,15,18)"
   ]
  },
  {
   "cell_type": "code",
   "execution_count": 54,
   "id": "635678a1-f397-44cb-931a-49aa378ed16e",
   "metadata": {},
   "outputs": [
    {
     "name": "stdout",
     "output_type": "stream",
     "text": [
      "122.0\n"
     ]
    }
   ],
   "source": [
    "def celcius_to_fahrenheit(c):\n",
    "    f = (1.8 * c) + 32\n",
    "    return f\n",
    "    \n",
    "fahrenheit = celcius_to_fahrenheit(50)\n",
    "print(fahrenheit)"
   ]
  },
  {
   "cell_type": "code",
   "execution_count": 55,
   "id": "068c6b4d-38f8-43d9-8f48-5a1c87591996",
   "metadata": {},
   "outputs": [
    {
     "name": "stdout",
     "output_type": "stream",
     "text": [
      "158.0\n"
     ]
    }
   ],
   "source": [
    "fahrenheit = celcius_to_fahrenheit(70)\n",
    "print(fahrenheit)"
   ]
  },
  {
   "cell_type": "code",
   "execution_count": 61,
   "id": "ccc71f0d-c7d8-4c4a-8201-5b7441c88b5d",
   "metadata": {},
   "outputs": [
    {
     "name": "stdout",
     "output_type": "stream",
     "text": [
      "48.888888888888886\n"
     ]
    }
   ],
   "source": [
    "def fahrenheit_to_celcius(f):\n",
    "    c = (f - 32)/1.8\n",
    "    return c\n",
    "    \n",
    "celcius = fahrenheit_to_celcius(120)\n",
    "print(celcius)"
   ]
  },
  {
   "cell_type": "code",
   "execution_count": 63,
   "id": "1bbcc534-2b7f-4e00-ac96-cca176962f48",
   "metadata": {},
   "outputs": [
    {
     "name": "stdout",
     "output_type": "stream",
     "text": [
      "2100.0\n"
     ]
    }
   ],
   "source": [
    "# bill_amount > 1500 -> 25% discount else 10% discount\n",
    "def billing_system(*item_cost):\n",
    "    bill_amount = 0\n",
    "    final_amt_to_pay = 0\n",
    "    for amt in item_cost:\n",
    "        bill_amount += amt\n",
    "    if bill_amount > 1500:\n",
    "        final_amt_to_pay = bill_amount - (bill_amount * 0.25)\n",
    "    else:\n",
    "        final_amt_to_pay = bill_amount - (bill_amount * 0.10)\n",
    "    return final_amt_to_pay\n",
    "        # final_amt_to_pay = (bill_amount * 0.75)\n",
    "total_pay = billing_system(100,200,300,400,500,600,700)\n",
    "print(total_pay)"
   ]
  },
  {
   "cell_type": "code",
   "execution_count": 67,
   "id": "d6701347-3dd6-4307-8b03-20ae8658b588",
   "metadata": {},
   "outputs": [
    {
     "name": "stdout",
     "output_type": "stream",
     "text": [
      "4200.0\n"
     ]
    }
   ],
   "source": [
    "# Positional Argument with Arbitary Argument [Qty * item_cost]\n",
    "def billing_system(qty,*item_cost):\n",
    "    bill_amount = 0\n",
    "    final_amt_to_pay = 0\n",
    "    for amt in item_cost:\n",
    "        bill_amount += amt\n",
    "    if bill_amount > 1500:\n",
    "        final_amt_to_pay = bill_amount - (bill_amount * 0.25)\n",
    "    else:\n",
    "        final_amt_to_pay = bill_amount - (bill_amount * 0.10)\n",
    "    return final_amt_to_pay * qty\n",
    "        # final_amt_to_pay = (bill_amount * 0.75)\n",
    "total_pay = billing_system(2,100,200,300,400,500,600,700)\n",
    "print(total_pay)"
   ]
  },
  {
   "cell_type": "code",
   "execution_count": 68,
   "id": "6331264a-f2d9-42bf-8dc5-3ba5e37c387f",
   "metadata": {},
   "outputs": [
    {
     "name": "stdout",
     "output_type": "stream",
     "text": [
      "2205.0\n"
     ]
    }
   ],
   "source": [
    "# Positional Argument with Arbitary Argument [GST Addition] [5% GST Standard]\n",
    "def billing_system(gst,*item_cost):\n",
    "    bill_amount = 0\n",
    "    final_amt_to_pay = 0\n",
    "    for amt in item_cost:\n",
    "        bill_amount += amt\n",
    "    if bill_amount > 1500:\n",
    "        final_amt_to_pay = bill_amount - (bill_amount * 0.25)\n",
    "    else:\n",
    "        final_amt_to_pay = bill_amount - (bill_amount * 0.10)\n",
    "    return final_amt_to_pay + (final_amt_to_pay * gst)\n",
    "        # final_amt_to_pay = (bill_amount * 0.75)\n",
    "total_pay = billing_system(0.05,100,200,300,400,500,600,700)\n",
    "print(total_pay)"
   ]
  },
  {
   "cell_type": "code",
   "execution_count": 87,
   "id": "364712ec-8eef-46ff-b1c3-8c771bb1fabc",
   "metadata": {},
   "outputs": [],
   "source": [
    "gst_slab = {\n",
    "    'grocery' : 0.05,\n",
    "    'clothings' : 0.12,\n",
    "    'shoes' : 0.18,\n",
    "    'cab_service' : 0.05,\n",
    "    'luxury_item' : 0.40\n",
    "}\n",
    "bill_invoice = {\n",
    "    'grocery' : 100,\n",
    "    'clothings' : 200,\n",
    "    'shoes' : 300,\n",
    "    'cab_service': 400,\n",
    "    'luxury_item' : 700\n",
    "}"
   ]
  },
  {
   "cell_type": "code",
   "execution_count": 88,
   "id": "dd72dcb3-ce9a-4df5-82a4-27d03b92d0f1",
   "metadata": {},
   "outputs": [
    {
     "data": {
      "text/plain": [
       "dict_items([('grocery', 100), ('clothings', 200), ('shoes', 300), ('cab_service', 400), ('luxury_item', 700)])"
      ]
     },
     "execution_count": 88,
     "metadata": {},
     "output_type": "execute_result"
    }
   ],
   "source": [
    "bill_invoice.items()"
   ]
  },
  {
   "cell_type": "code",
   "execution_count": 89,
   "id": "4cfb80b7-034f-4528-a324-70928b605efa",
   "metadata": {},
   "outputs": [
    {
     "name": "stdout",
     "output_type": "stream",
     "text": [
      "[105.0, 224.0, 354.0, 420.0, 980.0]\n"
     ]
    }
   ],
   "source": [
    "total_bill = []\n",
    "for gst_slab_items , gst_slab_gst in gst_slab.items(): \n",
    "    for bill_invoice_items , bill_invoice_amount in bill_invoice.items():\n",
    "        if gst_slab_items == bill_invoice_items:\n",
    "            bill_invoice_amount = bill_invoice_amount + (bill_invoice_amount * gst_slab_gst)\n",
    "            total_bill.append(bill_invoice_amount)\n",
    "        else:\n",
    "            continue\n",
    "\n",
    "print(total_bill)"
   ]
  },
  {
   "cell_type": "code",
   "execution_count": 92,
   "id": "4dc0dafc-62a3-4513-bf69-522d21f1c5e6",
   "metadata": {},
   "outputs": [
    {
     "name": "stdout",
     "output_type": "stream",
     "text": [
      "2083.0\n"
     ]
    }
   ],
   "source": [
    "# Arbitary Argument \n",
    "def billing_system(*item_cost):\n",
    "    bill_amount = 0\n",
    "    for amt in item_cost:\n",
    "        bill_amount += amt\n",
    "    return bill_amount\n",
    "\n",
    "total_pay = billing_system(*total_bill) # * with iterables will make it work\n",
    "print(total_pay)"
   ]
  },
  {
   "cell_type": "code",
   "execution_count": 96,
   "id": "c8276db6-bc18-41e2-8ae0-c175c18d5732",
   "metadata": {},
   "outputs": [],
   "source": [
    "gst_slab = {\n",
    "    'grocery' : 0.05,\n",
    "    'clothings' : 0.12,\n",
    "    'shoes' : 0.18,\n",
    "    'cab_service' : 0.05,\n",
    "    'luxury_item' : 0.40\n",
    "}\n",
    "bill_invoice = {\n",
    "    'grocery' : [100],\n",
    "    'clothings' : [200],\n",
    "    'shoes' : [300,500],\n",
    "    'cab_service': [400],\n",
    "    'luxury_item' : [600,700]\n",
    "}"
   ]
  },
  {
   "cell_type": "code",
   "execution_count": 97,
   "id": "0c7157b7-32b1-4238-864f-aa4800b9f290",
   "metadata": {},
   "outputs": [
    {
     "data": {
      "text/plain": [
       "dict_values([[100], [200], [300, 500], [400], [600, 700]])"
      ]
     },
     "execution_count": 97,
     "metadata": {},
     "output_type": "execute_result"
    }
   ],
   "source": [
    "bill_invoice.values()"
   ]
  },
  {
   "cell_type": "code",
   "execution_count": 98,
   "id": "3d35c65d-f507-42b4-ad78-1b9f3ccbab34",
   "metadata": {},
   "outputs": [
    {
     "data": {
      "text/plain": [
       "[100, 200, 300, 500, 400, 600, 700]"
      ]
     },
     "execution_count": 98,
     "metadata": {},
     "output_type": "execute_result"
    }
   ],
   "source": [
    "flatten_list = []\n",
    "for row in bill_invoice.values():\n",
    "    for val in row:\n",
    "        flatten_list.append(val)\n",
    "\n",
    "flatten_list"
   ]
  },
  {
   "cell_type": "code",
   "execution_count": 100,
   "id": "cd657e43-618b-4ded-b445-f741b72f219c",
   "metadata": {},
   "outputs": [
    {
     "name": "stdout",
     "output_type": "stream",
     "text": [
      "[105.0, 224.0, 354.0, 590.0, 420.0, 840.0, 980.0]\n"
     ]
    }
   ],
   "source": [
    "flatten_list = []\n",
    "for row in bill_invoice.values():\n",
    "    for val in row:\n",
    "        flatten_list.append(val)\n",
    "\n",
    "flatten_list\n",
    "total_bill = []\n",
    "for gst_slab_items , gst_slab_gst in gst_slab.items(): \n",
    "    for bill_invoice_items , bill_invoice_amount in bill_invoice.items():\n",
    "        if gst_slab_items == bill_invoice_items:\n",
    "            for val in bill_invoice_amount:\n",
    "                bill_invoice_amount = val + (val * gst_slab_gst)\n",
    "                total_bill.append(bill_invoice_amount)\n",
    "        else:\n",
    "            continue\n",
    "\n",
    "print(total_bill)"
   ]
  },
  {
   "cell_type": "code",
   "execution_count": 101,
   "id": "ddd920c0-058b-4876-bf96-f44b32e6a528",
   "metadata": {},
   "outputs": [
    {
     "name": "stdout",
     "output_type": "stream",
     "text": [
      "3513.0\n"
     ]
    }
   ],
   "source": [
    "def billing_system(*item_cost):\n",
    "    bill_amount = 0\n",
    "    for amt in item_cost:\n",
    "        bill_amount += amt\n",
    "    return bill_amount\n",
    "\n",
    "total_pay = billing_system(*total_bill) # * with iterables will make it work\n",
    "print(total_pay)"
   ]
  },
  {
   "cell_type": "code",
   "execution_count": 7,
   "id": "d3674bcd-5c11-4e27-8b58-750158a85e4d",
   "metadata": {},
   "outputs": [
    {
     "name": "stdout",
     "output_type": "stream",
     "text": [
      "21 is not a Prime Number\n"
     ]
    }
   ],
   "source": [
    "# Checking for a Prime:\n",
    "def is_prime(val):\n",
    "    if val <=1:\n",
    "        print(f\"{val} is not a Prime Number\")\n",
    "        return\n",
    "    for i in range(2,val): # [2,3,4,5,6...val-1] \n",
    "        if val % i == 0:\n",
    "            print(f\"{val} is not a Prime Number\")\n",
    "            break\n",
    "    else:\n",
    "        print(f\"{val} is a Prime Number\")\n",
    "\n",
    "is_prime(21)"
   ]
  },
  {
   "cell_type": "code",
   "execution_count": 4,
   "id": "452a47f6-99df-4df6-8510-c6f2976cb90b",
   "metadata": {},
   "outputs": [
    {
     "name": "stdout",
     "output_type": "stream",
     "text": [
      "17 is a Prime Number\n"
     ]
    }
   ],
   "source": [
    "is_prime(17)"
   ]
  },
  {
   "cell_type": "code",
   "execution_count": 8,
   "id": "db5c59d9-4b10-4206-ae3f-afadc8494d1d",
   "metadata": {},
   "outputs": [],
   "source": [
    "is_prime(-17)"
   ]
  },
  {
   "cell_type": "code",
   "execution_count": 10,
   "id": "ce20f585-d3a2-417c-85e6-853a281e1fcb",
   "metadata": {},
   "outputs": [
    {
     "name": "stdout",
     "output_type": "stream",
     "text": [
      "7 is a Prime Number\n"
     ]
    }
   ],
   "source": [
    "is_prime(7)"
   ]
  },
  {
   "cell_type": "code",
   "execution_count": 12,
   "id": "b72af1f8-6fae-47b1-9881-2e4c90ccb18c",
   "metadata": {},
   "outputs": [
    {
     "name": "stdout",
     "output_type": "stream",
     "text": [
      "It is a palindrome.\n"
     ]
    }
   ],
   "source": [
    "# Check for a Palindrome -> 'racecar' , 'wow', 'nitin', 'mom', 'madam', 'malayalam'\n",
    "def is_palindrome(val):\n",
    "    return str(val) == str(val)[::-1] # reverse of it [Boolean Return]\n",
    "\n",
    "_bool = is_palindrome('racecar')\n",
    "if _bool == True:\n",
    "    print(f\"It is a palindrome.\")\n",
    "else:\n",
    "    print(f\" It is not a palindrome.\")"
   ]
  },
  {
   "cell_type": "code",
   "execution_count": 13,
   "id": "7bdd8094-d818-4d30-86a4-8925be963744",
   "metadata": {},
   "outputs": [
    {
     "name": "stdin",
     "output_type": "stream",
     "text": [
      "Enter the value to check wether its a palindrome or not:  malayalam\n"
     ]
    },
    {
     "name": "stdout",
     "output_type": "stream",
     "text": [
      "malayalam is a palindrome.\n"
     ]
    }
   ],
   "source": [
    "def is_palindrome(val):\n",
    "    return str(val) == str(val)[::-1] # reverse of it [Boolean Return]\n",
    "\n",
    "val = input(\"Enter the value to check wether its a palindrome or not: \")\n",
    "_bool = is_palindrome(val)\n",
    "if _bool == True:\n",
    "    print(f\"{val} is a palindrome.\")\n",
    "else:\n",
    "    print(f\"{val} is not a palindrome.\")"
   ]
  },
  {
   "cell_type": "code",
   "execution_count": 15,
   "id": "2aa86088-747f-4959-93bb-fc23d1791e21",
   "metadata": {},
   "outputs": [
    {
     "name": "stdin",
     "output_type": "stream",
     "text": [
      "Enter the value to check wether its a palindrome or not:  Phone\n"
     ]
    },
    {
     "name": "stdout",
     "output_type": "stream",
     "text": [
      "False\n",
      "Phone is not a palindrome.\n"
     ]
    }
   ],
   "source": [
    "def is_palindrome(val):\n",
    "    return str(val) == str(val)[::-1] # reverse of it [Boolean Return]\n",
    "\n",
    "val = input(\"Enter the value to check wether its a palindrome or not: \")\n",
    "_bool = is_palindrome(val)\n",
    "print(_bool)\n",
    "if _bool == True:\n",
    "    print(f\"{val} is a palindrome.\")\n",
    "else:\n",
    "    print(f\"{val} is not a palindrome.\")"
   ]
  },
  {
   "cell_type": "code",
   "execution_count": 16,
   "id": "3408716d-508d-4c5d-a3da-158934a7b430",
   "metadata": {},
   "outputs": [
    {
     "name": "stdout",
     "output_type": "stream",
     "text": [
      "True\n"
     ]
    }
   ],
   "source": [
    "def is_armstrong(val):\n",
    "    str_val = str(val) # '153'\n",
    "    num_digits = len(str_val) # 153 -> 3\n",
    "    sum_of_power = 0\n",
    "    for digit in str_val:\n",
    "        sum_of_power += int(digit) ** num_digits\n",
    "    return  sum_of_power == val # Boolean Return\n",
    "\n",
    "print(is_armstrong(153))"
   ]
  },
  {
   "cell_type": "code",
   "execution_count": 17,
   "id": "bb3bc539-4255-4c36-8c42-a539843de04a",
   "metadata": {},
   "outputs": [
    {
     "name": "stdout",
     "output_type": "stream",
     "text": [
      "False\n"
     ]
    }
   ],
   "source": [
    "print(is_armstrong(129))"
   ]
  },
  {
   "cell_type": "code",
   "execution_count": 18,
   "id": "5f7951bb-6daa-4009-b7fb-48d2829b6047",
   "metadata": {},
   "outputs": [
    {
     "name": "stdout",
     "output_type": "stream",
     "text": [
      "True\n"
     ]
    }
   ],
   "source": [
    "print(is_armstrong(371))"
   ]
  },
  {
   "cell_type": "code",
   "execution_count": 19,
   "id": "78e8fd81-d7ba-48cc-951a-d5f259116fb5",
   "metadata": {},
   "outputs": [
    {
     "name": "stdout",
     "output_type": "stream",
     "text": [
      "True\n"
     ]
    }
   ],
   "source": [
    "print(is_armstrong(1634))"
   ]
  },
  {
   "cell_type": "code",
   "execution_count": 23,
   "id": "e9195a01-554c-4fe2-ad19-46e2578c6c36",
   "metadata": {},
   "outputs": [
    {
     "data": {
      "text/plain": [
       "6"
      ]
     },
     "execution_count": 23,
     "metadata": {},
     "output_type": "execute_result"
    }
   ],
   "source": [
    "# GCD (Greatest Common Divisor):\n",
    "def gcd(x,y): # 12 , 18\n",
    "    while y!=0:\n",
    "        x,y = y , x % y \n",
    "    return abs(x)\n",
    "\n",
    "gcd(12,18) # 6"
   ]
  },
  {
   "cell_type": "code",
   "execution_count": 24,
   "id": "5faf88cf-b73d-4c60-97cc-220884336bfe",
   "metadata": {},
   "outputs": [
    {
     "data": {
      "text/plain": [
       "36"
      ]
     },
     "execution_count": 24,
     "metadata": {},
     "output_type": "execute_result"
    }
   ],
   "source": [
    "# LCM (Least Common Multiples)\n",
    "def lcm(x,y):\n",
    "    return abs(x*y) // gcd(x,y)\n",
    "\n",
    "lcm(12,18)"
   ]
  },
  {
   "cell_type": "code",
   "execution_count": 25,
   "id": "646520fd-e88c-4d08-ad68-ca5e096a961c",
   "metadata": {},
   "outputs": [
    {
     "data": {
      "text/plain": [
       "36"
      ]
     },
     "execution_count": 25,
     "metadata": {},
     "output_type": "execute_result"
    }
   ],
   "source": [
    "lcm(12,-18)"
   ]
  },
  {
   "cell_type": "markdown",
   "id": "8699a267-b660-44e9-8685-33933afd276c",
   "metadata": {},
   "source": [
    "# Passing a Function as an argument:\n",
    "#### In Python Fuctions are First Class Citizen -> this means they can be :\n",
    "- Assigned to variables\n",
    "- Passes as argument to other functions\n",
    "- Returned from other Functions"
   ]
  },
  {
   "cell_type": "code",
   "execution_count": 28,
   "id": "080c56bd-4e5f-4377-802e-124f81027490",
   "metadata": {},
   "outputs": [
    {
     "name": "stdout",
     "output_type": "stream",
     "text": [
      "Original Prices :  [100, 250, 399, 50, 120]\n",
      "Discounted Prices :  [90.0, 225.0, 359.1, 45.0, 108.0]\n",
      "Prices with tax :  [94.5, 236.25, 377.06, 47.25, 113.4]\n"
     ]
    }
   ],
   "source": [
    "def transfrom_list(func , items):\n",
    "    return [func(item) for item in items]\n",
    "\n",
    "def apply_discount(price):\n",
    "    return round(price * 0.9, 2) # 10 discount = 1 - 0.1 = 0.9\n",
    "\n",
    "def add_tax(price):\n",
    "    return round(price * 1.05 , 2) # 5% tax\n",
    "\n",
    "prices = [100,250,399,50,120]\n",
    "discounted = transfrom_list(apply_discount , prices)\n",
    "taxed = transfrom_list(add_tax , discounted)\n",
    "\n",
    "print(\"Original Prices : \" , prices)\n",
    "print(\"Discounted Prices : \" , discounted)\n",
    "print(\"Prices with tax : \" , taxed)"
   ]
  },
  {
   "cell_type": "code",
   "execution_count": 29,
   "id": "31094a2e-a572-426a-a593-274936894d7d",
   "metadata": {},
   "outputs": [
    {
     "name": "stdout",
     "output_type": "stream",
     "text": [
      "Original Prices :  [100, 250, 399, 50, 120]\n",
      "Discounted Prices :  [90.0, 225.0, 359.1, 45.0, 108.0]\n",
      "Prices with tax :  [94.5, 236.25, 377.06, 47.25, 113.4]\n"
     ]
    }
   ],
   "source": [
    "def transfrom_list(func , items):\n",
    "    return_list = []\n",
    "    for item in items:\n",
    "        val = func(item)\n",
    "        return_list.append(val)\n",
    "    return return_list\n",
    "def apply_discount(price):\n",
    "    return round(price * 0.9, 2) # 10 discount = 1 - 0.1 = 0.9\n",
    "\n",
    "def add_tax(price):\n",
    "    return round(price * 1.05 , 2) # 5% tax\n",
    "\n",
    "prices = [100,250,399,50,120]\n",
    "discounted = transfrom_list(apply_discount , prices)\n",
    "taxed = transfrom_list(add_tax , discounted)\n",
    "\n",
    "print(\"Original Prices : \" , prices)\n",
    "print(\"Discounted Prices : \" , discounted)\n",
    "print(\"Prices with tax : \" , taxed)"
   ]
  },
  {
   "cell_type": "code",
   "execution_count": 1,
   "id": "c8501aca-3693-4d9d-8424-338d543a6c54",
   "metadata": {},
   "outputs": [
    {
     "name": "stdout",
     "output_type": "stream",
     "text": [
      "18\n",
      "77\n"
     ]
    }
   ],
   "source": [
    "# Returning Sum & Products\n",
    "def sum_and_product(x,y):\n",
    "    return x+y , x*y\n",
    "\n",
    "_sum , _product = sum_and_product(11,7)\n",
    "print(_sum) # 18\n",
    "print(_product) # 77"
   ]
  },
  {
   "cell_type": "code",
   "execution_count": 2,
   "id": "c204eecc-0c21-48ad-a22d-ee6cedc93b30",
   "metadata": {},
   "outputs": [
    {
     "name": "stdout",
     "output_type": "stream",
     "text": [
      "18\n",
      "77\n",
      "4\n",
      "1.5714285714285714\n"
     ]
    }
   ],
   "source": [
    "def sum_and_product(x,y):\n",
    "    return x+y , x*y, x-y, x/y\n",
    "\n",
    "_sum , _product , _sub , _divide = sum_and_product(11,7)\n",
    "print(_sum) # 18\n",
    "print(_product) # 77\n",
    "print(_sub) # 4\n",
    "print(_divide) # 1.57"
   ]
  },
  {
   "cell_type": "code",
   "execution_count": 3,
   "id": "2c1afc39-080b-4fc6-a251-111c2b980f6d",
   "metadata": {},
   "outputs": [
    {
     "name": "stdout",
     "output_type": "stream",
     "text": [
      "10\n",
      "15\n"
     ]
    }
   ],
   "source": [
    "# Global Scope Vs Local Scope\n",
    "x = 10\n",
    "def greet():\n",
    "    y = 15\n",
    "    print(x) # 10\n",
    "    print(y) # 15\n",
    "greet()"
   ]
  },
  {
   "cell_type": "code",
   "execution_count": 5,
   "id": "7ecd3c51-e372-48b6-9a5c-fffef3abb9cc",
   "metadata": {},
   "outputs": [
    {
     "name": "stdout",
     "output_type": "stream",
     "text": [
      "10\n",
      "15\n",
      "10\n"
     ]
    }
   ],
   "source": [
    "# Global Scope Vs Local Scope\n",
    "x = 10\n",
    "def greet():\n",
    "    y = 15\n",
    "    print(x) # 10\n",
    "    print(y) # 15\n",
    "greet()\n",
    "print(x) # 10\n",
    "# print(y) # NameError: name 'y' is not defined"
   ]
  },
  {
   "cell_type": "code",
   "execution_count": 8,
   "id": "3dd2a065-045c-42fc-821d-c3311f97b3ac",
   "metadata": {},
   "outputs": [
    {
     "name": "stdout",
     "output_type": "stream",
     "text": [
      "10\n",
      "15\n"
     ]
    }
   ],
   "source": [
    "#  Local Scope\n",
    "def greet():\n",
    "    m = 10\n",
    "    n = 15\n",
    "    print(m) # 10\n",
    "    print(n) # 15\n",
    "greet()\n",
    "# print(m) # NameError: name 'm' is not defined\n",
    "# print(n) # NameError: name 'n' is not defined"
   ]
  },
  {
   "cell_type": "code",
   "execution_count": 9,
   "id": "01e0014a-ecb6-47a4-b36a-49a1bc160479",
   "metadata": {},
   "outputs": [
    {
     "name": "stdout",
     "output_type": "stream",
     "text": [
      "I'm feeling Happy\n",
      "I'm feeling worried\n",
      "I'm feeling Happy\n"
     ]
    }
   ],
   "source": [
    "gesture = \"Happy\" # global\n",
    "def how_you_feel():\n",
    "    gesture = \"worried\" # local\n",
    "    print(f\"I'm feeling {gesture}\")\n",
    "\n",
    "print(f\"I'm feeling {gesture}\") # Happy\n",
    "how_you_feel() # 'worried'\n",
    "print(f\"I'm feeling {gesture}\") # Happy"
   ]
  },
  {
   "cell_type": "code",
   "execution_count": 10,
   "id": "f3863daf-27d7-47bd-b5c4-9677b9d783ea",
   "metadata": {},
   "outputs": [
    {
     "name": "stdout",
     "output_type": "stream",
     "text": [
      "10\n",
      "15\n",
      "15\n"
     ]
    }
   ],
   "source": [
    "# What if I'll give power to local scope to make it recognize Globally [using 'global' keyword]\n",
    "i = 10 # global\n",
    "def greet():\n",
    "    global j\n",
    "    j = 15 # local\n",
    "    print(i) # 10\n",
    "    print(j) # 15\n",
    "\n",
    "greet()\n",
    "print(j) # 15"
   ]
  },
  {
   "cell_type": "code",
   "execution_count": 12,
   "id": "a3aad66e-d0a5-4ddf-b309-2f5361bb8bb1",
   "metadata": {},
   "outputs": [
    {
     "name": "stdout",
     "output_type": "stream",
     "text": [
      "11\n",
      "21\n",
      "51\n",
      "101\n",
      "7\n"
     ]
    }
   ],
   "source": [
    "# Nested Function [Level - 'LEGB']\n",
    "p = 11\n",
    "def outer_fx():\n",
    "    q = 21\n",
    "    def inner_fx():\n",
    "        r = 51\n",
    "        s = 101\n",
    "        print(p) # 11 [Global]\n",
    "        print(q) # 21 ['Enclosing Type']\n",
    "        print(r) # 51 ['Local']\n",
    "        print(s) # 101 ['Local']\n",
    "        print(len(['a','b','c','d',1,False,'Coding'])) # 7 ['Built In']\n",
    "    # print(p) # 11\n",
    "    # print(q) # 21\n",
    "    inner_fx()\n",
    "outer_fx()\n",
    "# print(p) # 11"
   ]
  },
  {
   "cell_type": "code",
   "execution_count": 14,
   "id": "98a29c0d-cbfe-4ba1-9682-a241b59e157a",
   "metadata": {},
   "outputs": [
    {
     "name": "stdout",
     "output_type": "stream",
     "text": [
      "11\n",
      "21\n",
      "11\n"
     ]
    }
   ],
   "source": [
    "# Nested Function [Level - 'LEGB']\n",
    "p = 11\n",
    "def outer_fx():\n",
    "    q = 21\n",
    "    def inner_fx():\n",
    "        r = 51\n",
    "        s = 101\n",
    "        print(p) # 11 [Global]\n",
    "        print(q) # 21 ['Enclosing Type']\n",
    "        print(r) # 51 ['Local']\n",
    "        print(s) # 101 ['Local']\n",
    "        print(len(['a','b','c','d',1,False,'Coding'])) # 7 ['Built In']\n",
    "    print(p) # 11\n",
    "    print(q) # 21\n",
    "    # inner_fx()\n",
    "outer_fx()\n",
    "print(p) # 11"
   ]
  },
  {
   "cell_type": "code",
   "execution_count": 17,
   "id": "6cca9b98-3215-4349-9d62-17e2e036631e",
   "metadata": {},
   "outputs": [
    {
     "name": "stdout",
     "output_type": "stream",
     "text": [
      "200\n",
      "101\n",
      "21\n",
      "51\n",
      "101\n"
     ]
    }
   ],
   "source": [
    "a = 11\n",
    "b = 21\n",
    "def outer_fx():\n",
    "    c = 51\n",
    "    d = 77\n",
    "    def inner_fx():\n",
    "        e = 99\n",
    "        global f\n",
    "        f = 101\n",
    "        print(e+f) # 200\n",
    "    inner_fx()\n",
    "    print(f) # 101\n",
    "    print(b) # 21\n",
    "    print(c) # 51\n",
    "    # print(e) # Local Scope # NameError: name 'e' is not defined\n",
    "outer_fx()\n",
    "print(f) # 101"
   ]
  },
  {
   "cell_type": "code",
   "execution_count": 20,
   "id": "51d938df-15bc-4b83-b1be-2b6ecbb50d72",
   "metadata": {},
   "outputs": [
    {
     "name": "stdout",
     "output_type": "stream",
     "text": [
      "In First Layer\n",
      "15\n",
      "25\n",
      "In Second Layer\n",
      "35\n",
      "25\n",
      "45\n"
     ]
    }
   ],
   "source": [
    "# Shadowing in Nested Scope: [uvw]\n",
    "u = 5\n",
    "def first_layer():\n",
    "    u = 15\n",
    "    v = 25\n",
    "\n",
    "    def second_layer():\n",
    "        u = 35\n",
    "        w = 45\n",
    "        print(\"In Second Layer\")\n",
    "        print(u) # 35\n",
    "        print(v) # 25\n",
    "        print(w) # 45\n",
    "\n",
    "    print(\"In First Layer\")\n",
    "    print(u) # 15\n",
    "    print(v) # 25\n",
    "    second_layer()\n",
    "first_layer()\n",
    "# print(u) # 5 [Global Scope]"
   ]
  },
  {
   "cell_type": "code",
   "execution_count": 33,
   "id": "054368bd-a3cc-4d2d-b239-0c0b47542104",
   "metadata": {},
   "outputs": [
    {
     "name": "stdout",
     "output_type": "stream",
     "text": [
      "In First Layer\n",
      "17\n",
      "25\n",
      "In Second Layer\n",
      "35\n",
      "25\n",
      "45\n",
      "5\n"
     ]
    }
   ],
   "source": [
    "u = 5\n",
    "a = 7\n",
    "def first_layer():\n",
    "    u = a +  10 # 17\n",
    "    v = 25\n",
    "    \n",
    "    def second_layer():\n",
    "        u = 35\n",
    "        w = 45\n",
    "        print(\"In Second Layer\")\n",
    "        print(u) # 35\n",
    "        print(v) # 25\n",
    "        print(w) # 45\n",
    "\n",
    "    print(\"In First Layer\")\n",
    "    print(u) # 17\n",
    "    print(v) # 25\n",
    "    second_layer()\n",
    "first_layer()\n",
    "print(u) # 5 [Global Scope]"
   ]
  },
  {
   "cell_type": "code",
   "execution_count": 34,
   "id": "1b45c27a-ba03-42f4-aaf5-14f784e58fd8",
   "metadata": {},
   "outputs": [
    {
     "name": "stdout",
     "output_type": "stream",
     "text": [
      "In First Layer\n",
      "17\n",
      "42\n",
      "In Second Layer\n",
      "35\n",
      "42\n",
      "45\n",
      "5\n"
     ]
    }
   ],
   "source": [
    "u = 5\n",
    "a = 7\n",
    "def first_layer():\n",
    "    u = a +  10 # 17\n",
    "    v = u + 25 # 42\n",
    "    \n",
    "    def second_layer():\n",
    "        u = 35\n",
    "        w = 45\n",
    "        print(\"In Second Layer\")\n",
    "        print(u) # 35\n",
    "        print(v) # 42\n",
    "        print(w) # 45\n",
    "\n",
    "    print(\"In First Layer\")\n",
    "    print(u) # 17\n",
    "    print(v) # 42\n",
    "    second_layer()\n",
    "first_layer()\n",
    "print(u) # 5 [Global Scope]"
   ]
  },
  {
   "cell_type": "code",
   "execution_count": 21,
   "id": "4abb34c8-7695-4940-817c-5c8476f41ca1",
   "metadata": {},
   "outputs": [
    {
     "name": "stdout",
     "output_type": "stream",
     "text": [
      "Starting the Process..\n",
      "Starting Step One\n",
      "Starting Step Two\n",
      "Performing the Final Operations......\n",
      "Step Two Complete\n",
      "Step One Complete\n",
      "Main Process Complete.\n"
     ]
    }
   ],
   "source": [
    "# Nested Function with Internal Call\n",
    "def start_process():\n",
    "    print(\"Starting the Process..\")\n",
    "    step_one()\n",
    "    print(\"Main Process Complete.\")\n",
    "\n",
    "def step_one():\n",
    "    print(\"Starting Step One\")\n",
    "    step_two()\n",
    "    print(\"Step One Complete\")\n",
    "\n",
    "def step_two():\n",
    "    print(\"Starting Step Two\")\n",
    "    print(\"Performing the Final Operations......\")\n",
    "    print(\"Step Two Complete\")\n",
    "\n",
    "start_process()"
   ]
  },
  {
   "cell_type": "code",
   "execution_count": 23,
   "id": "bdf62f47-b596-4c27-82e1-3bbbc5a40175",
   "metadata": {},
   "outputs": [
    {
     "name": "stdout",
     "output_type": "stream",
     "text": [
      "(18, 77)\n"
     ]
    }
   ],
   "source": [
    "# Complex Nested Functions:\n",
    "def math_operations(p,q):\n",
    "    def do_sum(m,n):\n",
    "        return m+n\n",
    "    def do_product(m,n):\n",
    "        return m*n\n",
    "    def execute(action,m,n):\n",
    "        if action == 'sum':\n",
    "            return do_sum(m,n)\n",
    "        elif action == 'product':\n",
    "            return do_product(m,n)\n",
    "        else:\n",
    "            return 'Unknown Action'  \n",
    "    return execute(\"sum\",p,q) , execute(\"product\",p,q)\n",
    "\n",
    "result = math_operations(11,7) # (sum,product)\n",
    "print(result) # (18,77)"
   ]
  },
  {
   "cell_type": "code",
   "execution_count": 24,
   "id": "2df313b4-09b6-44f1-a32b-4f891be2fb89",
   "metadata": {},
   "outputs": [
    {
     "name": "stdout",
     "output_type": "stream",
     "text": [
      "120\n"
     ]
    }
   ],
   "source": [
    "def factorial(n):\n",
    "    if n == 0 or n == 1: # Base Case\n",
    "        return 1\n",
    "    else:\n",
    "        return n * factorial(n-1)\n",
    "\n",
    "fact = factorial(5) # 120\n",
    "print(fact)"
   ]
  },
  {
   "cell_type": "code",
   "execution_count": 25,
   "id": "407d40fe-94ec-4ce8-b2ca-45694d3debeb",
   "metadata": {},
   "outputs": [
    {
     "name": "stdout",
     "output_type": "stream",
     "text": [
      "3628800\n"
     ]
    }
   ],
   "source": [
    "fact = factorial(10)\n",
    "print(fact)"
   ]
  },
  {
   "cell_type": "code",
   "execution_count": 27,
   "id": "f8268f5d-0670-4a9b-9859-b2bb3f85abbd",
   "metadata": {},
   "outputs": [
    {
     "name": "stdout",
     "output_type": "stream",
     "text": [
      "120\n"
     ]
    }
   ],
   "source": [
    "# Iterative Approach:\n",
    "def factorial(n):\n",
    "    result = 1\n",
    "    for i in range(2 , n+1):\n",
    "        result *=i\n",
    "    return result\n",
    "print(factorial(5))"
   ]
  },
  {
   "cell_type": "code",
   "execution_count": null,
   "id": "3fba7dd5-3c00-48d1-a3bc-87f0cabb7fa3",
   "metadata": {},
   "outputs": [],
   "source": []
  },
  {
   "cell_type": "code",
   "execution_count": null,
   "id": "f5c24ce0-c74f-4b71-85e7-3732e957c86f",
   "metadata": {},
   "outputs": [],
   "source": []
  },
  {
   "cell_type": "code",
   "execution_count": null,
   "id": "ab68a8fb-a72b-4357-93dd-51644f708b69",
   "metadata": {},
   "outputs": [],
   "source": []
  },
  {
   "cell_type": "code",
   "execution_count": null,
   "id": "10b0a584-8abb-4e2c-82be-cf269b67091f",
   "metadata": {},
   "outputs": [],
   "source": []
  },
  {
   "cell_type": "code",
   "execution_count": null,
   "id": "6c9971aa-2ee5-434d-9371-d5d913a0eea5",
   "metadata": {},
   "outputs": [],
   "source": []
  },
  {
   "cell_type": "code",
   "execution_count": null,
   "id": "0f2b6102-ce78-4d59-bb85-c21c9650d983",
   "metadata": {},
   "outputs": [],
   "source": []
  },
  {
   "cell_type": "code",
   "execution_count": null,
   "id": "d9c73072-c3c3-4366-b945-b01d92e1ed0d",
   "metadata": {},
   "outputs": [],
   "source": []
  },
  {
   "cell_type": "code",
   "execution_count": null,
   "id": "b956920d-fb0a-40e4-b210-0c0d61ac8218",
   "metadata": {},
   "outputs": [],
   "source": []
  },
  {
   "cell_type": "code",
   "execution_count": null,
   "id": "56937cc3-9155-46ee-8eb2-9b55d550bf88",
   "metadata": {},
   "outputs": [],
   "source": []
  },
  {
   "cell_type": "code",
   "execution_count": null,
   "id": "2ff20fcf-7ea3-474b-9233-a1705faf72a7",
   "metadata": {},
   "outputs": [],
   "source": []
  },
  {
   "cell_type": "code",
   "execution_count": null,
   "id": "5d863809-dd02-46c2-b6ab-ff04e150f7b6",
   "metadata": {},
   "outputs": [],
   "source": []
  },
  {
   "cell_type": "code",
   "execution_count": null,
   "id": "d03c69d9-1825-440d-8bf1-24bab68e00eb",
   "metadata": {},
   "outputs": [],
   "source": []
  },
  {
   "cell_type": "code",
   "execution_count": null,
   "id": "33e21578-b1a7-419b-a2ab-52bc264ff798",
   "metadata": {},
   "outputs": [],
   "source": []
  },
  {
   "cell_type": "code",
   "execution_count": null,
   "id": "8bd55c9e-89b1-4055-afeb-56d099e54bd1",
   "metadata": {},
   "outputs": [],
   "source": []
  },
  {
   "cell_type": "code",
   "execution_count": null,
   "id": "3522efcf-b275-4760-9a94-177e5b4945b0",
   "metadata": {},
   "outputs": [],
   "source": []
  },
  {
   "cell_type": "code",
   "execution_count": null,
   "id": "79685a1e-085e-4d75-a111-b43fab8fdcb4",
   "metadata": {},
   "outputs": [],
   "source": []
  }
 ],
 "metadata": {
  "kernelspec": {
   "display_name": "Python [conda env:new.anaconda]",
   "language": "python",
   "name": "conda-env-new.anaconda-py"
  },
  "language_info": {
   "codemirror_mode": {
    "name": "ipython",
    "version": 3
   },
   "file_extension": ".py",
   "mimetype": "text/x-python",
   "name": "python",
   "nbconvert_exporter": "python",
   "pygments_lexer": "ipython3",
   "version": "3.12.7"
  }
 },
 "nbformat": 4,
 "nbformat_minor": 5
}
