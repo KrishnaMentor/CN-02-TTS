{
 "cells": [
  {
   "cell_type": "markdown",
   "id": "2f73d89a-88b9-4070-a1fa-a31b1c19e1b6",
   "metadata": {},
   "source": [
    "## What is Numpy?\n",
    "#### Numpy (Numerical Python) is a core library for scientific and numerical computing in Python.\n",
    "\n",
    "## Why use Numpy?\n",
    "- Fast : Works with Large, multi Dimensional Arrays stored in continuguous memory blocks\n",
    "- Effecient : Operations are optimized via 'C' under the hood.\n",
    "- Foundational : Powered with many Scientific Libraries (eg. Pandas, Scipy , Tensorflow)\n",
    "\n",
    "### Numpy Also:\n",
    "- offers the statistical tools like - mean, median, std, variance , etc.\n",
    "- Intergrates well with Visualization Libraries Like - Matplotlib."
   ]
  },
  {
   "cell_type": "raw",
   "id": "b4868bb3-edb4-435b-bee1-00961a439ecd",
   "metadata": {},
   "source": [
    "# Install\n",
    "conda install numpy\n",
    "OR\n",
    "pip install numpy"
   ]
  },
  {
   "cell_type": "code",
   "execution_count": 2,
   "id": "8cdcef62-7952-4e68-a008-fc900aa01073",
   "metadata": {
    "scrolled": true
   },
   "outputs": [
    {
     "data": {
      "text/plain": [
       "['ALLOW_THREADS',\n",
       " 'BUFSIZE',\n",
       " 'CLIP',\n",
       " 'DataSource',\n",
       " 'ERR_CALL',\n",
       " 'ERR_DEFAULT',\n",
       " 'ERR_IGNORE',\n",
       " 'ERR_LOG',\n",
       " 'ERR_PRINT',\n",
       " 'ERR_RAISE',\n",
       " 'ERR_WARN',\n",
       " 'FLOATING_POINT_SUPPORT',\n",
       " 'FPE_DIVIDEBYZERO',\n",
       " 'FPE_INVALID',\n",
       " 'FPE_OVERFLOW',\n",
       " 'FPE_UNDERFLOW',\n",
       " 'False_',\n",
       " 'Inf',\n",
       " 'Infinity',\n",
       " 'MAXDIMS',\n",
       " 'MAY_SHARE_BOUNDS',\n",
       " 'MAY_SHARE_EXACT',\n",
       " 'NAN',\n",
       " 'NINF',\n",
       " 'NZERO',\n",
       " 'NaN',\n",
       " 'PINF',\n",
       " 'PZERO',\n",
       " 'RAISE',\n",
       " 'RankWarning',\n",
       " 'SHIFT_DIVIDEBYZERO',\n",
       " 'SHIFT_INVALID',\n",
       " 'SHIFT_OVERFLOW',\n",
       " 'SHIFT_UNDERFLOW',\n",
       " 'ScalarType',\n",
       " 'True_',\n",
       " 'UFUNC_BUFSIZE_DEFAULT',\n",
       " 'UFUNC_PYVALS_NAME',\n",
       " 'WRAP',\n",
       " '_CopyMode',\n",
       " '_NoValue',\n",
       " '_UFUNC_API',\n",
       " '__NUMPY_SETUP__',\n",
       " '__all__',\n",
       " '__builtins__',\n",
       " '__cached__',\n",
       " '__config__',\n",
       " '__deprecated_attrs__',\n",
       " '__dir__',\n",
       " '__doc__',\n",
       " '__expired_functions__',\n",
       " '__file__',\n",
       " '__former_attrs__',\n",
       " '__future_scalars__',\n",
       " '__getattr__',\n",
       " '__loader__',\n",
       " '__name__',\n",
       " '__package__',\n",
       " '__path__',\n",
       " '__spec__',\n",
       " '__version__',\n",
       " '_add_newdoc_ufunc',\n",
       " '_builtins',\n",
       " '_distributor_init',\n",
       " '_financial_names',\n",
       " '_get_promotion_state',\n",
       " '_globals',\n",
       " '_int_extended_msg',\n",
       " '_mat',\n",
       " '_no_nep50_warning',\n",
       " '_pyinstaller_hooks_dir',\n",
       " '_pytesttester',\n",
       " '_set_promotion_state',\n",
       " '_specific_msg',\n",
       " '_typing',\n",
       " '_using_numpy2_behavior',\n",
       " '_utils',\n",
       " 'abs',\n",
       " 'absolute',\n",
       " 'add',\n",
       " 'add_docstring',\n",
       " 'add_newdoc',\n",
       " 'add_newdoc_ufunc',\n",
       " 'all',\n",
       " 'allclose',\n",
       " 'alltrue',\n",
       " 'amax',\n",
       " 'amin',\n",
       " 'angle',\n",
       " 'any',\n",
       " 'append',\n",
       " 'apply_along_axis',\n",
       " 'apply_over_axes',\n",
       " 'arange',\n",
       " 'arccos',\n",
       " 'arccosh',\n",
       " 'arcsin',\n",
       " 'arcsinh',\n",
       " 'arctan',\n",
       " 'arctan2',\n",
       " 'arctanh',\n",
       " 'argmax',\n",
       " 'argmin',\n",
       " 'argpartition',\n",
       " 'argsort',\n",
       " 'argwhere',\n",
       " 'around',\n",
       " 'array',\n",
       " 'array2string',\n",
       " 'array_equal',\n",
       " 'array_equiv',\n",
       " 'array_repr',\n",
       " 'array_split',\n",
       " 'array_str',\n",
       " 'asanyarray',\n",
       " 'asarray',\n",
       " 'asarray_chkfinite',\n",
       " 'ascontiguousarray',\n",
       " 'asfarray',\n",
       " 'asfortranarray',\n",
       " 'asmatrix',\n",
       " 'atleast_1d',\n",
       " 'atleast_2d',\n",
       " 'atleast_3d',\n",
       " 'average',\n",
       " 'bartlett',\n",
       " 'base_repr',\n",
       " 'binary_repr',\n",
       " 'bincount',\n",
       " 'bitwise_and',\n",
       " 'bitwise_not',\n",
       " 'bitwise_or',\n",
       " 'bitwise_xor',\n",
       " 'blackman',\n",
       " 'block',\n",
       " 'bmat',\n",
       " 'bool_',\n",
       " 'broadcast',\n",
       " 'broadcast_arrays',\n",
       " 'broadcast_shapes',\n",
       " 'broadcast_to',\n",
       " 'busday_count',\n",
       " 'busday_offset',\n",
       " 'busdaycalendar',\n",
       " 'byte',\n",
       " 'byte_bounds',\n",
       " 'bytes_',\n",
       " 'c_',\n",
       " 'can_cast',\n",
       " 'cast',\n",
       " 'cbrt',\n",
       " 'cdouble',\n",
       " 'ceil',\n",
       " 'cfloat',\n",
       " 'char',\n",
       " 'character',\n",
       " 'chararray',\n",
       " 'choose',\n",
       " 'clip',\n",
       " 'clongdouble',\n",
       " 'clongfloat',\n",
       " 'column_stack',\n",
       " 'common_type',\n",
       " 'compare_chararrays',\n",
       " 'compat',\n",
       " 'complex128',\n",
       " 'complex64',\n",
       " 'complex_',\n",
       " 'complexfloating',\n",
       " 'compress',\n",
       " 'concatenate',\n",
       " 'conj',\n",
       " 'conjugate',\n",
       " 'convolve',\n",
       " 'copy',\n",
       " 'copysign',\n",
       " 'copyto',\n",
       " 'corrcoef',\n",
       " 'correlate',\n",
       " 'cos',\n",
       " 'cosh',\n",
       " 'count_nonzero',\n",
       " 'cov',\n",
       " 'cross',\n",
       " 'csingle',\n",
       " 'ctypeslib',\n",
       " 'cumprod',\n",
       " 'cumproduct',\n",
       " 'cumsum',\n",
       " 'datetime64',\n",
       " 'datetime_as_string',\n",
       " 'datetime_data',\n",
       " 'deg2rad',\n",
       " 'degrees',\n",
       " 'delete',\n",
       " 'deprecate',\n",
       " 'deprecate_with_doc',\n",
       " 'diag',\n",
       " 'diag_indices',\n",
       " 'diag_indices_from',\n",
       " 'diagflat',\n",
       " 'diagonal',\n",
       " 'diff',\n",
       " 'digitize',\n",
       " 'disp',\n",
       " 'divide',\n",
       " 'divmod',\n",
       " 'dot',\n",
       " 'double',\n",
       " 'dsplit',\n",
       " 'dstack',\n",
       " 'dtype',\n",
       " 'dtypes',\n",
       " 'e',\n",
       " 'ediff1d',\n",
       " 'einsum',\n",
       " 'einsum_path',\n",
       " 'emath',\n",
       " 'empty',\n",
       " 'empty_like',\n",
       " 'equal',\n",
       " 'errstate',\n",
       " 'euler_gamma',\n",
       " 'exceptions',\n",
       " 'exp',\n",
       " 'exp2',\n",
       " 'expand_dims',\n",
       " 'expm1',\n",
       " 'expm1x',\n",
       " 'extract',\n",
       " 'eye',\n",
       " 'fabs',\n",
       " 'fastCopyAndTranspose',\n",
       " 'fft',\n",
       " 'fill_diagonal',\n",
       " 'find_common_type',\n",
       " 'finfo',\n",
       " 'fix',\n",
       " 'flatiter',\n",
       " 'flatnonzero',\n",
       " 'flexible',\n",
       " 'flip',\n",
       " 'fliplr',\n",
       " 'flipud',\n",
       " 'float16',\n",
       " 'float32',\n",
       " 'float64',\n",
       " 'float_',\n",
       " 'float_power',\n",
       " 'floating',\n",
       " 'floor',\n",
       " 'floor_divide',\n",
       " 'fmax',\n",
       " 'fmin',\n",
       " 'fmod',\n",
       " 'format_float_positional',\n",
       " 'format_float_scientific',\n",
       " 'format_parser',\n",
       " 'frexp',\n",
       " 'from_dlpack',\n",
       " 'frombuffer',\n",
       " 'fromfile',\n",
       " 'fromfunction',\n",
       " 'fromiter',\n",
       " 'frompyfunc',\n",
       " 'fromregex',\n",
       " 'fromstring',\n",
       " 'full',\n",
       " 'full_like',\n",
       " 'gcd',\n",
       " 'generic',\n",
       " 'genfromtxt',\n",
       " 'geomspace',\n",
       " 'get_array_wrap',\n",
       " 'get_include',\n",
       " 'get_printoptions',\n",
       " 'getbufsize',\n",
       " 'geterr',\n",
       " 'geterrcall',\n",
       " 'geterrobj',\n",
       " 'gradient',\n",
       " 'greater',\n",
       " 'greater_equal',\n",
       " 'half',\n",
       " 'hamming',\n",
       " 'hanning',\n",
       " 'heaviside',\n",
       " 'histogram',\n",
       " 'histogram2d',\n",
       " 'histogram_bin_edges',\n",
       " 'histogramdd',\n",
       " 'hsplit',\n",
       " 'hstack',\n",
       " 'hypot',\n",
       " 'i0',\n",
       " 'identity',\n",
       " 'iinfo',\n",
       " 'imag',\n",
       " 'in1d',\n",
       " 'index_exp',\n",
       " 'indices',\n",
       " 'inexact',\n",
       " 'inf',\n",
       " 'info',\n",
       " 'infty',\n",
       " 'inner',\n",
       " 'insert',\n",
       " 'int16',\n",
       " 'int32',\n",
       " 'int64',\n",
       " 'int8',\n",
       " 'int_',\n",
       " 'intc',\n",
       " 'integer',\n",
       " 'interp',\n",
       " 'intersect1d',\n",
       " 'intp',\n",
       " 'invert',\n",
       " 'is_busday',\n",
       " 'isclose',\n",
       " 'iscomplex',\n",
       " 'iscomplexobj',\n",
       " 'isfinite',\n",
       " 'isfortran',\n",
       " 'isin',\n",
       " 'isinf',\n",
       " 'isnan',\n",
       " 'isnat',\n",
       " 'isneginf',\n",
       " 'isposinf',\n",
       " 'isreal',\n",
       " 'isrealobj',\n",
       " 'isscalar',\n",
       " 'issctype',\n",
       " 'issubclass_',\n",
       " 'issubdtype',\n",
       " 'issubsctype',\n",
       " 'iterable',\n",
       " 'ix_',\n",
       " 'kaiser',\n",
       " 'kron',\n",
       " 'lcm',\n",
       " 'ldexp',\n",
       " 'left_shift',\n",
       " 'less',\n",
       " 'less_equal',\n",
       " 'lexsort',\n",
       " 'lib',\n",
       " 'linalg',\n",
       " 'linspace',\n",
       " 'little_endian',\n",
       " 'load',\n",
       " 'loadtxt',\n",
       " 'log',\n",
       " 'log10',\n",
       " 'log1p',\n",
       " 'log2',\n",
       " 'logaddexp',\n",
       " 'logaddexp2',\n",
       " 'logical_and',\n",
       " 'logical_not',\n",
       " 'logical_or',\n",
       " 'logical_xor',\n",
       " 'logspace',\n",
       " 'longcomplex',\n",
       " 'longdouble',\n",
       " 'longfloat',\n",
       " 'longlong',\n",
       " 'lookfor',\n",
       " 'ma',\n",
       " 'mask_indices',\n",
       " 'mat',\n",
       " 'matmul',\n",
       " 'matrix',\n",
       " 'max',\n",
       " 'maximum',\n",
       " 'maximum_sctype',\n",
       " 'may_share_memory',\n",
       " 'mean',\n",
       " 'median',\n",
       " 'memmap',\n",
       " 'meshgrid',\n",
       " 'mgrid',\n",
       " 'min',\n",
       " 'min_scalar_type',\n",
       " 'minimum',\n",
       " 'mintypecode',\n",
       " 'mod',\n",
       " 'modf',\n",
       " 'moveaxis',\n",
       " 'msort',\n",
       " 'multiply',\n",
       " 'nan',\n",
       " 'nan_to_num',\n",
       " 'nanargmax',\n",
       " 'nanargmin',\n",
       " 'nancumprod',\n",
       " 'nancumsum',\n",
       " 'nanmax',\n",
       " 'nanmean',\n",
       " 'nanmedian',\n",
       " 'nanmin',\n",
       " 'nanpercentile',\n",
       " 'nanprod',\n",
       " 'nanquantile',\n",
       " 'nanstd',\n",
       " 'nansum',\n",
       " 'nanvar',\n",
       " 'nbytes',\n",
       " 'ndarray',\n",
       " 'ndenumerate',\n",
       " 'ndim',\n",
       " 'ndindex',\n",
       " 'nditer',\n",
       " 'negative',\n",
       " 'nested_iters',\n",
       " 'newaxis',\n",
       " 'nextafter',\n",
       " 'nonzero',\n",
       " 'not_equal',\n",
       " 'numarray',\n",
       " 'number',\n",
       " 'obj2sctype',\n",
       " 'object_',\n",
       " 'ogrid',\n",
       " 'oldnumeric',\n",
       " 'ones',\n",
       " 'ones_like',\n",
       " 'outer',\n",
       " 'packbits',\n",
       " 'pad',\n",
       " 'partition',\n",
       " 'percentile',\n",
       " 'pi',\n",
       " 'piecewise',\n",
       " 'place',\n",
       " 'poly',\n",
       " 'poly1d',\n",
       " 'polyadd',\n",
       " 'polyder',\n",
       " 'polydiv',\n",
       " 'polyfit',\n",
       " 'polyint',\n",
       " 'polymul',\n",
       " 'polynomial',\n",
       " 'polysub',\n",
       " 'polyval',\n",
       " 'positive',\n",
       " 'power',\n",
       " 'printoptions',\n",
       " 'prod',\n",
       " 'product',\n",
       " 'promote_types',\n",
       " 'ptp',\n",
       " 'put',\n",
       " 'put_along_axis',\n",
       " 'putmask',\n",
       " 'quantile',\n",
       " 'r_',\n",
       " 'rad2deg',\n",
       " 'radians',\n",
       " 'random',\n",
       " 'ravel',\n",
       " 'ravel_multi_index',\n",
       " 'real',\n",
       " 'real_if_close',\n",
       " 'rec',\n",
       " 'recarray',\n",
       " 'recfromcsv',\n",
       " 'recfromtxt',\n",
       " 'reciprocal',\n",
       " 'record',\n",
       " 'remainder',\n",
       " 'repeat',\n",
       " 'require',\n",
       " 'reshape',\n",
       " 'resize',\n",
       " 'result_type',\n",
       " 'right_shift',\n",
       " 'rint',\n",
       " 'roll',\n",
       " 'rollaxis',\n",
       " 'roots',\n",
       " 'rot90',\n",
       " 'round',\n",
       " 'round_',\n",
       " 'row_stack',\n",
       " 's_',\n",
       " 'safe_eval',\n",
       " 'save',\n",
       " 'savetxt',\n",
       " 'savez',\n",
       " 'savez_compressed',\n",
       " 'sctype2char',\n",
       " 'sctypeDict',\n",
       " 'sctypes',\n",
       " 'searchsorted',\n",
       " 'select',\n",
       " 'set_numeric_ops',\n",
       " 'set_printoptions',\n",
       " 'set_string_function',\n",
       " 'setbufsize',\n",
       " 'setdiff1d',\n",
       " 'seterr',\n",
       " 'seterrcall',\n",
       " 'seterrobj',\n",
       " 'setxor1d',\n",
       " 'shape',\n",
       " 'shares_memory',\n",
       " 'short',\n",
       " 'show_config',\n",
       " 'show_runtime',\n",
       " 'sign',\n",
       " 'signbit',\n",
       " 'signedinteger',\n",
       " 'sin',\n",
       " 'sinc',\n",
       " 'single',\n",
       " 'singlecomplex',\n",
       " 'sinh',\n",
       " 'size',\n",
       " 'sometrue',\n",
       " 'sort',\n",
       " 'sort_complex',\n",
       " 'source',\n",
       " 'spacing',\n",
       " 'split',\n",
       " 'sqrt',\n",
       " 'square',\n",
       " 'squeeze',\n",
       " 'stack',\n",
       " 'std',\n",
       " 'str_',\n",
       " 'string_',\n",
       " 'subtract',\n",
       " 'sum',\n",
       " 'swapaxes',\n",
       " 'take',\n",
       " 'take_along_axis',\n",
       " 'tan',\n",
       " 'tanh',\n",
       " 'tensordot',\n",
       " 'test',\n",
       " 'testing',\n",
       " 'tile',\n",
       " 'timedelta64',\n",
       " 'trace',\n",
       " 'tracemalloc_domain',\n",
       " 'transpose',\n",
       " 'trapz',\n",
       " 'tri',\n",
       " 'tril',\n",
       " 'tril_indices',\n",
       " 'tril_indices_from',\n",
       " 'trim_zeros',\n",
       " 'triu',\n",
       " 'triu_indices',\n",
       " 'triu_indices_from',\n",
       " 'true_divide',\n",
       " 'trunc',\n",
       " 'typecodes',\n",
       " 'typename',\n",
       " 'ubyte',\n",
       " 'ufunc',\n",
       " 'uint',\n",
       " 'uint16',\n",
       " 'uint32',\n",
       " 'uint64',\n",
       " 'uint8',\n",
       " 'uintc',\n",
       " 'uintp',\n",
       " 'ulonglong',\n",
       " 'unicode_',\n",
       " 'union1d',\n",
       " 'unique',\n",
       " 'unpackbits',\n",
       " 'unravel_index',\n",
       " 'unsignedinteger',\n",
       " 'unwrap',\n",
       " 'ushort',\n",
       " 'vander',\n",
       " 'var',\n",
       " 'vdot',\n",
       " 'vectorize',\n",
       " 'version',\n",
       " 'void',\n",
       " 'vsplit',\n",
       " 'vstack',\n",
       " 'where',\n",
       " 'who',\n",
       " 'zeros',\n",
       " 'zeros_like']"
      ]
     },
     "execution_count": 2,
     "metadata": {},
     "output_type": "execute_result"
    }
   ],
   "source": [
    "import numpy as np\n",
    "dir(np)"
   ]
  },
  {
   "cell_type": "code",
   "execution_count": 3,
   "id": "17432649-a95d-444e-b3e3-ada61f627fda",
   "metadata": {},
   "outputs": [
    {
     "name": "stdout",
     "output_type": "stream",
     "text": [
      "[11 22 33 44 55 66 77 88 99]\n"
     ]
    }
   ],
   "source": [
    "num = np.array([11,22,33,44,55,66,77,88,99])\n",
    "print(num)"
   ]
  },
  {
   "cell_type": "code",
   "execution_count": 4,
   "id": "b045660b-9be7-4cb4-ba81-f98e4a568416",
   "metadata": {},
   "outputs": [
    {
     "data": {
      "text/plain": [
       "66"
      ]
     },
     "execution_count": 4,
     "metadata": {},
     "output_type": "execute_result"
    }
   ],
   "source": [
    "# Indexation starts with 0\n",
    "num[5] # 66"
   ]
  },
  {
   "cell_type": "code",
   "execution_count": 6,
   "id": "e9da94f0-293a-4871-bc41-56fcdec82749",
   "metadata": {},
   "outputs": [
    {
     "data": {
      "text/plain": [
       "99"
      ]
     },
     "execution_count": 6,
     "metadata": {},
     "output_type": "execute_result"
    }
   ],
   "source": [
    "num[-1] #99"
   ]
  },
  {
   "cell_type": "code",
   "execution_count": 8,
   "id": "9519e095-0dda-40b0-bf23-ad2b36778001",
   "metadata": {},
   "outputs": [
    {
     "data": {
      "text/plain": [
       "77"
      ]
     },
     "execution_count": 8,
     "metadata": {},
     "output_type": "execute_result"
    }
   ],
   "source": [
    "num[-3] # 77"
   ]
  },
  {
   "cell_type": "code",
   "execution_count": 9,
   "id": "42f70fa8-48bb-4b30-ba92-bfed39ec910b",
   "metadata": {},
   "outputs": [
    {
     "name": "stdout",
     "output_type": "stream",
     "text": [
      "[11 22 33 44 55 66 77 88 99]\n",
      "[11 22 33 44 55 66 77 88 99]\n"
     ]
    }
   ],
   "source": [
    "arr_from_list = np.array([11,22,33,44,55,66,77,88,99])\n",
    "arr_from_tuple = np.array((11,22,33,44,55,66,77,88,99))\n",
    "print(arr_from_list)\n",
    "print(arr_from_tuple)"
   ]
  },
  {
   "cell_type": "raw",
   "id": "fa794ba8-c2ab-4433-bebe-42ac74885c31",
   "metadata": {},
   "source": [
    "# Common Mistake : 9 arguments can't be fetched w.r.t 1 parameter -> we always have to pass iterable\n",
    "arr_from_tuple = np.array(11,22,33,44,55,66,77,88,99)\n",
    "# TypeError: array() takes from 1 to 2 positional arguments but 9 were given"
   ]
  },
  {
   "cell_type": "code",
   "execution_count": 15,
   "id": "24317d62-5457-4d91-b4f7-55bb195e64d4",
   "metadata": {},
   "outputs": [
    {
     "data": {
      "text/plain": [
       "array(11)"
      ]
     },
     "execution_count": 15,
     "metadata": {},
     "output_type": "execute_result"
    }
   ],
   "source": [
    "arr_from_tuple = np.array(11)\n",
    "arr_from_tuple "
   ]
  },
  {
   "cell_type": "code",
   "execution_count": 16,
   "id": "c2f7100f-3203-4852-b1a6-2e02a281bfc9",
   "metadata": {},
   "outputs": [
    {
     "name": "stdout",
     "output_type": "stream",
     "text": [
      "<class 'numpy.ndarray'>\n",
      "<class 'numpy.ndarray'>\n"
     ]
    }
   ],
   "source": [
    "print(type(arr_from_list))\n",
    "print(type(arr_from_tuple))"
   ]
  },
  {
   "cell_type": "code",
   "execution_count": 17,
   "id": "f42ce8d8-2cd5-4334-990e-2ba192ab3447",
   "metadata": {},
   "outputs": [
    {
     "data": {
      "text/plain": [
       "1"
      ]
     },
     "execution_count": 17,
     "metadata": {},
     "output_type": "execute_result"
    }
   ],
   "source": [
    "arr_from_list.ndim"
   ]
  },
  {
   "cell_type": "code",
   "execution_count": 18,
   "id": "f00036de-0fc0-4b96-b711-adc6df8bf329",
   "metadata": {},
   "outputs": [
    {
     "name": "stdout",
     "output_type": "stream",
     "text": [
      "['11' '121.9' 'True' 'k' 'Coding' '(11+5j)' '99']\n"
     ]
    }
   ],
   "source": [
    "# 1D Array\n",
    "arr_1d = np.array([11,121.9,True,'k','Coding',11+5j,99]) # mixed dtypes\n",
    "print(arr_1d)"
   ]
  },
  {
   "cell_type": "code",
   "execution_count": 19,
   "id": "57f29f08-c913-46e5-8243-a117de6e42d9",
   "metadata": {},
   "outputs": [
    {
     "data": {
      "text/plain": [
       "numpy.ndarray"
      ]
     },
     "execution_count": 19,
     "metadata": {},
     "output_type": "execute_result"
    }
   ],
   "source": [
    "type(arr_1d)"
   ]
  },
  {
   "cell_type": "code",
   "execution_count": 20,
   "id": "0834a680-4b51-4537-9b7d-6b86b1886fc8",
   "metadata": {},
   "outputs": [
    {
     "name": "stdout",
     "output_type": "stream",
     "text": [
      "<class 'numpy.ndarray'>\n"
     ]
    }
   ],
   "source": [
    "print(type(arr_1d))"
   ]
  },
  {
   "cell_type": "code",
   "execution_count": 22,
   "id": "d11c293e-4277-43b8-aba4-8180db9237e1",
   "metadata": {},
   "outputs": [
    {
     "data": {
      "text/plain": [
       "dtype('<U64')"
      ]
     },
     "execution_count": 22,
     "metadata": {},
     "output_type": "execute_result"
    }
   ],
   "source": [
    "arr_1d.dtype"
   ]
  },
  {
   "cell_type": "code",
   "execution_count": 23,
   "id": "b24ca10c-1816-4192-a20d-8e73e0a3809c",
   "metadata": {},
   "outputs": [
    {
     "data": {
      "text/plain": [
       "1"
      ]
     },
     "execution_count": 23,
     "metadata": {},
     "output_type": "execute_result"
    }
   ],
   "source": [
    "arr_1d.ndim"
   ]
  },
  {
   "cell_type": "code",
   "execution_count": 24,
   "id": "831489c9-96da-4e95-9f05-37569d82e1ea",
   "metadata": {},
   "outputs": [
    {
     "name": "stdout",
     "output_type": "stream",
     "text": [
      "[['11' '22' '33']\n",
      " ['a' 'b' 'c']\n",
      " ['True' 'False' 'True']\n",
      " ['learn' 'python' 'programming']\n",
      " ['9.99' '11.11' '77.77']]\n"
     ]
    }
   ],
   "source": [
    "# 2D Array [2 Dimensional] [rows, cols] (n*m) (5,3)\n",
    "arr_2d = np.array([\n",
    "   [11,22,33] ,\n",
    "   ['a','b','c'] ,\n",
    "   [True,False,True] ,\n",
    "   ['learn','python','programming'] ,\n",
    "   [9.99,11.11,77.77] \n",
    "]) # Mixed dtypes [maintaining 15 elements] [rows * cols] = 5*3 = 15\n",
    "print(arr_2d)"
   ]
  },
  {
   "cell_type": "code",
   "execution_count": 25,
   "id": "cceb1e8e-6749-4ad5-948e-7128477dce12",
   "metadata": {},
   "outputs": [
    {
     "name": "stdout",
     "output_type": "stream",
     "text": [
      "<class 'numpy.ndarray'>\n"
     ]
    }
   ],
   "source": [
    "print(type(arr_2d))"
   ]
  },
  {
   "cell_type": "code",
   "execution_count": 27,
   "id": "0a96b435-f45e-4087-86a3-6a8bff8d618c",
   "metadata": {},
   "outputs": [
    {
     "data": {
      "text/plain": [
       "dtype('<U32')"
      ]
     },
     "execution_count": 27,
     "metadata": {},
     "output_type": "execute_result"
    }
   ],
   "source": [
    "arr_2d.dtype"
   ]
  },
  {
   "cell_type": "code",
   "execution_count": 28,
   "id": "8e3745c5-dba7-4cce-b320-806a199ec126",
   "metadata": {},
   "outputs": [
    {
     "data": {
      "text/plain": [
       "2"
      ]
     },
     "execution_count": 28,
     "metadata": {},
     "output_type": "execute_result"
    }
   ],
   "source": [
    "arr_2d.ndim # 2"
   ]
  },
  {
   "cell_type": "code",
   "execution_count": 41,
   "id": "4658835b-e508-449d-8acf-27e186d115ab",
   "metadata": {},
   "outputs": [
    {
     "name": "stdout",
     "output_type": "stream",
     "text": [
      "['11' '121.9' 'True' 'k' 'Coding' '(11+5j)' '99'\n",
      " 'Awek$#@##@lkdsahbk2972ry3oFWuighaslk7238rghjv,cadbvdsck.hvalgbvsablviabha,dsbv12']\n"
     ]
    }
   ],
   "source": [
    "# 1D Array -> U32/U64 -> to the max length of a string\n",
    "arr_1d = np.array([11,121.9,True,'k','Coding',11+5j,99,\n",
    "                   'Awek$#@##@lkdsahbk2972ry3oFWuighaslk7238rghjv,cadbvdsck.hvalgbvsablviabha,dsbv12']) # mixed dtypes\n",
    "print(arr_1d)"
   ]
  },
  {
   "cell_type": "code",
   "execution_count": 42,
   "id": "9dd74ee8-ed68-414c-83e1-d06c22cfb706",
   "metadata": {},
   "outputs": [
    {
     "data": {
      "text/plain": [
       "dtype('<U80')"
      ]
     },
     "execution_count": 42,
     "metadata": {},
     "output_type": "execute_result"
    }
   ],
   "source": [
    "arr_1d.dtype"
   ]
  },
  {
   "cell_type": "code",
   "execution_count": 43,
   "id": "eb3cf49e-c400-49ee-9a2a-d065c647c40c",
   "metadata": {},
   "outputs": [
    {
     "name": "stdout",
     "output_type": "stream",
     "text": [
      "['Python Programming' 'Today, We are learning Numpy Array']\n"
     ]
    }
   ],
   "source": [
    "arr_1d = np.array(['Python Programming',\n",
    "                   'Today, We are learning Numpy Array']) # mixed dtypes\n",
    "print(arr_1d)"
   ]
  },
  {
   "cell_type": "code",
   "execution_count": 45,
   "id": "8b372703-e653-4b08-8ebe-f75e09a763ee",
   "metadata": {},
   "outputs": [
    {
     "data": {
      "text/plain": [
       "dtype('<U34')"
      ]
     },
     "execution_count": 45,
     "metadata": {},
     "output_type": "execute_result"
    }
   ],
   "source": [
    "arr_1d.dtype"
   ]
  },
  {
   "cell_type": "code",
   "execution_count": 46,
   "id": "f48c0a19-b0cc-46e5-9639-732ecf6c9af8",
   "metadata": {},
   "outputs": [
    {
     "name": "stdout",
     "output_type": "stream",
     "text": [
      "['Python Programming' '99' '77']\n"
     ]
    }
   ],
   "source": [
    "arr_1d = np.array(['Python Programming',99,77]) # mixed dtypes\n",
    "print(arr_1d)"
   ]
  },
  {
   "cell_type": "code",
   "execution_count": 47,
   "id": "81bdc7a4-7e97-4d7b-8b70-7fa10d4d82cd",
   "metadata": {},
   "outputs": [
    {
     "data": {
      "text/plain": [
       "dtype('<U18')"
      ]
     },
     "execution_count": 47,
     "metadata": {},
     "output_type": "execute_result"
    }
   ],
   "source": [
    "arr_1d.dtype"
   ]
  },
  {
   "cell_type": "code",
   "execution_count": 48,
   "id": "c5361a44-1737-4c33-b52d-ed71a00c9b5c",
   "metadata": {},
   "outputs": [
    {
     "name": "stdout",
     "output_type": "stream",
     "text": [
      "[[['1' '2' '3']\n",
      "  ['2' '4' '6']\n",
      "  ['1' '3' '5']]\n",
      "\n",
      " [['a' 'b' 'c']\n",
      "  ['d' 'e' 'f']\n",
      "  ['g' 'h' 'i']]\n",
      "\n",
      " [['True' 'True' 'True']\n",
      "  ['True' 'False' 'True']\n",
      "  ['False' 'False' 'False']]]\n"
     ]
    }
   ],
   "source": [
    "# 3D Array [3 Dimensional] [depth ,rows, cols] (d*n*m)  = Total Number of Elements\n",
    "# 3 depth , 3 rows , 3 columns\n",
    "arr_3d = np.array([\n",
    "    [[1,2,3],\n",
    "    [2,4,6],\n",
    "    [1,3,5]],\n",
    "    \n",
    "    [['a','b','c'],\n",
    "    ['d','e','f'],\n",
    "    ['g','h','i']],\n",
    "    \n",
    "    [[True,True,True],\n",
    "    [True,False,True],\n",
    "    [False,False,False]]\n",
    "])\n",
    "print(arr_3d)"
   ]
  },
  {
   "cell_type": "code",
   "execution_count": 49,
   "id": "346d23cb-72fd-4014-82ef-588a68004c06",
   "metadata": {},
   "outputs": [
    {
     "data": {
      "text/plain": [
       "numpy.ndarray"
      ]
     },
     "execution_count": 49,
     "metadata": {},
     "output_type": "execute_result"
    }
   ],
   "source": [
    "type(arr_3d)"
   ]
  },
  {
   "cell_type": "code",
   "execution_count": 50,
   "id": "bc543178-5a90-4c63-9135-2f7150ae8de1",
   "metadata": {},
   "outputs": [
    {
     "data": {
      "text/plain": [
       "dtype('<U11')"
      ]
     },
     "execution_count": 50,
     "metadata": {},
     "output_type": "execute_result"
    }
   ],
   "source": [
    "arr_3d.dtype"
   ]
  },
  {
   "cell_type": "code",
   "execution_count": 51,
   "id": "2543f21d-0857-447c-a375-1efbe1a68a0c",
   "metadata": {},
   "outputs": [
    {
     "data": {
      "text/plain": [
       "3"
      ]
     },
     "execution_count": 51,
     "metadata": {},
     "output_type": "execute_result"
    }
   ],
   "source": [
    "arr_3d.ndim"
   ]
  },
  {
   "cell_type": "code",
   "execution_count": 52,
   "id": "7821e400-14b7-49b4-82d8-9ae4fd9e2039",
   "metadata": {},
   "outputs": [
    {
     "name": "stdout",
     "output_type": "stream",
     "text": [
      "[1 2 3 4 5 6 7 8 9 9 8 7 6 5 4 3 2 1 1 2 3 4 5 6 7 8 9]\n"
     ]
    }
   ],
   "source": [
    "# 27 = 3*3*3\n",
    "arr_1d = np.array([1,2,3,4,5,6,7,8,9,9,8,7,6,5,4,3,2,1,1,2,3,4,5,6,7,8,9])\n",
    "print(arr_1d)"
   ]
  },
  {
   "cell_type": "code",
   "execution_count": 53,
   "id": "dc70577e-dd48-461e-a308-badeaa48c3f5",
   "metadata": {},
   "outputs": [
    {
     "data": {
      "text/plain": [
       "array([[[1, 2, 3],\n",
       "        [4, 5, 6],\n",
       "        [7, 8, 9]],\n",
       "\n",
       "       [[9, 8, 7],\n",
       "        [6, 5, 4],\n",
       "        [3, 2, 1]],\n",
       "\n",
       "       [[1, 2, 3],\n",
       "        [4, 5, 6],\n",
       "        [7, 8, 9]]])"
      ]
     },
     "execution_count": 53,
     "metadata": {},
     "output_type": "execute_result"
    }
   ],
   "source": [
    "# 3D reshape (depth,rows,cols) - (3,3,3)\n",
    "arr_1d.reshape(3,3,3)"
   ]
  },
  {
   "cell_type": "code",
   "execution_count": 55,
   "id": "47c84b96-34f4-4f93-b3f9-e938bf8418e7",
   "metadata": {},
   "outputs": [
    {
     "name": "stdout",
     "output_type": "stream",
     "text": [
      "[[11.   22.  ]\n",
      " [33.   44.  ]\n",
      " [55.   66.  ]\n",
      " [77.   88.  ]\n",
      " [99.   99.99]]\n"
     ]
    }
   ],
   "source": [
    "# Specifying Data Types [Upcasting]\n",
    "nested_list = np.array([\n",
    "    [11,22],\n",
    "    [33,44],\n",
    "    [55,66],\n",
    "    [77,88],\n",
    "    [99,99.99]\n",
    "])\n",
    "print(nested_list)"
   ]
  },
  {
   "cell_type": "code",
   "execution_count": 56,
   "id": "d3d7efa4-21d7-424f-b3d4-06bc73467525",
   "metadata": {},
   "outputs": [
    {
     "name": "stdout",
     "output_type": "stream",
     "text": [
      "[[ 11.  22.]\n",
      " [ 33.  44.]\n",
      " [ 55.  66.]\n",
      " [ 77.  88.]\n",
      " [ 99. 121.]]\n"
     ]
    }
   ],
   "source": [
    "nested_list = np.array([\n",
    "    [11,22],\n",
    "    [33,44],\n",
    "    [55,66],\n",
    "    [77,88],\n",
    "    [99,121]\n",
    "])\n",
    "float_arr = np.array(nested_list , dtype = float)\n",
    "print(float_arr)"
   ]
  },
  {
   "cell_type": "code",
   "execution_count": 57,
   "id": "ac3fcfc6-a84a-4f7c-afc9-9362b462f01d",
   "metadata": {},
   "outputs": [
    {
     "name": "stdout",
     "output_type": "stream",
     "text": [
      "[[ 11.    22.  ]\n",
      " [ 33.    44.  ]\n",
      " [ 55.    66.  ]\n",
      " [ 77.    88.  ]\n",
      " [ 99.99 121.  ]]\n"
     ]
    }
   ],
   "source": [
    "# upcast ['str'] VS dtype ['float']\n",
    "nested_list = np.array([\n",
    "    [11,22],\n",
    "    [33,44],\n",
    "    [55,66],\n",
    "    [77,88],\n",
    "    ['99.99','121']\n",
    "])\n",
    "float_arr = np.array(nested_list , dtype = float)\n",
    "print(float_arr)"
   ]
  },
  {
   "cell_type": "raw",
   "id": "ef7ddb42-de5c-40c6-887a-41b3362b2595",
   "metadata": {},
   "source": [
    "# upcast ['str'] VS dtype ['float']\n",
    "# ValueError: could not convert string to float: 'k'\n",
    "nested_list = np.array([\n",
    "    [11,22],\n",
    "    [33,44],\n",
    "    [55,66],\n",
    "    [77,88],\n",
    "    [99.99,'k']\n",
    "])\n",
    "float_arr = np.array(nested_list , dtype = float)\n",
    "print(float_arr)"
   ]
  },
  {
   "cell_type": "code",
   "execution_count": 62,
   "id": "cd7d6490-753d-4ba1-a9f9-b7b6861fc095",
   "metadata": {},
   "outputs": [
    {
     "name": "stdout",
     "output_type": "stream",
     "text": [
      "[[11. 22.]\n",
      " [33. 44.]\n",
      " [55. 66.]\n",
      " [77. 88.]\n",
      " [ 0.  1.]]\n"
     ]
    }
   ],
   "source": [
    "# upcast ['str'] VS dtype ['float']\n",
    "nested_list = np.array([\n",
    "    [11,22],\n",
    "    [33,44],\n",
    "    [55,66],\n",
    "    [77,88],\n",
    "    [False,True]\n",
    "])\n",
    "float_arr = np.array(nested_list , dtype = float)\n",
    "print(float_arr)"
   ]
  },
  {
   "cell_type": "code",
   "execution_count": 63,
   "id": "f88797f2-86ce-4a74-81ce-362e84fcf3d7",
   "metadata": {},
   "outputs": [
    {
     "data": {
      "text/plain": [
       "dtype('float64')"
      ]
     },
     "execution_count": 63,
     "metadata": {},
     "output_type": "execute_result"
    }
   ],
   "source": [
    "float_arr.dtype"
   ]
  },
  {
   "cell_type": "code",
   "execution_count": 64,
   "id": "d14e5d5c-f30b-4e05-a8b8-bb7e67ba9832",
   "metadata": {},
   "outputs": [
    {
     "data": {
      "text/plain": [
       "(27,)"
      ]
     },
     "execution_count": 64,
     "metadata": {},
     "output_type": "execute_result"
    }
   ],
   "source": [
    "# ndarray [N-Dimensional Array] -> [.shape]\n",
    "arr_1d.shape"
   ]
  },
  {
   "cell_type": "code",
   "execution_count": 65,
   "id": "d538d9bb-f2a4-47c8-b13f-5e64d63a91a5",
   "metadata": {},
   "outputs": [
    {
     "data": {
      "text/plain": [
       "(5, 3)"
      ]
     },
     "execution_count": 65,
     "metadata": {},
     "output_type": "execute_result"
    }
   ],
   "source": [
    "arr_2d.shape"
   ]
  },
  {
   "cell_type": "code",
   "execution_count": 67,
   "id": "c2d6b866-064b-421b-a2ce-68ca21d54bc9",
   "metadata": {},
   "outputs": [
    {
     "data": {
      "text/plain": [
       "(3, 3, 3)"
      ]
     },
     "execution_count": 67,
     "metadata": {},
     "output_type": "execute_result"
    }
   ],
   "source": [
    "arr_3d.shape # 3d [depth,rows,cols]"
   ]
  },
  {
   "cell_type": "code",
   "execution_count": 68,
   "id": "1761c18b-263b-4460-b3ae-972491353fb1",
   "metadata": {},
   "outputs": [
    {
     "data": {
      "text/plain": [
       "27"
      ]
     },
     "execution_count": 68,
     "metadata": {},
     "output_type": "execute_result"
    }
   ],
   "source": [
    "# .size Attribute -> Total Numbers of Elements \n",
    "arr_1d.size"
   ]
  },
  {
   "cell_type": "code",
   "execution_count": 69,
   "id": "9a81f63b-a5d0-42e4-a721-ca43714d11b3",
   "metadata": {},
   "outputs": [
    {
     "data": {
      "text/plain": [
       "15"
      ]
     },
     "execution_count": 69,
     "metadata": {},
     "output_type": "execute_result"
    }
   ],
   "source": [
    "arr_2d.size"
   ]
  },
  {
   "cell_type": "code",
   "execution_count": 70,
   "id": "095e0b36-ef5b-4322-9870-4ed6449ca5c2",
   "metadata": {},
   "outputs": [
    {
     "data": {
      "text/plain": [
       "27"
      ]
     },
     "execution_count": 70,
     "metadata": {},
     "output_type": "execute_result"
    }
   ],
   "source": [
    "arr_3d.size"
   ]
  },
  {
   "cell_type": "code",
   "execution_count": 71,
   "id": "9ce07f3d-a7c3-4bad-a6d6-1677a9226d4c",
   "metadata": {},
   "outputs": [
    {
     "name": "stdout",
     "output_type": "stream",
     "text": [
      "[ 1  2  3  4  5  6  7  8  9 10 11 12 13 14 15 16]\n"
     ]
    }
   ],
   "source": [
    "# Reshape 1D -> 4D [2,2,2,2] = 2*2*2*2 = 16 elements\n",
    "arr_1d = np.array([1,2,3,4,5,6,7,8,9,10,11,12,13,14,15,16])\n",
    "print(arr_1d)"
   ]
  },
  {
   "cell_type": "code",
   "execution_count": 72,
   "id": "3db344a9-8099-4fcc-af9b-970a689f1989",
   "metadata": {},
   "outputs": [
    {
     "data": {
      "text/plain": [
       "array([[[ 1,  2],\n",
       "        [ 3,  4],\n",
       "        [ 5,  6],\n",
       "        [ 7,  8]],\n",
       "\n",
       "       [[ 9, 10],\n",
       "        [11, 12],\n",
       "        [13, 14],\n",
       "        [15, 16]]])"
      ]
     },
     "execution_count": 72,
     "metadata": {},
     "output_type": "execute_result"
    }
   ],
   "source": [
    "arr_1d.reshape(2,4,2) # 3D"
   ]
  },
  {
   "cell_type": "code",
   "execution_count": 73,
   "id": "d03494d2-6052-4b3d-b332-32f3d4a5c360",
   "metadata": {},
   "outputs": [
    {
     "data": {
      "text/plain": [
       "array([[[ 1,  2,  3,  4],\n",
       "        [ 5,  6,  7,  8]],\n",
       "\n",
       "       [[ 9, 10, 11, 12],\n",
       "        [13, 14, 15, 16]]])"
      ]
     },
     "execution_count": 73,
     "metadata": {},
     "output_type": "execute_result"
    }
   ],
   "source": [
    "arr_1d.reshape(2,2,4) # 3D"
   ]
  },
  {
   "cell_type": "code",
   "execution_count": 74,
   "id": "44a734fd-3fe8-4168-ab65-3d5d0aeb23aa",
   "metadata": {},
   "outputs": [
    {
     "data": {
      "text/plain": [
       "array([[[[ 1,  2],\n",
       "         [ 3,  4]],\n",
       "\n",
       "        [[ 5,  6],\n",
       "         [ 7,  8]]],\n",
       "\n",
       "\n",
       "       [[[ 9, 10],\n",
       "         [11, 12]],\n",
       "\n",
       "        [[13, 14],\n",
       "         [15, 16]]]])"
      ]
     },
     "execution_count": 74,
     "metadata": {},
     "output_type": "execute_result"
    }
   ],
   "source": [
    "arr_1d.reshape(2,2,2,2) # 4D"
   ]
  },
  {
   "cell_type": "raw",
   "id": "0f03f72d-077f-4ee5-9b2d-ca05a60420f5",
   "metadata": {},
   "source": [
    "arr_1d.reshape(2,3,2) # 3D -> 12 elements\n",
    "ValueError: cannot reshape array of size 16 into shape (2,3,2)"
   ]
  },
  {
   "cell_type": "code",
   "execution_count": 1,
   "id": "15d4f511-b526-43a1-90b2-0c077a77de0a",
   "metadata": {},
   "outputs": [
    {
     "name": "stdout",
     "output_type": "stream",
     "text": [
      "4 bytes\n"
     ]
    }
   ],
   "source": [
    "# ndarray.itemsize Attribute -> Memory Size of Each Elements (in Bytes)\n",
    "import numpy as np\n",
    "arr_int = np.array([1,2,3,5,7,9,11,15,21,29,55,77,99] , dtype = int)\n",
    "print(arr_int.itemsize, \"bytes\")"
   ]
  },
  {
   "cell_type": "code",
   "execution_count": 2,
   "id": "b345d711-0e5c-474c-8ea8-715710f77593",
   "metadata": {},
   "outputs": [
    {
     "name": "stdout",
     "output_type": "stream",
     "text": [
      "8 bytes\n"
     ]
    }
   ],
   "source": [
    "arr_float = np.array([1.9999,2.1111,3,5,7,9,11,15,21,29,55,77.777,99.9999] , dtype = float)\n",
    "print(arr_float.itemsize, \"bytes\")"
   ]
  },
  {
   "cell_type": "code",
   "execution_count": 3,
   "id": "3471a98a-a48e-45d9-a4d4-27c38df2c38a",
   "metadata": {},
   "outputs": [
    {
     "name": "stdout",
     "output_type": "stream",
     "text": [
      "44 bytes\n"
     ]
    }
   ],
   "source": [
    "arr_str = np.array(['Coding','Python','Java','Programming','Numpy','Array'], dtype = str)\n",
    "print(arr_str.itemsize , \"bytes\")"
   ]
  },
  {
   "cell_type": "code",
   "execution_count": 4,
   "id": "42d6ef78-9b48-4d2d-b9c7-f2aa5b31c3cd",
   "metadata": {},
   "outputs": [
    {
     "name": "stdout",
     "output_type": "stream",
     "text": [
      "24 bytes\n"
     ]
    }
   ],
   "source": [
    "arr_str = np.array(['Coding','Python','Java','hello'], dtype = str)\n",
    "print(arr_str.itemsize , \"bytes\")"
   ]
  },
  {
   "cell_type": "code",
   "execution_count": 7,
   "id": "cbf751ce-177c-4cc5-b198-15bdf3d3fc0b",
   "metadata": {},
   "outputs": [
    {
     "name": "stdout",
     "output_type": "stream",
     "text": [
      "Data Buffer: <memory at 0x000001C2F3F6AB00>\n",
      "Type of Buffer: <class 'memoryview'>\n"
     ]
    }
   ],
   "source": [
    "# ndarray.data -> Memory Location [Buffer]\n",
    "arr = np.array([11,22,33,44,55,66,77])\n",
    "print(\"Data Buffer:\" , arr.data) # Memory Location\n",
    "print(\"Type of Buffer:\" , type(arr.data)) # Memory View"
   ]
  },
  {
   "cell_type": "code",
   "execution_count": 9,
   "id": "e31dfba6-9ad5-493d-94dc-237a9cd4c11a",
   "metadata": {},
   "outputs": [
    {
     "name": "stdout",
     "output_type": "stream",
     "text": [
      "33\n",
      "44\n",
      "11\n",
      "11\n"
     ]
    }
   ],
   "source": [
    "# Indexing, Slicing, Operations on Numpy Array\n",
    "arr_1d = np.array([11,22,33,44,55])\n",
    "print(arr_1d[2]) # 33\n",
    "print(arr_1d[-2]) # 44\n",
    "print(arr_1d[-5]) # 11\n",
    "# print(arr_1d[5]) # IndexError: index 5 is out of bounds for axis 0 with size 5\n",
    "print(arr_1d[0]) # 11"
   ]
  },
  {
   "cell_type": "code",
   "execution_count": 12,
   "id": "0eae9be7-254f-48c6-b8d2-47c108f433f5",
   "metadata": {},
   "outputs": [
    {
     "name": "stdout",
     "output_type": "stream",
     "text": [
      "1\n",
      "7\n",
      "0\n",
      "5\n",
      "5\n",
      "4\n"
     ]
    }
   ],
   "source": [
    "# reshape [4,5] 4 rows and 5 columns = [item size = row * col] = 4*5 = 20\n",
    "arr_2d = np.array([\n",
    "    [1,2,3,4,5],\n",
    "    [1,3,5,7,9],\n",
    "    [2,4,6,8,0],\n",
    "    [5,4,3,2,1]\n",
    "])\n",
    "# indexing[row,col]\n",
    "# print(arr_2d[5,0]) # IndexError: index 5 is out of bounds for axis 0 ['row'] with size 4\n",
    "print(arr_2d[-1,-1]) # 1\n",
    "# print(arr_2d[1,5]) # IndexError Col Index out of bounds for axis 1 ['col']\n",
    "print(arr_2d[-3,-2]) # 7 'Thala for a reason'\n",
    "print(arr_2d[2,4]) # 0 \n",
    "print(arr_2d[3,-5]) # 5\n",
    "# print(arr_2d[4,4]) # IndexError: index 4 is out of bounds for axis 0 with size 4\n",
    "print(arr_2d[-3,-3]) # 5\n",
    "print(arr_2d[-2,1]) # 4"
   ]
  },
  {
   "cell_type": "code",
   "execution_count": 14,
   "id": "4ad6d68b-cc5f-4699-bd50-83dd30e366f8",
   "metadata": {},
   "outputs": [
    {
     "name": "stdout",
     "output_type": "stream",
     "text": [
      "88\n",
      "11\n",
      "44\n",
      "77\n",
      "22\n",
      "44\n"
     ]
    }
   ],
   "source": [
    "# Shape of a 3D Array[2,3,4] => 2(depth), 3(rows), 4(columns)\n",
    "arr_3d = np.array([\n",
    "    [[11,22,33,44],\n",
    "     [22,44,66,88],\n",
    "     [11,33,55,77],\n",
    "    ],\n",
    "    [[66,77,88,99],\n",
    "     [11,55,77,99],\n",
    "     [22,44,66,88],\n",
    "    ]\n",
    "])\n",
    "# Indexing[depth,rows,cols]\n",
    "print(arr_3d[-1,2,3]) # 88\n",
    "print(arr_3d[-2,-3,-4]) # 11\n",
    "# print(arr_3d[0,3,2]) # IndexError: index 3 is out of bounds for axis 0 with size 3\n",
    "# print(arr_3d[-2,0,4]) # IndexError: index 4 is out of bounds for axis 1 with size 4\n",
    "print(arr_3d[1,2,-3]) # 44\n",
    "print(arr_3d[0,-1,-1]) # 77\n",
    "print(arr_3d[-2,1,-4]) # 22\n",
    "print(arr_3d[0,-3,3]) # 44"
   ]
  },
  {
   "cell_type": "code",
   "execution_count": 20,
   "id": "9bbe6a8b-f9c2-43a2-95d5-f3fec2ff1d85",
   "metadata": {},
   "outputs": [
    {
     "name": "stdout",
     "output_type": "stream",
     "text": [
      "[77 88 99]\n",
      "[77 66 55 44 33 22 11]\n",
      "[]\n",
      "[77 66 55]\n",
      "[77 66 55 44 33 22]\n",
      "[]\n",
      "[66 88]\n",
      "[99 77 55 33]\n",
      "[66 44 22]\n",
      "[]\n",
      "[66 88]\n"
     ]
    }
   ],
   "source": [
    "# Slicing [start = 0 , stop : till the length [Exclusive] , step = 1]\n",
    "arr_1d = np.array([11,22,33,44,55,66,77,88,99])\n",
    "print(arr_1d[-3:]) # [77,88,99]\n",
    "print(arr_1d[-3::-1]) # [77,.....11]\n",
    "print(arr_1d[-3:9:-1]) # []\n",
    "print(arr_1d[-3:-6:-1]) # [77,66,55]\n",
    "print(arr_1d[-3:0:-1]) # [77,66,55,44,33,22]\n",
    "print(arr_1d[5:4:2]) # []\n",
    "print(arr_1d[5:9:2]) # [66,88]\n",
    "print(arr_1d[8:0:-2]) # [99,77,55,33]\n",
    "print(arr_1d[-4::-2]) # [66,44,22]\n",
    "print(arr_1d[3:8:-3]) # []\n",
    "print(arr_1d[5:11:2]) # [66,88]"
   ]
  },
  {
   "cell_type": "code",
   "execution_count": 21,
   "id": "002b38cf-8a55-4f15-bb20-e7e43f3ad6d3",
   "metadata": {},
   "outputs": [
    {
     "name": "stdout",
     "output_type": "stream",
     "text": [
      "[[5 7]\n",
      " [6 8]]\n"
     ]
    }
   ],
   "source": [
    "# slicing[start,stop,step] -> arr_2d[rows_slicing , columns_slicing ]\n",
    "arr_2d = np.array([\n",
    "    [1,2,3,4,5],\n",
    "    [1,3,5,7,9],\n",
    "    [2,4,6,8,0],\n",
    "    [5,4,3,2,1]\n",
    "])\n",
    "\n",
    "print(arr_2d[1:3 , 2:4]) # [[5,7][6,8]]"
   ]
  },
  {
   "cell_type": "code",
   "execution_count": 22,
   "id": "f91a13d3-1082-4829-981b-d9a86908c153",
   "metadata": {},
   "outputs": [
    {
     "name": "stdout",
     "output_type": "stream",
     "text": [
      "[[7 5 3 1]\n",
      " [8 6 4 2]\n",
      " [2 3 4 5]]\n"
     ]
    }
   ],
   "source": [
    "print(arr_2d[-3::1 , 3::-1]) # [[7,5,3,1][8,6,4,2][2,3,4,5]]"
   ]
  },
  {
   "cell_type": "code",
   "execution_count": 23,
   "id": "ce38e720-dbb7-4cc8-b733-ee71bd06c477",
   "metadata": {},
   "outputs": [
    {
     "name": "stdout",
     "output_type": "stream",
     "text": [
      "[[4]\n",
      " [3]]\n"
     ]
    }
   ],
   "source": [
    "arr_2d = np.array([\n",
    "    [1,2,3,4,5],\n",
    "    [1,3,5,7,9],\n",
    "    [2,4,6,8,0],\n",
    "    [5,4,3,2,1]\n",
    "])\n",
    "\n",
    "print(arr_2d[3::-2 , 1:4:3]) # [[4][3]]\n",
    "# [5,4,3,2,1]\n",
    "# [1,3,5,7,9]"
   ]
  },
  {
   "cell_type": "code",
   "execution_count": 24,
   "id": "784fe91d-f08f-42f2-9dd3-cdbe4f3b1fb0",
   "metadata": {},
   "outputs": [
    {
     "name": "stdout",
     "output_type": "stream",
     "text": [
      "[]\n"
     ]
    }
   ],
   "source": [
    "arr_2d = np.array([\n",
    "    [1,2,3,4,5],\n",
    "    [1,3,5,7,9],\n",
    "    [2,4,6,8,0],\n",
    "    [5,4,3,2,1]\n",
    "])\n",
    "\n",
    "print(arr_2d[2:5 , 2:5:-2]) # []\n",
    "#  [2,4,6,8,0]\n",
    "#  [5,4,3,2,1]"
   ]
  },
  {
   "cell_type": "code",
   "execution_count": 25,
   "id": "d23f8d3e-4c61-44ef-b563-b3ab792bb9bc",
   "metadata": {},
   "outputs": [
    {
     "name": "stdout",
     "output_type": "stream",
     "text": [
      "[[6 0]\n",
      " [3 1]]\n"
     ]
    }
   ],
   "source": [
    "arr_2d = np.array([\n",
    "    [1,2,3,4,5],\n",
    "    [1,3,5,7,9],\n",
    "    [2,4,6,8,0],\n",
    "    [5,4,3,2,1]\n",
    "])\n",
    "\n",
    "print(arr_2d[2:5 , 2:5:2]) # [[6,0][3,1]]\n",
    "#  [2,4,6,8,0]\n",
    "#  [5,4,3,2,1]"
   ]
  },
  {
   "cell_type": "code",
   "execution_count": 26,
   "id": "0fdcd786-7fe3-4aa0-b4f1-8ab05e946810",
   "metadata": {},
   "outputs": [
    {
     "name": "stdout",
     "output_type": "stream",
     "text": [
      "[[5 3 1]\n",
      " [9 5 1]\n",
      " [0 6 2]\n",
      " [1 3 5]]\n"
     ]
    }
   ],
   "source": [
    "arr_2d = np.array([\n",
    "    [1,2,3,4,5],\n",
    "    [1,3,5,7,9],\n",
    "    [2,4,6,8,0],\n",
    "    [5,4,3,2,1]\n",
    "])\n",
    "\n",
    "print(arr_2d[:, ::-2])"
   ]
  },
  {
   "cell_type": "code",
   "execution_count": 27,
   "id": "f7de701b-d285-4847-afff-dddb2e8868f0",
   "metadata": {},
   "outputs": [
    {
     "name": "stdout",
     "output_type": "stream",
     "text": [
      "[[1 2 3 4 5]\n",
      " [0 8 6 4 2]\n",
      " [9 7 5 3 1]\n",
      " [5 4 3 2 1]]\n"
     ]
    }
   ],
   "source": [
    "arr_2d = np.array([\n",
    "    [1,2,3,4,5],\n",
    "    [1,3,5,7,9],\n",
    "    [2,4,6,8,0],\n",
    "    [5,4,3,2,1]\n",
    "])\n",
    "\n",
    "print(arr_2d[::-1, ::-1])\n",
    "# First Row Reverse\n",
    "# [5,4,3,2,1]\n",
    "# [2,4,6,8,0]\n",
    "# [1,3,5,7,9]\n",
    "# [1,2,3,4,5]\n",
    "\n",
    "# Then Column Reverse\n",
    "# [1,2,3,4,5]\n",
    "# [0,8,6,4,2]\n",
    "# [9,7,5,3,1]\n",
    "# [5,4,3,2,1]"
   ]
  },
  {
   "cell_type": "code",
   "execution_count": 28,
   "id": "ac5385b4-f947-475f-9287-c6545c19edd3",
   "metadata": {},
   "outputs": [
    {
     "data": {
      "text/plain": [
       "array([[[44, 33, 22, 11],\n",
       "        [88, 66, 44, 22],\n",
       "        [77, 55, 33, 11]],\n",
       "\n",
       "       [[99, 88, 77, 66],\n",
       "        [99, 77, 55, 11],\n",
       "        [88, 66, 44, 22]]])"
      ]
     },
     "execution_count": 28,
     "metadata": {},
     "output_type": "execute_result"
    }
   ],
   "source": [
    "# Slicing in 3D Array [depth,row,col] -> [depth_slicing , row_slicing , col_slicing]\n",
    "arr_3d = np.array([\n",
    "    [[11,22,33,44],\n",
    "     [22,44,66,88],\n",
    "     [11,33,55,77],\n",
    "    ],\n",
    "    [[66,77,88,99],\n",
    "     [11,55,77,99],\n",
    "     [22,44,66,88],\n",
    "    ]\n",
    "])\n",
    "arr_3d[:,:,::-1] # Complete 3D Array with reversed Columns"
   ]
  },
  {
   "cell_type": "code",
   "execution_count": 29,
   "id": "88c407a1-1cf8-4e5d-9813-0c421129faf5",
   "metadata": {},
   "outputs": [
    {
     "data": {
      "text/plain": [
       "array([[[99, 66],\n",
       "        [88, 22]]])"
      ]
     },
     "execution_count": 29,
     "metadata": {},
     "output_type": "execute_result"
    }
   ],
   "source": [
    "arr_3d = np.array([\n",
    "    [[11,22,33,44],\n",
    "     [22,44,66,88],\n",
    "     [11,33,55,77],\n",
    "    ],\n",
    "    [[66,77,88,99],\n",
    "     [11,55,77,99],\n",
    "     [22,44,66,88],\n",
    "    ]\n",
    "])\n",
    "arr_3d[1::2 , 0:3:2, ::-3] \n",
    "# Depth\n",
    "#      [66,77,88,99],\n",
    "#      [11,55,77,99],\n",
    "#      [22,44,66,88]\n",
    "\n",
    "# rows \n",
    "# [66,77,88,99]\n",
    "# [22,44,66,88]\n",
    "\n",
    "# Cols\n",
    "# [99,66]\n",
    "# [88,22]"
   ]
  },
  {
   "cell_type": "code",
   "execution_count": 31,
   "id": "4819bdbd-96c4-4df1-af9e-51256f7e83e9",
   "metadata": {},
   "outputs": [
    {
     "name": "stdout",
     "output_type": "stream",
     "text": [
      "11\n"
     ]
    },
    {
     "data": {
      "text/plain": [
       "array([[[11, 55]],\n",
       "\n",
       "       [[22, 66]]])"
      ]
     },
     "execution_count": 31,
     "metadata": {},
     "output_type": "execute_result"
    }
   ],
   "source": [
    "arr_3d = np.array([\n",
    "    [[11,22,33,44],\n",
    "     [22,44,66,88],\n",
    "     [11,33,55,77],\n",
    "    ],\n",
    "    [[66,77,88,99],\n",
    "     [11,55,77,99],\n",
    "     [22,44,66,88],\n",
    "    ]\n",
    "])\n",
    "print(arr_3d[-2,2,0]) #  11\n",
    "arr_3d[-2: , -1: , 0:3:2]\n",
    "\n",
    "# [11,33,55,77] # [11,55]\n",
    "# [22,44,66,88] # [22,66]"
   ]
  },
  {
   "cell_type": "code",
   "execution_count": 32,
   "id": "36a82423-c024-42e2-b1e6-4533c8420807",
   "metadata": {},
   "outputs": [
    {
     "data": {
      "text/plain": [
       "array([[44]])"
      ]
     },
     "execution_count": 32,
     "metadata": {},
     "output_type": "execute_result"
    }
   ],
   "source": [
    "arr_3d = np.array([\n",
    "    [[11,22,33,44],\n",
    "     [22,44,66,88],\n",
    "     [11,33,55,77],\n",
    "    ],\n",
    "    [[66,77,88,99],\n",
    "     [11,55,77,99],\n",
    "     [22,44,66,88],\n",
    "    ]\n",
    "])\n",
    "arr_3d[0, -2::2, -3::-2] # 44"
   ]
  },
  {
   "cell_type": "code",
   "execution_count": 33,
   "id": "cd625d10-a273-44da-8287-f07e8d264088",
   "metadata": {},
   "outputs": [
    {
     "data": {
      "text/plain": [
       "array([], shape=(1, 2, 0), dtype=int32)"
      ]
     },
     "execution_count": 33,
     "metadata": {},
     "output_type": "execute_result"
    }
   ],
   "source": [
    "arr_3d = np.array([\n",
    "    [[11,22,33,44],\n",
    "     [22,44,66,88],\n",
    "     [11,33,55,77],\n",
    "    ],\n",
    "    [[66,77,88,99],\n",
    "     [11,55,77,99],\n",
    "     [22,44,66,88],\n",
    "    ]\n",
    "])\n",
    "arr_3d[-2::2, ::-2 ,2:4:-1] # []"
   ]
  },
  {
   "cell_type": "code",
   "execution_count": 34,
   "id": "9720168d-adab-4c71-845b-94ac547fad6c",
   "metadata": {},
   "outputs": [
    {
     "data": {
      "text/plain": [
       "array([[[55, 77],\n",
       "        [33, 44]]])"
      ]
     },
     "execution_count": 34,
     "metadata": {},
     "output_type": "execute_result"
    }
   ],
   "source": [
    "arr_3d = np.array([\n",
    "    [[11,22,33,44],\n",
    "     [22,44,66,88],\n",
    "     [11,33,55,77],\n",
    "    ],\n",
    "    [[66,77,88,99],\n",
    "     [11,55,77,99],\n",
    "     [22,44,66,88],\n",
    "    ]\n",
    "])\n",
    "arr_3d[-2::2, ::-2 ,2:4:]"
   ]
  },
  {
   "cell_type": "code",
   "execution_count": 35,
   "id": "87e37b2f-223f-402e-a56f-f9bdceb865fb",
   "metadata": {},
   "outputs": [
    {
     "name": "stdout",
     "output_type": "stream",
     "text": [
      "[11 55 77 99]\n"
     ]
    }
   ],
   "source": [
    "# Masking -> Uses a boolean array of the same shape to filter the values. \n",
    "arr_1d = np.array([11,22,33,44,55,66,77,88,99])\n",
    "mask_arr = np.array([True,False,False,False,True,False,True,False,True])\n",
    "print(arr_1d[mask_arr]) # [11,55,77,99]"
   ]
  },
  {
   "cell_type": "code",
   "execution_count": 36,
   "id": "0e075027-6795-4cae-9d66-9d35b1123911",
   "metadata": {},
   "outputs": [
    {
     "name": "stdout",
     "output_type": "stream",
     "text": [
      "[1 3 4 5 3 5 9 2 6 8 5 2]\n"
     ]
    }
   ],
   "source": [
    "# arr_2d [Masking]\n",
    "arr_2d = np.array([\n",
    "    [1,2,3,4,5],\n",
    "    [1,3,5,7,9],\n",
    "    [2,4,6,8,0],\n",
    "    [5,4,3,2,1]\n",
    "])\n",
    "\n",
    "mask_2d = np.array([\n",
    "    [True,False,True,True,True],\n",
    "    [False,True,True,False,True],\n",
    "    [True,False,True,True,False],\n",
    "    [True,False,False,True,False]\n",
    "])\n",
    "print(arr_2d[mask_2d]) # Flatten up"
   ]
  },
  {
   "cell_type": "code",
   "execution_count": 37,
   "id": "db09f967-c3b5-403e-a54a-6de5b648e774",
   "metadata": {},
   "outputs": [
    {
     "name": "stdout",
     "output_type": "stream",
     "text": [
      "[11 44 44 66 11 55 88 99 11 55 44 88]\n"
     ]
    }
   ],
   "source": [
    "arr_3d = np.array([\n",
    "    [[11,22,33,44],\n",
    "     [22,44,66,88],\n",
    "     [11,33,55,77],\n",
    "    ],\n",
    "    [[66,77,88,99],\n",
    "     [11,55,77,99],\n",
    "     [22,44,66,88],\n",
    "    ]\n",
    "])\n",
    "\n",
    "mask_3d = np.array([\n",
    "    [[True,False,False,True],\n",
    "     [False,True,True,False],\n",
    "     [True,False,True,False],\n",
    "    ],\n",
    "    [[False,False,True,True],\n",
    "     [True,True,False,False],\n",
    "     [False,True,False,True],\n",
    "    ]\n",
    "])\n",
    "\n",
    "print(arr_3d[mask_3d])"
   ]
  },
  {
   "cell_type": "code",
   "execution_count": 2,
   "id": "89798833-ff38-4995-9258-d833814d2777",
   "metadata": {},
   "outputs": [
    {
     "name": "stdout",
     "output_type": "stream",
     "text": [
      "[[[ 11  22]\n",
      "  [ 33  44]\n",
      "  [ 55  66]\n",
      "  [ 77  88]\n",
      "  [ 99 110]]\n",
      "\n",
      " [[  1   2]\n",
      "  [  3   4]\n",
      "  [  5   6]\n",
      "  [  7   8]\n",
      "  [  9  10]]]\n"
     ]
    }
   ],
   "source": [
    "import numpy as np\n",
    "# Ellipsis [...] # can be called only one time -> 3D (depth , rows ,cols)\n",
    "# 3D [2,5,2]\n",
    "arr_3d = np.array([\n",
    "    [[11,22],\n",
    "    [33,44],\n",
    "    [55,66],\n",
    "    [77,88],\n",
    "    [99,110]],\n",
    "    \n",
    "    [[1,2],\n",
    "    [3,4],\n",
    "    [5,6],\n",
    "    [7,8],\n",
    "    [9,10]],\n",
    "])\n",
    "print(arr_3d[...]) # arr_3d[:,:,:]"
   ]
  },
  {
   "cell_type": "code",
   "execution_count": 3,
   "id": "40df1b5a-d17e-4274-b96d-1064542dc390",
   "metadata": {},
   "outputs": [
    {
     "name": "stdout",
     "output_type": "stream",
     "text": [
      "[[ 22  44  66  88 110]\n",
      " [  2   4   6   8  10]]\n"
     ]
    }
   ],
   "source": [
    "arr_3d = np.array([\n",
    "    [[11,22],\n",
    "    [33,44],\n",
    "    [55,66],\n",
    "    [77,88],\n",
    "    [99,110]],\n",
    "    \n",
    "    [[1,2],\n",
    "    [3,4],\n",
    "    [5,6],\n",
    "    [7,8],\n",
    "    [9,10]],\n",
    "])\n",
    "print(arr_3d[... , 1]) # ellipsis -> we are expanding the depth with 1st column"
   ]
  },
  {
   "cell_type": "code",
   "execution_count": 4,
   "id": "c58910ee-1ddd-435f-aa1c-d13c7b41343d",
   "metadata": {},
   "outputs": [
    {
     "name": "stdout",
     "output_type": "stream",
     "text": [
      "[[ 22  44  66  88 110]\n",
      " [  2   4   6   8  10]]\n"
     ]
    }
   ],
   "source": [
    "print(arr_3d[: , : , 1])"
   ]
  },
  {
   "cell_type": "code",
   "execution_count": 5,
   "id": "d16750b6-9ce0-4c26-bffb-ee8cdf857fb2",
   "metadata": {},
   "outputs": [
    {
     "data": {
      "text/plain": [
       "(2, 5, 2)"
      ]
     },
     "execution_count": 5,
     "metadata": {},
     "output_type": "execute_result"
    }
   ],
   "source": [
    "arr_3d.shape"
   ]
  },
  {
   "cell_type": "code",
   "execution_count": 6,
   "id": "db58dae0-227a-49a6-998a-b129ef717368",
   "metadata": {},
   "outputs": [
    {
     "name": "stdout",
     "output_type": "stream",
     "text": [
      "[[11 22]\n",
      " [ 1  2]]\n"
     ]
    }
   ],
   "source": [
    "arr_3d = np.array([\n",
    "    [[11,22],\n",
    "    [33,44],\n",
    "    [55,66],\n",
    "    [77,88],\n",
    "    [99,110]],\n",
    "    \n",
    "    [[1,2],\n",
    "    [3,4],\n",
    "    [5,6],\n",
    "    [7,8],\n",
    "    [9,10]],\n",
    "])\n",
    "print(arr_3d[: , 0 , ...])"
   ]
  },
  {
   "cell_type": "code",
   "execution_count": 7,
   "id": "e29d2711-3b65-4b3b-a04a-e87b3ea087b1",
   "metadata": {},
   "outputs": [
    {
     "name": "stdout",
     "output_type": "stream",
     "text": [
      "[[11 22]\n",
      " [ 1  2]]\n"
     ]
    }
   ],
   "source": [
    "print(arr_3d[: , 0 , :])"
   ]
  },
  {
   "cell_type": "code",
   "execution_count": 8,
   "id": "59af1e25-4aaf-47dc-8808-8bf689bbaaf7",
   "metadata": {},
   "outputs": [
    {
     "name": "stdout",
     "output_type": "stream",
     "text": [
      "[[ 22  44  66  88 110]\n",
      " [  2   4   6   8  10]]\n"
     ]
    }
   ],
   "source": [
    "arr_3d = np.array([\n",
    "    [[11,22],\n",
    "    [33,44],\n",
    "    [55,66],\n",
    "    [77,88],\n",
    "    [99,110]],\n",
    "    \n",
    "    [[1,2],\n",
    "    [3,4],\n",
    "    [5,6],\n",
    "    [7,8],\n",
    "    [9,10]],\n",
    "])\n",
    "print(arr_3d[..., -1])"
   ]
  },
  {
   "cell_type": "code",
   "execution_count": 9,
   "id": "28df13e3-643c-4421-bf01-180ed0de33bb",
   "metadata": {},
   "outputs": [
    {
     "name": "stdout",
     "output_type": "stream",
     "text": [
      "[[ 22  44  66  88 110]\n",
      " [  2   4   6   8  10]]\n"
     ]
    }
   ],
   "source": [
    "print(arr_3d[:, :, -1])"
   ]
  },
  {
   "cell_type": "code",
   "execution_count": 10,
   "id": "a83dc3ab-a24a-4c51-9380-25e1818a527f",
   "metadata": {},
   "outputs": [
    {
     "name": "stdout",
     "output_type": "stream",
     "text": [
      "[[ 11  22]\n",
      " [ 33  44]\n",
      " [ 55  66]\n",
      " [ 77  88]\n",
      " [ 99 110]]\n"
     ]
    }
   ],
   "source": [
    "arr_3d = np.array([\n",
    "    [[11,22],\n",
    "    [33,44],\n",
    "    [55,66],\n",
    "    [77,88],\n",
    "    [99,110]],\n",
    "    \n",
    "    [[1,2],\n",
    "    [3,4],\n",
    "    [5,6],\n",
    "    [7,8],\n",
    "    [9,10]],\n",
    "])\n",
    "print(arr_3d[0, ...]) # 0th depth with all rows and cols"
   ]
  },
  {
   "cell_type": "code",
   "execution_count": 11,
   "id": "092eef09-c974-4ae1-8639-971e91805f6e",
   "metadata": {},
   "outputs": [
    {
     "name": "stdout",
     "output_type": "stream",
     "text": [
      "[[ 11  22]\n",
      " [ 33  44]\n",
      " [ 55  66]\n",
      " [ 77  88]\n",
      " [ 99 110]]\n"
     ]
    }
   ],
   "source": [
    "print(arr_3d[0, : , :])"
   ]
  },
  {
   "cell_type": "code",
   "execution_count": 12,
   "id": "91841d24-ba59-400a-8e55-3e0048dc7f0d",
   "metadata": {},
   "outputs": [
    {
     "name": "stdout",
     "output_type": "stream",
     "text": [
      "(9,)\n",
      "(9,)\n"
     ]
    }
   ],
   "source": [
    "# Operation on Arrays \n",
    "a = np.array([11,22,33,44,55,66,77,88,99])\n",
    "b = np.array([7,9,11,17,21,29,41,77,91])\n",
    "\n",
    "print(a.shape)\n",
    "print(b.shape)"
   ]
  },
  {
   "cell_type": "code",
   "execution_count": 13,
   "id": "a827e76b-f25d-4a2f-b38c-65bc220e1c4b",
   "metadata": {},
   "outputs": [
    {
     "name": "stdout",
     "output_type": "stream",
     "text": [
      "Numpy Array Addition : \n"
     ]
    },
    {
     "data": {
      "text/plain": [
       "array([ 18,  31,  44,  61,  76,  95, 118, 165, 190])"
      ]
     },
     "execution_count": 13,
     "metadata": {},
     "output_type": "execute_result"
    }
   ],
   "source": [
    "# Addition \n",
    "print(\"Numpy Array Addition : \")\n",
    "a+b"
   ]
  },
  {
   "cell_type": "code",
   "execution_count": 14,
   "id": "ca7caad4-b869-4a59-ab19-c8906391141b",
   "metadata": {},
   "outputs": [
    {
     "name": "stdout",
     "output_type": "stream",
     "text": [
      "Numpy Array Subtraction : \n"
     ]
    },
    {
     "data": {
      "text/plain": [
       "array([ 4, 13, 22, 27, 34, 37, 36, 11,  8])"
      ]
     },
     "execution_count": 14,
     "metadata": {},
     "output_type": "execute_result"
    }
   ],
   "source": [
    "# Subtraction \n",
    "print(\"Numpy Array Subtraction : \")\n",
    "a-b"
   ]
  },
  {
   "cell_type": "code",
   "execution_count": 15,
   "id": "6b06ae10-b4b1-4b84-a5a3-1b447e8dcb89",
   "metadata": {},
   "outputs": [
    {
     "name": "stdout",
     "output_type": "stream",
     "text": [
      "Numpy Array Multiplication : \n"
     ]
    },
    {
     "data": {
      "text/plain": [
       "array([  77,  198,  363,  748, 1155, 1914, 3157, 6776, 9009])"
      ]
     },
     "execution_count": 15,
     "metadata": {},
     "output_type": "execute_result"
    }
   ],
   "source": [
    "# Multiplication \n",
    "print(\"Numpy Array Multiplication : \")\n",
    "a*b"
   ]
  },
  {
   "cell_type": "code",
   "execution_count": 16,
   "id": "b3936963-7f32-42b6-90f4-3b2c07493979",
   "metadata": {},
   "outputs": [
    {
     "name": "stdout",
     "output_type": "stream",
     "text": [
      "Numpy Array Divison : \n"
     ]
    },
    {
     "data": {
      "text/plain": [
       "array([1.57142857, 2.44444444, 3.        , 2.58823529, 2.61904762,\n",
       "       2.27586207, 1.87804878, 1.14285714, 1.08791209])"
      ]
     },
     "execution_count": 16,
     "metadata": {},
     "output_type": "execute_result"
    }
   ],
   "source": [
    "# Division \n",
    "print(\"Numpy Array Divison : \")\n",
    "a/b"
   ]
  },
  {
   "cell_type": "code",
   "execution_count": 17,
   "id": "20628970-d31b-4e69-aae9-3e9c73fe20ba",
   "metadata": {},
   "outputs": [
    {
     "name": "stdout",
     "output_type": "stream",
     "text": [
      "Numpy Array Floor Divison : \n"
     ]
    },
    {
     "data": {
      "text/plain": [
       "array([1, 2, 3, 2, 2, 2, 1, 1, 1])"
      ]
     },
     "execution_count": 17,
     "metadata": {},
     "output_type": "execute_result"
    }
   ],
   "source": [
    "# Floor Division \n",
    "print(\"Numpy Array Floor Divison : \")\n",
    "a//b"
   ]
  },
  {
   "cell_type": "code",
   "execution_count": 18,
   "id": "0b6ca487-69f7-4ee4-86fa-b8fa97f990a5",
   "metadata": {},
   "outputs": [
    {
     "name": "stdout",
     "output_type": "stream",
     "text": [
      "Numpy Array Modulus : \n"
     ]
    },
    {
     "data": {
      "text/plain": [
       "array([ 4,  4,  0, 10, 13,  8, 36, 11,  8])"
      ]
     },
     "execution_count": 18,
     "metadata": {},
     "output_type": "execute_result"
    }
   ],
   "source": [
    "# Modulus: \n",
    "print(\"Numpy Array Modulus : \")\n",
    "a%b"
   ]
  },
  {
   "cell_type": "code",
   "execution_count": 21,
   "id": "d115900b-0277-4bbf-81e9-b4d4a05e87d7",
   "metadata": {},
   "outputs": [
    {
     "name": "stdout",
     "output_type": "stream",
     "text": [
      "Numpy Array Exponent : \n"
     ]
    },
    {
     "data": {
      "text/plain": [
       "array([ 121,  484, 1089, 1936, 3025, 4356, 5929, 7744, 9801])"
      ]
     },
     "execution_count": 21,
     "metadata": {},
     "output_type": "execute_result"
    }
   ],
   "source": [
    "# Exponentiation: \n",
    "print(\"Numpy Array Exponent : \")\n",
    "a ** 2"
   ]
  },
  {
   "cell_type": "code",
   "execution_count": 22,
   "id": "70da7423-d4ba-4ac6-8354-7ba38142beea",
   "metadata": {},
   "outputs": [
    {
     "name": "stdout",
     "output_type": "stream",
     "text": [
      "Numpy Array Exponent : \n"
     ]
    },
    {
     "data": {
      "text/plain": [
       "array([  49,   81,  121,  289,  441,  841, 1681, 5929, 8281])"
      ]
     },
     "execution_count": 22,
     "metadata": {},
     "output_type": "execute_result"
    }
   ],
   "source": [
    "print(\"Numpy Array Exponent : \")\n",
    "b ** 2"
   ]
  },
  {
   "cell_type": "code",
   "execution_count": 23,
   "id": "ddf953a7-974d-47b0-8a01-0e8f05cc6b34",
   "metadata": {},
   "outputs": [
    {
     "name": "stdout",
     "output_type": "stream",
     "text": [
      "(9,)\n",
      "(7,)\n"
     ]
    }
   ],
   "source": [
    "# Operation on Arrays \n",
    "a = np.array([11,22,33,44,55,66,77,88,99])\n",
    "b = np.array([1,2,3,4,5,6,7])\n",
    "\n",
    "print(a.shape)\n",
    "print(b.shape)"
   ]
  },
  {
   "cell_type": "raw",
   "id": "8a7c19a6-f09c-4127-9aed-b7d0623d8d84",
   "metadata": {},
   "source": [
    "# Operation won't work on different shape\n",
    "a+b # ValueError: operands could not be broadcast together with shapes (9,) (7,) "
   ]
  },
  {
   "cell_type": "markdown",
   "id": "7c192008-a5d6-4040-b377-5befb1a29af6",
   "metadata": {},
   "source": [
    "# Transposing Array:\n",
    "#### Transposing an array swaps its rows and columns, like flipping a matrix along its diagonal"
   ]
  },
  {
   "cell_type": "code",
   "execution_count": 27,
   "id": "c67beeba-9056-499f-815f-4ab0b9faed9d",
   "metadata": {},
   "outputs": [
    {
     "name": "stdout",
     "output_type": "stream",
     "text": [
      "Original Array: \n",
      " [[11 22 33 44 55]\n",
      " [99 88 77 66 55]\n",
      " [11 33 55 77 99]\n",
      " [22 44 66 88 10]\n",
      " [10 33 66 77 99]]\n"
     ]
    }
   ],
   "source": [
    "arr_2d = np.array([\n",
    "    [11,22,33,44,55],\n",
    "    [99,88,77,66,55],\n",
    "    [11,33,55,77,99],\n",
    "    [22,44,66,88,10],\n",
    "    [10,33,66,77,99]\n",
    "])\n",
    "print(\"Original Array: \\n\" , arr_2d)"
   ]
  },
  {
   "cell_type": "code",
   "execution_count": 28,
   "id": "75676ac4-a65e-4070-8795-5a75945832ec",
   "metadata": {},
   "outputs": [
    {
     "name": "stdout",
     "output_type": "stream",
     "text": [
      "Transposed Array: \n",
      " [[11 99 11 22 10]\n",
      " [22 88 33 44 33]\n",
      " [33 77 55 66 66]\n",
      " [44 66 77 88 77]\n",
      " [55 55 99 10 99]]\n"
     ]
    }
   ],
   "source": [
    "print(\"Transposed Array: \\n\" , arr_2d.transpose())"
   ]
  },
  {
   "cell_type": "code",
   "execution_count": 29,
   "id": "104f5d2e-b45c-4388-ac24-83b7d51b01a0",
   "metadata": {},
   "outputs": [
    {
     "name": "stdout",
     "output_type": "stream",
     "text": [
      "Transposed Array: \n",
      " [[11 99 11 22 10]\n",
      " [22 88 33 44 33]\n",
      " [33 77 55 66 66]\n",
      " [44 66 77 88 77]\n",
      " [55 55 99 10 99]]\n"
     ]
    }
   ],
   "source": [
    "print(\"Transposed Array: \\n\" , arr_2d.T)"
   ]
  },
  {
   "cell_type": "markdown",
   "id": "a9ee0262-6612-401f-a06a-256263ab43ce",
   "metadata": {},
   "source": [
    "# Sorting Arrays:\n",
    "#### Sorting means arranging elements in ascending (default) or descending order"
   ]
  },
  {
   "cell_type": "code",
   "execution_count": 30,
   "id": "669b64da-bc11-44c7-ab8c-1cebc4ffd344",
   "metadata": {},
   "outputs": [
    {
     "name": "stdout",
     "output_type": "stream",
     "text": [
      "[22 77 55 11 33 99 44 66 88]\n",
      "[11 22 33 44 55 66 77 88 99]\n"
     ]
    }
   ],
   "source": [
    "arr_1d = np.array([22,77,55,11,33,99,44,66,88])\n",
    "print(arr_1d)\n",
    "print(np.sort(arr_1d))"
   ]
  },
  {
   "cell_type": "code",
   "execution_count": 33,
   "id": "d6e0071a-61b5-4d77-9721-c2f83a0d9e15",
   "metadata": {},
   "outputs": [
    {
     "name": "stdout",
     "output_type": "stream",
     "text": [
      "[99 88 77 66 55 44 33 22 11]\n"
     ]
    }
   ],
   "source": [
    "print(np.sort(arr_1d)[::-1]) # Descending Order"
   ]
  },
  {
   "cell_type": "code",
   "execution_count": 35,
   "id": "6a0844e3-69f1-4324-a065-af209b4fb0ec",
   "metadata": {},
   "outputs": [
    {
     "data": {
      "text/plain": [
       "array([[10, 22, 33, 44, 10],\n",
       "       [11, 33, 55, 66, 55],\n",
       "       [11, 33, 66, 77, 55],\n",
       "       [22, 44, 66, 77, 99],\n",
       "       [99, 88, 77, 88, 99]])"
      ]
     },
     "execution_count": 35,
     "metadata": {},
     "output_type": "execute_result"
    }
   ],
   "source": [
    "# Axis = 0 [Horizontal] or axis = 1[Vertical]\n",
    "arr_2d = np.array([\n",
    "    [11,22,33,44,55],\n",
    "    [99,88,77,66,55],\n",
    "    [11,33,55,77,99],\n",
    "    [22,44,66,88,10],\n",
    "    [10,33,66,77,99]\n",
    "])\n",
    "np.sort(arr_2d , axis = 0)"
   ]
  },
  {
   "cell_type": "code",
   "execution_count": 36,
   "id": "a4ba0d5f-422a-4c39-810a-8e1f562f6159",
   "metadata": {},
   "outputs": [
    {
     "data": {
      "text/plain": [
       "array([[11, 22, 33, 44, 55],\n",
       "       [55, 66, 77, 88, 99],\n",
       "       [11, 33, 55, 77, 99],\n",
       "       [10, 22, 44, 66, 88],\n",
       "       [10, 33, 66, 77, 99]])"
      ]
     },
     "execution_count": 36,
     "metadata": {},
     "output_type": "execute_result"
    }
   ],
   "source": [
    "# axis = 1[Vertical]\n",
    "arr_2d = np.array([\n",
    "    [11,22,33,44,55],\n",
    "    [99,88,77,66,55],\n",
    "    [11,33,55,77,99],\n",
    "    [22,44,66,88,10],\n",
    "    [10,33,66,77,99]\n",
    "])\n",
    "np.sort(arr_2d , axis = 1)"
   ]
  },
  {
   "cell_type": "code",
   "execution_count": 37,
   "id": "07c1cf87-d5a7-4369-be2c-d7cae7b81628",
   "metadata": {},
   "outputs": [
    {
     "name": "stdout",
     "output_type": "stream",
     "text": [
      "[55 11 44 33 22]\n",
      "[1 4 3 2 0]\n"
     ]
    }
   ],
   "source": [
    "# argsort [indexing Sort]\n",
    "arr_1d = np.array([55,11,44,33,22])\n",
    "pos_arr = np.argsort(arr_1d)\n",
    "print(arr_1d)\n",
    "print(pos_arr)"
   ]
  },
  {
   "cell_type": "code",
   "execution_count": 38,
   "id": "490dbd11-8d6f-46a0-954a-ee0e4acc2993",
   "metadata": {},
   "outputs": [
    {
     "name": "stdout",
     "output_type": "stream",
     "text": [
      "[11 22 33 44 55]\n"
     ]
    }
   ],
   "source": [
    "print(arr_1d[pos_arr])"
   ]
  },
  {
   "cell_type": "code",
   "execution_count": 39,
   "id": "082ef42c-978a-468c-b95d-ab2db5584003",
   "metadata": {},
   "outputs": [
    {
     "data": {
      "text/plain": [
       "11"
      ]
     },
     "execution_count": 39,
     "metadata": {},
     "output_type": "execute_result"
    }
   ],
   "source": [
    "arr_1d[1]"
   ]
  },
  {
   "cell_type": "code",
   "execution_count": 40,
   "id": "b707e2a1-aa78-43e4-bb88-bcc3dafd3ee1",
   "metadata": {},
   "outputs": [
    {
     "data": {
      "text/plain": [
       "22"
      ]
     },
     "execution_count": 40,
     "metadata": {},
     "output_type": "execute_result"
    }
   ],
   "source": [
    "arr_1d[4]"
   ]
  },
  {
   "cell_type": "code",
   "execution_count": 41,
   "id": "eb0ffcf3-a83c-4637-a6ad-995da690f8d7",
   "metadata": {},
   "outputs": [
    {
     "data": {
      "text/plain": [
       "33"
      ]
     },
     "execution_count": 41,
     "metadata": {},
     "output_type": "execute_result"
    }
   ],
   "source": [
    "arr_1d[3]"
   ]
  },
  {
   "cell_type": "code",
   "execution_count": 43,
   "id": "91a91dfe-5289-4130-8832-f1ddb97c8e0d",
   "metadata": {},
   "outputs": [
    {
     "name": "stdout",
     "output_type": "stream",
     "text": [
      "[[11 22 33 44 55]\n",
      " [99 88 77 66 55]\n",
      " [11 33 55 77 99]\n",
      " [22 44 66 88 10]\n",
      " [10 33 66 77 99]]\n",
      "[[0 1 2 3 4]\n",
      " [4 3 2 1 0]\n",
      " [0 1 2 3 4]\n",
      " [4 0 1 2 3]\n",
      " [0 1 2 3 4]]\n"
     ]
    }
   ],
   "source": [
    "# axis = 1[Vertical]\n",
    "arr_2d = np.array([\n",
    "    [11,22,33,44,55],\n",
    "    [99,88,77,66,55],\n",
    "    [11,33,55,77,99],\n",
    "    [22,44,66,88,10],\n",
    "    [10,33,66,77,99]\n",
    "])\n",
    "print(arr_2d)\n",
    "print(np.argsort(arr_2d , axis = 1))"
   ]
  },
  {
   "cell_type": "code",
   "execution_count": 44,
   "id": "60da7af0-3850-4870-b614-bc6526a41507",
   "metadata": {},
   "outputs": [
    {
     "name": "stdout",
     "output_type": "stream",
     "text": [
      "[[11 22 33 44 55]\n",
      " [99 88 77 66 55]\n",
      " [11 33 55 77 99]\n",
      " [22 44 66 88 10]\n",
      " [10 33 66 77 99]]\n",
      "[[4 0 0 0 3]\n",
      " [0 2 2 1 0]\n",
      " [2 4 3 2 1]\n",
      " [3 3 4 4 2]\n",
      " [1 1 1 3 4]]\n"
     ]
    }
   ],
   "source": [
    "# axis = 0[Horizontal] [rows]\n",
    "arr_2d = np.array([\n",
    "    [11,22,33,44,55],\n",
    "    [99,88,77,66,55],\n",
    "    [11,33,55,77,99],\n",
    "    [22,44,66,88,10],\n",
    "    [10,33,66,77,99]\n",
    "])\n",
    "print(arr_2d)\n",
    "print(np.argsort(arr_2d , axis = 0))"
   ]
  },
  {
   "cell_type": "code",
   "execution_count": 47,
   "id": "26f3aa9f-a40c-452c-8141-bc0ea6c97a95",
   "metadata": {},
   "outputs": [
    {
     "name": "stdout",
     "output_type": "stream",
     "text": [
      "[11 22 33 44 55 66 77 88 99  1  2  3  4  5  6  7  8  9]\n"
     ]
    }
   ],
   "source": [
    "# Concatenating an array -> It means Joining the array - either row wise or column wise\n",
    "X = np.array([11,22,33,44,55])\n",
    "Y = np.array([66,77,88,99])\n",
    "Z = np.array([1,2,3,4,5,6,7,8,9])\n",
    "print(np.concatenate((X,Y,Z)))"
   ]
  },
  {
   "cell_type": "code",
   "execution_count": 49,
   "id": "4f40d4ba-50d9-4383-8b8e-1a1ac3201ed8",
   "metadata": {},
   "outputs": [],
   "source": [
    "# Concatenating an 2D array\n",
    "arr_2dA = np.array([\n",
    "    [11,22,33],\n",
    "    [44,55,66],\n",
    "    [77,88,99]\n",
    "]) # shape(3,3)\n",
    "\n",
    "arr_2dB = np.array([\n",
    "    [11,22],\n",
    "    [44,55],\n",
    "    [77,88]\n",
    "]) # shape(3,2)\n",
    "\n",
    "arr_2dC = np.array([\n",
    "    [11,22,33],\n",
    "    [44,55,66]\n",
    "]) # shape(2,3)"
   ]
  },
  {
   "cell_type": "code",
   "execution_count": 50,
   "id": "677e403e-2a58-4d64-a2fb-cf6a84df0e9b",
   "metadata": {},
   "outputs": [
    {
     "name": "stdout",
     "output_type": "stream",
     "text": [
      "[[11 22 33]\n",
      " [44 55 66]\n",
      " [77 88 99]\n",
      " [11 22 33]\n",
      " [44 55 66]]\n"
     ]
    }
   ],
   "source": [
    "print(np.concatenate((arr_2dA , arr_2dC) , axis=0)) # row wise"
   ]
  },
  {
   "cell_type": "raw",
   "id": "c569bc7e-55c2-4e9e-a728-a77c54dba281",
   "metadata": {},
   "source": [
    "print(np.concatenate((arr_2dA , arr_2dC) , axis=1)) # col-wise\n",
    "ValueError: all the input array dimensions except for the concatenation axis must match exactly, \n",
    "but along dimension 0, the array at index 0 has size 3 and the array at index 1 has size 2"
   ]
  },
  {
   "cell_type": "code",
   "execution_count": 52,
   "id": "fcd636a3-9c14-4e67-969d-120b0f87a4b3",
   "metadata": {},
   "outputs": [
    {
     "name": "stdout",
     "output_type": "stream",
     "text": [
      "[[11 22 33 11 22]\n",
      " [44 55 66 44 55]\n",
      " [77 88 99 77 88]]\n"
     ]
    }
   ],
   "source": [
    "print(np.concatenate((arr_2dA , arr_2dB) , axis=1)) # Col wise Concatenation"
   ]
  },
  {
   "cell_type": "raw",
   "id": "3689de8e-3364-418e-a69a-fe6043eea9e6",
   "metadata": {},
   "source": [
    "print(np.concatenate((arr_2dA , arr_2dB) , axis=0)) # Row wise Concatenation [Error]\n",
    "ValueError: all the input array dimensions except for the concatenation axis must match exactly, \n",
    "but along dimension 1, the array at index 0 has size 3 and the array at index 1 has size 2\n"
   ]
  },
  {
   "cell_type": "code",
   "execution_count": 55,
   "id": "c4e5c1b7-f93d-471a-8e09-5e99b4e8df59",
   "metadata": {},
   "outputs": [
    {
     "name": "stdout",
     "output_type": "stream",
     "text": [
      "1 2 3 4 5 6 7 8 9 10 "
     ]
    }
   ],
   "source": [
    "for i in range(1,11):\n",
    "    print(i , end = \" \")"
   ]
  },
  {
   "cell_type": "code",
   "execution_count": 57,
   "id": "05489cce-2325-4258-a1f5-4806b89ac19a",
   "metadata": {},
   "outputs": [
    {
     "data": {
      "text/plain": [
       "array([ 2,  4,  6,  8, 10, 12, 14, 16, 18, 20])"
      ]
     },
     "execution_count": 57,
     "metadata": {},
     "output_type": "execute_result"
    }
   ],
   "source": [
    "# What is Reshaping?\n",
    "# arange(start = 0 , stop : length[Non-Inclusive] , step = 1)\n",
    "arr = np.arange(2,21,2) # [2,4,6,8.....20]\n",
    "arr"
   ]
  },
  {
   "cell_type": "code",
   "execution_count": 58,
   "id": "0f9706fe-b4cc-4223-83a0-4c10209481bb",
   "metadata": {},
   "outputs": [
    {
     "data": {
      "text/plain": [
       "array([[ 2,  4,  6,  8, 10],\n",
       "       [12, 14, 16, 18, 20]])"
      ]
     },
     "execution_count": 58,
     "metadata": {},
     "output_type": "execute_result"
    }
   ],
   "source": [
    "# 10 elements -> reshape\n",
    "arr_2d = arr.reshape(2,5)\n",
    "arr_2d"
   ]
  },
  {
   "cell_type": "code",
   "execution_count": 59,
   "id": "cea1851e-6e87-4ede-bf2b-ffd2d33cbae5",
   "metadata": {},
   "outputs": [
    {
     "data": {
      "text/plain": [
       "array([[ 2,  4],\n",
       "       [ 6,  8],\n",
       "       [10, 12],\n",
       "       [14, 16],\n",
       "       [18, 20]])"
      ]
     },
     "execution_count": 59,
     "metadata": {},
     "output_type": "execute_result"
    }
   ],
   "source": [
    "# 10 elements -> reshape\n",
    "arr_2d = arr.reshape(5,2)\n",
    "arr_2d"
   ]
  },
  {
   "cell_type": "code",
   "execution_count": 62,
   "id": "a1f22240-dd13-4365-b131-528131a9399e",
   "metadata": {},
   "outputs": [
    {
     "data": {
      "text/plain": [
       "array([ 1,  2,  3,  4,  5,  6,  7,  8,  9, 10, 11, 12, 13, 14, 15, 16])"
      ]
     },
     "execution_count": 62,
     "metadata": {},
     "output_type": "execute_result"
    }
   ],
   "source": [
    "arr = np.arange(1,17,1) # [1,2,3....16]\n",
    "arr"
   ]
  },
  {
   "cell_type": "code",
   "execution_count": 63,
   "id": "12c9acc0-a88b-4dc7-8e09-899186dac8bd",
   "metadata": {},
   "outputs": [
    {
     "data": {
      "text/plain": [
       "array([[ 1,  2,  3,  4],\n",
       "       [ 5,  6,  7,  8],\n",
       "       [ 9, 10, 11, 12],\n",
       "       [13, 14, 15, 16]])"
      ]
     },
     "execution_count": 63,
     "metadata": {},
     "output_type": "execute_result"
    }
   ],
   "source": [
    "# 16 elements\n",
    "arr_2d = arr.reshape(4,4)\n",
    "arr_2d"
   ]
  },
  {
   "cell_type": "code",
   "execution_count": 65,
   "id": "d6550e3b-39b5-4387-ac29-86327a012550",
   "metadata": {},
   "outputs": [
    {
     "data": {
      "text/plain": [
       "array([[[ 1,  2],\n",
       "        [ 3,  4],\n",
       "        [ 5,  6],\n",
       "        [ 7,  8]],\n",
       "\n",
       "       [[ 9, 10],\n",
       "        [11, 12],\n",
       "        [13, 14],\n",
       "        [15, 16]]])"
      ]
     },
     "execution_count": 65,
     "metadata": {},
     "output_type": "execute_result"
    }
   ],
   "source": [
    "# arr_2d -> arr_3d\n",
    "arr_3d = arr_2d.reshape(2,4,2)\n",
    "arr_3d"
   ]
  },
  {
   "cell_type": "code",
   "execution_count": 66,
   "id": "9f8cfe98-b626-47b4-a655-8901c9d7bf24",
   "metadata": {},
   "outputs": [
    {
     "data": {
      "text/plain": [
       "array([[[[ 1,  2],\n",
       "         [ 3,  4]],\n",
       "\n",
       "        [[ 5,  6],\n",
       "         [ 7,  8]]],\n",
       "\n",
       "\n",
       "       [[[ 9, 10],\n",
       "         [11, 12]],\n",
       "\n",
       "        [[13, 14],\n",
       "         [15, 16]]]])"
      ]
     },
     "execution_count": 66,
     "metadata": {},
     "output_type": "execute_result"
    }
   ],
   "source": [
    "# 3D -> 4D Matrix\n",
    "arr_4d = arr_3d.reshape(2,2,2,2)\n",
    "arr_4d"
   ]
  },
  {
   "cell_type": "code",
   "execution_count": 67,
   "id": "b31dc8b9-b75a-4702-8273-228bdc3957eb",
   "metadata": {},
   "outputs": [
    {
     "data": {
      "text/plain": [
       "array([[ 1,  2],\n",
       "       [ 3,  4],\n",
       "       [ 5,  6],\n",
       "       [ 7,  8],\n",
       "       [ 9, 10],\n",
       "       [11, 12],\n",
       "       [13, 14],\n",
       "       [15, 16]])"
      ]
     },
     "execution_count": 67,
     "metadata": {},
     "output_type": "execute_result"
    }
   ],
   "source": [
    "# 4D -> 2D Matrix\n",
    "arr_2d = arr_4d.reshape(8,2)\n",
    "arr_2d"
   ]
  },
  {
   "cell_type": "code",
   "execution_count": 68,
   "id": "c1598e48-ba38-4b64-aa29-a89ac3b01b8c",
   "metadata": {},
   "outputs": [
    {
     "data": {
      "text/plain": [
       "array([[ 1,  2,  3,  4,  5,  6,  7,  8],\n",
       "       [ 9, 10, 11, 12, 13, 14, 15, 16]])"
      ]
     },
     "execution_count": 68,
     "metadata": {},
     "output_type": "execute_result"
    }
   ],
   "source": [
    "# 4D -> 2D Matrix\n",
    "arr_2d = arr_4d.reshape(2,8)\n",
    "arr_2d"
   ]
  },
  {
   "cell_type": "code",
   "execution_count": 69,
   "id": "13369cea-69b5-468b-8afc-b7cb1f4d04df",
   "metadata": {},
   "outputs": [
    {
     "data": {
      "text/plain": [
       "array([[[[ 1,  2],\n",
       "         [ 3,  4]],\n",
       "\n",
       "        [[ 5,  6],\n",
       "         [ 7,  8]]],\n",
       "\n",
       "\n",
       "       [[[ 9, 10],\n",
       "         [11, 12]],\n",
       "\n",
       "        [[13, 14],\n",
       "         [15, 16]]]])"
      ]
     },
     "execution_count": 69,
     "metadata": {},
     "output_type": "execute_result"
    }
   ],
   "source": [
    "arr_4d"
   ]
  },
  {
   "cell_type": "code",
   "execution_count": 72,
   "id": "0403d3c0-98a4-43a8-a124-43475af2668d",
   "metadata": {},
   "outputs": [
    {
     "data": {
      "text/plain": [
       "array([ 1,  2,  3,  4,  5,  6,  7,  8,  9, 10, 11, 12, 13, 14, 15, 16])"
      ]
     },
     "execution_count": 72,
     "metadata": {},
     "output_type": "execute_result"
    }
   ],
   "source": [
    "# Flattening n-dimensional_array into 1D array\n",
    "flattened_arr = arr_4d.reshape(-1)\n",
    "flattened_arr"
   ]
  },
  {
   "cell_type": "code",
   "execution_count": 73,
   "id": "46432a13-4887-4833-9bf1-9a99a50a4259",
   "metadata": {},
   "outputs": [
    {
     "data": {
      "text/plain": [
       "array([ 1,  2,  3,  4,  5,  6,  7,  8,  9, 10, 11, 12, 13, 14, 15, 16])"
      ]
     },
     "execution_count": 73,
     "metadata": {},
     "output_type": "execute_result"
    }
   ],
   "source": [
    "flattened_arr = arr_2d.reshape(-1)\n",
    "flattened_arr"
   ]
  },
  {
   "cell_type": "code",
   "execution_count": 74,
   "id": "1f3cbdb1-bd57-4cc5-b5f0-2e9ef0bd126d",
   "metadata": {},
   "outputs": [
    {
     "data": {
      "text/plain": [
       "array([ 1,  2,  3,  4,  5,  6,  7,  8,  9, 10, 11, 12, 13, 14, 15, 16])"
      ]
     },
     "execution_count": 74,
     "metadata": {},
     "output_type": "execute_result"
    }
   ],
   "source": [
    "flattened_arr = arr_3d.reshape(-1)\n",
    "flattened_arr"
   ]
  },
  {
   "cell_type": "code",
   "execution_count": 75,
   "id": "d7c90ceb-7bdb-4652-b422-2da335860d6a",
   "metadata": {},
   "outputs": [
    {
     "data": {
      "text/plain": [
       "array([[ 1],\n",
       "       [ 2],\n",
       "       [ 3],\n",
       "       [ 4],\n",
       "       [ 5],\n",
       "       [ 6],\n",
       "       [ 7],\n",
       "       [ 8],\n",
       "       [ 9],\n",
       "       [10],\n",
       "       [11],\n",
       "       [12],\n",
       "       [13],\n",
       "       [14],\n",
       "       [15],\n",
       "       [16]])"
      ]
     },
     "execution_count": 75,
     "metadata": {},
     "output_type": "execute_result"
    }
   ],
   "source": [
    "flattened_arr = arr_3d.reshape(-1,1)\n",
    "flattened_arr"
   ]
  },
  {
   "cell_type": "code",
   "execution_count": 76,
   "id": "5ef1e43e-b828-4b73-9e50-b13c604865da",
   "metadata": {},
   "outputs": [
    {
     "name": "stdout",
     "output_type": "stream",
     "text": [
      "[ 2  4  6  8 10 12 14 16 18 20]\n"
     ]
    }
   ],
   "source": [
    "# Splitting an Array \n",
    "arr = np.arange(2,21,2) # 10 elements [2,4...20]\n",
    "print(arr)"
   ]
  },
  {
   "cell_type": "code",
   "execution_count": 77,
   "id": "ed38471e-d694-49cc-a772-8f6de33ad4da",
   "metadata": {},
   "outputs": [
    {
     "name": "stdout",
     "output_type": "stream",
     "text": [
      "[array([2, 4]), array([6, 8]), array([10, 12]), array([14, 16]), array([18, 20])]\n"
     ]
    }
   ],
   "source": [
    "split_arr = np.split(arr , 5)\n",
    "print(split_arr)"
   ]
  },
  {
   "cell_type": "code",
   "execution_count": 78,
   "id": "12e37f1c-a8b5-427f-a38c-92798d8a43b2",
   "metadata": {},
   "outputs": [
    {
     "name": "stdout",
     "output_type": "stream",
     "text": [
      "[2 4]\n",
      "[6 8]\n",
      "[10 12]\n",
      "[14 16]\n",
      "[18 20]\n"
     ]
    }
   ],
   "source": [
    "for data in split_arr:\n",
    "    print(data)"
   ]
  },
  {
   "cell_type": "raw",
   "id": "6af449a4-b43f-4f24-a00e-9c9b2f1be4a3",
   "metadata": {},
   "source": [
    "split_arr = np.split(arr , 3)\n",
    "print(split_arr)\n",
    "# ValueError: array split does not result in an equal division"
   ]
  },
  {
   "cell_type": "code",
   "execution_count": 80,
   "id": "6ec17f04-375d-4d00-bf79-9337c286a7b9",
   "metadata": {},
   "outputs": [
    {
     "name": "stdout",
     "output_type": "stream",
     "text": [
      "[ 1  2  3  4  5  6  7  8  9 10 11 12 13 14 15]\n"
     ]
    }
   ],
   "source": [
    "# Splitting an Array \n",
    "arr = np.arange(1,16,1) # 15 elements [1,2,3....15]\n",
    "print(arr)"
   ]
  },
  {
   "cell_type": "code",
   "execution_count": 81,
   "id": "2cc8ca6f-7723-420c-9fb4-986f30df4bd7",
   "metadata": {},
   "outputs": [
    {
     "name": "stdout",
     "output_type": "stream",
     "text": [
      "[array([1, 2, 3, 4, 5]), array([ 6,  7,  8,  9, 10]), array([11, 12, 13, 14, 15])]\n"
     ]
    }
   ],
   "source": [
    "split_arr = np.split(arr, 3)\n",
    "print(split_arr)"
   ]
  },
  {
   "cell_type": "code",
   "execution_count": 82,
   "id": "f2e86c01-72dc-4c95-bd80-49ecafc3d9b0",
   "metadata": {},
   "outputs": [
    {
     "name": "stdout",
     "output_type": "stream",
     "text": [
      "[1 2 3 4 5]\n",
      "[ 6  7  8  9 10]\n",
      "[11 12 13 14 15]\n"
     ]
    }
   ],
   "source": [
    "for data in split_arr:\n",
    "    print(data)"
   ]
  },
  {
   "cell_type": "code",
   "execution_count": 83,
   "id": "24df10ef-a3b4-4f2c-b9e3-a23d8c618267",
   "metadata": {},
   "outputs": [
    {
     "data": {
      "text/plain": [
       "[array([[11, 22, 33, 44, 55]]),\n",
       " array([[99, 88, 77, 66, 55]]),\n",
       " array([[11, 33, 55, 77, 99]]),\n",
       " array([[22, 44, 66, 88, 10]]),\n",
       " array([[10, 33, 66, 77, 99]])]"
      ]
     },
     "execution_count": 83,
     "metadata": {},
     "output_type": "execute_result"
    }
   ],
   "source": [
    "# axis = 0[Horizontal] [rows]\n",
    "arr_2d = np.array([\n",
    "    [11,22,33,44,55],\n",
    "    [99,88,77,66,55],\n",
    "    [11,33,55,77,99],\n",
    "    [22,44,66,88,10],\n",
    "    [10,33,66,77,99]\n",
    "])\n",
    "\n",
    "split_arr = np.split(arr_2d , 5 , axis = 0) # row-wise split\n",
    "split_arr"
   ]
  },
  {
   "cell_type": "code",
   "execution_count": 84,
   "id": "21bd9b5e-4e98-4fb8-a261-947ad62266c7",
   "metadata": {},
   "outputs": [
    {
     "name": "stdout",
     "output_type": "stream",
     "text": [
      "[[11 22 33 44 55]]\n",
      "[[99 88 77 66 55]]\n",
      "[[11 33 55 77 99]]\n",
      "[[22 44 66 88 10]]\n",
      "[[10 33 66 77 99]]\n"
     ]
    }
   ],
   "source": [
    "for data in split_arr:\n",
    "    print(data)"
   ]
  },
  {
   "cell_type": "code",
   "execution_count": 88,
   "id": "ed490bca-964a-4ac6-9948-5000e87ed785",
   "metadata": {},
   "outputs": [
    {
     "data": {
      "text/plain": [
       "[array([[11],\n",
       "        [99],\n",
       "        [11],\n",
       "        [22],\n",
       "        [10]]),\n",
       " array([[22],\n",
       "        [88],\n",
       "        [33],\n",
       "        [44],\n",
       "        [33]]),\n",
       " array([[33],\n",
       "        [77],\n",
       "        [55],\n",
       "        [66],\n",
       "        [66]]),\n",
       " array([[44],\n",
       "        [66],\n",
       "        [77],\n",
       "        [88],\n",
       "        [77]]),\n",
       " array([[55],\n",
       "        [55],\n",
       "        [99],\n",
       "        [10],\n",
       "        [99]])]"
      ]
     },
     "execution_count": 88,
     "metadata": {},
     "output_type": "execute_result"
    }
   ],
   "source": [
    "# axis = 1 [Vertical] [columns]\n",
    "arr_2d = np.array([\n",
    "    [11,22,33,44,55],\n",
    "    [99,88,77,66,55],\n",
    "    [11,33,55,77,99],\n",
    "    [22,44,66,88,10],\n",
    "    [10,33,66,77,99]\n",
    "])\n",
    "\n",
    "split_arr = np.split(arr_2d , 5 , axis = 1) # col-wise split\n",
    "split_arr"
   ]
  },
  {
   "cell_type": "code",
   "execution_count": 89,
   "id": "53d3e015-59cb-4eee-bcf9-3e3fd0d35033",
   "metadata": {},
   "outputs": [
    {
     "name": "stdout",
     "output_type": "stream",
     "text": [
      "[[11]\n",
      " [99]\n",
      " [11]\n",
      " [22]\n",
      " [10]]\n",
      "[[22]\n",
      " [88]\n",
      " [33]\n",
      " [44]\n",
      " [33]]\n",
      "[[33]\n",
      " [77]\n",
      " [55]\n",
      " [66]\n",
      " [66]]\n",
      "[[44]\n",
      " [66]\n",
      " [77]\n",
      " [88]\n",
      " [77]]\n",
      "[[55]\n",
      " [55]\n",
      " [99]\n",
      " [10]\n",
      " [99]]\n"
     ]
    }
   ],
   "source": [
    "for data in split_arr:\n",
    "    print(data)"
   ]
  },
  {
   "cell_type": "code",
   "execution_count": 1,
   "id": "66586010-1eb5-49d1-8c97-aa28b8d37014",
   "metadata": {},
   "outputs": [
    {
     "data": {
      "text/plain": [
       "53.6"
      ]
     },
     "execution_count": 1,
     "metadata": {},
     "output_type": "execute_result"
    }
   ],
   "source": [
    "# Statistical Operations on Array\n",
    "\n",
    "import numpy as np\n",
    "arr_2d = np.array([\n",
    "    [11,22,33,44,55],\n",
    "    [99,88,77,66,55],\n",
    "    [11,33,55,77,99],\n",
    "    [22,44,66,88,10],\n",
    "    [10,33,66,77,99]\n",
    "])\n",
    "np.mean(arr_2d)"
   ]
  },
  {
   "cell_type": "code",
   "execution_count": 2,
   "id": "56000128-3674-4a4e-9894-4931e51ab468",
   "metadata": {},
   "outputs": [
    {
     "data": {
      "text/plain": [
       "array([30.6, 44. , 59.4, 70.4, 63.6])"
      ]
     },
     "execution_count": 2,
     "metadata": {},
     "output_type": "execute_result"
    }
   ],
   "source": [
    "# axis = 0 [horizontal axis => rows]\n",
    "np.mean(arr_2d , axis = 0)"
   ]
  },
  {
   "cell_type": "code",
   "execution_count": 3,
   "id": "77fc7f64-02bb-4cca-919d-92c84e2c3514",
   "metadata": {},
   "outputs": [
    {
     "data": {
      "text/plain": [
       "array([33., 77., 55., 46., 57.])"
      ]
     },
     "execution_count": 3,
     "metadata": {},
     "output_type": "execute_result"
    }
   ],
   "source": [
    "# axis = 1 [Vertical axis => Columns]\n",
    "np.mean(arr_2d , axis = 1)"
   ]
  },
  {
   "cell_type": "code",
   "execution_count": 4,
   "id": "d90764f6-10d3-44a9-a760-64fd5f724fe0",
   "metadata": {},
   "outputs": [
    {
     "data": {
      "text/plain": [
       "55.0"
      ]
     },
     "execution_count": 4,
     "metadata": {},
     "output_type": "execute_result"
    }
   ],
   "source": [
    "# median\n",
    "arr_2d = np.array([\n",
    "    [11,22,33,44,55],\n",
    "    [99,88,77,66,55],\n",
    "    [11,33,55,77,99],\n",
    "    [22,44,66,88,10],\n",
    "    [10,33,66,77,99]\n",
    "])\n",
    "np.median(arr_2d)"
   ]
  },
  {
   "cell_type": "code",
   "execution_count": 5,
   "id": "6c007803-2602-4e5f-8d3f-c11197a1259a",
   "metadata": {},
   "outputs": [
    {
     "data": {
      "text/plain": [
       "array([11., 33., 66., 77., 55.])"
      ]
     },
     "execution_count": 5,
     "metadata": {},
     "output_type": "execute_result"
    }
   ],
   "source": [
    "# axis = 0 [horizontal axis => rows]\n",
    "np.median(arr_2d , axis = 0)"
   ]
  },
  {
   "cell_type": "code",
   "execution_count": 6,
   "id": "dc0bc522-aeaf-4432-9628-b16c458124cd",
   "metadata": {},
   "outputs": [
    {
     "data": {
      "text/plain": [
       "array([33., 77., 55., 44., 66.])"
      ]
     },
     "execution_count": 6,
     "metadata": {},
     "output_type": "execute_result"
    }
   ],
   "source": [
    "# axis = 1 [Vertical axis => Columns]\n",
    "np.median(arr_2d , axis = 1)"
   ]
  },
  {
   "cell_type": "code",
   "execution_count": 8,
   "id": "18fb3e93-338e-4864-a98f-9c096f70de1d",
   "metadata": {},
   "outputs": [
    {
     "data": {
      "text/plain": [
       "29.357111574540163"
      ]
     },
     "execution_count": 8,
     "metadata": {},
     "output_type": "execute_result"
    }
   ],
   "source": [
    "# standard deviation\n",
    "arr_2d = np.array([\n",
    "    [11,22,33,44,55],\n",
    "    [99,88,77,66,55],\n",
    "    [11,33,55,77,99],\n",
    "    [22,44,66,88,10],\n",
    "    [10,33,66,77,99]\n",
    "])\n",
    "np.std(arr_2d)"
   ]
  },
  {
   "cell_type": "code",
   "execution_count": 9,
   "id": "33838b25-0788-4a1f-a7e6-604e5b00f16b",
   "metadata": {},
   "outputs": [
    {
     "data": {
      "text/plain": [
       "array([34.48245931, 23.07379466, 14.92112596, 14.92112596, 33.24815784])"
      ]
     },
     "execution_count": 9,
     "metadata": {},
     "output_type": "execute_result"
    }
   ],
   "source": [
    "# axis = 0 [horizontal axis => rows]\n",
    "np.std(arr_2d , axis = 0)"
   ]
  },
  {
   "cell_type": "code",
   "execution_count": 10,
   "id": "a67b4699-0c70-45ee-8de5-6e4666e96b63",
   "metadata": {},
   "outputs": [
    {
     "data": {
      "text/plain": [
       "array([15.55634919, 15.55634919, 31.11269837, 28.42534081, 31.71750305])"
      ]
     },
     "execution_count": 10,
     "metadata": {},
     "output_type": "execute_result"
    }
   ],
   "source": [
    "# axis = 1 [Vertical axis => Columns]\n",
    "np.std(arr_2d , axis = 1)"
   ]
  },
  {
   "cell_type": "code",
   "execution_count": 11,
   "id": "194fecd1-9fc0-41d3-8eb3-3042705c0bda",
   "metadata": {},
   "outputs": [
    {
     "data": {
      "text/plain": [
       "10"
      ]
     },
     "execution_count": 11,
     "metadata": {},
     "output_type": "execute_result"
    }
   ],
   "source": [
    "# Min / Max -> Return Smallest and the largest values respectively\n",
    "arr_2d = np.array([\n",
    "    [11,22,33,44,55],\n",
    "    [99,88,77,66,55],\n",
    "    [11,33,55,77,99],\n",
    "    [22,44,66,88,10],\n",
    "    [10,33,66,77,99]\n",
    "])\n",
    "np.min(arr_2d)"
   ]
  },
  {
   "cell_type": "code",
   "execution_count": 12,
   "id": "86a188ad-effa-46dc-bda0-a2b73b923c40",
   "metadata": {},
   "outputs": [
    {
     "data": {
      "text/plain": [
       "array([10, 22, 33, 44, 10])"
      ]
     },
     "execution_count": 12,
     "metadata": {},
     "output_type": "execute_result"
    }
   ],
   "source": [
    "# axis = 0 [horizontal axis => rows]\n",
    "np.min(arr_2d , axis = 0)"
   ]
  },
  {
   "cell_type": "code",
   "execution_count": 13,
   "id": "700999ac-7ea8-4ae6-a992-894b847e40cb",
   "metadata": {},
   "outputs": [
    {
     "data": {
      "text/plain": [
       "array([11, 55, 11, 10, 10])"
      ]
     },
     "execution_count": 13,
     "metadata": {},
     "output_type": "execute_result"
    }
   ],
   "source": [
    "# axis = 1 [Vertical axis => Columns]\n",
    "np.min(arr_2d , axis = 1)"
   ]
  },
  {
   "cell_type": "code",
   "execution_count": 14,
   "id": "d39cc5c8-5afd-419e-a21c-acf880fd49ae",
   "metadata": {},
   "outputs": [
    {
     "data": {
      "text/plain": [
       "99"
      ]
     },
     "execution_count": 14,
     "metadata": {},
     "output_type": "execute_result"
    }
   ],
   "source": [
    "arr_2d = np.array([\n",
    "    [11,22,33,44,55],\n",
    "    [99,88,77,66,55],\n",
    "    [11,33,55,77,99],\n",
    "    [22,44,66,88,10],\n",
    "    [10,33,66,77,99]\n",
    "])\n",
    "np.max(arr_2d)"
   ]
  },
  {
   "cell_type": "code",
   "execution_count": 15,
   "id": "dac6e72c-4be8-4242-a724-e289493326ec",
   "metadata": {},
   "outputs": [
    {
     "data": {
      "text/plain": [
       "array([99, 88, 77, 88, 99])"
      ]
     },
     "execution_count": 15,
     "metadata": {},
     "output_type": "execute_result"
    }
   ],
   "source": [
    "# axis = 0 [horizontal axis => rows]\n",
    "np.max(arr_2d , axis = 0)"
   ]
  },
  {
   "cell_type": "code",
   "execution_count": 16,
   "id": "9a25fd98-87d5-4ecb-b01b-94d7f9dd7fe9",
   "metadata": {},
   "outputs": [
    {
     "data": {
      "text/plain": [
       "array([55, 99, 99, 88, 99])"
      ]
     },
     "execution_count": 16,
     "metadata": {},
     "output_type": "execute_result"
    }
   ],
   "source": [
    "# axis = 1 [Vertical axis => Columns]\n",
    "np.max(arr_2d , axis = 1)"
   ]
  },
  {
   "cell_type": "code",
   "execution_count": 17,
   "id": "e39472c0-e44a-4b70-adc5-f596371a4c9d",
   "metadata": {},
   "outputs": [
    {
     "data": {
      "text/plain": [
       "1340"
      ]
     },
     "execution_count": 17,
     "metadata": {},
     "output_type": "execute_result"
    }
   ],
   "source": [
    "# Sum -> Calculating the totals of all elements\n",
    "arr_2d = np.array([\n",
    "    [11,22,33,44,55],\n",
    "    [99,88,77,66,55],\n",
    "    [11,33,55,77,99],\n",
    "    [22,44,66,88,10],\n",
    "    [10,33,66,77,99]\n",
    "])\n",
    "np.sum(arr_2d)"
   ]
  },
  {
   "cell_type": "code",
   "execution_count": 18,
   "id": "e67557ac-71c2-43d4-8e63-4bf1d83ecaa4",
   "metadata": {},
   "outputs": [
    {
     "data": {
      "text/plain": [
       "array([153, 220, 297, 352, 318])"
      ]
     },
     "execution_count": 18,
     "metadata": {},
     "output_type": "execute_result"
    }
   ],
   "source": [
    "# axis = 0 [horizontal axis => rows]\n",
    "np.sum(arr_2d , axis = 0)"
   ]
  },
  {
   "cell_type": "code",
   "execution_count": 19,
   "id": "cee1019e-fbbc-4a9a-a66f-47a3b0ebd054",
   "metadata": {},
   "outputs": [
    {
     "data": {
      "text/plain": [
       "array([165, 385, 275, 230, 285])"
      ]
     },
     "execution_count": 19,
     "metadata": {},
     "output_type": "execute_result"
    }
   ],
   "source": [
    "# axis = 1 [Vertical axis => Columns]\n",
    "np.sum(arr_2d , axis = 1)"
   ]
  },
  {
   "cell_type": "code",
   "execution_count": 20,
   "id": "0e0a2ec8-fcd8-44ef-a431-5900959b869e",
   "metadata": {},
   "outputs": [
    {
     "data": {
      "text/plain": [
       "array([0., 0., 0., 0., 0., 0., 0., 0., 0., 0., 0.])"
      ]
     },
     "execution_count": 20,
     "metadata": {},
     "output_type": "execute_result"
    }
   ],
   "source": [
    "# Other Ways to Create Numpy Arrays.\n",
    "np.zeros(11) # 1D Array filled with 11 zeros "
   ]
  },
  {
   "cell_type": "code",
   "execution_count": 21,
   "id": "9209f967-d446-408b-a8b0-aac7b67f4d15",
   "metadata": {},
   "outputs": [
    {
     "data": {
      "text/plain": [
       "array([0, 0, 0, 0, 0, 0, 0, 0, 0])"
      ]
     },
     "execution_count": 21,
     "metadata": {},
     "output_type": "execute_result"
    }
   ],
   "source": [
    "np.zeros(9, dtype=int)"
   ]
  },
  {
   "cell_type": "code",
   "execution_count": 23,
   "id": "82654f2c-c486-4367-8c5a-f1b34da93687",
   "metadata": {},
   "outputs": [
    {
     "data": {
      "text/plain": [
       "array([[0, 0],\n",
       "       [0, 0],\n",
       "       [0, 0],\n",
       "       [0, 0],\n",
       "       [0, 0],\n",
       "       [0, 0],\n",
       "       [0, 0]])"
      ]
     },
     "execution_count": 23,
     "metadata": {},
     "output_type": "execute_result"
    }
   ],
   "source": [
    "# 2D Matrix \n",
    "np.zeros((7,2), dtype=int)"
   ]
  },
  {
   "cell_type": "code",
   "execution_count": 24,
   "id": "5637ee2c-a74a-4e24-b70c-0459ba62c01c",
   "metadata": {},
   "outputs": [
    {
     "data": {
      "text/plain": [
       "array([[[0., 0.],\n",
       "        [0., 0.],\n",
       "        [0., 0.]],\n",
       "\n",
       "       [[0., 0.],\n",
       "        [0., 0.],\n",
       "        [0., 0.]]])"
      ]
     },
     "execution_count": 24,
     "metadata": {},
     "output_type": "execute_result"
    }
   ],
   "source": [
    "# 3D Matrix\n",
    "np.zeros((2,3,2))"
   ]
  },
  {
   "cell_type": "code",
   "execution_count": 25,
   "id": "af4c8a1b-134e-4feb-a213-2015bf8c0615",
   "metadata": {},
   "outputs": [
    {
     "data": {
      "text/plain": [
       "array([[[[False, False],\n",
       "         [False, False]],\n",
       "\n",
       "        [[False, False],\n",
       "         [False, False]]],\n",
       "\n",
       "\n",
       "       [[[False, False],\n",
       "         [False, False]],\n",
       "\n",
       "        [[False, False],\n",
       "         [False, False]]]])"
      ]
     },
     "execution_count": 25,
     "metadata": {},
     "output_type": "execute_result"
    }
   ],
   "source": [
    "# 4D Matrix\n",
    "np.zeros((2,2,2,2) , dtype = bool)"
   ]
  },
  {
   "cell_type": "code",
   "execution_count": 26,
   "id": "2887f08c-0476-4985-bcf2-9ec98ee952bd",
   "metadata": {},
   "outputs": [
    {
     "data": {
      "text/plain": [
       "array([1., 1., 1., 1., 1., 1., 1., 1., 1., 1., 1.])"
      ]
     },
     "execution_count": 26,
     "metadata": {},
     "output_type": "execute_result"
    }
   ],
   "source": [
    "# np.ones(shape) -> which dimension -> ndim\n",
    "np.ones(11)"
   ]
  },
  {
   "cell_type": "code",
   "execution_count": 27,
   "id": "9a892625-1f90-439f-ae66-062bb6595893",
   "metadata": {},
   "outputs": [
    {
     "data": {
      "text/plain": [
       "array([[1, 1, 1, 1],\n",
       "       [1, 1, 1, 1],\n",
       "       [1, 1, 1, 1],\n",
       "       [1, 1, 1, 1]])"
      ]
     },
     "execution_count": 27,
     "metadata": {},
     "output_type": "execute_result"
    }
   ],
   "source": [
    "# 2D Matrix \n",
    "np.ones((4,4) , dtype = int)"
   ]
  },
  {
   "cell_type": "code",
   "execution_count": 28,
   "id": "b4e128c5-38f9-4aea-af22-d084a19092db",
   "metadata": {},
   "outputs": [
    {
     "data": {
      "text/plain": [
       "array([[[ True,  True,  True,  True],\n",
       "        [ True,  True,  True,  True],\n",
       "        [ True,  True,  True,  True]],\n",
       "\n",
       "       [[ True,  True,  True,  True],\n",
       "        [ True,  True,  True,  True],\n",
       "        [ True,  True,  True,  True]]])"
      ]
     },
     "execution_count": 28,
     "metadata": {},
     "output_type": "execute_result"
    }
   ],
   "source": [
    "# 3D Matrix \n",
    "np.ones((2,3,4) , dtype = bool)"
   ]
  },
  {
   "cell_type": "code",
   "execution_count": 29,
   "id": "a1ce2845-89ae-4060-928e-8a38d9f76403",
   "metadata": {},
   "outputs": [
    {
     "data": {
      "text/plain": [
       "array([9, 9, 9, 9, 9, 9, 9, 9, 9, 9, 9])"
      ]
     },
     "execution_count": 29,
     "metadata": {},
     "output_type": "execute_result"
    }
   ],
   "source": [
    "# np.full(shape , value) -> Custom Value Fill\n",
    "# 1D Matrix\n",
    "np.full(11 , 9)"
   ]
  },
  {
   "cell_type": "code",
   "execution_count": 30,
   "id": "ca7acdd2-f574-41ae-882f-8b545661b692",
   "metadata": {},
   "outputs": [
    {
     "data": {
      "text/plain": [
       "array([[11, 11, 11, 11, 11],\n",
       "       [11, 11, 11, 11, 11],\n",
       "       [11, 11, 11, 11, 11],\n",
       "       [11, 11, 11, 11, 11]])"
      ]
     },
     "execution_count": 30,
     "metadata": {},
     "output_type": "execute_result"
    }
   ],
   "source": [
    "# 2D Matrix \n",
    "np.full((4,5) , 11)"
   ]
  },
  {
   "cell_type": "code",
   "execution_count": 31,
   "id": "e17b0b68-dd49-46d3-b725-1712eb86d42f",
   "metadata": {},
   "outputs": [
    {
     "data": {
      "text/plain": [
       "array([[[11.+9.j, 11.+9.j, 11.+9.j],\n",
       "        [11.+9.j, 11.+9.j, 11.+9.j],\n",
       "        [11.+9.j, 11.+9.j, 11.+9.j],\n",
       "        [11.+9.j, 11.+9.j, 11.+9.j]],\n",
       "\n",
       "       [[11.+9.j, 11.+9.j, 11.+9.j],\n",
       "        [11.+9.j, 11.+9.j, 11.+9.j],\n",
       "        [11.+9.j, 11.+9.j, 11.+9.j],\n",
       "        [11.+9.j, 11.+9.j, 11.+9.j]]])"
      ]
     },
     "execution_count": 31,
     "metadata": {},
     "output_type": "execute_result"
    }
   ],
   "source": [
    "# 3D Matrix \n",
    "np.full((2,4,3) , 11+9j)"
   ]
  },
  {
   "cell_type": "code",
   "execution_count": 32,
   "id": "bf590247-f2e0-4eae-9207-1aab5cb9e5b5",
   "metadata": {},
   "outputs": [
    {
     "data": {
      "text/plain": [
       "array([[['abc', 'abc', 'abc'],\n",
       "        ['abc', 'abc', 'abc'],\n",
       "        ['abc', 'abc', 'abc'],\n",
       "        ['abc', 'abc', 'abc']],\n",
       "\n",
       "       [['abc', 'abc', 'abc'],\n",
       "        ['abc', 'abc', 'abc'],\n",
       "        ['abc', 'abc', 'abc'],\n",
       "        ['abc', 'abc', 'abc']]], dtype='<U3')"
      ]
     },
     "execution_count": 32,
     "metadata": {},
     "output_type": "execute_result"
    }
   ],
   "source": [
    "# 3D Matrix \n",
    "np.full((2,4,3) , 'abc')"
   ]
  },
  {
   "cell_type": "code",
   "execution_count": 33,
   "id": "9706e617-dd05-45d7-ad60-7f4eda8122ba",
   "metadata": {},
   "outputs": [],
   "source": [
    "# Identity Matrix -> having diagonal elements filled with 1 and other non-diagonal are filled with 0\n",
    "# np.identity() -> Square Matrix\n",
    "# np.eye() -> Rectangular/Square Matrix , k-factor"
   ]
  },
  {
   "cell_type": "code",
   "execution_count": 34,
   "id": "7a0620c7-b488-471e-93ef-f86407101d83",
   "metadata": {},
   "outputs": [
    {
     "data": {
      "text/plain": [
       "array([[1, 0, 0],\n",
       "       [0, 1, 0],\n",
       "       [0, 0, 1]])"
      ]
     },
     "execution_count": 34,
     "metadata": {},
     "output_type": "execute_result"
    }
   ],
   "source": [
    "# 3 -> 3X3 Matrix\n",
    "np.eye(3 , dtype = int)"
   ]
  },
  {
   "cell_type": "code",
   "execution_count": 35,
   "id": "5f87d430-97b0-42c4-9688-e64d2aaf5dc1",
   "metadata": {},
   "outputs": [
    {
     "data": {
      "text/plain": [
       "array([[ True, False, False],\n",
       "       [False,  True, False],\n",
       "       [False, False,  True]])"
      ]
     },
     "execution_count": 35,
     "metadata": {},
     "output_type": "execute_result"
    }
   ],
   "source": [
    "np.eye(3 , dtype = bool)"
   ]
  },
  {
   "cell_type": "code",
   "execution_count": 37,
   "id": "b834e1cb-c1a9-43cb-8264-19151e9c3393",
   "metadata": {},
   "outputs": [
    {
     "data": {
      "text/plain": [
       "array([[1., 0., 0., 0., 0., 0., 0.],\n",
       "       [0., 1., 0., 0., 0., 0., 0.],\n",
       "       [0., 0., 1., 0., 0., 0., 0.],\n",
       "       [0., 0., 0., 1., 0., 0., 0.]])"
      ]
     },
     "execution_count": 37,
     "metadata": {},
     "output_type": "execute_result"
    }
   ],
   "source": [
    "# Rectangular Matrix\n",
    "np.eye(4,7, dtype = float)"
   ]
  },
  {
   "cell_type": "code",
   "execution_count": 38,
   "id": "f022e7d9-cfc2-4a37-bdfb-60db5e24627a",
   "metadata": {},
   "outputs": [
    {
     "data": {
      "text/plain": [
       "array([[0., 1., 0., 0., 0., 0., 0.],\n",
       "       [0., 0., 1., 0., 0., 0., 0.],\n",
       "       [0., 0., 0., 1., 0., 0., 0.],\n",
       "       [0., 0., 0., 0., 1., 0., 0.]])"
      ]
     },
     "execution_count": 38,
     "metadata": {},
     "output_type": "execute_result"
    }
   ],
   "source": [
    "# Rectangular Matrix\n",
    "np.eye(4,7, k = 1 ,dtype = float)"
   ]
  },
  {
   "cell_type": "code",
   "execution_count": 40,
   "id": "e827414f-b62b-41af-a348-091c44745554",
   "metadata": {},
   "outputs": [
    {
     "data": {
      "text/plain": [
       "array([[0., 0., 1., 0., 0., 0., 0.],\n",
       "       [0., 0., 0., 1., 0., 0., 0.],\n",
       "       [0., 0., 0., 0., 1., 0., 0.],\n",
       "       [0., 0., 0., 0., 0., 1., 0.]])"
      ]
     },
     "execution_count": 40,
     "metadata": {},
     "output_type": "execute_result"
    }
   ],
   "source": [
    "# Rectangular Matrix\n",
    "np.eye(4,7, k = 2 ,dtype = float)"
   ]
  },
  {
   "cell_type": "code",
   "execution_count": 39,
   "id": "4d36ac2e-81e5-4bfe-8d8e-39ce419d19bb",
   "metadata": {},
   "outputs": [
    {
     "data": {
      "text/plain": [
       "array([[0., 0., 0., 0., 0., 0., 0.],\n",
       "       [1., 0., 0., 0., 0., 0., 0.],\n",
       "       [0., 1., 0., 0., 0., 0., 0.],\n",
       "       [0., 0., 1., 0., 0., 0., 0.]])"
      ]
     },
     "execution_count": 39,
     "metadata": {},
     "output_type": "execute_result"
    }
   ],
   "source": [
    "# Rectangular Matrix\n",
    "np.eye(4,7, k = -1 ,dtype = float)"
   ]
  },
  {
   "cell_type": "code",
   "execution_count": 41,
   "id": "11fef223-c0b3-4c9a-90e1-a949f2143d98",
   "metadata": {},
   "outputs": [
    {
     "data": {
      "text/plain": [
       "array([[0., 0., 0., 0., 0., 0., 0.],\n",
       "       [0., 0., 0., 0., 0., 0., 0.],\n",
       "       [1., 0., 0., 0., 0., 0., 0.],\n",
       "       [0., 1., 0., 0., 0., 0., 0.]])"
      ]
     },
     "execution_count": 41,
     "metadata": {},
     "output_type": "execute_result"
    }
   ],
   "source": [
    "# Rectangular Matrix\n",
    "np.eye(4,7, k = -2 ,dtype = float)"
   ]
  },
  {
   "cell_type": "code",
   "execution_count": 42,
   "id": "ddf9cd53-b4d5-4688-87b4-5b8e6f38e18e",
   "metadata": {},
   "outputs": [
    {
     "data": {
      "text/plain": [
       "array([[1., 0., 0., 0., 0., 0., 0.],\n",
       "       [0., 1., 0., 0., 0., 0., 0.],\n",
       "       [0., 0., 1., 0., 0., 0., 0.],\n",
       "       [0., 0., 0., 1., 0., 0., 0.],\n",
       "       [0., 0., 0., 0., 1., 0., 0.],\n",
       "       [0., 0., 0., 0., 0., 1., 0.],\n",
       "       [0., 0., 0., 0., 0., 0., 1.]])"
      ]
     },
     "execution_count": 42,
     "metadata": {},
     "output_type": "execute_result"
    }
   ],
   "source": [
    "# Diagonal Matrix\n",
    "np.eye(7 , k = 0)"
   ]
  },
  {
   "cell_type": "code",
   "execution_count": 43,
   "id": "f88e9b87-b6dd-4760-8732-a44e685a439b",
   "metadata": {},
   "outputs": [
    {
     "data": {
      "text/plain": [
       "array([[0., 0., 0., 0., 1., 0., 0.],\n",
       "       [0., 0., 0., 0., 0., 1., 0.],\n",
       "       [0., 0., 0., 0., 0., 0., 1.],\n",
       "       [0., 0., 0., 0., 0., 0., 0.],\n",
       "       [0., 0., 0., 0., 0., 0., 0.],\n",
       "       [0., 0., 0., 0., 0., 0., 0.],\n",
       "       [0., 0., 0., 0., 0., 0., 0.]])"
      ]
     },
     "execution_count": 43,
     "metadata": {},
     "output_type": "execute_result"
    }
   ],
   "source": [
    "# Diagonal Matrix\n",
    "np.eye(7 , k = 4)"
   ]
  },
  {
   "cell_type": "code",
   "execution_count": 44,
   "id": "8e488a22-ceb3-4817-940f-ea73898f930a",
   "metadata": {},
   "outputs": [
    {
     "data": {
      "text/plain": [
       "array([[0., 0., 0., 0., 0., 0., 0.],\n",
       "       [0., 0., 0., 0., 0., 0., 0.],\n",
       "       [0., 0., 0., 0., 0., 0., 0.],\n",
       "       [0., 0., 0., 0., 0., 0., 0.],\n",
       "       [0., 0., 0., 0., 0., 0., 0.],\n",
       "       [1., 0., 0., 0., 0., 0., 0.],\n",
       "       [0., 1., 0., 0., 0., 0., 0.]])"
      ]
     },
     "execution_count": 44,
     "metadata": {},
     "output_type": "execute_result"
    }
   ],
   "source": [
    "# Diagonal Matrix\n",
    "np.eye(7 , k = -5)"
   ]
  },
  {
   "cell_type": "code",
   "execution_count": 45,
   "id": "d48f3261-b51e-41a5-b8b4-fabec64c6d68",
   "metadata": {},
   "outputs": [
    {
     "data": {
      "text/plain": [
       "array([[1., 0., 0., 0.],\n",
       "       [0., 1., 0., 0.],\n",
       "       [0., 0., 1., 0.],\n",
       "       [0., 0., 0., 1.]])"
      ]
     },
     "execution_count": 45,
     "metadata": {},
     "output_type": "execute_result"
    }
   ],
   "source": [
    "# Square Matrix\n",
    "np.identity(4)"
   ]
  },
  {
   "cell_type": "raw",
   "id": "5b25b9ad-1971-4dcf-8fff-f2b175ac5fa7",
   "metadata": {},
   "source": [
    "# Square Matrix\n",
    "np.identity(4,3) # TypeError: Cannot interpret '3' as a data type"
   ]
  },
  {
   "cell_type": "raw",
   "id": "eab1b418-5d9b-4085-b55a-a8d7922a4d71",
   "metadata": {},
   "source": [
    "np.identity(4 , k = 2) # TypeError: identity() got an unexpected keyword argument 'k'"
   ]
  },
  {
   "cell_type": "code",
   "execution_count": 49,
   "id": "bc2dc3ea-f317-4bb4-9d54-1f48e4292c2c",
   "metadata": {},
   "outputs": [
    {
     "data": {
      "text/plain": [
       "array([1, 3, 5, 7, 9])"
      ]
     },
     "execution_count": 49,
     "metadata": {},
     "output_type": "execute_result"
    }
   ],
   "source": [
    "# arange(start = 0 , stop = length[Non Inclusive] , step[1 by default])\n",
    "np.arange(1,11,2)"
   ]
  },
  {
   "cell_type": "code",
   "execution_count": 50,
   "id": "08c9c061-a45b-4754-b11f-f16481bbe9ab",
   "metadata": {},
   "outputs": [
    {
     "data": {
      "text/plain": [
       "array([ 2,  4,  6,  8, 10, 12, 14, 16, 18, 20])"
      ]
     },
     "execution_count": 50,
     "metadata": {},
     "output_type": "execute_result"
    }
   ],
   "source": [
    "np.arange(2,21,2)"
   ]
  },
  {
   "cell_type": "code",
   "execution_count": 51,
   "id": "f94421d6-8ede-4a45-8323-113733475633",
   "metadata": {},
   "outputs": [
    {
     "data": {
      "text/plain": [
       "array([], dtype=int32)"
      ]
     },
     "execution_count": 51,
     "metadata": {},
     "output_type": "execute_result"
    }
   ],
   "source": [
    "np.arange(1,15,-2)"
   ]
  },
  {
   "cell_type": "code",
   "execution_count": 52,
   "id": "5af06898-c417-4272-b38f-5ba5dd06a006",
   "metadata": {},
   "outputs": [
    {
     "data": {
      "text/plain": [
       "array([15, 13, 11,  9,  7,  5,  3,  1])"
      ]
     },
     "execution_count": 52,
     "metadata": {},
     "output_type": "execute_result"
    }
   ],
   "source": [
    "np.arange(15,0,-2)"
   ]
  },
  {
   "cell_type": "code",
   "execution_count": 53,
   "id": "101dd0aa-3d0b-4019-84d3-5d9db887d498",
   "metadata": {
    "scrolled": true
   },
   "outputs": [
    {
     "data": {
      "text/plain": [
       "['BitGenerator',\n",
       " 'Generator',\n",
       " 'MT19937',\n",
       " 'PCG64',\n",
       " 'PCG64DXSM',\n",
       " 'Philox',\n",
       " 'RandomState',\n",
       " 'SFC64',\n",
       " 'SeedSequence',\n",
       " '__RandomState_ctor',\n",
       " '__all__',\n",
       " '__builtins__',\n",
       " '__cached__',\n",
       " '__doc__',\n",
       " '__file__',\n",
       " '__loader__',\n",
       " '__name__',\n",
       " '__package__',\n",
       " '__path__',\n",
       " '__spec__',\n",
       " '_bounded_integers',\n",
       " '_common',\n",
       " '_generator',\n",
       " '_mt19937',\n",
       " '_pcg64',\n",
       " '_philox',\n",
       " '_pickle',\n",
       " '_sfc64',\n",
       " 'beta',\n",
       " 'binomial',\n",
       " 'bit_generator',\n",
       " 'bytes',\n",
       " 'chisquare',\n",
       " 'choice',\n",
       " 'default_rng',\n",
       " 'dirichlet',\n",
       " 'exponential',\n",
       " 'f',\n",
       " 'gamma',\n",
       " 'geometric',\n",
       " 'get_bit_generator',\n",
       " 'get_state',\n",
       " 'gumbel',\n",
       " 'hypergeometric',\n",
       " 'laplace',\n",
       " 'logistic',\n",
       " 'lognormal',\n",
       " 'logseries',\n",
       " 'mtrand',\n",
       " 'multinomial',\n",
       " 'multivariate_normal',\n",
       " 'negative_binomial',\n",
       " 'noncentral_chisquare',\n",
       " 'noncentral_f',\n",
       " 'normal',\n",
       " 'pareto',\n",
       " 'permutation',\n",
       " 'poisson',\n",
       " 'power',\n",
       " 'rand',\n",
       " 'randint',\n",
       " 'randn',\n",
       " 'random',\n",
       " 'random_integers',\n",
       " 'random_sample',\n",
       " 'ranf',\n",
       " 'rayleigh',\n",
       " 'sample',\n",
       " 'seed',\n",
       " 'set_bit_generator',\n",
       " 'set_state',\n",
       " 'shuffle',\n",
       " 'standard_cauchy',\n",
       " 'standard_exponential',\n",
       " 'standard_gamma',\n",
       " 'standard_normal',\n",
       " 'standard_t',\n",
       " 'test',\n",
       " 'triangular',\n",
       " 'uniform',\n",
       " 'vonmises',\n",
       " 'wald',\n",
       " 'weibull',\n",
       " 'zipf']"
      ]
     },
     "execution_count": 53,
     "metadata": {},
     "output_type": "execute_result"
    }
   ],
   "source": [
    "# np.random \n",
    "dir(np.random)"
   ]
  },
  {
   "cell_type": "code",
   "execution_count": 55,
   "id": "d7bf7083-63bb-424d-afd7-05edc4fdd0aa",
   "metadata": {},
   "outputs": [
    {
     "data": {
      "text/plain": [
       "array([0.38, 0.72, 0.46, 0.8 , 0.24, 0.39, 0.52, 0.7 , 0.22, 0.41, 0.92])"
      ]
     },
     "execution_count": 55,
     "metadata": {},
     "output_type": "execute_result"
    }
   ],
   "source": [
    "# 1D Matrix\n",
    "# np.random.random(shape) -> (0,1) range\n",
    "np.random.random(11).round(2)"
   ]
  },
  {
   "cell_type": "code",
   "execution_count": 56,
   "id": "eba8b363-27ba-4138-aaa4-54634f04af89",
   "metadata": {},
   "outputs": [
    {
     "data": {
      "text/plain": [
       "array([[0.54, 0.76, 0.82],\n",
       "       [0.89, 0.48, 0.52],\n",
       "       [0.11, 0.87, 0.65],\n",
       "       [0.22, 0.08, 0.61],\n",
       "       [0.08, 0.01, 0.85]])"
      ]
     },
     "execution_count": 56,
     "metadata": {},
     "output_type": "execute_result"
    }
   ],
   "source": [
    "# 2D Matrix\n",
    "np.random.random((5,3)).round(2)"
   ]
  },
  {
   "cell_type": "code",
   "execution_count": 58,
   "id": "d8350cba-372f-4b2d-893b-cc94b1a8e791",
   "metadata": {},
   "outputs": [
    {
     "data": {
      "text/plain": [
       "array([ 1.,  2.,  3.,  4.,  5.,  6.,  7.,  8.,  9., 10.])"
      ]
     },
     "execution_count": 58,
     "metadata": {},
     "output_type": "execute_result"
    }
   ],
   "source": [
    "# linspace(start, stop , num) # Evenly Spaced data\n",
    "np.linspace(1,10,10)"
   ]
  },
  {
   "cell_type": "code",
   "execution_count": 61,
   "id": "b224ce5a-b122-4723-a8fd-2a90eb88db8f",
   "metadata": {},
   "outputs": [
    {
     "data": {
      "text/plain": [
       "array([ 1.        ,  1.47368421,  1.94736842,  2.42105263,  2.89473684,\n",
       "        3.36842105,  3.84210526,  4.31578947,  4.78947368,  5.26315789,\n",
       "        5.73684211,  6.21052632,  6.68421053,  7.15789474,  7.63157895,\n",
       "        8.10526316,  8.57894737,  9.05263158,  9.52631579, 10.        ])"
      ]
     },
     "execution_count": 61,
     "metadata": {},
     "output_type": "execute_result"
    }
   ],
   "source": [
    "np.linspace(1,10,20)"
   ]
  },
  {
   "cell_type": "code",
   "execution_count": 62,
   "id": "be71cb5d-87bb-4eb2-9647-79e9a5ad37ca",
   "metadata": {},
   "outputs": [
    {
     "data": {
      "text/plain": [
       "array([ 1. ,  1.5,  2. ,  2.5,  3. ,  3.5,  4. ,  4.5,  5. ,  5.5,  6. ,\n",
       "        6.5,  7. ,  7.5,  8. ,  8.5,  9. ,  9.5, 10. ])"
      ]
     },
     "execution_count": 62,
     "metadata": {},
     "output_type": "execute_result"
    }
   ],
   "source": [
    "np.linspace(1,10,19)"
   ]
  },
  {
   "cell_type": "code",
   "execution_count": 64,
   "id": "180c8a11-7c8e-4e85-8595-76744b9ea989",
   "metadata": {},
   "outputs": [
    {
     "data": {
      "text/plain": [
       "array([  1.        ,   3.02040816,   5.04081633,   7.06122449,\n",
       "         9.08163265,  11.10204082,  13.12244898,  15.14285714,\n",
       "        17.16326531,  19.18367347,  21.20408163,  23.2244898 ,\n",
       "        25.24489796,  27.26530612,  29.28571429,  31.30612245,\n",
       "        33.32653061,  35.34693878,  37.36734694,  39.3877551 ,\n",
       "        41.40816327,  43.42857143,  45.44897959,  47.46938776,\n",
       "        49.48979592,  51.51020408,  53.53061224,  55.55102041,\n",
       "        57.57142857,  59.59183673,  61.6122449 ,  63.63265306,\n",
       "        65.65306122,  67.67346939,  69.69387755,  71.71428571,\n",
       "        73.73469388,  75.75510204,  77.7755102 ,  79.79591837,\n",
       "        81.81632653,  83.83673469,  85.85714286,  87.87755102,\n",
       "        89.89795918,  91.91836735,  93.93877551,  95.95918367,\n",
       "        97.97959184, 100.        ])"
      ]
     },
     "execution_count": 64,
     "metadata": {},
     "output_type": "execute_result"
    }
   ],
   "source": [
    "np.linspace(1,100,50)"
   ]
  },
  {
   "cell_type": "markdown",
   "id": "a565c010-f845-41ab-988a-beb366b21666",
   "metadata": {},
   "source": [
    "# What is Pandas?\n",
    "#### A high level data manipulation tools build on Numpy And Matplotlib.\n",
    "\n",
    "### It is used to :\n",
    "- Import / Export Data Easily.\n",
    "- Clean and Analyze the Data.\n",
    "- Perform Statistical Operations.\n",
    "- Visualize the data.\n",
    "\n",
    "# Why is Pandas Important?\n",
    "1. Simple Syntax for Complex Task.\n",
    "2. Effecient Operations using Numpy in Backend.\n",
    "3. Work with multiple formats - .csv , .excel , .json, .sql\n",
    "4. Data Cleaning - Handle Missing or Inconsistent Value\n",
    "5. Powerful Analysis Tools - Filtering , Grouping , Pivoting , Melting , Aggregations, etc.. "
   ]
  },
  {
   "cell_type": "raw",
   "id": "f14e0881-dddb-4e21-9f70-e054bf854339",
   "metadata": {},
   "source": [
    "pip install pandas\n",
    "conda install pandas"
   ]
  },
  {
   "cell_type": "markdown",
   "id": "35a08fe9-9285-4931-a648-d0f7a0e41921",
   "metadata": {},
   "source": [
    "#### It has 2 types of Structures:\n",
    "1. Series -> One Dimensional Array (Like One Column)\n",
    "2. DataFrame -> Two Dimensional Array (Like a Table having rows or cols) {Spreadsheet}"
   ]
  },
  {
   "cell_type": "code",
   "execution_count": 65,
   "id": "92fc3129-bfa7-4e2d-a234-a8ab33caad4b",
   "metadata": {},
   "outputs": [],
   "source": [
    "import pandas as pd "
   ]
  },
  {
   "cell_type": "markdown",
   "id": "246bce39-5d99-4d3d-b641-fe0d41b34f6e",
   "metadata": {},
   "source": [
    "# What is Series?\n",
    "#### A Series is :\n",
    "1. A 1D Labelled Array of the data\n",
    "2. Each element has an index\n",
    "3. Can Store int , float, str, bool and object\n",
    "4. Mutable (values can be updated)\n",
    "\n",
    "`Note: Think of it as a single column from an Excel Sheet [Univariate Analysis]` "
   ]
  },
  {
   "cell_type": "code",
   "execution_count": 66,
   "id": "59675677-0b5a-45b6-bc87-4ccd2e1b4ad0",
   "metadata": {},
   "outputs": [
    {
     "data": {
      "text/plain": [
       "0    11\n",
       "1    22\n",
       "2    33\n",
       "3    44\n",
       "4    55\n",
       "5    66\n",
       "6    77\n",
       "7    88\n",
       "8    99\n",
       "dtype: int64"
      ]
     },
     "execution_count": 66,
     "metadata": {},
     "output_type": "execute_result"
    }
   ],
   "source": [
    "# Series(data , index) [By Default indexing is 0 based indexing]\n",
    "data = [11,22,33,44,55,66,77,88,99]\n",
    "series = pd.Series(data)\n",
    "series"
   ]
  },
  {
   "cell_type": "code",
   "execution_count": 67,
   "id": "b89a745b-98aa-42c6-b216-072661189463",
   "metadata": {},
   "outputs": [
    {
     "data": {
      "text/plain": [
       "a    11\n",
       "b    22\n",
       "c    33\n",
       "d    44\n",
       "e    55\n",
       "f    66\n",
       "g    77\n",
       "h    88\n",
       "i    99\n",
       "dtype: int64"
      ]
     },
     "execution_count": 67,
     "metadata": {},
     "output_type": "execute_result"
    }
   ],
   "source": [
    "data = [11,22,33,44,55,66,77,88,99]\n",
    "label = ['a','b','c','d','e','f','g','h','i']\n",
    "series = pd.Series(data , label)\n",
    "series"
   ]
  },
  {
   "cell_type": "code",
   "execution_count": 68,
   "id": "ded1e1a1-84ef-4515-9ec7-7329e298a148",
   "metadata": {},
   "outputs": [
    {
     "data": {
      "text/plain": [
       "1    11\n",
       "2    22\n",
       "3    33\n",
       "4    44\n",
       "5    55\n",
       "6    66\n",
       "7    77\n",
       "8    88\n",
       "9    99\n",
       "dtype: int64"
      ]
     },
     "execution_count": 68,
     "metadata": {},
     "output_type": "execute_result"
    }
   ],
   "source": [
    "data = [11,22,33,44,55,66,77,88,99]\n",
    "label = range(1,10) # [1,.....9]\n",
    "series = pd.Series(data , label)\n",
    "series"
   ]
  },
  {
   "cell_type": "code",
   "execution_count": 69,
   "id": "c9537cac-bcce-41b2-a10a-1a20029589fe",
   "metadata": {},
   "outputs": [
    {
     "data": {
      "text/plain": [
       "emp_id                   emp101\n",
       "name                    Utkarsh\n",
       "age                          29\n",
       "gender                        M\n",
       "salary               $10,00,000\n",
       "designation      Senior Analyst\n",
       "email          utk232@gmail.com\n",
       "state                     Delhi\n",
       "country                   India\n",
       "dtype: object"
      ]
     },
     "execution_count": 69,
     "metadata": {},
     "output_type": "execute_result"
    }
   ],
   "source": [
    "# Dictionary [Key [Label/Index] : Value[Data]] \n",
    "_employee_dict = {\n",
    "    'emp_id' : 'emp101',\n",
    "    'name' : 'Utkarsh',\n",
    "    'age' : 29,\n",
    "    'gender' : 'M',\n",
    "    'salary' : '$10,00,000',\n",
    "    'designation' : 'Senior Analyst',\n",
    "    'email' : 'utk232@gmail.com',\n",
    "    'state' : 'Delhi',\n",
    "    'country' : 'India'\n",
    "}\n",
    "series = pd.Series(_employee_dict)\n",
    "series"
   ]
  },
  {
   "cell_type": "code",
   "execution_count": 70,
   "id": "d310cab9-bd30-42a3-a204-f2aff2813746",
   "metadata": {},
   "outputs": [
    {
     "name": "stdout",
     "output_type": "stream",
     "text": [
      "<class 'pandas.core.series.Series'>\n"
     ]
    }
   ],
   "source": [
    "print(type(series))"
   ]
  },
  {
   "cell_type": "code",
   "execution_count": 76,
   "id": "fe0cd580-8284-4f30-b540-ebc1c0c007e4",
   "metadata": {},
   "outputs": [
    {
     "name": "stdout",
     "output_type": "stream",
     "text": [
      "0    11\n",
      "1    22\n",
      "2    33\n",
      "3    44\n",
      "4    55\n",
      "5    66\n",
      "6    77\n",
      "7    88\n",
      "8    99\n",
      "dtype: int64\n",
      "77\n",
      "11\n",
      "99\n",
      "55\n"
     ]
    }
   ],
   "source": [
    "# How to access an elements from a Series\n",
    "# .iloc [Positional Based Indexing]\n",
    "# .loc [Label Based Indexing] [Inclusive]\n",
    "\n",
    "data = [11,22,33,44,55,66,77,88,99]\n",
    "series = pd.Series(data)\n",
    "print(series)\n",
    "# print(series[-1]) # KeyError [index can't be negative in pd.Series]\n",
    "print(series[6]) # 77\n",
    "print(series.iloc[0]) # 11\n",
    "print(series.iloc[-1]) # 99\n",
    "print(series.loc[4]) # 55 [label_based]"
   ]
  },
  {
   "cell_type": "code",
   "execution_count": 82,
   "id": "ae7c110b-58fe-4137-8a3e-ebd48e16dca8",
   "metadata": {},
   "outputs": [
    {
     "name": "stdout",
     "output_type": "stream",
     "text": [
      "a    11\n",
      "b    22\n",
      "c    33\n",
      "d    44\n",
      "e    55\n",
      "f    66\n",
      "g    77\n",
      "h    88\n",
      "i    99\n",
      "dtype: int64\n",
      "11\n",
      "77\n",
      "55\n"
     ]
    }
   ],
   "source": [
    "data = [11,22,33,44,55,66,77,88,99]\n",
    "label = ['a','b','c','d','e','f','g','h','i']\n",
    "series = pd.Series(data , label)\n",
    "print(series)\n",
    "# print(series[0]) # KeyError\n",
    "print(series['a']) # 11\n",
    "print(series.iloc[-3]) # 77\n",
    "# print(series.loc[7]) # Searching the index [which doesn't have 7 in it.] # KeyError\n",
    "print(series.loc['e']) # 55"
   ]
  },
  {
   "cell_type": "code",
   "execution_count": 85,
   "id": "72a6ce6f-3d90-4dc6-b90b-b1b7c5ea37e5",
   "metadata": {},
   "outputs": [
    {
     "name": "stdout",
     "output_type": "stream",
     "text": [
      "a    11\n",
      "b    22\n",
      "c    33\n",
      "d    44\n",
      "e    55\n",
      "f    66\n",
      "g    77\n",
      "h    88\n",
      "i    99\n",
      "dtype: int64\n",
      "\n",
      " Label Based Slicing using .loc\n",
      "a    11\n",
      "b    22\n",
      "c    33\n",
      "d    44\n",
      "e    55\n",
      "dtype: int64\n",
      "\n",
      " Positional Based Slicing using .iloc\n",
      "a    11\n",
      "b    22\n",
      "c    33\n",
      "d    44\n",
      "e    55\n",
      "f    66\n",
      "dtype: int64\n"
     ]
    }
   ],
   "source": [
    "# slicing \n",
    "data = [11,22,33,44,55,66,77,88,99]\n",
    "label = ['a','b','c','d','e','f','g','h','i']\n",
    "series = pd.Series(data , label)\n",
    "print(series)\n",
    "print(\"\\n Label Based Slicing using .loc\")\n",
    "print(series.loc['a':'e']) # Both Inclusive [11,22,33,44,55]\n",
    "print(\"\\n Positional Based Slicing using .iloc\")\n",
    "print(series.iloc[0:6]) # 6 is non-inclusive [11,22,33,44,55,66]"
   ]
  },
  {
   "cell_type": "code",
   "execution_count": null,
   "id": "4e996e1e-67ce-4f99-bff1-06e33c86351d",
   "metadata": {},
   "outputs": [],
   "source": []
  },
  {
   "cell_type": "code",
   "execution_count": null,
   "id": "b9685acf-3b1c-4b54-999d-4baf37e8204e",
   "metadata": {},
   "outputs": [],
   "source": []
  },
  {
   "cell_type": "code",
   "execution_count": null,
   "id": "87306d1e-37f2-4137-b089-0e7a8a0487ea",
   "metadata": {},
   "outputs": [],
   "source": []
  },
  {
   "cell_type": "code",
   "execution_count": null,
   "id": "4e9ca32e-c1a7-48cc-98b1-357870a08f16",
   "metadata": {},
   "outputs": [],
   "source": []
  },
  {
   "cell_type": "code",
   "execution_count": null,
   "id": "28759f04-2abd-4acf-8390-63629a3acf07",
   "metadata": {},
   "outputs": [],
   "source": []
  },
  {
   "cell_type": "code",
   "execution_count": null,
   "id": "530b2911-0e2e-43b5-87a1-677614f62508",
   "metadata": {},
   "outputs": [],
   "source": []
  },
  {
   "cell_type": "code",
   "execution_count": null,
   "id": "04d0f487-6f72-4664-838a-5c4f27be39da",
   "metadata": {},
   "outputs": [],
   "source": []
  },
  {
   "cell_type": "code",
   "execution_count": null,
   "id": "2daaccba-4ade-4928-a103-8b5bed170552",
   "metadata": {},
   "outputs": [],
   "source": []
  },
  {
   "cell_type": "code",
   "execution_count": null,
   "id": "4a0bded8-a6e7-4337-9d38-d643497c57a7",
   "metadata": {},
   "outputs": [],
   "source": []
  },
  {
   "cell_type": "code",
   "execution_count": null,
   "id": "878adcbc-9011-4f91-be12-95da91147fac",
   "metadata": {},
   "outputs": [],
   "source": []
  },
  {
   "cell_type": "code",
   "execution_count": null,
   "id": "080eb244-3702-462c-be30-9d752f3c6652",
   "metadata": {},
   "outputs": [],
   "source": []
  },
  {
   "cell_type": "code",
   "execution_count": null,
   "id": "968090d7-a94b-4d70-980e-d9a943cde0ec",
   "metadata": {},
   "outputs": [],
   "source": []
  },
  {
   "cell_type": "code",
   "execution_count": null,
   "id": "028b508a-8e60-405d-8fb8-a450a7ddc4a9",
   "metadata": {},
   "outputs": [],
   "source": []
  },
  {
   "cell_type": "code",
   "execution_count": null,
   "id": "8d44d31b-91dd-49e5-bbed-e8986078d9a6",
   "metadata": {},
   "outputs": [],
   "source": []
  },
  {
   "cell_type": "code",
   "execution_count": null,
   "id": "5cd09525-dd5b-40ee-a3bd-719aa12860ae",
   "metadata": {},
   "outputs": [],
   "source": []
  }
 ],
 "metadata": {
  "kernelspec": {
   "display_name": "Python [conda env:new.anaconda]",
   "language": "python",
   "name": "conda-env-new.anaconda-py"
  },
  "language_info": {
   "codemirror_mode": {
    "name": "ipython",
    "version": 3
   },
   "file_extension": ".py",
   "mimetype": "text/x-python",
   "name": "python",
   "nbconvert_exporter": "python",
   "pygments_lexer": "ipython3",
   "version": "3.12.7"
  }
 },
 "nbformat": 4,
 "nbformat_minor": 5
}
