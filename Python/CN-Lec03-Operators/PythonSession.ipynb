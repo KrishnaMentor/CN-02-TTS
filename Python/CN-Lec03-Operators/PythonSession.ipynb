{
 "cells": [
  {
   "cell_type": "code",
   "execution_count": 2,
   "id": "b5bc67ed-6670-4655-881a-d6bbe029118f",
   "metadata": {},
   "outputs": [
    {
     "name": "stdout",
     "output_type": "stream",
     "text": [
      "Hello EveryOne!\n"
     ]
    }
   ],
   "source": [
    "print(\"Hello EveryOne!\")"
   ]
  },
  {
   "cell_type": "raw",
   "id": "e1044fd6-2a48-4c29-adfc-4ab126aced36",
   "metadata": {},
   "source": [
    "Welcome To the Python Course!"
   ]
  },
  {
   "cell_type": "markdown",
   "id": "ef34e1aa-e63b-4a0e-ae20-15538e29fd3c",
   "metadata": {},
   "source": [
    "# Python Programming\n",
    "#### Let's Learn Together , Grow Together!!\n",
    "1. Learn Faster!\n",
    "2. Grow Faster\n",
    "- It is a programming Language.\n",
    "    - It's a high level language.\n",
    "        - Easy To understand. (Human Readable)\n",
    "- Handles Large Dataset.\n",
    "- Python is a case-sensitive language\n",
    "- It's an interpreter language\n",
    "- Rich in Libraries\n",
    "- Amazing Support from the community\n",
    "- Its an platform independent. -> .py"
   ]
  },
  {
   "cell_type": "raw",
   "id": "65a2d3e1-80b8-4d32-a359-5c8655261918",
   "metadata": {},
   "source": [
    "# Java\n",
    "int x = 10\n",
    "System.out.println(x)"
   ]
  },
  {
   "cell_type": "code",
   "execution_count": 15,
   "id": "57e879bc-cc34-487f-a93d-e41e684a1d0c",
   "metadata": {},
   "outputs": [
    {
     "name": "stdout",
     "output_type": "stream",
     "text": [
      "10\n",
      "<class 'int'>\n"
     ]
    }
   ],
   "source": [
    "# Python\n",
    "x = 10\n",
    "print(x)\n",
    "print(type(x))"
   ]
  },
  {
   "cell_type": "code",
   "execution_count": 16,
   "id": "2b36b7a4-7db7-4500-be66-550d57c8d27e",
   "metadata": {},
   "outputs": [
    {
     "name": "stdout",
     "output_type": "stream",
     "text": [
      "Coding Ninja\n",
      "<class 'str'>\n"
     ]
    }
   ],
   "source": [
    "x = \"Coding Ninja\"\n",
    "print(x)\n",
    "print(type(x))"
   ]
  },
  {
   "cell_type": "code",
   "execution_count": 17,
   "id": "a1b1814b-91a8-43a7-8cae-4b274e5d9e11",
   "metadata": {},
   "outputs": [
    {
     "name": "stdout",
     "output_type": "stream",
     "text": [
      "k\n",
      "<class 'str'>\n"
     ]
    }
   ],
   "source": [
    "x = 'k'\n",
    "print(x)\n",
    "print(type(x))"
   ]
  },
  {
   "cell_type": "code",
   "execution_count": 18,
   "id": "f11ad21d-91db-40e9-bbd1-71d5ea7f843a",
   "metadata": {},
   "outputs": [
    {
     "name": "stdout",
     "output_type": "stream",
     "text": [
      "11\n",
      "<class 'int'>\n"
     ]
    }
   ],
   "source": [
    "x = int('10') + 1\n",
    "print(x)\n",
    "print(type(x))"
   ]
  },
  {
   "cell_type": "code",
   "execution_count": 19,
   "id": "941a5f9a-6151-4aa0-8a55-34c6a2df4c54",
   "metadata": {},
   "outputs": [
    {
     "name": "stdout",
     "output_type": "stream",
     "text": [
      "10.5\n",
      "<class 'float'>\n"
     ]
    }
   ],
   "source": [
    "x = 10.5\n",
    "print(x)\n",
    "print(type(x))"
   ]
  },
  {
   "cell_type": "code",
   "execution_count": 20,
   "id": "8e102e96-17bd-4b74-a804-4a2bf40ec573",
   "metadata": {},
   "outputs": [
    {
     "name": "stdout",
     "output_type": "stream",
     "text": [
      "(9+6j)\n",
      "<class 'complex'>\n"
     ]
    }
   ],
   "source": [
    "x = 9 + 6j\n",
    "print(x)\n",
    "print(type(x))"
   ]
  },
  {
   "cell_type": "code",
   "execution_count": 22,
   "id": "91992d59-b1e7-4a64-80dc-485f6c09614f",
   "metadata": {},
   "outputs": [
    {
     "name": "stdout",
     "output_type": "stream",
     "text": [
      "Python\n",
      "Programming\n"
     ]
    }
   ],
   "source": [
    "# parameters \"\\n\" by default\n",
    "print(\"Python\")\n",
    "print(\"Programming\")"
   ]
  },
  {
   "cell_type": "code",
   "execution_count": 24,
   "id": "c70ed5dd-6446-429b-a80c-b502abfdf0c3",
   "metadata": {},
   "outputs": [
    {
     "name": "stdout",
     "output_type": "stream",
     "text": [
      "Python Programming\n",
      "Coding is Awesome 🔥\n"
     ]
    }
   ],
   "source": [
    "print(\"Python\" , end = \" \")\n",
    "print(\"Programming\")\n",
    "print(\"Coding is Awesome 🔥\")"
   ]
  },
  {
   "cell_type": "code",
   "execution_count": 25,
   "id": "571bdc48-38a1-435b-8b94-60563f38bd26",
   "metadata": {},
   "outputs": [
    {
     "name": "stdout",
     "output_type": "stream",
     "text": [
      "Mon Tues Weds Thurs Fri\n"
     ]
    }
   ],
   "source": [
    "# seperator -> concat_ws\n",
    "print(\"Mon\",\"Tues\",\"Weds\",\"Thurs\",\"Fri\")"
   ]
  },
  {
   "cell_type": "code",
   "execution_count": 26,
   "id": "4202277b-f456-46ad-b58d-61cda1627451",
   "metadata": {},
   "outputs": [
    {
     "name": "stdout",
     "output_type": "stream",
     "text": [
      "Mon - Tues - Weds - Thurs - Fri\n"
     ]
    }
   ],
   "source": [
    "print(\"Mon\",\"Tues\",\"Weds\",\"Thurs\",\"Fri\" , sep = \" - \")"
   ]
  },
  {
   "cell_type": "markdown",
   "id": "ea33dbb8-e1ed-491e-955a-07bdf528faaa",
   "metadata": {},
   "source": [
    "#### Input() \n",
    "- Used to accept user input from the keyboard as a string, which can be further type cast as per the requirement."
   ]
  },
  {
   "cell_type": "code",
   "execution_count": 2,
   "id": "301afc90-ea99-4802-9be2-b6e7cdb25a13",
   "metadata": {},
   "outputs": [
    {
     "name": "stdin",
     "output_type": "stream",
     "text": [
      "Enter the user_name:  Venom\n"
     ]
    },
    {
     "name": "stdout",
     "output_type": "stream",
     "text": [
      "Venom\n"
     ]
    }
   ],
   "source": [
    "user_input = input(\"Enter the user_name: \")\n",
    "print(user_input)"
   ]
  },
  {
   "cell_type": "code",
   "execution_count": 3,
   "id": "20923c54-43b0-4bc3-b803-3c96cab5ac36",
   "metadata": {},
   "outputs": [
    {
     "name": "stdin",
     "output_type": "stream",
     "text": [
      "Enter the gaming_name:  DaddyDamage\n"
     ]
    },
    {
     "name": "stdout",
     "output_type": "stream",
     "text": [
      "DaddyDamage\n"
     ]
    }
   ],
   "source": [
    "user_input = input(\"Enter the gaming_name: \")\n",
    "print(user_input)"
   ]
  },
  {
   "cell_type": "code",
   "execution_count": 5,
   "id": "1bdf835a-532a-4ae7-8b22-f50c5b04ffcf",
   "metadata": {},
   "outputs": [
    {
     "name": "stdin",
     "output_type": "stream",
     "text": [
      "Enter the value:  10\n"
     ]
    },
    {
     "name": "stdout",
     "output_type": "stream",
     "text": [
      "10\n",
      "<class 'str'>\n"
     ]
    }
   ],
   "source": [
    "val = input(\"Enter the value: \")\n",
    "print(val)\n",
    "print(type(val))"
   ]
  },
  {
   "cell_type": "code",
   "execution_count": 6,
   "id": "50addf20-2658-4084-a4d9-5cb8d9dbbee7",
   "metadata": {},
   "outputs": [
    {
     "name": "stdin",
     "output_type": "stream",
     "text": [
      "Enter the value:  11\n"
     ]
    },
    {
     "name": "stdout",
     "output_type": "stream",
     "text": [
      "11\n",
      "<class 'int'>\n"
     ]
    }
   ],
   "source": [
    "val = int(input(\"Enter the value: \"))\n",
    "print(val)\n",
    "print(type(val))"
   ]
  },
  {
   "cell_type": "code",
   "execution_count": 7,
   "id": "8f44281c-0f46-4ebc-be56-447c15369e9d",
   "metadata": {},
   "outputs": [
    {
     "name": "stdout",
     "output_type": "stream",
     "text": [
      "55\n"
     ]
    }
   ],
   "source": [
    "print(val * 5)"
   ]
  },
  {
   "cell_type": "code",
   "execution_count": 10,
   "id": "173897c8-02b6-40b0-b2be-6bb5ce5df881",
   "metadata": {},
   "outputs": [
    {
     "name": "stdin",
     "output_type": "stream",
     "text": [
      "Enter the value between 1-100 :  75\n"
     ]
    },
    {
     "name": "stdout",
     "output_type": "stream",
     "text": [
      "85\n"
     ]
    }
   ],
   "source": [
    "x = int(input(\"Enter the value between 1-100 : \"))\n",
    "x = x + 10\n",
    "print(x)"
   ]
  },
  {
   "cell_type": "code",
   "execution_count": 25,
   "id": "08728498-fa86-45aa-abf1-473770652f43",
   "metadata": {},
   "outputs": [
    {
     "name": "stdin",
     "output_type": "stream",
     "text": [
      "Enter the value between 1-100 :  66\n"
     ]
    },
    {
     "name": "stdout",
     "output_type": "stream",
     "text": [
      "76\n"
     ]
    }
   ],
   "source": [
    "x = int(input(\"Enter the value between 1-100 : \"))\n",
    "x = x + 10 # '75' + 10 - TypeError: can only concatenate str (not \"int\") to str\n",
    "print(x)"
   ]
  },
  {
   "cell_type": "code",
   "execution_count": 29,
   "id": "58efb9fe-e279-4f7f-87c5-0116a479e14a",
   "metadata": {},
   "outputs": [
    {
     "name": "stdout",
     "output_type": "stream",
     "text": [
      "76\n",
      "<class 'str'>\n"
     ]
    }
   ],
   "source": [
    "x = str(x)\n",
    "print(x)\n",
    "print(type(x))"
   ]
  },
  {
   "cell_type": "code",
   "execution_count": 30,
   "id": "bae5274b-8cf9-4bbe-aa35-e3e92ca28776",
   "metadata": {},
   "outputs": [
    {
     "name": "stdin",
     "output_type": "stream",
     "text": [
      "Enter the username:  utkarshdev\n",
      "Enter your personal mail:  utkarssh@gmail.com\n"
     ]
    },
    {
     "name": "stdout",
     "output_type": "stream",
     "text": [
      "Hey utkarshdev Welcome to the Python Course, You being registered with utkarssh@gmail.com :)\n"
     ]
    }
   ],
   "source": [
    "# String Pattern\n",
    "user_name = input(\"Enter the username: \")\n",
    "email = input(\"Enter your personal mail: \")\n",
    "print(\"Hey \" + user_name + \" Welcome to the Python Course, You being registered with \" + email + \" :)\")"
   ]
  },
  {
   "cell_type": "code",
   "execution_count": 31,
   "id": "b5260a51-06d0-4b52-905c-99a468f94af7",
   "metadata": {},
   "outputs": [
    {
     "name": "stdin",
     "output_type": "stream",
     "text": [
      "Enter the username:  iaarifpathan\n",
      "Enter your personal mail:  iaarifpathan@gmail.com\n"
     ]
    },
    {
     "name": "stdout",
     "output_type": "stream",
     "text": [
      "Hey iaarifpathan Welcome to the Python Course, You being registered with iaarifpathan@gmail.com :)\n"
     ]
    }
   ],
   "source": [
    "# String Pattern\n",
    "user_name = input(\"Enter the username: \")\n",
    "email = input(\"Enter your personal mail: \")\n",
    "print(f\"Hey {user_name} Welcome to the Python Course, You being registered with {email} :)\")"
   ]
  },
  {
   "cell_type": "markdown",
   "id": "3bc7622f-bffb-4222-9039-0bf66d3f5f01",
   "metadata": {},
   "source": [
    "- Single Line Comments - #\n",
    "- Multi Line Comments - '''"
   ]
  },
  {
   "cell_type": "code",
   "execution_count": 32,
   "id": "f4daecc0-cd14-47b4-86a4-09aefdd0f862",
   "metadata": {},
   "outputs": [
    {
     "name": "stdout",
     "output_type": "stream",
     "text": [
      "Python Programming\n"
     ]
    }
   ],
   "source": [
    "# This is a single line comment\n",
    "print(\"Python Programming\")"
   ]
  },
  {
   "cell_type": "code",
   "execution_count": 36,
   "id": "63f4f9f6-4ca6-43f9-975c-3ea820e7a44f",
   "metadata": {},
   "outputs": [
    {
     "name": "stdin",
     "output_type": "stream",
     "text": [
      "Enter the first value:  10\n",
      "Enter the second value:  5\n"
     ]
    },
    {
     "name": "stdout",
     "output_type": "stream",
     "text": [
      "The final result is  50\n",
      "The final result is 60\n"
     ]
    }
   ],
   "source": [
    "'''\n",
    "    This is a multiline comments....\n",
    "    Put some important stuff here relevant to \n",
    "    your python program\n",
    "'''\n",
    "num1 = int(input(\"Enter the first value: \"))\n",
    "num2 = int(input(\"Enter the second value: \"))\n",
    "result = num1 * num2\n",
    "print(\"The final result is \" , result)\n",
    "print(f\"The final result is {result + 10}\")"
   ]
  },
  {
   "cell_type": "code",
   "execution_count": 37,
   "id": "0404bfb9-a612-427a-8634-6de9b116d18a",
   "metadata": {},
   "outputs": [
    {
     "name": "stdin",
     "output_type": "stream",
     "text": [
      "Enter your Dream Car:  Defender\n"
     ]
    },
    {
     "name": "stdout",
     "output_type": "stream",
     "text": [
      "My Dream Car is : Defender\n"
     ]
    }
   ],
   "source": [
    "fav_car = input(\"Enter your Dream Car: \")\n",
    "print(\"My Dream Car is : \" + fav_car)"
   ]
  },
  {
   "cell_type": "code",
   "execution_count": 38,
   "id": "3b3b4b3f-bd1f-4e9b-9443-ea27b84b1e12",
   "metadata": {},
   "outputs": [
    {
     "name": "stdout",
     "output_type": "stream",
     "text": [
      "z is greater than 10\n",
      "Outside the if statement\n"
     ]
    }
   ],
   "source": [
    "# Indentation:\n",
    "z = 15\n",
    "if z > 10: # Boolean Value[True/False]\n",
    "    print(\"z is greater than 10\")\n",
    "print(\"Outside the if statement\")"
   ]
  },
  {
   "cell_type": "code",
   "execution_count": 39,
   "id": "481a0b7d-fd2f-4932-8b11-5fc3b4516320",
   "metadata": {},
   "outputs": [
    {
     "name": "stdout",
     "output_type": "stream",
     "text": [
      "Outside the if statement\n"
     ]
    }
   ],
   "source": [
    "# Indentation:\n",
    "z = 15\n",
    "if z > 20: # Boolean Value[True/False]\n",
    "    print(\"z is greater than 10\")\n",
    "print(\"Outside the if statement\")"
   ]
  },
  {
   "cell_type": "markdown",
   "id": "f3e472b9-4b5b-4d83-9a27-f8a6d3e7b526",
   "metadata": {},
   "source": [
    "# Variables : What & Why?\n",
    "#### Variables acts as an container for storing data, They help with:\n",
    "- Storing Data\n",
    "- Manipulating Values\n",
    "- Reusability\n",
    "- Improving the Readibility \n",
    "    -  total_sum >> ts\n",
    "    -  compound_interest >> c_i\n",
    "    -  age\n",
    "    -  finding_prod_sum >> finding_the_product_and_sum >> p_s"
   ]
  },
  {
   "cell_type": "code",
   "execution_count": 40,
   "id": "333f44b2-58a0-4f11-8f3c-72a54a05986f",
   "metadata": {},
   "outputs": [
    {
     "name": "stdout",
     "output_type": "stream",
     "text": [
      "99\n",
      "UltimateForce\n"
     ]
    }
   ],
   "source": [
    "# Declaring and assigning variables:\n",
    "val = 99\n",
    "user_name = \"UltimateForce\"\n",
    "print(val)\n",
    "print(user_name)"
   ]
  },
  {
   "cell_type": "code",
   "execution_count": 43,
   "id": "b9841998-7695-43cf-bb3c-dee54b1c69ef",
   "metadata": {},
   "outputs": [
    {
     "name": "stdout",
     "output_type": "stream",
     "text": [
      "10\n",
      "20\n",
      "30\n"
     ]
    }
   ],
   "source": [
    "a,b,c = 10,20,30\n",
    "print(a)\n",
    "print(b)\n",
    "print(c)"
   ]
  },
  {
   "cell_type": "code",
   "execution_count": 48,
   "id": "716bf769-cccc-4951-b287-80abb595355c",
   "metadata": {},
   "outputs": [
    {
     "name": "stdout",
     "output_type": "stream",
     "text": [
      "10\n",
      "<class 'int'>\n",
      "20\n",
      "<class 'int'>\n",
      "[30, 40, 50]\n",
      "<class 'list'>\n"
     ]
    }
   ],
   "source": [
    "a,b,*c = 10,20,30,40,50\n",
    "print(a)\n",
    "print(type(a))\n",
    "print(b)\n",
    "print(type(b))\n",
    "print(c)\n",
    "print(type(c))"
   ]
  },
  {
   "cell_type": "code",
   "execution_count": 56,
   "id": "ffedd269-f5da-4ba7-8f88-f0ed7d6a36d1",
   "metadata": {},
   "outputs": [
    {
     "name": "stdout",
     "output_type": "stream",
     "text": [
      "10\n",
      "<class 'int'>\n",
      "[20, 30, 40]\n",
      "<class 'list'>\n",
      "50\n",
      "<class 'int'>\n"
     ]
    }
   ],
   "source": [
    "a,*b,c = 10,20,30,40,50\n",
    "print(a)\n",
    "print(type(a))\n",
    "print(b)\n",
    "print(type(b))\n",
    "print(c)\n",
    "print(type(c))"
   ]
  },
  {
   "cell_type": "code",
   "execution_count": 57,
   "id": "deaa2f03-3e42-4f80-a36e-50898d020e63",
   "metadata": {},
   "outputs": [
    {
     "name": "stdout",
     "output_type": "stream",
     "text": [
      "10\n",
      "<class 'int'>\n",
      "[20, 30, 'a', 'b', 40]\n",
      "<class 'list'>\n",
      "50\n",
      "<class 'int'>\n"
     ]
    }
   ],
   "source": [
    "a,*b,c = 10,20,30,'a','b',40,50\n",
    "print(a)\n",
    "print(type(a))\n",
    "print(b)\n",
    "print(type(b))\n",
    "print(c)\n",
    "print(type(c))"
   ]
  },
  {
   "cell_type": "code",
   "execution_count": 58,
   "id": "8d4b3729-2ed3-41e1-aff9-c7baa726a5b8",
   "metadata": {},
   "outputs": [
    {
     "name": "stdout",
     "output_type": "stream",
     "text": [
      "Ninjas\n",
      "Ninjas\n",
      "Ninjas\n",
      "Ninjas\n"
     ]
    }
   ],
   "source": [
    "p=q=r=s= \"Ninjas\"\n",
    "print(p)\n",
    "print(q)\n",
    "print(r)\n",
    "print(s)"
   ]
  },
  {
   "cell_type": "markdown",
   "id": "56ce3e2e-895d-4dfa-b8f3-e3ff9587960f",
   "metadata": {},
   "source": [
    "## Rules for naming a \"Variables\"\n",
    "- Can include letters, digits and underscore\n",
    "- Must start with a letter or underscore\n",
    "- case-sensitive\n",
    "    - val != Val\n",
    "    - num != nuM\n",
    "    - digit != Digit\n",
    "- Can't use Python Keywords\n",
    "    - for, input, while, print, if, elif, tuple, list, set, dict, true, false\n",
    "- Can't have spaces or special characters (except _)\n",
    "- Variable name can't start with numbers."
   ]
  },
  {
   "cell_type": "code",
   "execution_count": 3,
   "id": "c6ba7aa5-02ed-41ea-a412-54e8e71307ce",
   "metadata": {},
   "outputs": [
    {
     "name": "stdout",
     "output_type": "stream",
     "text": [
      "Python\n"
     ]
    }
   ],
   "source": [
    "my_first_variable = \"Python\"\n",
    "print(my_first_variable)"
   ]
  },
  {
   "cell_type": "code",
   "execution_count": 2,
   "id": "7af1f0c8-3391-46b1-890b-77a3ed5e1533",
   "metadata": {},
   "outputs": [
    {
     "name": "stdout",
     "output_type": "stream",
     "text": [
      "Coding\n"
     ]
    }
   ],
   "source": [
    "_var = \"Coding\"\n",
    "print(_var)"
   ]
  },
  {
   "cell_type": "code",
   "execution_count": 6,
   "id": "ff968614-74e7-4ed7-aed7-432a0d55e2ff",
   "metadata": {},
   "outputs": [
    {
     "name": "stdout",
     "output_type": "stream",
     "text": [
      "Hi, I'm good, What about you?\n",
      "Hi, I'm good, What about you?\n"
     ]
    }
   ],
   "source": [
    "# String -> Escape Character\n",
    "print(\"Hi, I'm good, What about you?\")\n",
    "print('Hi, I\\'m good, What about you?')"
   ]
  },
  {
   "cell_type": "code",
   "execution_count": 7,
   "id": "b94a1029-34b5-4db6-b024-be0d3feed92a",
   "metadata": {},
   "outputs": [
    {
     "name": "stdout",
     "output_type": "stream",
     "text": [
      "an \"apple\" a day keeps a doctor away\n"
     ]
    }
   ],
   "source": [
    "print(\"an \\\"apple\\\" a day keeps a doctor away\")"
   ]
  },
  {
   "cell_type": "code",
   "execution_count": 12,
   "id": "206839b7-a9b1-4c15-aa21-333256eb71cd",
   "metadata": {},
   "outputs": [
    {
     "name": "stdout",
     "output_type": "stream",
     "text": [
      "Hi Everyone! Welcome to the course\n"
     ]
    }
   ],
   "source": [
    "print(\"Hi Everyone! Welcome to the course\")"
   ]
  },
  {
   "cell_type": "code",
   "execution_count": 15,
   "id": "45cef1fe-4848-4265-b8ec-0a58f07c6de4",
   "metadata": {},
   "outputs": [
    {
     "name": "stdout",
     "output_type": "stream",
     "text": [
      "\n",
      "    Tu Paas Hai Mere Paas Hai Aise\n",
      "    Mera Koi Ehsaas Hai Jaise\n",
      "    Tu Paas Hai Mere Paas Hai Aise\n",
      "    Mera Koi Ehsaas Hai Jaise\n",
      "    \n",
      "    Haye Main Mar Hi Jaaun\n",
      "    Jo Tujhko Na Paaun\n",
      "    Baaton Mein Teri Main\n",
      "    Raatein Bitaun\n",
      "\n",
      "\n"
     ]
    }
   ],
   "source": [
    "# Multiline String -> <pre> tag in HTML [Markup Language]\n",
    "print(\"\"\"\n",
    "    Tu Paas Hai Mere Paas Hai Aise\n",
    "    Mera Koi Ehsaas Hai Jaise\n",
    "    Tu Paas Hai Mere Paas Hai Aise\n",
    "    Mera Koi Ehsaas Hai Jaise\n",
    "    \n",
    "    Haye Main Mar Hi Jaaun\n",
    "    Jo Tujhko Na Paaun\n",
    "    Baaton Mein Teri Main\n",
    "    Raatein Bitaun\n",
    "\n",
    "\"\"\")"
   ]
  },
  {
   "cell_type": "code",
   "execution_count": 20,
   "id": "93a533de-2c93-4cfc-9076-81560de205f5",
   "metadata": {},
   "outputs": [
    {
     "name": "stdout",
     "output_type": "stream",
     "text": [
      "Hey: What's your name: \t 'Aditya Verma'\n",
      "Hello\n",
      "World\n",
      "x y z\n",
      "Welcome Back!\n"
     ]
    }
   ],
   "source": [
    "# Escape characters \"\\n\"[Next line] & \"\\t\"[tab space]\n",
    "print(\"Hey: What's your name: \\t 'Aditya Verma'\")\n",
    "print(\"Hello\\nWorld\")\n",
    "print(\"x\", end=\" \")\n",
    "print(\"y\", end=\" \")\n",
    "print(\"z\", end=\"\\n\")\n",
    "print(\"Welcome Back!\")"
   ]
  },
  {
   "cell_type": "code",
   "execution_count": 21,
   "id": "478c40d7-8a2c-4d31-be0e-232b694ba282",
   "metadata": {},
   "outputs": [
    {
     "name": "stdout",
     "output_type": "stream",
     "text": [
      "<class 'float'>\n"
     ]
    }
   ],
   "source": [
    "# type -> conversion()\n",
    "x = 10.0\n",
    "print(type(x))"
   ]
  },
  {
   "cell_type": "code",
   "execution_count": 22,
   "id": "11b4ed87-0f05-4415-8d1b-aeb04f3bf3ef",
   "metadata": {},
   "outputs": [
    {
     "name": "stdout",
     "output_type": "stream",
     "text": [
      "99\n"
     ]
    }
   ],
   "source": [
    "num1 = 99.99\n",
    "print(int(num1))"
   ]
  },
  {
   "cell_type": "code",
   "execution_count": 23,
   "id": "0e917e85-82c1-480a-8759-e218844425aa",
   "metadata": {},
   "outputs": [
    {
     "name": "stdout",
     "output_type": "stream",
     "text": [
      "55\n",
      "<class 'str'>\n"
     ]
    }
   ],
   "source": [
    "x = 55\n",
    "y = str(x)\n",
    "print(y)\n",
    "print(type(y))"
   ]
  },
  {
   "cell_type": "code",
   "execution_count": 24,
   "id": "b4d61066-b517-4725-bddc-47babd8be82d",
   "metadata": {},
   "outputs": [
    {
     "name": "stdout",
     "output_type": "stream",
     "text": [
      "1\n",
      "<class 'bool'>\n",
      "<class 'int'>\n"
     ]
    }
   ],
   "source": [
    "_bool = True\n",
    "int_bool = int(_bool)\n",
    "print(int_bool)\n",
    "print(type(_bool))\n",
    "print(type(int_bool))"
   ]
  },
  {
   "cell_type": "code",
   "execution_count": 25,
   "id": "3b7ea16a-ba5c-45cb-9446-046c69a7209d",
   "metadata": {},
   "outputs": [
    {
     "name": "stdout",
     "output_type": "stream",
     "text": [
      "0\n",
      "<class 'bool'>\n",
      "<class 'int'>\n"
     ]
    }
   ],
   "source": [
    "_bool = False\n",
    "int_bool = int(_bool)\n",
    "print(int_bool)\n",
    "print(type(_bool))\n",
    "print(type(int_bool))"
   ]
  },
  {
   "cell_type": "markdown",
   "id": "6a62b27c-e048-4fd5-9cfc-58a809e78a84",
   "metadata": {},
   "source": [
    "# What are Operators?\n",
    "#### Operators are tools in programming used to perform actions like arithmetic, comparisons, assignments, logical evaluations, etc.\n",
    "\n",
    "### Types of Operators in Python:\n",
    "1. Arithmetic Operators\n",
    "\n",
    "2. Comparison Operators\n",
    "\n",
    "3. Logical Operators\n",
    "\n",
    "4. Bitwise Operators\n",
    "\n",
    "5. Assignment Operators\n",
    "\n",
    "6. Membership Operators\n",
    "\n",
    "7. Identity Operators\n"
   ]
  },
  {
   "cell_type": "markdown",
   "id": "90969ad9-d4c8-4d5f-ad2a-3950fa757355",
   "metadata": {},
   "source": [
    "### Arithmetic Operators:\n",
    "- '+' Addition\n",
    "- '-' Subtraction\n",
    "- '*' Multiplication\n",
    "- '/' Division (floating)\n",
    "- '%' Modulus (remainder)\n",
    "- '**' Exponentiation\n",
    "- '//' Floor Division"
   ]
  },
  {
   "cell_type": "code",
   "execution_count": 1,
   "id": "23e70fb0-b234-4a65-938a-d8089ab97352",
   "metadata": {},
   "outputs": [
    {
     "name": "stdout",
     "output_type": "stream",
     "text": [
      "18\n",
      "4\n",
      "77\n",
      "1.5714285714285714\n",
      "4\n",
      "1\n",
      "4\n",
      "121\n",
      "5\n"
     ]
    }
   ],
   "source": [
    "x = 11\n",
    "y = 7\n",
    "z = 15\n",
    "print(x+y) # 18 'One 8' [Virat Kohli]\n",
    "print(x-y) # 4\n",
    "print(x*y) # 77 ['Shubman Gill']\n",
    "print(x/y) # 1.57....\n",
    "print(x%y) # 4\n",
    "print(z%y) # 1\n",
    "print(z%x) # 4\n",
    "print(x ** 2) # 121\n",
    "print(x // 2) # 5"
   ]
  },
  {
   "cell_type": "code",
   "execution_count": 2,
   "id": "98fc6542-b81f-45ca-98fe-c3cd9862fed5",
   "metadata": {},
   "outputs": [
    {
     "name": "stdout",
     "output_type": "stream",
     "text": [
      "19487171\n"
     ]
    }
   ],
   "source": [
    "print(x ** y)"
   ]
  },
  {
   "cell_type": "raw",
   "id": "2b107354-29e0-408d-9a0b-5294d02bc508",
   "metadata": {},
   "source": [
    "# You can't do addition with 2 different data type\n",
    "x = '10' + 11 # TypeError: can only concatenate str (not \"int\") to str\n",
    "print(x)"
   ]
  },
  {
   "cell_type": "markdown",
   "id": "8f4b94e9-df31-4def-ba21-1d1dbaed4656",
   "metadata": {},
   "source": [
    "### Comparison Operators (Return Boolean Result):\n",
    "- '==' Equal to\n",
    "- '!=' Not Equal to\n",
    "- '>' Greater Than\n",
    "- '>=' Greater Than or  Equal to\n",
    "- '<' Less Than\n",
    "- '<=' Less Than or Equal to"
   ]
  },
  {
   "cell_type": "code",
   "execution_count": 5,
   "id": "2d46bef7-29a9-4b84-aa07-5e3b6f49c4ff",
   "metadata": {},
   "outputs": [
    {
     "name": "stdout",
     "output_type": "stream",
     "text": [
      "False\n",
      "True\n",
      "True\n",
      "False\n",
      "True\n",
      "True\n",
      "False\n",
      "False\n",
      "True\n",
      "True\n"
     ]
    }
   ],
   "source": [
    "x = 11\n",
    "y = 7\n",
    "z = 15\n",
    "print(x==y) # False\n",
    "print(x!=y) # True\n",
    "print(z!=y) # True\n",
    "print(z!=15) # False\n",
    "print(x>y) # True\n",
    "print(x>=y) # True\n",
    "print(z<=y) # False\n",
    "print(z<x)  # False\n",
    "print(x != 2) # True\n",
    "print(x >= 2) # True"
   ]
  },
  {
   "cell_type": "markdown",
   "id": "a421db65-2a60-4291-9c42-c34e6471e7a7",
   "metadata": {},
   "source": [
    "#### Logical Operators:\n",
    "- and : 'Return True' if both the conditions are True\n",
    "- or : 'Return False' if both the conditions are False\n",
    "- not : Return the opposite."
   ]
  },
  {
   "cell_type": "code",
   "execution_count": 6,
   "id": "e341e508-61b6-4ae1-8294-a19c44a488cb",
   "metadata": {},
   "outputs": [
    {
     "name": "stdout",
     "output_type": "stream",
     "text": [
      "False\n",
      "True\n",
      "False\n",
      "True\n",
      "False\n"
     ]
    }
   ],
   "source": [
    "x = 11\n",
    "y = 7\n",
    "z = 15\n",
    "print((x==y)and(z!=y)or(y>x)) # False\n",
    "print((x!=y)or(z!=y)or(y>x)) # True\n",
    "print((x>=y)and(z==y)and(z>x)) # False\n",
    "print(not(z!=15)) # True\n",
    "print(not((x<=y)and(z>=y)or(y!=x))) # False"
   ]
  },
  {
   "cell_type": "code",
   "execution_count": 7,
   "id": "f3cdb086-741c-4b52-b168-015bb150b453",
   "metadata": {},
   "outputs": [
    {
     "name": "stdout",
     "output_type": "stream",
     "text": [
      "True\n"
     ]
    }
   ],
   "source": [
    "print(not(x<=y)and(z>=y)or(y!=x)) # True"
   ]
  },
  {
   "cell_type": "code",
   "execution_count": 8,
   "id": "ad6ae039-5561-485e-885a-755da471edc6",
   "metadata": {},
   "outputs": [
    {
     "name": "stdout",
     "output_type": "stream",
     "text": [
      "True\n"
     ]
    }
   ],
   "source": [
    "print(not(x<=y)or(z<=y)and(y!=x)) # (T or F and T) # (T or F) # T"
   ]
  },
  {
   "cell_type": "markdown",
   "id": "fe727a4c-e052-40d8-9582-fdf3621a35de",
   "metadata": {},
   "source": [
    "### Bitwise Operators:\n",
    "- 'AND' = '&' -> 'Both bit with value 1 return 1 else 0'\n",
    "- 'OR' = '|' -> 'Any bit with value 1 return 1 else 0'\n",
    "- 'XOR' = '^' -> 'Alternative Bits return 1 else same bits returns 0'\n",
    "- 'NOT' = '~' -> '2s Complement to check the sign and evaluate'\n",
    "- 'Left Shift' = '<<' -> 'Shift bits to the left'\n",
    "- 'Right Shift' = '>>' -> 'Shift bits to the right'"
   ]
  },
  {
   "cell_type": "code",
   "execution_count": 9,
   "id": "91ba1d60-9c58-4964-a53e-b03690a69422",
   "metadata": {},
   "outputs": [
    {
     "name": "stdout",
     "output_type": "stream",
     "text": [
      "2\n"
     ]
    }
   ],
   "source": [
    "x = 10\n",
    "y = 6\n",
    "print(x & y) # 2"
   ]
  },
  {
   "cell_type": "code",
   "execution_count": 10,
   "id": "5fd89f2b-427a-41f0-934e-843f357f43c5",
   "metadata": {},
   "outputs": [
    {
     "name": "stdout",
     "output_type": "stream",
     "text": [
      "14\n"
     ]
    }
   ],
   "source": [
    "x = 10\n",
    "y = 6\n",
    "print(x | y) # 14"
   ]
  },
  {
   "cell_type": "code",
   "execution_count": 12,
   "id": "a4157c80-1093-4e1d-8712-2b227b578af3",
   "metadata": {},
   "outputs": [
    {
     "name": "stdout",
     "output_type": "stream",
     "text": [
      "12\n"
     ]
    }
   ],
   "source": [
    "x = 10\n",
    "y = 6\n",
    "print(x ^ y) # 12"
   ]
  },
  {
   "cell_type": "code",
   "execution_count": 13,
   "id": "d9bc1dac-91bd-4a99-9a19-8785769052bc",
   "metadata": {},
   "outputs": [
    {
     "name": "stdout",
     "output_type": "stream",
     "text": [
      "-11\n"
     ]
    }
   ],
   "source": [
    "x = 10 \n",
    "print(~x)"
   ]
  },
  {
   "cell_type": "code",
   "execution_count": 14,
   "id": "3553e7aa-895d-4c2d-9352-ba6dd2d2a897",
   "metadata": {},
   "outputs": [
    {
     "name": "stdout",
     "output_type": "stream",
     "text": [
      "-8\n"
     ]
    }
   ],
   "source": [
    "x = 7 \n",
    "print(~x)"
   ]
  },
  {
   "cell_type": "code",
   "execution_count": 16,
   "id": "6d662d61-ddad-492c-8e09-a30c0b1a97aa",
   "metadata": {},
   "outputs": [
    {
     "name": "stdout",
     "output_type": "stream",
     "text": [
      "16\n"
     ]
    }
   ],
   "source": [
    "x = -17 \n",
    "print(~x)"
   ]
  },
  {
   "cell_type": "code",
   "execution_count": 17,
   "id": "3782354a-854a-4502-a24c-2246d3236936",
   "metadata": {},
   "outputs": [
    {
     "name": "stdout",
     "output_type": "stream",
     "text": [
      "40\n"
     ]
    }
   ],
   "source": [
    "x = 10\n",
    "print(x<<2)"
   ]
  },
  {
   "cell_type": "code",
   "execution_count": 18,
   "id": "54164e03-ce4e-4912-b0a2-913ab6d8bc25",
   "metadata": {},
   "outputs": [
    {
     "name": "stdout",
     "output_type": "stream",
     "text": [
      "2\n"
     ]
    }
   ],
   "source": [
    "x = 10\n",
    "print(x>>2)"
   ]
  },
  {
   "cell_type": "code",
   "execution_count": null,
   "id": "9f6a4fa3-de79-4c00-ac63-88d7243f2e04",
   "metadata": {},
   "outputs": [],
   "source": []
  }
 ],
 "metadata": {
  "kernelspec": {
   "display_name": "Python [conda env:new.anaconda]",
   "language": "python",
   "name": "conda-env-new.anaconda-py"
  },
  "language_info": {
   "codemirror_mode": {
    "name": "ipython",
    "version": 3
   },
   "file_extension": ".py",
   "mimetype": "text/x-python",
   "name": "python",
   "nbconvert_exporter": "python",
   "pygments_lexer": "ipython3",
   "version": "3.12.7"
  }
 },
 "nbformat": 4,
 "nbformat_minor": 5
}
