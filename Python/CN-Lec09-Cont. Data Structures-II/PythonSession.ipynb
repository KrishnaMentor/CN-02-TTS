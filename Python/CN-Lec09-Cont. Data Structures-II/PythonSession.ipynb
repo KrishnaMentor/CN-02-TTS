{
 "cells": [
  {
   "cell_type": "code",
   "execution_count": 2,
   "id": "b5bc67ed-6670-4655-881a-d6bbe029118f",
   "metadata": {},
   "outputs": [
    {
     "name": "stdout",
     "output_type": "stream",
     "text": [
      "Hello EveryOne!\n"
     ]
    }
   ],
   "source": [
    "print(\"Hello EveryOne!\")"
   ]
  },
  {
   "cell_type": "raw",
   "id": "e1044fd6-2a48-4c29-adfc-4ab126aced36",
   "metadata": {},
   "source": [
    "Welcome To the Python Course!"
   ]
  },
  {
   "cell_type": "markdown",
   "id": "ef34e1aa-e63b-4a0e-ae20-15538e29fd3c",
   "metadata": {},
   "source": [
    "# Python Programming\n",
    "#### Let's Learn Together , Grow Together!!\n",
    "1. Learn Faster!\n",
    "2. Grow Faster\n",
    "- It is a programming Language.\n",
    "    - It's a high level language.\n",
    "        - Easy To understand. (Human Readable)\n",
    "- Handles Large Dataset.\n",
    "- Python is a case-sensitive language\n",
    "- It's an interpreter language\n",
    "- Rich in Libraries\n",
    "- Amazing Support from the community\n",
    "- Its an platform independent. -> .py"
   ]
  },
  {
   "cell_type": "raw",
   "id": "65a2d3e1-80b8-4d32-a359-5c8655261918",
   "metadata": {},
   "source": [
    "# Java\n",
    "int x = 10\n",
    "System.out.println(x)"
   ]
  },
  {
   "cell_type": "code",
   "execution_count": 15,
   "id": "57e879bc-cc34-487f-a93d-e41e684a1d0c",
   "metadata": {},
   "outputs": [
    {
     "name": "stdout",
     "output_type": "stream",
     "text": [
      "10\n",
      "<class 'int'>\n"
     ]
    }
   ],
   "source": [
    "# Python\n",
    "x = 10\n",
    "print(x)\n",
    "print(type(x))"
   ]
  },
  {
   "cell_type": "code",
   "execution_count": 16,
   "id": "2b36b7a4-7db7-4500-be66-550d57c8d27e",
   "metadata": {},
   "outputs": [
    {
     "name": "stdout",
     "output_type": "stream",
     "text": [
      "Coding Ninja\n",
      "<class 'str'>\n"
     ]
    }
   ],
   "source": [
    "x = \"Coding Ninja\"\n",
    "print(x)\n",
    "print(type(x))"
   ]
  },
  {
   "cell_type": "code",
   "execution_count": 17,
   "id": "a1b1814b-91a8-43a7-8cae-4b274e5d9e11",
   "metadata": {},
   "outputs": [
    {
     "name": "stdout",
     "output_type": "stream",
     "text": [
      "k\n",
      "<class 'str'>\n"
     ]
    }
   ],
   "source": [
    "x = 'k'\n",
    "print(x)\n",
    "print(type(x))"
   ]
  },
  {
   "cell_type": "code",
   "execution_count": 18,
   "id": "f11ad21d-91db-40e9-bbd1-71d5ea7f843a",
   "metadata": {},
   "outputs": [
    {
     "name": "stdout",
     "output_type": "stream",
     "text": [
      "11\n",
      "<class 'int'>\n"
     ]
    }
   ],
   "source": [
    "x = int('10') + 1\n",
    "print(x)\n",
    "print(type(x))"
   ]
  },
  {
   "cell_type": "code",
   "execution_count": 19,
   "id": "941a5f9a-6151-4aa0-8a55-34c6a2df4c54",
   "metadata": {},
   "outputs": [
    {
     "name": "stdout",
     "output_type": "stream",
     "text": [
      "10.5\n",
      "<class 'float'>\n"
     ]
    }
   ],
   "source": [
    "x = 10.5\n",
    "print(x)\n",
    "print(type(x))"
   ]
  },
  {
   "cell_type": "code",
   "execution_count": 20,
   "id": "8e102e96-17bd-4b74-a804-4a2bf40ec573",
   "metadata": {},
   "outputs": [
    {
     "name": "stdout",
     "output_type": "stream",
     "text": [
      "(9+6j)\n",
      "<class 'complex'>\n"
     ]
    }
   ],
   "source": [
    "x = 9 + 6j\n",
    "print(x)\n",
    "print(type(x))"
   ]
  },
  {
   "cell_type": "code",
   "execution_count": 22,
   "id": "91992d59-b1e7-4a64-80dc-485f6c09614f",
   "metadata": {},
   "outputs": [
    {
     "name": "stdout",
     "output_type": "stream",
     "text": [
      "Python\n",
      "Programming\n"
     ]
    }
   ],
   "source": [
    "# parameters \"\\n\" by default\n",
    "print(\"Python\")\n",
    "print(\"Programming\")"
   ]
  },
  {
   "cell_type": "code",
   "execution_count": 24,
   "id": "c70ed5dd-6446-429b-a80c-b502abfdf0c3",
   "metadata": {},
   "outputs": [
    {
     "name": "stdout",
     "output_type": "stream",
     "text": [
      "Python Programming\n",
      "Coding is Awesome 🔥\n"
     ]
    }
   ],
   "source": [
    "print(\"Python\" , end = \" \")\n",
    "print(\"Programming\")\n",
    "print(\"Coding is Awesome 🔥\")"
   ]
  },
  {
   "cell_type": "code",
   "execution_count": 25,
   "id": "571bdc48-38a1-435b-8b94-60563f38bd26",
   "metadata": {},
   "outputs": [
    {
     "name": "stdout",
     "output_type": "stream",
     "text": [
      "Mon Tues Weds Thurs Fri\n"
     ]
    }
   ],
   "source": [
    "# seperator -> concat_ws\n",
    "print(\"Mon\",\"Tues\",\"Weds\",\"Thurs\",\"Fri\")"
   ]
  },
  {
   "cell_type": "code",
   "execution_count": 26,
   "id": "4202277b-f456-46ad-b58d-61cda1627451",
   "metadata": {},
   "outputs": [
    {
     "name": "stdout",
     "output_type": "stream",
     "text": [
      "Mon - Tues - Weds - Thurs - Fri\n"
     ]
    }
   ],
   "source": [
    "print(\"Mon\",\"Tues\",\"Weds\",\"Thurs\",\"Fri\" , sep = \" - \")"
   ]
  },
  {
   "cell_type": "markdown",
   "id": "ea33dbb8-e1ed-491e-955a-07bdf528faaa",
   "metadata": {},
   "source": [
    "#### Input() \n",
    "- Used to accept user input from the keyboard as a string, which can be further type cast as per the requirement."
   ]
  },
  {
   "cell_type": "code",
   "execution_count": 2,
   "id": "301afc90-ea99-4802-9be2-b6e7cdb25a13",
   "metadata": {},
   "outputs": [
    {
     "name": "stdin",
     "output_type": "stream",
     "text": [
      "Enter the user_name:  Venom\n"
     ]
    },
    {
     "name": "stdout",
     "output_type": "stream",
     "text": [
      "Venom\n"
     ]
    }
   ],
   "source": [
    "user_input = input(\"Enter the user_name: \")\n",
    "print(user_input)"
   ]
  },
  {
   "cell_type": "code",
   "execution_count": 3,
   "id": "20923c54-43b0-4bc3-b803-3c96cab5ac36",
   "metadata": {},
   "outputs": [
    {
     "name": "stdin",
     "output_type": "stream",
     "text": [
      "Enter the gaming_name:  DaddyDamage\n"
     ]
    },
    {
     "name": "stdout",
     "output_type": "stream",
     "text": [
      "DaddyDamage\n"
     ]
    }
   ],
   "source": [
    "user_input = input(\"Enter the gaming_name: \")\n",
    "print(user_input)"
   ]
  },
  {
   "cell_type": "code",
   "execution_count": 5,
   "id": "1bdf835a-532a-4ae7-8b22-f50c5b04ffcf",
   "metadata": {},
   "outputs": [
    {
     "name": "stdin",
     "output_type": "stream",
     "text": [
      "Enter the value:  10\n"
     ]
    },
    {
     "name": "stdout",
     "output_type": "stream",
     "text": [
      "10\n",
      "<class 'str'>\n"
     ]
    }
   ],
   "source": [
    "val = input(\"Enter the value: \")\n",
    "print(val)\n",
    "print(type(val))"
   ]
  },
  {
   "cell_type": "code",
   "execution_count": 6,
   "id": "50addf20-2658-4084-a4d9-5cb8d9dbbee7",
   "metadata": {},
   "outputs": [
    {
     "name": "stdin",
     "output_type": "stream",
     "text": [
      "Enter the value:  11\n"
     ]
    },
    {
     "name": "stdout",
     "output_type": "stream",
     "text": [
      "11\n",
      "<class 'int'>\n"
     ]
    }
   ],
   "source": [
    "val = int(input(\"Enter the value: \"))\n",
    "print(val)\n",
    "print(type(val))"
   ]
  },
  {
   "cell_type": "code",
   "execution_count": 7,
   "id": "8f44281c-0f46-4ebc-be56-447c15369e9d",
   "metadata": {},
   "outputs": [
    {
     "name": "stdout",
     "output_type": "stream",
     "text": [
      "55\n"
     ]
    }
   ],
   "source": [
    "print(val * 5)"
   ]
  },
  {
   "cell_type": "code",
   "execution_count": 10,
   "id": "173897c8-02b6-40b0-b2be-6bb5ce5df881",
   "metadata": {},
   "outputs": [
    {
     "name": "stdin",
     "output_type": "stream",
     "text": [
      "Enter the value between 1-100 :  75\n"
     ]
    },
    {
     "name": "stdout",
     "output_type": "stream",
     "text": [
      "85\n"
     ]
    }
   ],
   "source": [
    "x = int(input(\"Enter the value between 1-100 : \"))\n",
    "x = x + 10\n",
    "print(x)"
   ]
  },
  {
   "cell_type": "code",
   "execution_count": 25,
   "id": "08728498-fa86-45aa-abf1-473770652f43",
   "metadata": {},
   "outputs": [
    {
     "name": "stdin",
     "output_type": "stream",
     "text": [
      "Enter the value between 1-100 :  66\n"
     ]
    },
    {
     "name": "stdout",
     "output_type": "stream",
     "text": [
      "76\n"
     ]
    }
   ],
   "source": [
    "x = int(input(\"Enter the value between 1-100 : \"))\n",
    "x = x + 10 # '75' + 10 - TypeError: can only concatenate str (not \"int\") to str\n",
    "print(x)"
   ]
  },
  {
   "cell_type": "code",
   "execution_count": 29,
   "id": "58efb9fe-e279-4f7f-87c5-0116a479e14a",
   "metadata": {},
   "outputs": [
    {
     "name": "stdout",
     "output_type": "stream",
     "text": [
      "76\n",
      "<class 'str'>\n"
     ]
    }
   ],
   "source": [
    "x = str(x)\n",
    "print(x)\n",
    "print(type(x))"
   ]
  },
  {
   "cell_type": "code",
   "execution_count": 30,
   "id": "bae5274b-8cf9-4bbe-aa35-e3e92ca28776",
   "metadata": {},
   "outputs": [
    {
     "name": "stdin",
     "output_type": "stream",
     "text": [
      "Enter the username:  utkarshdev\n",
      "Enter your personal mail:  utkarssh@gmail.com\n"
     ]
    },
    {
     "name": "stdout",
     "output_type": "stream",
     "text": [
      "Hey utkarshdev Welcome to the Python Course, You being registered with utkarssh@gmail.com :)\n"
     ]
    }
   ],
   "source": [
    "# String Pattern\n",
    "user_name = input(\"Enter the username: \")\n",
    "email = input(\"Enter your personal mail: \")\n",
    "print(\"Hey \" + user_name + \" Welcome to the Python Course, You being registered with \" + email + \" :)\")"
   ]
  },
  {
   "cell_type": "code",
   "execution_count": 31,
   "id": "b5260a51-06d0-4b52-905c-99a468f94af7",
   "metadata": {},
   "outputs": [
    {
     "name": "stdin",
     "output_type": "stream",
     "text": [
      "Enter the username:  iaarifpathan\n",
      "Enter your personal mail:  iaarifpathan@gmail.com\n"
     ]
    },
    {
     "name": "stdout",
     "output_type": "stream",
     "text": [
      "Hey iaarifpathan Welcome to the Python Course, You being registered with iaarifpathan@gmail.com :)\n"
     ]
    }
   ],
   "source": [
    "# String Pattern\n",
    "user_name = input(\"Enter the username: \")\n",
    "email = input(\"Enter your personal mail: \")\n",
    "print(f\"Hey {user_name} Welcome to the Python Course, You being registered with {email} :)\")"
   ]
  },
  {
   "cell_type": "markdown",
   "id": "3bc7622f-bffb-4222-9039-0bf66d3f5f01",
   "metadata": {},
   "source": [
    "- Single Line Comments - #\n",
    "- Multi Line Comments - '''"
   ]
  },
  {
   "cell_type": "code",
   "execution_count": 32,
   "id": "f4daecc0-cd14-47b4-86a4-09aefdd0f862",
   "metadata": {},
   "outputs": [
    {
     "name": "stdout",
     "output_type": "stream",
     "text": [
      "Python Programming\n"
     ]
    }
   ],
   "source": [
    "# This is a single line comment\n",
    "print(\"Python Programming\")"
   ]
  },
  {
   "cell_type": "code",
   "execution_count": 36,
   "id": "63f4f9f6-4ca6-43f9-975c-3ea820e7a44f",
   "metadata": {},
   "outputs": [
    {
     "name": "stdin",
     "output_type": "stream",
     "text": [
      "Enter the first value:  10\n",
      "Enter the second value:  5\n"
     ]
    },
    {
     "name": "stdout",
     "output_type": "stream",
     "text": [
      "The final result is  50\n",
      "The final result is 60\n"
     ]
    }
   ],
   "source": [
    "'''\n",
    "    This is a multiline comments....\n",
    "    Put some important stuff here relevant to \n",
    "    your python program\n",
    "'''\n",
    "num1 = int(input(\"Enter the first value: \"))\n",
    "num2 = int(input(\"Enter the second value: \"))\n",
    "result = num1 * num2\n",
    "print(\"The final result is \" , result)\n",
    "print(f\"The final result is {result + 10}\")"
   ]
  },
  {
   "cell_type": "code",
   "execution_count": 37,
   "id": "0404bfb9-a612-427a-8634-6de9b116d18a",
   "metadata": {},
   "outputs": [
    {
     "name": "stdin",
     "output_type": "stream",
     "text": [
      "Enter your Dream Car:  Defender\n"
     ]
    },
    {
     "name": "stdout",
     "output_type": "stream",
     "text": [
      "My Dream Car is : Defender\n"
     ]
    }
   ],
   "source": [
    "fav_car = input(\"Enter your Dream Car: \")\n",
    "print(\"My Dream Car is : \" + fav_car)"
   ]
  },
  {
   "cell_type": "code",
   "execution_count": 38,
   "id": "3b3b4b3f-bd1f-4e9b-9443-ea27b84b1e12",
   "metadata": {},
   "outputs": [
    {
     "name": "stdout",
     "output_type": "stream",
     "text": [
      "z is greater than 10\n",
      "Outside the if statement\n"
     ]
    }
   ],
   "source": [
    "# Indentation:\n",
    "z = 15\n",
    "if z > 10: # Boolean Value[True/False]\n",
    "    print(\"z is greater than 10\")\n",
    "print(\"Outside the if statement\")"
   ]
  },
  {
   "cell_type": "code",
   "execution_count": 39,
   "id": "481a0b7d-fd2f-4932-8b11-5fc3b4516320",
   "metadata": {},
   "outputs": [
    {
     "name": "stdout",
     "output_type": "stream",
     "text": [
      "Outside the if statement\n"
     ]
    }
   ],
   "source": [
    "# Indentation:\n",
    "z = 15\n",
    "if z > 20: # Boolean Value[True/False]\n",
    "    print(\"z is greater than 10\")\n",
    "print(\"Outside the if statement\")"
   ]
  },
  {
   "cell_type": "markdown",
   "id": "f3e472b9-4b5b-4d83-9a27-f8a6d3e7b526",
   "metadata": {},
   "source": [
    "# Variables : What & Why?\n",
    "#### Variables acts as an container for storing data, They help with:\n",
    "- Storing Data\n",
    "- Manipulating Values\n",
    "- Reusability\n",
    "- Improving the Readibility \n",
    "    -  total_sum >> ts\n",
    "    -  compound_interest >> c_i\n",
    "    -  age\n",
    "    -  finding_prod_sum >> finding_the_product_and_sum >> p_s"
   ]
  },
  {
   "cell_type": "code",
   "execution_count": 40,
   "id": "333f44b2-58a0-4f11-8f3c-72a54a05986f",
   "metadata": {},
   "outputs": [
    {
     "name": "stdout",
     "output_type": "stream",
     "text": [
      "99\n",
      "UltimateForce\n"
     ]
    }
   ],
   "source": [
    "# Declaring and assigning variables:\n",
    "val = 99\n",
    "user_name = \"UltimateForce\"\n",
    "print(val)\n",
    "print(user_name)"
   ]
  },
  {
   "cell_type": "code",
   "execution_count": 43,
   "id": "b9841998-7695-43cf-bb3c-dee54b1c69ef",
   "metadata": {},
   "outputs": [
    {
     "name": "stdout",
     "output_type": "stream",
     "text": [
      "10\n",
      "20\n",
      "30\n"
     ]
    }
   ],
   "source": [
    "a,b,c = 10,20,30\n",
    "print(a)\n",
    "print(b)\n",
    "print(c)"
   ]
  },
  {
   "cell_type": "code",
   "execution_count": 48,
   "id": "716bf769-cccc-4951-b287-80abb595355c",
   "metadata": {},
   "outputs": [
    {
     "name": "stdout",
     "output_type": "stream",
     "text": [
      "10\n",
      "<class 'int'>\n",
      "20\n",
      "<class 'int'>\n",
      "[30, 40, 50]\n",
      "<class 'list'>\n"
     ]
    }
   ],
   "source": [
    "a,b,*c = 10,20,30,40,50\n",
    "print(a)\n",
    "print(type(a))\n",
    "print(b)\n",
    "print(type(b))\n",
    "print(c)\n",
    "print(type(c))"
   ]
  },
  {
   "cell_type": "code",
   "execution_count": 56,
   "id": "ffedd269-f5da-4ba7-8f88-f0ed7d6a36d1",
   "metadata": {},
   "outputs": [
    {
     "name": "stdout",
     "output_type": "stream",
     "text": [
      "10\n",
      "<class 'int'>\n",
      "[20, 30, 40]\n",
      "<class 'list'>\n",
      "50\n",
      "<class 'int'>\n"
     ]
    }
   ],
   "source": [
    "a,*b,c = 10,20,30,40,50\n",
    "print(a)\n",
    "print(type(a))\n",
    "print(b)\n",
    "print(type(b))\n",
    "print(c)\n",
    "print(type(c))"
   ]
  },
  {
   "cell_type": "code",
   "execution_count": 57,
   "id": "deaa2f03-3e42-4f80-a36e-50898d020e63",
   "metadata": {},
   "outputs": [
    {
     "name": "stdout",
     "output_type": "stream",
     "text": [
      "10\n",
      "<class 'int'>\n",
      "[20, 30, 'a', 'b', 40]\n",
      "<class 'list'>\n",
      "50\n",
      "<class 'int'>\n"
     ]
    }
   ],
   "source": [
    "a,*b,c = 10,20,30,'a','b',40,50\n",
    "print(a)\n",
    "print(type(a))\n",
    "print(b)\n",
    "print(type(b))\n",
    "print(c)\n",
    "print(type(c))"
   ]
  },
  {
   "cell_type": "code",
   "execution_count": 58,
   "id": "8d4b3729-2ed3-41e1-aff9-c7baa726a5b8",
   "metadata": {},
   "outputs": [
    {
     "name": "stdout",
     "output_type": "stream",
     "text": [
      "Ninjas\n",
      "Ninjas\n",
      "Ninjas\n",
      "Ninjas\n"
     ]
    }
   ],
   "source": [
    "p=q=r=s= \"Ninjas\"\n",
    "print(p)\n",
    "print(q)\n",
    "print(r)\n",
    "print(s)"
   ]
  },
  {
   "cell_type": "markdown",
   "id": "56ce3e2e-895d-4dfa-b8f3-e3ff9587960f",
   "metadata": {},
   "source": [
    "## Rules for naming a \"Variables\"\n",
    "- Can include letters, digits and underscore\n",
    "- Must start with a letter or underscore\n",
    "- case-sensitive\n",
    "    - val != Val\n",
    "    - num != nuM\n",
    "    - digit != Digit\n",
    "- Can't use Python Keywords\n",
    "    - for, input, while, print, if, elif, tuple, list, set, dict, true, false\n",
    "- Can't have spaces or special characters (except _)\n",
    "- Variable name can't start with numbers."
   ]
  },
  {
   "cell_type": "code",
   "execution_count": 3,
   "id": "c6ba7aa5-02ed-41ea-a412-54e8e71307ce",
   "metadata": {},
   "outputs": [
    {
     "name": "stdout",
     "output_type": "stream",
     "text": [
      "Python\n"
     ]
    }
   ],
   "source": [
    "my_first_variable = \"Python\"\n",
    "print(my_first_variable)"
   ]
  },
  {
   "cell_type": "code",
   "execution_count": 2,
   "id": "7af1f0c8-3391-46b1-890b-77a3ed5e1533",
   "metadata": {},
   "outputs": [
    {
     "name": "stdout",
     "output_type": "stream",
     "text": [
      "Coding\n"
     ]
    }
   ],
   "source": [
    "_var = \"Coding\"\n",
    "print(_var)"
   ]
  },
  {
   "cell_type": "code",
   "execution_count": 6,
   "id": "ff968614-74e7-4ed7-aed7-432a0d55e2ff",
   "metadata": {},
   "outputs": [
    {
     "name": "stdout",
     "output_type": "stream",
     "text": [
      "Hi, I'm good, What about you?\n",
      "Hi, I'm good, What about you?\n"
     ]
    }
   ],
   "source": [
    "# String -> Escape Character\n",
    "print(\"Hi, I'm good, What about you?\")\n",
    "print('Hi, I\\'m good, What about you?')"
   ]
  },
  {
   "cell_type": "code",
   "execution_count": 7,
   "id": "b94a1029-34b5-4db6-b024-be0d3feed92a",
   "metadata": {},
   "outputs": [
    {
     "name": "stdout",
     "output_type": "stream",
     "text": [
      "an \"apple\" a day keeps a doctor away\n"
     ]
    }
   ],
   "source": [
    "print(\"an \\\"apple\\\" a day keeps a doctor away\")"
   ]
  },
  {
   "cell_type": "code",
   "execution_count": 12,
   "id": "206839b7-a9b1-4c15-aa21-333256eb71cd",
   "metadata": {},
   "outputs": [
    {
     "name": "stdout",
     "output_type": "stream",
     "text": [
      "Hi Everyone! Welcome to the course\n"
     ]
    }
   ],
   "source": [
    "print(\"Hi Everyone! Welcome to the course\")"
   ]
  },
  {
   "cell_type": "code",
   "execution_count": 15,
   "id": "45cef1fe-4848-4265-b8ec-0a58f07c6de4",
   "metadata": {},
   "outputs": [
    {
     "name": "stdout",
     "output_type": "stream",
     "text": [
      "\n",
      "    Tu Paas Hai Mere Paas Hai Aise\n",
      "    Mera Koi Ehsaas Hai Jaise\n",
      "    Tu Paas Hai Mere Paas Hai Aise\n",
      "    Mera Koi Ehsaas Hai Jaise\n",
      "    \n",
      "    Haye Main Mar Hi Jaaun\n",
      "    Jo Tujhko Na Paaun\n",
      "    Baaton Mein Teri Main\n",
      "    Raatein Bitaun\n",
      "\n",
      "\n"
     ]
    }
   ],
   "source": [
    "# Multiline String -> <pre> tag in HTML [Markup Language]\n",
    "print(\"\"\"\n",
    "    Tu Paas Hai Mere Paas Hai Aise\n",
    "    Mera Koi Ehsaas Hai Jaise\n",
    "    Tu Paas Hai Mere Paas Hai Aise\n",
    "    Mera Koi Ehsaas Hai Jaise\n",
    "    \n",
    "    Haye Main Mar Hi Jaaun\n",
    "    Jo Tujhko Na Paaun\n",
    "    Baaton Mein Teri Main\n",
    "    Raatein Bitaun\n",
    "\n",
    "\"\"\")"
   ]
  },
  {
   "cell_type": "code",
   "execution_count": 20,
   "id": "93a533de-2c93-4cfc-9076-81560de205f5",
   "metadata": {},
   "outputs": [
    {
     "name": "stdout",
     "output_type": "stream",
     "text": [
      "Hey: What's your name: \t 'Aditya Verma'\n",
      "Hello\n",
      "World\n",
      "x y z\n",
      "Welcome Back!\n"
     ]
    }
   ],
   "source": [
    "# Escape characters \"\\n\"[Next line] & \"\\t\"[tab space]\n",
    "print(\"Hey: What's your name: \\t 'Aditya Verma'\")\n",
    "print(\"Hello\\nWorld\")\n",
    "print(\"x\", end=\" \")\n",
    "print(\"y\", end=\" \")\n",
    "print(\"z\", end=\"\\n\")\n",
    "print(\"Welcome Back!\")"
   ]
  },
  {
   "cell_type": "code",
   "execution_count": 21,
   "id": "478c40d7-8a2c-4d31-be0e-232b694ba282",
   "metadata": {},
   "outputs": [
    {
     "name": "stdout",
     "output_type": "stream",
     "text": [
      "<class 'float'>\n"
     ]
    }
   ],
   "source": [
    "# type -> conversion()\n",
    "x = 10.0\n",
    "print(type(x))"
   ]
  },
  {
   "cell_type": "code",
   "execution_count": 22,
   "id": "11b4ed87-0f05-4415-8d1b-aeb04f3bf3ef",
   "metadata": {},
   "outputs": [
    {
     "name": "stdout",
     "output_type": "stream",
     "text": [
      "99\n"
     ]
    }
   ],
   "source": [
    "num1 = 99.99\n",
    "print(int(num1))"
   ]
  },
  {
   "cell_type": "code",
   "execution_count": 23,
   "id": "0e917e85-82c1-480a-8759-e218844425aa",
   "metadata": {},
   "outputs": [
    {
     "name": "stdout",
     "output_type": "stream",
     "text": [
      "55\n",
      "<class 'str'>\n"
     ]
    }
   ],
   "source": [
    "x = 55\n",
    "y = str(x)\n",
    "print(y)\n",
    "print(type(y))"
   ]
  },
  {
   "cell_type": "code",
   "execution_count": 24,
   "id": "b4d61066-b517-4725-bddc-47babd8be82d",
   "metadata": {},
   "outputs": [
    {
     "name": "stdout",
     "output_type": "stream",
     "text": [
      "1\n",
      "<class 'bool'>\n",
      "<class 'int'>\n"
     ]
    }
   ],
   "source": [
    "_bool = True\n",
    "int_bool = int(_bool)\n",
    "print(int_bool)\n",
    "print(type(_bool))\n",
    "print(type(int_bool))"
   ]
  },
  {
   "cell_type": "code",
   "execution_count": 25,
   "id": "3b7ea16a-ba5c-45cb-9446-046c69a7209d",
   "metadata": {},
   "outputs": [
    {
     "name": "stdout",
     "output_type": "stream",
     "text": [
      "0\n",
      "<class 'bool'>\n",
      "<class 'int'>\n"
     ]
    }
   ],
   "source": [
    "_bool = False\n",
    "int_bool = int(_bool)\n",
    "print(int_bool)\n",
    "print(type(_bool))\n",
    "print(type(int_bool))"
   ]
  },
  {
   "cell_type": "markdown",
   "id": "6a62b27c-e048-4fd5-9cfc-58a809e78a84",
   "metadata": {},
   "source": [
    "# What are Operators?\n",
    "#### Operators are tools in programming used to perform actions like arithmetic, comparisons, assignments, logical evaluations, etc.\n",
    "\n",
    "### Types of Operators in Python:\n",
    "1. Arithmetic Operators\n",
    "\n",
    "2. Comparison Operators\n",
    "\n",
    "3. Logical Operators\n",
    "\n",
    "4. Bitwise Operators\n",
    "\n",
    "5. Assignment Operators\n",
    "\n",
    "6. Membership Operators\n",
    "\n",
    "7. Identity Operators\n"
   ]
  },
  {
   "cell_type": "markdown",
   "id": "90969ad9-d4c8-4d5f-ad2a-3950fa757355",
   "metadata": {},
   "source": [
    "### Arithmetic Operators:\n",
    "- '+' Addition\n",
    "- '-' Subtraction\n",
    "- '*' Multiplication\n",
    "- '/' Division (floating)\n",
    "- '%' Modulus (remainder)\n",
    "- '**' Exponentiation\n",
    "- '//' Floor Division"
   ]
  },
  {
   "cell_type": "code",
   "execution_count": 1,
   "id": "23e70fb0-b234-4a65-938a-d8089ab97352",
   "metadata": {},
   "outputs": [
    {
     "name": "stdout",
     "output_type": "stream",
     "text": [
      "18\n",
      "4\n",
      "77\n",
      "1.5714285714285714\n",
      "4\n",
      "1\n",
      "4\n",
      "121\n",
      "5\n"
     ]
    }
   ],
   "source": [
    "x = 11\n",
    "y = 7\n",
    "z = 15\n",
    "print(x+y) # 18 'One 8' [Virat Kohli]\n",
    "print(x-y) # 4\n",
    "print(x*y) # 77 ['Shubman Gill']\n",
    "print(x/y) # 1.57....\n",
    "print(x%y) # 4\n",
    "print(z%y) # 1\n",
    "print(z%x) # 4\n",
    "print(x ** 2) # 121\n",
    "print(x // 2) # 5"
   ]
  },
  {
   "cell_type": "code",
   "execution_count": 2,
   "id": "98fc6542-b81f-45ca-98fe-c3cd9862fed5",
   "metadata": {},
   "outputs": [
    {
     "name": "stdout",
     "output_type": "stream",
     "text": [
      "19487171\n"
     ]
    }
   ],
   "source": [
    "print(x ** y)"
   ]
  },
  {
   "cell_type": "raw",
   "id": "2b107354-29e0-408d-9a0b-5294d02bc508",
   "metadata": {},
   "source": [
    "# You can't do addition with 2 different data type\n",
    "x = '10' + 11 # TypeError: can only concatenate str (not \"int\") to str\n",
    "print(x)"
   ]
  },
  {
   "cell_type": "markdown",
   "id": "8f4b94e9-df31-4def-ba21-1d1dbaed4656",
   "metadata": {},
   "source": [
    "### Comparison Operators (Return Boolean Result):\n",
    "- '==' Equal to\n",
    "- '!=' Not Equal to\n",
    "- '>' Greater Than\n",
    "- '>=' Greater Than or  Equal to\n",
    "- '<' Less Than\n",
    "- '<=' Less Than or Equal to"
   ]
  },
  {
   "cell_type": "code",
   "execution_count": 5,
   "id": "2d46bef7-29a9-4b84-aa07-5e3b6f49c4ff",
   "metadata": {},
   "outputs": [
    {
     "name": "stdout",
     "output_type": "stream",
     "text": [
      "False\n",
      "True\n",
      "True\n",
      "False\n",
      "True\n",
      "True\n",
      "False\n",
      "False\n",
      "True\n",
      "True\n"
     ]
    }
   ],
   "source": [
    "x = 11\n",
    "y = 7\n",
    "z = 15\n",
    "print(x==y) # False\n",
    "print(x!=y) # True\n",
    "print(z!=y) # True\n",
    "print(z!=15) # False\n",
    "print(x>y) # True\n",
    "print(x>=y) # True\n",
    "print(z<=y) # False\n",
    "print(z<x)  # False\n",
    "print(x != 2) # True\n",
    "print(x >= 2) # True"
   ]
  },
  {
   "cell_type": "markdown",
   "id": "a421db65-2a60-4291-9c42-c34e6471e7a7",
   "metadata": {},
   "source": [
    "#### Logical Operators:\n",
    "- and : 'Return True' if both the conditions are True\n",
    "- or : 'Return False' if both the conditions are False\n",
    "- not : Return the opposite."
   ]
  },
  {
   "cell_type": "code",
   "execution_count": 6,
   "id": "e341e508-61b6-4ae1-8294-a19c44a488cb",
   "metadata": {},
   "outputs": [
    {
     "name": "stdout",
     "output_type": "stream",
     "text": [
      "False\n",
      "True\n",
      "False\n",
      "True\n",
      "False\n"
     ]
    }
   ],
   "source": [
    "x = 11\n",
    "y = 7\n",
    "z = 15\n",
    "print((x==y)and(z!=y)or(y>x)) # False\n",
    "print((x!=y)or(z!=y)or(y>x)) # True\n",
    "print((x>=y)and(z==y)and(z>x)) # False\n",
    "print(not(z!=15)) # True\n",
    "print(not((x<=y)and(z>=y)or(y!=x))) # False"
   ]
  },
  {
   "cell_type": "code",
   "execution_count": 7,
   "id": "f3cdb086-741c-4b52-b168-015bb150b453",
   "metadata": {},
   "outputs": [
    {
     "name": "stdout",
     "output_type": "stream",
     "text": [
      "True\n"
     ]
    }
   ],
   "source": [
    "print(not(x<=y)and(z>=y)or(y!=x)) # True"
   ]
  },
  {
   "cell_type": "code",
   "execution_count": 8,
   "id": "ad6ae039-5561-485e-885a-755da471edc6",
   "metadata": {},
   "outputs": [
    {
     "name": "stdout",
     "output_type": "stream",
     "text": [
      "True\n"
     ]
    }
   ],
   "source": [
    "print(not(x<=y)or(z<=y)and(y!=x)) # (T or F and T) # (T or F) # T"
   ]
  },
  {
   "cell_type": "markdown",
   "id": "fe727a4c-e052-40d8-9582-fdf3621a35de",
   "metadata": {},
   "source": [
    "### Bitwise Operators:\n",
    "- 'AND' = '&' -> 'Both bit with value 1 return 1 else 0'\n",
    "- 'OR' = '|' -> 'Any bit with value 1 return 1 else 0'\n",
    "- 'XOR' = '^' -> 'Alternative Bits return 1 else same bits returns 0'\n",
    "- 'NOT' = '~' -> '2s Complement to check the sign and evaluate'\n",
    "- 'Left Shift' = '<<' -> 'Shift bits to the left'\n",
    "- 'Right Shift' = '>>' -> 'Shift bits to the right'"
   ]
  },
  {
   "cell_type": "code",
   "execution_count": 9,
   "id": "91ba1d60-9c58-4964-a53e-b03690a69422",
   "metadata": {},
   "outputs": [
    {
     "name": "stdout",
     "output_type": "stream",
     "text": [
      "2\n"
     ]
    }
   ],
   "source": [
    "x = 10\n",
    "y = 6\n",
    "print(x & y) # 2"
   ]
  },
  {
   "cell_type": "code",
   "execution_count": 10,
   "id": "5fd89f2b-427a-41f0-934e-843f357f43c5",
   "metadata": {},
   "outputs": [
    {
     "name": "stdout",
     "output_type": "stream",
     "text": [
      "14\n"
     ]
    }
   ],
   "source": [
    "x = 10\n",
    "y = 6\n",
    "print(x | y) # 14"
   ]
  },
  {
   "cell_type": "code",
   "execution_count": 12,
   "id": "a4157c80-1093-4e1d-8712-2b227b578af3",
   "metadata": {},
   "outputs": [
    {
     "name": "stdout",
     "output_type": "stream",
     "text": [
      "12\n"
     ]
    }
   ],
   "source": [
    "x = 10\n",
    "y = 6\n",
    "print(x ^ y) # 12"
   ]
  },
  {
   "cell_type": "code",
   "execution_count": 13,
   "id": "d9bc1dac-91bd-4a99-9a19-8785769052bc",
   "metadata": {},
   "outputs": [
    {
     "name": "stdout",
     "output_type": "stream",
     "text": [
      "-11\n"
     ]
    }
   ],
   "source": [
    "x = 10 \n",
    "print(~x)"
   ]
  },
  {
   "cell_type": "code",
   "execution_count": 14,
   "id": "3553e7aa-895d-4c2d-9352-ba6dd2d2a897",
   "metadata": {},
   "outputs": [
    {
     "name": "stdout",
     "output_type": "stream",
     "text": [
      "-8\n"
     ]
    }
   ],
   "source": [
    "x = 7 \n",
    "print(~x)"
   ]
  },
  {
   "cell_type": "code",
   "execution_count": 16,
   "id": "6d662d61-ddad-492c-8e09-a30c0b1a97aa",
   "metadata": {},
   "outputs": [
    {
     "name": "stdout",
     "output_type": "stream",
     "text": [
      "16\n"
     ]
    }
   ],
   "source": [
    "x = -17 \n",
    "print(~x)"
   ]
  },
  {
   "cell_type": "code",
   "execution_count": 17,
   "id": "3782354a-854a-4502-a24c-2246d3236936",
   "metadata": {},
   "outputs": [
    {
     "name": "stdout",
     "output_type": "stream",
     "text": [
      "40\n"
     ]
    }
   ],
   "source": [
    "x = 10\n",
    "print(x<<2)"
   ]
  },
  {
   "cell_type": "code",
   "execution_count": 18,
   "id": "54164e03-ce4e-4912-b0a2-913ab6d8bc25",
   "metadata": {},
   "outputs": [
    {
     "name": "stdout",
     "output_type": "stream",
     "text": [
      "2\n"
     ]
    }
   ],
   "source": [
    "x = 10\n",
    "print(x>>2)"
   ]
  },
  {
   "cell_type": "markdown",
   "id": "f911f3bb-38ee-454d-b68c-2a9bc6c83224",
   "metadata": {},
   "source": [
    "#### Assignment Operators : \n",
    "- '=' -> (x = 5)\n",
    "- '+=' -> x+=5 -> x = x + 5\n",
    "- '-=' -> x-=5 -> x = x - 5\n",
    "- '*=' -> x *=5 -> x = x * 5\n",
    "- '/=' -> x/=5 -> x = x / 5\n",
    "- '%=' -> x%=5 -> x = x % 5\n",
    "- '//=' -> x//=5 -> x = x // 5\n",
    "- '**=' -> x **=5 -> x = x ** 5\n"
   ]
  },
  {
   "cell_type": "code",
   "execution_count": 4,
   "id": "5a1a68fd-7588-4e6b-a9a7-ebb96a5435ef",
   "metadata": {},
   "outputs": [
    {
     "name": "stdout",
     "output_type": "stream",
     "text": [
      "21\n",
      "14\n",
      "7.0\n"
     ]
    }
   ],
   "source": [
    "x = 10\n",
    "y = 11\n",
    "z = 7\n",
    "x += y\n",
    "print(x) # x = x+y => 10+11 => x = 21\n",
    "x -= z\n",
    "print(x) # x = x-z => 21-7 => x = 14\n",
    "x /= 2\n",
    "print(x) # x = 14/2 = 7.0"
   ]
  },
  {
   "cell_type": "code",
   "execution_count": 5,
   "id": "ddb8b746-3d71-469a-aea6-5fc8d58ab6f1",
   "metadata": {},
   "outputs": [
    {
     "name": "stdout",
     "output_type": "stream",
     "text": [
      "49.0\n"
     ]
    }
   ],
   "source": [
    "x *= x\n",
    "print(x)"
   ]
  },
  {
   "cell_type": "code",
   "execution_count": 6,
   "id": "08a1d8b4-d448-46a4-bf9d-5c6207b712ea",
   "metadata": {},
   "outputs": [
    {
     "name": "stdout",
     "output_type": "stream",
     "text": [
      "5.0\n"
     ]
    }
   ],
   "source": [
    "x %= y # x = 49 % 11 = 5\n",
    "print(x)"
   ]
  },
  {
   "cell_type": "code",
   "execution_count": 7,
   "id": "97f63677-53eb-4ef5-925b-6a407eae0990",
   "metadata": {},
   "outputs": [
    {
     "name": "stdout",
     "output_type": "stream",
     "text": [
      "0.0\n"
     ]
    }
   ],
   "source": [
    "x //= z\n",
    "print(x) # x = 5.0 // 7 => 0"
   ]
  },
  {
   "cell_type": "code",
   "execution_count": 8,
   "id": "e29cbce0-5056-4e70-98bb-dfe5584391ae",
   "metadata": {},
   "outputs": [
    {
     "name": "stdout",
     "output_type": "stream",
     "text": [
      "1.0\n"
     ]
    }
   ],
   "source": [
    "y **= x # y = 11 ** 0 => 1\n",
    "print(y)"
   ]
  },
  {
   "cell_type": "code",
   "execution_count": 9,
   "id": "c7b5d5f8-3d7c-4c83-8d76-e8df651f629f",
   "metadata": {},
   "outputs": [
    {
     "name": "stdout",
     "output_type": "stream",
     "text": [
      "8.0\n"
     ]
    }
   ],
   "source": [
    "z += y # 7 + 1.0 => 8.0\n",
    "print(z) # 8.0"
   ]
  },
  {
   "cell_type": "markdown",
   "id": "2d303df7-515b-4566-8c56-b3ace25c856c",
   "metadata": {},
   "source": [
    "#### Membership Operators:\n",
    "- Its Returns Boolean Value\n",
    "- 'in' -> True if the value is in the sequences\n",
    "- 'not  in' -> True if the value is not in the sequence"
   ]
  },
  {
   "cell_type": "code",
   "execution_count": 10,
   "id": "607ef44f-d5b6-46e3-96a5-de0c4a413a28",
   "metadata": {},
   "outputs": [
    {
     "name": "stdout",
     "output_type": "stream",
     "text": [
      "True\n",
      "True\n"
     ]
    }
   ],
   "source": [
    "print('hello' in 'hello world')\n",
    "print('hello' not in 'hellz world')"
   ]
  },
  {
   "cell_type": "code",
   "execution_count": 11,
   "id": "c79b2d8a-508a-4aa2-99a1-8cc3ae85b232",
   "metadata": {},
   "outputs": [
    {
     "name": "stdout",
     "output_type": "stream",
     "text": [
      "True\n",
      "True\n"
     ]
    }
   ],
   "source": [
    "print('I' in 'India')\n",
    "print('I' not in 'America')"
   ]
  },
  {
   "cell_type": "code",
   "execution_count": 12,
   "id": "b54b051d-c31d-4090-869a-5ca0fa3d88b5",
   "metadata": {},
   "outputs": [
    {
     "name": "stdout",
     "output_type": "stream",
     "text": [
      "False\n",
      "True\n"
     ]
    }
   ],
   "source": [
    "print('mon' in ['Mon','Tue','Wed','Thurs','Fri','Sat','Sun'])\n",
    "print('mon' not in ['Mon','Tue','Wed','Thurs','Fri','Sat','Sun'])"
   ]
  },
  {
   "cell_type": "code",
   "execution_count": 14,
   "id": "756af13a-480a-422a-a0f9-c318780e11f2",
   "metadata": {},
   "outputs": [
    {
     "name": "stdout",
     "output_type": "stream",
     "text": [
      "True\n",
      "False\n"
     ]
    }
   ],
   "source": [
    "print('mon' in {'mon' : 'Mon', 'tue':'Tues'})\n",
    "print('Mon' in {'mon' : 'Mon', 'tue':'Tues'})"
   ]
  },
  {
   "cell_type": "code",
   "execution_count": 15,
   "id": "a3664ba9-5891-46b6-b614-eb6279284796",
   "metadata": {},
   "outputs": [
    {
     "name": "stdout",
     "output_type": "stream",
     "text": [
      "1\n"
     ]
    }
   ],
   "source": [
    "x = int(True)\n",
    "print(x)"
   ]
  },
  {
   "cell_type": "code",
   "execution_count": 16,
   "id": "6e3fd8ef-40b0-4184-b52e-643be172645d",
   "metadata": {},
   "outputs": [
    {
     "name": "stdout",
     "output_type": "stream",
     "text": [
      "0\n"
     ]
    }
   ],
   "source": [
    "y = int(False)\n",
    "print(y)"
   ]
  },
  {
   "cell_type": "markdown",
   "id": "85579378-8028-4494-b33b-0d5a80717f6c",
   "metadata": {},
   "source": [
    "#### Identity Operators\n",
    "- 'is' -> Returns True if both the variables refers to the same object (having same memory address)\n",
    "- 'is not' -> Returns True if both the variables refers to the different objects (different memory address) "
   ]
  },
  {
   "cell_type": "code",
   "execution_count": 17,
   "id": "2f507db0-28c7-4b51-bb98-260691b7b186",
   "metadata": {},
   "outputs": [
    {
     "name": "stdout",
     "output_type": "stream",
     "text": [
      "True\n",
      "True\n",
      "True\n",
      "False\n"
     ]
    }
   ],
   "source": [
    "# '==' comparison operator (data equality)\n",
    "# 'is' compares the identities (object equality)\n",
    "a = [1,2,3]\n",
    "b = a\n",
    "c = [1,2,3]\n",
    "print(a == b) # True (same content)\n",
    "print(a is b) # True (same object in memory)\n",
    "\n",
    "print(a == c) # True (same content)\n",
    "print(a is c) # False (different objects in memory)"
   ]
  },
  {
   "cell_type": "code",
   "execution_count": 18,
   "id": "7d63f869-5f57-46eb-923c-dbc20006a34a",
   "metadata": {},
   "outputs": [
    {
     "name": "stdout",
     "output_type": "stream",
     "text": [
      "True\n"
     ]
    }
   ],
   "source": [
    "print(a is not c)"
   ]
  },
  {
   "cell_type": "code",
   "execution_count": 19,
   "id": "777d3c9a-d108-4caa-a074-626411c1844e",
   "metadata": {},
   "outputs": [
    {
     "name": "stdout",
     "output_type": "stream",
     "text": [
      "True\n",
      "True\n",
      "False\n",
      "False\n"
     ]
    }
   ],
   "source": [
    "# '==' comparison operator (data equality)\n",
    "# 'is' compares the identities (object equality)\n",
    "a = [1,2,3]\n",
    "b = a\n",
    "c = ['a',2,3]\n",
    "print(a == b) # True (same content)\n",
    "print(b is a) # True (same object in memory)\n",
    "\n",
    "print(a == c) # False (same content)\n",
    "print(a is c) # False (different objects in memory)"
   ]
  },
  {
   "cell_type": "code",
   "execution_count": 20,
   "id": "5af880f8-447a-41d2-814c-a8a625c87717",
   "metadata": {},
   "outputs": [
    {
     "name": "stdout",
     "output_type": "stream",
     "text": [
      "2375515348800\n",
      "2375515348800\n",
      "2375515347072\n"
     ]
    }
   ],
   "source": [
    "print(id(a))\n",
    "print(id(b))\n",
    "print(id(c))"
   ]
  },
  {
   "cell_type": "markdown",
   "id": "776afa9c-55e6-4af7-83b9-caba8702d704",
   "metadata": {},
   "source": [
    "## Order of Operations (PEMDAS / BODMAS):\n",
    "1. () Parentheses\n",
    "2. ** Exponent\n",
    "3. '*' '/' '//' '%' Mulitplication, Division\n",
    "4. '+' '-' Addition, Subtraction\n",
    "5. Bitwise Operations\n",
    "6. Comparisons\n",
    "7. Identity / Membership\n",
    "8. not > and > or (Logical Operators)"
   ]
  },
  {
   "cell_type": "code",
   "execution_count": 23,
   "id": "4f88bbef-ec24-4954-896a-12cd5f23c672",
   "metadata": {},
   "outputs": [
    {
     "name": "stdout",
     "output_type": "stream",
     "text": [
      "110\n",
      "-50\n",
      "True\n"
     ]
    }
   ],
   "source": [
    "cond1 = (10*3)+((10<<3)*(10%3)) # 30 + (80 * 1) = 110\n",
    "cond2 = (5**2)*((3//2)-(10%7)) # (25) * (1 - 3) => 25 * -2 = -50\n",
    "_bool = cond1 > cond2 # 110 > -50.0 # True\n",
    "print(cond1)\n",
    "print(cond2)\n",
    "print(_bool)"
   ]
  },
  {
   "cell_type": "code",
   "execution_count": 24,
   "id": "b1f45bc4-93d4-497a-b150-85733259782d",
   "metadata": {},
   "outputs": [
    {
     "name": "stdout",
     "output_type": "stream",
     "text": [
      "False\n",
      "True\n",
      "140710664419160\n",
      "2375497281584\n"
     ]
    }
   ],
   "source": [
    "print(cond1 is cond2) # False\n",
    "print(cond1 is not cond2) # True\n",
    "print(id(cond1)) # Memory Address\n",
    "print(id(cond2)) # Memory Address"
   ]
  },
  {
   "cell_type": "code",
   "execution_count": 25,
   "id": "38d04ba0-17b9-4958-a37b-d02d568eff9a",
   "metadata": {},
   "outputs": [
    {
     "name": "stdout",
     "output_type": "stream",
     "text": [
      "False\n"
     ]
    }
   ],
   "source": [
    "print(((5 + 3 * 2) * 2 // 5 % 4 << 1 | 3) & 15 > 10 and not (8 >> 2 == 2) or (7 ^ 3 != 4))"
   ]
  },
  {
   "cell_type": "code",
   "execution_count": 28,
   "id": "eb8ae78f-f4d7-4925-82ad-5dfc1fd2399a",
   "metadata": {},
   "outputs": [
    {
     "name": "stdout",
     "output_type": "stream",
     "text": [
      "(3, 4)\n"
     ]
    }
   ],
   "source": [
    "# Built in Functions\n",
    "result = divmod(19,5)\n",
    "print(result) # tuple(q,r) -> 'q' means quotient & 'r' means remainder"
   ]
  },
  {
   "cell_type": "code",
   "execution_count": 32,
   "id": "cc642ec3-ffb0-4ea0-8a90-1da81edba84c",
   "metadata": {},
   "outputs": [
    {
     "name": "stdout",
     "output_type": "stream",
     "text": [
      "19.46\n"
     ]
    }
   ],
   "source": [
    "print(round(19.4562,2))"
   ]
  },
  {
   "cell_type": "code",
   "execution_count": 34,
   "id": "0bb42c38-5b7e-4ebf-963e-cd98f498f1d3",
   "metadata": {},
   "outputs": [],
   "source": [
    "# Strings :\n",
    "# Indexing & Slicings\n",
    "# In Python Indexing starts from zero '0'\n",
    "# slicings [start : stop : step]"
   ]
  },
  {
   "cell_type": "code",
   "execution_count": 35,
   "id": "c9e94c78-c4e2-4104-887b-abd406f9bfcf",
   "metadata": {},
   "outputs": [
    {
     "name": "stdout",
     "output_type": "stream",
     "text": [
      "C\n",
      "g\n",
      " \n",
      "a\n",
      "N\n"
     ]
    }
   ],
   "source": [
    "# Indexing [position] -> positive 'l to r' / negative 'r to l'\n",
    "_str = \"Coding Ninja\"\n",
    "print(_str[0]) # 'C'\n",
    "print(_str[5]) # 'g'\n",
    "print(_str[6]) # ' '\n",
    "print(_str[-1]) # 'a'\n",
    "print(_str[-5]) # 'N'"
   ]
  },
  {
   "cell_type": "code",
   "execution_count": 36,
   "id": "7c0e42a2-3ea0-4fe6-ae0b-2b95b752756e",
   "metadata": {},
   "outputs": [
    {
     "name": "stdout",
     "output_type": "stream",
     "text": [
      "n\n",
      "o\n"
     ]
    }
   ],
   "source": [
    "print(_str[9]) # 'n'\n",
    "print(_str[-11]) # '0'"
   ]
  },
  {
   "cell_type": "raw",
   "id": "06041093-c4c8-42ef-b420-590a20989025",
   "metadata": {},
   "source": [
    "print(_str[15]) # IndexError: string index out of range"
   ]
  },
  {
   "cell_type": "code",
   "execution_count": 42,
   "id": "72bec0fc-848c-43f6-b34b-ecff9da6a364",
   "metadata": {},
   "outputs": [
    {
     "name": "stdout",
     "output_type": "stream",
     "text": [
      "Coding\n",
      "Ninja\n",
      "Cdn ij\n",
      "Ci n\n",
      "Coding Ninja\n"
     ]
    }
   ],
   "source": [
    "# Slicing [start [0] : stop [last char] , step [1]]\n",
    "_str = \"Coding Ninja\"\n",
    "print(_str[:6]) # 'Coding'\n",
    "print(_str[7:]) # 'Ninja'\n",
    "print(_str[0:12:2]) # 'Cdn ij'\n",
    "print(_str[0:12:3]) # 'Ci n'\n",
    "print(_str[:]) # 'Coding Ninja'"
   ]
  },
  {
   "cell_type": "code",
   "execution_count": 46,
   "id": "c855b52b-df07-44c4-9510-cc0c789354c9",
   "metadata": {},
   "outputs": [
    {
     "name": "stdout",
     "output_type": "stream",
     "text": [
      "a\n",
      "Cdn ij\n",
      "Coding Ninja\n"
     ]
    }
   ],
   "source": [
    "print(_str[11]) # 'a'\n",
    "print(_str[0:15:2]) # 'Cdn ij'\n",
    "print(_str[0:20]) # 'Coding Ninja'"
   ]
  },
  {
   "cell_type": "code",
   "execution_count": 47,
   "id": "6cf3dc02-7cf9-49ed-8368-bc763c8c9ab7",
   "metadata": {},
   "outputs": [
    {
     "name": "stdout",
     "output_type": "stream",
     "text": [
      "Ninja\n",
      "ajniN gnidoC\n"
     ]
    }
   ],
   "source": [
    "print(_str[-5:]) # 'Ninja'\n",
    "print(_str[::-1]) #reverse the string"
   ]
  },
  {
   "cell_type": "code",
   "execution_count": 48,
   "id": "d9208b66-c4f3-4013-99d7-278b283b4fbf",
   "metadata": {},
   "outputs": [
    {
     "name": "stdout",
     "output_type": "stream",
     "text": [
      "\n"
     ]
    }
   ],
   "source": [
    "print(_str[-3:0]) # ''"
   ]
  },
  {
   "cell_type": "code",
   "execution_count": 49,
   "id": "925bccfa-daeb-4a38-a166-0a6ca70cf46f",
   "metadata": {},
   "outputs": [
    {
     "name": "stdout",
     "output_type": "stream",
     "text": [
      "\n"
     ]
    }
   ],
   "source": [
    "print(_str[0:0]) # ''"
   ]
  },
  {
   "cell_type": "code",
   "execution_count": 50,
   "id": "51964cc2-8244-4d19-9636-daa33e6d401f",
   "metadata": {},
   "outputs": [
    {
     "name": "stdout",
     "output_type": "stream",
     "text": [
      "niN gnido\n"
     ]
    }
   ],
   "source": [
    "print(_str[-3:0:-1]) # 'niN gnido'"
   ]
  },
  {
   "cell_type": "code",
   "execution_count": 2,
   "id": "05614697-d0ce-4317-b1ec-92c803b14f0a",
   "metadata": {},
   "outputs": [
    {
     "name": "stdout",
     "output_type": "stream",
     "text": [
      "19\n"
     ]
    }
   ],
   "source": [
    "# String Case Methods\n",
    "_str = 'Python is Awesome 🔥'\n",
    "print(len(_str))"
   ]
  },
  {
   "cell_type": "code",
   "execution_count": 3,
   "id": "45d1507d-e18b-43e0-9454-55d6b1c59df7",
   "metadata": {},
   "outputs": [
    {
     "name": "stdout",
     "output_type": "stream",
     "text": [
      "PYTHON IS AWESOME 🔥\n"
     ]
    }
   ],
   "source": [
    "print(_str.upper())"
   ]
  },
  {
   "cell_type": "code",
   "execution_count": 4,
   "id": "e957e56c-eb83-4aa9-9afe-51b9f44bc4a1",
   "metadata": {},
   "outputs": [
    {
     "name": "stdout",
     "output_type": "stream",
     "text": [
      "python is awesome 🔥\n"
     ]
    }
   ],
   "source": [
    "print(_str.lower())"
   ]
  },
  {
   "cell_type": "code",
   "execution_count": 8,
   "id": "1de0174e-cbbb-4f98-bc8b-4918cf384f54",
   "metadata": {},
   "outputs": [
    {
     "name": "stdout",
     "output_type": "stream",
     "text": [
      "Python Is Awesome 🔥\n"
     ]
    }
   ],
   "source": [
    "print(_str.title()) # Convert the first letter of each word to uppercase and the rest to lowercase"
   ]
  },
  {
   "cell_type": "code",
   "execution_count": 9,
   "id": "07a3d288-82d0-4bd3-bab0-413cc33c64da",
   "metadata": {},
   "outputs": [
    {
     "name": "stdout",
     "output_type": "stream",
     "text": [
      "Python is awesome 🔥\n"
     ]
    }
   ],
   "source": [
    "print(_str.capitalize()) # Convert the first letter of whole sentence to uppercase and rest to lower"
   ]
  },
  {
   "cell_type": "code",
   "execution_count": 11,
   "id": "6fd3ba82-ed75-45b4-a066-51586f5c6eeb",
   "metadata": {},
   "outputs": [
    {
     "name": "stdout",
     "output_type": "stream",
     "text": [
      "Coding Ninjas\n"
     ]
    }
   ],
   "source": [
    "# String Operations\n",
    "str1 = 'Coding'\n",
    "str2 = 'Ninjas'\n",
    "new_string = str1 + ' ' + str2 # Concatenation\n",
    "print(new_string)"
   ]
  },
  {
   "cell_type": "code",
   "execution_count": 12,
   "id": "7dfcde08-c19f-44b5-962e-45812028a10a",
   "metadata": {},
   "outputs": [
    {
     "name": "stdout",
     "output_type": "stream",
     "text": [
      "Hi, Aditya, You are 29 year old.\n"
     ]
    }
   ],
   "source": [
    "name = 'Aditya'\n",
    "age = 29\n",
    "print(f'Hi, {name}, You are {age} year old.')"
   ]
  },
  {
   "cell_type": "code",
   "execution_count": 15,
   "id": "98348aa8-84cd-49a5-9350-74913b6ca39f",
   "metadata": {},
   "outputs": [
    {
     "name": "stdout",
     "output_type": "stream",
     "text": [
      "HiAditya, You are 29 year old.\n"
     ]
    }
   ],
   "source": [
    "# TypeError: can only concatenate str (not \"int\") to str\n",
    "name = 'Aditya'\n",
    "age = 29\n",
    "print('Hi' + name + ', You are ' + str(age) + ' year old.')"
   ]
  },
  {
   "cell_type": "code",
   "execution_count": 16,
   "id": "0103682d-39ff-4cd6-90e5-d960a9af01d6",
   "metadata": {},
   "outputs": [
    {
     "name": "stdout",
     "output_type": "stream",
     "text": [
      "<class 'int'>\n"
     ]
    }
   ],
   "source": [
    "print(type(age))"
   ]
  },
  {
   "cell_type": "code",
   "execution_count": 19,
   "id": "b8f1e2ee-d923-4192-89be-7472a259fdca",
   "metadata": {},
   "outputs": [
    {
     "name": "stdout",
     "output_type": "stream",
     "text": [
      "Ninjas\n",
      "Ninjas\n",
      "Ninjas\n",
      "\n"
     ]
    }
   ],
   "source": [
    "# Repeat (*)\n",
    "_echo = 'Ninjas\\n'\n",
    "print(_echo * 3)"
   ]
  },
  {
   "cell_type": "code",
   "execution_count": 20,
   "id": "1c769a50-8185-46bb-a847-ad1efc9b92e0",
   "metadata": {},
   "outputs": [
    {
     "name": "stdout",
     "output_type": "stream",
     "text": [
      "False\n",
      "True\n",
      "True\n",
      "False\n"
     ]
    }
   ],
   "source": [
    "# String Comparison\n",
    "_str1 = 'Python'\n",
    "_str2 = 'Java'\n",
    "print(_str1 == _str2) # False\n",
    "print(_str1 != _str2) # True\n",
    "print(_str1 >= _str2) # True\n",
    "print(_str1 <= _str2) # False"
   ]
  },
  {
   "cell_type": "code",
   "execution_count": 22,
   "id": "3dcf4082-a23d-4528-826a-5a5b3225a588",
   "metadata": {},
   "outputs": [
    {
     "name": "stdout",
     "output_type": "stream",
     "text": [
      "False\n",
      "True\n",
      "False\n",
      "True\n"
     ]
    }
   ],
   "source": [
    "_str1 = 'Swim'\n",
    "_str2 = 'Swimming'\n",
    "print(_str1 == _str2) # False\n",
    "print(_str1 != _str2) # True\n",
    "print(_str1 >= _str2) # False\n",
    "print(_str1 <= _str2) # True"
   ]
  },
  {
   "cell_type": "code",
   "execution_count": 23,
   "id": "5641cfb5-5437-45fc-a55e-c68e6cc4af37",
   "metadata": {},
   "outputs": [
    {
     "name": "stdout",
     "output_type": "stream",
     "text": [
      "False\n",
      "True\n",
      "True\n",
      "False\n"
     ]
    }
   ],
   "source": [
    "_str1 = 'coding'\n",
    "_str2 = 'Coding'\n",
    "print(_str1 == _str2) # False\n",
    "print(_str1 != _str2) # True\n",
    "print(_str1 >= _str2) # True\n",
    "print(_str1 <= _str2) # False"
   ]
  },
  {
   "cell_type": "code",
   "execution_count": 24,
   "id": "0546bd84-72ce-4207-90ac-836ea3affe0f",
   "metadata": {},
   "outputs": [
    {
     "name": "stdout",
     "output_type": "stream",
     "text": [
      "False\n",
      "True\n",
      "True\n",
      "False\n"
     ]
    }
   ],
   "source": [
    "_str1 = 'coding'\n",
    "_str2 = 'Zodiac'\n",
    "print(_str1 == _str2) # False\n",
    "print(_str1 != _str2) # True\n",
    "print(_str1 >= _str2) # True\n",
    "print(_str1 <= _str2) # False"
   ]
  },
  {
   "cell_type": "code",
   "execution_count": 25,
   "id": "a1cee084-ce8f-47a4-b695-bc4ace5773ae",
   "metadata": {},
   "outputs": [
    {
     "name": "stdout",
     "output_type": "stream",
     "text": [
      "False\n",
      "True\n",
      "True\n",
      "False\n"
     ]
    }
   ],
   "source": [
    "_str1 = 'cODING'\n",
    "_str2 = 'Coding'\n",
    "print(_str1 == _str2) # False\n",
    "print(_str1 != _str2) # True\n",
    "print(_str1 >= _str2) # True\n",
    "print(_str1 <= _str2) # False"
   ]
  },
  {
   "cell_type": "code",
   "execution_count": 26,
   "id": "0d55f110-12bf-41a5-bc64-beb963f66883",
   "metadata": {},
   "outputs": [
    {
     "name": "stdout",
     "output_type": "stream",
     "text": [
      "False\n",
      "True\n",
      "True\n",
      "False\n"
     ]
    }
   ],
   "source": [
    "_str1 = 'swim'\n",
    "_str2 = 'Swimming'\n",
    "print(_str1 == _str2) # False\n",
    "print(_str1 != _str2) # True\n",
    "print(_str1 >= _str2) # True\n",
    "print(_str1 <= _str2) # False"
   ]
  },
  {
   "cell_type": "raw",
   "id": "c74c0c85-3158-487f-8a2f-2723ccbef51c",
   "metadata": {},
   "source": [
    "'s' > 'S' [small character having greater ASCII Values > 'S' having low ASCII Value]\n",
    "length also plays an important role if the previous characters going to tie."
   ]
  },
  {
   "cell_type": "code",
   "execution_count": 27,
   "id": "8dfc5a71-5f64-4e84-9355-80eb7c9dea64",
   "metadata": {},
   "outputs": [
    {
     "name": "stdout",
     "output_type": "stream",
     "text": [
      "Python is Fantastic!\n"
     ]
    }
   ],
   "source": [
    "# Common String Methods\n",
    "# replace\n",
    "_str = 'Python is Awesome!'\n",
    "new_str = _str.replace('Awesome', 'Fantastic')\n",
    "print(new_str)"
   ]
  },
  {
   "cell_type": "code",
   "execution_count": 28,
   "id": "e0f659bb-f106-4641-85ab-055c1db1ee46",
   "metadata": {},
   "outputs": [
    {
     "name": "stdout",
     "output_type": "stream",
     "text": [
      "Python is Awesome!\n"
     ]
    }
   ],
   "source": [
    "print(_str)"
   ]
  },
  {
   "cell_type": "code",
   "execution_count": 29,
   "id": "27ce704c-b967-40ca-ac08-ae31bf6415a8",
   "metadata": {},
   "outputs": [
    {
     "name": "stdout",
     "output_type": "stream",
     "text": [
      "PythOn is AwesOme!\n"
     ]
    }
   ],
   "source": [
    "_str = 'Python is Awesome!'\n",
    "new_str = _str.replace('o','O')\n",
    "print(new_str)"
   ]
  },
  {
   "cell_type": "code",
   "execution_count": 30,
   "id": "720af06d-b3a7-425e-8a11-1704e0eb1cd6",
   "metadata": {},
   "outputs": [
    {
     "name": "stdout",
     "output_type": "stream",
     "text": [
      "['Indore', 'MadhyaPradesh', 'India']\n"
     ]
    }
   ],
   "source": [
    "# split()\n",
    "_text = 'Indore@MadhyaPradesh@India'\n",
    "print(_text.split('@'))"
   ]
  },
  {
   "cell_type": "code",
   "execution_count": 32,
   "id": "4b469b18-ea05-4263-bdf9-995effbff686",
   "metadata": {},
   "outputs": [
    {
     "name": "stdout",
     "output_type": "stream",
     "text": [
      "['SQL', 'Python', 'Excel', 'PowerBI']\n"
     ]
    }
   ],
   "source": [
    "topics = 'SQL*Python*Excel*PowerBI'\n",
    "topic_list = topics.split('*')\n",
    "print(topic_list)"
   ]
  },
  {
   "cell_type": "code",
   "execution_count": 41,
   "id": "73b115af-6166-477d-a826-6db5c0370f73",
   "metadata": {},
   "outputs": [
    {
     "data": {
      "text/plain": [
       "'Python'"
      ]
     },
     "execution_count": 41,
     "metadata": {},
     "output_type": "execute_result"
    }
   ],
   "source": [
    "topic_list[1]"
   ]
  },
  {
   "cell_type": "code",
   "execution_count": 44,
   "id": "6b38f5e9-f6a6-4c0e-bef6-62e0fd5cbad8",
   "metadata": {},
   "outputs": [
    {
     "name": "stdout",
     "output_type": "stream",
     "text": [
      "['ViratKohli', 'MSD', 'RohitSharma', 'Sachin']\n"
     ]
    }
   ],
   "source": [
    "split_str = \"ViratKohli MSD RohitSharma Sachin\"\n",
    "print(split_str.split())"
   ]
  },
  {
   "cell_type": "code",
   "execution_count": 45,
   "id": "05a34cd8-270a-4b22-a453-fcdb8d2b69b0",
   "metadata": {},
   "outputs": [
    {
     "name": "stdout",
     "output_type": "stream",
     "text": [
      "['http:', '', 'localhost:8889', 'notebooks', 'anaconda_projects', 'CN-Python-TTS', 'PythonSession.ipynb?']\n"
     ]
    }
   ],
   "source": [
    "file_path = \"http://localhost:8889/notebooks/anaconda_projects/CN-Python-TTS/PythonSession.ipynb?\"\n",
    "path_list = file_path.split('/')\n",
    "print(path_list)"
   ]
  },
  {
   "cell_type": "code",
   "execution_count": 49,
   "id": "e6aae3b0-748b-41d2-ae82-0d5bf9653afc",
   "metadata": {},
   "outputs": [
    {
     "name": "stdout",
     "output_type": "stream",
     "text": [
      "Hi, Jasaswini.... You are 27 years old. Congratulation! You are Female!\n"
     ]
    }
   ],
   "source": [
    "# String Format -> .format() / f-string\n",
    "name = 'Jasaswini'\n",
    "age = 27\n",
    "gender = 'Female'\n",
    "print('Hi, {}.... You are {} years old. Congratulation! You are {}!'.format(name,age,gender))"
   ]
  },
  {
   "cell_type": "code",
   "execution_count": 50,
   "id": "03bb85a0-dab8-4d08-a5df-712fc96dcfb1",
   "metadata": {},
   "outputs": [
    {
     "name": "stdout",
     "output_type": "stream",
     "text": [
      "Hi, Jasaswini.... You are 27 years old. Congratulation! You are Female!\n"
     ]
    }
   ],
   "source": [
    "# String Format -> .format() / f-string\n",
    "name = 'Jasaswini'\n",
    "age = 27\n",
    "gender = 'Female'\n",
    "print(f'Hi, {name}.... You are {age} years old. Congratulation! You are {gender}!')"
   ]
  },
  {
   "cell_type": "code",
   "execution_count": 51,
   "id": "f46fc7e4-ef39-44b4-a5f0-811bba5ce42b",
   "metadata": {},
   "outputs": [
    {
     "name": "stdout",
     "output_type": "stream",
     "text": [
      "Python Programming\n"
     ]
    }
   ],
   "source": [
    "# Strip() -> same like trim \n",
    "print('    Python Programming      '.strip())"
   ]
  },
  {
   "cell_type": "code",
   "execution_count": 52,
   "id": "c81380c2-cc03-4174-bc5a-72d4705dd332",
   "metadata": {},
   "outputs": [
    {
     "name": "stdout",
     "output_type": "stream",
     "text": [
      "Python Programming\n"
     ]
    }
   ],
   "source": [
    "# Strip() -> same like trim \n",
    "print('******Python Programming*******'.strip('*'))"
   ]
  },
  {
   "cell_type": "code",
   "execution_count": 53,
   "id": "f8519426-c584-4b2c-b803-cb36af647516",
   "metadata": {},
   "outputs": [
    {
     "name": "stdout",
     "output_type": "stream",
     "text": [
      "Python Programming\n"
     ]
    }
   ],
   "source": [
    "# Strip() -> same like trim \n",
    "print('******Python Programming'.strip('*'))"
   ]
  },
  {
   "cell_type": "code",
   "execution_count": 54,
   "id": "6ca4937f-99a1-4730-9bbd-d65b67da2ac5",
   "metadata": {},
   "outputs": [
    {
     "name": "stdout",
     "output_type": "stream",
     "text": [
      "Python Programming\n"
     ]
    }
   ],
   "source": [
    "# Strip() -> same like trim \n",
    "print('Python Programming********'.strip('*'))"
   ]
  },
  {
   "cell_type": "code",
   "execution_count": 55,
   "id": "3616f921-8f70-4d2a-bbbf-cae8ab04fa42",
   "metadata": {},
   "outputs": [
    {
     "name": "stdout",
     "output_type": "stream",
     "text": [
      "Python Programming\n"
     ]
    }
   ],
   "source": [
    "# Strip() -> same like trim \n",
    "print('$$$$$$$Python Programming********'.strip('*').strip('$'))"
   ]
  },
  {
   "cell_type": "code",
   "execution_count": 59,
   "id": "0644a45a-c251-4c3c-b809-306b4405c3f2",
   "metadata": {},
   "outputs": [
    {
     "name": "stdout",
     "output_type": "stream",
     "text": [
      "Python Programming\n"
     ]
    }
   ],
   "source": [
    "# Strip() -> same like trim \n",
    "print('$$$$$$$Python Programming********'.strip('*$'))"
   ]
  },
  {
   "cell_type": "code",
   "execution_count": 56,
   "id": "1f33e054-b4d4-45b2-a7ae-fb58b58bd6e9",
   "metadata": {},
   "outputs": [
    {
     "name": "stdout",
     "output_type": "stream",
     "text": [
      "2\n"
     ]
    }
   ],
   "source": [
    "# index() -> position \n",
    "_str = \"This is a Python Course!\"\n",
    "print(_str.index('is'))"
   ]
  },
  {
   "cell_type": "code",
   "execution_count": 62,
   "id": "9768b4be-0dac-4d1e-a02d-8c333490ee17",
   "metadata": {},
   "outputs": [
    {
     "name": "stdout",
     "output_type": "stream",
     "text": [
      "10\n"
     ]
    }
   ],
   "source": [
    "# index() -> position \n",
    "_str = \"This is a Python Course!\"\n",
    "# print(_str.index('python')) # ValueError: substring not found\n",
    "print(_str.index('Python')) "
   ]
  },
  {
   "cell_type": "code",
   "execution_count": 63,
   "id": "b8a7ae8e-25da-41e7-9b1b-f035febb7c2a",
   "metadata": {},
   "outputs": [
    {
     "name": "stdout",
     "output_type": "stream",
     "text": [
      "5\n",
      "5\n"
     ]
    }
   ],
   "source": [
    "# index() -> position \n",
    "_str = \"This is a Python Course!\"\n",
    "print(_str.index('is',3,10)) # index(substr,start,stop)\n",
    "print(_str.index('is',3)) # index(substr,start,stop)"
   ]
  },
  {
   "cell_type": "raw",
   "id": "cb3e1926-5b3c-47cf-a965-53874fb94bdd",
   "metadata": {},
   "source": [
    "index(substr, start = 0, stop = 'len(text)')"
   ]
  },
  {
   "cell_type": "code",
   "execution_count": 64,
   "id": "ab78413c-ad47-4307-bf53-562a9bbc6790",
   "metadata": {},
   "outputs": [
    {
     "name": "stdout",
     "output_type": "stream",
     "text": [
      "True\n",
      "False\n",
      "True\n",
      "False\n",
      "True\n",
      "True\n",
      "True\n",
      "False\n",
      "False\n",
      "mENTORSHIP pROGRAM!77\n"
     ]
    }
   ],
   "source": [
    "# String Checks() -> Returns Boolean Result\n",
    "print(\"CodingNinjas\".isalpha()) # True\n",
    "print(\"Ninja99\".isalpha()) # False\n",
    "print(\"Ninja99\".isalnum()) # True\n",
    "print(\"CodingNinja\".isupper()) # False\n",
    "print(\"CODING\".isupper()) # True\n",
    "print(\"coding\".islower()) # True\n",
    "print(\"123456789\".isnumeric()) # True\n",
    "print(\"coding123\".isnumeric()) # False\n",
    "print(\"coding123\".isnumeric()) # False\n",
    "print('Mentorship Program!77'.swapcase()) # lower -> upper & upper -> lower "
   ]
  },
  {
   "cell_type": "code",
   "execution_count": 65,
   "id": "4b3219c1-b4fe-489d-867d-6859e7380e9e",
   "metadata": {},
   "outputs": [
    {
     "name": "stdout",
     "output_type": "stream",
     "text": [
      "False\n",
      "True\n",
      "False\n",
      "False\n",
      "True\n",
      "True\n"
     ]
    }
   ],
   "source": [
    "# startswith (Boolean Return)\n",
    "_str = 'Hey, Welcome to the World of Programming!'\n",
    "print(_str.startswith('hey')) # False\n",
    "print(_str.startswith('Hey')) # True\n",
    "print(_str.startswith('Hello')) # False\n",
    "print(_str.startswith('Hi')) # False\n",
    "print(_str.startswith('H')) # True\n",
    "print(_str.startswith('Welcome',5)) # True"
   ]
  },
  {
   "cell_type": "code",
   "execution_count": 68,
   "id": "9c0d2c8c-8e06-4bca-a28d-b590c5e91532",
   "metadata": {},
   "outputs": [
    {
     "name": "stdout",
     "output_type": "stream",
     "text": [
      "False\n",
      "False\n",
      "True\n",
      "True\n",
      "True\n",
      "True\n",
      "True\n",
      "False\n"
     ]
    }
   ],
   "source": [
    "# endswith (Boolean Return)\n",
    "_str = 'Hey, Welcome to the World of Programming!'\n",
    "print(_str.endswith('hey')) # False\n",
    "print(_str.endswith('Program')) # False\n",
    "print(_str.endswith('Programming!')) # True\n",
    "print(_str.endswith('!')) # True\n",
    "print(_str.endswith('g!')) # True\n",
    "print(_str.endswith('ing!',-4)) # True\n",
    "print(_str.endswith('ing!')) # True\n",
    "print(_str.endswith('ing!',-3)) # False"
   ]
  },
  {
   "cell_type": "code",
   "execution_count": 69,
   "id": "8cbfcab2-5af8-4678-875f-31fd340cad01",
   "metadata": {},
   "outputs": [
    {
     "name": "stdout",
     "output_type": "stream",
     "text": [
      "2\n"
     ]
    }
   ],
   "source": [
    "# .count() -> 'substring' -> count the substring\n",
    "_str = \"This is a Python Course!\"\n",
    "print(_str.count('is'))"
   ]
  },
  {
   "cell_type": "code",
   "execution_count": 70,
   "id": "eaf4707a-e94a-4a60-b12a-0a37c87b6bcb",
   "metadata": {},
   "outputs": [
    {
     "name": "stdout",
     "output_type": "stream",
     "text": [
      "True\n"
     ]
    }
   ],
   "source": [
    "print('is' in _str)"
   ]
  },
  {
   "cell_type": "markdown",
   "id": "aef0f5c8-1a13-45da-aeff-858ab1dd2ef7",
   "metadata": {},
   "source": [
    "# What is a Data Structure?\n",
    "#### A data structure is simply a way to organize and store data in memory, so that we can use it efficiently.\n",
    "\n",
    "## Why do we need to use them?\n",
    "1. Organizations : Keep the data neat and easy to find.\n",
    "2. Efficiency - Helps to perform operations (insert, delete, search) quickly.\n",
    "3. Memory Management - Savas space, avoid waste.\n",
    "4. Flexibility - Can store all sorts of data (number, text, etc.)\n",
    "5. Abstraction - Hides the complex details, we just call simple operations\n",
    "6. Scalability - Good Data Structure lets our program handle more data without slowing down."
   ]
  },
  {
   "cell_type": "markdown",
   "id": "88e8e4a1-8ca6-4b71-82ae-05b2bddaab36",
   "metadata": {},
   "source": [
    "# Lists in Python:\n",
    "#### A List is :\n",
    "1. An ordered collection (items have a fixed position).\n",
    "2. mutable (can be changed after creation).\n",
    "3. Allows Duplicates.\n",
    "4. Lists are also flexible -> they can store different data types together like integers, string, booleans, etc.\n",
    "\n",
    "## Why use lists?\n",
    "- To keep a group of related items togethers in a specific order.\n",
    "- To easily add, remove, change, or access the elements.\n",
    "- To perform the task like sorting, or summing values."
   ]
  },
  {
   "cell_type": "code",
   "execution_count": 2,
   "id": "aab171b0-c53f-4406-b4fd-76541ed5e8b0",
   "metadata": {},
   "outputs": [
    {
     "name": "stdout",
     "output_type": "stream",
     "text": [
      "[]\n",
      "<class 'list'>\n"
     ]
    }
   ],
   "source": [
    "_list = []\n",
    "print(_list)\n",
    "print(type(_list))"
   ]
  },
  {
   "cell_type": "code",
   "execution_count": 3,
   "id": "71891a06-cff5-4893-997d-9eaf9fd589fc",
   "metadata": {},
   "outputs": [
    {
     "name": "stdout",
     "output_type": "stream",
     "text": [
      "[1, 2, 3, 4, 5]\n"
     ]
    }
   ],
   "source": [
    "_list = [1,2,3,4,5] # integer _list\n",
    "print(_list)"
   ]
  },
  {
   "cell_type": "code",
   "execution_count": 4,
   "id": "9cc8188b-9cd2-46a2-8724-819ae5f0b3c1",
   "metadata": {},
   "outputs": [
    {
     "name": "stdout",
     "output_type": "stream",
     "text": [
      "[1, 2.9, False, 'coding', 'k']\n"
     ]
    }
   ],
   "source": [
    "_list = [1,2.9,False,'coding','k'] # mixed _list\n",
    "print(_list)"
   ]
  },
  {
   "cell_type": "code",
   "execution_count": 8,
   "id": "8e1630a8-faa0-429b-9f57-a484f6888d26",
   "metadata": {},
   "outputs": [
    {
     "name": "stdout",
     "output_type": "stream",
     "text": [
      "['India', 'America', 'Russia', 'China', 'Canada', 'Japan', 'Vietnam', 'Sri-Lanka', 'Japan', 'France', 'India', 'Singapore', 'Australia', 'China', 'New Zealand', 'Finland']\n",
      "<class 'list'>\n"
     ]
    }
   ],
   "source": [
    "# Duplicate elements are allowed in List\n",
    "country_list = ['India','America','Russia','China','Canada','Japan','Vietnam',\n",
    "                'Sri-Lanka','Japan','France','India','Singapore','Australia',\n",
    "                'China','New Zealand','Finland']\n",
    "print(country_list)\n",
    "print(type(country_list))"
   ]
  },
  {
   "cell_type": "code",
   "execution_count": 10,
   "id": "bb80b59d-54af-4423-91be-cbadfa6c172a",
   "metadata": {},
   "outputs": [
    {
     "name": "stdout",
     "output_type": "stream",
     "text": [
      "['India', 'America', 'Russia', 'China', 'Canada', 'Japan', 'Vietnam', 'Sri-Lanka', 'Japan', 'France', 'India', 'Singapore', 'Australia', 'China', 'New Zealand', 'Finland']\n",
      "<class 'list'>\n"
     ]
    }
   ],
   "source": [
    "# list() constructor\n",
    "country_list = list(('India','America','Russia','China','Canada','Japan','Vietnam','Sri-Lanka',\n",
    "                     'Japan','France','India','Singapore','Australia','China','New Zealand','Finland'))\n",
    "print(country_list)\n",
    "print(type(country_list))"
   ]
  },
  {
   "cell_type": "code",
   "execution_count": 15,
   "id": "1c826c76-6312-490a-a3c3-535fb0ce4a41",
   "metadata": {},
   "outputs": [
    {
     "name": "stdout",
     "output_type": "stream",
     "text": [
      "['C', 'o', 'd', 'i', 'n', 'g']\n",
      "<class 'list'>\n"
     ]
    }
   ],
   "source": [
    "_list = list(\"Coding\")\n",
    "print(_list)\n",
    "print(type(_list))"
   ]
  },
  {
   "cell_type": "code",
   "execution_count": 16,
   "id": "1c127521-3ee8-4a1a-bb39-5231c051e222",
   "metadata": {},
   "outputs": [
    {
     "name": "stdout",
     "output_type": "stream",
     "text": [
      "['Coding']\n",
      "<class 'list'>\n"
     ]
    }
   ],
   "source": [
    "_list = list((\"Coding\",))\n",
    "print(_list)\n",
    "print(type(_list))"
   ]
  },
  {
   "cell_type": "code",
   "execution_count": 19,
   "id": "923802bd-09ff-4c3f-85a2-0fa9a63d1a1a",
   "metadata": {},
   "outputs": [
    {
     "name": "stdout",
     "output_type": "stream",
     "text": [
      "['Coding']\n",
      "<class 'list'>\n"
     ]
    }
   ],
   "source": [
    "_list = list([\"Coding\"])\n",
    "print(_list)\n",
    "print(type(_list))"
   ]
  },
  {
   "cell_type": "code",
   "execution_count": 17,
   "id": "00d60d72-64f6-4f44-8c0d-74e83749a1cc",
   "metadata": {},
   "outputs": [
    {
     "name": "stdout",
     "output_type": "stream",
     "text": [
      "<class 'str'>\n"
     ]
    }
   ],
   "source": [
    "val = ('Python')\n",
    "print(type(val))"
   ]
  },
  {
   "cell_type": "code",
   "execution_count": 18,
   "id": "4e7f9065-853d-4651-bfa8-16fa52fb03ce",
   "metadata": {},
   "outputs": [
    {
     "name": "stdout",
     "output_type": "stream",
     "text": [
      "<class 'tuple'>\n"
     ]
    }
   ],
   "source": [
    "val = ('Python',)\n",
    "print(type(val))"
   ]
  },
  {
   "cell_type": "code",
   "execution_count": 22,
   "id": "f38a7e53-ac85-46f9-9bb1-658128dfbce6",
   "metadata": {},
   "outputs": [
    {
     "name": "stdout",
     "output_type": "stream",
     "text": [
      "[111, 'Coding', [11, 22, 33, 44, 55], 'Python', ['a', 'b', 'c', 'd', 'e'], True]\n",
      "111\n",
      "[11, 22, 33, 44, 55]\n",
      "22\n",
      "e\n"
     ]
    }
   ],
   "source": [
    "# Nested List -> A List inside a List\n",
    "nested_list = [\n",
    "    111,\n",
    "    'Coding',\n",
    "    [11,22,33,44,55],\n",
    "    'Python',\n",
    "    ['a','b','c','d','e'],\n",
    "    True\n",
    "]\n",
    "print(nested_list)\n",
    "print(nested_list[0]) # 111\n",
    "print(nested_list[2]) # [11,22,33,44,55]\n",
    "print(nested_list[2][1]) # 22\n",
    "print(nested_list[4][-1]) # 'e'"
   ]
  },
  {
   "cell_type": "code",
   "execution_count": 24,
   "id": "2deae4ed-6bd0-4f35-bc1a-7392accc33e1",
   "metadata": {},
   "outputs": [
    {
     "name": "stdout",
     "output_type": "stream",
     "text": [
      "India\n",
      "Japan\n",
      "Australia\n",
      "Finland\n",
      "Finland\n",
      "France\n"
     ]
    }
   ],
   "source": [
    "# Indexing & Slicing \n",
    "country_list = list(('India','America','Russia','China','Canada','Japan','Vietnam','Sri-Lanka','Japan',\n",
    "                     'France','India','Singapore','Australia','China','New Zealand','Finland'))\n",
    "print(country_list[0]) # 'India'\n",
    "print(country_list[5]) # 'Japan'\n",
    "print(country_list[-4]) # 'Australia'\n",
    "print(country_list[15]) # 'Finland'\n",
    "print(country_list[-1]) # 'Finland'\n",
    "print(country_list[-7]) # 'France'\n",
    "# print(country_list[-17]) # IndexError: list index out of range\n",
    "# print(country_list[17]) # 'Index Error'"
   ]
  },
  {
   "cell_type": "raw",
   "id": "c0e363a3-ec4d-44ef-8b8e-9ef0e09ef768",
   "metadata": {},
   "source": [
    "# Slicing if applied on a string means taking the substring of a string \n",
    "# Slicing on List means cutting down the list to sublist.\n",
    "# Slicing [start:0, stop: length of a list [exclude], step = 1]"
   ]
  },
  {
   "cell_type": "code",
   "execution_count": 25,
   "id": "d782d3d2-5238-484b-8ff3-98e093d341ca",
   "metadata": {},
   "outputs": [
    {
     "name": "stdout",
     "output_type": "stream",
     "text": [
      "['India', 'America', 'Russia', 'China', 'Canada', 'Japan', 'Vietnam', 'Sri-Lanka', 'Japan', 'France', 'India', 'Singapore', 'Australia', 'China', 'New Zealand', 'Finland']\n",
      "['Russia', 'China', 'Canada']\n",
      "['France', 'India', 'Singapore', 'Australia', 'China', 'New Zealand', 'Finland']\n",
      "['Singapore', 'Australia', 'China', 'New Zealand', 'Finland']\n",
      "[]\n",
      "['Sri-Lanka', 'Vietnam', 'Japan', 'Canada', 'China']\n",
      "['Australia', 'China']\n"
     ]
    }
   ],
   "source": [
    "country_list = list(('India','America','Russia','China','Canada','Japan','Vietnam','Sri-Lanka','Japan',\n",
    "                     'France','India','Singapore','Australia','China','New Zealand','Finland'))\n",
    "print(country_list[::]) # [Full List]\n",
    "print(country_list[2:5]) # ['Russia','China','Canada']\n",
    "print(country_list[9:]) # ['France','India','Singapore','Australia','China','New Zealand','Finland']\n",
    "print(country_list[-5:]) #  ['Singapore','Australia','China','New Zealand','Finland']\n",
    "print(country_list[-9:2]) #  []\n",
    "print(country_list[-9:2:-1]) #  ['Sri-Lanka','Vietnam','Japan','Canada','China']\n",
    "print(country_list[-4:-2]) #  ['Australia','China']"
   ]
  },
  {
   "cell_type": "code",
   "execution_count": 28,
   "id": "d0292184-8eb1-4728-8516-a0cb7b168828",
   "metadata": {},
   "outputs": [
    {
     "name": "stdout",
     "output_type": "stream",
     "text": [
      "['Sri-Lanka', 'Japan', 'China']\n",
      "['Sri-Lanka', 'Canada']\n",
      "['Sri-Lanka', 'China']\n",
      "['Sri-Lanka', 'Japan', 'France', 'India', 'Singapore', 'Australia', 'China']\n"
     ]
    }
   ],
   "source": [
    "country_list = list(('India','America','Russia','China','Canada','Japan','Vietnam','Sri-Lanka','Japan',\n",
    "                     'France','India','Singapore','Australia','China','New Zealand','Finland'))\n",
    "print(country_list[-9:2:-2]) # ['Sri-Lanka','Japan','China']\n",
    "print(country_list[-9:2:-3]) # ['Sri-Lanka','Canada']\n",
    "print(country_list[-9:2:-4]) # ['Sri-Lanka','China']\n",
    "print(country_list[-9:-2]) # ['Sri-Lanka','Japan','France','India','Singapore','Australia','China','New Zealand']"
   ]
  },
  {
   "cell_type": "code",
   "execution_count": 29,
   "id": "6147eca1-d772-4443-9d14-9e9edf3e8197",
   "metadata": {},
   "outputs": [
    {
     "name": "stdout",
     "output_type": "stream",
     "text": [
      "['Sri-Lanka', 'Japan', 'France', 'India', 'Singapore']\n"
     ]
    }
   ],
   "source": [
    "print(country_list[-9:12]) #  ['Sri-Lanka','Japan','France','India','Singapore']"
   ]
  },
  {
   "cell_type": "code",
   "execution_count": 32,
   "id": "f9a23dc5-69e1-486b-ac36-e0c96bbe7186",
   "metadata": {},
   "outputs": [
    {
     "name": "stdout",
     "output_type": "stream",
     "text": [
      "['Sri-Lanka', 'Vietnam', 'Japan', 'Canada', 'China']\n",
      "['Sri-Lanka', 'France']\n"
     ]
    }
   ],
   "source": [
    "print(country_list[-9:2:-1])\n",
    "print(country_list[-9:-5:2])"
   ]
  },
  {
   "cell_type": "code",
   "execution_count": 33,
   "id": "52acf2b5-3a2b-4d99-ab82-072ed5331402",
   "metadata": {},
   "outputs": [
    {
     "name": "stdout",
     "output_type": "stream",
     "text": [
      "16\n"
     ]
    }
   ],
   "source": [
    "# Basic List Operations: \n",
    "# len() -> returning the length of a list or number of elements present in a list\n",
    "print(len(country_list))"
   ]
  },
  {
   "cell_type": "code",
   "execution_count": 40,
   "id": "45fafad8-34f0-4dbe-ad1f-e6d410671660",
   "metadata": {},
   "outputs": [
    {
     "name": "stdout",
     "output_type": "stream",
     "text": [
      "10\n",
      "11\n",
      "110\n",
      "605\n"
     ]
    }
   ],
   "source": [
    "# min(),max(),sum()\n",
    "_num_list = [11,22,33,44,55,66,77,88,99,110]\n",
    "print(len(_num_list)) # 10\n",
    "print(min(_num_list)) # 11\n",
    "print(max(_num_list)) # 110\n",
    "print(sum(_num_list)) # sum of all elements"
   ]
  },
  {
   "cell_type": "code",
   "execution_count": 41,
   "id": "bee980bb-51b2-4c46-8453-89322bb9e9fa",
   "metadata": {},
   "outputs": [
    {
     "name": "stdout",
     "output_type": "stream",
     "text": [
      "12\n",
      "False\n",
      "110\n",
      "606\n"
     ]
    }
   ],
   "source": [
    "_num_list = [11,22,33,44,55,66,77,88,99,110,False,True] # False -> 0 , True = 1\n",
    "print(len(_num_list)) # 12\n",
    "print(min(_num_list)) # 0 [False]\n",
    "print(max(_num_list)) # 110 \n",
    "print(sum(_num_list)) # sum of all elements + 1 [True] [605 + 1] = 606"
   ]
  },
  {
   "cell_type": "code",
   "execution_count": 36,
   "id": "220ece98-5e03-46d6-b3b3-f6e0ca859678",
   "metadata": {},
   "outputs": [
    {
     "name": "stdout",
     "output_type": "stream",
     "text": [
      "0\n"
     ]
    }
   ],
   "source": [
    "print(int(False))"
   ]
  },
  {
   "cell_type": "code",
   "execution_count": 37,
   "id": "94ab29b3-5686-4195-9859-f0561acfa9a0",
   "metadata": {},
   "outputs": [
    {
     "name": "stdout",
     "output_type": "stream",
     "text": [
      "1\n"
     ]
    }
   ],
   "source": [
    "print(int(True))"
   ]
  },
  {
   "cell_type": "code",
   "execution_count": 39,
   "id": "f5334efe-9061-4b8d-bd97-b30ff8ebbd37",
   "metadata": {},
   "outputs": [
    {
     "name": "stdout",
     "output_type": "stream",
     "text": [
      "America\n",
      "Vietnam\n"
     ]
    }
   ],
   "source": [
    "country_list = list(('India','America','Russia','China','Canada','Japan','Vietnam','Sri-Lanka','Japan',\n",
    "                     'France','India','Singapore','Australia','China','New Zealand','Finland'))\n",
    "print(min(country_list)) # 'America'\n",
    "print(max(country_list)) # 'Vietnam'\n",
    "# print(sum(country_list)) # TypeError: unsupported operand type(s) for +: 'int' and 'str'"
   ]
  },
  {
   "cell_type": "code",
   "execution_count": 42,
   "id": "f46543ab-6747-4155-b073-2fec31af15bc",
   "metadata": {},
   "outputs": [
    {
     "name": "stdout",
     "output_type": "stream",
     "text": [
      "America\n",
      "india\n"
     ]
    }
   ],
   "source": [
    "# ASCII plays an important role in finding the min and max respect to characters\n",
    "country_list = list(('india','America','Russia','China','Canada','Japan','Vietnam','Sri-Lanka','Japan',\n",
    "                     'France','India','Singapore','Australia','China','New Zealand','Finland'))\n",
    "print(min(country_list)) # 'America'\n",
    "print(max(country_list)) # 'india'"
   ]
  },
  {
   "cell_type": "code",
   "execution_count": 46,
   "id": "658eadfe-c43d-481f-8973-fbd0daa4932b",
   "metadata": {},
   "outputs": [
    {
     "name": "stdout",
     "output_type": "stream",
     "text": [
      "['India', 'America', 'Russia', 'China', 'Canada', 'Japan', 'Vietnam', 'Sri-Lanka', 'Japan', 'France', 'India', 'Singapore', 'Australia', 'Spain', 'New Zealand', 'Finland']\n"
     ]
    }
   ],
   "source": [
    "# List are mutables [means we can change the list content]\n",
    "country_list = list(('India','America','Russia','China','Canada','Japan','Vietnam','Sri-Lanka','Japan',\n",
    "                     'France','India','Singapore','Australia','China','New Zealand','Finland'))\n",
    "country_list[-3] = 'Spain' # 'china' -> 'Spain'\n",
    "print(country_list)"
   ]
  },
  {
   "cell_type": "code",
   "execution_count": 47,
   "id": "65208c7d-9188-4ece-b52e-f345164b467f",
   "metadata": {},
   "outputs": [
    {
     "name": "stdout",
     "output_type": "stream",
     "text": [
      "['India', 'America', 'Russia', 'China', 'Canada', 'Japan', 'Vietnam', 'Sri-Lanka', 'France', 'Singapore', 'Australia', 'Spain', 'New Zealand', 'Finland']\n"
     ]
    }
   ],
   "source": [
    "country_list[8:11] = ['France'] # ['Japan','France','India'] -> ['France']\n",
    "print(country_list)"
   ]
  },
  {
   "cell_type": "raw",
   "id": "768a134a-8d01-4e7c-ae16-5288d055991c",
   "metadata": {},
   "source": [
    "('France') # String\n",
    "('France',) # tuple\n",
    "['France'] # list"
   ]
  },
  {
   "cell_type": "code",
   "execution_count": 50,
   "id": "56b99075-00cf-4afd-af02-2e3215b8fe16",
   "metadata": {},
   "outputs": [
    {
     "name": "stdout",
     "output_type": "stream",
     "text": [
      "['a', 'b', 'c', 'd', False, 'a', 'b', 'c', 'd', False, 'a', 'b', 'c', 'd', False]\n",
      "15\n"
     ]
    }
   ],
   "source": [
    "# Repeating a content of a list -> '*'\n",
    "char_list = ['a','b','c','d',False]\n",
    "print(char_list * 3)\n",
    "print(len(char_list * 3))"
   ]
  },
  {
   "cell_type": "markdown",
   "id": "f86014c9-e54a-44c6-ae8a-12b417b3d59f",
   "metadata": {},
   "source": [
    "#### Adding items in a List:\n",
    "1. .append() -> Add one item at the end\n",
    "2. .extend() -> Adds all items from another lists\n",
    "3. .insert() -> Insert an item at specific index"
   ]
  },
  {
   "cell_type": "code",
   "execution_count": 56,
   "id": "dc68020f-d757-48df-85c5-2b239c4b5ef8",
   "metadata": {},
   "outputs": [
    {
     "name": "stdout",
     "output_type": "stream",
     "text": [
      "['India', 'America', 'Russia', 'China', 'Canada', 'Japan', 'Vietnam', 'Sri-Lanka', 'France', 'Singapore', 'Australia', 'Spain', 'New Zealand', 'Finland', 'Nepal']\n"
     ]
    }
   ],
   "source": [
    "country_list = ['India', 'America', 'Russia', 'China', 'Canada', 'Japan', \n",
    "                'Vietnam', 'Sri-Lanka', 'France', 'Singapore', 'Australia', \n",
    "                'Spain', 'New Zealand', 'Finland']\n",
    "country_list.append('Nepal')\n",
    "print(country_list)"
   ]
  },
  {
   "cell_type": "code",
   "execution_count": 57,
   "id": "35d65784-70fc-4bff-9fe1-8a72fc903128",
   "metadata": {},
   "outputs": [
    {
     "name": "stdout",
     "output_type": "stream",
     "text": [
      "['India', 'America', 'Russia', 'China', 'Canada', 'Japan', 'Vietnam', 'Sri-Lanka', 'France', 'Singapore', 'Australia', 'Spain', 'New Zealand', 'Finland', 'Nepal', 'South Africa', 'UAE', 'Iran', 'Thailand', 'Afghanistan', 'Myanmar', 'Maldives']\n"
     ]
    }
   ],
   "source": [
    "new_country_list = ['South Africa', 'UAE', 'Iran', 'Thailand', 'Afghanistan', 'Myanmar', 'Maldives']\n",
    "country_list.extend(new_country_list)\n",
    "print(country_list)"
   ]
  },
  {
   "cell_type": "code",
   "execution_count": 58,
   "id": "07762bb9-da0f-4965-b5b1-0eb801efab66",
   "metadata": {},
   "outputs": [
    {
     "name": "stdout",
     "output_type": "stream",
     "text": [
      "['India', 'America', 'Russia', 'Qatar', 'China', 'Canada', 'Japan', 'Vietnam', 'Sri-Lanka', 'France', 'Singapore', 'Australia', 'Spain', 'New Zealand', 'Finland', 'Nepal', 'South Africa', 'UAE', 'Iran', 'Thailand', 'Afghanistan', 'Myanmar', 'Maldives']\n"
     ]
    }
   ],
   "source": [
    "country_list.insert(3,'Qatar') # insert(pos,val)\n",
    "print(country_list)"
   ]
  },
  {
   "cell_type": "code",
   "execution_count": 59,
   "id": "e2f7fd1d-f5d7-45ba-bb7e-bbc979efdc78",
   "metadata": {},
   "outputs": [
    {
     "name": "stdout",
     "output_type": "stream",
     "text": [
      "['India', 'America', 'Russia', ['Bangladesh', 'Turkey'], 'Qatar', 'China', 'Canada', 'Japan', 'Vietnam', 'Sri-Lanka', 'France', 'Singapore', 'Australia', 'Spain', 'New Zealand', 'Finland', 'Nepal', 'South Africa', 'UAE', 'Iran', 'Thailand', 'Afghanistan', 'Myanmar', 'Maldives']\n"
     ]
    }
   ],
   "source": [
    "country_list.insert(3,['Bangladesh','Turkey']) # insert(pos,val)\n",
    "print(country_list)"
   ]
  },
  {
   "cell_type": "code",
   "execution_count": 61,
   "id": "f1573a37-65cf-4014-9713-053b666615db",
   "metadata": {},
   "outputs": [
    {
     "name": "stdout",
     "output_type": "stream",
     "text": [
      "['Mon', 'Tue', 'Wed', 'Thurs', 'Fri', 'Sat', 'Sun']\n",
      "<class 'list'>\n"
     ]
    }
   ],
   "source": [
    "# Adding a list using '+' operator [Concatenation]\n",
    "weekday_list = ['Mon','Tue','Wed','Thurs','Fri']\n",
    "weekend_list = ['Sat','Sun']\n",
    "week_list = weekday_list + weekend_list\n",
    "print(week_list)\n",
    "print(type(week_list))"
   ]
  },
  {
   "cell_type": "code",
   "execution_count": 66,
   "id": "8bc5dc6d-2e65-4ab0-97ef-b2a0a634ad65",
   "metadata": {},
   "outputs": [
    {
     "name": "stdout",
     "output_type": "stream",
     "text": [
      "2\n",
      "9\n",
      "5\n",
      "1\n",
      "1\n"
     ]
    }
   ],
   "source": [
    "# Indexing in nested_list\n",
    "nested_list = [\n",
    "        [1,2,3,4,5],\n",
    "        [2,4,6,8,10],\n",
    "        [1,3,5,7,9]\n",
    "    ]\n",
    "print(nested_list[0][1]) #2\n",
    "print(nested_list[-1][-1]) # 9\n",
    "print(nested_list[2][-3]) # 5\n",
    "print(nested_list[-1][-5]) # 1\n",
    "print(nested_list[2][-5]) # 1"
   ]
  },
  {
   "cell_type": "code",
   "execution_count": 75,
   "id": "5191883d-646c-40de-bac1-1ab02405a50b",
   "metadata": {},
   "outputs": [
    {
     "name": "stdout",
     "output_type": "stream",
     "text": [
      "[[1, 2, 3, 4, 5], [2, 4, 6, 8, 10]]\n"
     ]
    }
   ],
   "source": [
    "nested_list = [\n",
    "        [1,2,3,4,5],\n",
    "        [2,4,6,8,10],\n",
    "        [1,3,5,7,9]\n",
    "    ]\n",
    "print(nested_list[0:2]) # 1st 2 list"
   ]
  },
  {
   "cell_type": "code",
   "execution_count": 76,
   "id": "af8e62ca-17c5-4116-a7f0-16015837debe",
   "metadata": {},
   "outputs": [
    {
     "name": "stdout",
     "output_type": "stream",
     "text": [
      "[[1, 3, 5, 7, 9], [2, 4, 6, 8, 10], [1, 2, 3, 4, 5]]\n"
     ]
    }
   ],
   "source": [
    "print(nested_list[::-1]) # rows reversed"
   ]
  },
  {
   "cell_type": "code",
   "execution_count": 81,
   "id": "09822ba0-90b8-4170-b0f1-d39cb5aa721e",
   "metadata": {},
   "outputs": [
    {
     "name": "stdout",
     "output_type": "stream",
     "text": [
      "[[1, 3, 5, 7, 9], [2, 4, 6, 8, 10]]\n"
     ]
    }
   ],
   "source": [
    "print(nested_list[::-1][0:2]) # 1st 2 rows of above cell [reversed rows]"
   ]
  },
  {
   "cell_type": "code",
   "execution_count": 82,
   "id": "4c64bc8a-a77d-4805-b223-849290f58942",
   "metadata": {},
   "outputs": [
    {
     "name": "stdout",
     "output_type": "stream",
     "text": [
      "[3, 5, 7]\n"
     ]
    }
   ],
   "source": [
    "print(nested_list[-1][1:4])"
   ]
  },
  {
   "cell_type": "code",
   "execution_count": 2,
   "id": "a13f9fb9-7d02-43f8-b12a-15fa01f3e4d3",
   "metadata": {},
   "outputs": [
    {
     "name": "stdout",
     "output_type": "stream",
     "text": [
      "False\n"
     ]
    }
   ],
   "source": [
    "# Comparison List \n",
    "_list1 = [1,2,3,4,5]\n",
    "_list2 = [1,2,3]\n",
    "result = (_list1 == _list2)\n",
    "print(result) # False"
   ]
  },
  {
   "cell_type": "code",
   "execution_count": 4,
   "id": "398fa634-f796-42b3-a751-4aed3d090070",
   "metadata": {},
   "outputs": [
    {
     "name": "stdout",
     "output_type": "stream",
     "text": [
      "True\n"
     ]
    }
   ],
   "source": [
    "_list1 = [1,2,3,4,5]\n",
    "_list2 = [1,2,3,4,5]\n",
    "result = (_list1 == _list2)\n",
    "print(result) # True"
   ]
  },
  {
   "cell_type": "code",
   "execution_count": 5,
   "id": "c8855969-12da-4670-b3bd-9c0e45e53d6c",
   "metadata": {},
   "outputs": [
    {
     "name": "stdout",
     "output_type": "stream",
     "text": [
      "True\n"
     ]
    }
   ],
   "source": [
    "_list1 = [1,2,3,4,5,6,7]\n",
    "_list2 = [1,2,3,4,5]\n",
    "result = (_list1 != _list2)\n",
    "print(result) # True"
   ]
  },
  {
   "cell_type": "code",
   "execution_count": 6,
   "id": "8610d2e2-987f-4b59-bcc4-da880e7b9c0c",
   "metadata": {},
   "outputs": [
    {
     "name": "stdout",
     "output_type": "stream",
     "text": [
      "True\n"
     ]
    }
   ],
   "source": [
    "_list1 = [1,2,3,4,5,6,7]\n",
    "_list2 = [1,2,3,4,5]\n",
    "result = (_list1 >= _list2)\n",
    "print(result) # True"
   ]
  },
  {
   "cell_type": "code",
   "execution_count": 7,
   "id": "cd9f300c-3606-4ab0-838e-542ce5811087",
   "metadata": {},
   "outputs": [
    {
     "name": "stdout",
     "output_type": "stream",
     "text": [
      "False\n"
     ]
    }
   ],
   "source": [
    "_list1 = [1,2,3,4,5,6,7]\n",
    "_list2 = [1,2,3,4,5]\n",
    "result = (_list1 <= _list2)\n",
    "print(result) # False"
   ]
  },
  {
   "cell_type": "code",
   "execution_count": 8,
   "id": "97e46d97-b427-4206-933d-cf4748b376ec",
   "metadata": {},
   "outputs": [
    {
     "name": "stdout",
     "output_type": "stream",
     "text": [
      "True\n"
     ]
    }
   ],
   "source": [
    "_list1 = [1,2,3,4,5]\n",
    "_list2 = ['1','2','3','4','5']\n",
    "result = (_list1 != _list2)\n",
    "print(result) # True"
   ]
  },
  {
   "cell_type": "raw",
   "id": "501154a5-38cb-4d8c-a83f-327206d378d9",
   "metadata": {},
   "source": [
    "_list1 = [1,2,3,4,5]\n",
    "_list2 = ['1','2','3','4','5']\n",
    "result = (_list1 <= _list2)\n",
    "print(result) # TypeError: '<=' not supported between instances of 'int' and 'str'"
   ]
  },
  {
   "cell_type": "code",
   "execution_count": 11,
   "id": "cc02ba25-2548-44af-a3c3-efa608afed66",
   "metadata": {},
   "outputs": [
    {
     "name": "stdout",
     "output_type": "stream",
     "text": [
      "True\n"
     ]
    }
   ],
   "source": [
    "_list1 = ['a','b','c']\n",
    "_list2 = ['1','2','3','4','5']\n",
    "result = (_list1 >= _list2) \n",
    "print(result) # True"
   ]
  },
  {
   "cell_type": "markdown",
   "id": "b34eb5bd-951e-4047-b1e0-9c952efef47e",
   "metadata": {},
   "source": [
    "## Removing items from list:\n",
    "1. remove -> Remove the first occurrence of a element\n",
    "2. pop -> Removes by index, returns value can be stored in a new variable\n",
    "3. del -> delete by index or slicing\n",
    "4. clear -> Empties the list"
   ]
  },
  {
   "cell_type": "code",
   "execution_count": 12,
   "id": "6f9e3909-9e83-4320-aa1c-55710b7229a1",
   "metadata": {},
   "outputs": [
    {
     "name": "stdout",
     "output_type": "stream",
     "text": [
      "['India', 'America', 'Russia', 'China', 'Canada', 'Japan', 'Vietnam', 'Sri-Lanka', 'France', 'Singapore', 'Australia', 'New Zealand', 'Finland']\n"
     ]
    }
   ],
   "source": [
    "country_list = ['India', 'America', 'Russia', 'China', 'Canada', 'Japan', \n",
    "                'Vietnam', 'Sri-Lanka', 'France', 'Singapore', 'Australia', \n",
    "                'Spain', 'New Zealand', 'Finland']\n",
    "country_list.remove('Spain')\n",
    "print(country_list)"
   ]
  },
  {
   "cell_type": "code",
   "execution_count": 13,
   "id": "99d4eb0b-b8da-4d35-9ad0-bc897fed9739",
   "metadata": {},
   "outputs": [
    {
     "name": "stdout",
     "output_type": "stream",
     "text": [
      "['India', 'America', 'Russia', 'China', 'Canada', 'Japan', 'Vietnam', 'Sri-Lanka', 'France', 'Singapore', 'Australia', 'New Zealand']\n"
     ]
    }
   ],
   "source": [
    "country_list.remove('Finland')\n",
    "print(country_list)"
   ]
  },
  {
   "cell_type": "raw",
   "id": "f6a0a69d-996f-4504-80fb-38be69b32859",
   "metadata": {},
   "source": [
    "country_list.remove('UAE') # country_list.remove('Finland')\n",
    "print(country_list)"
   ]
  },
  {
   "cell_type": "code",
   "execution_count": 14,
   "id": "a7f9eca8-c940-40f7-840c-d000b82f8fbc",
   "metadata": {},
   "outputs": [
    {
     "name": "stdout",
     "output_type": "stream",
     "text": [
      "['India', 'America', 'Russia', 'China', 'Canada', 'Japan', 'Vietnam', 'Sri-Lanka', 'France', 'Singapore', 'Australia', 'New Zealand', 'Spain']\n"
     ]
    }
   ],
   "source": [
    "country_list.append('Spain')\n",
    "print(country_list)"
   ]
  },
  {
   "cell_type": "code",
   "execution_count": 15,
   "id": "29f3f5b1-fcd7-4a23-883a-f8f7d9311127",
   "metadata": {},
   "outputs": [
    {
     "name": "stdout",
     "output_type": "stream",
     "text": [
      "Spain\n",
      "['India', 'America', 'Russia', 'China', 'Canada', 'Japan', 'Vietnam', 'Sri-Lanka', 'France', 'Singapore', 'Australia', 'New Zealand']\n"
     ]
    }
   ],
   "source": [
    "# While applying pop(idx), we can store the popped element in new_variable, which we can use it if required\n",
    "pop_country = country_list.pop(-1) # 'Spain'\n",
    "print(pop_country) # 'Spain'\n",
    "print(country_list)"
   ]
  },
  {
   "cell_type": "code",
   "execution_count": 16,
   "id": "eeeba1ed-5e27-4ef8-9110-2580fe3b7347",
   "metadata": {},
   "outputs": [
    {
     "name": "stdout",
     "output_type": "stream",
     "text": [
      "['India', 'America', 'Russia', 'Canada', 'Japan', 'Vietnam', 'Sri-Lanka', 'France', 'Singapore', 'Australia', 'New Zealand']\n"
     ]
    }
   ],
   "source": [
    "# del required a call of a list with specific index or slicing to delete an element or a list of elements\n",
    "del country_list[3] # 'China'\n",
    "print(country_list)"
   ]
  },
  {
   "cell_type": "code",
   "execution_count": 17,
   "id": "7799f5cc-8220-4efa-a34a-b407d74693d2",
   "metadata": {},
   "outputs": [
    {
     "name": "stdout",
     "output_type": "stream",
     "text": [
      "['India', 'America', 'Russia', 'Sri-Lanka', 'France', 'Singapore', 'Australia', 'New Zealand']\n"
     ]
    }
   ],
   "source": [
    "del country_list[3:6] # ['Canada','Japan','Vietnam']\n",
    "print(country_list)"
   ]
  },
  {
   "cell_type": "code",
   "execution_count": 19,
   "id": "b6989e25-7022-4394-8ae8-170a99bec41e",
   "metadata": {},
   "outputs": [
    {
     "name": "stdout",
     "output_type": "stream",
     "text": [
      "[]\n"
     ]
    }
   ],
   "source": [
    "# .clear() -> It will empty the original Lists\n",
    "country_list.clear()\n",
    "print(country_list)"
   ]
  },
  {
   "cell_type": "raw",
   "id": "e2ed6bfa-6053-4ab3-8935-038fa224dd63",
   "metadata": {},
   "source": [
    "country_list = ['India', 'America', 'Russia', 'China', 'Canada', 'Japan', \n",
    "                'Vietnam', 'Sri-Lanka', 'France', 'Singapore', 'Australia', \n",
    "                'Spain', 'New Zealand', 'Finland']\n",
    "del country_list -> Removes the complete list\n",
    "print(country_list) # NameError: name 'country_list' is not defined"
   ]
  },
  {
   "cell_type": "code",
   "execution_count": 23,
   "id": "8509bca8-4211-4404-bc09-378639a769cf",
   "metadata": {},
   "outputs": [],
   "source": [
    "# Sorting [Ascending] & Reverse() [::-1]\n",
    "country_list = ['India', 'America', 'Russia', 'China', 'Canada', 'Japan', \n",
    "                'Vietnam', 'Sri-Lanka', 'france', 'singapore', 'australia', \n",
    "                'Spain', 'New Zealand', 'Finland']\n",
    "country_list.sort()"
   ]
  },
  {
   "cell_type": "code",
   "execution_count": 24,
   "id": "18d8a660-ca6e-4cb1-a96c-7e3228bf405c",
   "metadata": {},
   "outputs": [
    {
     "name": "stdout",
     "output_type": "stream",
     "text": [
      "['America', 'Canada', 'China', 'Finland', 'India', 'Japan', 'New Zealand', 'Russia', 'Spain', 'Sri-Lanka', 'Vietnam', 'australia', 'france', 'singapore']\n"
     ]
    }
   ],
   "source": [
    "print(country_list)"
   ]
  },
  {
   "cell_type": "code",
   "execution_count": 39,
   "id": "db180392-4787-4956-8d21-c99d61c0aa1b",
   "metadata": {},
   "outputs": [
    {
     "name": "stdout",
     "output_type": "stream",
     "text": [
      "['singapore', 'france', 'australia', 'Vietnam', 'Sri-Lanka', 'Spain', 'Russia', 'New Zealand', 'Japan', 'India', 'Finland', 'China', 'Canada', 'America']\n"
     ]
    }
   ],
   "source": [
    "country_list = ['India', 'America', 'Russia', 'China', 'Canada', 'Japan', \n",
    "                'Vietnam', 'Sri-Lanka', 'france', 'singapore', 'australia', \n",
    "                'Spain', 'New Zealand', 'Finland']\n",
    "country_list.sort()\n",
    "print(country_list[::-1])"
   ]
  },
  {
   "cell_type": "code",
   "execution_count": 40,
   "id": "bc8dea36-6d0f-477a-a93b-f2d94b1543e7",
   "metadata": {},
   "outputs": [
    {
     "name": "stdout",
     "output_type": "stream",
     "text": [
      "['singapore', 'france', 'australia', 'Vietnam', 'Sri-Lanka', 'Spain', 'Russia', 'New Zealand', 'Japan', 'India', 'Finland', 'China', 'Canada', 'America']\n"
     ]
    }
   ],
   "source": [
    "country_list = ['India', 'America', 'Russia', 'China', 'Canada', 'Japan', \n",
    "                'Vietnam', 'Sri-Lanka', 'france', 'singapore', 'australia', \n",
    "                'Spain', 'New Zealand', 'Finland']\n",
    "country_list.sort(reverse = True)\n",
    "print(country_list)"
   ]
  },
  {
   "cell_type": "code",
   "execution_count": 31,
   "id": "02d213e9-af96-466c-ac18-e915bc25d4d2",
   "metadata": {},
   "outputs": [
    {
     "name": "stdout",
     "output_type": "stream",
     "text": [
      "['America', 'australia', 'Canada', 'China', 'Finland', 'france', 'India', 'Japan', 'New Zealand', 'Russia', 'singapore', 'Spain', 'Sri-Lanka', 'Vietnam']\n"
     ]
    }
   ],
   "source": [
    "country_list = ['India', 'America', 'Russia', 'China', 'Canada', 'Japan', \n",
    "                'Vietnam', 'Sri-Lanka', 'france', 'singapore', 'australia', \n",
    "                'Spain', 'New Zealand', 'Finland']\n",
    "country_list.sort(key = str.lower)\n",
    "print(country_list)"
   ]
  },
  {
   "cell_type": "code",
   "execution_count": 35,
   "id": "0346b82c-5dd1-44ae-a865-3183e48a161d",
   "metadata": {},
   "outputs": [
    {
     "name": "stdout",
     "output_type": "stream",
     "text": [
      "['America', 'america', 'australia', 'Canada', 'China', 'Finland', 'france', 'India', 'Japan', 'New Zealand', 'Russia', 'singapore', 'Spain', 'Sri-Lanka', 'Vietnam']\n"
     ]
    }
   ],
   "source": [
    "# If 'America' and 'america' then which one will come first?using str.lower\n",
    "country_list = ['India', 'America', 'Russia', 'China', 'Canada', 'Japan', \n",
    "                'Vietnam', 'Sri-Lanka', 'france', 'singapore', 'australia', \n",
    "                'Spain', 'New Zealand', 'Finland' , 'america']\n",
    "country_list.sort(key = str.lower)\n",
    "print(country_list)"
   ]
  },
  {
   "cell_type": "code",
   "execution_count": 27,
   "id": "da42879a-9a36-4743-973c-bc29ac08dbcb",
   "metadata": {},
   "outputs": [
    {
     "name": "stdout",
     "output_type": "stream",
     "text": [
      "['America', 'america', 'australia', 'Canada', 'China', 'Finland', 'france', 'India', 'Japan', 'New Zealand', 'Russia', 'singapore', 'Spain', 'Sri-Lanka', 'Vietnam']\n"
     ]
    }
   ],
   "source": [
    "# If 'America' and 'america' then which one will come first?using str.lower\n",
    "country_list = ['India', 'America', 'Russia', 'China', 'Canada', 'Japan', \n",
    "                'Vietnam', 'Sri-Lanka', 'france', 'singapore', 'australia', \n",
    "                'Spain', 'New Zealand', 'Finland' , 'america']\n",
    "country_list.sort(key = str.upper)\n",
    "print(country_list)"
   ]
  },
  {
   "cell_type": "code",
   "execution_count": 37,
   "id": "23fea681-07ce-4a0e-bfe8-5ef977030193",
   "metadata": {},
   "outputs": [
    {
     "name": "stdout",
     "output_type": "stream",
     "text": [
      "['Finland', 'New Zealand', 'Spain', 'australia', 'singapore', 'france', 'Sri-Lanka', 'Vietnam', 'Japan', 'Canada', 'China', 'Russia', 'America', 'India']\n"
     ]
    }
   ],
   "source": [
    "# .reverse() -> the original List\n",
    "country_list = ['India', 'America', 'Russia', 'China', 'Canada', 'Japan', \n",
    "                'Vietnam', 'Sri-Lanka', 'france', 'singapore', 'australia', \n",
    "                'Spain', 'New Zealand', 'Finland']\n",
    "country_list.reverse()\n",
    "print(country_list)"
   ]
  },
  {
   "cell_type": "code",
   "execution_count": 41,
   "id": "3ae01aee-4370-4f62-9b2e-ed2e3793ebe6",
   "metadata": {},
   "outputs": [
    {
     "name": "stdout",
     "output_type": "stream",
     "text": [
      "Python is an awesome programming language\n"
     ]
    }
   ],
   "source": [
    "# 'Joining' strings from a list\n",
    "word_list = ['Python', 'is', 'an' , 'awesome', 'programming', 'language']\n",
    "final_statement = ' '.join(word_list)\n",
    "print(final_statement)"
   ]
  },
  {
   "cell_type": "code",
   "execution_count": 42,
   "id": "93bf2dce-8d66-4183-ba74-5fcf06156dd8",
   "metadata": {},
   "outputs": [
    {
     "name": "stdout",
     "output_type": "stream",
     "text": [
      "Python Programming!\n"
     ]
    }
   ],
   "source": [
    "char_list = ['P','y','t','h','o','n',' ','P','r','o','g','r','a','m','m','i','n','g!']\n",
    "result = ''.join(char_list)\n",
    "print(result)"
   ]
  },
  {
   "cell_type": "code",
   "execution_count": 43,
   "id": "d04c1ac8-cda3-4018-aa98-8194387fb8f0",
   "metadata": {},
   "outputs": [
    {
     "name": "stdout",
     "output_type": "stream",
     "text": [
      "2\n"
     ]
    }
   ],
   "source": [
    "# Count() -> Calculating the occurrence of element in a list\n",
    "country_list = ['India', 'America', 'Russia', 'China', 'Canada', 'Japan', \n",
    "                'Vietnam', 'Sri-Lanka', 'france', 'singapore', 'australia', \n",
    "                'Spain', 'New Zealand', 'Finland' , 'India', 'Japan', 'America']\n",
    "count_india = country_list.count('India')\n",
    "print(count_india)"
   ]
  },
  {
   "cell_type": "code",
   "execution_count": 45,
   "id": "ec8001eb-0ca6-4e03-9192-d9aed3f82bc1",
   "metadata": {},
   "outputs": [
    {
     "name": "stdout",
     "output_type": "stream",
     "text": [
      "10\n",
      "7\n"
     ]
    }
   ],
   "source": [
    "num_list = [1,2,1,2,1,2,1,2,1,2,1,2,21,2,121,121,1,2,2,2,12,22,22]\n",
    "print(num_list.count(2))\n",
    "print(num_list.count(1))"
   ]
  },
  {
   "cell_type": "code",
   "execution_count": 46,
   "id": "0a5a51db-0e30-4bd6-99f0-4eaef2cec26c",
   "metadata": {},
   "outputs": [
    {
     "name": "stdout",
     "output_type": "stream",
     "text": [
      "2063808540032\n",
      "2063808535040\n"
     ]
    }
   ],
   "source": [
    "# Deep Copy [Same Memory] Vs Shallow Copy[Independent Memory]\n",
    "# .copy [Shallow Copy]\n",
    "country_list = ['India', 'America', 'Russia', 'China', 'Canada', 'Japan', \n",
    "                'Vietnam', 'Sri-Lanka', 'france', 'singapore', 'australia', \n",
    "                'Spain', 'New Zealand', 'Finland' , 'India', 'Japan', 'America']\n",
    "new_country_list = country_list.copy()\n",
    "print(id(country_list))\n",
    "print(id(new_country_list))"
   ]
  },
  {
   "cell_type": "code",
   "execution_count": 47,
   "id": "d57c84de-3c44-4f18-9d45-c908b07042e7",
   "metadata": {},
   "outputs": [
    {
     "name": "stdout",
     "output_type": "stream",
     "text": [
      "Country List :  ['India', 'America', 'Russia', 'China', 'Canada', 'Japan', 'Vietnam', 'Sri-Lanka', 'france', 'singapore', 'australia', 'Spain', 'New Zealand', 'Finland', 'India', 'Japan', 'America']\n",
      "New Country List :  ['India', 'America', 'Russia', 'China', 'Canada', 'Japan', 'Vietnam', 'Sri-Lanka', 'france', 'singapore', 'australia', 'Spain', 'New Zealand', 'Finland']\n"
     ]
    }
   ],
   "source": [
    "del new_country_list[-3:]\n",
    "print(\"Country List : \" , country_list)\n",
    "print(\"New Country List : \" , new_country_list)"
   ]
  },
  {
   "cell_type": "code",
   "execution_count": 48,
   "id": "fb63132e-80ff-4efb-a542-dc3f2eee5ef1",
   "metadata": {},
   "outputs": [
    {
     "name": "stdout",
     "output_type": "stream",
     "text": [
      "2063808535808\n",
      "2063808535808\n"
     ]
    }
   ],
   "source": [
    "# deep copy \n",
    "weekday_list = ['Mon','Tue','Wed','Thurs','Fri']\n",
    "weekend_list = ['Sat','Sun']\n",
    "week_list = weekday_list + weekend_list\n",
    "new_week_list = week_list # deep copy\n",
    "print(id(week_list))\n",
    "print(id(new_week_list))"
   ]
  },
  {
   "cell_type": "code",
   "execution_count": 49,
   "id": "e82219c4-65ef-4f24-b07c-931beb89a458",
   "metadata": {},
   "outputs": [
    {
     "name": "stdout",
     "output_type": "stream",
     "text": [
      "['Mon', 'Tue', 'Wed', 'Thurs', 'Fri', 'Sat', 'Sun']\n",
      "['Mon', 'Tue', 'Wed', 'Thurs', 'Fri', 'Sat', 'Sun']\n"
     ]
    }
   ],
   "source": [
    "# Before\n",
    "print(week_list)\n",
    "print(new_week_list)"
   ]
  },
  {
   "cell_type": "code",
   "execution_count": 50,
   "id": "34cf44d4-58b8-415d-b685-a528e2dbc3e4",
   "metadata": {},
   "outputs": [
    {
     "name": "stdout",
     "output_type": "stream",
     "text": [
      "['Mon', 'Tue', 'Wed', 'Thurs']\n",
      "['Mon', 'Tue', 'Wed', 'Thurs']\n"
     ]
    }
   ],
   "source": [
    "# After\n",
    "del new_week_list[-3:] # removing 'Fri','Sat','Sun'\n",
    "print(week_list)\n",
    "print(new_week_list)"
   ]
  },
  {
   "cell_type": "code",
   "execution_count": 51,
   "id": "aa4d9c3c-a3aa-445f-ac63-61ec972b8f3d",
   "metadata": {},
   "outputs": [
    {
     "name": "stdout",
     "output_type": "stream",
     "text": [
      "2063808426816\n",
      "2063808425984\n"
     ]
    }
   ],
   "source": [
    "# Using slicing [:] (Shallow Copy)\n",
    "country_list = ['India', 'America', 'Russia', 'China', 'Canada', 'Japan', \n",
    "                'Vietnam', 'Sri-Lanka', 'france', 'singapore', 'australia', \n",
    "                'Spain', 'New Zealand', 'Finland' , 'India', 'Japan', 'America']\n",
    "new_country_list = country_list[:]\n",
    "print(id(country_list))\n",
    "print(id(new_country_list))"
   ]
  },
  {
   "cell_type": "code",
   "execution_count": 52,
   "id": "b7cdf45a-85d9-4a68-9438-d6e9572cd80e",
   "metadata": {},
   "outputs": [
    {
     "name": "stdout",
     "output_type": "stream",
     "text": [
      "2063808542400\n",
      "2063808438912\n"
     ]
    }
   ],
   "source": [
    "# Using list() constructor (Shallow Copy)\n",
    "country_list = ['India', 'America', 'Russia', 'China', 'Canada', 'Japan', \n",
    "                'Vietnam', 'Sri-Lanka', 'france', 'singapore', 'australia', \n",
    "                'Spain', 'New Zealand', 'Finland' , 'India', 'Japan', 'America']\n",
    "new_country_list = list(country_list)\n",
    "print(id(country_list))\n",
    "print(id(new_country_list))"
   ]
  },
  {
   "cell_type": "code",
   "execution_count": 57,
   "id": "e7a5734d-9894-46fc-a465-ead87c092179",
   "metadata": {},
   "outputs": [
    {
     "name": "stdout",
     "output_type": "stream",
     "text": [
      "0\n",
      "5\n",
      "1\n",
      "14\n",
      "15\n",
      "16\n"
     ]
    }
   ],
   "source": [
    "# Index() -> Its a method to find the position of a first occurrence of a specified value in a list.\n",
    "country_list = ['India', 'America', 'Russia', 'China', 'Canada', 'Japan', \n",
    "                'Vietnam', 'Sri-Lanka', 'france', 'singapore', 'australia', \n",
    "                'Spain', 'New Zealand', 'Finland' , 'India', 'Japan', 'America']\n",
    "print(country_list.index('India'))\n",
    "print(country_list.index('Japan'))\n",
    "print(country_list.index('America'))\n",
    "print(country_list.index('India',1)) # Provide the 2nd occurrence\n",
    "print(country_list.index('Japan',7))\n",
    "print(country_list.index('America',3))\n",
    "# print(country_list.index('North Korea')) # ValueError: 'North Korea' is not in list"
   ]
  },
  {
   "cell_type": "code",
   "execution_count": 59,
   "id": "e19ee900-3cc2-4c89-93c2-0f526b315b78",
   "metadata": {},
   "outputs": [
    {
     "name": "stdout",
     "output_type": "stream",
     "text": [
      "[1, 4, 9, 16, 25]\n"
     ]
    }
   ],
   "source": [
    "# List Comprehensions\n",
    "squared = [i**2 for i in range(1,6)] # for i in range(1,6) -> [1,2,3,4,5]\n",
    "print(squared)"
   ]
  },
  {
   "cell_type": "markdown",
   "id": "1dcbdf33-5b66-419a-81ba-e652f2550ccf",
   "metadata": {},
   "source": [
    "# What exactly is a Tuple?\n",
    "- Ordered Collection (items maintains its positions)\n",
    "- It can store different data types togethers\n",
    "- But the only Big Difference here is : Immutability (Once Created, their elements can't be changed , added to, or removed.)"
   ]
  },
  {
   "cell_type": "code",
   "execution_count": 60,
   "id": "d8a54291-be2f-46e5-b932-dd89ebc284ae",
   "metadata": {},
   "outputs": [
    {
     "name": "stdout",
     "output_type": "stream",
     "text": [
      "<class 'tuple'>\n"
     ]
    }
   ],
   "source": [
    "_tuple = ()\n",
    "print(type(_tuple))"
   ]
  },
  {
   "cell_type": "code",
   "execution_count": 61,
   "id": "1c1c7b31-df5b-449e-894a-5a5ea4ae2fcd",
   "metadata": {},
   "outputs": [
    {
     "name": "stdout",
     "output_type": "stream",
     "text": [
      "(1, 2, '3', '4', False, True, 29.99, 'k')\n"
     ]
    }
   ],
   "source": [
    "_tuple = (1,2,'3','4',False,True,29.99,'k')\n",
    "print(_tuple)"
   ]
  },
  {
   "cell_type": "code",
   "execution_count": 62,
   "id": "ded7432a-6ca5-4841-bdab-8049d1bc0aae",
   "metadata": {},
   "outputs": [
    {
     "name": "stdout",
     "output_type": "stream",
     "text": [
      "(1, 2, 3, 4, 5)\n",
      "<class 'tuple'>\n"
     ]
    }
   ],
   "source": [
    "_tuple = 1,2,3,4,5\n",
    "print(_tuple)\n",
    "print(type(_tuple))"
   ]
  },
  {
   "cell_type": "code",
   "execution_count": 63,
   "id": "93644a4c-b0b7-402a-9735-5e560db23866",
   "metadata": {},
   "outputs": [
    {
     "name": "stdout",
     "output_type": "stream",
     "text": [
      "('India', 'America', 'Russia', 'China', 'Canada', 'Japan', 'Vietnam', 'Sri-Lanka', 'france', 'singapore', 'australia', 'Spain', 'New Zealand', 'Finland', 'India', 'Japan', 'America')\n",
      "<class 'tuple'>\n"
     ]
    }
   ],
   "source": [
    "# tuple() constructor\n",
    "country_list = ['India', 'America', 'Russia', 'China', 'Canada', 'Japan', \n",
    "                'Vietnam', 'Sri-Lanka', 'france', 'singapore', 'australia', \n",
    "                'Spain', 'New Zealand', 'Finland' , 'India', 'Japan', 'America']\n",
    "country_tuple = tuple(country_list)\n",
    "print(country_tuple)\n",
    "print(type(country_tuple))"
   ]
  },
  {
   "cell_type": "code",
   "execution_count": 64,
   "id": "2fa2dfe5-0425-4ade-8052-47da0c9c2656",
   "metadata": {},
   "outputs": [
    {
     "name": "stdout",
     "output_type": "stream",
     "text": [
      "('P', 'y', 't', 'h', 'o', 'n')\n"
     ]
    }
   ],
   "source": [
    "char_tuple = tuple('Python')\n",
    "print(char_tuple)"
   ]
  },
  {
   "cell_type": "code",
   "execution_count": 65,
   "id": "37812d30-6558-4e48-bf91-1e44c6ef69b4",
   "metadata": {},
   "outputs": [
    {
     "name": "stdout",
     "output_type": "stream",
     "text": [
      "('Python',)\n"
     ]
    }
   ],
   "source": [
    "_tuple = tuple(('Python',))\n",
    "print(_tuple)"
   ]
  },
  {
   "cell_type": "code",
   "execution_count": 72,
   "id": "670bad42-e83c-4267-b8b1-3d334bbb6797",
   "metadata": {},
   "outputs": [
    {
     "name": "stdout",
     "output_type": "stream",
     "text": [
      "([1, 2, 3, 4, 5], [2, 4, 6, 8, 10], [1, 3, 5, 7, 9])\n",
      "([1, 2, 3, 4, 5, 6], [2, 4, 6, 8, 10], [1, 3, 5, 7, 9])\n"
     ]
    }
   ],
   "source": [
    "nested_list = [\n",
    "        [1,2,3,4,5],\n",
    "        [2,4,6,8,10],\n",
    "        [1,3,5,7,9]\n",
    "]\n",
    "nested_tuple = tuple(nested_list)\n",
    "print(nested_tuple) # ([1, 2, 3, 4, 5], [2, 4, 6, 8, 10], [1, 3, 5, 7, 9])\n",
    "# List as an element in a tuple is mutable\n",
    "nested_tuple[0].append(6) \n",
    "print(nested_tuple) # ([1, 2, 3, 4, 5, 6], [2, 4, 6, 8, 10], [1, 3, 5, 7, 9])"
   ]
  },
  {
   "cell_type": "code",
   "execution_count": 74,
   "id": "8a68a69c-b7f9-45bf-9e9b-bd2abc5956af",
   "metadata": {},
   "outputs": [
    {
     "name": "stdout",
     "output_type": "stream",
     "text": [
      "(('Mon', 'Tue', 'Wed'), ('Thurs', 'Fri', 'Sat', 'Sun'))\n",
      "<class 'tuple'>\n"
     ]
    }
   ],
   "source": [
    "nested_tuple = (('Mon','Tue','Wed'),('Thurs','Fri','Sat','Sun'))\n",
    "print(nested_tuple)\n",
    "print(type(nested_tuple))\n",
    "# nested_tuple[0].append('Mon') # AttributeError: 'tuple' object has no attribute 'append'"
   ]
  },
  {
   "cell_type": "code",
   "execution_count": 75,
   "id": "110d71af-decf-4cec-b58c-216ca0d43f27",
   "metadata": {},
   "outputs": [
    {
     "name": "stdout",
     "output_type": "stream",
     "text": [
      "America\n",
      "New Zealand\n",
      "('Canada', 'Japan', 'Vietnam')\n",
      "('Canada', 'Vietnam')\n",
      "('America', 'India', 'New Zealand', 'australia', 'france', 'Vietnam', 'Canada', 'Russia', 'India')\n"
     ]
    }
   ],
   "source": [
    "# Indexing & Slicing\n",
    "country_list = ['India', 'America', 'Russia', 'China', 'Canada', 'Japan', \n",
    "                'Vietnam', 'Sri-Lanka', 'france', 'singapore', 'australia', \n",
    "                'Spain', 'New Zealand', 'Finland' , 'India', 'Japan', 'America']\n",
    "country_tuple = tuple(country_list)\n",
    "print(country_tuple[-1]) # 'America'\n",
    "print(country_tuple[-5]) # 'New Zealand'\n",
    "print(country_tuple[4:7]) # ('Canada','Japan','Vietnam')\n",
    "print(country_tuple[4:7:2]) # ('Canada','Vietnam')\n",
    "print(country_tuple[::-2]) # reverse the tuple with alterative elements"
   ]
  },
  {
   "cell_type": "code",
   "execution_count": 77,
   "id": "e80a2473-3ce3-4085-9941-486f95c0c819",
   "metadata": {},
   "outputs": [
    {
     "name": "stdout",
     "output_type": "stream",
     "text": [
      "17\n"
     ]
    }
   ],
   "source": [
    "# Finding the tuple Length\n",
    "country_list = ['India', 'America', 'Russia', 'China', 'Canada', 'Japan', \n",
    "                'Vietnam', 'Sri-Lanka', 'france', 'singapore', 'australia', \n",
    "                'Spain', 'New Zealand', 'Finland' , 'India', 'Japan', 'America']\n",
    "country_tuple = tuple(country_list)\n",
    "print(len(country_tuple)) # 17"
   ]
  },
  {
   "cell_type": "code",
   "execution_count": 78,
   "id": "a5c1e9fc-6349-42e9-b34b-09f3edebb41d",
   "metadata": {},
   "outputs": [
    {
     "name": "stdout",
     "output_type": "stream",
     "text": [
      "12\n",
      "False\n",
      "110\n",
      "606\n"
     ]
    }
   ],
   "source": [
    "num_list = [11,22,33,44,55,66,77,88,99,110,False,True] # False -> 0 , True = 1\n",
    "num_tuple = tuple(num_list)\n",
    "print(len(num_tuple)) # 12\n",
    "print(min(num_tuple)) # 0 [False]\n",
    "print(max(num_tuple)) # 110 \n",
    "print(sum(num_tuple)) # sum of all elements + 1 [True] [605 + 1] = 606"
   ]
  },
  {
   "cell_type": "code",
   "execution_count": 1,
   "id": "0383c07e-b7c7-4be7-a1ae-0144b218a499",
   "metadata": {},
   "outputs": [
    {
     "name": "stdout",
     "output_type": "stream",
     "text": [
      "<class 'list'>\n",
      "['India', 'America', 'Russia', 'China', 'Canada', 'Japan', 'Vietnam', 'Sri-Lanka', 'France', 'Singapore', 'Australia', 'Spain', 'New Zealand', 'Finland', 'Germany']\n",
      "('India', 'America', 'Russia', 'China', 'Canada', 'Japan', 'Vietnam', 'Sri-Lanka', 'France', 'Singapore', 'Australia', 'Spain', 'New Zealand', 'Finland', 'Germany')\n",
      "<class 'tuple'>\n"
     ]
    }
   ],
   "source": [
    "# Immutability of a Tuple\n",
    "# We Can't change or add any elements directly\n",
    "# Tuples don't have : - append, extend , remove, insert\n",
    "# But we can do it indirectly by modifying it into list \n",
    "country_tuple = ('India', 'America', 'Russia', 'China', 'Canada', 'Japan', \n",
    "                'Vietnam', 'Sri-Lanka', 'France', 'Singapore', 'Australia', \n",
    "                'Spain', 'New Zealand', 'Finland')\n",
    "conv_tuple_to_list = list(country_tuple)\n",
    "print(type(conv_tuple_to_list)) # <class List>\n",
    "conv_tuple_to_list.append('Germany')\n",
    "print(conv_tuple_to_list)\n",
    "country_tuple = tuple(conv_tuple_to_list)\n",
    "print(country_tuple)\n",
    "print(type(country_tuple))"
   ]
  },
  {
   "cell_type": "code",
   "execution_count": 2,
   "id": "904e599a-be46-4404-ad62-39ad42d1f4de",
   "metadata": {},
   "outputs": [],
   "source": [
    "country_tuple = ('India', 'America', 'Russia', 'China', 'Canada', 'Japan', \n",
    "                'Vietnam', 'Sri-Lanka', 'France', 'Singapore', 'Australia', \n",
    "                'Spain', 'New Zealand', 'Finland')\n",
    "country_tuple = ('India', 'America', 'Russia', 'China', 'Canada', 'Japan', \n",
    "                'Vietnam', 'Sri-Lanka', 'France', 'Singapore', 'Australia', \n",
    "                'Spain', 'New Zealand', 'Finland' , 'Germany')"
   ]
  },
  {
   "cell_type": "code",
   "execution_count": 3,
   "id": "e1f976ee-a6ba-45e4-806d-799fcc80a71c",
   "metadata": {},
   "outputs": [
    {
     "data": {
      "text/plain": [
       "('India',\n",
       " 'America',\n",
       " 'Russia',\n",
       " 'China',\n",
       " 'Canada',\n",
       " 'Japan',\n",
       " 'Vietnam',\n",
       " 'Sri-Lanka',\n",
       " 'France',\n",
       " 'Singapore',\n",
       " 'Australia',\n",
       " 'Spain',\n",
       " 'New Zealand',\n",
       " 'Finland',\n",
       " 'Germany')"
      ]
     },
     "execution_count": 3,
     "metadata": {},
     "output_type": "execute_result"
    }
   ],
   "source": [
    "country_tuple"
   ]
  },
  {
   "cell_type": "code",
   "execution_count": 5,
   "id": "b20c149d-3bb5-425b-a664-746594246a7c",
   "metadata": {},
   "outputs": [
    {
     "name": "stdout",
     "output_type": "stream",
     "text": [
      "('Mon', 'Tues', 'Wed', 'Thurs', 'Fri', 'Sat', 'Sun')\n"
     ]
    }
   ],
   "source": [
    "# Concatenating A tuples\n",
    "weekday_tuple = ('Mon','Tues','Wed','Thurs','Fri')\n",
    "weekend_tuple = ('Sat','Sun')\n",
    "week_tuple = weekday_tuple + weekend_tuple\n",
    "print(week_tuple)"
   ]
  },
  {
   "cell_type": "code",
   "execution_count": 7,
   "id": "5773f3f7-e907-4bfb-b9a4-56d9c2d75b52",
   "metadata": {},
   "outputs": [
    {
     "name": "stdout",
     "output_type": "stream",
     "text": [
      "(['Mon', 'Tues'], 'Sat', 'Sun')\n"
     ]
    }
   ],
   "source": [
    "weekday_tuple = (['Mon', 'Tues'],)\n",
    "weekend_tuple = ('Sat','Sun')\n",
    "week_tuple = weekday_tuple + weekend_tuple\n",
    "print(week_tuple)"
   ]
  },
  {
   "cell_type": "code",
   "execution_count": 8,
   "id": "80e0b8a7-f104-4f7c-b1b3-b287e40e70e7",
   "metadata": {},
   "outputs": [
    {
     "name": "stdout",
     "output_type": "stream",
     "text": [
      "(['Mon', 'Tues', 'Wed', 'Thurs', 'Fri'], 'Sat', 'Sun')\n"
     ]
    }
   ],
   "source": [
    "# week_tuple[0] ~ ['Mon', 'Tues']\n",
    "week_tuple[0].extend(['Wed','Thurs','Fri']) \n",
    "print(week_tuple)"
   ]
  },
  {
   "cell_type": "code",
   "execution_count": 9,
   "id": "629d212c-0e1f-4251-aa26-2032cb8522ae",
   "metadata": {},
   "outputs": [
    {
     "name": "stdout",
     "output_type": "stream",
     "text": [
      "('Mon', 'Tues', 'Wed', 'Sat', 'Sun')\n"
     ]
    }
   ],
   "source": [
    "weekday_tuple = ('Mon','Tues','Wed','Thurs','Fri')\n",
    "weekend_tuple = ('Sat','Sun')\n",
    "week_tuple = weekday_tuple[:3] + weekend_tuple\n",
    "print(week_tuple)"
   ]
  },
  {
   "cell_type": "raw",
   "id": "ee137454-fb4e-43b9-bdeb-b1d50a1b47e1",
   "metadata": {},
   "source": [
    "week_tuple[2] = 'Wednesday' # TypeError: 'tuple' object does not support item assignment"
   ]
  },
  {
   "cell_type": "code",
   "execution_count": 12,
   "id": "2402a5ea-524c-4f5e-ba71-5b67f6407f47",
   "metadata": {},
   "outputs": [
    {
     "name": "stdout",
     "output_type": "stream",
     "text": [
      "['India', 'America', 'Russia', 'China', 'Canada', 'Japan', 'Vietnam', 'Sri-Lanka', 'france', 'singapore', 'australia', 'Spain', 'Germany']\n"
     ]
    }
   ],
   "source": [
    "country_list = ['India', 'America', 'Russia', 'China', 'Canada', 'Japan', \n",
    "                'Vietnam', 'Sri-Lanka', 'france', 'singapore', 'australia', \n",
    "                'Spain', 'New Zealand', 'Finland' , 'India', 'Japan', 'America']\n",
    "country_list[-5:] = ['Germany']\n",
    "print(country_list)"
   ]
  },
  {
   "cell_type": "code",
   "execution_count": 16,
   "id": "4d74571d-7054-423c-8f56-67bfeb3e1d26",
   "metadata": {},
   "outputs": [
    {
     "name": "stdout",
     "output_type": "stream",
     "text": [
      "('Mon', 'Tues', 'Wed', 'Thurs', 'Fri')\n",
      "<class 'tuple'>\n"
     ]
    }
   ],
   "source": [
    "# Deleting Element in Tuple Vs Deleting a Tuple\n",
    "# You can't delete individual items in a tuple with 'del'\n",
    "# But you can delete the entire tuple object.\n",
    "weekday_tuple = ('Mon','Tues','Wed','Thurs','Fri')\n",
    "print(weekday_tuple)\n",
    "print(type(weekday_tuple))\n",
    "# del weekday_tuple[3] # 'Thurs' # TypeError: 'tuple' object doesn't support item deletion\n",
    "del weekday_tuple\n",
    "# print(weekday_tuple) # NameError: name 'weekday_tuple' is not defined"
   ]
  },
  {
   "cell_type": "code",
   "execution_count": 17,
   "id": "61e94c4f-fb36-432a-ada6-b4266fb717e0",
   "metadata": {},
   "outputs": [
    {
     "name": "stdout",
     "output_type": "stream",
     "text": [
      "1\n",
      "2\n",
      "3\n"
     ]
    }
   ],
   "source": [
    "# Unpacking a Tuple \n",
    "a,b,c = (1,2,3)\n",
    "print(a)\n",
    "print(b)\n",
    "print(c)"
   ]
  },
  {
   "cell_type": "code",
   "execution_count": 23,
   "id": "254692a9-d5d1-4682-a19f-71ae8a2691a8",
   "metadata": {},
   "outputs": [
    {
     "name": "stdout",
     "output_type": "stream",
     "text": [
      "1\n",
      "[2, 3, 4, 5, 6, 7, 8]\n",
      "9\n"
     ]
    }
   ],
   "source": [
    "a,*b,c = (1,2,3,4,5,6,7,8,9)\n",
    "print(a)\n",
    "print(b)\n",
    "print(c)"
   ]
  },
  {
   "cell_type": "raw",
   "id": "bb8f55e2-5ffd-4022-8130-eb47bb0f3aa0",
   "metadata": {},
   "source": [
    "a,*b,*c = (1,2,3,4,5,6,7,8,9) # SyntaxError: multiple starred expressions in assignment\n",
    "print(a)\n",
    "print(b)\n",
    "print(c)"
   ]
  },
  {
   "cell_type": "code",
   "execution_count": 24,
   "id": "3ca27bd0-e513-4bb5-8859-c7d7c4b1e5f4",
   "metadata": {},
   "outputs": [
    {
     "name": "stdout",
     "output_type": "stream",
     "text": [
      "(1, 2, 3, 4, 5, 6, 7)\n",
      "8\n",
      "9\n"
     ]
    }
   ],
   "source": [
    "*a,b,c = (1,2,3,4,5,6,7,8,9)\n",
    "print(tuple(a))\n",
    "print(b) # 8\n",
    "print(c) # 9"
   ]
  },
  {
   "cell_type": "raw",
   "id": "4fc38cb3-b193-4e1e-bfc7-1b7f92fe8177",
   "metadata": {},
   "source": [
    "a,b,c = (1,2,3,4,5,6,7,8,9) # ValueError: too many values to unpack (expected 3)\n",
    "print(a)\n",
    "print(b) \n",
    "print(c) "
   ]
  },
  {
   "cell_type": "code",
   "execution_count": 27,
   "id": "81744709-6044-4b9a-a78c-854b823e7ce6",
   "metadata": {},
   "outputs": [
    {
     "name": "stdout",
     "output_type": "stream",
     "text": [
      "('a', 'b', 'c', 'd', 'e', 'a', 'b', 'c', 'd', 'e', 'a', 'b', 'c', 'd', 'e')\n"
     ]
    }
   ],
   "source": [
    "# Repeating tuples\n",
    "_tuple = ('a','b','c','d','e')\n",
    "print(_tuple * 3)"
   ]
  },
  {
   "cell_type": "code",
   "execution_count": 29,
   "id": "2a264f8a-554a-441a-92e5-452bcebe5e1b",
   "metadata": {},
   "outputs": [
    {
     "name": "stdout",
     "output_type": "stream",
     "text": [
      "(1, 2, 3, 4, 5, False, True, 19.99, 'Coding', 'a', 'b', 'c')\n"
     ]
    }
   ],
   "source": [
    "# Combining a Tuple \n",
    "_tuple1 = (1,2,3,4,5)\n",
    "_tuple2 = (False, True, 19.99, 'Coding','a','b','c')\n",
    "new_tuple = _tuple1 + _tuple2\n",
    "print(new_tuple)"
   ]
  },
  {
   "cell_type": "code",
   "execution_count": 30,
   "id": "20ac1065-3989-4eca-a6f7-d772093f0073",
   "metadata": {},
   "outputs": [
    {
     "data": {
      "text/plain": [
       "2"
      ]
     },
     "execution_count": 30,
     "metadata": {},
     "output_type": "execute_result"
    }
   ],
   "source": [
    "# .count()\n",
    "country_tuple = ('India', 'America', 'Russia', 'China', 'Canada', 'Japan', \n",
    "                'Vietnam', 'Sri-Lanka', 'France', 'Singapore', 'Australia', \n",
    "                'Spain', 'New Zealand', 'Finland' , 'Germany', 'india', 'India')\n",
    "country_tuple.count('India')"
   ]
  },
  {
   "cell_type": "code",
   "execution_count": 32,
   "id": "3366e3da-023b-4b5c-b99a-3145362de4a0",
   "metadata": {},
   "outputs": [
    {
     "data": {
      "text/plain": [
       "5"
      ]
     },
     "execution_count": 32,
     "metadata": {},
     "output_type": "execute_result"
    }
   ],
   "source": [
    "# .index()\n",
    "country_tuple.index('Japan')"
   ]
  },
  {
   "cell_type": "raw",
   "id": "6bc81edb-90af-4b1a-8b85-7035edc87ee9",
   "metadata": {},
   "source": [
    "country_tuple.index('Norway') # ValueError: tuple.index(x): x not in tuple"
   ]
  },
  {
   "cell_type": "markdown",
   "id": "67b7ebb8-94c0-4b6e-a430-1a2c19dc35e2",
   "metadata": {},
   "source": [
    "# Using map() in Python\n",
    "### What is map()?\n",
    "\n",
    "#### Syntax : map(function, iterable) where function uses (lambda function internally)\n",
    "\n",
    "##### The map() function is a very handy tool in Python that let's you:\n",
    "- Apply a Function to each item in a list , tuple or any other iterable\n",
    "- Return a map object"
   ]
  },
  {
   "cell_type": "code",
   "execution_count": 34,
   "id": "e0b770a6-f6b1-4de2-85cb-50d3c24e0445",
   "metadata": {},
   "outputs": [
    {
     "name": "stdout",
     "output_type": "stream",
     "text": [
      "<map object at 0x0000025074C07040>\n",
      "(1, 4, 9, 16, 25, 36, 49)\n",
      "[]\n"
     ]
    }
   ],
   "source": [
    "# Square each elements\n",
    "num_list = [1,2,3,4,5,6,7]\n",
    "# map(function, iterable)\n",
    "squared = map(lambda x : x ** 2 , num_list)\n",
    "print(squared)\n",
    "print(tuple(squared)) # (1,4,9,16,25,36,49)\n",
    "print(list(squared)) # []"
   ]
  },
  {
   "cell_type": "code",
   "execution_count": 36,
   "id": "ed8fe92a-747d-4c71-a8ed-0ad3e211e4a5",
   "metadata": {},
   "outputs": [
    {
     "name": "stdout",
     "output_type": "stream",
     "text": [
      "<map object at 0x0000025074B321A0>\n",
      "[11, 12, 13, 14, 15, 16, 17]\n",
      "()\n"
     ]
    }
   ],
   "source": [
    "# Adding 10 in an element\n",
    "num_list = [1,2,3,4,5,6,7]\n",
    "# map(function, iterable)\n",
    "add_10 = map(lambda x : x + 10 , num_list)\n",
    "print(add_10)\n",
    "print(list(add_10)) # [11,12,13,14,15,16,17]\n",
    "print(tuple(add_10)) # ()"
   ]
  },
  {
   "cell_type": "code",
   "execution_count": 37,
   "id": "1f6e5827-8ef8-41b8-9708-f52ac11ec5bf",
   "metadata": {},
   "outputs": [
    {
     "name": "stdin",
     "output_type": "stream",
     "text": [
      "Enter the multiple numbers :  10 20 30 40 50 60 70\n"
     ]
    },
    {
     "name": "stdout",
     "output_type": "stream",
     "text": [
      "[10, 20, 30, 40, 50, 60, 70]\n"
     ]
    }
   ],
   "source": [
    "# Taking input from the user -> \n",
    "numbers = list(map(int, input(\"Enter the multiple numbers : \").split()))\n",
    "print(numbers)"
   ]
  },
  {
   "cell_type": "code",
   "execution_count": 38,
   "id": "a6986093-96b9-436c-a59a-d32df85fcffd",
   "metadata": {},
   "outputs": [
    {
     "name": "stdin",
     "output_type": "stream",
     "text": [
      "Enter the multiple string :  coding ninja python programming\n"
     ]
    },
    {
     "name": "stdout",
     "output_type": "stream",
     "text": [
      "['coding', 'ninja', 'python', 'programming']\n"
     ]
    }
   ],
   "source": [
    "# Taking input from the user -> \n",
    "string = list(map(str, input(\"Enter the multiple string : \").split()))\n",
    "print(string)"
   ]
  },
  {
   "cell_type": "markdown",
   "id": "e7b2ee8c-7d9c-4b8e-b406-d3b6a3e57df7",
   "metadata": {},
   "source": [
    "# What are Sets?\n",
    "#### A Set in Python is:\n",
    "- Unordered : No guaranteed order of elements\n",
    "- Changeable (mutable): You can add or remove elements\n",
    "- Unindexed : No way to access items by position\n",
    "- Unique Items only : Automatically removes Duplicates\n",
    "\n",
    "##### They can hold different data types together, like numbers, strings or boolean"
   ]
  },
  {
   "cell_type": "code",
   "execution_count": 42,
   "id": "0a53a793-8351-4d03-a324-c6fb941cd2c3",
   "metadata": {},
   "outputs": [
    {
     "name": "stdout",
     "output_type": "stream",
     "text": [
      "<class 'dict'>\n",
      "<class 'set'>\n"
     ]
    }
   ],
   "source": [
    "_dict = {} # dictionary\n",
    "# You can't assign {} to a set as by default empty curly braces represent dictionary {}\n",
    "_set = set()\n",
    "print(type(_dict))\n",
    "print(type(_set))"
   ]
  },
  {
   "cell_type": "code",
   "execution_count": 43,
   "id": "9934761f-1c90-4312-a405-9195ccff8658",
   "metadata": {},
   "outputs": [
    {
     "name": "stdout",
     "output_type": "stream",
     "text": [
      "<class 'set'>\n"
     ]
    }
   ],
   "source": [
    "_set = {1}\n",
    "print(type(_set))"
   ]
  },
  {
   "cell_type": "code",
   "execution_count": 50,
   "id": "ce5ab526-6535-4d90-ad4d-1fcafde3a273",
   "metadata": {},
   "outputs": [
    {
     "name": "stdout",
     "output_type": "stream",
     "text": [
      "{False, 1, 2, 3, 9.99, 'a', 'coding', 'b', 'c'}\n",
      "<class 'set'>\n"
     ]
    }
   ],
   "source": [
    "_set = {1,2,3,'a','b','c',False,True,9.99,\"coding\"}\n",
    "print(_set)\n",
    "print(type(_set))"
   ]
  },
  {
   "cell_type": "code",
   "execution_count": 52,
   "id": "1f64e0dc-8fc9-4eb9-8a35-8dc38898bcb4",
   "metadata": {},
   "outputs": [
    {
     "name": "stdout",
     "output_type": "stream",
     "text": [
      "{False, 1, 2, 3, 9.99, 'programming', 'a', 'coding', 'b', 'c', 'Python'}\n"
     ]
    }
   ],
   "source": [
    "_set = {1,2,3,'a','b','c',False,True,9.99,\"coding\",\"Python\",\"programming\"}\n",
    "print(_set)"
   ]
  },
  {
   "cell_type": "code",
   "execution_count": 53,
   "id": "61cae4ed-d708-47d1-a167-1abc50129966",
   "metadata": {},
   "outputs": [
    {
     "name": "stdout",
     "output_type": "stream",
     "text": [
      "{1, 2}\n"
     ]
    }
   ],
   "source": [
    "_duplicate_set = {1,2,1,2,1,1,1,2,2,2,1,2}\n",
    "print(_duplicate_set) # only store unique elements"
   ]
  },
  {
   "cell_type": "code",
   "execution_count": 54,
   "id": "be23cfc1-aa71-403b-a4ee-8cc7d2d31548",
   "metadata": {},
   "outputs": [
    {
     "name": "stdout",
     "output_type": "stream",
     "text": [
      "{0, 1, 2}\n"
     ]
    }
   ],
   "source": [
    "_duplicate_set = {0,1,0,0,1,2,1,2,1,1,1,2,2,2,1,2,False,True}\n",
    "print(_duplicate_set) # only store unique elements"
   ]
  },
  {
   "cell_type": "code",
   "execution_count": 55,
   "id": "50e578a3-0671-4581-b9bd-62e1b35a4e05",
   "metadata": {},
   "outputs": [
    {
     "name": "stdout",
     "output_type": "stream",
     "text": [
      "{False, True, 2}\n"
     ]
    }
   ],
   "source": [
    "_duplicate_set = {False,True,0,1,0,0,1,2,1,2,1,1,1,2,2,2,1,2,False,True}\n",
    "print(_duplicate_set) # only store unique elements"
   ]
  },
  {
   "cell_type": "code",
   "execution_count": 57,
   "id": "b45b7e47-6865-417d-9f6e-907fc938cba4",
   "metadata": {},
   "outputs": [
    {
     "name": "stdout",
     "output_type": "stream",
     "text": [
      "{'India', 'Singapore', 'Australia', 'Germany', 'France', 'Canada', 'Finland', 'Sri-Lanka', 'Japan', 'Spain', 'Vietnam', 'China', 'Russia', 'New Zealand', 'india', 'America'}\n",
      "{False, True, 2, 3, 4, 5, 'a', 'b', 19.99, 'Coding', 'c'}\n"
     ]
    }
   ],
   "source": [
    "# set() constructor to do the typecasting\n",
    "_list = ['India', 'America', 'Russia', 'China', 'Canada', 'Japan', \n",
    "        'Vietnam', 'Sri-Lanka', 'France', 'Singapore', 'Australia', \n",
    "        'Vietnam', 'Sri-Lanka', 'France', 'Singapore', 'Australia', \n",
    "        'Spain', 'New Zealand', 'Finland' , 'Germany', 'india', 'India']\n",
    "_tuple = (False, True, 19.99, 'Coding','a','b','c',0,1,2,3,4,5)\n",
    "print(set(_list))\n",
    "print(set(_tuple))"
   ]
  },
  {
   "cell_type": "code",
   "execution_count": 67,
   "id": "c94bb336-0888-4e57-86de-cba4ee9f067e",
   "metadata": {},
   "outputs": [
    {
     "data": {
      "text/plain": [
       "{('a', 'b', 'c', 'd'), ('coding',), (True, False), 99, 'coding'}"
      ]
     },
     "execution_count": 67,
     "metadata": {},
     "output_type": "execute_result"
    }
   ],
   "source": [
    "# Immutable elements are allowed in sets\n",
    "nested_set = {\n",
    "    'coding',\n",
    "    99,\n",
    "    ('a','b','c','d'),\n",
    "    ('coding',),\n",
    "    ('coding'), # skip\n",
    "    (True,False)\n",
    "}\n",
    "nested_set"
   ]
  },
  {
   "cell_type": "markdown",
   "id": "4fcda50a-82d1-4edd-971e-1d264c0855cc",
   "metadata": {},
   "source": [
    "# Key Takeways for Sets:\n",
    "1. Unordered : You can't access elements by index.\n",
    "2. Unique : Removes Duplicates Automatically.\n",
    "3. Mutable Container : Can add or remove items.\n",
    "4. Immutable items: Elements must be hashable & immutable (like numbers, strings , tuples)"
   ]
  },
  {
   "cell_type": "code",
   "execution_count": 1,
   "id": "8eb644a7-294c-4c90-9889-07d81b2637dc",
   "metadata": {},
   "outputs": [
    {
     "name": "stdout",
     "output_type": "stream",
     "text": [
      "False\n",
      "True\n",
      "False\n",
      "True\n"
     ]
    }
   ],
   "source": [
    "# Understanding Common Methods and operation associated with Sets\n",
    "# Accessing an item [❌ No Indexing]\n",
    "# membership operators # [Boolean Return]\n",
    "car_set = {'Taigun','Creta','Thar','Kylaq','Camry','Virtus','Nexon','Rolls Royce','Verna'}\n",
    "print('Slavia' in car_set) # False\n",
    "print('Thar' in car_set) # True\n",
    "print('Kylaq' not in car_set) # False\n",
    "print('ScorpioN' not in car_set) # True"
   ]
  },
  {
   "cell_type": "code",
   "execution_count": 3,
   "id": "4ceec650-917d-41c5-b6f8-4e79678d57e1",
   "metadata": {},
   "outputs": [
    {
     "name": "stdout",
     "output_type": "stream",
     "text": [
      "9\n"
     ]
    }
   ],
   "source": [
    "# Length of a set -> len() to count the number of elements.\n",
    "car_set = {'Taigun','Creta','Thar','Kylaq','Camry','Virtus','Nexon','Rolls Royce','Verna'}\n",
    "print(len(car_set))"
   ]
  },
  {
   "cell_type": "code",
   "execution_count": 5,
   "id": "6708b7bd-1b5c-4081-a7a7-e914aa0cafd0",
   "metadata": {},
   "outputs": [
    {
     "name": "stdout",
     "output_type": "stream",
     "text": [
      "0\n",
      "55\n",
      "180\n"
     ]
    }
   ],
   "source": [
    "# min() , max() and the sum() \n",
    "quick_set = {0,1,2,3,4,5,11,22,33,44,55,False,True} # False[0] , True[1] {Duplicate}\n",
    "print(min(quick_set)) # 0\n",
    "print(max(quick_set)) # 55\n",
    "print(sum(quick_set)) # sum"
   ]
  },
  {
   "cell_type": "code",
   "execution_count": 7,
   "id": "c618f4da-a087-486e-8dc6-6c72714790c0",
   "metadata": {},
   "outputs": [
    {
     "name": "stdout",
     "output_type": "stream",
     "text": [
      "{False, True, 2, 3, 4, 5, 33, 11, 44, 22, 55}\n",
      "False\n",
      "55\n",
      "180\n"
     ]
    }
   ],
   "source": [
    "# min() , max() and the sum() \n",
    "quick_set = {False,True,2,3,4,5,11,22,33,44,55,0,1} # False[0] , True[1] {Duplicate}\n",
    "print(quick_set)\n",
    "print(min(quick_set)) # False\n",
    "print(max(quick_set)) # 55\n",
    "print(sum(quick_set)) # sum"
   ]
  },
  {
   "cell_type": "code",
   "execution_count": 10,
   "id": "db40398f-9a24-49f4-9d5c-b9b3ebf1d13c",
   "metadata": {},
   "outputs": [
    {
     "name": "stdout",
     "output_type": "stream",
     "text": [
      "{False, True, 2, 3, 4, 5, 33, 11, 44, 77, 22, 55}\n"
     ]
    }
   ],
   "source": [
    "# Adding Items to a set()\n",
    "# .add() -> Adds a single elements\n",
    "quick_set = {False,True,2,3,4,5,11,22,33,44,55,0,1}\n",
    "quick_set.add(77)\n",
    "print(quick_set)"
   ]
  },
  {
   "cell_type": "code",
   "execution_count": 11,
   "id": "19301d78-8273-48c8-9a20-975302091571",
   "metadata": {},
   "outputs": [
    {
     "name": "stdout",
     "output_type": "stream",
     "text": [
      "{False, True, 2, 3, 4, 5, 33, 99, 11, 44, 77, 22, 55}\n"
     ]
    }
   ],
   "source": [
    "quick_set.add(99)\n",
    "print(quick_set)"
   ]
  },
  {
   "cell_type": "code",
   "execution_count": 13,
   "id": "ba0eb846-7e8a-4340-965e-907cdebe8d48",
   "metadata": {},
   "outputs": [
    {
     "name": "stdout",
     "output_type": "stream",
     "text": [
      "{False, True, 2, 3, 4, 5, 33, 99, 11, 44, 77, 22, 55, 'b', 'c', 'a'}\n"
     ]
    }
   ],
   "source": [
    "# .update(<iterables>) -> Adds a multiple elements -> iterables as argument\n",
    "quick_set.update(['a','b','c'])\n",
    "print(quick_set)"
   ]
  },
  {
   "cell_type": "code",
   "execution_count": 14,
   "id": "b147ffa1-9336-47e9-8640-0ae925a60966",
   "metadata": {},
   "outputs": [
    {
     "name": "stdout",
     "output_type": "stream",
     "text": [
      "{False, True, 2, 3, 4, 5, 'C', 11, 'd', 22, 'n', 33, 44, 'o', 55, 'b', 'c', 77, 99, 'i', 'g', 'a'}\n"
     ]
    }
   ],
   "source": [
    "quick_set.update('Coding')\n",
    "print(quick_set)"
   ]
  },
  {
   "cell_type": "code",
   "execution_count": 15,
   "id": "7ef565a9-2a43-4d15-91a9-4d84133d4d28",
   "metadata": {},
   "outputs": [
    {
     "name": "stdout",
     "output_type": "stream",
     "text": [
      "{False, True, 2, 3, 4, 5, 'C', 11, 'd', 22, 'n', 33, 'Coding', 44, 'o', 55, 'b', 'c', 77, 99, 'i', 'g', 'a'}\n"
     ]
    }
   ],
   "source": [
    "quick_set.update(('Coding',))\n",
    "print(quick_set)"
   ]
  },
  {
   "cell_type": "code",
   "execution_count": 16,
   "id": "f1bc2b29-fcb3-4b16-9a8a-1059a17927f8",
   "metadata": {},
   "outputs": [
    {
     "name": "stdout",
     "output_type": "stream",
     "text": [
      "{True, 2, 3, 4, 5, 'C', 11, 'd', 22, 'n', 33, 'Coding', 44, 'o', 55, 'b', 'c', 77, 99, 'i', 'g', 'a'}\n"
     ]
    }
   ],
   "source": [
    "# Removing items from a set()\n",
    "# remove() -> throws an errors if item doesn't exist\n",
    "# discard() -> No error if item doesn't exist\n",
    "quick_set.remove(False)\n",
    "print(quick_set)"
   ]
  },
  {
   "cell_type": "code",
   "execution_count": 17,
   "id": "99d8596f-6bf9-47e7-bd7f-1750e0196d2a",
   "metadata": {},
   "outputs": [
    {
     "name": "stdout",
     "output_type": "stream",
     "text": [
      "{2, 3, 4, 5, 'C', 11, 'd', 22, 'n', 33, 'Coding', 44, 'o', 55, 'b', 'c', 77, 99, 'i', 'g', 'a'}\n"
     ]
    }
   ],
   "source": [
    "quick_set.remove(True)\n",
    "print(quick_set)"
   ]
  },
  {
   "cell_type": "raw",
   "id": "2fdabe88-0cc8-4c1f-be41-8602af806814",
   "metadata": {},
   "source": [
    "quick_set.remove('True') # doesn't exist , it throws error\n",
    "print(quick_set)"
   ]
  },
  {
   "cell_type": "code",
   "execution_count": 24,
   "id": "466d20de-e8bf-4561-b59c-3639edb89d37",
   "metadata": {},
   "outputs": [
    {
     "name": "stdout",
     "output_type": "stream",
     "text": [
      "{2, 3, 4, 5, 'C', 11, 'd', 22, 'n', 33, 'Coding', 44, 'o', 55, 77, 99, 'i', 'g'}\n"
     ]
    }
   ],
   "source": [
    "quick_set.discard(('a','b','c')) # doesn't exist still won't throw an error\n",
    "print(quick_set)"
   ]
  },
  {
   "cell_type": "code",
   "execution_count": 25,
   "id": "d9312f9f-3634-4737-b55c-1c92939a56fc",
   "metadata": {},
   "outputs": [
    {
     "name": "stdout",
     "output_type": "stream",
     "text": [
      "{2, 3, 4, 5, 'C', 11, 'd', 22, 'n', 33, 'Coding', 44, 'o', 55, 77, 99, 'i', 'g'}\n"
     ]
    }
   ],
   "source": [
    "quick_set.discard('a')\n",
    "quick_set.discard('b')\n",
    "quick_set.discard('c')\n",
    "print(quick_set)"
   ]
  },
  {
   "cell_type": "code",
   "execution_count": 26,
   "id": "9cd28331-bc60-49a0-8b74-7b5eaf40536d",
   "metadata": {},
   "outputs": [
    {
     "name": "stdout",
     "output_type": "stream",
     "text": [
      "{2, 3, 4, 5, 'C', ('x', 'y', 'z'), 11, 'd', 22, 'n', 33, 'Coding', 44, 'o', 55, 77, 99, 'i', 'g'}\n"
     ]
    }
   ],
   "source": [
    "quick_set.add(('x','y','z'))\n",
    "print(quick_set)"
   ]
  },
  {
   "cell_type": "code",
   "execution_count": 27,
   "id": "bb8170bb-dd38-4dc0-b3ae-1b31f8286cae",
   "metadata": {},
   "outputs": [
    {
     "name": "stdout",
     "output_type": "stream",
     "text": [
      "{2, 3, 4, 5, 'C', 11, 'd', 22, 'n', 33, 'Coding', 44, 'o', 55, 77, 99, 'i', 'g'}\n"
     ]
    }
   ],
   "source": [
    "quick_set.discard(('x','y','z')) # remove the element as it exist\n",
    "print(quick_set)"
   ]
  },
  {
   "cell_type": "code",
   "execution_count": 28,
   "id": "58b40c22-04b8-4333-942d-eed0eaac2024",
   "metadata": {},
   "outputs": [
    {
     "name": "stdout",
     "output_type": "stream",
     "text": [
      "2\n",
      "{3, 4, 5, 'C', 11, 'd', 22, 'n', 33, 'Coding', 44, 'o', 55, 77, 99, 'i', 'g'}\n"
     ]
    }
   ],
   "source": [
    "# pop() -> Removes and returns an arbitary elements. Since sets are unordered, \n",
    "# you don't which item will be removed\n",
    "popped_item = quick_set.pop()\n",
    "print(popped_item)\n",
    "print(quick_set)"
   ]
  },
  {
   "cell_type": "code",
   "execution_count": 29,
   "id": "49cc959f-fe93-41b0-a54e-bb77b2d22045",
   "metadata": {},
   "outputs": [
    {
     "name": "stdout",
     "output_type": "stream",
     "text": [
      "3\n",
      "{4, 5, 'C', 11, 'd', 22, 'n', 33, 'Coding', 44, 'o', 55, 77, 99, 'i', 'g'}\n"
     ]
    }
   ],
   "source": [
    "popped_item = quick_set.pop()\n",
    "print(popped_item)\n",
    "print(quick_set)"
   ]
  },
  {
   "cell_type": "code",
   "execution_count": 30,
   "id": "ebc784aa-af86-4148-9f02-d72acbc42df7",
   "metadata": {},
   "outputs": [
    {
     "name": "stdout",
     "output_type": "stream",
     "text": [
      "4\n",
      "{5, 'C', 11, 'd', 22, 'n', 33, 'Coding', 44, 'o', 55, 77, 99, 'i', 'g'}\n"
     ]
    }
   ],
   "source": [
    "popped_item = quick_set.pop()\n",
    "print(popped_item)\n",
    "print(quick_set)"
   ]
  },
  {
   "cell_type": "code",
   "execution_count": 31,
   "id": "ddd3b7aa-8add-4183-951f-671949ae4807",
   "metadata": {},
   "outputs": [
    {
     "name": "stdout",
     "output_type": "stream",
     "text": [
      "5\n",
      "{'C', 11, 'd', 22, 'n', 33, 'Coding', 44, 'o', 55, 77, 99, 'i', 'g'}\n"
     ]
    }
   ],
   "source": [
    "popped_item = quick_set.pop()\n",
    "print(popped_item)\n",
    "print(quick_set)"
   ]
  },
  {
   "cell_type": "code",
   "execution_count": 32,
   "id": "7c18d9b6-e3b2-405d-b97a-89b01fff7b9d",
   "metadata": {},
   "outputs": [
    {
     "name": "stdout",
     "output_type": "stream",
     "text": [
      "C\n",
      "{11, 'd', 22, 'n', 33, 'Coding', 44, 'o', 55, 77, 99, 'i', 'g'}\n"
     ]
    }
   ],
   "source": [
    "popped_item = quick_set.pop()\n",
    "print(popped_item)\n",
    "print(quick_set)"
   ]
  },
  {
   "cell_type": "code",
   "execution_count": 33,
   "id": "f732c953-6483-4930-9e45-38112bef9f55",
   "metadata": {},
   "outputs": [
    {
     "name": "stdout",
     "output_type": "stream",
     "text": [
      "11\n",
      "{'d', 22, 'n', 33, 'Coding', 44, 'o', 55, 77, 99, 'i', 'g'}\n"
     ]
    }
   ],
   "source": [
    "popped_item = quick_set.pop()\n",
    "print(popped_item)\n",
    "print(quick_set)"
   ]
  },
  {
   "cell_type": "code",
   "execution_count": 34,
   "id": "14248d6e-fd9c-44ab-9d2f-22fc5e36b135",
   "metadata": {},
   "outputs": [
    {
     "name": "stdout",
     "output_type": "stream",
     "text": [
      "d\n",
      "{22, 'n', 33, 'Coding', 44, 'o', 55, 77, 99, 'i', 'g'}\n"
     ]
    }
   ],
   "source": [
    "popped_item = quick_set.pop()\n",
    "print(popped_item)\n",
    "print(quick_set)"
   ]
  },
  {
   "cell_type": "code",
   "execution_count": 35,
   "id": "d8240bb6-fc24-490e-a707-e5733dc4f62a",
   "metadata": {},
   "outputs": [
    {
     "name": "stdout",
     "output_type": "stream",
     "text": [
      "22\n",
      "{'n', 33, 'Coding', 44, 'o', 55, 77, 99, 'i', 'g'}\n"
     ]
    }
   ],
   "source": [
    "popped_item = quick_set.pop()\n",
    "print(popped_item)\n",
    "print(quick_set)"
   ]
  },
  {
   "cell_type": "code",
   "execution_count": 36,
   "id": "fe2289f2-ee9a-4fa2-b424-3f8ee884d884",
   "metadata": {},
   "outputs": [
    {
     "name": "stdout",
     "output_type": "stream",
     "text": [
      "n\n",
      "{33, 'Coding', 44, 'o', 55, 77, 99, 'i', 'g'}\n"
     ]
    }
   ],
   "source": [
    "popped_item = quick_set.pop()\n",
    "print(popped_item)\n",
    "print(quick_set)"
   ]
  },
  {
   "cell_type": "code",
   "execution_count": 37,
   "id": "07af776c-7f51-4880-870d-b04dbf1f6d5b",
   "metadata": {},
   "outputs": [
    {
     "name": "stdout",
     "output_type": "stream",
     "text": [
      "33\n",
      "{'Coding', 44, 'o', 55, 77, 99, 'i', 'g'}\n"
     ]
    }
   ],
   "source": [
    "popped_item = quick_set.pop()\n",
    "print(popped_item)\n",
    "print(quick_set)"
   ]
  },
  {
   "cell_type": "code",
   "execution_count": 38,
   "id": "c268cf3d-01d4-4a29-8605-24dc907087a9",
   "metadata": {},
   "outputs": [
    {
     "name": "stdout",
     "output_type": "stream",
     "text": [
      "Coding\n",
      "{44, 'o', 55, 77, 99, 'i', 'g'}\n"
     ]
    }
   ],
   "source": [
    "popped_item = quick_set.pop()\n",
    "print(popped_item)\n",
    "print(quick_set)"
   ]
  },
  {
   "cell_type": "code",
   "execution_count": 42,
   "id": "e2e0905f-b89a-4e1c-be85-58980ce126b5",
   "metadata": {},
   "outputs": [
    {
     "name": "stdout",
     "output_type": "stream",
     "text": [
      "Wed\n"
     ]
    }
   ],
   "source": [
    "day_set = {'Mon','Wed','Thurs','Sat','Tues','Fri','Sun'}\n",
    "pop_item = day_set.pop()\n",
    "print(pop_item)"
   ]
  },
  {
   "cell_type": "code",
   "execution_count": 47,
   "id": "caa189db-9223-4f49-95f4-520948e900fe",
   "metadata": {},
   "outputs": [
    {
     "name": "stdout",
     "output_type": "stream",
     "text": [
      "{'Tues', 'Thurs', 'Sun', 'Mon', 'Sat', 'Fri'}\n"
     ]
    }
   ],
   "source": [
    "print(day_set)"
   ]
  },
  {
   "cell_type": "code",
   "execution_count": 48,
   "id": "bbdf6678-3885-4c3e-baa8-bcd7d9f9caee",
   "metadata": {},
   "outputs": [
    {
     "name": "stdout",
     "output_type": "stream",
     "text": [
      "Tues\n",
      "{'Thurs', 'Sun', 'Mon', 'Sat', 'Fri'}\n"
     ]
    }
   ],
   "source": [
    "pop_item = day_set.pop()\n",
    "print(pop_item)\n",
    "print(day_set)"
   ]
  },
  {
   "cell_type": "code",
   "execution_count": 49,
   "id": "c2fc2856-d3e7-4d4b-be36-c0095d0f463c",
   "metadata": {},
   "outputs": [
    {
     "name": "stdout",
     "output_type": "stream",
     "text": [
      "{'Jan', 'Thurs', 'Sun', 'Mon', 'Sat', 'Fri'}\n"
     ]
    }
   ],
   "source": [
    "day_set.add('Jan')\n",
    "print(day_set)"
   ]
  },
  {
   "cell_type": "code",
   "execution_count": 50,
   "id": "9c730f7d-8237-47c3-b762-885ee5461812",
   "metadata": {},
   "outputs": [
    {
     "name": "stdout",
     "output_type": "stream",
     "text": [
      "{'Thurs', 'Sun', 'Feb', 'Jan', 'Mon', 'Sat', 'Fri'}\n"
     ]
    }
   ],
   "source": [
    "day_set.add('Feb')\n",
    "print(day_set)"
   ]
  },
  {
   "cell_type": "code",
   "execution_count": 51,
   "id": "ee0e2505-ee0b-4f8d-9743-37096826c45e",
   "metadata": {},
   "outputs": [
    {
     "name": "stdout",
     "output_type": "stream",
     "text": [
      "set()\n"
     ]
    }
   ],
   "source": [
    "# clear\n",
    "day_set.clear()\n",
    "print(day_set) # {}"
   ]
  },
  {
   "cell_type": "raw",
   "id": "4e6893fa-193d-4ed0-9c97-56fd18687234",
   "metadata": {},
   "source": [
    "# del -> We can delete the entire set object\n",
    "del day_set\n",
    "print(day_set) # NameError: name 'day_set' is not defined"
   ]
  },
  {
   "cell_type": "code",
   "execution_count": 54,
   "id": "43f43deb-3a80-478f-82ee-e37aa828aba6",
   "metadata": {},
   "outputs": [
    {
     "name": "stdout",
     "output_type": "stream",
     "text": [
      "{1, 2, 3, 4, 5, 6, 7, 8, 9}\n"
     ]
    }
   ],
   "source": [
    "# Union (| or .union())\n",
    "setA = {1,2,3,4,5,5,6,6,8,8,8,8} # {1,2,3,4,5,6,8}\n",
    "setB = {3,5,7,7,7,7,7,9,9} # {3,5,7,9}\n",
    "union_set = setA | setB # (AUB)\n",
    "print(union_set) # {1...9}"
   ]
  },
  {
   "cell_type": "code",
   "execution_count": 55,
   "id": "2f21ae8c-9791-4f61-8cb9-90937a9ecd64",
   "metadata": {},
   "outputs": [
    {
     "name": "stdout",
     "output_type": "stream",
     "text": [
      "{1, 2, 3, 4, 5, 6, 7, 8, 9}\n"
     ]
    }
   ],
   "source": [
    "result = setA.union(setB)\n",
    "print(result)"
   ]
  },
  {
   "cell_type": "code",
   "execution_count": 56,
   "id": "ab7c6f7c-2348-407f-9879-9ab661c4a3ab",
   "metadata": {},
   "outputs": [
    {
     "name": "stdout",
     "output_type": "stream",
     "text": [
      "{'q', 'y', 'p', 'e', 'd', 'z', 'r', 'x', 'b', 's', 'c', 'a'}\n",
      "{'q', 'y', 'p', 'e', 'd', 'z', 'r', 'x', 'b', 's', 'c', 'a'}\n"
     ]
    }
   ],
   "source": [
    "# Advance union concepts\n",
    "setA = {'a','b','c','d','e'}\n",
    "setB = {'p','q','r','s','a','b','c'}\n",
    "setC = {'x','y','r','s','a','c','z'}\n",
    "print(setA | setB | setC)\n",
    "print(setA.union(setB).union(setC))"
   ]
  },
  {
   "cell_type": "code",
   "execution_count": 58,
   "id": "8544cd80-9c26-4b10-899f-a695fc0bee78",
   "metadata": {},
   "outputs": [
    {
     "name": "stdout",
     "output_type": "stream",
     "text": [
      "{'b', 'c', 'a'}\n",
      "{'c', 'a'}\n",
      "{'c', 'a'}\n"
     ]
    }
   ],
   "source": [
    "# Intersection (& or intersection())\n",
    "setA = {'a','b','c','d','e'}\n",
    "setB = {'p','q','r','s','a','b','c'}\n",
    "setC = {'x','y','r','s','a','c','z'}\n",
    "print(setA & setB) # {a,b,c}\n",
    "print(setA.intersection(setB).intersection(setC)) # {'a','c'}\n",
    "print(setA & setB & setC) # {'a','c'}"
   ]
  },
  {
   "cell_type": "code",
   "execution_count": 59,
   "id": "00f20f2b-036d-49fa-9af6-dbbd65ce7102",
   "metadata": {},
   "outputs": [
    {
     "name": "stdout",
     "output_type": "stream",
     "text": [
      "{'d', 'e'}\n",
      "{'d', 'e'}\n"
     ]
    }
   ],
   "source": [
    "# difference (- or .difference()) # Elements in A but not in B\n",
    "setA = {'a','b','c','d','e'}\n",
    "setB = {'p','q','r','s','a','b','c'}\n",
    "setC = {'x','y','r','s','a','c','z'}\n",
    "print(setA - setB) # {'d','e'}\n",
    "print(setA.difference(setB)) # {'d','e'}"
   ]
  },
  {
   "cell_type": "code",
   "execution_count": 60,
   "id": "c5d69677-a842-4280-9822-e96c246bbb4d",
   "metadata": {},
   "outputs": [
    {
     "name": "stdout",
     "output_type": "stream",
     "text": [
      "{'p', 's', 'r', 'q'}\n",
      "{'p', 's', 'r', 'q'}\n"
     ]
    }
   ],
   "source": [
    "print(setB - setA) # {'p','q','r','s'}\n",
    "print(setB.difference(setA)) # {'p','q','r','s'}"
   ]
  },
  {
   "cell_type": "code",
   "execution_count": 62,
   "id": "d1d31c82-92a0-44ed-b2ac-9e976bb40f96",
   "metadata": {},
   "outputs": [
    {
     "name": "stdout",
     "output_type": "stream",
     "text": [
      "{'p', 'q'}\n",
      "{'p', 'q'}\n"
     ]
    }
   ],
   "source": [
    "setA = {'a','b','c','d','e'}\n",
    "setB = {'p','q','r','s','a','b','c'}\n",
    "setC = {'x','y','r','s','a','c','z'}\n",
    "print(setB - setA - setC) # {'p','q'}\n",
    "print(setB.difference(setA).difference(setC))"
   ]
  },
  {
   "cell_type": "code",
   "execution_count": 63,
   "id": "ee2c80f9-9f05-426a-a7c8-9e89341659d9",
   "metadata": {},
   "outputs": [
    {
     "name": "stdout",
     "output_type": "stream",
     "text": [
      "{'q', 'p', 'e', 'd', 'r', 's'}\n",
      "{'q', 'p', 'e', 'd', 'r', 's'}\n"
     ]
    }
   ],
   "source": [
    "# Symmetric Difference (^ or .symmetric_difference())\n",
    "# Elements in either SetA or SetB , but not in both\n",
    "setA = {'a','b','c','d','e'}\n",
    "setB = {'p','q','r','s','a','b','c'}\n",
    "setC = {'x','y','r','s','a','c','z'}\n",
    "print(setA ^ setB) # {'d','e','p','q','r','s'}\n",
    "print(setA.symmetric_difference(setB)) # {'d','e','p','q','r','s'}"
   ]
  },
  {
   "cell_type": "code",
   "execution_count": 65,
   "id": "8e0a9338-31ae-4114-b5fd-02e058a463ec",
   "metadata": {},
   "outputs": [
    {
     "name": "stdout",
     "output_type": "stream",
     "text": [
      "{'q', 'd', 'x', 'y', 'e', 'z', 'p', 'c', 'a'}\n",
      "{'q', 'd', 'x', 'y', 'e', 'z', 'p', 'c', 'a'}\n"
     ]
    }
   ],
   "source": [
    "setA = {'a','b','c','d','e'}\n",
    "setB = {'p','q','r','s','a','b','c'}\n",
    "setC = {'x','y','r','s','a','c','z'}\n",
    "print(setA ^ setB ^ setC) # {'d','e','p','q','r','s'} ^ {'x','y','r','s','a','c','z'}\n",
    "# {'d','e','p','q','x','y','a','c','z'}\n",
    "print(setA.symmetric_difference(setB).symmetric_difference(setC)) # {'d','e','p','q','x','y','a','c','z'}"
   ]
  },
  {
   "cell_type": "code",
   "execution_count": 76,
   "id": "b5a8525f-d6ea-4db2-8510-f03c0b57f2d4",
   "metadata": {},
   "outputs": [
    {
     "name": "stdout",
     "output_type": "stream",
     "text": [
      "{'d', 'e'}\n"
     ]
    }
   ],
   "source": [
    "# difference_update()\n",
    "# shortcut : a -= b|c\n",
    "setA = {'a','b','c','d','e'}\n",
    "setB = {'p','q','r','s','a','b','c'}\n",
    "setC = {'x','y','r','s','a','c','z'}\n",
    "# setB | setC => {'a','b','c','p','q','r','s','x','y','z'}\n",
    "# setA - = (setB | setC) => {'d','e'}\n",
    "# setA.difference_update(setB,setC)\n",
    "setA = setA - (setB | setC)\n",
    "print(setA)"
   ]
  },
  {
   "cell_type": "code",
   "execution_count": 77,
   "id": "3274c01a-81f4-46f6-8dc7-8f8e6a1e95da",
   "metadata": {},
   "outputs": [
    {
     "name": "stdout",
     "output_type": "stream",
     "text": [
      "{'d', 'e'}\n"
     ]
    }
   ],
   "source": [
    "setA.difference_update(setB,setC)\n",
    "print(setA)"
   ]
  },
  {
   "cell_type": "raw",
   "id": "21569fdd-734a-45c2-8edf-090487df2ff7",
   "metadata": {},
   "source": [
    "difference_update() → changes original set, returns None."
   ]
  },
  {
   "cell_type": "code",
   "execution_count": 82,
   "id": "c6356d77-c8aa-4250-aec5-a9fc261c2acf",
   "metadata": {},
   "outputs": [
    {
     "name": "stdout",
     "output_type": "stream",
     "text": [
      "{'b', 'c', 'a'}\n"
     ]
    }
   ],
   "source": [
    "# intersection_update()\n",
    "# shortcut : a &= b -> a = a&b\n",
    "setA = {'a','b','c','d','e'}\n",
    "setB = {'p','q','r','s','a','b','c'}\n",
    "setC = {'x','y','r','s','a','c','z'}\n",
    "setA.intersection_update(setB)\n",
    "print(setA)"
   ]
  },
  {
   "cell_type": "code",
   "execution_count": 83,
   "id": "4fd89eb1-3f4f-4c5d-9a21-e53cd988100f",
   "metadata": {},
   "outputs": [
    {
     "name": "stdout",
     "output_type": "stream",
     "text": [
      "{'b', 'c', 'a'}\n"
     ]
    }
   ],
   "source": [
    "setA = setA & setB\n",
    "print(setA)"
   ]
  },
  {
   "cell_type": "code",
   "execution_count": 85,
   "id": "482e06f3-0d31-42d2-8865-8147e02bbd09",
   "metadata": {},
   "outputs": [
    {
     "name": "stdout",
     "output_type": "stream",
     "text": [
      "{'c', 'a'}\n"
     ]
    }
   ],
   "source": [
    "setA = {'a','b','c','d','e'}\n",
    "setB = {'p','q','r','s','a','b','c'}\n",
    "setC = {'x','y','r','s','a','c','z'}\n",
    "# setA.intersection_update(setB,setC) {'c', 'a'}\n",
    "setA = setA & (setB & setC)\n",
    "# {'a','b','c','d','e'} & ({'a','c'})\n",
    "print(setA)"
   ]
  },
  {
   "cell_type": "code",
   "execution_count": 86,
   "id": "08a91d87-fb03-40ae-b7e4-f856ea9cb763",
   "metadata": {},
   "outputs": [
    {
     "name": "stdout",
     "output_type": "stream",
     "text": [
      "False\n",
      "True\n"
     ]
    }
   ],
   "source": [
    "# isdisjoint \n",
    "setA = {'a','b','c','d','e'}\n",
    "setB = {'p','q','r','s','a','b','c'}\n",
    "setC = {'x','y','r','s','a','c','z'}\n",
    "setD = {'k','m'}\n",
    "print(setA.isdisjoint(setB)) # False\n",
    "print(setA.isdisjoint(setD)) # True"
   ]
  },
  {
   "cell_type": "code",
   "execution_count": 88,
   "id": "49526441-f4c0-42db-b983-4efc6f70854e",
   "metadata": {},
   "outputs": [
    {
     "name": "stdout",
     "output_type": "stream",
     "text": [
      "True\n",
      "True\n"
     ]
    }
   ],
   "source": [
    "# issubset() & issuperset()\n",
    "set1 = {1,2,3,4,5}\n",
    "set2 = {1,2,3,4,5,6,7,8,9}\n",
    "print(set1.issubset(set2)) # True as set1 is subset of set2\n",
    "print(set2.issuperset(set1)) # True as set2 is superset of set1"
   ]
  },
  {
   "cell_type": "code",
   "execution_count": 96,
   "id": "b6a83ccb-8559-4166-ae9f-b598a35efa61",
   "metadata": {},
   "outputs": [
    {
     "name": "stdout",
     "output_type": "stream",
     "text": [
      "{'d', 'r', 'q', 's', 'p', 'e'}\n"
     ]
    }
   ],
   "source": [
    "# symmetric_difference_update()\n",
    "# shortcut a ^= b\n",
    "setA = {'a','b','c','d','e'}\n",
    "setB = {'p','q','r','s','a','b','c'}\n",
    "setC = {'x','y','r','s','a','c','z'}\n",
    "setA.symmetric_difference_update(setB)\n",
    "print(setA)"
   ]
  },
  {
   "cell_type": "code",
   "execution_count": 97,
   "id": "186bfed7-cfad-44e7-bdb1-1695c85838a8",
   "metadata": {},
   "outputs": [
    {
     "name": "stdout",
     "output_type": "stream",
     "text": [
      "{'q', 'p', 'e', 'd', 'r', 's'}\n"
     ]
    }
   ],
   "source": [
    "setA = {'a','b','c','d','e'}\n",
    "setB = {'p','q','r','s','a','b','c'}\n",
    "setC = {'x','y','r','s','a','c','z'}\n",
    "setA = setA ^ setB\n",
    "print(setA)"
   ]
  },
  {
   "cell_type": "code",
   "execution_count": 98,
   "id": "e024e386-2c49-45b3-8a6b-524a4bb55aaf",
   "metadata": {
    "scrolled": true
   },
   "outputs": [
    {
     "name": "stdout",
     "output_type": "stream",
     "text": [
      "{'d', 'x', 'y', 'p', 'e', 'z', 'q', 'c', 'a'}\n"
     ]
    }
   ],
   "source": [
    "# (setB,setC) -> {'p','q','r','s','a','b','c'} ^ {'x','y','r','s','a','c','z'}\n",
    "# -> {'p','q','b','x','y','z'}\n",
    "# setA ^ {'p','q','b','x','y','z'} -> {'a','c','d','e','p','q','x','y','z'}\n",
    "setA = {'a','b','c','d','e'}\n",
    "setB = {'p','q','r','s','a','b','c'}\n",
    "setC = {'x','y','r','s','a','c','z'}\n",
    "setA = setA ^ (setB ^ setC)\n",
    "print(setA)"
   ]
  },
  {
   "cell_type": "code",
   "execution_count": 101,
   "id": "094e483e-246f-4d4d-b2af-cf8fd1dd4d3f",
   "metadata": {},
   "outputs": [
    {
     "name": "stdout",
     "output_type": "stream",
     "text": [
      "{'q', 'y', 'p', 'e', 'd', 'z', 'r', 'x', 'b', 's', 'c', 'a'}\n"
     ]
    }
   ],
   "source": [
    "# update() |\n",
    "# shortcut a |= b|c\n",
    "setA = {'a','b','c','d','e'}\n",
    "setB = {'p','q','r','s','a','b','c'}\n",
    "setC = {'x','y','r','s','a','c','z'}\n",
    "setA.update(setB,setC)\n",
    "print(setA)"
   ]
  },
  {
   "cell_type": "code",
   "execution_count": 102,
   "id": "3db22b02-0a6b-417c-878f-693fd8fd9484",
   "metadata": {},
   "outputs": [
    {
     "name": "stdout",
     "output_type": "stream",
     "text": [
      "{'q', 'y', 'p', 'e', 'd', 'z', 'r', 'x', 'b', 's', 'c', 'a'}\n"
     ]
    }
   ],
   "source": [
    "setA = {'a','b','c','d','e'}\n",
    "setB = {'p','q','r','s','a','b','c'}\n",
    "setC = {'x','y','r','s','a','c','z'}\n",
    "setA = setA | setB | setC\n",
    "print(setA)"
   ]
  },
  {
   "cell_type": "code",
   "execution_count": null,
   "id": "a7fd55ba-897b-4370-a70a-bbc42b5eb3d6",
   "metadata": {},
   "outputs": [],
   "source": []
  }
 ],
 "metadata": {
  "kernelspec": {
   "display_name": "Python [conda env:new.anaconda]",
   "language": "python",
   "name": "conda-env-new.anaconda-py"
  },
  "language_info": {
   "codemirror_mode": {
    "name": "ipython",
    "version": 3
   },
   "file_extension": ".py",
   "mimetype": "text/x-python",
   "name": "python",
   "nbconvert_exporter": "python",
   "pygments_lexer": "ipython3",
   "version": "3.12.7"
  }
 },
 "nbformat": 4,
 "nbformat_minor": 5
}
