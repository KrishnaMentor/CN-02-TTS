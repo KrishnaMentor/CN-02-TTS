{
 "cells": [
  {
   "cell_type": "code",
   "execution_count": 2,
   "id": "b5bc67ed-6670-4655-881a-d6bbe029118f",
   "metadata": {},
   "outputs": [
    {
     "name": "stdout",
     "output_type": "stream",
     "text": [
      "Hello EveryOne!\n"
     ]
    }
   ],
   "source": [
    "print(\"Hello EveryOne!\")"
   ]
  },
  {
   "cell_type": "raw",
   "id": "e1044fd6-2a48-4c29-adfc-4ab126aced36",
   "metadata": {},
   "source": [
    "Welcome To the Python Course!"
   ]
  },
  {
   "cell_type": "markdown",
   "id": "ef34e1aa-e63b-4a0e-ae20-15538e29fd3c",
   "metadata": {},
   "source": [
    "# Python Programming\n",
    "#### Let's Learn Together , Grow Together!!\n",
    "1. Learn Faster!\n",
    "2. Grow Faster\n",
    "- It is a programming Language.\n",
    "    - It's a high level language.\n",
    "        - Easy To understand. (Human Readable)\n",
    "- Handles Large Dataset.\n",
    "- Python is a case-sensitive language\n",
    "- It's an interpreter language\n",
    "- Rich in Libraries\n",
    "- Amazing Support from the community\n",
    "- Its an platform independent. -> .py"
   ]
  },
  {
   "cell_type": "raw",
   "id": "65a2d3e1-80b8-4d32-a359-5c8655261918",
   "metadata": {},
   "source": [
    "# Java\n",
    "int x = 10\n",
    "System.out.println(x)"
   ]
  },
  {
   "cell_type": "code",
   "execution_count": 15,
   "id": "57e879bc-cc34-487f-a93d-e41e684a1d0c",
   "metadata": {},
   "outputs": [
    {
     "name": "stdout",
     "output_type": "stream",
     "text": [
      "10\n",
      "<class 'int'>\n"
     ]
    }
   ],
   "source": [
    "# Python\n",
    "x = 10\n",
    "print(x)\n",
    "print(type(x))"
   ]
  },
  {
   "cell_type": "code",
   "execution_count": 16,
   "id": "2b36b7a4-7db7-4500-be66-550d57c8d27e",
   "metadata": {},
   "outputs": [
    {
     "name": "stdout",
     "output_type": "stream",
     "text": [
      "Coding Ninja\n",
      "<class 'str'>\n"
     ]
    }
   ],
   "source": [
    "x = \"Coding Ninja\"\n",
    "print(x)\n",
    "print(type(x))"
   ]
  },
  {
   "cell_type": "code",
   "execution_count": 17,
   "id": "a1b1814b-91a8-43a7-8cae-4b274e5d9e11",
   "metadata": {},
   "outputs": [
    {
     "name": "stdout",
     "output_type": "stream",
     "text": [
      "k\n",
      "<class 'str'>\n"
     ]
    }
   ],
   "source": [
    "x = 'k'\n",
    "print(x)\n",
    "print(type(x))"
   ]
  },
  {
   "cell_type": "code",
   "execution_count": 18,
   "id": "f11ad21d-91db-40e9-bbd1-71d5ea7f843a",
   "metadata": {},
   "outputs": [
    {
     "name": "stdout",
     "output_type": "stream",
     "text": [
      "11\n",
      "<class 'int'>\n"
     ]
    }
   ],
   "source": [
    "x = int('10') + 1\n",
    "print(x)\n",
    "print(type(x))"
   ]
  },
  {
   "cell_type": "code",
   "execution_count": 19,
   "id": "941a5f9a-6151-4aa0-8a55-34c6a2df4c54",
   "metadata": {},
   "outputs": [
    {
     "name": "stdout",
     "output_type": "stream",
     "text": [
      "10.5\n",
      "<class 'float'>\n"
     ]
    }
   ],
   "source": [
    "x = 10.5\n",
    "print(x)\n",
    "print(type(x))"
   ]
  },
  {
   "cell_type": "code",
   "execution_count": 20,
   "id": "8e102e96-17bd-4b74-a804-4a2bf40ec573",
   "metadata": {},
   "outputs": [
    {
     "name": "stdout",
     "output_type": "stream",
     "text": [
      "(9+6j)\n",
      "<class 'complex'>\n"
     ]
    }
   ],
   "source": [
    "x = 9 + 6j\n",
    "print(x)\n",
    "print(type(x))"
   ]
  },
  {
   "cell_type": "code",
   "execution_count": 22,
   "id": "91992d59-b1e7-4a64-80dc-485f6c09614f",
   "metadata": {},
   "outputs": [
    {
     "name": "stdout",
     "output_type": "stream",
     "text": [
      "Python\n",
      "Programming\n"
     ]
    }
   ],
   "source": [
    "# parameters \"\\n\" by default\n",
    "print(\"Python\")\n",
    "print(\"Programming\")"
   ]
  },
  {
   "cell_type": "code",
   "execution_count": 24,
   "id": "c70ed5dd-6446-429b-a80c-b502abfdf0c3",
   "metadata": {},
   "outputs": [
    {
     "name": "stdout",
     "output_type": "stream",
     "text": [
      "Python Programming\n",
      "Coding is Awesome 🔥\n"
     ]
    }
   ],
   "source": [
    "print(\"Python\" , end = \" \")\n",
    "print(\"Programming\")\n",
    "print(\"Coding is Awesome 🔥\")"
   ]
  },
  {
   "cell_type": "code",
   "execution_count": 25,
   "id": "571bdc48-38a1-435b-8b94-60563f38bd26",
   "metadata": {},
   "outputs": [
    {
     "name": "stdout",
     "output_type": "stream",
     "text": [
      "Mon Tues Weds Thurs Fri\n"
     ]
    }
   ],
   "source": [
    "# seperator -> concat_ws\n",
    "print(\"Mon\",\"Tues\",\"Weds\",\"Thurs\",\"Fri\")"
   ]
  },
  {
   "cell_type": "code",
   "execution_count": 26,
   "id": "4202277b-f456-46ad-b58d-61cda1627451",
   "metadata": {},
   "outputs": [
    {
     "name": "stdout",
     "output_type": "stream",
     "text": [
      "Mon - Tues - Weds - Thurs - Fri\n"
     ]
    }
   ],
   "source": [
    "print(\"Mon\",\"Tues\",\"Weds\",\"Thurs\",\"Fri\" , sep = \" - \")"
   ]
  },
  {
   "cell_type": "markdown",
   "id": "ea33dbb8-e1ed-491e-955a-07bdf528faaa",
   "metadata": {},
   "source": [
    "#### Input() \n",
    "- Used to accept user input from the keyboard as a string, which can be further type cast as per the requirement."
   ]
  },
  {
   "cell_type": "code",
   "execution_count": 2,
   "id": "301afc90-ea99-4802-9be2-b6e7cdb25a13",
   "metadata": {},
   "outputs": [
    {
     "name": "stdin",
     "output_type": "stream",
     "text": [
      "Enter the user_name:  Venom\n"
     ]
    },
    {
     "name": "stdout",
     "output_type": "stream",
     "text": [
      "Venom\n"
     ]
    }
   ],
   "source": [
    "user_input = input(\"Enter the user_name: \")\n",
    "print(user_input)"
   ]
  },
  {
   "cell_type": "code",
   "execution_count": 3,
   "id": "20923c54-43b0-4bc3-b803-3c96cab5ac36",
   "metadata": {},
   "outputs": [
    {
     "name": "stdin",
     "output_type": "stream",
     "text": [
      "Enter the gaming_name:  DaddyDamage\n"
     ]
    },
    {
     "name": "stdout",
     "output_type": "stream",
     "text": [
      "DaddyDamage\n"
     ]
    }
   ],
   "source": [
    "user_input = input(\"Enter the gaming_name: \")\n",
    "print(user_input)"
   ]
  },
  {
   "cell_type": "code",
   "execution_count": 5,
   "id": "1bdf835a-532a-4ae7-8b22-f50c5b04ffcf",
   "metadata": {},
   "outputs": [
    {
     "name": "stdin",
     "output_type": "stream",
     "text": [
      "Enter the value:  10\n"
     ]
    },
    {
     "name": "stdout",
     "output_type": "stream",
     "text": [
      "10\n",
      "<class 'str'>\n"
     ]
    }
   ],
   "source": [
    "val = input(\"Enter the value: \")\n",
    "print(val)\n",
    "print(type(val))"
   ]
  },
  {
   "cell_type": "code",
   "execution_count": 6,
   "id": "50addf20-2658-4084-a4d9-5cb8d9dbbee7",
   "metadata": {},
   "outputs": [
    {
     "name": "stdin",
     "output_type": "stream",
     "text": [
      "Enter the value:  11\n"
     ]
    },
    {
     "name": "stdout",
     "output_type": "stream",
     "text": [
      "11\n",
      "<class 'int'>\n"
     ]
    }
   ],
   "source": [
    "val = int(input(\"Enter the value: \"))\n",
    "print(val)\n",
    "print(type(val))"
   ]
  },
  {
   "cell_type": "code",
   "execution_count": 7,
   "id": "8f44281c-0f46-4ebc-be56-447c15369e9d",
   "metadata": {},
   "outputs": [
    {
     "name": "stdout",
     "output_type": "stream",
     "text": [
      "55\n"
     ]
    }
   ],
   "source": [
    "print(val * 5)"
   ]
  },
  {
   "cell_type": "code",
   "execution_count": 10,
   "id": "173897c8-02b6-40b0-b2be-6bb5ce5df881",
   "metadata": {},
   "outputs": [
    {
     "name": "stdin",
     "output_type": "stream",
     "text": [
      "Enter the value between 1-100 :  75\n"
     ]
    },
    {
     "name": "stdout",
     "output_type": "stream",
     "text": [
      "85\n"
     ]
    }
   ],
   "source": [
    "x = int(input(\"Enter the value between 1-100 : \"))\n",
    "x = x + 10\n",
    "print(x)"
   ]
  },
  {
   "cell_type": "code",
   "execution_count": 25,
   "id": "08728498-fa86-45aa-abf1-473770652f43",
   "metadata": {},
   "outputs": [
    {
     "name": "stdin",
     "output_type": "stream",
     "text": [
      "Enter the value between 1-100 :  66\n"
     ]
    },
    {
     "name": "stdout",
     "output_type": "stream",
     "text": [
      "76\n"
     ]
    }
   ],
   "source": [
    "x = int(input(\"Enter the value between 1-100 : \"))\n",
    "x = x + 10 # '75' + 10 - TypeError: can only concatenate str (not \"int\") to str\n",
    "print(x)"
   ]
  },
  {
   "cell_type": "code",
   "execution_count": 29,
   "id": "58efb9fe-e279-4f7f-87c5-0116a479e14a",
   "metadata": {},
   "outputs": [
    {
     "name": "stdout",
     "output_type": "stream",
     "text": [
      "76\n",
      "<class 'str'>\n"
     ]
    }
   ],
   "source": [
    "x = str(x)\n",
    "print(x)\n",
    "print(type(x))"
   ]
  },
  {
   "cell_type": "code",
   "execution_count": 30,
   "id": "bae5274b-8cf9-4bbe-aa35-e3e92ca28776",
   "metadata": {},
   "outputs": [
    {
     "name": "stdin",
     "output_type": "stream",
     "text": [
      "Enter the username:  utkarshdev\n",
      "Enter your personal mail:  utkarssh@gmail.com\n"
     ]
    },
    {
     "name": "stdout",
     "output_type": "stream",
     "text": [
      "Hey utkarshdev Welcome to the Python Course, You being registered with utkarssh@gmail.com :)\n"
     ]
    }
   ],
   "source": [
    "# String Pattern\n",
    "user_name = input(\"Enter the username: \")\n",
    "email = input(\"Enter your personal mail: \")\n",
    "print(\"Hey \" + user_name + \" Welcome to the Python Course, You being registered with \" + email + \" :)\")"
   ]
  },
  {
   "cell_type": "code",
   "execution_count": 31,
   "id": "b5260a51-06d0-4b52-905c-99a468f94af7",
   "metadata": {},
   "outputs": [
    {
     "name": "stdin",
     "output_type": "stream",
     "text": [
      "Enter the username:  iaarifpathan\n",
      "Enter your personal mail:  iaarifpathan@gmail.com\n"
     ]
    },
    {
     "name": "stdout",
     "output_type": "stream",
     "text": [
      "Hey iaarifpathan Welcome to the Python Course, You being registered with iaarifpathan@gmail.com :)\n"
     ]
    }
   ],
   "source": [
    "# String Pattern\n",
    "user_name = input(\"Enter the username: \")\n",
    "email = input(\"Enter your personal mail: \")\n",
    "print(f\"Hey {user_name} Welcome to the Python Course, You being registered with {email} :)\")"
   ]
  },
  {
   "cell_type": "markdown",
   "id": "3bc7622f-bffb-4222-9039-0bf66d3f5f01",
   "metadata": {},
   "source": [
    "- Single Line Comments - #\n",
    "- Multi Line Comments - '''"
   ]
  },
  {
   "cell_type": "code",
   "execution_count": 32,
   "id": "f4daecc0-cd14-47b4-86a4-09aefdd0f862",
   "metadata": {},
   "outputs": [
    {
     "name": "stdout",
     "output_type": "stream",
     "text": [
      "Python Programming\n"
     ]
    }
   ],
   "source": [
    "# This is a single line comment\n",
    "print(\"Python Programming\")"
   ]
  },
  {
   "cell_type": "code",
   "execution_count": 36,
   "id": "63f4f9f6-4ca6-43f9-975c-3ea820e7a44f",
   "metadata": {},
   "outputs": [
    {
     "name": "stdin",
     "output_type": "stream",
     "text": [
      "Enter the first value:  10\n",
      "Enter the second value:  5\n"
     ]
    },
    {
     "name": "stdout",
     "output_type": "stream",
     "text": [
      "The final result is  50\n",
      "The final result is 60\n"
     ]
    }
   ],
   "source": [
    "'''\n",
    "    This is a multiline comments....\n",
    "    Put some important stuff here relevant to \n",
    "    your python program\n",
    "'''\n",
    "num1 = int(input(\"Enter the first value: \"))\n",
    "num2 = int(input(\"Enter the second value: \"))\n",
    "result = num1 * num2\n",
    "print(\"The final result is \" , result)\n",
    "print(f\"The final result is {result + 10}\")"
   ]
  },
  {
   "cell_type": "code",
   "execution_count": 37,
   "id": "0404bfb9-a612-427a-8634-6de9b116d18a",
   "metadata": {},
   "outputs": [
    {
     "name": "stdin",
     "output_type": "stream",
     "text": [
      "Enter your Dream Car:  Defender\n"
     ]
    },
    {
     "name": "stdout",
     "output_type": "stream",
     "text": [
      "My Dream Car is : Defender\n"
     ]
    }
   ],
   "source": [
    "fav_car = input(\"Enter your Dream Car: \")\n",
    "print(\"My Dream Car is : \" + fav_car)"
   ]
  },
  {
   "cell_type": "code",
   "execution_count": 38,
   "id": "3b3b4b3f-bd1f-4e9b-9443-ea27b84b1e12",
   "metadata": {},
   "outputs": [
    {
     "name": "stdout",
     "output_type": "stream",
     "text": [
      "z is greater than 10\n",
      "Outside the if statement\n"
     ]
    }
   ],
   "source": [
    "# Indentation:\n",
    "z = 15\n",
    "if z > 10: # Boolean Value[True/False]\n",
    "    print(\"z is greater than 10\")\n",
    "print(\"Outside the if statement\")"
   ]
  },
  {
   "cell_type": "code",
   "execution_count": 39,
   "id": "481a0b7d-fd2f-4932-8b11-5fc3b4516320",
   "metadata": {},
   "outputs": [
    {
     "name": "stdout",
     "output_type": "stream",
     "text": [
      "Outside the if statement\n"
     ]
    }
   ],
   "source": [
    "# Indentation:\n",
    "z = 15\n",
    "if z > 20: # Boolean Value[True/False]\n",
    "    print(\"z is greater than 10\")\n",
    "print(\"Outside the if statement\")"
   ]
  },
  {
   "cell_type": "markdown",
   "id": "f3e472b9-4b5b-4d83-9a27-f8a6d3e7b526",
   "metadata": {},
   "source": [
    "# Variables : What & Why?\n",
    "#### Variables acts as an container for storing data, They help with:\n",
    "- Storing Data\n",
    "- Manipulating Values\n",
    "- Reusability\n",
    "- Improving the Readibility \n",
    "    -  total_sum >> ts\n",
    "    -  compound_interest >> c_i\n",
    "    -  age\n",
    "    -  finding_prod_sum >> finding_the_product_and_sum >> p_s"
   ]
  },
  {
   "cell_type": "code",
   "execution_count": 40,
   "id": "333f44b2-58a0-4f11-8f3c-72a54a05986f",
   "metadata": {},
   "outputs": [
    {
     "name": "stdout",
     "output_type": "stream",
     "text": [
      "99\n",
      "UltimateForce\n"
     ]
    }
   ],
   "source": [
    "# Declaring and assigning variables:\n",
    "val = 99\n",
    "user_name = \"UltimateForce\"\n",
    "print(val)\n",
    "print(user_name)"
   ]
  },
  {
   "cell_type": "code",
   "execution_count": 43,
   "id": "b9841998-7695-43cf-bb3c-dee54b1c69ef",
   "metadata": {},
   "outputs": [
    {
     "name": "stdout",
     "output_type": "stream",
     "text": [
      "10\n",
      "20\n",
      "30\n"
     ]
    }
   ],
   "source": [
    "a,b,c = 10,20,30\n",
    "print(a)\n",
    "print(b)\n",
    "print(c)"
   ]
  },
  {
   "cell_type": "code",
   "execution_count": 48,
   "id": "716bf769-cccc-4951-b287-80abb595355c",
   "metadata": {},
   "outputs": [
    {
     "name": "stdout",
     "output_type": "stream",
     "text": [
      "10\n",
      "<class 'int'>\n",
      "20\n",
      "<class 'int'>\n",
      "[30, 40, 50]\n",
      "<class 'list'>\n"
     ]
    }
   ],
   "source": [
    "a,b,*c = 10,20,30,40,50\n",
    "print(a)\n",
    "print(type(a))\n",
    "print(b)\n",
    "print(type(b))\n",
    "print(c)\n",
    "print(type(c))"
   ]
  },
  {
   "cell_type": "code",
   "execution_count": 56,
   "id": "ffedd269-f5da-4ba7-8f88-f0ed7d6a36d1",
   "metadata": {},
   "outputs": [
    {
     "name": "stdout",
     "output_type": "stream",
     "text": [
      "10\n",
      "<class 'int'>\n",
      "[20, 30, 40]\n",
      "<class 'list'>\n",
      "50\n",
      "<class 'int'>\n"
     ]
    }
   ],
   "source": [
    "a,*b,c = 10,20,30,40,50\n",
    "print(a)\n",
    "print(type(a))\n",
    "print(b)\n",
    "print(type(b))\n",
    "print(c)\n",
    "print(type(c))"
   ]
  },
  {
   "cell_type": "code",
   "execution_count": 57,
   "id": "deaa2f03-3e42-4f80-a36e-50898d020e63",
   "metadata": {},
   "outputs": [
    {
     "name": "stdout",
     "output_type": "stream",
     "text": [
      "10\n",
      "<class 'int'>\n",
      "[20, 30, 'a', 'b', 40]\n",
      "<class 'list'>\n",
      "50\n",
      "<class 'int'>\n"
     ]
    }
   ],
   "source": [
    "a,*b,c = 10,20,30,'a','b',40,50\n",
    "print(a)\n",
    "print(type(a))\n",
    "print(b)\n",
    "print(type(b))\n",
    "print(c)\n",
    "print(type(c))"
   ]
  },
  {
   "cell_type": "code",
   "execution_count": 58,
   "id": "8d4b3729-2ed3-41e1-aff9-c7baa726a5b8",
   "metadata": {},
   "outputs": [
    {
     "name": "stdout",
     "output_type": "stream",
     "text": [
      "Ninjas\n",
      "Ninjas\n",
      "Ninjas\n",
      "Ninjas\n"
     ]
    }
   ],
   "source": [
    "p=q=r=s= \"Ninjas\"\n",
    "print(p)\n",
    "print(q)\n",
    "print(r)\n",
    "print(s)"
   ]
  },
  {
   "cell_type": "markdown",
   "id": "56ce3e2e-895d-4dfa-b8f3-e3ff9587960f",
   "metadata": {},
   "source": [
    "## Rules for naming a \"Variables\"\n",
    "- Can include letters, digits and underscore\n",
    "- Must start with a letter or underscore\n",
    "- case-sensitive\n",
    "    - val != Val\n",
    "    - num != nuM\n",
    "    - digit != Digit\n",
    "- Can't use Python Keywords\n",
    "    - for, input, while, print, if, elif, tuple, list, set, dict, true, false\n",
    "- Can't have spaces or special characters (except _)\n",
    "- Variable name can't start with numbers."
   ]
  },
  {
   "cell_type": "code",
   "execution_count": 3,
   "id": "c6ba7aa5-02ed-41ea-a412-54e8e71307ce",
   "metadata": {},
   "outputs": [
    {
     "name": "stdout",
     "output_type": "stream",
     "text": [
      "Python\n"
     ]
    }
   ],
   "source": [
    "my_first_variable = \"Python\"\n",
    "print(my_first_variable)"
   ]
  },
  {
   "cell_type": "code",
   "execution_count": 2,
   "id": "7af1f0c8-3391-46b1-890b-77a3ed5e1533",
   "metadata": {},
   "outputs": [
    {
     "name": "stdout",
     "output_type": "stream",
     "text": [
      "Coding\n"
     ]
    }
   ],
   "source": [
    "_var = \"Coding\"\n",
    "print(_var)"
   ]
  },
  {
   "cell_type": "code",
   "execution_count": 6,
   "id": "ff968614-74e7-4ed7-aed7-432a0d55e2ff",
   "metadata": {},
   "outputs": [
    {
     "name": "stdout",
     "output_type": "stream",
     "text": [
      "Hi, I'm good, What about you?\n",
      "Hi, I'm good, What about you?\n"
     ]
    }
   ],
   "source": [
    "# String -> Escape Character\n",
    "print(\"Hi, I'm good, What about you?\")\n",
    "print('Hi, I\\'m good, What about you?')"
   ]
  },
  {
   "cell_type": "code",
   "execution_count": 7,
   "id": "b94a1029-34b5-4db6-b024-be0d3feed92a",
   "metadata": {},
   "outputs": [
    {
     "name": "stdout",
     "output_type": "stream",
     "text": [
      "an \"apple\" a day keeps a doctor away\n"
     ]
    }
   ],
   "source": [
    "print(\"an \\\"apple\\\" a day keeps a doctor away\")"
   ]
  },
  {
   "cell_type": "code",
   "execution_count": 12,
   "id": "206839b7-a9b1-4c15-aa21-333256eb71cd",
   "metadata": {},
   "outputs": [
    {
     "name": "stdout",
     "output_type": "stream",
     "text": [
      "Hi Everyone! Welcome to the course\n"
     ]
    }
   ],
   "source": [
    "print(\"Hi Everyone! Welcome to the course\")"
   ]
  },
  {
   "cell_type": "code",
   "execution_count": 15,
   "id": "45cef1fe-4848-4265-b8ec-0a58f07c6de4",
   "metadata": {},
   "outputs": [
    {
     "name": "stdout",
     "output_type": "stream",
     "text": [
      "\n",
      "    Tu Paas Hai Mere Paas Hai Aise\n",
      "    Mera Koi Ehsaas Hai Jaise\n",
      "    Tu Paas Hai Mere Paas Hai Aise\n",
      "    Mera Koi Ehsaas Hai Jaise\n",
      "    \n",
      "    Haye Main Mar Hi Jaaun\n",
      "    Jo Tujhko Na Paaun\n",
      "    Baaton Mein Teri Main\n",
      "    Raatein Bitaun\n",
      "\n",
      "\n"
     ]
    }
   ],
   "source": [
    "# Multiline String -> <pre> tag in HTML [Markup Language]\n",
    "print(\"\"\"\n",
    "    Tu Paas Hai Mere Paas Hai Aise\n",
    "    Mera Koi Ehsaas Hai Jaise\n",
    "    Tu Paas Hai Mere Paas Hai Aise\n",
    "    Mera Koi Ehsaas Hai Jaise\n",
    "    \n",
    "    Haye Main Mar Hi Jaaun\n",
    "    Jo Tujhko Na Paaun\n",
    "    Baaton Mein Teri Main\n",
    "    Raatein Bitaun\n",
    "\n",
    "\"\"\")"
   ]
  },
  {
   "cell_type": "code",
   "execution_count": 20,
   "id": "93a533de-2c93-4cfc-9076-81560de205f5",
   "metadata": {},
   "outputs": [
    {
     "name": "stdout",
     "output_type": "stream",
     "text": [
      "Hey: What's your name: \t 'Aditya Verma'\n",
      "Hello\n",
      "World\n",
      "x y z\n",
      "Welcome Back!\n"
     ]
    }
   ],
   "source": [
    "# Escape characters \"\\n\"[Next line] & \"\\t\"[tab space]\n",
    "print(\"Hey: What's your name: \\t 'Aditya Verma'\")\n",
    "print(\"Hello\\nWorld\")\n",
    "print(\"x\", end=\" \")\n",
    "print(\"y\", end=\" \")\n",
    "print(\"z\", end=\"\\n\")\n",
    "print(\"Welcome Back!\")"
   ]
  },
  {
   "cell_type": "code",
   "execution_count": 21,
   "id": "478c40d7-8a2c-4d31-be0e-232b694ba282",
   "metadata": {},
   "outputs": [
    {
     "name": "stdout",
     "output_type": "stream",
     "text": [
      "<class 'float'>\n"
     ]
    }
   ],
   "source": [
    "# type -> conversion()\n",
    "x = 10.0\n",
    "print(type(x))"
   ]
  },
  {
   "cell_type": "code",
   "execution_count": 22,
   "id": "11b4ed87-0f05-4415-8d1b-aeb04f3bf3ef",
   "metadata": {},
   "outputs": [
    {
     "name": "stdout",
     "output_type": "stream",
     "text": [
      "99\n"
     ]
    }
   ],
   "source": [
    "num1 = 99.99\n",
    "print(int(num1))"
   ]
  },
  {
   "cell_type": "code",
   "execution_count": 23,
   "id": "0e917e85-82c1-480a-8759-e218844425aa",
   "metadata": {},
   "outputs": [
    {
     "name": "stdout",
     "output_type": "stream",
     "text": [
      "55\n",
      "<class 'str'>\n"
     ]
    }
   ],
   "source": [
    "x = 55\n",
    "y = str(x)\n",
    "print(y)\n",
    "print(type(y))"
   ]
  },
  {
   "cell_type": "code",
   "execution_count": 24,
   "id": "b4d61066-b517-4725-bddc-47babd8be82d",
   "metadata": {},
   "outputs": [
    {
     "name": "stdout",
     "output_type": "stream",
     "text": [
      "1\n",
      "<class 'bool'>\n",
      "<class 'int'>\n"
     ]
    }
   ],
   "source": [
    "_bool = True\n",
    "int_bool = int(_bool)\n",
    "print(int_bool)\n",
    "print(type(_bool))\n",
    "print(type(int_bool))"
   ]
  },
  {
   "cell_type": "code",
   "execution_count": 25,
   "id": "3b7ea16a-ba5c-45cb-9446-046c69a7209d",
   "metadata": {},
   "outputs": [
    {
     "name": "stdout",
     "output_type": "stream",
     "text": [
      "0\n",
      "<class 'bool'>\n",
      "<class 'int'>\n"
     ]
    }
   ],
   "source": [
    "_bool = False\n",
    "int_bool = int(_bool)\n",
    "print(int_bool)\n",
    "print(type(_bool))\n",
    "print(type(int_bool))"
   ]
  },
  {
   "cell_type": "markdown",
   "id": "6a62b27c-e048-4fd5-9cfc-58a809e78a84",
   "metadata": {},
   "source": [
    "# What are Operators?\n",
    "#### Operators are tools in programming used to perform actions like arithmetic, comparisons, assignments, logical evaluations, etc.\n",
    "\n",
    "### Types of Operators in Python:\n",
    "1. Arithmetic Operators\n",
    "\n",
    "2. Comparison Operators\n",
    "\n",
    "3. Logical Operators\n",
    "\n",
    "4. Bitwise Operators\n",
    "\n",
    "5. Assignment Operators\n",
    "\n",
    "6. Membership Operators\n",
    "\n",
    "7. Identity Operators\n"
   ]
  },
  {
   "cell_type": "markdown",
   "id": "90969ad9-d4c8-4d5f-ad2a-3950fa757355",
   "metadata": {},
   "source": [
    "### Arithmetic Operators:\n",
    "- '+' Addition\n",
    "- '-' Subtraction\n",
    "- '*' Multiplication\n",
    "- '/' Division (floating)\n",
    "- '%' Modulus (remainder)\n",
    "- '**' Exponentiation\n",
    "- '//' Floor Division"
   ]
  },
  {
   "cell_type": "code",
   "execution_count": 1,
   "id": "23e70fb0-b234-4a65-938a-d8089ab97352",
   "metadata": {},
   "outputs": [
    {
     "name": "stdout",
     "output_type": "stream",
     "text": [
      "18\n",
      "4\n",
      "77\n",
      "1.5714285714285714\n",
      "4\n",
      "1\n",
      "4\n",
      "121\n",
      "5\n"
     ]
    }
   ],
   "source": [
    "x = 11\n",
    "y = 7\n",
    "z = 15\n",
    "print(x+y) # 18 'One 8' [Virat Kohli]\n",
    "print(x-y) # 4\n",
    "print(x*y) # 77 ['Shubman Gill']\n",
    "print(x/y) # 1.57....\n",
    "print(x%y) # 4\n",
    "print(z%y) # 1\n",
    "print(z%x) # 4\n",
    "print(x ** 2) # 121\n",
    "print(x // 2) # 5"
   ]
  },
  {
   "cell_type": "code",
   "execution_count": 2,
   "id": "98fc6542-b81f-45ca-98fe-c3cd9862fed5",
   "metadata": {},
   "outputs": [
    {
     "name": "stdout",
     "output_type": "stream",
     "text": [
      "19487171\n"
     ]
    }
   ],
   "source": [
    "print(x ** y)"
   ]
  },
  {
   "cell_type": "raw",
   "id": "2b107354-29e0-408d-9a0b-5294d02bc508",
   "metadata": {},
   "source": [
    "# You can't do addition with 2 different data type\n",
    "x = '10' + 11 # TypeError: can only concatenate str (not \"int\") to str\n",
    "print(x)"
   ]
  },
  {
   "cell_type": "markdown",
   "id": "8f4b94e9-df31-4def-ba21-1d1dbaed4656",
   "metadata": {},
   "source": [
    "### Comparison Operators (Return Boolean Result):\n",
    "- '==' Equal to\n",
    "- '!=' Not Equal to\n",
    "- '>' Greater Than\n",
    "- '>=' Greater Than or  Equal to\n",
    "- '<' Less Than\n",
    "- '<=' Less Than or Equal to"
   ]
  },
  {
   "cell_type": "code",
   "execution_count": 5,
   "id": "2d46bef7-29a9-4b84-aa07-5e3b6f49c4ff",
   "metadata": {},
   "outputs": [
    {
     "name": "stdout",
     "output_type": "stream",
     "text": [
      "False\n",
      "True\n",
      "True\n",
      "False\n",
      "True\n",
      "True\n",
      "False\n",
      "False\n",
      "True\n",
      "True\n"
     ]
    }
   ],
   "source": [
    "x = 11\n",
    "y = 7\n",
    "z = 15\n",
    "print(x==y) # False\n",
    "print(x!=y) # True\n",
    "print(z!=y) # True\n",
    "print(z!=15) # False\n",
    "print(x>y) # True\n",
    "print(x>=y) # True\n",
    "print(z<=y) # False\n",
    "print(z<x)  # False\n",
    "print(x != 2) # True\n",
    "print(x >= 2) # True"
   ]
  },
  {
   "cell_type": "markdown",
   "id": "a421db65-2a60-4291-9c42-c34e6471e7a7",
   "metadata": {},
   "source": [
    "#### Logical Operators:\n",
    "- and : 'Return True' if both the conditions are True\n",
    "- or : 'Return False' if both the conditions are False\n",
    "- not : Return the opposite."
   ]
  },
  {
   "cell_type": "code",
   "execution_count": 6,
   "id": "e341e508-61b6-4ae1-8294-a19c44a488cb",
   "metadata": {},
   "outputs": [
    {
     "name": "stdout",
     "output_type": "stream",
     "text": [
      "False\n",
      "True\n",
      "False\n",
      "True\n",
      "False\n"
     ]
    }
   ],
   "source": [
    "x = 11\n",
    "y = 7\n",
    "z = 15\n",
    "print((x==y)and(z!=y)or(y>x)) # False\n",
    "print((x!=y)or(z!=y)or(y>x)) # True\n",
    "print((x>=y)and(z==y)and(z>x)) # False\n",
    "print(not(z!=15)) # True\n",
    "print(not((x<=y)and(z>=y)or(y!=x))) # False"
   ]
  },
  {
   "cell_type": "code",
   "execution_count": 7,
   "id": "f3cdb086-741c-4b52-b168-015bb150b453",
   "metadata": {},
   "outputs": [
    {
     "name": "stdout",
     "output_type": "stream",
     "text": [
      "True\n"
     ]
    }
   ],
   "source": [
    "print(not(x<=y)and(z>=y)or(y!=x)) # True"
   ]
  },
  {
   "cell_type": "code",
   "execution_count": 8,
   "id": "ad6ae039-5561-485e-885a-755da471edc6",
   "metadata": {},
   "outputs": [
    {
     "name": "stdout",
     "output_type": "stream",
     "text": [
      "True\n"
     ]
    }
   ],
   "source": [
    "print(not(x<=y)or(z<=y)and(y!=x)) # (T or F and T) # (T or F) # T"
   ]
  },
  {
   "cell_type": "markdown",
   "id": "fe727a4c-e052-40d8-9582-fdf3621a35de",
   "metadata": {},
   "source": [
    "### Bitwise Operators:\n",
    "- 'AND' = '&' -> 'Both bit with value 1 return 1 else 0'\n",
    "- 'OR' = '|' -> 'Any bit with value 1 return 1 else 0'\n",
    "- 'XOR' = '^' -> 'Alternative Bits return 1 else same bits returns 0'\n",
    "- 'NOT' = '~' -> '2s Complement to check the sign and evaluate'\n",
    "- 'Left Shift' = '<<' -> 'Shift bits to the left'\n",
    "- 'Right Shift' = '>>' -> 'Shift bits to the right'"
   ]
  },
  {
   "cell_type": "code",
   "execution_count": 9,
   "id": "91ba1d60-9c58-4964-a53e-b03690a69422",
   "metadata": {},
   "outputs": [
    {
     "name": "stdout",
     "output_type": "stream",
     "text": [
      "2\n"
     ]
    }
   ],
   "source": [
    "x = 10\n",
    "y = 6\n",
    "print(x & y) # 2"
   ]
  },
  {
   "cell_type": "code",
   "execution_count": 10,
   "id": "5fd89f2b-427a-41f0-934e-843f357f43c5",
   "metadata": {},
   "outputs": [
    {
     "name": "stdout",
     "output_type": "stream",
     "text": [
      "14\n"
     ]
    }
   ],
   "source": [
    "x = 10\n",
    "y = 6\n",
    "print(x | y) # 14"
   ]
  },
  {
   "cell_type": "code",
   "execution_count": 12,
   "id": "a4157c80-1093-4e1d-8712-2b227b578af3",
   "metadata": {},
   "outputs": [
    {
     "name": "stdout",
     "output_type": "stream",
     "text": [
      "12\n"
     ]
    }
   ],
   "source": [
    "x = 10\n",
    "y = 6\n",
    "print(x ^ y) # 12"
   ]
  },
  {
   "cell_type": "code",
   "execution_count": 13,
   "id": "d9bc1dac-91bd-4a99-9a19-8785769052bc",
   "metadata": {},
   "outputs": [
    {
     "name": "stdout",
     "output_type": "stream",
     "text": [
      "-11\n"
     ]
    }
   ],
   "source": [
    "x = 10 \n",
    "print(~x)"
   ]
  },
  {
   "cell_type": "code",
   "execution_count": 14,
   "id": "3553e7aa-895d-4c2d-9352-ba6dd2d2a897",
   "metadata": {},
   "outputs": [
    {
     "name": "stdout",
     "output_type": "stream",
     "text": [
      "-8\n"
     ]
    }
   ],
   "source": [
    "x = 7 \n",
    "print(~x)"
   ]
  },
  {
   "cell_type": "code",
   "execution_count": 16,
   "id": "6d662d61-ddad-492c-8e09-a30c0b1a97aa",
   "metadata": {},
   "outputs": [
    {
     "name": "stdout",
     "output_type": "stream",
     "text": [
      "16\n"
     ]
    }
   ],
   "source": [
    "x = -17 \n",
    "print(~x)"
   ]
  },
  {
   "cell_type": "code",
   "execution_count": 17,
   "id": "3782354a-854a-4502-a24c-2246d3236936",
   "metadata": {},
   "outputs": [
    {
     "name": "stdout",
     "output_type": "stream",
     "text": [
      "40\n"
     ]
    }
   ],
   "source": [
    "x = 10\n",
    "print(x<<2)"
   ]
  },
  {
   "cell_type": "code",
   "execution_count": 18,
   "id": "54164e03-ce4e-4912-b0a2-913ab6d8bc25",
   "metadata": {},
   "outputs": [
    {
     "name": "stdout",
     "output_type": "stream",
     "text": [
      "2\n"
     ]
    }
   ],
   "source": [
    "x = 10\n",
    "print(x>>2)"
   ]
  },
  {
   "cell_type": "markdown",
   "id": "f911f3bb-38ee-454d-b68c-2a9bc6c83224",
   "metadata": {},
   "source": [
    "#### Assignment Operators : \n",
    "- '=' -> (x = 5)\n",
    "- '+=' -> x+=5 -> x = x + 5\n",
    "- '-=' -> x-=5 -> x = x - 5\n",
    "- '*=' -> x *=5 -> x = x * 5\n",
    "- '/=' -> x/=5 -> x = x / 5\n",
    "- '%=' -> x%=5 -> x = x % 5\n",
    "- '//=' -> x//=5 -> x = x // 5\n",
    "- '**=' -> x **=5 -> x = x ** 5\n"
   ]
  },
  {
   "cell_type": "code",
   "execution_count": 4,
   "id": "5a1a68fd-7588-4e6b-a9a7-ebb96a5435ef",
   "metadata": {},
   "outputs": [
    {
     "name": "stdout",
     "output_type": "stream",
     "text": [
      "21\n",
      "14\n",
      "7.0\n"
     ]
    }
   ],
   "source": [
    "x = 10\n",
    "y = 11\n",
    "z = 7\n",
    "x += y\n",
    "print(x) # x = x+y => 10+11 => x = 21\n",
    "x -= z\n",
    "print(x) # x = x-z => 21-7 => x = 14\n",
    "x /= 2\n",
    "print(x) # x = 14/2 = 7.0"
   ]
  },
  {
   "cell_type": "code",
   "execution_count": 5,
   "id": "ddb8b746-3d71-469a-aea6-5fc8d58ab6f1",
   "metadata": {},
   "outputs": [
    {
     "name": "stdout",
     "output_type": "stream",
     "text": [
      "49.0\n"
     ]
    }
   ],
   "source": [
    "x *= x\n",
    "print(x)"
   ]
  },
  {
   "cell_type": "code",
   "execution_count": 6,
   "id": "08a1d8b4-d448-46a4-bf9d-5c6207b712ea",
   "metadata": {},
   "outputs": [
    {
     "name": "stdout",
     "output_type": "stream",
     "text": [
      "5.0\n"
     ]
    }
   ],
   "source": [
    "x %= y # x = 49 % 11 = 5\n",
    "print(x)"
   ]
  },
  {
   "cell_type": "code",
   "execution_count": 7,
   "id": "97f63677-53eb-4ef5-925b-6a407eae0990",
   "metadata": {},
   "outputs": [
    {
     "name": "stdout",
     "output_type": "stream",
     "text": [
      "0.0\n"
     ]
    }
   ],
   "source": [
    "x //= z\n",
    "print(x) # x = 5.0 // 7 => 0"
   ]
  },
  {
   "cell_type": "code",
   "execution_count": 8,
   "id": "e29cbce0-5056-4e70-98bb-dfe5584391ae",
   "metadata": {},
   "outputs": [
    {
     "name": "stdout",
     "output_type": "stream",
     "text": [
      "1.0\n"
     ]
    }
   ],
   "source": [
    "y **= x # y = 11 ** 0 => 1\n",
    "print(y)"
   ]
  },
  {
   "cell_type": "code",
   "execution_count": 9,
   "id": "c7b5d5f8-3d7c-4c83-8d76-e8df651f629f",
   "metadata": {},
   "outputs": [
    {
     "name": "stdout",
     "output_type": "stream",
     "text": [
      "8.0\n"
     ]
    }
   ],
   "source": [
    "z += y # 7 + 1.0 => 8.0\n",
    "print(z) # 8.0"
   ]
  },
  {
   "cell_type": "markdown",
   "id": "2d303df7-515b-4566-8c56-b3ace25c856c",
   "metadata": {},
   "source": [
    "#### Membership Operators:\n",
    "- Its Returns Boolean Value\n",
    "- 'in' -> True if the value is in the sequences\n",
    "- 'not  in' -> True if the value is not in the sequence"
   ]
  },
  {
   "cell_type": "code",
   "execution_count": 10,
   "id": "607ef44f-d5b6-46e3-96a5-de0c4a413a28",
   "metadata": {},
   "outputs": [
    {
     "name": "stdout",
     "output_type": "stream",
     "text": [
      "True\n",
      "True\n"
     ]
    }
   ],
   "source": [
    "print('hello' in 'hello world')\n",
    "print('hello' not in 'hellz world')"
   ]
  },
  {
   "cell_type": "code",
   "execution_count": 11,
   "id": "c79b2d8a-508a-4aa2-99a1-8cc3ae85b232",
   "metadata": {},
   "outputs": [
    {
     "name": "stdout",
     "output_type": "stream",
     "text": [
      "True\n",
      "True\n"
     ]
    }
   ],
   "source": [
    "print('I' in 'India')\n",
    "print('I' not in 'America')"
   ]
  },
  {
   "cell_type": "code",
   "execution_count": 12,
   "id": "b54b051d-c31d-4090-869a-5ca0fa3d88b5",
   "metadata": {},
   "outputs": [
    {
     "name": "stdout",
     "output_type": "stream",
     "text": [
      "False\n",
      "True\n"
     ]
    }
   ],
   "source": [
    "print('mon' in ['Mon','Tue','Wed','Thurs','Fri','Sat','Sun'])\n",
    "print('mon' not in ['Mon','Tue','Wed','Thurs','Fri','Sat','Sun'])"
   ]
  },
  {
   "cell_type": "code",
   "execution_count": 14,
   "id": "756af13a-480a-422a-a0f9-c318780e11f2",
   "metadata": {},
   "outputs": [
    {
     "name": "stdout",
     "output_type": "stream",
     "text": [
      "True\n",
      "False\n"
     ]
    }
   ],
   "source": [
    "print('mon' in {'mon' : 'Mon', 'tue':'Tues'})\n",
    "print('Mon' in {'mon' : 'Mon', 'tue':'Tues'})"
   ]
  },
  {
   "cell_type": "code",
   "execution_count": 15,
   "id": "a3664ba9-5891-46b6-b614-eb6279284796",
   "metadata": {},
   "outputs": [
    {
     "name": "stdout",
     "output_type": "stream",
     "text": [
      "1\n"
     ]
    }
   ],
   "source": [
    "x = int(True)\n",
    "print(x)"
   ]
  },
  {
   "cell_type": "code",
   "execution_count": 16,
   "id": "6e3fd8ef-40b0-4184-b52e-643be172645d",
   "metadata": {},
   "outputs": [
    {
     "name": "stdout",
     "output_type": "stream",
     "text": [
      "0\n"
     ]
    }
   ],
   "source": [
    "y = int(False)\n",
    "print(y)"
   ]
  },
  {
   "cell_type": "markdown",
   "id": "85579378-8028-4494-b33b-0d5a80717f6c",
   "metadata": {},
   "source": [
    "#### Identity Operators\n",
    "- 'is' -> Returns True if both the variables refers to the same object (having same memory address)\n",
    "- 'is not' -> Returns True if both the variables refers to the different objects (different memory address) "
   ]
  },
  {
   "cell_type": "code",
   "execution_count": 17,
   "id": "2f507db0-28c7-4b51-bb98-260691b7b186",
   "metadata": {},
   "outputs": [
    {
     "name": "stdout",
     "output_type": "stream",
     "text": [
      "True\n",
      "True\n",
      "True\n",
      "False\n"
     ]
    }
   ],
   "source": [
    "# '==' comparison operator (data equality)\n",
    "# 'is' compares the identities (object equality)\n",
    "a = [1,2,3]\n",
    "b = a\n",
    "c = [1,2,3]\n",
    "print(a == b) # True (same content)\n",
    "print(a is b) # True (same object in memory)\n",
    "\n",
    "print(a == c) # True (same content)\n",
    "print(a is c) # False (different objects in memory)"
   ]
  },
  {
   "cell_type": "code",
   "execution_count": 18,
   "id": "7d63f869-5f57-46eb-923c-dbc20006a34a",
   "metadata": {},
   "outputs": [
    {
     "name": "stdout",
     "output_type": "stream",
     "text": [
      "True\n"
     ]
    }
   ],
   "source": [
    "print(a is not c)"
   ]
  },
  {
   "cell_type": "code",
   "execution_count": 19,
   "id": "777d3c9a-d108-4caa-a074-626411c1844e",
   "metadata": {},
   "outputs": [
    {
     "name": "stdout",
     "output_type": "stream",
     "text": [
      "True\n",
      "True\n",
      "False\n",
      "False\n"
     ]
    }
   ],
   "source": [
    "# '==' comparison operator (data equality)\n",
    "# 'is' compares the identities (object equality)\n",
    "a = [1,2,3]\n",
    "b = a\n",
    "c = ['a',2,3]\n",
    "print(a == b) # True (same content)\n",
    "print(b is a) # True (same object in memory)\n",
    "\n",
    "print(a == c) # False (same content)\n",
    "print(a is c) # False (different objects in memory)"
   ]
  },
  {
   "cell_type": "code",
   "execution_count": 20,
   "id": "5af880f8-447a-41d2-814c-a8a625c87717",
   "metadata": {},
   "outputs": [
    {
     "name": "stdout",
     "output_type": "stream",
     "text": [
      "2375515348800\n",
      "2375515348800\n",
      "2375515347072\n"
     ]
    }
   ],
   "source": [
    "print(id(a))\n",
    "print(id(b))\n",
    "print(id(c))"
   ]
  },
  {
   "cell_type": "markdown",
   "id": "776afa9c-55e6-4af7-83b9-caba8702d704",
   "metadata": {},
   "source": [
    "## Order of Operations (PEMDAS / BODMAS):\n",
    "1. () Parentheses\n",
    "2. ** Exponent\n",
    "3. '*' '/' '//' '%' Mulitplication, Division\n",
    "4. '+' '-' Addition, Subtraction\n",
    "5. Bitwise Operations\n",
    "6. Comparisons\n",
    "7. Identity / Membership\n",
    "8. not > and > or (Logical Operators)"
   ]
  },
  {
   "cell_type": "code",
   "execution_count": 23,
   "id": "4f88bbef-ec24-4954-896a-12cd5f23c672",
   "metadata": {},
   "outputs": [
    {
     "name": "stdout",
     "output_type": "stream",
     "text": [
      "110\n",
      "-50\n",
      "True\n"
     ]
    }
   ],
   "source": [
    "cond1 = (10*3)+((10<<3)*(10%3)) # 30 + (80 * 1) = 110\n",
    "cond2 = (5**2)*((3//2)-(10%7)) # (25) * (1 - 3) => 25 * -2 = -50\n",
    "_bool = cond1 > cond2 # 110 > -50.0 # True\n",
    "print(cond1)\n",
    "print(cond2)\n",
    "print(_bool)"
   ]
  },
  {
   "cell_type": "code",
   "execution_count": 24,
   "id": "b1f45bc4-93d4-497a-b150-85733259782d",
   "metadata": {},
   "outputs": [
    {
     "name": "stdout",
     "output_type": "stream",
     "text": [
      "False\n",
      "True\n",
      "140710664419160\n",
      "2375497281584\n"
     ]
    }
   ],
   "source": [
    "print(cond1 is cond2) # False\n",
    "print(cond1 is not cond2) # True\n",
    "print(id(cond1)) # Memory Address\n",
    "print(id(cond2)) # Memory Address"
   ]
  },
  {
   "cell_type": "code",
   "execution_count": 25,
   "id": "38d04ba0-17b9-4958-a37b-d02d568eff9a",
   "metadata": {},
   "outputs": [
    {
     "name": "stdout",
     "output_type": "stream",
     "text": [
      "False\n"
     ]
    }
   ],
   "source": [
    "print(((5 + 3 * 2) * 2 // 5 % 4 << 1 | 3) & 15 > 10 and not (8 >> 2 == 2) or (7 ^ 3 != 4))"
   ]
  },
  {
   "cell_type": "code",
   "execution_count": 28,
   "id": "eb8ae78f-f4d7-4925-82ad-5dfc1fd2399a",
   "metadata": {},
   "outputs": [
    {
     "name": "stdout",
     "output_type": "stream",
     "text": [
      "(3, 4)\n"
     ]
    }
   ],
   "source": [
    "# Built in Functions\n",
    "result = divmod(19,5)\n",
    "print(result) # tuple(q,r) -> 'q' means quotient & 'r' means remainder"
   ]
  },
  {
   "cell_type": "code",
   "execution_count": 32,
   "id": "cc642ec3-ffb0-4ea0-8a90-1da81edba84c",
   "metadata": {},
   "outputs": [
    {
     "name": "stdout",
     "output_type": "stream",
     "text": [
      "19.46\n"
     ]
    }
   ],
   "source": [
    "print(round(19.4562,2))"
   ]
  },
  {
   "cell_type": "code",
   "execution_count": 34,
   "id": "0bb42c38-5b7e-4ebf-963e-cd98f498f1d3",
   "metadata": {},
   "outputs": [],
   "source": [
    "# Strings :\n",
    "# Indexing & Slicings\n",
    "# In Python Indexing starts from zero '0'\n",
    "# slicings [start : stop : step]"
   ]
  },
  {
   "cell_type": "code",
   "execution_count": 35,
   "id": "c9e94c78-c4e2-4104-887b-abd406f9bfcf",
   "metadata": {},
   "outputs": [
    {
     "name": "stdout",
     "output_type": "stream",
     "text": [
      "C\n",
      "g\n",
      " \n",
      "a\n",
      "N\n"
     ]
    }
   ],
   "source": [
    "# Indexing [position] -> positive 'l to r' / negative 'r to l'\n",
    "_str = \"Coding Ninja\"\n",
    "print(_str[0]) # 'C'\n",
    "print(_str[5]) # 'g'\n",
    "print(_str[6]) # ' '\n",
    "print(_str[-1]) # 'a'\n",
    "print(_str[-5]) # 'N'"
   ]
  },
  {
   "cell_type": "code",
   "execution_count": 36,
   "id": "7c0e42a2-3ea0-4fe6-ae0b-2b95b752756e",
   "metadata": {},
   "outputs": [
    {
     "name": "stdout",
     "output_type": "stream",
     "text": [
      "n\n",
      "o\n"
     ]
    }
   ],
   "source": [
    "print(_str[9]) # 'n'\n",
    "print(_str[-11]) # '0'"
   ]
  },
  {
   "cell_type": "raw",
   "id": "06041093-c4c8-42ef-b420-590a20989025",
   "metadata": {},
   "source": [
    "print(_str[15]) # IndexError: string index out of range"
   ]
  },
  {
   "cell_type": "code",
   "execution_count": 42,
   "id": "72bec0fc-848c-43f6-b34b-ecff9da6a364",
   "metadata": {},
   "outputs": [
    {
     "name": "stdout",
     "output_type": "stream",
     "text": [
      "Coding\n",
      "Ninja\n",
      "Cdn ij\n",
      "Ci n\n",
      "Coding Ninja\n"
     ]
    }
   ],
   "source": [
    "# Slicing [start [0] : stop [last char] , step [1]]\n",
    "_str = \"Coding Ninja\"\n",
    "print(_str[:6]) # 'Coding'\n",
    "print(_str[7:]) # 'Ninja'\n",
    "print(_str[0:12:2]) # 'Cdn ij'\n",
    "print(_str[0:12:3]) # 'Ci n'\n",
    "print(_str[:]) # 'Coding Ninja'"
   ]
  },
  {
   "cell_type": "code",
   "execution_count": 46,
   "id": "c855b52b-df07-44c4-9510-cc0c789354c9",
   "metadata": {},
   "outputs": [
    {
     "name": "stdout",
     "output_type": "stream",
     "text": [
      "a\n",
      "Cdn ij\n",
      "Coding Ninja\n"
     ]
    }
   ],
   "source": [
    "print(_str[11]) # 'a'\n",
    "print(_str[0:15:2]) # 'Cdn ij'\n",
    "print(_str[0:20]) # 'Coding Ninja'"
   ]
  },
  {
   "cell_type": "code",
   "execution_count": 47,
   "id": "6cf3dc02-7cf9-49ed-8368-bc763c8c9ab7",
   "metadata": {},
   "outputs": [
    {
     "name": "stdout",
     "output_type": "stream",
     "text": [
      "Ninja\n",
      "ajniN gnidoC\n"
     ]
    }
   ],
   "source": [
    "print(_str[-5:]) # 'Ninja'\n",
    "print(_str[::-1]) #reverse the string"
   ]
  },
  {
   "cell_type": "code",
   "execution_count": 48,
   "id": "d9208b66-c4f3-4013-99d7-278b283b4fbf",
   "metadata": {},
   "outputs": [
    {
     "name": "stdout",
     "output_type": "stream",
     "text": [
      "\n"
     ]
    }
   ],
   "source": [
    "print(_str[-3:0]) # ''"
   ]
  },
  {
   "cell_type": "code",
   "execution_count": 49,
   "id": "925bccfa-daeb-4a38-a166-0a6ca70cf46f",
   "metadata": {},
   "outputs": [
    {
     "name": "stdout",
     "output_type": "stream",
     "text": [
      "\n"
     ]
    }
   ],
   "source": [
    "print(_str[0:0]) # ''"
   ]
  },
  {
   "cell_type": "code",
   "execution_count": 50,
   "id": "51964cc2-8244-4d19-9636-daa33e6d401f",
   "metadata": {},
   "outputs": [
    {
     "name": "stdout",
     "output_type": "stream",
     "text": [
      "niN gnido\n"
     ]
    }
   ],
   "source": [
    "print(_str[-3:0:-1]) # 'niN gnido'"
   ]
  },
  {
   "cell_type": "code",
   "execution_count": 2,
   "id": "05614697-d0ce-4317-b1ec-92c803b14f0a",
   "metadata": {},
   "outputs": [
    {
     "name": "stdout",
     "output_type": "stream",
     "text": [
      "19\n"
     ]
    }
   ],
   "source": [
    "# String Case Methods\n",
    "_str = 'Python is Awesome 🔥'\n",
    "print(len(_str))"
   ]
  },
  {
   "cell_type": "code",
   "execution_count": 3,
   "id": "45d1507d-e18b-43e0-9454-55d6b1c59df7",
   "metadata": {},
   "outputs": [
    {
     "name": "stdout",
     "output_type": "stream",
     "text": [
      "PYTHON IS AWESOME 🔥\n"
     ]
    }
   ],
   "source": [
    "print(_str.upper())"
   ]
  },
  {
   "cell_type": "code",
   "execution_count": 4,
   "id": "e957e56c-eb83-4aa9-9afe-51b9f44bc4a1",
   "metadata": {},
   "outputs": [
    {
     "name": "stdout",
     "output_type": "stream",
     "text": [
      "python is awesome 🔥\n"
     ]
    }
   ],
   "source": [
    "print(_str.lower())"
   ]
  },
  {
   "cell_type": "code",
   "execution_count": 8,
   "id": "1de0174e-cbbb-4f98-bc8b-4918cf384f54",
   "metadata": {},
   "outputs": [
    {
     "name": "stdout",
     "output_type": "stream",
     "text": [
      "Python Is Awesome 🔥\n"
     ]
    }
   ],
   "source": [
    "print(_str.title()) # Convert the first letter of each word to uppercase and the rest to lowercase"
   ]
  },
  {
   "cell_type": "code",
   "execution_count": 9,
   "id": "07a3d288-82d0-4bd3-bab0-413cc33c64da",
   "metadata": {},
   "outputs": [
    {
     "name": "stdout",
     "output_type": "stream",
     "text": [
      "Python is awesome 🔥\n"
     ]
    }
   ],
   "source": [
    "print(_str.capitalize()) # Convert the first letter of whole sentence to uppercase and rest to lower"
   ]
  },
  {
   "cell_type": "code",
   "execution_count": 11,
   "id": "6fd3ba82-ed75-45b4-a066-51586f5c6eeb",
   "metadata": {},
   "outputs": [
    {
     "name": "stdout",
     "output_type": "stream",
     "text": [
      "Coding Ninjas\n"
     ]
    }
   ],
   "source": [
    "# String Operations\n",
    "str1 = 'Coding'\n",
    "str2 = 'Ninjas'\n",
    "new_string = str1 + ' ' + str2 # Concatenation\n",
    "print(new_string)"
   ]
  },
  {
   "cell_type": "code",
   "execution_count": 12,
   "id": "7dfcde08-c19f-44b5-962e-45812028a10a",
   "metadata": {},
   "outputs": [
    {
     "name": "stdout",
     "output_type": "stream",
     "text": [
      "Hi, Aditya, You are 29 year old.\n"
     ]
    }
   ],
   "source": [
    "name = 'Aditya'\n",
    "age = 29\n",
    "print(f'Hi, {name}, You are {age} year old.')"
   ]
  },
  {
   "cell_type": "code",
   "execution_count": 15,
   "id": "98348aa8-84cd-49a5-9350-74913b6ca39f",
   "metadata": {},
   "outputs": [
    {
     "name": "stdout",
     "output_type": "stream",
     "text": [
      "HiAditya, You are 29 year old.\n"
     ]
    }
   ],
   "source": [
    "# TypeError: can only concatenate str (not \"int\") to str\n",
    "name = 'Aditya'\n",
    "age = 29\n",
    "print('Hi' + name + ', You are ' + str(age) + ' year old.')"
   ]
  },
  {
   "cell_type": "code",
   "execution_count": 16,
   "id": "0103682d-39ff-4cd6-90e5-d960a9af01d6",
   "metadata": {},
   "outputs": [
    {
     "name": "stdout",
     "output_type": "stream",
     "text": [
      "<class 'int'>\n"
     ]
    }
   ],
   "source": [
    "print(type(age))"
   ]
  },
  {
   "cell_type": "code",
   "execution_count": 19,
   "id": "b8f1e2ee-d923-4192-89be-7472a259fdca",
   "metadata": {},
   "outputs": [
    {
     "name": "stdout",
     "output_type": "stream",
     "text": [
      "Ninjas\n",
      "Ninjas\n",
      "Ninjas\n",
      "\n"
     ]
    }
   ],
   "source": [
    "# Repeat (*)\n",
    "_echo = 'Ninjas\\n'\n",
    "print(_echo * 3)"
   ]
  },
  {
   "cell_type": "code",
   "execution_count": 20,
   "id": "1c769a50-8185-46bb-a847-ad1efc9b92e0",
   "metadata": {},
   "outputs": [
    {
     "name": "stdout",
     "output_type": "stream",
     "text": [
      "False\n",
      "True\n",
      "True\n",
      "False\n"
     ]
    }
   ],
   "source": [
    "# String Comparison\n",
    "_str1 = 'Python'\n",
    "_str2 = 'Java'\n",
    "print(_str1 == _str2) # False\n",
    "print(_str1 != _str2) # True\n",
    "print(_str1 >= _str2) # True\n",
    "print(_str1 <= _str2) # False"
   ]
  },
  {
   "cell_type": "code",
   "execution_count": 22,
   "id": "3dcf4082-a23d-4528-826a-5a5b3225a588",
   "metadata": {},
   "outputs": [
    {
     "name": "stdout",
     "output_type": "stream",
     "text": [
      "False\n",
      "True\n",
      "False\n",
      "True\n"
     ]
    }
   ],
   "source": [
    "_str1 = 'Swim'\n",
    "_str2 = 'Swimming'\n",
    "print(_str1 == _str2) # False\n",
    "print(_str1 != _str2) # True\n",
    "print(_str1 >= _str2) # False\n",
    "print(_str1 <= _str2) # True"
   ]
  },
  {
   "cell_type": "code",
   "execution_count": 23,
   "id": "5641cfb5-5437-45fc-a55e-c68e6cc4af37",
   "metadata": {},
   "outputs": [
    {
     "name": "stdout",
     "output_type": "stream",
     "text": [
      "False\n",
      "True\n",
      "True\n",
      "False\n"
     ]
    }
   ],
   "source": [
    "_str1 = 'coding'\n",
    "_str2 = 'Coding'\n",
    "print(_str1 == _str2) # False\n",
    "print(_str1 != _str2) # True\n",
    "print(_str1 >= _str2) # True\n",
    "print(_str1 <= _str2) # False"
   ]
  },
  {
   "cell_type": "code",
   "execution_count": 24,
   "id": "0546bd84-72ce-4207-90ac-836ea3affe0f",
   "metadata": {},
   "outputs": [
    {
     "name": "stdout",
     "output_type": "stream",
     "text": [
      "False\n",
      "True\n",
      "True\n",
      "False\n"
     ]
    }
   ],
   "source": [
    "_str1 = 'coding'\n",
    "_str2 = 'Zodiac'\n",
    "print(_str1 == _str2) # False\n",
    "print(_str1 != _str2) # True\n",
    "print(_str1 >= _str2) # True\n",
    "print(_str1 <= _str2) # False"
   ]
  },
  {
   "cell_type": "code",
   "execution_count": 25,
   "id": "a1cee084-ce8f-47a4-b695-bc4ace5773ae",
   "metadata": {},
   "outputs": [
    {
     "name": "stdout",
     "output_type": "stream",
     "text": [
      "False\n",
      "True\n",
      "True\n",
      "False\n"
     ]
    }
   ],
   "source": [
    "_str1 = 'cODING'\n",
    "_str2 = 'Coding'\n",
    "print(_str1 == _str2) # False\n",
    "print(_str1 != _str2) # True\n",
    "print(_str1 >= _str2) # True\n",
    "print(_str1 <= _str2) # False"
   ]
  },
  {
   "cell_type": "code",
   "execution_count": 26,
   "id": "0d55f110-12bf-41a5-bc64-beb963f66883",
   "metadata": {},
   "outputs": [
    {
     "name": "stdout",
     "output_type": "stream",
     "text": [
      "False\n",
      "True\n",
      "True\n",
      "False\n"
     ]
    }
   ],
   "source": [
    "_str1 = 'swim'\n",
    "_str2 = 'Swimming'\n",
    "print(_str1 == _str2) # False\n",
    "print(_str1 != _str2) # True\n",
    "print(_str1 >= _str2) # True\n",
    "print(_str1 <= _str2) # False"
   ]
  },
  {
   "cell_type": "raw",
   "id": "c74c0c85-3158-487f-8a2f-2723ccbef51c",
   "metadata": {},
   "source": [
    "'s' > 'S' [small character having greater ASCII Values > 'S' having low ASCII Value]\n",
    "length also plays an important role if the previous characters going to tie."
   ]
  },
  {
   "cell_type": "code",
   "execution_count": 27,
   "id": "8dfc5a71-5f64-4e84-9355-80eb7c9dea64",
   "metadata": {},
   "outputs": [
    {
     "name": "stdout",
     "output_type": "stream",
     "text": [
      "Python is Fantastic!\n"
     ]
    }
   ],
   "source": [
    "# Common String Methods\n",
    "# replace\n",
    "_str = 'Python is Awesome!'\n",
    "new_str = _str.replace('Awesome', 'Fantastic')\n",
    "print(new_str)"
   ]
  },
  {
   "cell_type": "code",
   "execution_count": 28,
   "id": "e0f659bb-f106-4641-85ab-055c1db1ee46",
   "metadata": {},
   "outputs": [
    {
     "name": "stdout",
     "output_type": "stream",
     "text": [
      "Python is Awesome!\n"
     ]
    }
   ],
   "source": [
    "print(_str)"
   ]
  },
  {
   "cell_type": "code",
   "execution_count": 29,
   "id": "27ce704c-b967-40ca-ac08-ae31bf6415a8",
   "metadata": {},
   "outputs": [
    {
     "name": "stdout",
     "output_type": "stream",
     "text": [
      "PythOn is AwesOme!\n"
     ]
    }
   ],
   "source": [
    "_str = 'Python is Awesome!'\n",
    "new_str = _str.replace('o','O')\n",
    "print(new_str)"
   ]
  },
  {
   "cell_type": "code",
   "execution_count": 30,
   "id": "720af06d-b3a7-425e-8a11-1704e0eb1cd6",
   "metadata": {},
   "outputs": [
    {
     "name": "stdout",
     "output_type": "stream",
     "text": [
      "['Indore', 'MadhyaPradesh', 'India']\n"
     ]
    }
   ],
   "source": [
    "# split()\n",
    "_text = 'Indore@MadhyaPradesh@India'\n",
    "print(_text.split('@'))"
   ]
  },
  {
   "cell_type": "code",
   "execution_count": 32,
   "id": "4b469b18-ea05-4263-bdf9-995effbff686",
   "metadata": {},
   "outputs": [
    {
     "name": "stdout",
     "output_type": "stream",
     "text": [
      "['SQL', 'Python', 'Excel', 'PowerBI']\n"
     ]
    }
   ],
   "source": [
    "topics = 'SQL*Python*Excel*PowerBI'\n",
    "topic_list = topics.split('*')\n",
    "print(topic_list)"
   ]
  },
  {
   "cell_type": "code",
   "execution_count": 41,
   "id": "73b115af-6166-477d-a826-6db5c0370f73",
   "metadata": {},
   "outputs": [
    {
     "data": {
      "text/plain": [
       "'Python'"
      ]
     },
     "execution_count": 41,
     "metadata": {},
     "output_type": "execute_result"
    }
   ],
   "source": [
    "topic_list[1]"
   ]
  },
  {
   "cell_type": "code",
   "execution_count": 44,
   "id": "6b38f5e9-f6a6-4c0e-bef6-62e0fd5cbad8",
   "metadata": {},
   "outputs": [
    {
     "name": "stdout",
     "output_type": "stream",
     "text": [
      "['ViratKohli', 'MSD', 'RohitSharma', 'Sachin']\n"
     ]
    }
   ],
   "source": [
    "split_str = \"ViratKohli MSD RohitSharma Sachin\"\n",
    "print(split_str.split())"
   ]
  },
  {
   "cell_type": "code",
   "execution_count": 45,
   "id": "05a34cd8-270a-4b22-a453-fcdb8d2b69b0",
   "metadata": {},
   "outputs": [
    {
     "name": "stdout",
     "output_type": "stream",
     "text": [
      "['http:', '', 'localhost:8889', 'notebooks', 'anaconda_projects', 'CN-Python-TTS', 'PythonSession.ipynb?']\n"
     ]
    }
   ],
   "source": [
    "file_path = \"http://localhost:8889/notebooks/anaconda_projects/CN-Python-TTS/PythonSession.ipynb?\"\n",
    "path_list = file_path.split('/')\n",
    "print(path_list)"
   ]
  },
  {
   "cell_type": "code",
   "execution_count": 49,
   "id": "e6aae3b0-748b-41d2-ae82-0d5bf9653afc",
   "metadata": {},
   "outputs": [
    {
     "name": "stdout",
     "output_type": "stream",
     "text": [
      "Hi, Jasaswini.... You are 27 years old. Congratulation! You are Female!\n"
     ]
    }
   ],
   "source": [
    "# String Format -> .format() / f-string\n",
    "name = 'Jasaswini'\n",
    "age = 27\n",
    "gender = 'Female'\n",
    "print('Hi, {}.... You are {} years old. Congratulation! You are {}!'.format(name,age,gender))"
   ]
  },
  {
   "cell_type": "code",
   "execution_count": 50,
   "id": "03bb85a0-dab8-4d08-a5df-712fc96dcfb1",
   "metadata": {},
   "outputs": [
    {
     "name": "stdout",
     "output_type": "stream",
     "text": [
      "Hi, Jasaswini.... You are 27 years old. Congratulation! You are Female!\n"
     ]
    }
   ],
   "source": [
    "# String Format -> .format() / f-string\n",
    "name = 'Jasaswini'\n",
    "age = 27\n",
    "gender = 'Female'\n",
    "print(f'Hi, {name}.... You are {age} years old. Congratulation! You are {gender}!')"
   ]
  },
  {
   "cell_type": "code",
   "execution_count": 51,
   "id": "f46fc7e4-ef39-44b4-a5f0-811bba5ce42b",
   "metadata": {},
   "outputs": [
    {
     "name": "stdout",
     "output_type": "stream",
     "text": [
      "Python Programming\n"
     ]
    }
   ],
   "source": [
    "# Strip() -> same like trim \n",
    "print('    Python Programming      '.strip())"
   ]
  },
  {
   "cell_type": "code",
   "execution_count": 52,
   "id": "c81380c2-cc03-4174-bc5a-72d4705dd332",
   "metadata": {},
   "outputs": [
    {
     "name": "stdout",
     "output_type": "stream",
     "text": [
      "Python Programming\n"
     ]
    }
   ],
   "source": [
    "# Strip() -> same like trim \n",
    "print('******Python Programming*******'.strip('*'))"
   ]
  },
  {
   "cell_type": "code",
   "execution_count": 53,
   "id": "f8519426-c584-4b2c-b803-cb36af647516",
   "metadata": {},
   "outputs": [
    {
     "name": "stdout",
     "output_type": "stream",
     "text": [
      "Python Programming\n"
     ]
    }
   ],
   "source": [
    "# Strip() -> same like trim \n",
    "print('******Python Programming'.strip('*'))"
   ]
  },
  {
   "cell_type": "code",
   "execution_count": 54,
   "id": "6ca4937f-99a1-4730-9bbd-d65b67da2ac5",
   "metadata": {},
   "outputs": [
    {
     "name": "stdout",
     "output_type": "stream",
     "text": [
      "Python Programming\n"
     ]
    }
   ],
   "source": [
    "# Strip() -> same like trim \n",
    "print('Python Programming********'.strip('*'))"
   ]
  },
  {
   "cell_type": "code",
   "execution_count": 55,
   "id": "3616f921-8f70-4d2a-bbbf-cae8ab04fa42",
   "metadata": {},
   "outputs": [
    {
     "name": "stdout",
     "output_type": "stream",
     "text": [
      "Python Programming\n"
     ]
    }
   ],
   "source": [
    "# Strip() -> same like trim \n",
    "print('$$$$$$$Python Programming********'.strip('*').strip('$'))"
   ]
  },
  {
   "cell_type": "code",
   "execution_count": 59,
   "id": "0644a45a-c251-4c3c-b809-306b4405c3f2",
   "metadata": {},
   "outputs": [
    {
     "name": "stdout",
     "output_type": "stream",
     "text": [
      "Python Programming\n"
     ]
    }
   ],
   "source": [
    "# Strip() -> same like trim \n",
    "print('$$$$$$$Python Programming********'.strip('*$'))"
   ]
  },
  {
   "cell_type": "code",
   "execution_count": 56,
   "id": "1f33e054-b4d4-45b2-a7ae-fb58b58bd6e9",
   "metadata": {},
   "outputs": [
    {
     "name": "stdout",
     "output_type": "stream",
     "text": [
      "2\n"
     ]
    }
   ],
   "source": [
    "# index() -> position \n",
    "_str = \"This is a Python Course!\"\n",
    "print(_str.index('is'))"
   ]
  },
  {
   "cell_type": "code",
   "execution_count": 62,
   "id": "9768b4be-0dac-4d1e-a02d-8c333490ee17",
   "metadata": {},
   "outputs": [
    {
     "name": "stdout",
     "output_type": "stream",
     "text": [
      "10\n"
     ]
    }
   ],
   "source": [
    "# index() -> position \n",
    "_str = \"This is a Python Course!\"\n",
    "# print(_str.index('python')) # ValueError: substring not found\n",
    "print(_str.index('Python')) "
   ]
  },
  {
   "cell_type": "code",
   "execution_count": 63,
   "id": "b8a7ae8e-25da-41e7-9b1b-f035febb7c2a",
   "metadata": {},
   "outputs": [
    {
     "name": "stdout",
     "output_type": "stream",
     "text": [
      "5\n",
      "5\n"
     ]
    }
   ],
   "source": [
    "# index() -> position \n",
    "_str = \"This is a Python Course!\"\n",
    "print(_str.index('is',3,10)) # index(substr,start,stop)\n",
    "print(_str.index('is',3)) # index(substr,start,stop)"
   ]
  },
  {
   "cell_type": "raw",
   "id": "cb3e1926-5b3c-47cf-a965-53874fb94bdd",
   "metadata": {},
   "source": [
    "index(substr, start = 0, stop = 'len(text)')"
   ]
  },
  {
   "cell_type": "code",
   "execution_count": 64,
   "id": "ab78413c-ad47-4307-bf53-562a9bbc6790",
   "metadata": {},
   "outputs": [
    {
     "name": "stdout",
     "output_type": "stream",
     "text": [
      "True\n",
      "False\n",
      "True\n",
      "False\n",
      "True\n",
      "True\n",
      "True\n",
      "False\n",
      "False\n",
      "mENTORSHIP pROGRAM!77\n"
     ]
    }
   ],
   "source": [
    "# String Checks() -> Returns Boolean Result\n",
    "print(\"CodingNinjas\".isalpha()) # True\n",
    "print(\"Ninja99\".isalpha()) # False\n",
    "print(\"Ninja99\".isalnum()) # True\n",
    "print(\"CodingNinja\".isupper()) # False\n",
    "print(\"CODING\".isupper()) # True\n",
    "print(\"coding\".islower()) # True\n",
    "print(\"123456789\".isnumeric()) # True\n",
    "print(\"coding123\".isnumeric()) # False\n",
    "print(\"coding123\".isnumeric()) # False\n",
    "print('Mentorship Program!77'.swapcase()) # lower -> upper & upper -> lower "
   ]
  },
  {
   "cell_type": "code",
   "execution_count": 65,
   "id": "4b3219c1-b4fe-489d-867d-6859e7380e9e",
   "metadata": {},
   "outputs": [
    {
     "name": "stdout",
     "output_type": "stream",
     "text": [
      "False\n",
      "True\n",
      "False\n",
      "False\n",
      "True\n",
      "True\n"
     ]
    }
   ],
   "source": [
    "# startswith (Boolean Return)\n",
    "_str = 'Hey, Welcome to the World of Programming!'\n",
    "print(_str.startswith('hey')) # False\n",
    "print(_str.startswith('Hey')) # True\n",
    "print(_str.startswith('Hello')) # False\n",
    "print(_str.startswith('Hi')) # False\n",
    "print(_str.startswith('H')) # True\n",
    "print(_str.startswith('Welcome',5)) # True"
   ]
  },
  {
   "cell_type": "code",
   "execution_count": 68,
   "id": "9c0d2c8c-8e06-4bca-a28d-b590c5e91532",
   "metadata": {},
   "outputs": [
    {
     "name": "stdout",
     "output_type": "stream",
     "text": [
      "False\n",
      "False\n",
      "True\n",
      "True\n",
      "True\n",
      "True\n",
      "True\n",
      "False\n"
     ]
    }
   ],
   "source": [
    "# endswith (Boolean Return)\n",
    "_str = 'Hey, Welcome to the World of Programming!'\n",
    "print(_str.endswith('hey')) # False\n",
    "print(_str.endswith('Program')) # False\n",
    "print(_str.endswith('Programming!')) # True\n",
    "print(_str.endswith('!')) # True\n",
    "print(_str.endswith('g!')) # True\n",
    "print(_str.endswith('ing!',-4)) # True\n",
    "print(_str.endswith('ing!')) # True\n",
    "print(_str.endswith('ing!',-3)) # False"
   ]
  },
  {
   "cell_type": "code",
   "execution_count": 69,
   "id": "8cbfcab2-5af8-4678-875f-31fd340cad01",
   "metadata": {},
   "outputs": [
    {
     "name": "stdout",
     "output_type": "stream",
     "text": [
      "2\n"
     ]
    }
   ],
   "source": [
    "# .count() -> 'substring' -> count the substring\n",
    "_str = \"This is a Python Course!\"\n",
    "print(_str.count('is'))"
   ]
  },
  {
   "cell_type": "code",
   "execution_count": 70,
   "id": "eaf4707a-e94a-4a60-b12a-0a37c87b6bcb",
   "metadata": {},
   "outputs": [
    {
     "name": "stdout",
     "output_type": "stream",
     "text": [
      "True\n"
     ]
    }
   ],
   "source": [
    "print('is' in _str)"
   ]
  },
  {
   "cell_type": "code",
   "execution_count": null,
   "id": "d4cffee7-90e5-45d0-be85-fb73bc981524",
   "metadata": {},
   "outputs": [],
   "source": []
  }
 ],
 "metadata": {
  "kernelspec": {
   "display_name": "Python [conda env:new.anaconda]",
   "language": "python",
   "name": "conda-env-new.anaconda-py"
  },
  "language_info": {
   "codemirror_mode": {
    "name": "ipython",
    "version": 3
   },
   "file_extension": ".py",
   "mimetype": "text/x-python",
   "name": "python",
   "nbconvert_exporter": "python",
   "pygments_lexer": "ipython3",
   "version": "3.12.7"
  }
 },
 "nbformat": 4,
 "nbformat_minor": 5
}
