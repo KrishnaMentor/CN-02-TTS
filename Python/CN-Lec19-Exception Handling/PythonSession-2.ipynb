{
 "cells": [
  {
   "cell_type": "markdown",
   "id": "37127eac-2612-40c3-9130-20e79fbf4b28",
   "metadata": {},
   "source": [
    "# Lambda Function : \n",
    "##### A lambda is a short, one-line anonymous function used for small operations without using def.\n",
    "\n",
    "### Syntax : \n",
    "- `lambda arguments: expression`"
   ]
  },
  {
   "cell_type": "code",
   "execution_count": 1,
   "id": "6119d0e6-633f-4354-830e-eabba02bb71e",
   "metadata": {},
   "outputs": [
    {
     "name": "stdout",
     "output_type": "stream",
     "text": [
      "121\n"
     ]
    }
   ],
   "source": [
    "square = lambda val : val ** 2\n",
    "print(square(11))"
   ]
  },
  {
   "cell_type": "code",
   "execution_count": 2,
   "id": "1a275686-af99-46d8-9c72-03c8eceda472",
   "metadata": {},
   "outputs": [
    {
     "data": {
      "text/plain": [
       "441"
      ]
     },
     "execution_count": 2,
     "metadata": {},
     "output_type": "execute_result"
    }
   ],
   "source": [
    "square(21)"
   ]
  },
  {
   "cell_type": "code",
   "execution_count": 3,
   "id": "19f8362a-9d16-40a3-b503-ad85d5a5338a",
   "metadata": {},
   "outputs": [
    {
     "data": {
      "text/plain": [
       "5.0"
      ]
     },
     "execution_count": 3,
     "metadata": {},
     "output_type": "execute_result"
    }
   ],
   "source": [
    "division = lambda a,b : a/b\n",
    "division(10,2)"
   ]
  },
  {
   "cell_type": "code",
   "execution_count": 4,
   "id": "19ded667-193b-4823-9bf0-ef7bc3ea460d",
   "metadata": {},
   "outputs": [
    {
     "data": {
      "text/plain": [
       "3.5"
      ]
     },
     "execution_count": 4,
     "metadata": {},
     "output_type": "execute_result"
    }
   ],
   "source": [
    "division(7,2)"
   ]
  },
  {
   "cell_type": "code",
   "execution_count": 6,
   "id": "1715a492-8d4d-497c-9438-8d8ad84f079a",
   "metadata": {},
   "outputs": [
    {
     "name": "stdout",
     "output_type": "stream",
     "text": [
      "2\n"
     ]
    }
   ],
   "source": [
    "remainder = lambda p,q : p % q\n",
    "result = remainder(17,3)\n",
    "print(result)"
   ]
  },
  {
   "cell_type": "code",
   "execution_count": 7,
   "id": "961e7d58-2ac8-49da-ae4a-ca804a4446ee",
   "metadata": {},
   "outputs": [
    {
     "data": {
      "text/plain": [
       "111"
      ]
     },
     "execution_count": 7,
     "metadata": {},
     "output_type": "execute_result"
    }
   ],
   "source": [
    "add_10 = lambda z : z + 10\n",
    "add_10(101)"
   ]
  },
  {
   "cell_type": "code",
   "execution_count": 8,
   "id": "4e95b015-876f-44e9-9a8b-ee92323df585",
   "metadata": {},
   "outputs": [
    {
     "data": {
      "text/plain": [
       "30"
      ]
     },
     "execution_count": 8,
     "metadata": {},
     "output_type": "execute_result"
    }
   ],
   "source": [
    "# Lambda with Higher Order Functions\n",
    "def multiplier_factory(factor):\n",
    "    return lambda val : val * factor\n",
    "\n",
    "triple_value = multiplier_factory(3) # lambda val : val * factor\n",
    "triple_value(10) # 30"
   ]
  },
  {
   "cell_type": "code",
   "execution_count": 9,
   "id": "9c9aed48-eb08-492c-b1db-5dac87383345",
   "metadata": {},
   "outputs": [
    {
     "data": {
      "text/plain": [
       "22"
      ]
     },
     "execution_count": 9,
     "metadata": {},
     "output_type": "execute_result"
    }
   ],
   "source": [
    "double_value = multiplier_factory(2) # factor = 2 \n",
    "# return lambda val : val * 2\n",
    "double_value(11)"
   ]
  },
  {
   "cell_type": "raw",
   "id": "37168485-2521-499a-bcd2-7ff7290b9785",
   "metadata": {},
   "source": [
    "try:\n",
    "    pass\n",
    "except <ErrorName> :\n",
    "    pass"
   ]
  },
  {
   "cell_type": "code",
   "execution_count": 10,
   "id": "6b276588-f7bc-48fb-8910-b4d29c67ae74",
   "metadata": {},
   "outputs": [
    {
     "name": "stdin",
     "output_type": "stream",
     "text": [
      "Please enter a Divisor:  10\n"
     ]
    },
    {
     "name": "stdout",
     "output_type": "stream",
     "text": [
      "The Calculated Value is 10.0.\n"
     ]
    }
   ],
   "source": [
    "try : \n",
    "    num = int(input(\"Please enter a Divisor: \"))\n",
    "    result = 100 / num\n",
    "    print(f\"The Calculated Value is {result}.\")\n",
    "except SyntaxError:\n",
    "    print(\"Fix the System\")"
   ]
  },
  {
   "cell_type": "code",
   "execution_count": 14,
   "id": "aa024ac4-deeb-4ac5-b2a9-2b6fcb4576d2",
   "metadata": {},
   "outputs": [
    {
     "name": "stdin",
     "output_type": "stream",
     "text": [
      "Please enter the Divisor: a\n"
     ]
    },
    {
     "name": "stdout",
     "output_type": "stream",
     "text": [
      "This is not a Valid Number, Please Enter the Digit Only...\n"
     ]
    }
   ],
   "source": [
    "try:\n",
    "    num = int(input(\"Please enter the Divisor:\"))\n",
    "    result = 100/num\n",
    "    print(f'The Calculated Values is {result}')\n",
    "except ValueError:\n",
    "    print(\"This is not a Valid Number, Please Enter the Digit Only...\")"
   ]
  },
  {
   "cell_type": "code",
   "execution_count": 17,
   "id": "8e1e990f-3aa6-4a0d-95fb-fe6819992cd2",
   "metadata": {},
   "outputs": [
    {
     "name": "stdin",
     "output_type": "stream",
     "text": [
      "Please enter the Divisor: 0\n"
     ]
    },
    {
     "name": "stdout",
     "output_type": "stream",
     "text": [
      "Division By Zero is not allowed...\n"
     ]
    }
   ],
   "source": [
    "try:\n",
    "    num = int(input(\"Please enter the Divisor:\"))\n",
    "    result = 100/num\n",
    "    print(f'The Calculated Values is {result}')\n",
    "except ValueError:\n",
    "    print(\"This is not a Valid Number, Please Enter the Digit Only...\")\n",
    "except ZeroDivisionError:\n",
    "    print(\"Division By Zero is not allowed...\")"
   ]
  },
  {
   "cell_type": "code",
   "execution_count": 18,
   "id": "4bd8661f-574f-4118-ab4d-4de239ca22f8",
   "metadata": {},
   "outputs": [
    {
     "name": "stdin",
     "output_type": "stream",
     "text": [
      "Please enter the Divisor: a\n"
     ]
    },
    {
     "name": "stdout",
     "output_type": "stream",
     "text": [
      "Please Enter A Valid Number and Avoid Dividing by Zero...\n"
     ]
    }
   ],
   "source": [
    "# Multiple Exception in one Block:\n",
    "try:\n",
    "    num = int(input(\"Please enter the Divisor:\"))\n",
    "    result = 100/num\n",
    "    print(f'The Calculated Values is {result}')\n",
    "except (ValueError, ZeroDivisionError):\n",
    "    print(\"Please Enter A Valid Number and Avoid Dividing by Zero...\")"
   ]
  },
  {
   "cell_type": "code",
   "execution_count": 19,
   "id": "fcbc67b9-8c18-4075-8639-32895e263fb7",
   "metadata": {},
   "outputs": [
    {
     "name": "stdin",
     "output_type": "stream",
     "text": [
      "Please enter the Divisor: 0\n"
     ]
    },
    {
     "name": "stdout",
     "output_type": "stream",
     "text": [
      "Please Enter A Valid Number and Avoid Dividing by Zero...\n"
     ]
    }
   ],
   "source": [
    "# Multiple Exception in one Block:\n",
    "try:\n",
    "    num = int(input(\"Please enter the Divisor:\"))\n",
    "    result = 100/num\n",
    "    print(f'The Calculated Values is {result}')\n",
    "except (ValueError, ZeroDivisionError):\n",
    "    print(\"Please Enter A Valid Number and Avoid Dividing by Zero...\")"
   ]
  },
  {
   "cell_type": "code",
   "execution_count": 28,
   "id": "cb8304b9-32e4-48e3-93e7-887d3229ea0f",
   "metadata": {},
   "outputs": [
    {
     "name": "stdin",
     "output_type": "stream",
     "text": [
      "Enter a Divisor: 0\n"
     ]
    },
    {
     "name": "stdout",
     "output_type": "stream",
     "text": [
      "Division By Zero is not allowed...\n"
     ]
    }
   ],
   "source": [
    "# Nested -> Try : Except:\n",
    "try:\n",
    "    val = int(input(\"Enter a Divisor:\"))\n",
    "    try:\n",
    "        ans = 50 / val\n",
    "        print(f\"Calculated Result : {ans}\")    \n",
    "    except ZeroDivisionError:\n",
    "        print(\"Division By Zero is not allowed...\") \n",
    "except ValueError :\n",
    "    print(\"This is not a Valid Number, Please Enter the Digit Only...\")\n",
    "except SyntaxError:\n",
    "    pass"
   ]
  },
  {
   "cell_type": "code",
   "execution_count": 31,
   "id": "74697015-3464-4b24-abf2-29a954eba470",
   "metadata": {},
   "outputs": [
    {
     "name": "stdin",
     "output_type": "stream",
     "text": [
      "Please enter the Divisor: 3\n"
     ]
    },
    {
     "name": "stdout",
     "output_type": "stream",
     "text": [
      "The Calculated Values is 33.333333333333336\n"
     ]
    }
   ],
   "source": [
    "# Avoiding error type is not recommended. Use Specific Exception names for clarity and debugging. \n",
    "try:\n",
    "    num = int(input(\"Please enter the Divisor:\"))\n",
    "    result = 100/num\n",
    "    print(f'The Calculated Values is {result}')\n",
    "except:\n",
    "    print(\"Please Enter A Valid Number and Avoid Dividing by Zero...\")"
   ]
  },
  {
   "cell_type": "code",
   "execution_count": 32,
   "id": "c70a8c6b-87dc-4abb-930e-b22ab197b433",
   "metadata": {},
   "outputs": [
    {
     "name": "stdin",
     "output_type": "stream",
     "text": [
      "Please enter the Divisor: 10\n"
     ]
    },
    {
     "name": "stdout",
     "output_type": "stream",
     "text": [
      "The Calculated Values is 10.0\n",
      "Operations Completed Successfully! The result is 10.0\n"
     ]
    }
   ],
   "source": [
    "try:\n",
    "    num = int(input(\"Please enter the Divisor:\"))\n",
    "    result = 100/num\n",
    "    print(f'The Calculated Values is {result}')\n",
    "except ValueError:\n",
    "    print(\"This is not a Valid Number, Please Enter the Digit Only...\")\n",
    "except ZeroDivisionError:\n",
    "    print(\"Division By Zero is not allowed...\")\n",
    "else:\n",
    "    print(f\"Operations Completed Successfully! The result is {result}\")"
   ]
  },
  {
   "cell_type": "code",
   "execution_count": 33,
   "id": "75371374-532d-4f91-b4ff-81288ef6f8bf",
   "metadata": {},
   "outputs": [
    {
     "name": "stdin",
     "output_type": "stream",
     "text": [
      "Please enter the Divisor: z\n"
     ]
    },
    {
     "name": "stdout",
     "output_type": "stream",
     "text": [
      "This is not a Valid Number, Please Enter the Digit Only...\n"
     ]
    }
   ],
   "source": [
    "try:\n",
    "    num = int(input(\"Please enter the Divisor:\"))\n",
    "    result = 100/num\n",
    "    print(f'The Calculated Values is {result}')\n",
    "except ValueError:\n",
    "    print(\"This is not a Valid Number, Please Enter the Digit Only...\")\n",
    "except ZeroDivisionError:\n",
    "    print(\"Division By Zero is not allowed...\")\n",
    "else:\n",
    "    print(f\"Operations Completed Successfully! The result is {result}\")"
   ]
  },
  {
   "cell_type": "code",
   "execution_count": 34,
   "id": "93fa33f8-4cdd-45aa-92df-3a92aaf15966",
   "metadata": {},
   "outputs": [
    {
     "name": "stdin",
     "output_type": "stream",
     "text": [
      "Enter a valid index:  7\n"
     ]
    },
    {
     "name": "stdout",
     "output_type": "stream",
     "text": [
      "IndexError: The Position you are trying to access doesn't exist....\n"
     ]
    }
   ],
   "source": [
    "# IndexError\n",
    "car_list = ['Taigun','Creta','Safari','Innova','Thar']\n",
    "try:\n",
    "    val = int(input(\"Enter a valid index: \"))\n",
    "    print(car_list[val]) # Index Error\n",
    "except IndexError:\n",
    "    print(\"IndexError: The Position you are trying to access doesn't exist....\")\n",
    "else:\n",
    "    print(\"Code Run Successfully....\")"
   ]
  },
  {
   "cell_type": "code",
   "execution_count": 35,
   "id": "a48b963b-28d1-4653-b618-461db94f5c4f",
   "metadata": {},
   "outputs": [
    {
     "name": "stdin",
     "output_type": "stream",
     "text": [
      "Enter a valid index:  -1\n"
     ]
    },
    {
     "name": "stdout",
     "output_type": "stream",
     "text": [
      "Thar\n",
      "Code Run Successfully....\n"
     ]
    }
   ],
   "source": [
    "# IndexError\n",
    "car_list = ['Taigun','Creta','Safari','Innova','Thar']\n",
    "try:\n",
    "    val = int(input(\"Enter a valid index: \"))\n",
    "    print(car_list[val]) # Index Error\n",
    "except IndexError:\n",
    "    print(\"IndexError: The Position you are trying to access doesn't exist....\")\n",
    "else:\n",
    "    print(\"Code Run Successfully....\")"
   ]
  },
  {
   "cell_type": "code",
   "execution_count": 37,
   "id": "bce4e91d-ccb3-477f-906e-4d061c9a0937",
   "metadata": {},
   "outputs": [
    {
     "name": "stdout",
     "output_type": "stream",
     "text": [
      "Attribute Error: 'dict' object has no method '.add' \n"
     ]
    }
   ],
   "source": [
    "# Attribute Error:\n",
    "person = {\n",
    "    'first_name' : 'Abhishek',\n",
    "    'age' : 29,\n",
    "    'city' : 'Kolkata'\n",
    "}\n",
    "try :\n",
    "     person.add('Country','India') # Attribute Error   \n",
    "except AttributeError:\n",
    "    print(\"Attribute Error: 'dict' object has no method '.add' \")\n",
    "else:\n",
    "    print('No Attribute Error Occurred, Your Try block Successfully run!')"
   ]
  },
  {
   "cell_type": "code",
   "execution_count": 38,
   "id": "49ec9f0f-7180-40bc-aa43-e8a6f4b754a2",
   "metadata": {},
   "outputs": [
    {
     "name": "stdout",
     "output_type": "stream",
     "text": [
      "{'first_name': 'Abhishek', 'age': 29, 'city': 'Kolkata', 'Country': 'India'}\n",
      "Key-Value Pair Added Successfully\n",
      "No Attribute Error Occurred, Your Try block Successfully run!\n"
     ]
    }
   ],
   "source": [
    "# Attribute Error:\n",
    "person = {\n",
    "    'first_name' : 'Abhishek',\n",
    "    'age' : 29,\n",
    "    'city' : 'Kolkata'\n",
    "}\n",
    "try :\n",
    "    person['Country'] = 'India' # Add Key Value Pair  \n",
    "    print(person)\n",
    "    print(\"Key-Value Pair Added Successfully\")\n",
    "except AttributeError:\n",
    "    print(\"Attribute Error: 'dict' object has no method '.add' \")\n",
    "else:\n",
    "    print('No Attribute Error Occurred, Your Try block Successfully run!')"
   ]
  },
  {
   "cell_type": "code",
   "execution_count": 44,
   "id": "fb30c47f-6620-45a0-b882-5071d4744f5e",
   "metadata": {},
   "outputs": [
    {
     "name": "stdout",
     "output_type": "stream",
     "text": [
      "The variable you are calling doesn't exist.\n"
     ]
    }
   ],
   "source": [
    "# NameError :\n",
    "person = {\n",
    "    'first_name' : 'Abhishek',\n",
    "    'age' : 29,\n",
    "    'city' : 'Kolkata'\n",
    "}\n",
    "try :\n",
    "    person['Country'] = 'India' # Add Key Value Pair  \n",
    "    print(Person)\n",
    "    print(\"Key-Value Pair Added Successfully\")\n",
    "except AttributeError:\n",
    "    print(\"Attribute Error: 'dict' object has no method '.add' \")\n",
    "except NameError:\n",
    "    print(\"The variable you are calling doesn't exist.\")\n",
    "else:\n",
    "    print('No Attribute Error Occurred, Your Try block Successfully run!')"
   ]
  },
  {
   "cell_type": "code",
   "execution_count": 45,
   "id": "000801cc-827f-4942-87d1-c55374b391ab",
   "metadata": {},
   "outputs": [
    {
     "name": "stdout",
     "output_type": "stream",
     "text": [
      "The Key, you are looking for, doesn't exist in the person dictionary!\n"
     ]
    }
   ],
   "source": [
    "# KeyError:\n",
    "person = {\n",
    "    'first_name' : 'Abhishek',\n",
    "    'age' : 29,\n",
    "    'city' : 'Kolkata'\n",
    "}\n",
    "try :\n",
    "    person['Country'] = 'India' # Add Key Value Pair  \n",
    "    print(person['City'])\n",
    "    print(\"Key-Value Pair Added Successfully\")\n",
    "except AttributeError:\n",
    "    print(\"Attribute Error: 'dict' object has no method '.add' \")\n",
    "except NameError:\n",
    "    print(\"The variable you are calling doesn't exist.\")\n",
    "except KeyError:\n",
    "    print(\"The Key, you are looking for, doesn't exist in the person dictionary!\")\n",
    "else:\n",
    "    print('No Attribute Error Occurred, Your Try block Successfully run!')"
   ]
  },
  {
   "cell_type": "code",
   "execution_count": 53,
   "id": "a0d3c721-ab61-4628-a8d9-5eb643f1c750",
   "metadata": {},
   "outputs": [
    {
     "name": "stdout",
     "output_type": "stream",
     "text": [
      "Taigun\n",
      "Creta\n",
      "Safari\n",
      "Innova\n",
      "Thar\n",
      "Code Run Successfully ✅\n"
     ]
    }
   ],
   "source": [
    "# Indentation Error:\n",
    "car_list = ['Taigun','Creta','Safari','Innova','Thar']\n",
    "try:\n",
    "    for car in car_list:\n",
    "        print(car)\n",
    "except:\n",
    "    print(\"A Regular Except Block....\")\n",
    "else:\n",
    "    print(\"Code Run Successfully ✅\")\n",
    "# except IndentationError: # Avoid \n",
    "  #  print(\"expected an indented block after 'for' statement\")"
   ]
  },
  {
   "cell_type": "code",
   "execution_count": 56,
   "id": "7121b460-cbac-4d5b-919a-993c8a97e942",
   "metadata": {},
   "outputs": [
    {
     "name": "stdout",
     "output_type": "stream",
     "text": [
      "Type Error\n"
     ]
    }
   ],
   "source": [
    "# Type Error\n",
    "try:\n",
    "    x = '5'\n",
    "    y = 3\n",
    "    print(x + y)\n",
    "except TypeError:\n",
    "    print(\"Type Error\")"
   ]
  },
  {
   "cell_type": "code",
   "execution_count": 57,
   "id": "9a2fc009-4683-4ffc-ae47-04884d5b81f2",
   "metadata": {},
   "outputs": [
    {
     "name": "stdout",
     "output_type": "stream",
     "text": [
      "{'first_name': 'Abhishek', 'age': 29, 'city': 'Kolkata', 'Country': 'India'}\n",
      "Key-Value Pair Added Successfully\n",
      "No Attribute Error Occurred, Your Try block Successfully run!\n",
      "Finally will always run... No Matter What? 😎 \n"
     ]
    }
   ],
   "source": [
    "# Try-Except-Else-Finally\n",
    "# KeyError:\n",
    "person = {\n",
    "    'first_name' : 'Abhishek',\n",
    "    'age' : 29,\n",
    "    'city' : 'Kolkata'\n",
    "}\n",
    "try :\n",
    "    person['Country'] = 'India' # Add Key Value Pair  \n",
    "    print(person)\n",
    "    print(\"Key-Value Pair Added Successfully\")\n",
    "except AttributeError:\n",
    "    print(\"Attribute Error: 'dict' object has no method '.add' \")\n",
    "except NameError:\n",
    "    print(\"The variable you are calling doesn't exist.\")\n",
    "except KeyError:\n",
    "    print(\"The Key, you are looking for, doesn't exist in the person dictionary!\")\n",
    "else:\n",
    "    print('No Attribute Error Occurred, Your Try block Successfully run!')\n",
    "finally:\n",
    "    print(\"Finally will always run... No Matter What? 😎 \")"
   ]
  },
  {
   "cell_type": "code",
   "execution_count": 58,
   "id": "af579c77-e9b8-4aaa-803f-1616ac691d62",
   "metadata": {},
   "outputs": [
    {
     "name": "stdout",
     "output_type": "stream",
     "text": [
      "Attribute Error: 'dict' object has no method '.add' \n",
      "Finally will always run... No Matter What? 😎 \n"
     ]
    }
   ],
   "source": [
    "# Try-Except-Else-Finally\n",
    "# KeyError:\n",
    "person = {\n",
    "    'first_name' : 'Abhishek',\n",
    "    'age' : 29,\n",
    "    'city' : 'Kolkata'\n",
    "}\n",
    "try :\n",
    "    person.add('Country' , 'India') # Attribute Error \n",
    "    print(person)\n",
    "    print(\"Key-Value Pair Added Successfully\")\n",
    "except AttributeError:\n",
    "    print(\"Attribute Error: 'dict' object has no method '.add' \")\n",
    "except NameError:\n",
    "    print(\"The variable you are calling doesn't exist.\")\n",
    "except KeyError:\n",
    "    print(\"The Key, you are looking for, doesn't exist in the person dictionary!\")\n",
    "else:\n",
    "    print('No Attribute Error Occurred, Your Try block Successfully run!')\n",
    "finally:\n",
    "    print(\"Finally will always run... No Matter What? 😎 \")"
   ]
  },
  {
   "cell_type": "code",
   "execution_count": 59,
   "id": "c670019c-ccc9-4f26-aab2-3b1366c8e8b0",
   "metadata": {},
   "outputs": [
    {
     "name": "stdin",
     "output_type": "stream",
     "text": [
      "Enter the valid marks :  -15\n"
     ]
    },
    {
     "ename": "ValueError",
     "evalue": "Marks Can't be negative.",
     "output_type": "error",
     "traceback": [
      "\u001b[1;31m---------------------------------------------------------------------------\u001b[0m",
      "\u001b[1;31mValueError\u001b[0m                                Traceback (most recent call last)",
      "Cell \u001b[1;32mIn[59], line 4\u001b[0m\n\u001b[0;32m      2\u001b[0m marks \u001b[38;5;241m=\u001b[39m \u001b[38;5;28mint\u001b[39m(\u001b[38;5;28minput\u001b[39m(\u001b[38;5;124m\"\u001b[39m\u001b[38;5;124mEnter the valid marks : \u001b[39m\u001b[38;5;124m\"\u001b[39m))\n\u001b[0;32m      3\u001b[0m \u001b[38;5;28;01mif\u001b[39;00m marks \u001b[38;5;241m<\u001b[39m \u001b[38;5;241m0\u001b[39m:\n\u001b[1;32m----> 4\u001b[0m     \u001b[38;5;28;01mraise\u001b[39;00m \u001b[38;5;167;01mValueError\u001b[39;00m(\u001b[38;5;124m\"\u001b[39m\u001b[38;5;124mMarks Can\u001b[39m\u001b[38;5;124m'\u001b[39m\u001b[38;5;124mt be negative.\u001b[39m\u001b[38;5;124m\"\u001b[39m)\n",
      "\u001b[1;31mValueError\u001b[0m: Marks Can't be negative."
     ]
    }
   ],
   "source": [
    "# Raise :\n",
    "marks = int(input(\"Enter the valid marks : \"))\n",
    "if marks < 0:\n",
    "    raise ValueError(\"Marks Can't be negative.\")"
   ]
  },
  {
   "cell_type": "code",
   "execution_count": 60,
   "id": "2ab54dc2-84b9-4875-b093-12b86a82d635",
   "metadata": {},
   "outputs": [
    {
     "name": "stdin",
     "output_type": "stream",
     "text": [
      "Enter the valid marks :  111\n"
     ]
    },
    {
     "ename": "ValueError",
     "evalue": "Score Exceeds the allowed Limit....",
     "output_type": "error",
     "traceback": [
      "\u001b[1;31m---------------------------------------------------------------------------\u001b[0m",
      "\u001b[1;31mValueError\u001b[0m                                Traceback (most recent call last)",
      "Cell \u001b[1;32mIn[60], line 3\u001b[0m\n\u001b[0;32m      1\u001b[0m marks \u001b[38;5;241m=\u001b[39m \u001b[38;5;28mint\u001b[39m(\u001b[38;5;28minput\u001b[39m(\u001b[38;5;124m\"\u001b[39m\u001b[38;5;124mEnter the valid marks : \u001b[39m\u001b[38;5;124m\"\u001b[39m))\n\u001b[0;32m      2\u001b[0m \u001b[38;5;28;01mif\u001b[39;00m marks \u001b[38;5;241m>\u001b[39m \u001b[38;5;241m100\u001b[39m:\n\u001b[1;32m----> 3\u001b[0m     \u001b[38;5;28;01mraise\u001b[39;00m \u001b[38;5;167;01mValueError\u001b[39;00m(\u001b[38;5;124m\"\u001b[39m\u001b[38;5;124mScore Exceeds the allowed Limit....\u001b[39m\u001b[38;5;124m\"\u001b[39m)\n",
      "\u001b[1;31mValueError\u001b[0m: Score Exceeds the allowed Limit...."
     ]
    }
   ],
   "source": [
    "marks = int(input(\"Enter the valid marks : \"))\n",
    "if marks > 100:\n",
    "    raise ValueError(\"Score Exceeds the allowed Limit....\")"
   ]
  },
  {
   "cell_type": "code",
   "execution_count": 61,
   "id": "6c2a28be-bd82-4d24-a406-98137cb2b22f",
   "metadata": {},
   "outputs": [
    {
     "name": "stdin",
     "output_type": "stream",
     "text": [
      "Enter the valid marks :  91\n"
     ]
    }
   ],
   "source": [
    "marks = int(input(\"Enter the valid marks : \"))\n",
    "if marks > 100:\n",
    "    raise ValueError(\"Score Exceeds the allowed Limit....\")"
   ]
  },
  {
   "cell_type": "code",
   "execution_count": 63,
   "id": "0865f90b-875f-4027-a6f9-0886accbb64c",
   "metadata": {},
   "outputs": [
    {
     "name": "stdin",
     "output_type": "stream",
     "text": [
      "Enter the Outside Temperature in degree celcius: 50\n"
     ]
    },
    {
     "ename": "ValueError",
     "evalue": "Temperature is above the safety threshold!",
     "output_type": "error",
     "traceback": [
      "\u001b[1;31m---------------------------------------------------------------------------\u001b[0m",
      "\u001b[1;31mValueError\u001b[0m                                Traceback (most recent call last)",
      "Cell \u001b[1;32mIn[63], line 3\u001b[0m\n\u001b[0;32m      1\u001b[0m temperature \u001b[38;5;241m=\u001b[39m \u001b[38;5;28mint\u001b[39m(\u001b[38;5;28minput\u001b[39m(\u001b[38;5;124m\"\u001b[39m\u001b[38;5;124mEnter the Outside Temperature in degree celcius:\u001b[39m\u001b[38;5;124m\"\u001b[39m))\n\u001b[0;32m      2\u001b[0m \u001b[38;5;28;01mif\u001b[39;00m temperature \u001b[38;5;241m>\u001b[39m \u001b[38;5;241m40\u001b[39m:\n\u001b[1;32m----> 3\u001b[0m     \u001b[38;5;28;01mraise\u001b[39;00m \u001b[38;5;167;01mValueError\u001b[39;00m(\u001b[38;5;124m\"\u001b[39m\u001b[38;5;124mTemperature is above the safety threshold!\u001b[39m\u001b[38;5;124m\"\u001b[39m)\n",
      "\u001b[1;31mValueError\u001b[0m: Temperature is above the safety threshold!"
     ]
    }
   ],
   "source": [
    "temperature = int(input(\"Enter the Outside Temperature in degree celcius:\"))\n",
    "if temperature > 40:\n",
    "    raise ValueError(\"Temperature is above the safety threshold!\")"
   ]
  },
  {
   "cell_type": "code",
   "execution_count": 64,
   "id": "f1acc602-7048-4570-b80e-7c88323839fc",
   "metadata": {},
   "outputs": [
    {
     "name": "stdin",
     "output_type": "stream",
     "text": [
      "Enter the Outside Temperature in degree celcius: 33\n"
     ]
    },
    {
     "name": "stdout",
     "output_type": "stream",
     "text": [
      "Temperature is below the safety threshold, no need to panic!\n"
     ]
    }
   ],
   "source": [
    "temperature = int(input(\"Enter the Outside Temperature in degree celcius:\"))\n",
    "if temperature < 40:\n",
    "    print(\"Temperature is below the safety threshold, no need to panic!\")\n",
    "else:\n",
    "    raise ValueError(\"Temperature is above the safety threshold!\")"
   ]
  },
  {
   "cell_type": "code",
   "execution_count": 65,
   "id": "7844ddee-015e-4d69-82cc-6e69836c35dd",
   "metadata": {},
   "outputs": [
    {
     "name": "stdin",
     "output_type": "stream",
     "text": [
      "Enter your current Age: 33\n"
     ]
    },
    {
     "ename": "ValueError",
     "evalue": "You are not eligible to apply for the exam",
     "output_type": "error",
     "traceback": [
      "\u001b[1;31m---------------------------------------------------------------------------\u001b[0m",
      "\u001b[1;31mValueError\u001b[0m                                Traceback (most recent call last)",
      "Cell \u001b[1;32mIn[65], line 4\u001b[0m\n\u001b[0;32m      2\u001b[0m age \u001b[38;5;241m=\u001b[39m \u001b[38;5;28mint\u001b[39m(\u001b[38;5;28minput\u001b[39m(\u001b[38;5;124m\"\u001b[39m\u001b[38;5;124mEnter your current Age:\u001b[39m\u001b[38;5;124m\"\u001b[39m))\n\u001b[0;32m      3\u001b[0m \u001b[38;5;28;01mif\u001b[39;00m age \u001b[38;5;241m>\u001b[39m \u001b[38;5;241m32\u001b[39m:\n\u001b[1;32m----> 4\u001b[0m     \u001b[38;5;28;01mraise\u001b[39;00m \u001b[38;5;167;01mValueError\u001b[39;00m(\u001b[38;5;124m\"\u001b[39m\u001b[38;5;124mYou are not eligible to apply for the exam\u001b[39m\u001b[38;5;124m\"\u001b[39m)\n\u001b[0;32m      5\u001b[0m \u001b[38;5;28;01melse\u001b[39;00m:\n\u001b[0;32m      6\u001b[0m     \u001b[38;5;28mprint\u001b[39m(\u001b[38;5;124m\"\u001b[39m\u001b[38;5;124mYou are perfectly Eligible......\u001b[39m\u001b[38;5;124m\"\u001b[39m)\n",
      "\u001b[1;31mValueError\u001b[0m: You are not eligible to apply for the exam"
     ]
    }
   ],
   "source": [
    "# Government Exam:\n",
    "age = int(input(\"Enter your current Age:\"))\n",
    "if age > 32:\n",
    "    raise ValueError(\"You are not eligible to apply for the exam\")\n",
    "else:\n",
    "    print(\"You are perfectly Eligible......\")"
   ]
  },
  {
   "cell_type": "code",
   "execution_count": 66,
   "id": "7895b909-2040-4bf5-b744-d64237de20fe",
   "metadata": {},
   "outputs": [
    {
     "name": "stdin",
     "output_type": "stream",
     "text": [
      "Enter your current Age: 25\n"
     ]
    },
    {
     "name": "stdout",
     "output_type": "stream",
     "text": [
      "You are perfectly Eligible......\n"
     ]
    }
   ],
   "source": [
    "# Government Exam:\n",
    "age = int(input(\"Enter your current Age:\"))\n",
    "if age > 32:\n",
    "    raise ValueError(\"You are not eligible to apply for the exam\")\n",
    "else:\n",
    "    print(\"You are perfectly Eligible......\")"
   ]
  },
  {
   "cell_type": "code",
   "execution_count": null,
   "id": "5e128379-2056-4517-8a6c-bcd96185ac9d",
   "metadata": {},
   "outputs": [],
   "source": []
  }
 ],
 "metadata": {
  "kernelspec": {
   "display_name": "Python [conda env:new.anaconda]",
   "language": "python",
   "name": "conda-env-new.anaconda-py"
  },
  "language_info": {
   "codemirror_mode": {
    "name": "ipython",
    "version": 3
   },
   "file_extension": ".py",
   "mimetype": "text/x-python",
   "name": "python",
   "nbconvert_exporter": "python",
   "pygments_lexer": "ipython3",
   "version": "3.12.7"
  }
 },
 "nbformat": 4,
 "nbformat_minor": 5
}
