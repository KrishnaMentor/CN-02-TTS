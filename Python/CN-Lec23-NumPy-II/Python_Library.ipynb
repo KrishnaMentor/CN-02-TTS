{
 "cells": [
  {
   "cell_type": "markdown",
   "id": "2f73d89a-88b9-4070-a1fa-a31b1c19e1b6",
   "metadata": {},
   "source": [
    "## What is Numpy?\n",
    "#### Numpy (Numerical Python) is a core library for scientific and numerical computing in Python.\n",
    "\n",
    "## Why use Numpy?\n",
    "- Fast : Works with Large, multi Dimensional Arrays stored in continuguous memory blocks\n",
    "- Effecient : Operations are optimized via 'C' under the hood.\n",
    "- Foundational : Powered with many Scientific Libraries (eg. Pandas, Scipy , Tensorflow)\n",
    "\n",
    "### Numpy Also:\n",
    "- offers the statistical tools like - mean, median, std, variance , etc.\n",
    "- Intergrates well with Visualization Libraries Like - Matplotlib."
   ]
  },
  {
   "cell_type": "raw",
   "id": "b4868bb3-edb4-435b-bee1-00961a439ecd",
   "metadata": {},
   "source": [
    "# Install\n",
    "conda install numpy\n",
    "OR\n",
    "pip install numpy"
   ]
  },
  {
   "cell_type": "code",
   "execution_count": 2,
   "id": "8cdcef62-7952-4e68-a008-fc900aa01073",
   "metadata": {
    "scrolled": true
   },
   "outputs": [
    {
     "data": {
      "text/plain": [
       "['ALLOW_THREADS',\n",
       " 'BUFSIZE',\n",
       " 'CLIP',\n",
       " 'DataSource',\n",
       " 'ERR_CALL',\n",
       " 'ERR_DEFAULT',\n",
       " 'ERR_IGNORE',\n",
       " 'ERR_LOG',\n",
       " 'ERR_PRINT',\n",
       " 'ERR_RAISE',\n",
       " 'ERR_WARN',\n",
       " 'FLOATING_POINT_SUPPORT',\n",
       " 'FPE_DIVIDEBYZERO',\n",
       " 'FPE_INVALID',\n",
       " 'FPE_OVERFLOW',\n",
       " 'FPE_UNDERFLOW',\n",
       " 'False_',\n",
       " 'Inf',\n",
       " 'Infinity',\n",
       " 'MAXDIMS',\n",
       " 'MAY_SHARE_BOUNDS',\n",
       " 'MAY_SHARE_EXACT',\n",
       " 'NAN',\n",
       " 'NINF',\n",
       " 'NZERO',\n",
       " 'NaN',\n",
       " 'PINF',\n",
       " 'PZERO',\n",
       " 'RAISE',\n",
       " 'RankWarning',\n",
       " 'SHIFT_DIVIDEBYZERO',\n",
       " 'SHIFT_INVALID',\n",
       " 'SHIFT_OVERFLOW',\n",
       " 'SHIFT_UNDERFLOW',\n",
       " 'ScalarType',\n",
       " 'True_',\n",
       " 'UFUNC_BUFSIZE_DEFAULT',\n",
       " 'UFUNC_PYVALS_NAME',\n",
       " 'WRAP',\n",
       " '_CopyMode',\n",
       " '_NoValue',\n",
       " '_UFUNC_API',\n",
       " '__NUMPY_SETUP__',\n",
       " '__all__',\n",
       " '__builtins__',\n",
       " '__cached__',\n",
       " '__config__',\n",
       " '__deprecated_attrs__',\n",
       " '__dir__',\n",
       " '__doc__',\n",
       " '__expired_functions__',\n",
       " '__file__',\n",
       " '__former_attrs__',\n",
       " '__future_scalars__',\n",
       " '__getattr__',\n",
       " '__loader__',\n",
       " '__name__',\n",
       " '__package__',\n",
       " '__path__',\n",
       " '__spec__',\n",
       " '__version__',\n",
       " '_add_newdoc_ufunc',\n",
       " '_builtins',\n",
       " '_distributor_init',\n",
       " '_financial_names',\n",
       " '_get_promotion_state',\n",
       " '_globals',\n",
       " '_int_extended_msg',\n",
       " '_mat',\n",
       " '_no_nep50_warning',\n",
       " '_pyinstaller_hooks_dir',\n",
       " '_pytesttester',\n",
       " '_set_promotion_state',\n",
       " '_specific_msg',\n",
       " '_typing',\n",
       " '_using_numpy2_behavior',\n",
       " '_utils',\n",
       " 'abs',\n",
       " 'absolute',\n",
       " 'add',\n",
       " 'add_docstring',\n",
       " 'add_newdoc',\n",
       " 'add_newdoc_ufunc',\n",
       " 'all',\n",
       " 'allclose',\n",
       " 'alltrue',\n",
       " 'amax',\n",
       " 'amin',\n",
       " 'angle',\n",
       " 'any',\n",
       " 'append',\n",
       " 'apply_along_axis',\n",
       " 'apply_over_axes',\n",
       " 'arange',\n",
       " 'arccos',\n",
       " 'arccosh',\n",
       " 'arcsin',\n",
       " 'arcsinh',\n",
       " 'arctan',\n",
       " 'arctan2',\n",
       " 'arctanh',\n",
       " 'argmax',\n",
       " 'argmin',\n",
       " 'argpartition',\n",
       " 'argsort',\n",
       " 'argwhere',\n",
       " 'around',\n",
       " 'array',\n",
       " 'array2string',\n",
       " 'array_equal',\n",
       " 'array_equiv',\n",
       " 'array_repr',\n",
       " 'array_split',\n",
       " 'array_str',\n",
       " 'asanyarray',\n",
       " 'asarray',\n",
       " 'asarray_chkfinite',\n",
       " 'ascontiguousarray',\n",
       " 'asfarray',\n",
       " 'asfortranarray',\n",
       " 'asmatrix',\n",
       " 'atleast_1d',\n",
       " 'atleast_2d',\n",
       " 'atleast_3d',\n",
       " 'average',\n",
       " 'bartlett',\n",
       " 'base_repr',\n",
       " 'binary_repr',\n",
       " 'bincount',\n",
       " 'bitwise_and',\n",
       " 'bitwise_not',\n",
       " 'bitwise_or',\n",
       " 'bitwise_xor',\n",
       " 'blackman',\n",
       " 'block',\n",
       " 'bmat',\n",
       " 'bool_',\n",
       " 'broadcast',\n",
       " 'broadcast_arrays',\n",
       " 'broadcast_shapes',\n",
       " 'broadcast_to',\n",
       " 'busday_count',\n",
       " 'busday_offset',\n",
       " 'busdaycalendar',\n",
       " 'byte',\n",
       " 'byte_bounds',\n",
       " 'bytes_',\n",
       " 'c_',\n",
       " 'can_cast',\n",
       " 'cast',\n",
       " 'cbrt',\n",
       " 'cdouble',\n",
       " 'ceil',\n",
       " 'cfloat',\n",
       " 'char',\n",
       " 'character',\n",
       " 'chararray',\n",
       " 'choose',\n",
       " 'clip',\n",
       " 'clongdouble',\n",
       " 'clongfloat',\n",
       " 'column_stack',\n",
       " 'common_type',\n",
       " 'compare_chararrays',\n",
       " 'compat',\n",
       " 'complex128',\n",
       " 'complex64',\n",
       " 'complex_',\n",
       " 'complexfloating',\n",
       " 'compress',\n",
       " 'concatenate',\n",
       " 'conj',\n",
       " 'conjugate',\n",
       " 'convolve',\n",
       " 'copy',\n",
       " 'copysign',\n",
       " 'copyto',\n",
       " 'corrcoef',\n",
       " 'correlate',\n",
       " 'cos',\n",
       " 'cosh',\n",
       " 'count_nonzero',\n",
       " 'cov',\n",
       " 'cross',\n",
       " 'csingle',\n",
       " 'ctypeslib',\n",
       " 'cumprod',\n",
       " 'cumproduct',\n",
       " 'cumsum',\n",
       " 'datetime64',\n",
       " 'datetime_as_string',\n",
       " 'datetime_data',\n",
       " 'deg2rad',\n",
       " 'degrees',\n",
       " 'delete',\n",
       " 'deprecate',\n",
       " 'deprecate_with_doc',\n",
       " 'diag',\n",
       " 'diag_indices',\n",
       " 'diag_indices_from',\n",
       " 'diagflat',\n",
       " 'diagonal',\n",
       " 'diff',\n",
       " 'digitize',\n",
       " 'disp',\n",
       " 'divide',\n",
       " 'divmod',\n",
       " 'dot',\n",
       " 'double',\n",
       " 'dsplit',\n",
       " 'dstack',\n",
       " 'dtype',\n",
       " 'dtypes',\n",
       " 'e',\n",
       " 'ediff1d',\n",
       " 'einsum',\n",
       " 'einsum_path',\n",
       " 'emath',\n",
       " 'empty',\n",
       " 'empty_like',\n",
       " 'equal',\n",
       " 'errstate',\n",
       " 'euler_gamma',\n",
       " 'exceptions',\n",
       " 'exp',\n",
       " 'exp2',\n",
       " 'expand_dims',\n",
       " 'expm1',\n",
       " 'expm1x',\n",
       " 'extract',\n",
       " 'eye',\n",
       " 'fabs',\n",
       " 'fastCopyAndTranspose',\n",
       " 'fft',\n",
       " 'fill_diagonal',\n",
       " 'find_common_type',\n",
       " 'finfo',\n",
       " 'fix',\n",
       " 'flatiter',\n",
       " 'flatnonzero',\n",
       " 'flexible',\n",
       " 'flip',\n",
       " 'fliplr',\n",
       " 'flipud',\n",
       " 'float16',\n",
       " 'float32',\n",
       " 'float64',\n",
       " 'float_',\n",
       " 'float_power',\n",
       " 'floating',\n",
       " 'floor',\n",
       " 'floor_divide',\n",
       " 'fmax',\n",
       " 'fmin',\n",
       " 'fmod',\n",
       " 'format_float_positional',\n",
       " 'format_float_scientific',\n",
       " 'format_parser',\n",
       " 'frexp',\n",
       " 'from_dlpack',\n",
       " 'frombuffer',\n",
       " 'fromfile',\n",
       " 'fromfunction',\n",
       " 'fromiter',\n",
       " 'frompyfunc',\n",
       " 'fromregex',\n",
       " 'fromstring',\n",
       " 'full',\n",
       " 'full_like',\n",
       " 'gcd',\n",
       " 'generic',\n",
       " 'genfromtxt',\n",
       " 'geomspace',\n",
       " 'get_array_wrap',\n",
       " 'get_include',\n",
       " 'get_printoptions',\n",
       " 'getbufsize',\n",
       " 'geterr',\n",
       " 'geterrcall',\n",
       " 'geterrobj',\n",
       " 'gradient',\n",
       " 'greater',\n",
       " 'greater_equal',\n",
       " 'half',\n",
       " 'hamming',\n",
       " 'hanning',\n",
       " 'heaviside',\n",
       " 'histogram',\n",
       " 'histogram2d',\n",
       " 'histogram_bin_edges',\n",
       " 'histogramdd',\n",
       " 'hsplit',\n",
       " 'hstack',\n",
       " 'hypot',\n",
       " 'i0',\n",
       " 'identity',\n",
       " 'iinfo',\n",
       " 'imag',\n",
       " 'in1d',\n",
       " 'index_exp',\n",
       " 'indices',\n",
       " 'inexact',\n",
       " 'inf',\n",
       " 'info',\n",
       " 'infty',\n",
       " 'inner',\n",
       " 'insert',\n",
       " 'int16',\n",
       " 'int32',\n",
       " 'int64',\n",
       " 'int8',\n",
       " 'int_',\n",
       " 'intc',\n",
       " 'integer',\n",
       " 'interp',\n",
       " 'intersect1d',\n",
       " 'intp',\n",
       " 'invert',\n",
       " 'is_busday',\n",
       " 'isclose',\n",
       " 'iscomplex',\n",
       " 'iscomplexobj',\n",
       " 'isfinite',\n",
       " 'isfortran',\n",
       " 'isin',\n",
       " 'isinf',\n",
       " 'isnan',\n",
       " 'isnat',\n",
       " 'isneginf',\n",
       " 'isposinf',\n",
       " 'isreal',\n",
       " 'isrealobj',\n",
       " 'isscalar',\n",
       " 'issctype',\n",
       " 'issubclass_',\n",
       " 'issubdtype',\n",
       " 'issubsctype',\n",
       " 'iterable',\n",
       " 'ix_',\n",
       " 'kaiser',\n",
       " 'kron',\n",
       " 'lcm',\n",
       " 'ldexp',\n",
       " 'left_shift',\n",
       " 'less',\n",
       " 'less_equal',\n",
       " 'lexsort',\n",
       " 'lib',\n",
       " 'linalg',\n",
       " 'linspace',\n",
       " 'little_endian',\n",
       " 'load',\n",
       " 'loadtxt',\n",
       " 'log',\n",
       " 'log10',\n",
       " 'log1p',\n",
       " 'log2',\n",
       " 'logaddexp',\n",
       " 'logaddexp2',\n",
       " 'logical_and',\n",
       " 'logical_not',\n",
       " 'logical_or',\n",
       " 'logical_xor',\n",
       " 'logspace',\n",
       " 'longcomplex',\n",
       " 'longdouble',\n",
       " 'longfloat',\n",
       " 'longlong',\n",
       " 'lookfor',\n",
       " 'ma',\n",
       " 'mask_indices',\n",
       " 'mat',\n",
       " 'matmul',\n",
       " 'matrix',\n",
       " 'max',\n",
       " 'maximum',\n",
       " 'maximum_sctype',\n",
       " 'may_share_memory',\n",
       " 'mean',\n",
       " 'median',\n",
       " 'memmap',\n",
       " 'meshgrid',\n",
       " 'mgrid',\n",
       " 'min',\n",
       " 'min_scalar_type',\n",
       " 'minimum',\n",
       " 'mintypecode',\n",
       " 'mod',\n",
       " 'modf',\n",
       " 'moveaxis',\n",
       " 'msort',\n",
       " 'multiply',\n",
       " 'nan',\n",
       " 'nan_to_num',\n",
       " 'nanargmax',\n",
       " 'nanargmin',\n",
       " 'nancumprod',\n",
       " 'nancumsum',\n",
       " 'nanmax',\n",
       " 'nanmean',\n",
       " 'nanmedian',\n",
       " 'nanmin',\n",
       " 'nanpercentile',\n",
       " 'nanprod',\n",
       " 'nanquantile',\n",
       " 'nanstd',\n",
       " 'nansum',\n",
       " 'nanvar',\n",
       " 'nbytes',\n",
       " 'ndarray',\n",
       " 'ndenumerate',\n",
       " 'ndim',\n",
       " 'ndindex',\n",
       " 'nditer',\n",
       " 'negative',\n",
       " 'nested_iters',\n",
       " 'newaxis',\n",
       " 'nextafter',\n",
       " 'nonzero',\n",
       " 'not_equal',\n",
       " 'numarray',\n",
       " 'number',\n",
       " 'obj2sctype',\n",
       " 'object_',\n",
       " 'ogrid',\n",
       " 'oldnumeric',\n",
       " 'ones',\n",
       " 'ones_like',\n",
       " 'outer',\n",
       " 'packbits',\n",
       " 'pad',\n",
       " 'partition',\n",
       " 'percentile',\n",
       " 'pi',\n",
       " 'piecewise',\n",
       " 'place',\n",
       " 'poly',\n",
       " 'poly1d',\n",
       " 'polyadd',\n",
       " 'polyder',\n",
       " 'polydiv',\n",
       " 'polyfit',\n",
       " 'polyint',\n",
       " 'polymul',\n",
       " 'polynomial',\n",
       " 'polysub',\n",
       " 'polyval',\n",
       " 'positive',\n",
       " 'power',\n",
       " 'printoptions',\n",
       " 'prod',\n",
       " 'product',\n",
       " 'promote_types',\n",
       " 'ptp',\n",
       " 'put',\n",
       " 'put_along_axis',\n",
       " 'putmask',\n",
       " 'quantile',\n",
       " 'r_',\n",
       " 'rad2deg',\n",
       " 'radians',\n",
       " 'random',\n",
       " 'ravel',\n",
       " 'ravel_multi_index',\n",
       " 'real',\n",
       " 'real_if_close',\n",
       " 'rec',\n",
       " 'recarray',\n",
       " 'recfromcsv',\n",
       " 'recfromtxt',\n",
       " 'reciprocal',\n",
       " 'record',\n",
       " 'remainder',\n",
       " 'repeat',\n",
       " 'require',\n",
       " 'reshape',\n",
       " 'resize',\n",
       " 'result_type',\n",
       " 'right_shift',\n",
       " 'rint',\n",
       " 'roll',\n",
       " 'rollaxis',\n",
       " 'roots',\n",
       " 'rot90',\n",
       " 'round',\n",
       " 'round_',\n",
       " 'row_stack',\n",
       " 's_',\n",
       " 'safe_eval',\n",
       " 'save',\n",
       " 'savetxt',\n",
       " 'savez',\n",
       " 'savez_compressed',\n",
       " 'sctype2char',\n",
       " 'sctypeDict',\n",
       " 'sctypes',\n",
       " 'searchsorted',\n",
       " 'select',\n",
       " 'set_numeric_ops',\n",
       " 'set_printoptions',\n",
       " 'set_string_function',\n",
       " 'setbufsize',\n",
       " 'setdiff1d',\n",
       " 'seterr',\n",
       " 'seterrcall',\n",
       " 'seterrobj',\n",
       " 'setxor1d',\n",
       " 'shape',\n",
       " 'shares_memory',\n",
       " 'short',\n",
       " 'show_config',\n",
       " 'show_runtime',\n",
       " 'sign',\n",
       " 'signbit',\n",
       " 'signedinteger',\n",
       " 'sin',\n",
       " 'sinc',\n",
       " 'single',\n",
       " 'singlecomplex',\n",
       " 'sinh',\n",
       " 'size',\n",
       " 'sometrue',\n",
       " 'sort',\n",
       " 'sort_complex',\n",
       " 'source',\n",
       " 'spacing',\n",
       " 'split',\n",
       " 'sqrt',\n",
       " 'square',\n",
       " 'squeeze',\n",
       " 'stack',\n",
       " 'std',\n",
       " 'str_',\n",
       " 'string_',\n",
       " 'subtract',\n",
       " 'sum',\n",
       " 'swapaxes',\n",
       " 'take',\n",
       " 'take_along_axis',\n",
       " 'tan',\n",
       " 'tanh',\n",
       " 'tensordot',\n",
       " 'test',\n",
       " 'testing',\n",
       " 'tile',\n",
       " 'timedelta64',\n",
       " 'trace',\n",
       " 'tracemalloc_domain',\n",
       " 'transpose',\n",
       " 'trapz',\n",
       " 'tri',\n",
       " 'tril',\n",
       " 'tril_indices',\n",
       " 'tril_indices_from',\n",
       " 'trim_zeros',\n",
       " 'triu',\n",
       " 'triu_indices',\n",
       " 'triu_indices_from',\n",
       " 'true_divide',\n",
       " 'trunc',\n",
       " 'typecodes',\n",
       " 'typename',\n",
       " 'ubyte',\n",
       " 'ufunc',\n",
       " 'uint',\n",
       " 'uint16',\n",
       " 'uint32',\n",
       " 'uint64',\n",
       " 'uint8',\n",
       " 'uintc',\n",
       " 'uintp',\n",
       " 'ulonglong',\n",
       " 'unicode_',\n",
       " 'union1d',\n",
       " 'unique',\n",
       " 'unpackbits',\n",
       " 'unravel_index',\n",
       " 'unsignedinteger',\n",
       " 'unwrap',\n",
       " 'ushort',\n",
       " 'vander',\n",
       " 'var',\n",
       " 'vdot',\n",
       " 'vectorize',\n",
       " 'version',\n",
       " 'void',\n",
       " 'vsplit',\n",
       " 'vstack',\n",
       " 'where',\n",
       " 'who',\n",
       " 'zeros',\n",
       " 'zeros_like']"
      ]
     },
     "execution_count": 2,
     "metadata": {},
     "output_type": "execute_result"
    }
   ],
   "source": [
    "import numpy as np\n",
    "dir(np)"
   ]
  },
  {
   "cell_type": "code",
   "execution_count": 3,
   "id": "17432649-a95d-444e-b3e3-ada61f627fda",
   "metadata": {},
   "outputs": [
    {
     "name": "stdout",
     "output_type": "stream",
     "text": [
      "[11 22 33 44 55 66 77 88 99]\n"
     ]
    }
   ],
   "source": [
    "num = np.array([11,22,33,44,55,66,77,88,99])\n",
    "print(num)"
   ]
  },
  {
   "cell_type": "code",
   "execution_count": 4,
   "id": "b045660b-9be7-4cb4-ba81-f98e4a568416",
   "metadata": {},
   "outputs": [
    {
     "data": {
      "text/plain": [
       "66"
      ]
     },
     "execution_count": 4,
     "metadata": {},
     "output_type": "execute_result"
    }
   ],
   "source": [
    "# Indexation starts with 0\n",
    "num[5] # 66"
   ]
  },
  {
   "cell_type": "code",
   "execution_count": 6,
   "id": "e9da94f0-293a-4871-bc41-56fcdec82749",
   "metadata": {},
   "outputs": [
    {
     "data": {
      "text/plain": [
       "99"
      ]
     },
     "execution_count": 6,
     "metadata": {},
     "output_type": "execute_result"
    }
   ],
   "source": [
    "num[-1] #99"
   ]
  },
  {
   "cell_type": "code",
   "execution_count": 8,
   "id": "9519e095-0dda-40b0-bf23-ad2b36778001",
   "metadata": {},
   "outputs": [
    {
     "data": {
      "text/plain": [
       "77"
      ]
     },
     "execution_count": 8,
     "metadata": {},
     "output_type": "execute_result"
    }
   ],
   "source": [
    "num[-3] # 77"
   ]
  },
  {
   "cell_type": "code",
   "execution_count": 9,
   "id": "42f70fa8-48bb-4b30-ba92-bfed39ec910b",
   "metadata": {},
   "outputs": [
    {
     "name": "stdout",
     "output_type": "stream",
     "text": [
      "[11 22 33 44 55 66 77 88 99]\n",
      "[11 22 33 44 55 66 77 88 99]\n"
     ]
    }
   ],
   "source": [
    "arr_from_list = np.array([11,22,33,44,55,66,77,88,99])\n",
    "arr_from_tuple = np.array((11,22,33,44,55,66,77,88,99))\n",
    "print(arr_from_list)\n",
    "print(arr_from_tuple)"
   ]
  },
  {
   "cell_type": "raw",
   "id": "fa794ba8-c2ab-4433-bebe-42ac74885c31",
   "metadata": {},
   "source": [
    "# Common Mistake : 9 arguments can't be fetched w.r.t 1 parameter -> we always have to pass iterable\n",
    "arr_from_tuple = np.array(11,22,33,44,55,66,77,88,99)\n",
    "# TypeError: array() takes from 1 to 2 positional arguments but 9 were given"
   ]
  },
  {
   "cell_type": "code",
   "execution_count": 15,
   "id": "24317d62-5457-4d91-b4f7-55bb195e64d4",
   "metadata": {},
   "outputs": [
    {
     "data": {
      "text/plain": [
       "array(11)"
      ]
     },
     "execution_count": 15,
     "metadata": {},
     "output_type": "execute_result"
    }
   ],
   "source": [
    "arr_from_tuple = np.array(11)\n",
    "arr_from_tuple "
   ]
  },
  {
   "cell_type": "code",
   "execution_count": 16,
   "id": "c2f7100f-3203-4852-b1a6-2e02a281bfc9",
   "metadata": {},
   "outputs": [
    {
     "name": "stdout",
     "output_type": "stream",
     "text": [
      "<class 'numpy.ndarray'>\n",
      "<class 'numpy.ndarray'>\n"
     ]
    }
   ],
   "source": [
    "print(type(arr_from_list))\n",
    "print(type(arr_from_tuple))"
   ]
  },
  {
   "cell_type": "code",
   "execution_count": 17,
   "id": "f42ce8d8-2cd5-4334-990e-2ba192ab3447",
   "metadata": {},
   "outputs": [
    {
     "data": {
      "text/plain": [
       "1"
      ]
     },
     "execution_count": 17,
     "metadata": {},
     "output_type": "execute_result"
    }
   ],
   "source": [
    "arr_from_list.ndim"
   ]
  },
  {
   "cell_type": "code",
   "execution_count": 18,
   "id": "f00036de-0fc0-4b96-b711-adc6df8bf329",
   "metadata": {},
   "outputs": [
    {
     "name": "stdout",
     "output_type": "stream",
     "text": [
      "['11' '121.9' 'True' 'k' 'Coding' '(11+5j)' '99']\n"
     ]
    }
   ],
   "source": [
    "# 1D Array\n",
    "arr_1d = np.array([11,121.9,True,'k','Coding',11+5j,99]) # mixed dtypes\n",
    "print(arr_1d)"
   ]
  },
  {
   "cell_type": "code",
   "execution_count": 19,
   "id": "57f29f08-c913-46e5-8243-a117de6e42d9",
   "metadata": {},
   "outputs": [
    {
     "data": {
      "text/plain": [
       "numpy.ndarray"
      ]
     },
     "execution_count": 19,
     "metadata": {},
     "output_type": "execute_result"
    }
   ],
   "source": [
    "type(arr_1d)"
   ]
  },
  {
   "cell_type": "code",
   "execution_count": 20,
   "id": "0834a680-4b51-4537-9b7d-6b86b1886fc8",
   "metadata": {},
   "outputs": [
    {
     "name": "stdout",
     "output_type": "stream",
     "text": [
      "<class 'numpy.ndarray'>\n"
     ]
    }
   ],
   "source": [
    "print(type(arr_1d))"
   ]
  },
  {
   "cell_type": "code",
   "execution_count": 22,
   "id": "d11c293e-4277-43b8-aba4-8180db9237e1",
   "metadata": {},
   "outputs": [
    {
     "data": {
      "text/plain": [
       "dtype('<U64')"
      ]
     },
     "execution_count": 22,
     "metadata": {},
     "output_type": "execute_result"
    }
   ],
   "source": [
    "arr_1d.dtype"
   ]
  },
  {
   "cell_type": "code",
   "execution_count": 23,
   "id": "b24ca10c-1816-4192-a20d-8e73e0a3809c",
   "metadata": {},
   "outputs": [
    {
     "data": {
      "text/plain": [
       "1"
      ]
     },
     "execution_count": 23,
     "metadata": {},
     "output_type": "execute_result"
    }
   ],
   "source": [
    "arr_1d.ndim"
   ]
  },
  {
   "cell_type": "code",
   "execution_count": 24,
   "id": "831489c9-96da-4e95-9f05-37569d82e1ea",
   "metadata": {},
   "outputs": [
    {
     "name": "stdout",
     "output_type": "stream",
     "text": [
      "[['11' '22' '33']\n",
      " ['a' 'b' 'c']\n",
      " ['True' 'False' 'True']\n",
      " ['learn' 'python' 'programming']\n",
      " ['9.99' '11.11' '77.77']]\n"
     ]
    }
   ],
   "source": [
    "# 2D Array [2 Dimensional] [rows, cols] (n*m) (5,3)\n",
    "arr_2d = np.array([\n",
    "   [11,22,33] ,\n",
    "   ['a','b','c'] ,\n",
    "   [True,False,True] ,\n",
    "   ['learn','python','programming'] ,\n",
    "   [9.99,11.11,77.77] \n",
    "]) # Mixed dtypes [maintaining 15 elements] [rows * cols] = 5*3 = 15\n",
    "print(arr_2d)"
   ]
  },
  {
   "cell_type": "code",
   "execution_count": 25,
   "id": "cceb1e8e-6749-4ad5-948e-7128477dce12",
   "metadata": {},
   "outputs": [
    {
     "name": "stdout",
     "output_type": "stream",
     "text": [
      "<class 'numpy.ndarray'>\n"
     ]
    }
   ],
   "source": [
    "print(type(arr_2d))"
   ]
  },
  {
   "cell_type": "code",
   "execution_count": 27,
   "id": "0a96b435-f45e-4087-86a3-6a8bff8d618c",
   "metadata": {},
   "outputs": [
    {
     "data": {
      "text/plain": [
       "dtype('<U32')"
      ]
     },
     "execution_count": 27,
     "metadata": {},
     "output_type": "execute_result"
    }
   ],
   "source": [
    "arr_2d.dtype"
   ]
  },
  {
   "cell_type": "code",
   "execution_count": 28,
   "id": "8e3745c5-dba7-4cce-b320-806a199ec126",
   "metadata": {},
   "outputs": [
    {
     "data": {
      "text/plain": [
       "2"
      ]
     },
     "execution_count": 28,
     "metadata": {},
     "output_type": "execute_result"
    }
   ],
   "source": [
    "arr_2d.ndim # 2"
   ]
  },
  {
   "cell_type": "code",
   "execution_count": 41,
   "id": "4658835b-e508-449d-8acf-27e186d115ab",
   "metadata": {},
   "outputs": [
    {
     "name": "stdout",
     "output_type": "stream",
     "text": [
      "['11' '121.9' 'True' 'k' 'Coding' '(11+5j)' '99'\n",
      " 'Awek$#@##@lkdsahbk2972ry3oFWuighaslk7238rghjv,cadbvdsck.hvalgbvsablviabha,dsbv12']\n"
     ]
    }
   ],
   "source": [
    "# 1D Array -> U32/U64 -> to the max length of a string\n",
    "arr_1d = np.array([11,121.9,True,'k','Coding',11+5j,99,\n",
    "                   'Awek$#@##@lkdsahbk2972ry3oFWuighaslk7238rghjv,cadbvdsck.hvalgbvsablviabha,dsbv12']) # mixed dtypes\n",
    "print(arr_1d)"
   ]
  },
  {
   "cell_type": "code",
   "execution_count": 42,
   "id": "9dd74ee8-ed68-414c-83e1-d06c22cfb706",
   "metadata": {},
   "outputs": [
    {
     "data": {
      "text/plain": [
       "dtype('<U80')"
      ]
     },
     "execution_count": 42,
     "metadata": {},
     "output_type": "execute_result"
    }
   ],
   "source": [
    "arr_1d.dtype"
   ]
  },
  {
   "cell_type": "code",
   "execution_count": 43,
   "id": "eb3cf49e-c400-49ee-9a2a-d065c647c40c",
   "metadata": {},
   "outputs": [
    {
     "name": "stdout",
     "output_type": "stream",
     "text": [
      "['Python Programming' 'Today, We are learning Numpy Array']\n"
     ]
    }
   ],
   "source": [
    "arr_1d = np.array(['Python Programming',\n",
    "                   'Today, We are learning Numpy Array']) # mixed dtypes\n",
    "print(arr_1d)"
   ]
  },
  {
   "cell_type": "code",
   "execution_count": 45,
   "id": "8b372703-e653-4b08-8ebe-f75e09a763ee",
   "metadata": {},
   "outputs": [
    {
     "data": {
      "text/plain": [
       "dtype('<U34')"
      ]
     },
     "execution_count": 45,
     "metadata": {},
     "output_type": "execute_result"
    }
   ],
   "source": [
    "arr_1d.dtype"
   ]
  },
  {
   "cell_type": "code",
   "execution_count": 46,
   "id": "f48c0a19-b0cc-46e5-9639-732ecf6c9af8",
   "metadata": {},
   "outputs": [
    {
     "name": "stdout",
     "output_type": "stream",
     "text": [
      "['Python Programming' '99' '77']\n"
     ]
    }
   ],
   "source": [
    "arr_1d = np.array(['Python Programming',99,77]) # mixed dtypes\n",
    "print(arr_1d)"
   ]
  },
  {
   "cell_type": "code",
   "execution_count": 47,
   "id": "81bdc7a4-7e97-4d7b-8b70-7fa10d4d82cd",
   "metadata": {},
   "outputs": [
    {
     "data": {
      "text/plain": [
       "dtype('<U18')"
      ]
     },
     "execution_count": 47,
     "metadata": {},
     "output_type": "execute_result"
    }
   ],
   "source": [
    "arr_1d.dtype"
   ]
  },
  {
   "cell_type": "code",
   "execution_count": 48,
   "id": "c5361a44-1737-4c33-b52d-ed71a00c9b5c",
   "metadata": {},
   "outputs": [
    {
     "name": "stdout",
     "output_type": "stream",
     "text": [
      "[[['1' '2' '3']\n",
      "  ['2' '4' '6']\n",
      "  ['1' '3' '5']]\n",
      "\n",
      " [['a' 'b' 'c']\n",
      "  ['d' 'e' 'f']\n",
      "  ['g' 'h' 'i']]\n",
      "\n",
      " [['True' 'True' 'True']\n",
      "  ['True' 'False' 'True']\n",
      "  ['False' 'False' 'False']]]\n"
     ]
    }
   ],
   "source": [
    "# 3D Array [3 Dimensional] [depth ,rows, cols] (d*n*m)  = Total Number of Elements\n",
    "# 3 depth , 3 rows , 3 columns\n",
    "arr_3d = np.array([\n",
    "    [[1,2,3],\n",
    "    [2,4,6],\n",
    "    [1,3,5]],\n",
    "    \n",
    "    [['a','b','c'],\n",
    "    ['d','e','f'],\n",
    "    ['g','h','i']],\n",
    "    \n",
    "    [[True,True,True],\n",
    "    [True,False,True],\n",
    "    [False,False,False]]\n",
    "])\n",
    "print(arr_3d)"
   ]
  },
  {
   "cell_type": "code",
   "execution_count": 49,
   "id": "346d23cb-72fd-4014-82ef-588a68004c06",
   "metadata": {},
   "outputs": [
    {
     "data": {
      "text/plain": [
       "numpy.ndarray"
      ]
     },
     "execution_count": 49,
     "metadata": {},
     "output_type": "execute_result"
    }
   ],
   "source": [
    "type(arr_3d)"
   ]
  },
  {
   "cell_type": "code",
   "execution_count": 50,
   "id": "bc543178-5a90-4c63-9135-2f7150ae8de1",
   "metadata": {},
   "outputs": [
    {
     "data": {
      "text/plain": [
       "dtype('<U11')"
      ]
     },
     "execution_count": 50,
     "metadata": {},
     "output_type": "execute_result"
    }
   ],
   "source": [
    "arr_3d.dtype"
   ]
  },
  {
   "cell_type": "code",
   "execution_count": 51,
   "id": "2543f21d-0857-447c-a375-1efbe1a68a0c",
   "metadata": {},
   "outputs": [
    {
     "data": {
      "text/plain": [
       "3"
      ]
     },
     "execution_count": 51,
     "metadata": {},
     "output_type": "execute_result"
    }
   ],
   "source": [
    "arr_3d.ndim"
   ]
  },
  {
   "cell_type": "code",
   "execution_count": 52,
   "id": "7821e400-14b7-49b4-82d8-9ae4fd9e2039",
   "metadata": {},
   "outputs": [
    {
     "name": "stdout",
     "output_type": "stream",
     "text": [
      "[1 2 3 4 5 6 7 8 9 9 8 7 6 5 4 3 2 1 1 2 3 4 5 6 7 8 9]\n"
     ]
    }
   ],
   "source": [
    "# 27 = 3*3*3\n",
    "arr_1d = np.array([1,2,3,4,5,6,7,8,9,9,8,7,6,5,4,3,2,1,1,2,3,4,5,6,7,8,9])\n",
    "print(arr_1d)"
   ]
  },
  {
   "cell_type": "code",
   "execution_count": 53,
   "id": "dc70577e-dd48-461e-a308-badeaa48c3f5",
   "metadata": {},
   "outputs": [
    {
     "data": {
      "text/plain": [
       "array([[[1, 2, 3],\n",
       "        [4, 5, 6],\n",
       "        [7, 8, 9]],\n",
       "\n",
       "       [[9, 8, 7],\n",
       "        [6, 5, 4],\n",
       "        [3, 2, 1]],\n",
       "\n",
       "       [[1, 2, 3],\n",
       "        [4, 5, 6],\n",
       "        [7, 8, 9]]])"
      ]
     },
     "execution_count": 53,
     "metadata": {},
     "output_type": "execute_result"
    }
   ],
   "source": [
    "# 3D reshape (depth,rows,cols) - (3,3,3)\n",
    "arr_1d.reshape(3,3,3)"
   ]
  },
  {
   "cell_type": "code",
   "execution_count": 55,
   "id": "47c84b96-34f4-4f93-b3f9-e938bf8418e7",
   "metadata": {},
   "outputs": [
    {
     "name": "stdout",
     "output_type": "stream",
     "text": [
      "[[11.   22.  ]\n",
      " [33.   44.  ]\n",
      " [55.   66.  ]\n",
      " [77.   88.  ]\n",
      " [99.   99.99]]\n"
     ]
    }
   ],
   "source": [
    "# Specifying Data Types [Upcasting]\n",
    "nested_list = np.array([\n",
    "    [11,22],\n",
    "    [33,44],\n",
    "    [55,66],\n",
    "    [77,88],\n",
    "    [99,99.99]\n",
    "])\n",
    "print(nested_list)"
   ]
  },
  {
   "cell_type": "code",
   "execution_count": 56,
   "id": "d3d7efa4-21d7-424f-b3d4-06bc73467525",
   "metadata": {},
   "outputs": [
    {
     "name": "stdout",
     "output_type": "stream",
     "text": [
      "[[ 11.  22.]\n",
      " [ 33.  44.]\n",
      " [ 55.  66.]\n",
      " [ 77.  88.]\n",
      " [ 99. 121.]]\n"
     ]
    }
   ],
   "source": [
    "nested_list = np.array([\n",
    "    [11,22],\n",
    "    [33,44],\n",
    "    [55,66],\n",
    "    [77,88],\n",
    "    [99,121]\n",
    "])\n",
    "float_arr = np.array(nested_list , dtype = float)\n",
    "print(float_arr)"
   ]
  },
  {
   "cell_type": "code",
   "execution_count": 57,
   "id": "ac3fcfc6-a84a-4f7c-afc9-9362b462f01d",
   "metadata": {},
   "outputs": [
    {
     "name": "stdout",
     "output_type": "stream",
     "text": [
      "[[ 11.    22.  ]\n",
      " [ 33.    44.  ]\n",
      " [ 55.    66.  ]\n",
      " [ 77.    88.  ]\n",
      " [ 99.99 121.  ]]\n"
     ]
    }
   ],
   "source": [
    "# upcast ['str'] VS dtype ['float']\n",
    "nested_list = np.array([\n",
    "    [11,22],\n",
    "    [33,44],\n",
    "    [55,66],\n",
    "    [77,88],\n",
    "    ['99.99','121']\n",
    "])\n",
    "float_arr = np.array(nested_list , dtype = float)\n",
    "print(float_arr)"
   ]
  },
  {
   "cell_type": "raw",
   "id": "ef7ddb42-de5c-40c6-887a-41b3362b2595",
   "metadata": {},
   "source": [
    "# upcast ['str'] VS dtype ['float']\n",
    "# ValueError: could not convert string to float: 'k'\n",
    "nested_list = np.array([\n",
    "    [11,22],\n",
    "    [33,44],\n",
    "    [55,66],\n",
    "    [77,88],\n",
    "    [99.99,'k']\n",
    "])\n",
    "float_arr = np.array(nested_list , dtype = float)\n",
    "print(float_arr)"
   ]
  },
  {
   "cell_type": "code",
   "execution_count": 62,
   "id": "cd7d6490-753d-4ba1-a9f9-b7b6861fc095",
   "metadata": {},
   "outputs": [
    {
     "name": "stdout",
     "output_type": "stream",
     "text": [
      "[[11. 22.]\n",
      " [33. 44.]\n",
      " [55. 66.]\n",
      " [77. 88.]\n",
      " [ 0.  1.]]\n"
     ]
    }
   ],
   "source": [
    "# upcast ['str'] VS dtype ['float']\n",
    "nested_list = np.array([\n",
    "    [11,22],\n",
    "    [33,44],\n",
    "    [55,66],\n",
    "    [77,88],\n",
    "    [False,True]\n",
    "])\n",
    "float_arr = np.array(nested_list , dtype = float)\n",
    "print(float_arr)"
   ]
  },
  {
   "cell_type": "code",
   "execution_count": 63,
   "id": "f88797f2-86ce-4a74-81ce-362e84fcf3d7",
   "metadata": {},
   "outputs": [
    {
     "data": {
      "text/plain": [
       "dtype('float64')"
      ]
     },
     "execution_count": 63,
     "metadata": {},
     "output_type": "execute_result"
    }
   ],
   "source": [
    "float_arr.dtype"
   ]
  },
  {
   "cell_type": "code",
   "execution_count": 64,
   "id": "d14e5d5c-f30b-4e05-a8b8-bb7e67ba9832",
   "metadata": {},
   "outputs": [
    {
     "data": {
      "text/plain": [
       "(27,)"
      ]
     },
     "execution_count": 64,
     "metadata": {},
     "output_type": "execute_result"
    }
   ],
   "source": [
    "# ndarray [N-Dimensional Array] -> [.shape]\n",
    "arr_1d.shape"
   ]
  },
  {
   "cell_type": "code",
   "execution_count": 65,
   "id": "d538d9bb-f2a4-47c8-b13f-5e64d63a91a5",
   "metadata": {},
   "outputs": [
    {
     "data": {
      "text/plain": [
       "(5, 3)"
      ]
     },
     "execution_count": 65,
     "metadata": {},
     "output_type": "execute_result"
    }
   ],
   "source": [
    "arr_2d.shape"
   ]
  },
  {
   "cell_type": "code",
   "execution_count": 67,
   "id": "c2d6b866-064b-421b-a2ce-68ca21d54bc9",
   "metadata": {},
   "outputs": [
    {
     "data": {
      "text/plain": [
       "(3, 3, 3)"
      ]
     },
     "execution_count": 67,
     "metadata": {},
     "output_type": "execute_result"
    }
   ],
   "source": [
    "arr_3d.shape # 3d [depth,rows,cols]"
   ]
  },
  {
   "cell_type": "code",
   "execution_count": 68,
   "id": "1761c18b-263b-4460-b3ae-972491353fb1",
   "metadata": {},
   "outputs": [
    {
     "data": {
      "text/plain": [
       "27"
      ]
     },
     "execution_count": 68,
     "metadata": {},
     "output_type": "execute_result"
    }
   ],
   "source": [
    "# .size Attribute -> Total Numbers of Elements \n",
    "arr_1d.size"
   ]
  },
  {
   "cell_type": "code",
   "execution_count": 69,
   "id": "9a81f63b-a5d0-42e4-a721-ca43714d11b3",
   "metadata": {},
   "outputs": [
    {
     "data": {
      "text/plain": [
       "15"
      ]
     },
     "execution_count": 69,
     "metadata": {},
     "output_type": "execute_result"
    }
   ],
   "source": [
    "arr_2d.size"
   ]
  },
  {
   "cell_type": "code",
   "execution_count": 70,
   "id": "095e0b36-ef5b-4322-9870-4ed6449ca5c2",
   "metadata": {},
   "outputs": [
    {
     "data": {
      "text/plain": [
       "27"
      ]
     },
     "execution_count": 70,
     "metadata": {},
     "output_type": "execute_result"
    }
   ],
   "source": [
    "arr_3d.size"
   ]
  },
  {
   "cell_type": "code",
   "execution_count": 71,
   "id": "9ce07f3d-a7c3-4bad-a6d6-1677a9226d4c",
   "metadata": {},
   "outputs": [
    {
     "name": "stdout",
     "output_type": "stream",
     "text": [
      "[ 1  2  3  4  5  6  7  8  9 10 11 12 13 14 15 16]\n"
     ]
    }
   ],
   "source": [
    "# Reshape 1D -> 4D [2,2,2,2] = 2*2*2*2 = 16 elements\n",
    "arr_1d = np.array([1,2,3,4,5,6,7,8,9,10,11,12,13,14,15,16])\n",
    "print(arr_1d)"
   ]
  },
  {
   "cell_type": "code",
   "execution_count": 72,
   "id": "3db344a9-8099-4fcc-af9b-970a689f1989",
   "metadata": {},
   "outputs": [
    {
     "data": {
      "text/plain": [
       "array([[[ 1,  2],\n",
       "        [ 3,  4],\n",
       "        [ 5,  6],\n",
       "        [ 7,  8]],\n",
       "\n",
       "       [[ 9, 10],\n",
       "        [11, 12],\n",
       "        [13, 14],\n",
       "        [15, 16]]])"
      ]
     },
     "execution_count": 72,
     "metadata": {},
     "output_type": "execute_result"
    }
   ],
   "source": [
    "arr_1d.reshape(2,4,2) # 3D"
   ]
  },
  {
   "cell_type": "code",
   "execution_count": 73,
   "id": "d03494d2-6052-4b3d-b332-32f3d4a5c360",
   "metadata": {},
   "outputs": [
    {
     "data": {
      "text/plain": [
       "array([[[ 1,  2,  3,  4],\n",
       "        [ 5,  6,  7,  8]],\n",
       "\n",
       "       [[ 9, 10, 11, 12],\n",
       "        [13, 14, 15, 16]]])"
      ]
     },
     "execution_count": 73,
     "metadata": {},
     "output_type": "execute_result"
    }
   ],
   "source": [
    "arr_1d.reshape(2,2,4) # 3D"
   ]
  },
  {
   "cell_type": "code",
   "execution_count": 74,
   "id": "44a734fd-3fe8-4168-ab65-3d5d0aeb23aa",
   "metadata": {},
   "outputs": [
    {
     "data": {
      "text/plain": [
       "array([[[[ 1,  2],\n",
       "         [ 3,  4]],\n",
       "\n",
       "        [[ 5,  6],\n",
       "         [ 7,  8]]],\n",
       "\n",
       "\n",
       "       [[[ 9, 10],\n",
       "         [11, 12]],\n",
       "\n",
       "        [[13, 14],\n",
       "         [15, 16]]]])"
      ]
     },
     "execution_count": 74,
     "metadata": {},
     "output_type": "execute_result"
    }
   ],
   "source": [
    "arr_1d.reshape(2,2,2,2) # 4D"
   ]
  },
  {
   "cell_type": "raw",
   "id": "0f03f72d-077f-4ee5-9b2d-ca05a60420f5",
   "metadata": {},
   "source": [
    "arr_1d.reshape(2,3,2) # 3D -> 12 elements\n",
    "ValueError: cannot reshape array of size 16 into shape (2,3,2)"
   ]
  },
  {
   "cell_type": "code",
   "execution_count": 1,
   "id": "15d4f511-b526-43a1-90b2-0c077a77de0a",
   "metadata": {},
   "outputs": [
    {
     "name": "stdout",
     "output_type": "stream",
     "text": [
      "4 bytes\n"
     ]
    }
   ],
   "source": [
    "# ndarray.itemsize Attribute -> Memory Size of Each Elements (in Bytes)\n",
    "import numpy as np\n",
    "arr_int = np.array([1,2,3,5,7,9,11,15,21,29,55,77,99] , dtype = int)\n",
    "print(arr_int.itemsize, \"bytes\")"
   ]
  },
  {
   "cell_type": "code",
   "execution_count": 2,
   "id": "b345d711-0e5c-474c-8ea8-715710f77593",
   "metadata": {},
   "outputs": [
    {
     "name": "stdout",
     "output_type": "stream",
     "text": [
      "8 bytes\n"
     ]
    }
   ],
   "source": [
    "arr_float = np.array([1.9999,2.1111,3,5,7,9,11,15,21,29,55,77.777,99.9999] , dtype = float)\n",
    "print(arr_float.itemsize, \"bytes\")"
   ]
  },
  {
   "cell_type": "code",
   "execution_count": 3,
   "id": "3471a98a-a48e-45d9-a4d4-27c38df2c38a",
   "metadata": {},
   "outputs": [
    {
     "name": "stdout",
     "output_type": "stream",
     "text": [
      "44 bytes\n"
     ]
    }
   ],
   "source": [
    "arr_str = np.array(['Coding','Python','Java','Programming','Numpy','Array'], dtype = str)\n",
    "print(arr_str.itemsize , \"bytes\")"
   ]
  },
  {
   "cell_type": "code",
   "execution_count": 4,
   "id": "42d6ef78-9b48-4d2d-b9c7-f2aa5b31c3cd",
   "metadata": {},
   "outputs": [
    {
     "name": "stdout",
     "output_type": "stream",
     "text": [
      "24 bytes\n"
     ]
    }
   ],
   "source": [
    "arr_str = np.array(['Coding','Python','Java','hello'], dtype = str)\n",
    "print(arr_str.itemsize , \"bytes\")"
   ]
  },
  {
   "cell_type": "code",
   "execution_count": 7,
   "id": "cbf751ce-177c-4cc5-b198-15bdf3d3fc0b",
   "metadata": {},
   "outputs": [
    {
     "name": "stdout",
     "output_type": "stream",
     "text": [
      "Data Buffer: <memory at 0x000001C2F3F6AB00>\n",
      "Type of Buffer: <class 'memoryview'>\n"
     ]
    }
   ],
   "source": [
    "# ndarray.data -> Memory Location [Buffer]\n",
    "arr = np.array([11,22,33,44,55,66,77])\n",
    "print(\"Data Buffer:\" , arr.data) # Memory Location\n",
    "print(\"Type of Buffer:\" , type(arr.data)) # Memory View"
   ]
  },
  {
   "cell_type": "code",
   "execution_count": 9,
   "id": "e31dfba6-9ad5-493d-94dc-237a9cd4c11a",
   "metadata": {},
   "outputs": [
    {
     "name": "stdout",
     "output_type": "stream",
     "text": [
      "33\n",
      "44\n",
      "11\n",
      "11\n"
     ]
    }
   ],
   "source": [
    "# Indexing, Slicing, Operations on Numpy Array\n",
    "arr_1d = np.array([11,22,33,44,55])\n",
    "print(arr_1d[2]) # 33\n",
    "print(arr_1d[-2]) # 44\n",
    "print(arr_1d[-5]) # 11\n",
    "# print(arr_1d[5]) # IndexError: index 5 is out of bounds for axis 0 with size 5\n",
    "print(arr_1d[0]) # 11"
   ]
  },
  {
   "cell_type": "code",
   "execution_count": 12,
   "id": "0eae9be7-254f-48c6-b8d2-47c108f433f5",
   "metadata": {},
   "outputs": [
    {
     "name": "stdout",
     "output_type": "stream",
     "text": [
      "1\n",
      "7\n",
      "0\n",
      "5\n",
      "5\n",
      "4\n"
     ]
    }
   ],
   "source": [
    "# reshape [4,5] 4 rows and 5 columns = [item size = row * col] = 4*5 = 20\n",
    "arr_2d = np.array([\n",
    "    [1,2,3,4,5],\n",
    "    [1,3,5,7,9],\n",
    "    [2,4,6,8,0],\n",
    "    [5,4,3,2,1]\n",
    "])\n",
    "# indexing[row,col]\n",
    "# print(arr_2d[5,0]) # IndexError: index 5 is out of bounds for axis 0 ['row'] with size 4\n",
    "print(arr_2d[-1,-1]) # 1\n",
    "# print(arr_2d[1,5]) # IndexError Col Index out of bounds for axis 1 ['col']\n",
    "print(arr_2d[-3,-2]) # 7 'Thala for a reason'\n",
    "print(arr_2d[2,4]) # 0 \n",
    "print(arr_2d[3,-5]) # 5\n",
    "# print(arr_2d[4,4]) # IndexError: index 4 is out of bounds for axis 0 with size 4\n",
    "print(arr_2d[-3,-3]) # 5\n",
    "print(arr_2d[-2,1]) # 4"
   ]
  },
  {
   "cell_type": "code",
   "execution_count": 14,
   "id": "4ad6d68b-cc5f-4699-bd50-83dd30e366f8",
   "metadata": {},
   "outputs": [
    {
     "name": "stdout",
     "output_type": "stream",
     "text": [
      "88\n",
      "11\n",
      "44\n",
      "77\n",
      "22\n",
      "44\n"
     ]
    }
   ],
   "source": [
    "# Shape of a 3D Array[2,3,4] => 2(depth), 3(rows), 4(columns)\n",
    "arr_3d = np.array([\n",
    "    [[11,22,33,44],\n",
    "     [22,44,66,88],\n",
    "     [11,33,55,77],\n",
    "    ],\n",
    "    [[66,77,88,99],\n",
    "     [11,55,77,99],\n",
    "     [22,44,66,88],\n",
    "    ]\n",
    "])\n",
    "# Indexing[depth,rows,cols]\n",
    "print(arr_3d[-1,2,3]) # 88\n",
    "print(arr_3d[-2,-3,-4]) # 11\n",
    "# print(arr_3d[0,3,2]) # IndexError: index 3 is out of bounds for axis 0 with size 3\n",
    "# print(arr_3d[-2,0,4]) # IndexError: index 4 is out of bounds for axis 1 with size 4\n",
    "print(arr_3d[1,2,-3]) # 44\n",
    "print(arr_3d[0,-1,-1]) # 77\n",
    "print(arr_3d[-2,1,-4]) # 22\n",
    "print(arr_3d[0,-3,3]) # 44"
   ]
  },
  {
   "cell_type": "code",
   "execution_count": 20,
   "id": "9bbe6a8b-f9c2-43a2-95d5-f3fec2ff1d85",
   "metadata": {},
   "outputs": [
    {
     "name": "stdout",
     "output_type": "stream",
     "text": [
      "[77 88 99]\n",
      "[77 66 55 44 33 22 11]\n",
      "[]\n",
      "[77 66 55]\n",
      "[77 66 55 44 33 22]\n",
      "[]\n",
      "[66 88]\n",
      "[99 77 55 33]\n",
      "[66 44 22]\n",
      "[]\n",
      "[66 88]\n"
     ]
    }
   ],
   "source": [
    "# Slicing [start = 0 , stop : till the length [Exclusive] , step = 1]\n",
    "arr_1d = np.array([11,22,33,44,55,66,77,88,99])\n",
    "print(arr_1d[-3:]) # [77,88,99]\n",
    "print(arr_1d[-3::-1]) # [77,.....11]\n",
    "print(arr_1d[-3:9:-1]) # []\n",
    "print(arr_1d[-3:-6:-1]) # [77,66,55]\n",
    "print(arr_1d[-3:0:-1]) # [77,66,55,44,33,22]\n",
    "print(arr_1d[5:4:2]) # []\n",
    "print(arr_1d[5:9:2]) # [66,88]\n",
    "print(arr_1d[8:0:-2]) # [99,77,55,33]\n",
    "print(arr_1d[-4::-2]) # [66,44,22]\n",
    "print(arr_1d[3:8:-3]) # []\n",
    "print(arr_1d[5:11:2]) # [66,88]"
   ]
  },
  {
   "cell_type": "code",
   "execution_count": 21,
   "id": "002b38cf-8a55-4f15-bb20-e7e43f3ad6d3",
   "metadata": {},
   "outputs": [
    {
     "name": "stdout",
     "output_type": "stream",
     "text": [
      "[[5 7]\n",
      " [6 8]]\n"
     ]
    }
   ],
   "source": [
    "# slicing[start,stop,step] -> arr_2d[rows_slicing , columns_slicing ]\n",
    "arr_2d = np.array([\n",
    "    [1,2,3,4,5],\n",
    "    [1,3,5,7,9],\n",
    "    [2,4,6,8,0],\n",
    "    [5,4,3,2,1]\n",
    "])\n",
    "\n",
    "print(arr_2d[1:3 , 2:4]) # [[5,7][6,8]]"
   ]
  },
  {
   "cell_type": "code",
   "execution_count": 22,
   "id": "f91a13d3-1082-4829-981b-d9a86908c153",
   "metadata": {},
   "outputs": [
    {
     "name": "stdout",
     "output_type": "stream",
     "text": [
      "[[7 5 3 1]\n",
      " [8 6 4 2]\n",
      " [2 3 4 5]]\n"
     ]
    }
   ],
   "source": [
    "print(arr_2d[-3::1 , 3::-1]) # [[7,5,3,1][8,6,4,2][2,3,4,5]]"
   ]
  },
  {
   "cell_type": "code",
   "execution_count": 23,
   "id": "ce38e720-dbb7-4cc8-b733-ee71bd06c477",
   "metadata": {},
   "outputs": [
    {
     "name": "stdout",
     "output_type": "stream",
     "text": [
      "[[4]\n",
      " [3]]\n"
     ]
    }
   ],
   "source": [
    "arr_2d = np.array([\n",
    "    [1,2,3,4,5],\n",
    "    [1,3,5,7,9],\n",
    "    [2,4,6,8,0],\n",
    "    [5,4,3,2,1]\n",
    "])\n",
    "\n",
    "print(arr_2d[3::-2 , 1:4:3]) # [[4][3]]\n",
    "# [5,4,3,2,1]\n",
    "# [1,3,5,7,9]"
   ]
  },
  {
   "cell_type": "code",
   "execution_count": 24,
   "id": "784fe91d-f08f-42f2-9dd3-cdbe4f3b1fb0",
   "metadata": {},
   "outputs": [
    {
     "name": "stdout",
     "output_type": "stream",
     "text": [
      "[]\n"
     ]
    }
   ],
   "source": [
    "arr_2d = np.array([\n",
    "    [1,2,3,4,5],\n",
    "    [1,3,5,7,9],\n",
    "    [2,4,6,8,0],\n",
    "    [5,4,3,2,1]\n",
    "])\n",
    "\n",
    "print(arr_2d[2:5 , 2:5:-2]) # []\n",
    "#  [2,4,6,8,0]\n",
    "#  [5,4,3,2,1]"
   ]
  },
  {
   "cell_type": "code",
   "execution_count": 25,
   "id": "d23f8d3e-4c61-44ef-b563-b3ab792bb9bc",
   "metadata": {},
   "outputs": [
    {
     "name": "stdout",
     "output_type": "stream",
     "text": [
      "[[6 0]\n",
      " [3 1]]\n"
     ]
    }
   ],
   "source": [
    "arr_2d = np.array([\n",
    "    [1,2,3,4,5],\n",
    "    [1,3,5,7,9],\n",
    "    [2,4,6,8,0],\n",
    "    [5,4,3,2,1]\n",
    "])\n",
    "\n",
    "print(arr_2d[2:5 , 2:5:2]) # [[6,0][3,1]]\n",
    "#  [2,4,6,8,0]\n",
    "#  [5,4,3,2,1]"
   ]
  },
  {
   "cell_type": "code",
   "execution_count": 26,
   "id": "0fdcd786-7fe3-4aa0-b4f1-8ab05e946810",
   "metadata": {},
   "outputs": [
    {
     "name": "stdout",
     "output_type": "stream",
     "text": [
      "[[5 3 1]\n",
      " [9 5 1]\n",
      " [0 6 2]\n",
      " [1 3 5]]\n"
     ]
    }
   ],
   "source": [
    "arr_2d = np.array([\n",
    "    [1,2,3,4,5],\n",
    "    [1,3,5,7,9],\n",
    "    [2,4,6,8,0],\n",
    "    [5,4,3,2,1]\n",
    "])\n",
    "\n",
    "print(arr_2d[:, ::-2])"
   ]
  },
  {
   "cell_type": "code",
   "execution_count": 27,
   "id": "f7de701b-d285-4847-afff-dddb2e8868f0",
   "metadata": {},
   "outputs": [
    {
     "name": "stdout",
     "output_type": "stream",
     "text": [
      "[[1 2 3 4 5]\n",
      " [0 8 6 4 2]\n",
      " [9 7 5 3 1]\n",
      " [5 4 3 2 1]]\n"
     ]
    }
   ],
   "source": [
    "arr_2d = np.array([\n",
    "    [1,2,3,4,5],\n",
    "    [1,3,5,7,9],\n",
    "    [2,4,6,8,0],\n",
    "    [5,4,3,2,1]\n",
    "])\n",
    "\n",
    "print(arr_2d[::-1, ::-1])\n",
    "# First Row Reverse\n",
    "# [5,4,3,2,1]\n",
    "# [2,4,6,8,0]\n",
    "# [1,3,5,7,9]\n",
    "# [1,2,3,4,5]\n",
    "\n",
    "# Then Column Reverse\n",
    "# [1,2,3,4,5]\n",
    "# [0,8,6,4,2]\n",
    "# [9,7,5,3,1]\n",
    "# [5,4,3,2,1]"
   ]
  },
  {
   "cell_type": "code",
   "execution_count": 28,
   "id": "ac5385b4-f947-475f-9287-c6545c19edd3",
   "metadata": {},
   "outputs": [
    {
     "data": {
      "text/plain": [
       "array([[[44, 33, 22, 11],\n",
       "        [88, 66, 44, 22],\n",
       "        [77, 55, 33, 11]],\n",
       "\n",
       "       [[99, 88, 77, 66],\n",
       "        [99, 77, 55, 11],\n",
       "        [88, 66, 44, 22]]])"
      ]
     },
     "execution_count": 28,
     "metadata": {},
     "output_type": "execute_result"
    }
   ],
   "source": [
    "# Slicing in 3D Array [depth,row,col] -> [depth_slicing , row_slicing , col_slicing]\n",
    "arr_3d = np.array([\n",
    "    [[11,22,33,44],\n",
    "     [22,44,66,88],\n",
    "     [11,33,55,77],\n",
    "    ],\n",
    "    [[66,77,88,99],\n",
    "     [11,55,77,99],\n",
    "     [22,44,66,88],\n",
    "    ]\n",
    "])\n",
    "arr_3d[:,:,::-1] # Complete 3D Array with reversed Columns"
   ]
  },
  {
   "cell_type": "code",
   "execution_count": 29,
   "id": "88c407a1-1cf8-4e5d-9813-0c421129faf5",
   "metadata": {},
   "outputs": [
    {
     "data": {
      "text/plain": [
       "array([[[99, 66],\n",
       "        [88, 22]]])"
      ]
     },
     "execution_count": 29,
     "metadata": {},
     "output_type": "execute_result"
    }
   ],
   "source": [
    "arr_3d = np.array([\n",
    "    [[11,22,33,44],\n",
    "     [22,44,66,88],\n",
    "     [11,33,55,77],\n",
    "    ],\n",
    "    [[66,77,88,99],\n",
    "     [11,55,77,99],\n",
    "     [22,44,66,88],\n",
    "    ]\n",
    "])\n",
    "arr_3d[1::2 , 0:3:2, ::-3] \n",
    "# Depth\n",
    "#      [66,77,88,99],\n",
    "#      [11,55,77,99],\n",
    "#      [22,44,66,88]\n",
    "\n",
    "# rows \n",
    "# [66,77,88,99]\n",
    "# [22,44,66,88]\n",
    "\n",
    "# Cols\n",
    "# [99,66]\n",
    "# [88,22]"
   ]
  },
  {
   "cell_type": "code",
   "execution_count": 31,
   "id": "4819bdbd-96c4-4df1-af9e-51256f7e83e9",
   "metadata": {},
   "outputs": [
    {
     "name": "stdout",
     "output_type": "stream",
     "text": [
      "11\n"
     ]
    },
    {
     "data": {
      "text/plain": [
       "array([[[11, 55]],\n",
       "\n",
       "       [[22, 66]]])"
      ]
     },
     "execution_count": 31,
     "metadata": {},
     "output_type": "execute_result"
    }
   ],
   "source": [
    "arr_3d = np.array([\n",
    "    [[11,22,33,44],\n",
    "     [22,44,66,88],\n",
    "     [11,33,55,77],\n",
    "    ],\n",
    "    [[66,77,88,99],\n",
    "     [11,55,77,99],\n",
    "     [22,44,66,88],\n",
    "    ]\n",
    "])\n",
    "print(arr_3d[-2,2,0]) #  11\n",
    "arr_3d[-2: , -1: , 0:3:2]\n",
    "\n",
    "# [11,33,55,77] # [11,55]\n",
    "# [22,44,66,88] # [22,66]"
   ]
  },
  {
   "cell_type": "code",
   "execution_count": 32,
   "id": "36a82423-c024-42e2-b1e6-4533c8420807",
   "metadata": {},
   "outputs": [
    {
     "data": {
      "text/plain": [
       "array([[44]])"
      ]
     },
     "execution_count": 32,
     "metadata": {},
     "output_type": "execute_result"
    }
   ],
   "source": [
    "arr_3d = np.array([\n",
    "    [[11,22,33,44],\n",
    "     [22,44,66,88],\n",
    "     [11,33,55,77],\n",
    "    ],\n",
    "    [[66,77,88,99],\n",
    "     [11,55,77,99],\n",
    "     [22,44,66,88],\n",
    "    ]\n",
    "])\n",
    "arr_3d[0, -2::2, -3::-2] # 44"
   ]
  },
  {
   "cell_type": "code",
   "execution_count": 33,
   "id": "cd625d10-a273-44da-8287-f07e8d264088",
   "metadata": {},
   "outputs": [
    {
     "data": {
      "text/plain": [
       "array([], shape=(1, 2, 0), dtype=int32)"
      ]
     },
     "execution_count": 33,
     "metadata": {},
     "output_type": "execute_result"
    }
   ],
   "source": [
    "arr_3d = np.array([\n",
    "    [[11,22,33,44],\n",
    "     [22,44,66,88],\n",
    "     [11,33,55,77],\n",
    "    ],\n",
    "    [[66,77,88,99],\n",
    "     [11,55,77,99],\n",
    "     [22,44,66,88],\n",
    "    ]\n",
    "])\n",
    "arr_3d[-2::2, ::-2 ,2:4:-1] # []"
   ]
  },
  {
   "cell_type": "code",
   "execution_count": 34,
   "id": "9720168d-adab-4c71-845b-94ac547fad6c",
   "metadata": {},
   "outputs": [
    {
     "data": {
      "text/plain": [
       "array([[[55, 77],\n",
       "        [33, 44]]])"
      ]
     },
     "execution_count": 34,
     "metadata": {},
     "output_type": "execute_result"
    }
   ],
   "source": [
    "arr_3d = np.array([\n",
    "    [[11,22,33,44],\n",
    "     [22,44,66,88],\n",
    "     [11,33,55,77],\n",
    "    ],\n",
    "    [[66,77,88,99],\n",
    "     [11,55,77,99],\n",
    "     [22,44,66,88],\n",
    "    ]\n",
    "])\n",
    "arr_3d[-2::2, ::-2 ,2:4:]"
   ]
  },
  {
   "cell_type": "code",
   "execution_count": 35,
   "id": "87e37b2f-223f-402e-a56f-f9bdceb865fb",
   "metadata": {},
   "outputs": [
    {
     "name": "stdout",
     "output_type": "stream",
     "text": [
      "[11 55 77 99]\n"
     ]
    }
   ],
   "source": [
    "# Masking -> Uses a boolean array of the same shape to filter the values. \n",
    "arr_1d = np.array([11,22,33,44,55,66,77,88,99])\n",
    "mask_arr = np.array([True,False,False,False,True,False,True,False,True])\n",
    "print(arr_1d[mask_arr]) # [11,55,77,99]"
   ]
  },
  {
   "cell_type": "code",
   "execution_count": 36,
   "id": "0e075027-6795-4cae-9d66-9d35b1123911",
   "metadata": {},
   "outputs": [
    {
     "name": "stdout",
     "output_type": "stream",
     "text": [
      "[1 3 4 5 3 5 9 2 6 8 5 2]\n"
     ]
    }
   ],
   "source": [
    "# arr_2d [Masking]\n",
    "arr_2d = np.array([\n",
    "    [1,2,3,4,5],\n",
    "    [1,3,5,7,9],\n",
    "    [2,4,6,8,0],\n",
    "    [5,4,3,2,1]\n",
    "])\n",
    "\n",
    "mask_2d = np.array([\n",
    "    [True,False,True,True,True],\n",
    "    [False,True,True,False,True],\n",
    "    [True,False,True,True,False],\n",
    "    [True,False,False,True,False]\n",
    "])\n",
    "print(arr_2d[mask_2d]) # Flatten up"
   ]
  },
  {
   "cell_type": "code",
   "execution_count": 37,
   "id": "db09f967-c3b5-403e-a54a-6de5b648e774",
   "metadata": {},
   "outputs": [
    {
     "name": "stdout",
     "output_type": "stream",
     "text": [
      "[11 44 44 66 11 55 88 99 11 55 44 88]\n"
     ]
    }
   ],
   "source": [
    "arr_3d = np.array([\n",
    "    [[11,22,33,44],\n",
    "     [22,44,66,88],\n",
    "     [11,33,55,77],\n",
    "    ],\n",
    "    [[66,77,88,99],\n",
    "     [11,55,77,99],\n",
    "     [22,44,66,88],\n",
    "    ]\n",
    "])\n",
    "\n",
    "mask_3d = np.array([\n",
    "    [[True,False,False,True],\n",
    "     [False,True,True,False],\n",
    "     [True,False,True,False],\n",
    "    ],\n",
    "    [[False,False,True,True],\n",
    "     [True,True,False,False],\n",
    "     [False,True,False,True],\n",
    "    ]\n",
    "])\n",
    "\n",
    "print(arr_3d[mask_3d])"
   ]
  },
  {
   "cell_type": "code",
   "execution_count": null,
   "id": "89798833-ff38-4995-9258-d833814d2777",
   "metadata": {},
   "outputs": [],
   "source": []
  },
  {
   "cell_type": "code",
   "execution_count": null,
   "id": "40df1b5a-d17e-4274-b96d-1064542dc390",
   "metadata": {},
   "outputs": [],
   "source": []
  },
  {
   "cell_type": "code",
   "execution_count": null,
   "id": "c58910ee-1ddd-435f-aa1c-d13c7b41343d",
   "metadata": {},
   "outputs": [],
   "source": []
  },
  {
   "cell_type": "code",
   "execution_count": null,
   "id": "d16750b6-9ce0-4c26-bffb-ee8cdf857fb2",
   "metadata": {},
   "outputs": [],
   "source": []
  }
 ],
 "metadata": {
  "kernelspec": {
   "display_name": "Python [conda env:new.anaconda]",
   "language": "python",
   "name": "conda-env-new.anaconda-py"
  },
  "language_info": {
   "codemirror_mode": {
    "name": "ipython",
    "version": 3
   },
   "file_extension": ".py",
   "mimetype": "text/x-python",
   "name": "python",
   "nbconvert_exporter": "python",
   "pygments_lexer": "ipython3",
   "version": "3.12.7"
  }
 },
 "nbformat": 4,
 "nbformat_minor": 5
}
